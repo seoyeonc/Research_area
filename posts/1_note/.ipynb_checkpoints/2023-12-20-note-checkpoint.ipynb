{
 "cells": [
  {
   "cell_type": "raw",
   "id": "31aef34e-8b9c-4665-99c4-84b22b8e9829",
   "metadata": {
    "id": "cac470df-29e7-4148-9bbd-d8b9a32fa570",
    "tags": []
   },
   "source": [
    "---\n",
    "title: \"Note 1\"\n",
    "author: \"SEOYEON CHOI\"\n",
    "date: \"2023-12-20\"\n",
    "---"
   ]
  },
  {
   "cell_type": "code",
   "execution_count": null,
   "id": "fad14626-f16e-496b-8a63-c976191682b6",
   "metadata": {},
   "outputs": [],
   "source": []
  }
 ],
 "metadata": {
  "kernelspec": {
   "display_name": "Python 3",
   "language": "python",
   "name": "python3"
  },
  "language_info": {
   "codemirror_mode": {
    "name": "ipython",
    "version": 3
   },
   "file_extension": ".py",
   "mimetype": "text/x-python",
   "name": "python",
   "nbconvert_exporter": "python",
   "pygments_lexer": "ipython3",
   "version": "3.8.0"
  }
 },
 "nbformat": 4,
 "nbformat_minor": 5
}
