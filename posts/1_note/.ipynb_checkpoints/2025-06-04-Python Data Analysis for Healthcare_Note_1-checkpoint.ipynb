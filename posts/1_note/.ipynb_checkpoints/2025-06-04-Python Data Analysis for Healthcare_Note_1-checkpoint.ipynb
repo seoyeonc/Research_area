{
 "cells": [
  {
   "cell_type": "raw",
   "id": "31aef34e-8b9c-4665-99c4-84b22b8e9829",
   "metadata": {
    "id": "cac470df-29e7-4148-9bbd-d8b9a32fa570",
    "tags": []
   },
   "source": [
    "---\n",
    "title: \"Python Data Analysis for Healthcare - Note 1\"\n",
    "author: \"SEOYEON CHOI\"\n",
    "date: \"2025-06-04\"\n",
    "---"
   ]
  },
  {
   "cell_type": "code",
   "execution_count": 22,
   "id": "fad14626-f16e-496b-8a63-c976191682b6",
   "metadata": {},
   "outputs": [],
   "source": [
    "import pandas as pd"
   ]
  },
  {
   "cell_type": "code",
   "execution_count": 26,
   "id": "e2449fe4-c0fe-49a9-8725-0b879d4dbcfb",
   "metadata": {
    "colab": {
     "base_uri": "https://localhost:8080/",
     "height": 234
    },
    "executionInfo": {
     "elapsed": 637,
     "status": "error",
     "timestamp": 1702409269507,
     "user": {
      "displayName": "Wuraola Oyewusi",
      "userId": "00359427092648181298"
     },
     "user_tz": 0
    },
    "id": "XJkIoNuif6oc",
    "outputId": "80f6149f-ae2a-4794-c083-da351a4dd1df"
   },
   "outputs": [
    {
     "data": {
      "text/html": [
       "<div>\n",
       "<style scoped>\n",
       "    .dataframe tbody tr th:only-of-type {\n",
       "        vertical-align: middle;\n",
       "    }\n",
       "\n",
       "    .dataframe tbody tr th {\n",
       "        vertical-align: top;\n",
       "    }\n",
       "\n",
       "    .dataframe thead th {\n",
       "        text-align: right;\n",
       "    }\n",
       "</style>\n",
       "<table border=\"1\" class=\"dataframe\">\n",
       "  <thead>\n",
       "    <tr style=\"text-align: right;\">\n",
       "      <th></th>\n",
       "      <th>0</th>\n",
       "    </tr>\n",
       "  </thead>\n",
       "  <tbody>\n",
       "    <tr>\n",
       "      <th>0</th>\n",
       "      <td>1. Acetaminophen Tablet (500 mg) - Analgesic</td>\n",
       "    </tr>\n",
       "    <tr>\n",
       "      <th>1</th>\n",
       "      <td>2. Ibuprofen Tablet (200 mg) - Nonsteroidal An...</td>\n",
       "    </tr>\n",
       "    <tr>\n",
       "      <th>2</th>\n",
       "      <td>3. Aspirin Tablet (81 mg) - Platelet Aggregati...</td>\n",
       "    </tr>\n",
       "    <tr>\n",
       "      <th>3</th>\n",
       "      <td>4. Naproxen Tablet (250 mg) - Nonsteroidal Ant...</td>\n",
       "    </tr>\n",
       "    <tr>\n",
       "      <th>4</th>\n",
       "      <td>5. Morphine Tablet (15 mg) - Opioid Analgesic</td>\n",
       "    </tr>\n",
       "    <tr>\n",
       "      <th>...</th>\n",
       "      <td>...</td>\n",
       "    </tr>\n",
       "    <tr>\n",
       "      <th>995</th>\n",
       "      <td>996. Alprostadil Urethral Suppository (250 mcg...</td>\n",
       "    </tr>\n",
       "    <tr>\n",
       "      <th>996</th>\n",
       "      <td>997. Phentolamine Injection (1 mg/mL) - Alpha-...</td>\n",
       "    </tr>\n",
       "    <tr>\n",
       "      <th>997</th>\n",
       "      <td>998. Papaverine Injection (30 mg/mL) - Vasodil...</td>\n",
       "    </tr>\n",
       "    <tr>\n",
       "      <th>998</th>\n",
       "      <td>999. Yohimbine Tablet (5.4 mg) - Alpha-2 Blocker</td>\n",
       "    </tr>\n",
       "    <tr>\n",
       "      <th>999</th>\n",
       "      <td>1000. L-Arginine Tablet (500 mg) - Amino Acid ...</td>\n",
       "    </tr>\n",
       "  </tbody>\n",
       "</table>\n",
       "<p>1000 rows × 1 columns</p>\n",
       "</div>"
      ],
      "text/plain": [
       "                                                     0\n",
       "0         1. Acetaminophen Tablet (500 mg) - Analgesic\n",
       "1    2. Ibuprofen Tablet (200 mg) - Nonsteroidal An...\n",
       "2    3. Aspirin Tablet (81 mg) - Platelet Aggregati...\n",
       "3    4. Naproxen Tablet (250 mg) - Nonsteroidal Ant...\n",
       "4        5. Morphine Tablet (15 mg) - Opioid Analgesic\n",
       "..                                                 ...\n",
       "995  996. Alprostadil Urethral Suppository (250 mcg...\n",
       "996  997. Phentolamine Injection (1 mg/mL) - Alpha-...\n",
       "997  998. Papaverine Injection (30 mg/mL) - Vasodil...\n",
       "998   999. Yohimbine Tablet (5.4 mg) - Alpha-2 Blocker\n",
       "999  1000. L-Arginine Tablet (500 mg) - Amino Acid ...\n",
       "\n",
       "[1000 rows x 1 columns]"
      ]
     },
     "execution_count": 26,
     "metadata": {},
     "output_type": "execute_result"
    }
   ],
   "source": [
    "df_med = pd.read_csv(\"../../../delete/1000 Generic Medication Names_NHC.txt\", delimiter='\\t',header=None)\n",
    "df_med"
   ]
  },
  {
   "cell_type": "markdown",
   "id": "31d73424-86ac-45c6-b725-80e8ff4e6d9e",
   "metadata": {},
   "source": [
    "> 텍스트가 탭`\\t`으로 나누어져 있기 때문에 구분자를 넣어서`delimiter='\\t'` 데이터를 불러와줘야 한다!"
   ]
  },
  {
   "cell_type": "code",
   "execution_count": 27,
   "id": "12d991a9-b884-4f51-a832-a2091963b675",
   "metadata": {
    "colab": {
     "base_uri": "https://localhost:8080/",
     "height": 35
    },
    "executionInfo": {
     "elapsed": 224,
     "status": "ok",
     "timestamp": 1702409424545,
     "user": {
      "displayName": "Wuraola Oyewusi",
      "userId": "00359427092648181298"
     },
     "user_tz": 0
    },
    "id": "MMC-CnMJgftA",
    "outputId": "7d923fc6-0748-4413-ae66-f35a79fe0a22"
   },
   "outputs": [
    {
     "data": {
      "text/plain": [
       "'1. Acetaminophen Tablet (500 mg) - Analgesic'"
      ]
     },
     "execution_count": 27,
     "metadata": {},
     "output_type": "execute_result"
    }
   ],
   "source": [
    "df_med[0][0]"
   ]
  },
  {
   "cell_type": "markdown",
   "id": "a4c6d316-8676-40d0-a0bf-1352f4f1a6c5",
   "metadata": {},
   "source": [
    "데이터를 나눠줘야 할 것으로 보인다."
   ]
  },
  {
   "cell_type": "code",
   "execution_count": 28,
   "id": "a087506d-706a-4e4d-acc5-d5b14ad00581",
   "metadata": {
    "colab": {
     "base_uri": "https://localhost:8080/"
    },
    "executionInfo": {
     "elapsed": 223,
     "status": "ok",
     "timestamp": 1702409439133,
     "user": {
      "displayName": "Wuraola Oyewusi",
      "userId": "00359427092648181298"
     },
     "user_tz": 0
    },
    "id": "JEdaAkTHgkut",
    "outputId": "d6abd8d1-1359-47cf-a26c-f35e1e0fd092"
   },
   "outputs": [
    {
     "data": {
      "text/plain": [
       "str"
      ]
     },
     "execution_count": 28,
     "metadata": {},
     "output_type": "execute_result"
    }
   ],
   "source": [
    "type(df_med[0][0])"
   ]
  },
  {
   "cell_type": "markdown",
   "id": "d0db92f5-38e2-4580-864d-a288ceaa4f32",
   "metadata": {},
   "source": [
    "데이터 타입은 str 문자열, string"
   ]
  },
  {
   "cell_type": "code",
   "execution_count": 29,
   "id": "753797d3-eff5-495e-944f-6771fb695ef8",
   "metadata": {
    "colab": {
     "base_uri": "https://localhost:8080/"
    },
    "executionInfo": {
     "elapsed": 219,
     "status": "ok",
     "timestamp": 1702409459459,
     "user": {
      "displayName": "Wuraola Oyewusi",
      "userId": "00359427092648181298"
     },
     "user_tz": 0
    },
    "id": "Nd6J6l90goTK",
    "outputId": "d07f5800-4b85-4f19-9457-9ca5aded6e9c"
   },
   "outputs": [
    {
     "data": {
      "text/plain": [
       "['1', ' Acetaminophen Tablet (500 mg) - Analgesic']"
      ]
     },
     "execution_count": 29,
     "metadata": {},
     "output_type": "execute_result"
    }
   ],
   "source": [
    "df_med[0][0].split(\".\")"
   ]
  },
  {
   "cell_type": "markdown",
   "id": "17bb5b76-c079-4e62-b400-81e6bf28860c",
   "metadata": {},
   "source": [
    "구분자를 `.`으로 해서 나눠주면 1.이랑 분리됌"
   ]
  },
  {
   "cell_type": "code",
   "execution_count": 30,
   "id": "60a63717-1846-4624-95f3-c8bf91f45650",
   "metadata": {
    "colab": {
     "base_uri": "https://localhost:8080/"
    },
    "executionInfo": {
     "elapsed": 233,
     "status": "ok",
     "timestamp": 1702409476694,
     "user": {
      "displayName": "Wuraola Oyewusi",
      "userId": "00359427092648181298"
     },
     "user_tz": 0
    },
    "id": "GAlRsIh3gtPQ",
    "outputId": "87948c91-9ee7-43c3-927f-174c3ba82cb0"
   },
   "outputs": [
    {
     "data": {
      "text/plain": [
       "['1. Acetaminophen Tablet (500 mg) ', ' Analgesic']"
      ]
     },
     "execution_count": 30,
     "metadata": {},
     "output_type": "execute_result"
    }
   ],
   "source": [
    "df_med[0][0].split(\"-\")"
   ]
  },
  {
   "cell_type": "markdown",
   "id": "71569fd4-7497-4aea-8f43-7cc721ade178",
   "metadata": {},
   "source": [
    "구분자를 `-`으로 해서 나눠주면 앞 뒤로 구분됌"
   ]
  },
  {
   "cell_type": "code",
   "execution_count": 31,
   "id": "695be2e3-8723-4f4d-b326-af08119b484a",
   "metadata": {
    "colab": {
     "base_uri": "https://localhost:8080/"
    },
    "executionInfo": {
     "elapsed": 10,
     "status": "ok",
     "timestamp": 1702409527300,
     "user": {
      "displayName": "Wuraola Oyewusi",
      "userId": "00359427092648181298"
     },
     "user_tz": 0
    },
    "id": "0qcXmV46gxd1",
    "outputId": "b25bba44-67dc-402a-f87c-8b9e6c24c3c1"
   },
   "outputs": [
    {
     "data": {
      "text/plain": [
       "list"
      ]
     },
     "execution_count": 31,
     "metadata": {},
     "output_type": "execute_result"
    }
   ],
   "source": [
    "type(df_med[0][0].split(\"-\"))"
   ]
  },
  {
   "cell_type": "markdown",
   "id": "1330955e-ee4e-4118-8954-e57c96bd844b",
   "metadata": {},
   "source": [
    "구분자 `split`써서 나눠주면 데이터 타입은 리스트로 처리된다."
   ]
  },
  {
   "cell_type": "code",
   "execution_count": 32,
   "id": "9cc89b29-1880-4c19-ae0b-e102fafdd16e",
   "metadata": {
    "colab": {
     "base_uri": "https://localhost:8080/",
     "height": 35
    },
    "executionInfo": {
     "elapsed": 7,
     "status": "ok",
     "timestamp": 1702409537130,
     "user": {
      "displayName": "Wuraola Oyewusi",
      "userId": "00359427092648181298"
     },
     "user_tz": 0
    },
    "id": "U-tjm8mlg9qG",
    "outputId": "50ae834b-225c-4b82-b41a-1de56a2d1a86"
   },
   "outputs": [
    {
     "data": {
      "text/plain": [
       "'1. Acetaminophen Tablet (500 mg) '"
      ]
     },
     "execution_count": 32,
     "metadata": {},
     "output_type": "execute_result"
    }
   ],
   "source": [
    "df_med[0][0].split(\"-\")[0]"
   ]
  },
  {
   "cell_type": "code",
   "execution_count": 33,
   "id": "87c50fb3-078e-4a1a-9614-e02d7f9edac5",
   "metadata": {
    "colab": {
     "base_uri": "https://localhost:8080/",
     "height": 35
    },
    "executionInfo": {
     "elapsed": 7,
     "status": "ok",
     "timestamp": 1702409549128,
     "user": {
      "displayName": "Wuraola Oyewusi",
      "userId": "00359427092648181298"
     },
     "user_tz": 0
    },
    "id": "v2uJ1fZghADs",
    "outputId": "7419fee6-fa77-4268-d0d4-38115dd32036"
   },
   "outputs": [
    {
     "data": {
      "text/plain": [
       "' Analgesic'"
      ]
     },
     "execution_count": 33,
     "metadata": {},
     "output_type": "execute_result"
    }
   ],
   "source": [
    "df_med[0][0].split(\"-\")[1]"
   ]
  },
  {
   "cell_type": "markdown",
   "id": "19498e01-67e7-4e36-850a-77cf213ba803",
   "metadata": {},
   "source": [
    "구분자 `-`를 기준으로 앞 뒤로 보면 위와 같다."
   ]
  },
  {
   "cell_type": "code",
   "execution_count": 34,
   "id": "a33c8c2c-3c16-4382-b225-932fb4ce8978",
   "metadata": {
    "colab": {
     "base_uri": "https://localhost:8080/",
     "height": 424
    },
    "executionInfo": {
     "elapsed": 328,
     "status": "ok",
     "timestamp": 1702409620292,
     "user": {
      "displayName": "Wuraola Oyewusi",
      "userId": "00359427092648181298"
     },
     "user_tz": 0
    },
    "id": "3LqCx2KdhC-9",
    "outputId": "5a520a32-7e6b-4a81-f17d-0cfc59f8c736"
   },
   "outputs": [
    {
     "data": {
      "text/html": [
       "<div>\n",
       "<style scoped>\n",
       "    .dataframe tbody tr th:only-of-type {\n",
       "        vertical-align: middle;\n",
       "    }\n",
       "\n",
       "    .dataframe tbody tr th {\n",
       "        vertical-align: top;\n",
       "    }\n",
       "\n",
       "    .dataframe thead th {\n",
       "        text-align: right;\n",
       "    }\n",
       "</style>\n",
       "<table border=\"1\" class=\"dataframe\">\n",
       "  <thead>\n",
       "    <tr style=\"text-align: right;\">\n",
       "      <th></th>\n",
       "      <th>0</th>\n",
       "      <th>Med_class</th>\n",
       "    </tr>\n",
       "  </thead>\n",
       "  <tbody>\n",
       "    <tr>\n",
       "      <th>0</th>\n",
       "      <td>1. Acetaminophen Tablet (500 mg) - Analgesic</td>\n",
       "      <td>Analgesic</td>\n",
       "    </tr>\n",
       "    <tr>\n",
       "      <th>1</th>\n",
       "      <td>2. Ibuprofen Tablet (200 mg) - Nonsteroidal An...</td>\n",
       "      <td>Nonsteroidal Anti</td>\n",
       "    </tr>\n",
       "    <tr>\n",
       "      <th>2</th>\n",
       "      <td>3. Aspirin Tablet (81 mg) - Platelet Aggregati...</td>\n",
       "      <td>Platelet Aggregation Inhibitor</td>\n",
       "    </tr>\n",
       "    <tr>\n",
       "      <th>3</th>\n",
       "      <td>4. Naproxen Tablet (250 mg) - Nonsteroidal Ant...</td>\n",
       "      <td>Nonsteroidal Anti</td>\n",
       "    </tr>\n",
       "    <tr>\n",
       "      <th>4</th>\n",
       "      <td>5. Morphine Tablet (15 mg) - Opioid Analgesic</td>\n",
       "      <td>Opioid Analgesic</td>\n",
       "    </tr>\n",
       "    <tr>\n",
       "      <th>...</th>\n",
       "      <td>...</td>\n",
       "      <td>...</td>\n",
       "    </tr>\n",
       "    <tr>\n",
       "      <th>995</th>\n",
       "      <td>996. Alprostadil Urethral Suppository (250 mcg...</td>\n",
       "      <td>Prostaglandin E1 Analog</td>\n",
       "    </tr>\n",
       "    <tr>\n",
       "      <th>996</th>\n",
       "      <td>997. Phentolamine Injection (1 mg/mL) - Alpha-...</td>\n",
       "      <td>Alpha</td>\n",
       "    </tr>\n",
       "    <tr>\n",
       "      <th>997</th>\n",
       "      <td>998. Papaverine Injection (30 mg/mL) - Vasodil...</td>\n",
       "      <td>Vasodilator</td>\n",
       "    </tr>\n",
       "    <tr>\n",
       "      <th>998</th>\n",
       "      <td>999. Yohimbine Tablet (5.4 mg) - Alpha-2 Blocker</td>\n",
       "      <td>Alpha</td>\n",
       "    </tr>\n",
       "    <tr>\n",
       "      <th>999</th>\n",
       "      <td>1000. L-Arginine Tablet (500 mg) - Amino Acid ...</td>\n",
       "      <td>Arginine Tablet (500 mg)</td>\n",
       "    </tr>\n",
       "  </tbody>\n",
       "</table>\n",
       "<p>1000 rows × 2 columns</p>\n",
       "</div>"
      ],
      "text/plain": [
       "                                                     0  \\\n",
       "0         1. Acetaminophen Tablet (500 mg) - Analgesic   \n",
       "1    2. Ibuprofen Tablet (200 mg) - Nonsteroidal An...   \n",
       "2    3. Aspirin Tablet (81 mg) - Platelet Aggregati...   \n",
       "3    4. Naproxen Tablet (250 mg) - Nonsteroidal Ant...   \n",
       "4        5. Morphine Tablet (15 mg) - Opioid Analgesic   \n",
       "..                                                 ...   \n",
       "995  996. Alprostadil Urethral Suppository (250 mcg...   \n",
       "996  997. Phentolamine Injection (1 mg/mL) - Alpha-...   \n",
       "997  998. Papaverine Injection (30 mg/mL) - Vasodil...   \n",
       "998   999. Yohimbine Tablet (5.4 mg) - Alpha-2 Blocker   \n",
       "999  1000. L-Arginine Tablet (500 mg) - Amino Acid ...   \n",
       "\n",
       "                           Med_class  \n",
       "0                          Analgesic  \n",
       "1                  Nonsteroidal Anti  \n",
       "2     Platelet Aggregation Inhibitor  \n",
       "3                  Nonsteroidal Anti  \n",
       "4                   Opioid Analgesic  \n",
       "..                               ...  \n",
       "995          Prostaglandin E1 Analog  \n",
       "996                            Alpha  \n",
       "997                      Vasodilator  \n",
       "998                            Alpha  \n",
       "999        Arginine Tablet (500 mg)   \n",
       "\n",
       "[1000 rows x 2 columns]"
      ]
     },
     "execution_count": 34,
     "metadata": {},
     "output_type": "execute_result"
    }
   ],
   "source": [
    "df_med['Med_class'] = df_med[0].apply(lambda x : x.split(\"-\")[1])\n",
    "df_med"
   ]
  },
  {
   "cell_type": "markdown",
   "id": "7e14891e-12f1-4399-95b7-6afb42c8853d",
   "metadata": {},
   "source": [
    "`lambda`함수를 써서 구분자`-`로 나눈 뒷 결과를 따로 변수 만들어준다."
   ]
  },
  {
   "cell_type": "code",
   "execution_count": 35,
   "id": "eaa1b684-fe8c-4bea-a24f-e9cd19d78700",
   "metadata": {
    "colab": {
     "base_uri": "https://localhost:8080/",
     "height": 35
    },
    "executionInfo": {
     "elapsed": 219,
     "status": "ok",
     "timestamp": 1702409649439,
     "user": {
      "displayName": "Wuraola Oyewusi",
      "userId": "00359427092648181298"
     },
     "user_tz": 0
    },
    "id": "r0vlcJ1bhUfh",
    "outputId": "67262e90-9b12-47f3-9fe2-f5adeabc3bf9"
   },
   "outputs": [
    {
     "data": {
      "text/plain": [
       "'997. Phentolamine Injection (1 mg/mL) - Alpha-Blocker'"
      ]
     },
     "execution_count": 35,
     "metadata": {},
     "output_type": "execute_result"
    }
   ],
   "source": [
    "df_med[0][996]"
   ]
  },
  {
   "cell_type": "markdown",
   "id": "d5acd4ae-83d8-476e-9a11-d90b4f87f060",
   "metadata": {},
   "source": [
    "위처럼 구분자`-`가 두 개 있는 데이터도 있을 수 있음. 결론 잘 살펴봐야 함"
   ]
  },
  {
   "cell_type": "code",
   "execution_count": 36,
   "id": "26956d32-8dcb-46cb-83cd-27b804eea4bc",
   "metadata": {
    "colab": {
     "base_uri": "https://localhost:8080/",
     "height": 35
    },
    "executionInfo": {
     "elapsed": 215,
     "status": "ok",
     "timestamp": 1702409676604,
     "user": {
      "displayName": "Wuraola Oyewusi",
      "userId": "00359427092648181298"
     },
     "user_tz": 0
    },
    "id": "Py6ubUZzhbos",
    "outputId": "13935d46-8939-4b8f-ae5f-e73e3681cbd4"
   },
   "outputs": [
    {
     "data": {
      "text/plain": [
       "' Alpha'"
      ]
     },
     "execution_count": 36,
     "metadata": {},
     "output_type": "execute_result"
    }
   ],
   "source": [
    "df_med['Med_class'][996]"
   ]
  },
  {
   "cell_type": "markdown",
   "id": "605081e6-a29c-4429-9d48-b4cb6c3836fe",
   "metadata": {},
   "source": [
    "그래서 새로 만든 변수가 이상하게 만들어진 겻을 볼 수 있음"
   ]
  },
  {
   "cell_type": "code",
   "execution_count": 46,
   "id": "269337c2-dd86-40ea-a94d-d99928942766",
   "metadata": {
    "colab": {
     "base_uri": "https://localhost:8080/",
     "height": 35
    },
    "executionInfo": {
     "elapsed": 222,
     "status": "ok",
     "timestamp": 1702409715297,
     "user": {
      "displayName": "Wuraola Oyewusi",
      "userId": "00359427092648181298"
     },
     "user_tz": 0
    },
    "id": "AVmXZtMbhiRh",
    "outputId": "3e8ce8cf-4dbd-4324-f71a-11b0a524d9d3"
   },
   "outputs": [
    {
     "data": {
      "text/plain": [
       "'999. Yohimbine Tablet (5.4 mg) - Alpha-2 Blocker'"
      ]
     },
     "execution_count": 46,
     "metadata": {},
     "output_type": "execute_result"
    }
   ],
   "source": [
    "df_med[0][998]"
   ]
  },
  {
   "cell_type": "code",
   "execution_count": 38,
   "id": "803d059b-e1ae-48cb-ae34-d8e6eaf71da0",
   "metadata": {
    "colab": {
     "base_uri": "https://localhost:8080/",
     "height": 35
    },
    "executionInfo": {
     "elapsed": 205,
     "status": "ok",
     "timestamp": 1702409732016,
     "user": {
      "displayName": "Wuraola Oyewusi",
      "userId": "00359427092648181298"
     },
     "user_tz": 0
    },
    "id": "WVDsxDjOhruL",
    "outputId": "f632399f-6204-4917-cab4-efa824867940"
   },
   "outputs": [
    {
     "data": {
      "text/plain": [
       "'1000. L-Arginine Tablet (500 mg) - Amino Acid Supplement'"
      ]
     },
     "execution_count": 38,
     "metadata": {},
     "output_type": "execute_result"
    }
   ],
   "source": [
    "df_med[0][999]"
   ]
  },
  {
   "cell_type": "code",
   "execution_count": 39,
   "id": "df4efef9-2f63-42de-98fe-75c2d1c69bd4",
   "metadata": {
    "colab": {
     "base_uri": "https://localhost:8080/"
    },
    "executionInfo": {
     "elapsed": 215,
     "status": "ok",
     "timestamp": 1702409775006,
     "user": {
      "displayName": "Wuraola Oyewusi",
      "userId": "00359427092648181298"
     },
     "user_tz": 0
    },
    "id": "zx0yGaahhvzg",
    "outputId": "59db55db-b1b8-4893-d219-fd58e1e9ede6"
   },
   "outputs": [
    {
     "data": {
      "text/plain": [
       "['1000', ' L-Arginine Tablet (500 mg) - Amino Acid Supplement']"
      ]
     },
     "execution_count": 39,
     "metadata": {},
     "output_type": "execute_result"
    }
   ],
   "source": [
    "df_med[0][999].split(\".\")"
   ]
  },
  {
   "cell_type": "code",
   "execution_count": 40,
   "id": "0aa2b0f6-fb94-4f27-9334-ca10e6bcdf4b",
   "metadata": {
    "colab": {
     "base_uri": "https://localhost:8080/",
     "height": 35
    },
    "executionInfo": {
     "elapsed": 219,
     "status": "ok",
     "timestamp": 1702409787395,
     "user": {
      "displayName": "Wuraola Oyewusi",
      "userId": "00359427092648181298"
     },
     "user_tz": 0
    },
    "id": "0GsRMK2-h6S_",
    "outputId": "21ee16f2-3026-4231-f766-b915b299eca1"
   },
   "outputs": [
    {
     "data": {
      "text/plain": [
       "' L-Arginine Tablet (500 mg) - Amino Acid Supplement'"
      ]
     },
     "execution_count": 40,
     "metadata": {},
     "output_type": "execute_result"
    }
   ],
   "source": [
    "df_med[0][999].split(\".\")[1]"
   ]
  },
  {
   "cell_type": "code",
   "execution_count": 41,
   "id": "acd58a2a-3763-46e8-8c1e-241927ace078",
   "metadata": {
    "colab": {
     "base_uri": "https://localhost:8080/"
    },
    "executionInfo": {
     "elapsed": 211,
     "status": "ok",
     "timestamp": 1702409807572,
     "user": {
      "displayName": "Wuraola Oyewusi",
      "userId": "00359427092648181298"
     },
     "user_tz": 0
    },
    "id": "UQs36l6Zh9SN",
    "outputId": "5edd90d1-c7b6-4d48-cde7-897e5217a75e"
   },
   "outputs": [
    {
     "data": {
      "text/plain": [
       "[' L', 'Arginine Tablet (500 mg) ', ' Amino Acid Supplement']"
      ]
     },
     "execution_count": 41,
     "metadata": {},
     "output_type": "execute_result"
    }
   ],
   "source": [
    "df_med[0][999].split(\".\")[1].split(\"-\")"
   ]
  },
  {
   "cell_type": "code",
   "execution_count": 42,
   "id": "c5a31f77-64ad-4ee4-9361-671a3b5e4c8c",
   "metadata": {
    "colab": {
     "base_uri": "https://localhost:8080/",
     "height": 35
    },
    "executionInfo": {
     "elapsed": 8,
     "status": "ok",
     "timestamp": 1702409840580,
     "user": {
      "displayName": "Wuraola Oyewusi",
      "userId": "00359427092648181298"
     },
     "user_tz": 0
    },
    "id": "16-TDhxyiCQF",
    "outputId": "6db3357e-827c-4c71-ea70-b57cd6721984"
   },
   "outputs": [
    {
     "data": {
      "text/plain": [
       "' L'"
      ]
     },
     "execution_count": 42,
     "metadata": {},
     "output_type": "execute_result"
    }
   ],
   "source": [
    "df_med[0][999].split(\".\")[1].split(\"-\")[0]"
   ]
  },
  {
   "cell_type": "code",
   "execution_count": 43,
   "id": "4458c89d-a0e3-41ae-86a5-827e78ebff2a",
   "metadata": {
    "colab": {
     "base_uri": "https://localhost:8080/"
    },
    "executionInfo": {
     "elapsed": 222,
     "status": "ok",
     "timestamp": 1702409889606,
     "user": {
      "displayName": "Wuraola Oyewusi",
      "userId": "00359427092648181298"
     },
     "user_tz": 0
    },
    "id": "wzEJmeA1iKOk",
    "outputId": "72d374e9-e7fb-402b-fa38-878573fb8ba6"
   },
   "outputs": [
    {
     "data": {
      "text/plain": [
       "['999', ' Yohimbine Tablet (5', '4 mg) - Alpha-2 Blocker']"
      ]
     },
     "execution_count": 43,
     "metadata": {},
     "output_type": "execute_result"
    }
   ],
   "source": [
    "df_med[0][998].split(\".\")"
   ]
  },
  {
   "cell_type": "code",
   "execution_count": 47,
   "id": "5b29781a-ab92-4623-89e9-c0f705fc1ebc",
   "metadata": {
    "colab": {
     "base_uri": "https://localhost:8080/"
    },
    "executionInfo": {
     "elapsed": 6,
     "status": "ok",
     "timestamp": 1702409926170,
     "user": {
      "displayName": "Wuraola Oyewusi",
      "userId": "00359427092648181298"
     },
     "user_tz": 0
    },
    "id": "IzW1AfRaiWOm",
    "outputId": "9377935c-4de1-474f-caef-4efcda9c5e17"
   },
   "outputs": [
    {
     "data": {
      "text/plain": [
       "['999', ' Yohimbine Tablet (5.4 mg) - Alpha-2 Blocker']"
      ]
     },
     "execution_count": 47,
     "metadata": {},
     "output_type": "execute_result"
    }
   ],
   "source": [
    "df_med[0][998].split(\".\",maxsplit=1)"
   ]
  },
  {
   "cell_type": "markdown",
   "id": "6314e852-a849-44f7-8c41-17f1d495ae2a",
   "metadata": {},
   "source": [
    "해결법 split을 무한히 하지 않게 maxsplit 으로 최대 구분 수를 지정해준다."
   ]
  },
  {
   "cell_type": "code",
   "execution_count": 45,
   "id": "600477ed-61da-450f-9398-27fcdaccc05f",
   "metadata": {
    "colab": {
     "base_uri": "https://localhost:8080/",
     "height": 424
    },
    "executionInfo": {
     "elapsed": 246,
     "status": "ok",
     "timestamp": 1702410024041,
     "user": {
      "displayName": "Wuraola Oyewusi",
      "userId": "00359427092648181298"
     },
     "user_tz": 0
    },
    "id": "DK66WbOyifLX",
    "outputId": "3567d519-cc0a-40b6-8ca1-f28b01bf56c2"
   },
   "outputs": [
    {
     "data": {
      "text/html": [
       "<div>\n",
       "<style scoped>\n",
       "    .dataframe tbody tr th:only-of-type {\n",
       "        vertical-align: middle;\n",
       "    }\n",
       "\n",
       "    .dataframe tbody tr th {\n",
       "        vertical-align: top;\n",
       "    }\n",
       "\n",
       "    .dataframe thead th {\n",
       "        text-align: right;\n",
       "    }\n",
       "</style>\n",
       "<table border=\"1\" class=\"dataframe\">\n",
       "  <thead>\n",
       "    <tr style=\"text-align: right;\">\n",
       "      <th></th>\n",
       "      <th>0</th>\n",
       "      <th>Med_class</th>\n",
       "      <th>Med_name</th>\n",
       "    </tr>\n",
       "  </thead>\n",
       "  <tbody>\n",
       "    <tr>\n",
       "      <th>0</th>\n",
       "      <td>1. Acetaminophen Tablet (500 mg) - Analgesic</td>\n",
       "      <td>Analgesic</td>\n",
       "      <td>Acetaminophen Tablet (500 mg)</td>\n",
       "    </tr>\n",
       "    <tr>\n",
       "      <th>1</th>\n",
       "      <td>2. Ibuprofen Tablet (200 mg) - Nonsteroidal An...</td>\n",
       "      <td>Nonsteroidal Anti</td>\n",
       "      <td>Ibuprofen Tablet (200 mg)</td>\n",
       "    </tr>\n",
       "    <tr>\n",
       "      <th>2</th>\n",
       "      <td>3. Aspirin Tablet (81 mg) - Platelet Aggregati...</td>\n",
       "      <td>Platelet Aggregation Inhibitor</td>\n",
       "      <td>Aspirin Tablet (81 mg)</td>\n",
       "    </tr>\n",
       "    <tr>\n",
       "      <th>3</th>\n",
       "      <td>4. Naproxen Tablet (250 mg) - Nonsteroidal Ant...</td>\n",
       "      <td>Nonsteroidal Anti</td>\n",
       "      <td>Naproxen Tablet (250 mg)</td>\n",
       "    </tr>\n",
       "    <tr>\n",
       "      <th>4</th>\n",
       "      <td>5. Morphine Tablet (15 mg) - Opioid Analgesic</td>\n",
       "      <td>Opioid Analgesic</td>\n",
       "      <td>Morphine Tablet (15 mg)</td>\n",
       "    </tr>\n",
       "    <tr>\n",
       "      <th>...</th>\n",
       "      <td>...</td>\n",
       "      <td>...</td>\n",
       "      <td>...</td>\n",
       "    </tr>\n",
       "    <tr>\n",
       "      <th>995</th>\n",
       "      <td>996. Alprostadil Urethral Suppository (250 mcg...</td>\n",
       "      <td>Prostaglandin E1 Analog</td>\n",
       "      <td>Alprostadil Urethral Suppository (250 mcg)</td>\n",
       "    </tr>\n",
       "    <tr>\n",
       "      <th>996</th>\n",
       "      <td>997. Phentolamine Injection (1 mg/mL) - Alpha-...</td>\n",
       "      <td>Alpha</td>\n",
       "      <td>Phentolamine Injection (1 mg/mL)</td>\n",
       "    </tr>\n",
       "    <tr>\n",
       "      <th>997</th>\n",
       "      <td>998. Papaverine Injection (30 mg/mL) - Vasodil...</td>\n",
       "      <td>Vasodilator</td>\n",
       "      <td>Papaverine Injection (30 mg/mL)</td>\n",
       "    </tr>\n",
       "    <tr>\n",
       "      <th>998</th>\n",
       "      <td>999. Yohimbine Tablet (5.4 mg) - Alpha-2 Blocker</td>\n",
       "      <td>Alpha</td>\n",
       "      <td>Yohimbine Tablet (5.4 mg)</td>\n",
       "    </tr>\n",
       "    <tr>\n",
       "      <th>999</th>\n",
       "      <td>1000. L-Arginine Tablet (500 mg) - Amino Acid ...</td>\n",
       "      <td>Arginine Tablet (500 mg)</td>\n",
       "      <td>L</td>\n",
       "    </tr>\n",
       "  </tbody>\n",
       "</table>\n",
       "<p>1000 rows × 3 columns</p>\n",
       "</div>"
      ],
      "text/plain": [
       "                                                     0  \\\n",
       "0         1. Acetaminophen Tablet (500 mg) - Analgesic   \n",
       "1    2. Ibuprofen Tablet (200 mg) - Nonsteroidal An...   \n",
       "2    3. Aspirin Tablet (81 mg) - Platelet Aggregati...   \n",
       "3    4. Naproxen Tablet (250 mg) - Nonsteroidal Ant...   \n",
       "4        5. Morphine Tablet (15 mg) - Opioid Analgesic   \n",
       "..                                                 ...   \n",
       "995  996. Alprostadil Urethral Suppository (250 mcg...   \n",
       "996  997. Phentolamine Injection (1 mg/mL) - Alpha-...   \n",
       "997  998. Papaverine Injection (30 mg/mL) - Vasodil...   \n",
       "998   999. Yohimbine Tablet (5.4 mg) - Alpha-2 Blocker   \n",
       "999  1000. L-Arginine Tablet (500 mg) - Amino Acid ...   \n",
       "\n",
       "                           Med_class  \\\n",
       "0                          Analgesic   \n",
       "1                  Nonsteroidal Anti   \n",
       "2     Platelet Aggregation Inhibitor   \n",
       "3                  Nonsteroidal Anti   \n",
       "4                   Opioid Analgesic   \n",
       "..                               ...   \n",
       "995          Prostaglandin E1 Analog   \n",
       "996                            Alpha   \n",
       "997                      Vasodilator   \n",
       "998                            Alpha   \n",
       "999        Arginine Tablet (500 mg)    \n",
       "\n",
       "                                         Med_name  \n",
       "0                  Acetaminophen Tablet (500 mg)   \n",
       "1                      Ibuprofen Tablet (200 mg)   \n",
       "2                         Aspirin Tablet (81 mg)   \n",
       "3                       Naproxen Tablet (250 mg)   \n",
       "4                        Morphine Tablet (15 mg)   \n",
       "..                                            ...  \n",
       "995   Alprostadil Urethral Suppository (250 mcg)   \n",
       "996             Phentolamine Injection (1 mg/mL)   \n",
       "997              Papaverine Injection (30 mg/mL)   \n",
       "998                    Yohimbine Tablet (5.4 mg)   \n",
       "999                                             L  \n",
       "\n",
       "[1000 rows x 3 columns]"
      ]
     },
     "execution_count": 45,
     "metadata": {},
     "output_type": "execute_result"
    }
   ],
   "source": [
    "df_med[\"Med_name\"] = df_med[0].apply(lambda x: x.split(\".\", maxsplit=1)[1].split(\"-\")[0])\n",
    "df_med"
   ]
  },
  {
   "cell_type": "code",
   "execution_count": null,
   "id": "0ed28141-16db-478a-a892-06e36f41f097",
   "metadata": {
    "id": "GLiBIXiclf3z"
   },
   "outputs": [],
   "source": []
  },
  {
   "cell_type": "code",
   "execution_count": null,
   "id": "84e9c510-437c-4c68-a34e-993d70406f9d",
   "metadata": {},
   "outputs": [],
   "source": []
  }
 ],
 "metadata": {
  "kernelspec": {
   "display_name": "Python 3",
   "language": "python",
   "name": "python3"
  },
  "language_info": {
   "codemirror_mode": {
    "name": "ipython",
    "version": 3
   },
   "file_extension": ".py",
   "mimetype": "text/x-python",
   "name": "python",
   "nbconvert_exporter": "python",
   "pygments_lexer": "ipython3",
   "version": "3.8.0"
  }
 },
 "nbformat": 4,
 "nbformat_minor": 5
}
