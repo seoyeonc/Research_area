{
 "cells": [
  {
   "cell_type": "raw",
   "metadata": {
    "id": "cac470df-29e7-4148-9bbd-d8b9a32fa570",
    "tags": []
   },
   "source": [
    "---\n",
    "title: \"Python Data Analysis for Healthcare - Note 4\"\n",
    "author: \"SEOYEON CHOI\"\n",
    "date: \"2025-06-04\"\n",
    "---"
   ]
  },
  {
   "cell_type": "code",
   "execution_count": 1,
   "metadata": {
    "executionInfo": {
     "elapsed": 792,
     "status": "ok",
     "timestamp": 1706358235197,
     "user": {
      "displayName": "Wuraola Oyewusi",
      "userId": "00359427092648181298"
     },
     "user_tz": 0
    },
    "id": "B2y1cPNTwpQd"
   },
   "outputs": [],
   "source": [
    "import pandas as pd\n",
    "import matplotlib.pyplot as plt"
   ]
  },
  {
   "cell_type": "code",
   "execution_count": 2,
   "metadata": {
    "colab": {
     "base_uri": "https://localhost:8080/",
     "height": 365
    },
    "executionInfo": {
     "elapsed": 325,
     "status": "ok",
     "timestamp": 1706358235521,
     "user": {
      "displayName": "Wuraola Oyewusi",
      "userId": "00359427092648181298"
     },
     "user_tz": 0
    },
    "id": "J__MTzlgxFeJ",
    "outputId": "d40ccb68-563e-4ac1-b33a-1f6c4ee3d1c8"
   },
   "outputs": [
    {
     "data": {
      "text/html": [
       "<div>\n",
       "<style scoped>\n",
       "    .dataframe tbody tr th:only-of-type {\n",
       "        vertical-align: middle;\n",
       "    }\n",
       "\n",
       "    .dataframe tbody tr th {\n",
       "        vertical-align: top;\n",
       "    }\n",
       "\n",
       "    .dataframe thead th {\n",
       "        text-align: right;\n",
       "    }\n",
       "</style>\n",
       "<table border=\"1\" class=\"dataframe\">\n",
       "  <thead>\n",
       "    <tr style=\"text-align: right;\">\n",
       "      <th></th>\n",
       "      <th>Visit_Date</th>\n",
       "      <th>Patient_ID</th>\n",
       "      <th>Age</th>\n",
       "      <th>Gender</th>\n",
       "      <th>Diagnosis</th>\n",
       "      <th>Has_Insurance</th>\n",
       "      <th>Postcode</th>\n",
       "      <th>Total_Cost</th>\n",
       "      <th>Registration(minutes)</th>\n",
       "      <th>Nursing(minutes)</th>\n",
       "      <th>Laboratory(minutes)</th>\n",
       "      <th>Consultation(minutes)</th>\n",
       "      <th>Pharmacy(minutes)</th>\n",
       "    </tr>\n",
       "  </thead>\n",
       "  <tbody>\n",
       "    <tr>\n",
       "      <th>0</th>\n",
       "      <td>2020-05-06</td>\n",
       "      <td>688923</td>\n",
       "      <td>68</td>\n",
       "      <td>Female</td>\n",
       "      <td>Diabetes</td>\n",
       "      <td>True</td>\n",
       "      <td>20006</td>\n",
       "      <td>2274.0</td>\n",
       "      <td>33.0</td>\n",
       "      <td>105.0</td>\n",
       "      <td>101.0</td>\n",
       "      <td>28.0</td>\n",
       "      <td>112.0</td>\n",
       "    </tr>\n",
       "    <tr>\n",
       "      <th>1</th>\n",
       "      <td>2018-08-04</td>\n",
       "      <td>886361</td>\n",
       "      <td>62</td>\n",
       "      <td>Female</td>\n",
       "      <td>Urinary Tract Infection</td>\n",
       "      <td>False</td>\n",
       "      <td>20005</td>\n",
       "      <td>3430.0</td>\n",
       "      <td>46.0</td>\n",
       "      <td>75.0</td>\n",
       "      <td>84.0</td>\n",
       "      <td>102.0</td>\n",
       "      <td>36.0</td>\n",
       "    </tr>\n",
       "    <tr>\n",
       "      <th>2</th>\n",
       "      <td>2021-04-10</td>\n",
       "      <td>464823</td>\n",
       "      <td>70</td>\n",
       "      <td>Female</td>\n",
       "      <td>Upper Respiratory Tract Infection</td>\n",
       "      <td>True</td>\n",
       "      <td>10003</td>\n",
       "      <td>1836.0</td>\n",
       "      <td>107.0</td>\n",
       "      <td>81.0</td>\n",
       "      <td>5.0</td>\n",
       "      <td>77.0</td>\n",
       "      <td>36.0</td>\n",
       "    </tr>\n",
       "    <tr>\n",
       "      <th>3</th>\n",
       "      <td>2021-10-01</td>\n",
       "      <td>655214</td>\n",
       "      <td>8</td>\n",
       "      <td>Female</td>\n",
       "      <td>Upper Respiratory Tract Infection</td>\n",
       "      <td>False</td>\n",
       "      <td>10006</td>\n",
       "      <td>3250.0</td>\n",
       "      <td>66.0</td>\n",
       "      <td>31.0</td>\n",
       "      <td>101.0</td>\n",
       "      <td>35.0</td>\n",
       "      <td>92.0</td>\n",
       "    </tr>\n",
       "    <tr>\n",
       "      <th>4</th>\n",
       "      <td>2018-04-30</td>\n",
       "      <td>454666</td>\n",
       "      <td>24</td>\n",
       "      <td>Male</td>\n",
       "      <td>Malaria</td>\n",
       "      <td>True</td>\n",
       "      <td>10006</td>\n",
       "      <td>2262.0</td>\n",
       "      <td>68.0</td>\n",
       "      <td>55.0</td>\n",
       "      <td>60.0</td>\n",
       "      <td>90.0</td>\n",
       "      <td>104.0</td>\n",
       "    </tr>\n",
       "  </tbody>\n",
       "</table>\n",
       "</div>"
      ],
      "text/plain": [
       "   Visit_Date  Patient_ID  Age  Gender                          Diagnosis  \\\n",
       "0  2020-05-06      688923   68  Female                           Diabetes   \n",
       "1  2018-08-04      886361   62  Female            Urinary Tract Infection   \n",
       "2  2021-04-10      464823   70  Female  Upper Respiratory Tract Infection   \n",
       "3  2021-10-01      655214    8  Female  Upper Respiratory Tract Infection   \n",
       "4  2018-04-30      454666   24    Male                            Malaria   \n",
       "\n",
       "   Has_Insurance  Postcode  Total_Cost  Registration(minutes)  \\\n",
       "0           True     20006      2274.0                   33.0   \n",
       "1          False     20005      3430.0                   46.0   \n",
       "2           True     10003      1836.0                  107.0   \n",
       "3          False     10006      3250.0                   66.0   \n",
       "4           True     10006      2262.0                   68.0   \n",
       "\n",
       "   Nursing(minutes)  Laboratory(minutes)  Consultation(minutes)  \\\n",
       "0             105.0                101.0                   28.0   \n",
       "1              75.0                 84.0                  102.0   \n",
       "2              81.0                  5.0                   77.0   \n",
       "3              31.0                101.0                   35.0   \n",
       "4              55.0                 60.0                   90.0   \n",
       "\n",
       "   Pharmacy(minutes)  \n",
       "0              112.0  \n",
       "1               36.0  \n",
       "2               36.0  \n",
       "3               92.0  \n",
       "4              104.0  "
      ]
     },
     "execution_count": 2,
     "metadata": {},
     "output_type": "execute_result"
    }
   ],
   "source": [
    "df_visit = pd.read_csv('../../../delete/Demo Hospital Outpatient Data Clean_NHC.csv')\n",
    "df_visit.head()"
   ]
  },
  {
   "cell_type": "code",
   "execution_count": 3,
   "metadata": {
    "executionInfo": {
     "elapsed": 9,
     "status": "ok",
     "timestamp": 1706358235521,
     "user": {
      "displayName": "Wuraola Oyewusi",
      "userId": "00359427092648181298"
     },
     "user_tz": 0
    },
    "id": "kjDkazokxS1i"
   },
   "outputs": [],
   "source": [
    "df_visit['Total_Time(minutes)'] = df_visit['Registration(minutes)'] + df_visit['Nursing(minutes)'] + df_visit['Laboratory(minutes)'] + df_visit['Consultation(minutes)'] + df_visit['Pharmacy(minutes)']"
   ]
  },
  {
   "cell_type": "markdown",
   "metadata": {},
   "source": [
    "총 걸린 시간을 확인하기 위해 합 구하기"
   ]
  },
  {
   "cell_type": "code",
   "execution_count": 4,
   "metadata": {
    "colab": {
     "base_uri": "https://localhost:8080/",
     "height": 365
    },
    "executionInfo": {
     "elapsed": 9,
     "status": "ok",
     "timestamp": 1706358235522,
     "user": {
      "displayName": "Wuraola Oyewusi",
      "userId": "00359427092648181298"
     },
     "user_tz": 0
    },
    "id": "xhGDjGh6xxal",
    "outputId": "80d65a8a-f4e3-454d-85c1-62b072d40328"
   },
   "outputs": [
    {
     "data": {
      "text/html": [
       "<div>\n",
       "<style scoped>\n",
       "    .dataframe tbody tr th:only-of-type {\n",
       "        vertical-align: middle;\n",
       "    }\n",
       "\n",
       "    .dataframe tbody tr th {\n",
       "        vertical-align: top;\n",
       "    }\n",
       "\n",
       "    .dataframe thead th {\n",
       "        text-align: right;\n",
       "    }\n",
       "</style>\n",
       "<table border=\"1\" class=\"dataframe\">\n",
       "  <thead>\n",
       "    <tr style=\"text-align: right;\">\n",
       "      <th></th>\n",
       "      <th>Visit_Date</th>\n",
       "      <th>Patient_ID</th>\n",
       "      <th>Age</th>\n",
       "      <th>Gender</th>\n",
       "      <th>Diagnosis</th>\n",
       "      <th>Has_Insurance</th>\n",
       "      <th>Postcode</th>\n",
       "      <th>Total_Cost</th>\n",
       "      <th>Registration(minutes)</th>\n",
       "      <th>Nursing(minutes)</th>\n",
       "      <th>Laboratory(minutes)</th>\n",
       "      <th>Consultation(minutes)</th>\n",
       "      <th>Pharmacy(minutes)</th>\n",
       "      <th>Total_Time(minutes)</th>\n",
       "    </tr>\n",
       "  </thead>\n",
       "  <tbody>\n",
       "    <tr>\n",
       "      <th>0</th>\n",
       "      <td>2020-05-06</td>\n",
       "      <td>688923</td>\n",
       "      <td>68</td>\n",
       "      <td>Female</td>\n",
       "      <td>Diabetes</td>\n",
       "      <td>True</td>\n",
       "      <td>20006</td>\n",
       "      <td>2274.0</td>\n",
       "      <td>33.0</td>\n",
       "      <td>105.0</td>\n",
       "      <td>101.0</td>\n",
       "      <td>28.0</td>\n",
       "      <td>112.0</td>\n",
       "      <td>379.0</td>\n",
       "    </tr>\n",
       "    <tr>\n",
       "      <th>1</th>\n",
       "      <td>2018-08-04</td>\n",
       "      <td>886361</td>\n",
       "      <td>62</td>\n",
       "      <td>Female</td>\n",
       "      <td>Urinary Tract Infection</td>\n",
       "      <td>False</td>\n",
       "      <td>20005</td>\n",
       "      <td>3430.0</td>\n",
       "      <td>46.0</td>\n",
       "      <td>75.0</td>\n",
       "      <td>84.0</td>\n",
       "      <td>102.0</td>\n",
       "      <td>36.0</td>\n",
       "      <td>343.0</td>\n",
       "    </tr>\n",
       "    <tr>\n",
       "      <th>2</th>\n",
       "      <td>2021-04-10</td>\n",
       "      <td>464823</td>\n",
       "      <td>70</td>\n",
       "      <td>Female</td>\n",
       "      <td>Upper Respiratory Tract Infection</td>\n",
       "      <td>True</td>\n",
       "      <td>10003</td>\n",
       "      <td>1836.0</td>\n",
       "      <td>107.0</td>\n",
       "      <td>81.0</td>\n",
       "      <td>5.0</td>\n",
       "      <td>77.0</td>\n",
       "      <td>36.0</td>\n",
       "      <td>306.0</td>\n",
       "    </tr>\n",
       "    <tr>\n",
       "      <th>3</th>\n",
       "      <td>2021-10-01</td>\n",
       "      <td>655214</td>\n",
       "      <td>8</td>\n",
       "      <td>Female</td>\n",
       "      <td>Upper Respiratory Tract Infection</td>\n",
       "      <td>False</td>\n",
       "      <td>10006</td>\n",
       "      <td>3250.0</td>\n",
       "      <td>66.0</td>\n",
       "      <td>31.0</td>\n",
       "      <td>101.0</td>\n",
       "      <td>35.0</td>\n",
       "      <td>92.0</td>\n",
       "      <td>325.0</td>\n",
       "    </tr>\n",
       "    <tr>\n",
       "      <th>4</th>\n",
       "      <td>2018-04-30</td>\n",
       "      <td>454666</td>\n",
       "      <td>24</td>\n",
       "      <td>Male</td>\n",
       "      <td>Malaria</td>\n",
       "      <td>True</td>\n",
       "      <td>10006</td>\n",
       "      <td>2262.0</td>\n",
       "      <td>68.0</td>\n",
       "      <td>55.0</td>\n",
       "      <td>60.0</td>\n",
       "      <td>90.0</td>\n",
       "      <td>104.0</td>\n",
       "      <td>377.0</td>\n",
       "    </tr>\n",
       "  </tbody>\n",
       "</table>\n",
       "</div>"
      ],
      "text/plain": [
       "   Visit_Date  Patient_ID  Age  Gender                          Diagnosis  \\\n",
       "0  2020-05-06      688923   68  Female                           Diabetes   \n",
       "1  2018-08-04      886361   62  Female            Urinary Tract Infection   \n",
       "2  2021-04-10      464823   70  Female  Upper Respiratory Tract Infection   \n",
       "3  2021-10-01      655214    8  Female  Upper Respiratory Tract Infection   \n",
       "4  2018-04-30      454666   24    Male                            Malaria   \n",
       "\n",
       "   Has_Insurance  Postcode  Total_Cost  Registration(minutes)  \\\n",
       "0           True     20006      2274.0                   33.0   \n",
       "1          False     20005      3430.0                   46.0   \n",
       "2           True     10003      1836.0                  107.0   \n",
       "3          False     10006      3250.0                   66.0   \n",
       "4           True     10006      2262.0                   68.0   \n",
       "\n",
       "   Nursing(minutes)  Laboratory(minutes)  Consultation(minutes)  \\\n",
       "0             105.0                101.0                   28.0   \n",
       "1              75.0                 84.0                  102.0   \n",
       "2              81.0                  5.0                   77.0   \n",
       "3              31.0                101.0                   35.0   \n",
       "4              55.0                 60.0                   90.0   \n",
       "\n",
       "   Pharmacy(minutes)  Total_Time(minutes)  \n",
       "0              112.0                379.0  \n",
       "1               36.0                343.0  \n",
       "2               36.0                306.0  \n",
       "3               92.0                325.0  \n",
       "4              104.0                377.0  "
      ]
     },
     "execution_count": 4,
     "metadata": {},
     "output_type": "execute_result"
    }
   ],
   "source": [
    "df_visit.head()"
   ]
  },
  {
   "cell_type": "code",
   "execution_count": 5,
   "metadata": {
    "colab": {
     "base_uri": "https://localhost:8080/",
     "height": 365
    },
    "executionInfo": {
     "elapsed": 9,
     "status": "ok",
     "timestamp": 1706358235522,
     "user": {
      "displayName": "Wuraola Oyewusi",
      "userId": "00359427092648181298"
     },
     "user_tz": 0
    },
    "id": "DMy8_ZOVx1mD",
    "outputId": "cd6298be-b62e-473f-8c49-4c89d410a18c"
   },
   "outputs": [
    {
     "data": {
      "text/html": [
       "<div>\n",
       "<style scoped>\n",
       "    .dataframe tbody tr th:only-of-type {\n",
       "        vertical-align: middle;\n",
       "    }\n",
       "\n",
       "    .dataframe tbody tr th {\n",
       "        vertical-align: top;\n",
       "    }\n",
       "\n",
       "    .dataframe thead th {\n",
       "        text-align: right;\n",
       "    }\n",
       "</style>\n",
       "<table border=\"1\" class=\"dataframe\">\n",
       "  <thead>\n",
       "    <tr style=\"text-align: right;\">\n",
       "      <th></th>\n",
       "      <th>Visit_Date</th>\n",
       "      <th>Patient_ID</th>\n",
       "      <th>Age</th>\n",
       "      <th>Gender</th>\n",
       "      <th>Diagnosis</th>\n",
       "      <th>Has_Insurance</th>\n",
       "      <th>Postcode</th>\n",
       "      <th>Total_Cost</th>\n",
       "      <th>Registration(minutes)</th>\n",
       "      <th>Nursing(minutes)</th>\n",
       "      <th>Laboratory(minutes)</th>\n",
       "      <th>Consultation(minutes)</th>\n",
       "      <th>Pharmacy(minutes)</th>\n",
       "      <th>Total_Time(minutes)</th>\n",
       "      <th>Total_Time(hours)</th>\n",
       "    </tr>\n",
       "  </thead>\n",
       "  <tbody>\n",
       "    <tr>\n",
       "      <th>0</th>\n",
       "      <td>2020-05-06</td>\n",
       "      <td>688923</td>\n",
       "      <td>68</td>\n",
       "      <td>Female</td>\n",
       "      <td>Diabetes</td>\n",
       "      <td>True</td>\n",
       "      <td>20006</td>\n",
       "      <td>2274.0</td>\n",
       "      <td>33.0</td>\n",
       "      <td>105.0</td>\n",
       "      <td>101.0</td>\n",
       "      <td>28.0</td>\n",
       "      <td>112.0</td>\n",
       "      <td>379.0</td>\n",
       "      <td>6.316667</td>\n",
       "    </tr>\n",
       "    <tr>\n",
       "      <th>1</th>\n",
       "      <td>2018-08-04</td>\n",
       "      <td>886361</td>\n",
       "      <td>62</td>\n",
       "      <td>Female</td>\n",
       "      <td>Urinary Tract Infection</td>\n",
       "      <td>False</td>\n",
       "      <td>20005</td>\n",
       "      <td>3430.0</td>\n",
       "      <td>46.0</td>\n",
       "      <td>75.0</td>\n",
       "      <td>84.0</td>\n",
       "      <td>102.0</td>\n",
       "      <td>36.0</td>\n",
       "      <td>343.0</td>\n",
       "      <td>5.716667</td>\n",
       "    </tr>\n",
       "    <tr>\n",
       "      <th>2</th>\n",
       "      <td>2021-04-10</td>\n",
       "      <td>464823</td>\n",
       "      <td>70</td>\n",
       "      <td>Female</td>\n",
       "      <td>Upper Respiratory Tract Infection</td>\n",
       "      <td>True</td>\n",
       "      <td>10003</td>\n",
       "      <td>1836.0</td>\n",
       "      <td>107.0</td>\n",
       "      <td>81.0</td>\n",
       "      <td>5.0</td>\n",
       "      <td>77.0</td>\n",
       "      <td>36.0</td>\n",
       "      <td>306.0</td>\n",
       "      <td>5.100000</td>\n",
       "    </tr>\n",
       "    <tr>\n",
       "      <th>3</th>\n",
       "      <td>2021-10-01</td>\n",
       "      <td>655214</td>\n",
       "      <td>8</td>\n",
       "      <td>Female</td>\n",
       "      <td>Upper Respiratory Tract Infection</td>\n",
       "      <td>False</td>\n",
       "      <td>10006</td>\n",
       "      <td>3250.0</td>\n",
       "      <td>66.0</td>\n",
       "      <td>31.0</td>\n",
       "      <td>101.0</td>\n",
       "      <td>35.0</td>\n",
       "      <td>92.0</td>\n",
       "      <td>325.0</td>\n",
       "      <td>5.416667</td>\n",
       "    </tr>\n",
       "    <tr>\n",
       "      <th>4</th>\n",
       "      <td>2018-04-30</td>\n",
       "      <td>454666</td>\n",
       "      <td>24</td>\n",
       "      <td>Male</td>\n",
       "      <td>Malaria</td>\n",
       "      <td>True</td>\n",
       "      <td>10006</td>\n",
       "      <td>2262.0</td>\n",
       "      <td>68.0</td>\n",
       "      <td>55.0</td>\n",
       "      <td>60.0</td>\n",
       "      <td>90.0</td>\n",
       "      <td>104.0</td>\n",
       "      <td>377.0</td>\n",
       "      <td>6.283333</td>\n",
       "    </tr>\n",
       "  </tbody>\n",
       "</table>\n",
       "</div>"
      ],
      "text/plain": [
       "   Visit_Date  Patient_ID  Age  Gender                          Diagnosis  \\\n",
       "0  2020-05-06      688923   68  Female                           Diabetes   \n",
       "1  2018-08-04      886361   62  Female            Urinary Tract Infection   \n",
       "2  2021-04-10      464823   70  Female  Upper Respiratory Tract Infection   \n",
       "3  2021-10-01      655214    8  Female  Upper Respiratory Tract Infection   \n",
       "4  2018-04-30      454666   24    Male                            Malaria   \n",
       "\n",
       "   Has_Insurance  Postcode  Total_Cost  Registration(minutes)  \\\n",
       "0           True     20006      2274.0                   33.0   \n",
       "1          False     20005      3430.0                   46.0   \n",
       "2           True     10003      1836.0                  107.0   \n",
       "3          False     10006      3250.0                   66.0   \n",
       "4           True     10006      2262.0                   68.0   \n",
       "\n",
       "   Nursing(minutes)  Laboratory(minutes)  Consultation(minutes)  \\\n",
       "0             105.0                101.0                   28.0   \n",
       "1              75.0                 84.0                  102.0   \n",
       "2              81.0                  5.0                   77.0   \n",
       "3              31.0                101.0                   35.0   \n",
       "4              55.0                 60.0                   90.0   \n",
       "\n",
       "   Pharmacy(minutes)  Total_Time(minutes)  Total_Time(hours)  \n",
       "0              112.0                379.0           6.316667  \n",
       "1               36.0                343.0           5.716667  \n",
       "2               36.0                306.0           5.100000  \n",
       "3               92.0                325.0           5.416667  \n",
       "4              104.0                377.0           6.283333  "
      ]
     },
     "execution_count": 5,
     "metadata": {},
     "output_type": "execute_result"
    }
   ],
   "source": [
    "df_visit['Total_Time(hours)'] = df_visit['Total_Time(minutes)'] / 60\n",
    "df_visit.head()"
   ]
  },
  {
   "cell_type": "markdown",
   "metadata": {},
   "source": [
    "분을 시간단위호 수정"
   ]
  },
  {
   "cell_type": "code",
   "execution_count": 6,
   "metadata": {
    "colab": {
     "base_uri": "https://localhost:8080/"
    },
    "executionInfo": {
     "elapsed": 8,
     "status": "ok",
     "timestamp": 1706358235522,
     "user": {
      "displayName": "Wuraola Oyewusi",
      "userId": "00359427092648181298"
     },
     "user_tz": 0
    },
    "id": "1Tn7c5wmyIkl",
    "outputId": "7cdb3f46-f70f-464d-b811-ac0d84564c0b"
   },
   "outputs": [
    {
     "data": {
      "text/plain": [
       "5.209994608143162"
      ]
     },
     "execution_count": 6,
     "metadata": {},
     "output_type": "execute_result"
    }
   ],
   "source": [
    "average_total_time_in_hours = df_visit['Total_Time(hours)'].mean()\n",
    "average_total_time_in_hours"
   ]
  },
  {
   "cell_type": "markdown",
   "metadata": {},
   "source": [
    "평균 걸리는 시간은 5시간 정도"
   ]
  },
  {
   "cell_type": "code",
   "execution_count": 7,
   "metadata": {
    "executionInfo": {
     "elapsed": 223,
     "status": "ok",
     "timestamp": 1706358235739,
     "user": {
      "displayName": "Wuraola Oyewusi",
      "userId": "00359427092648181298"
     },
     "user_tz": 0
    },
    "id": "hkImVUlIyetf"
   },
   "outputs": [],
   "source": [
    "max_time_department = df_visit[['Consultation(minutes)','Registration(minutes)','Nursing(minutes)','Laboratory(minutes)','Pharmacy(minutes)']].sum().idxmax()"
   ]
  },
  {
   "cell_type": "code",
   "execution_count": 8,
   "metadata": {
    "colab": {
     "base_uri": "https://localhost:8080/",
     "height": 35
    },
    "executionInfo": {
     "elapsed": 6,
     "status": "ok",
     "timestamp": 1706358235739,
     "user": {
      "displayName": "Wuraola Oyewusi",
      "userId": "00359427092648181298"
     },
     "user_tz": 0
    },
    "id": "xb5fZM_lzIBy",
    "outputId": "9a9e9864-dab4-4958-f6c5-707919b8cde2"
   },
   "outputs": [
    {
     "data": {
      "text/plain": [
       "'Registration(minutes)'"
      ]
     },
     "execution_count": 8,
     "metadata": {},
     "output_type": "execute_result"
    }
   ],
   "source": [
    "max_time_department"
   ]
  },
  {
   "cell_type": "markdown",
   "metadata": {},
   "source": [
    "가장 오래 걸린 시간은 등록시간"
   ]
  },
  {
   "cell_type": "code",
   "execution_count": 9,
   "metadata": {
    "colab": {
     "base_uri": "https://localhost:8080/"
    },
    "executionInfo": {
     "elapsed": 6,
     "status": "ok",
     "timestamp": 1706358235740,
     "user": {
      "displayName": "Wuraola Oyewusi",
      "userId": "00359427092648181298"
     },
     "user_tz": 0
    },
    "id": "7JDAiy1KzKyU",
    "outputId": "4ab76b73-11e8-4abb-8b09-3dcb2465b400"
   },
   "outputs": [
    {
     "data": {
      "text/plain": [
       "120.0"
      ]
     },
     "execution_count": 9,
     "metadata": {},
     "output_type": "execute_result"
    }
   ],
   "source": [
    "df_visit['Registration(minutes)'].max()"
   ]
  },
  {
   "cell_type": "code",
   "execution_count": 10,
   "metadata": {
    "colab": {
     "base_uri": "https://localhost:8080/"
    },
    "executionInfo": {
     "elapsed": 5,
     "status": "ok",
     "timestamp": 1706358235740,
     "user": {
      "displayName": "Wuraola Oyewusi",
      "userId": "00359427092648181298"
     },
     "user_tz": 0
    },
    "id": "GOwkCfNmzZ-E",
    "outputId": "33f8e16d-c11e-4b36-f616-795ec5793130"
   },
   "outputs": [
    {
     "data": {
      "text/plain": [
       "5.0"
      ]
     },
     "execution_count": 10,
     "metadata": {},
     "output_type": "execute_result"
    }
   ],
   "source": [
    "df_visit['Registration(minutes)'].min()"
   ]
  },
  {
   "cell_type": "markdown",
   "metadata": {
    "executionInfo": {
     "elapsed": 4,
     "status": "ok",
     "timestamp": 1706358235740,
     "user": {
      "displayName": "Wuraola Oyewusi",
      "userId": "00359427092648181298"
     },
     "user_tz": 0
    },
    "id": "tZhvD2tbze4O"
   },
   "source": [
    "2시간이 제일 길고 5분이 제일 짧은 등록시간"
   ]
  },
  {
   "cell_type": "code",
   "execution_count": 12,
   "metadata": {
    "executionInfo": {
     "elapsed": 212,
     "status": "ok",
     "timestamp": 1706360662972,
     "user": {
      "displayName": "Wuraola Oyewusi",
      "userId": "00359427092648181298"
     },
     "user_tz": 0
    },
    "id": "kzn9VzZWANYJ"
   },
   "outputs": [],
   "source": [
    "def department_wait_time_statistics(df, wait_time_column):\n",
    "    wait_time_minutes = df[wait_time_column]\n",
    "    wait_time_hours = wait_time_minutes / 60\n",
    "\n",
    "    min_time = wait_time_hours.min()\n",
    "    max_time = wait_time_hours.max()\n",
    "    mean_time = wait_time_hours.mean()\n",
    "    median_time = wait_time_hours.median()\n",
    "    std_dev = wait_time_hours.std()\n",
    "\n",
    "    sentence = f\"For the department'{wait_time_column}', wait times range from {min_time:.2f} hours to {max_time:.2f} hours \"\\\n",
    "    f\"The average wait time is {mean_time:.2f} hours, with a median of {median_time:.2f} hours\" \\\n",
    "    f\"The standard deviation is {std_dev:.2f} hours\"\n",
    "\n",
    "    return sentence\n"
   ]
  },
  {
   "cell_type": "markdown",
   "metadata": {},
   "source": [
    "함수 만들건데 기다리는 시간을 시간단위로 표현하고 평균 및 표준평차를 구해보자"
   ]
  },
  {
   "cell_type": "code",
   "execution_count": 13,
   "metadata": {
    "colab": {
     "base_uri": "https://localhost:8080/",
     "height": 53
    },
    "executionInfo": {
     "elapsed": 226,
     "status": "ok",
     "timestamp": 1706360686743,
     "user": {
      "displayName": "Wuraola Oyewusi",
      "userId": "00359427092648181298"
     },
     "user_tz": 0
    },
    "id": "qx-q2T7ABWjU",
    "outputId": "f598e59a-2b23-4fb3-ff14-c7498c158327"
   },
   "outputs": [
    {
     "data": {
      "text/plain": [
       "\"For the department'Nursing(minutes)', wait times range from 0.08 hours to 2.00 hours The average wait time is 1.04 hours, with a median of 1.03 hoursThe standard deviation is 0.56 hours\""
      ]
     },
     "execution_count": 13,
     "metadata": {},
     "output_type": "execute_result"
    }
   ],
   "source": [
    "department_wait_time_statistics(df_visit,'Nursing(minutes)')"
   ]
  },
  {
   "cell_type": "markdown",
   "metadata": {},
   "source": [
    "`wait_time_column`에 잘못된 열 쓰면 에러남"
   ]
  },
  {
   "cell_type": "code",
   "execution_count": 14,
   "metadata": {
    "executionInfo": {
     "elapsed": 226,
     "status": "ok",
     "timestamp": 1706360867927,
     "user": {
      "displayName": "Wuraola Oyewusi",
      "userId": "00359427092648181298"
     },
     "user_tz": 0
    },
    "id": "uILMEX7uBnxT"
   },
   "outputs": [],
   "source": [
    "def department_wait_time_statistics(df, department_name):\n",
    "    if department_name not in df.columns:\n",
    "        return f\"Department '{department_name}' not found in the DataFrame\"\n",
    "    wait_time_minutes = df[department_name]\n",
    "    wait_time_hours = wait_time_minutes / 60\n",
    "\n",
    "    min_time = wait_time_hours.min()\n",
    "    max_time = wait_time_hours.max()\n",
    "    mean_time = wait_time_hours.mean()\n",
    "    median_time = wait_time_hours.median()\n",
    "    std_dev = wait_time_hours.std()\n",
    "\n",
    "    sentence = f\"For the department'{department_name}', wait times range from {min_time:.2f} hours to {max_time:.2f} hours \"\\\n",
    "    f\"The average wait time is {mean_time:.2f} hours, with a median of {median_time:.2f} hours\" \\\n",
    "    f\"The standard deviation is {std_dev:.2f} hours\"\n",
    "\n",
    "    return sentence"
   ]
  },
  {
   "cell_type": "markdown",
   "metadata": {},
   "source": [
    "그 에러 나오지 않게 없으면 없다고 해주자"
   ]
  },
  {
   "cell_type": "code",
   "execution_count": 15,
   "metadata": {
    "colab": {
     "base_uri": "https://localhost:8080/",
     "height": 35
    },
    "executionInfo": {
     "elapsed": 239,
     "status": "ok",
     "timestamp": 1706360889469,
     "user": {
      "displayName": "Wuraola Oyewusi",
      "userId": "00359427092648181298"
     },
     "user_tz": 0
    },
    "id": "mM9z-ZQ5CIlg",
    "outputId": "3569e6ef-3988-47f9-d09d-4edd24209b6d"
   },
   "outputs": [
    {
     "data": {
      "text/plain": [
       "\"Department 'Nursing(seconds)' not found in the DataFrame\""
      ]
     },
     "execution_count": 15,
     "metadata": {},
     "output_type": "execute_result"
    }
   ],
   "source": [
    "department_wait_time_statistics(df_visit,'Nursing(seconds)')"
   ]
  },
  {
   "cell_type": "code",
   "execution_count": 16,
   "metadata": {
    "executionInfo": {
     "elapsed": 10,
     "status": "ok",
     "timestamp": 1702078497218,
     "user": {
      "displayName": "Wuraola Oyewusi",
      "userId": "00359427092648181298"
     },
     "user_tz": 0
    },
    "id": "knghJ3Xmxyat"
   },
   "outputs": [],
   "source": [
    "import pandas as pd\n",
    "import matplotlib.pyplot as plt\n",
    "import seaborn as sns"
   ]
  },
  {
   "cell_type": "code",
   "execution_count": 17,
   "metadata": {
    "executionInfo": {
     "elapsed": 343,
     "status": "ok",
     "timestamp": 1702078541974,
     "user": {
      "displayName": "Wuraola Oyewusi",
      "userId": "00359427092648181298"
     },
     "user_tz": 0
    },
    "id": "dyDLRybvyLtk"
   },
   "outputs": [],
   "source": [
    "df_visit = pd.read_csv('../../../delete/Demo Hospital Outpatient Data Clean_NHC.csv')"
   ]
  },
  {
   "cell_type": "code",
   "execution_count": 18,
   "metadata": {
    "colab": {
     "base_uri": "https://localhost:8080/",
     "height": 652
    },
    "executionInfo": {
     "elapsed": 9,
     "status": "ok",
     "timestamp": 1702078547129,
     "user": {
      "displayName": "Wuraola Oyewusi",
      "userId": "00359427092648181298"
     },
     "user_tz": 0
    },
    "id": "beyqsYwnyWwr",
    "outputId": "70df0608-c136-43ee-eb27-6acdaf9f761f"
   },
   "outputs": [
    {
     "data": {
      "text/html": [
       "<div>\n",
       "<style scoped>\n",
       "    .dataframe tbody tr th:only-of-type {\n",
       "        vertical-align: middle;\n",
       "    }\n",
       "\n",
       "    .dataframe tbody tr th {\n",
       "        vertical-align: top;\n",
       "    }\n",
       "\n",
       "    .dataframe thead th {\n",
       "        text-align: right;\n",
       "    }\n",
       "</style>\n",
       "<table border=\"1\" class=\"dataframe\">\n",
       "  <thead>\n",
       "    <tr style=\"text-align: right;\">\n",
       "      <th></th>\n",
       "      <th>Visit_Date</th>\n",
       "      <th>Patient_ID</th>\n",
       "      <th>Age</th>\n",
       "      <th>Gender</th>\n",
       "      <th>Diagnosis</th>\n",
       "      <th>Has_Insurance</th>\n",
       "      <th>Postcode</th>\n",
       "      <th>Total_Cost</th>\n",
       "      <th>Registration(minutes)</th>\n",
       "      <th>Nursing(minutes)</th>\n",
       "      <th>Laboratory(minutes)</th>\n",
       "      <th>Consultation(minutes)</th>\n",
       "      <th>Pharmacy(minutes)</th>\n",
       "    </tr>\n",
       "  </thead>\n",
       "  <tbody>\n",
       "    <tr>\n",
       "      <th>0</th>\n",
       "      <td>2020-05-06</td>\n",
       "      <td>688923</td>\n",
       "      <td>68</td>\n",
       "      <td>Female</td>\n",
       "      <td>Diabetes</td>\n",
       "      <td>True</td>\n",
       "      <td>20006</td>\n",
       "      <td>2274.0</td>\n",
       "      <td>33.0</td>\n",
       "      <td>105.0</td>\n",
       "      <td>101.0</td>\n",
       "      <td>28.0</td>\n",
       "      <td>112.0</td>\n",
       "    </tr>\n",
       "    <tr>\n",
       "      <th>1</th>\n",
       "      <td>2018-08-04</td>\n",
       "      <td>886361</td>\n",
       "      <td>62</td>\n",
       "      <td>Female</td>\n",
       "      <td>Urinary Tract Infection</td>\n",
       "      <td>False</td>\n",
       "      <td>20005</td>\n",
       "      <td>3430.0</td>\n",
       "      <td>46.0</td>\n",
       "      <td>75.0</td>\n",
       "      <td>84.0</td>\n",
       "      <td>102.0</td>\n",
       "      <td>36.0</td>\n",
       "    </tr>\n",
       "    <tr>\n",
       "      <th>2</th>\n",
       "      <td>2021-04-10</td>\n",
       "      <td>464823</td>\n",
       "      <td>70</td>\n",
       "      <td>Female</td>\n",
       "      <td>Upper Respiratory Tract Infection</td>\n",
       "      <td>True</td>\n",
       "      <td>10003</td>\n",
       "      <td>1836.0</td>\n",
       "      <td>107.0</td>\n",
       "      <td>81.0</td>\n",
       "      <td>5.0</td>\n",
       "      <td>77.0</td>\n",
       "      <td>36.0</td>\n",
       "    </tr>\n",
       "    <tr>\n",
       "      <th>3</th>\n",
       "      <td>2021-10-01</td>\n",
       "      <td>655214</td>\n",
       "      <td>8</td>\n",
       "      <td>Female</td>\n",
       "      <td>Upper Respiratory Tract Infection</td>\n",
       "      <td>False</td>\n",
       "      <td>10006</td>\n",
       "      <td>3250.0</td>\n",
       "      <td>66.0</td>\n",
       "      <td>31.0</td>\n",
       "      <td>101.0</td>\n",
       "      <td>35.0</td>\n",
       "      <td>92.0</td>\n",
       "    </tr>\n",
       "    <tr>\n",
       "      <th>4</th>\n",
       "      <td>2018-04-30</td>\n",
       "      <td>454666</td>\n",
       "      <td>24</td>\n",
       "      <td>Male</td>\n",
       "      <td>Malaria</td>\n",
       "      <td>True</td>\n",
       "      <td>10006</td>\n",
       "      <td>2262.0</td>\n",
       "      <td>68.0</td>\n",
       "      <td>55.0</td>\n",
       "      <td>60.0</td>\n",
       "      <td>90.0</td>\n",
       "      <td>104.0</td>\n",
       "    </tr>\n",
       "    <tr>\n",
       "      <th>...</th>\n",
       "      <td>...</td>\n",
       "      <td>...</td>\n",
       "      <td>...</td>\n",
       "      <td>...</td>\n",
       "      <td>...</td>\n",
       "      <td>...</td>\n",
       "      <td>...</td>\n",
       "      <td>...</td>\n",
       "      <td>...</td>\n",
       "      <td>...</td>\n",
       "      <td>...</td>\n",
       "      <td>...</td>\n",
       "      <td>...</td>\n",
       "    </tr>\n",
       "    <tr>\n",
       "      <th>68617</th>\n",
       "      <td>2020-06-22</td>\n",
       "      <td>668182</td>\n",
       "      <td>10</td>\n",
       "      <td>Female</td>\n",
       "      <td>Abdominal pain</td>\n",
       "      <td>True</td>\n",
       "      <td>10006</td>\n",
       "      <td>2718.0</td>\n",
       "      <td>90.0</td>\n",
       "      <td>96.0</td>\n",
       "      <td>62.0</td>\n",
       "      <td>92.0</td>\n",
       "      <td>113.0</td>\n",
       "    </tr>\n",
       "    <tr>\n",
       "      <th>68618</th>\n",
       "      <td>2020-09-03</td>\n",
       "      <td>484737</td>\n",
       "      <td>7</td>\n",
       "      <td>Male</td>\n",
       "      <td>Abdominal pain</td>\n",
       "      <td>True</td>\n",
       "      <td>10009</td>\n",
       "      <td>2028.0</td>\n",
       "      <td>101.0</td>\n",
       "      <td>76.0</td>\n",
       "      <td>110.0</td>\n",
       "      <td>37.0</td>\n",
       "      <td>14.0</td>\n",
       "    </tr>\n",
       "    <tr>\n",
       "      <th>68619</th>\n",
       "      <td>2021-06-16</td>\n",
       "      <td>917198</td>\n",
       "      <td>22</td>\n",
       "      <td>Female</td>\n",
       "      <td>Urinary Tract Infection</td>\n",
       "      <td>True</td>\n",
       "      <td>20008</td>\n",
       "      <td>1212.0</td>\n",
       "      <td>66.0</td>\n",
       "      <td>80.0</td>\n",
       "      <td>15.0</td>\n",
       "      <td>36.0</td>\n",
       "      <td>5.0</td>\n",
       "    </tr>\n",
       "    <tr>\n",
       "      <th>68620</th>\n",
       "      <td>2021-09-15</td>\n",
       "      <td>98720</td>\n",
       "      <td>22</td>\n",
       "      <td>Female</td>\n",
       "      <td>Malaria</td>\n",
       "      <td>True</td>\n",
       "      <td>20006</td>\n",
       "      <td>1668.0</td>\n",
       "      <td>9.0</td>\n",
       "      <td>36.0</td>\n",
       "      <td>107.0</td>\n",
       "      <td>87.0</td>\n",
       "      <td>39.0</td>\n",
       "    </tr>\n",
       "    <tr>\n",
       "      <th>68621</th>\n",
       "      <td>2019-12-15</td>\n",
       "      <td>251371</td>\n",
       "      <td>5</td>\n",
       "      <td>Male</td>\n",
       "      <td>Malaria</td>\n",
       "      <td>False</td>\n",
       "      <td>10014</td>\n",
       "      <td>1850.0</td>\n",
       "      <td>18.0</td>\n",
       "      <td>74.0</td>\n",
       "      <td>42.0</td>\n",
       "      <td>44.0</td>\n",
       "      <td>7.0</td>\n",
       "    </tr>\n",
       "  </tbody>\n",
       "</table>\n",
       "<p>68622 rows × 13 columns</p>\n",
       "</div>"
      ],
      "text/plain": [
       "       Visit_Date  Patient_ID  Age  Gender                          Diagnosis  \\\n",
       "0      2020-05-06      688923   68  Female                           Diabetes   \n",
       "1      2018-08-04      886361   62  Female            Urinary Tract Infection   \n",
       "2      2021-04-10      464823   70  Female  Upper Respiratory Tract Infection   \n",
       "3      2021-10-01      655214    8  Female  Upper Respiratory Tract Infection   \n",
       "4      2018-04-30      454666   24    Male                            Malaria   \n",
       "...           ...         ...  ...     ...                                ...   \n",
       "68617  2020-06-22      668182   10  Female                     Abdominal pain   \n",
       "68618  2020-09-03      484737    7    Male                     Abdominal pain   \n",
       "68619  2021-06-16      917198   22  Female            Urinary Tract Infection   \n",
       "68620  2021-09-15       98720   22  Female                            Malaria   \n",
       "68621  2019-12-15      251371    5    Male                            Malaria   \n",
       "\n",
       "       Has_Insurance  Postcode  Total_Cost  Registration(minutes)  \\\n",
       "0               True     20006      2274.0                   33.0   \n",
       "1              False     20005      3430.0                   46.0   \n",
       "2               True     10003      1836.0                  107.0   \n",
       "3              False     10006      3250.0                   66.0   \n",
       "4               True     10006      2262.0                   68.0   \n",
       "...              ...       ...         ...                    ...   \n",
       "68617           True     10006      2718.0                   90.0   \n",
       "68618           True     10009      2028.0                  101.0   \n",
       "68619           True     20008      1212.0                   66.0   \n",
       "68620           True     20006      1668.0                    9.0   \n",
       "68621          False     10014      1850.0                   18.0   \n",
       "\n",
       "       Nursing(minutes)  Laboratory(minutes)  Consultation(minutes)  \\\n",
       "0                 105.0                101.0                   28.0   \n",
       "1                  75.0                 84.0                  102.0   \n",
       "2                  81.0                  5.0                   77.0   \n",
       "3                  31.0                101.0                   35.0   \n",
       "4                  55.0                 60.0                   90.0   \n",
       "...                 ...                  ...                    ...   \n",
       "68617              96.0                 62.0                   92.0   \n",
       "68618              76.0                110.0                   37.0   \n",
       "68619              80.0                 15.0                   36.0   \n",
       "68620              36.0                107.0                   87.0   \n",
       "68621              74.0                 42.0                   44.0   \n",
       "\n",
       "       Pharmacy(minutes)  \n",
       "0                  112.0  \n",
       "1                   36.0  \n",
       "2                   36.0  \n",
       "3                   92.0  \n",
       "4                  104.0  \n",
       "...                  ...  \n",
       "68617              113.0  \n",
       "68618               14.0  \n",
       "68619                5.0  \n",
       "68620               39.0  \n",
       "68621                7.0  \n",
       "\n",
       "[68622 rows x 13 columns]"
      ]
     },
     "execution_count": 18,
     "metadata": {},
     "output_type": "execute_result"
    }
   ],
   "source": [
    "df_visit"
   ]
  },
  {
   "cell_type": "code",
   "execution_count": 19,
   "metadata": {
    "colab": {
     "base_uri": "https://localhost:8080/",
     "height": 418
    },
    "executionInfo": {
     "elapsed": 7,
     "status": "ok",
     "timestamp": 1702078568425,
     "user": {
      "displayName": "Wuraola Oyewusi",
      "userId": "00359427092648181298"
     },
     "user_tz": 0
    },
    "id": "xvlrc2cvyYE7",
    "outputId": "3afe4026-a082-466b-d244-5039ffaf6265"
   },
   "outputs": [
    {
     "name": "stderr",
     "output_type": "stream",
     "text": [
      "<ipython-input-19-a5accc586cc0>:1: FutureWarning: The default value of numeric_only in DataFrame.corr is deprecated. In a future version, it will default to False. Select only valid columns or specify the value of numeric_only to silence this warning.\n",
      "  df_visit.corr()\n"
     ]
    },
    {
     "data": {
      "text/html": [
       "<div>\n",
       "<style scoped>\n",
       "    .dataframe tbody tr th:only-of-type {\n",
       "        vertical-align: middle;\n",
       "    }\n",
       "\n",
       "    .dataframe tbody tr th {\n",
       "        vertical-align: top;\n",
       "    }\n",
       "\n",
       "    .dataframe thead th {\n",
       "        text-align: right;\n",
       "    }\n",
       "</style>\n",
       "<table border=\"1\" class=\"dataframe\">\n",
       "  <thead>\n",
       "    <tr style=\"text-align: right;\">\n",
       "      <th></th>\n",
       "      <th>Patient_ID</th>\n",
       "      <th>Age</th>\n",
       "      <th>Has_Insurance</th>\n",
       "      <th>Postcode</th>\n",
       "      <th>Total_Cost</th>\n",
       "      <th>Registration(minutes)</th>\n",
       "      <th>Nursing(minutes)</th>\n",
       "      <th>Laboratory(minutes)</th>\n",
       "      <th>Consultation(minutes)</th>\n",
       "      <th>Pharmacy(minutes)</th>\n",
       "    </tr>\n",
       "  </thead>\n",
       "  <tbody>\n",
       "    <tr>\n",
       "      <th>Patient_ID</th>\n",
       "      <td>1.000000</td>\n",
       "      <td>0.000077</td>\n",
       "      <td>0.001280</td>\n",
       "      <td>-0.003039</td>\n",
       "      <td>-0.001706</td>\n",
       "      <td>-0.000181</td>\n",
       "      <td>0.000528</td>\n",
       "      <td>0.001289</td>\n",
       "      <td>-0.003383</td>\n",
       "      <td>0.004855</td>\n",
       "    </tr>\n",
       "    <tr>\n",
       "      <th>Age</th>\n",
       "      <td>0.000077</td>\n",
       "      <td>1.000000</td>\n",
       "      <td>-0.006183</td>\n",
       "      <td>-0.007062</td>\n",
       "      <td>0.005582</td>\n",
       "      <td>0.001380</td>\n",
       "      <td>0.006102</td>\n",
       "      <td>-0.000094</td>\n",
       "      <td>-0.006555</td>\n",
       "      <td>0.001089</td>\n",
       "    </tr>\n",
       "    <tr>\n",
       "      <th>Has_Insurance</th>\n",
       "      <td>0.001280</td>\n",
       "      <td>-0.006183</td>\n",
       "      <td>1.000000</td>\n",
       "      <td>0.000061</td>\n",
       "      <td>-0.686192</td>\n",
       "      <td>-0.005191</td>\n",
       "      <td>0.002715</td>\n",
       "      <td>0.002774</td>\n",
       "      <td>0.001841</td>\n",
       "      <td>-0.000238</td>\n",
       "    </tr>\n",
       "    <tr>\n",
       "      <th>Postcode</th>\n",
       "      <td>-0.003039</td>\n",
       "      <td>-0.007062</td>\n",
       "      <td>0.000061</td>\n",
       "      <td>1.000000</td>\n",
       "      <td>-0.002613</td>\n",
       "      <td>-0.001371</td>\n",
       "      <td>0.003667</td>\n",
       "      <td>-0.006848</td>\n",
       "      <td>0.000620</td>\n",
       "      <td>-0.007727</td>\n",
       "    </tr>\n",
       "    <tr>\n",
       "      <th>Total_Cost</th>\n",
       "      <td>-0.001706</td>\n",
       "      <td>0.005582</td>\n",
       "      <td>-0.686192</td>\n",
       "      <td>-0.002613</td>\n",
       "      <td>1.000000</td>\n",
       "      <td>0.324229</td>\n",
       "      <td>0.313505</td>\n",
       "      <td>0.315786</td>\n",
       "      <td>0.316663</td>\n",
       "      <td>0.320307</td>\n",
       "    </tr>\n",
       "    <tr>\n",
       "      <th>Registration(minutes)</th>\n",
       "      <td>-0.000181</td>\n",
       "      <td>0.001380</td>\n",
       "      <td>-0.005191</td>\n",
       "      <td>-0.001371</td>\n",
       "      <td>0.324229</td>\n",
       "      <td>1.000000</td>\n",
       "      <td>0.000429</td>\n",
       "      <td>0.005553</td>\n",
       "      <td>0.001579</td>\n",
       "      <td>0.010771</td>\n",
       "    </tr>\n",
       "    <tr>\n",
       "      <th>Nursing(minutes)</th>\n",
       "      <td>0.000528</td>\n",
       "      <td>0.006102</td>\n",
       "      <td>0.002715</td>\n",
       "      <td>0.003667</td>\n",
       "      <td>0.313505</td>\n",
       "      <td>0.000429</td>\n",
       "      <td>1.000000</td>\n",
       "      <td>-0.001732</td>\n",
       "      <td>0.002945</td>\n",
       "      <td>0.002302</td>\n",
       "    </tr>\n",
       "    <tr>\n",
       "      <th>Laboratory(minutes)</th>\n",
       "      <td>0.001289</td>\n",
       "      <td>-0.000094</td>\n",
       "      <td>0.002774</td>\n",
       "      <td>-0.006848</td>\n",
       "      <td>0.315786</td>\n",
       "      <td>0.005553</td>\n",
       "      <td>-0.001732</td>\n",
       "      <td>1.000000</td>\n",
       "      <td>0.000336</td>\n",
       "      <td>-0.001103</td>\n",
       "    </tr>\n",
       "    <tr>\n",
       "      <th>Consultation(minutes)</th>\n",
       "      <td>-0.003383</td>\n",
       "      <td>-0.006555</td>\n",
       "      <td>0.001841</td>\n",
       "      <td>0.000620</td>\n",
       "      <td>0.316663</td>\n",
       "      <td>0.001579</td>\n",
       "      <td>0.002945</td>\n",
       "      <td>0.000336</td>\n",
       "      <td>1.000000</td>\n",
       "      <td>0.003200</td>\n",
       "    </tr>\n",
       "    <tr>\n",
       "      <th>Pharmacy(minutes)</th>\n",
       "      <td>0.004855</td>\n",
       "      <td>0.001089</td>\n",
       "      <td>-0.000238</td>\n",
       "      <td>-0.007727</td>\n",
       "      <td>0.320307</td>\n",
       "      <td>0.010771</td>\n",
       "      <td>0.002302</td>\n",
       "      <td>-0.001103</td>\n",
       "      <td>0.003200</td>\n",
       "      <td>1.000000</td>\n",
       "    </tr>\n",
       "  </tbody>\n",
       "</table>\n",
       "</div>"
      ],
      "text/plain": [
       "                       Patient_ID       Age  Has_Insurance  Postcode  \\\n",
       "Patient_ID               1.000000  0.000077       0.001280 -0.003039   \n",
       "Age                      0.000077  1.000000      -0.006183 -0.007062   \n",
       "Has_Insurance            0.001280 -0.006183       1.000000  0.000061   \n",
       "Postcode                -0.003039 -0.007062       0.000061  1.000000   \n",
       "Total_Cost              -0.001706  0.005582      -0.686192 -0.002613   \n",
       "Registration(minutes)   -0.000181  0.001380      -0.005191 -0.001371   \n",
       "Nursing(minutes)         0.000528  0.006102       0.002715  0.003667   \n",
       "Laboratory(minutes)      0.001289 -0.000094       0.002774 -0.006848   \n",
       "Consultation(minutes)   -0.003383 -0.006555       0.001841  0.000620   \n",
       "Pharmacy(minutes)        0.004855  0.001089      -0.000238 -0.007727   \n",
       "\n",
       "                       Total_Cost  Registration(minutes)  Nursing(minutes)  \\\n",
       "Patient_ID              -0.001706              -0.000181          0.000528   \n",
       "Age                      0.005582               0.001380          0.006102   \n",
       "Has_Insurance           -0.686192              -0.005191          0.002715   \n",
       "Postcode                -0.002613              -0.001371          0.003667   \n",
       "Total_Cost               1.000000               0.324229          0.313505   \n",
       "Registration(minutes)    0.324229               1.000000          0.000429   \n",
       "Nursing(minutes)         0.313505               0.000429          1.000000   \n",
       "Laboratory(minutes)      0.315786               0.005553         -0.001732   \n",
       "Consultation(minutes)    0.316663               0.001579          0.002945   \n",
       "Pharmacy(minutes)        0.320307               0.010771          0.002302   \n",
       "\n",
       "                       Laboratory(minutes)  Consultation(minutes)  \\\n",
       "Patient_ID                        0.001289              -0.003383   \n",
       "Age                              -0.000094              -0.006555   \n",
       "Has_Insurance                     0.002774               0.001841   \n",
       "Postcode                         -0.006848               0.000620   \n",
       "Total_Cost                        0.315786               0.316663   \n",
       "Registration(minutes)             0.005553               0.001579   \n",
       "Nursing(minutes)                 -0.001732               0.002945   \n",
       "Laboratory(minutes)               1.000000               0.000336   \n",
       "Consultation(minutes)             0.000336               1.000000   \n",
       "Pharmacy(minutes)                -0.001103               0.003200   \n",
       "\n",
       "                       Pharmacy(minutes)  \n",
       "Patient_ID                      0.004855  \n",
       "Age                             0.001089  \n",
       "Has_Insurance                  -0.000238  \n",
       "Postcode                       -0.007727  \n",
       "Total_Cost                      0.320307  \n",
       "Registration(minutes)           0.010771  \n",
       "Nursing(minutes)                0.002302  \n",
       "Laboratory(minutes)            -0.001103  \n",
       "Consultation(minutes)           0.003200  \n",
       "Pharmacy(minutes)               1.000000  "
      ]
     },
     "execution_count": 19,
     "metadata": {},
     "output_type": "execute_result"
    }
   ],
   "source": [
    "df_visit.corr()"
   ]
  },
  {
   "cell_type": "markdown",
   "metadata": {},
   "source": [
    "상관계수 구해보자"
   ]
  },
  {
   "cell_type": "code",
   "execution_count": 20,
   "metadata": {
    "colab": {
     "base_uri": "https://localhost:8080/"
    },
    "executionInfo": {
     "elapsed": 5,
     "status": "ok",
     "timestamp": 1702078629173,
     "user": {
      "displayName": "Wuraola Oyewusi",
      "userId": "00359427092648181298"
     },
     "user_tz": 0
    },
    "id": "4_aFCjqRydGe",
    "outputId": "06c8cae8-272f-494d-f672-6752acf7c78c"
   },
   "outputs": [
    {
     "name": "stderr",
     "output_type": "stream",
     "text": [
      "<ipython-input-20-4215ba355480>:1: FutureWarning: The default value of numeric_only in DataFrame.corr is deprecated. In a future version, it will default to False. Select only valid columns or specify the value of numeric_only to silence this warning.\n",
      "  correlation_matrix = df_visit.corr()\n"
     ]
    }
   ],
   "source": [
    "correlation_matrix = df_visit.corr()"
   ]
  },
  {
   "cell_type": "code",
   "execution_count": 21,
   "metadata": {
    "colab": {
     "base_uri": "https://localhost:8080/",
     "height": 593
    },
    "executionInfo": {
     "elapsed": 1525,
     "status": "ok",
     "timestamp": 1702078655176,
     "user": {
      "displayName": "Wuraola Oyewusi",
      "userId": "00359427092648181298"
     },
     "user_tz": 0
    },
    "id": "QCh8sRjoysER",
    "outputId": "4973073f-7b41-4994-9fbb-215877c253d3"
   },
   "outputs": [
    {
     "data": {
      "text/plain": [
       "<Axes: >"
      ]
     },
     "execution_count": 21,
     "metadata": {},
     "output_type": "execute_result"
    },
    {
     "data": {
      "image/png": "[encoded data removed]",
      "text/plain": [
       "<Figure size 432x288 with 2 Axes>"
      ]
     },
     "metadata": {
      "needs_background": "light"
     },
     "output_type": "display_data"
    }
   ],
   "source": [
    "sns.heatmap(correlation_matrix)"
   ]
  },
  {
   "cell_type": "markdown",
   "metadata": {},
   "source": [
    "히트맵으로 그려서 시각적으로 보기 쉽게 나타내기"
   ]
  },
  {
   "cell_type": "code",
   "execution_count": 22,
   "metadata": {
    "colab": {
     "base_uri": "https://localhost:8080/",
     "height": 593
    },
    "executionInfo": {
     "elapsed": 2039,
     "status": "ok",
     "timestamp": 1702078713382,
     "user": {
      "displayName": "Wuraola Oyewusi",
      "userId": "00359427092648181298"
     },
     "user_tz": 0
    },
    "id": "OUbCeor9yyFw",
    "outputId": "6a2977c2-f9b9-4e44-e12e-50296a457cee"
   },
   "outputs": [
    {
     "data": {
      "text/plain": [
       "<Axes: >"
      ]
     },
     "execution_count": 22,
     "metadata": {},
     "output_type": "execute_result"
    },
    {
     "data": {
      "image/png": "[encoded data removed]",
      "text/plain": [
       "<Figure size 432x288 with 2 Axes>"
      ]
     },
     "metadata": {
      "needs_background": "light"
     },
     "output_type": "display_data"
    }
   ],
   "source": [
    "sns.heatmap(correlation_matrix,annot=True)"
   ]
  },
  {
   "cell_type": "markdown",
   "metadata": {},
   "source": [
    "`annot`은 소수점 나오게 하는 옵션"
   ]
  },
  {
   "cell_type": "code",
   "execution_count": 25,
   "metadata": {
    "colab": {
     "base_uri": "https://localhost:8080/",
     "height": 608
    },
    "executionInfo": {
     "elapsed": 1542,
     "status": "ok",
     "timestamp": 1702078950920,
     "user": {
      "displayName": "Wuraola Oyewusi",
      "userId": "00359427092648181298"
     },
     "user_tz": 0
    },
    "id": "_q4wWx6ezqnd",
    "outputId": "d44d7930-c4d3-4799-c98c-656fb06681dd"
   },
   "outputs": [
    {
     "data": {
      "image/png": "[encoded data removed]",
      "text/plain": [
       "<Figure size 864x360 with 2 Axes>"
      ]
     },
     "metadata": {
      "needs_background": "light"
     },
     "output_type": "display_data"
    }
   ],
   "source": [
    "plt.figure(figsize=(12,5))\n",
    "sns.heatmap(correlation_matrix,annot=True,cmap='viridis',fmt=\".2f\",linewidths=0.5)\n",
    "plt.title(\"Correlation heatmap for the hospital visit data\")\n",
    "plt.show()"
   ]
  },
  {
   "cell_type": "markdown",
   "metadata": {},
   "source": [
    "`linewidths`으로 선 그리기 가능"
   ]
  },
  {
   "cell_type": "code",
   "execution_count": 26,
   "metadata": {
    "executionInfo": {
     "elapsed": 1560,
     "status": "ok",
     "timestamp": 1706364000048,
     "user": {
      "displayName": "Wuraola Oyewusi",
      "userId": "00359427092648181298"
     },
     "user_tz": 0
    },
    "id": "fBwSNbgFKMwU"
   },
   "outputs": [],
   "source": [
    "import pandas as pd\n",
    "import matplotlib.pyplot as plt"
   ]
  },
  {
   "cell_type": "code",
   "execution_count": 27,
   "metadata": {
    "colab": {
     "base_uri": "https://localhost:8080/",
     "height": 365
    },
    "executionInfo": {
     "elapsed": 470,
     "status": "ok",
     "timestamp": 1706364000516,
     "user": {
      "displayName": "Wuraola Oyewusi",
      "userId": "00359427092648181298"
     },
     "user_tz": 0
    },
    "id": "B7E9d0QDKRtc",
    "outputId": "8d0954d1-cfec-4aed-eb31-5a9b3999f7d0"
   },
   "outputs": [
    {
     "data": {
      "text/html": [
       "<div>\n",
       "<style scoped>\n",
       "    .dataframe tbody tr th:only-of-type {\n",
       "        vertical-align: middle;\n",
       "    }\n",
       "\n",
       "    .dataframe tbody tr th {\n",
       "        vertical-align: top;\n",
       "    }\n",
       "\n",
       "    .dataframe thead th {\n",
       "        text-align: right;\n",
       "    }\n",
       "</style>\n",
       "<table border=\"1\" class=\"dataframe\">\n",
       "  <thead>\n",
       "    <tr style=\"text-align: right;\">\n",
       "      <th></th>\n",
       "      <th>Visit_Date</th>\n",
       "      <th>Patient_ID</th>\n",
       "      <th>Age</th>\n",
       "      <th>Gender</th>\n",
       "      <th>Diagnosis</th>\n",
       "      <th>Has_Insurance</th>\n",
       "      <th>Postcode</th>\n",
       "      <th>Total_Cost</th>\n",
       "      <th>Registration(minutes)</th>\n",
       "      <th>Nursing(minutes)</th>\n",
       "      <th>Laboratory(minutes)</th>\n",
       "      <th>Consultation(minutes)</th>\n",
       "      <th>Pharmacy(minutes)</th>\n",
       "    </tr>\n",
       "  </thead>\n",
       "  <tbody>\n",
       "    <tr>\n",
       "      <th>0</th>\n",
       "      <td>2020-05-06</td>\n",
       "      <td>688923</td>\n",
       "      <td>68</td>\n",
       "      <td>Female</td>\n",
       "      <td>Diabetes</td>\n",
       "      <td>True</td>\n",
       "      <td>20006</td>\n",
       "      <td>2274.0</td>\n",
       "      <td>33.0</td>\n",
       "      <td>105.0</td>\n",
       "      <td>101.0</td>\n",
       "      <td>28.0</td>\n",
       "      <td>112.0</td>\n",
       "    </tr>\n",
       "    <tr>\n",
       "      <th>1</th>\n",
       "      <td>2018-08-04</td>\n",
       "      <td>886361</td>\n",
       "      <td>62</td>\n",
       "      <td>Female</td>\n",
       "      <td>Urinary Tract Infection</td>\n",
       "      <td>False</td>\n",
       "      <td>20005</td>\n",
       "      <td>3430.0</td>\n",
       "      <td>46.0</td>\n",
       "      <td>75.0</td>\n",
       "      <td>84.0</td>\n",
       "      <td>102.0</td>\n",
       "      <td>36.0</td>\n",
       "    </tr>\n",
       "    <tr>\n",
       "      <th>2</th>\n",
       "      <td>2021-04-10</td>\n",
       "      <td>464823</td>\n",
       "      <td>70</td>\n",
       "      <td>Female</td>\n",
       "      <td>Upper Respiratory Tract Infection</td>\n",
       "      <td>True</td>\n",
       "      <td>10003</td>\n",
       "      <td>1836.0</td>\n",
       "      <td>107.0</td>\n",
       "      <td>81.0</td>\n",
       "      <td>5.0</td>\n",
       "      <td>77.0</td>\n",
       "      <td>36.0</td>\n",
       "    </tr>\n",
       "    <tr>\n",
       "      <th>3</th>\n",
       "      <td>2021-10-01</td>\n",
       "      <td>655214</td>\n",
       "      <td>8</td>\n",
       "      <td>Female</td>\n",
       "      <td>Upper Respiratory Tract Infection</td>\n",
       "      <td>False</td>\n",
       "      <td>10006</td>\n",
       "      <td>3250.0</td>\n",
       "      <td>66.0</td>\n",
       "      <td>31.0</td>\n",
       "      <td>101.0</td>\n",
       "      <td>35.0</td>\n",
       "      <td>92.0</td>\n",
       "    </tr>\n",
       "    <tr>\n",
       "      <th>4</th>\n",
       "      <td>2018-04-30</td>\n",
       "      <td>454666</td>\n",
       "      <td>24</td>\n",
       "      <td>Male</td>\n",
       "      <td>Malaria</td>\n",
       "      <td>True</td>\n",
       "      <td>10006</td>\n",
       "      <td>2262.0</td>\n",
       "      <td>68.0</td>\n",
       "      <td>55.0</td>\n",
       "      <td>60.0</td>\n",
       "      <td>90.0</td>\n",
       "      <td>104.0</td>\n",
       "    </tr>\n",
       "  </tbody>\n",
       "</table>\n",
       "</div>"
      ],
      "text/plain": [
       "   Visit_Date  Patient_ID  Age  Gender                          Diagnosis  \\\n",
       "0  2020-05-06      688923   68  Female                           Diabetes   \n",
       "1  2018-08-04      886361   62  Female            Urinary Tract Infection   \n",
       "2  2021-04-10      464823   70  Female  Upper Respiratory Tract Infection   \n",
       "3  2021-10-01      655214    8  Female  Upper Respiratory Tract Infection   \n",
       "4  2018-04-30      454666   24    Male                            Malaria   \n",
       "\n",
       "   Has_Insurance  Postcode  Total_Cost  Registration(minutes)  \\\n",
       "0           True     20006      2274.0                   33.0   \n",
       "1          False     20005      3430.0                   46.0   \n",
       "2           True     10003      1836.0                  107.0   \n",
       "3          False     10006      3250.0                   66.0   \n",
       "4           True     10006      2262.0                   68.0   \n",
       "\n",
       "   Nursing(minutes)  Laboratory(minutes)  Consultation(minutes)  \\\n",
       "0             105.0                101.0                   28.0   \n",
       "1              75.0                 84.0                  102.0   \n",
       "2              81.0                  5.0                   77.0   \n",
       "3              31.0                101.0                   35.0   \n",
       "4              55.0                 60.0                   90.0   \n",
       "\n",
       "   Pharmacy(minutes)  \n",
       "0              112.0  \n",
       "1               36.0  \n",
       "2               36.0  \n",
       "3               92.0  \n",
       "4              104.0  "
      ]
     },
     "execution_count": 27,
     "metadata": {},
     "output_type": "execute_result"
    }
   ],
   "source": [
    "df_visit = pd.read_csv('../../../delete/Demo Hospital Outpatient Data Clean_NHC.csv')\n",
    "df_visit.head()"
   ]
  },
  {
   "cell_type": "code",
   "execution_count": 28,
   "metadata": {
    "colab": {
     "base_uri": "https://localhost:8080/"
    },
    "executionInfo": {
     "elapsed": 13,
     "status": "ok",
     "timestamp": 1706364000517,
     "user": {
      "displayName": "Wuraola Oyewusi",
      "userId": "00359427092648181298"
     },
     "user_tz": 0
    },
    "id": "Toz4ljGwKZDk",
    "outputId": "405c5ab2-54bb-499e-9871-e280463b5653"
   },
   "outputs": [
    {
     "data": {
      "text/plain": [
       "Gender\n",
       "Female    2632.877112\n",
       "Male      2618.993034\n",
       "Name: Total_Cost, dtype: float64"
      ]
     },
     "execution_count": 28,
     "metadata": {},
     "output_type": "execute_result"
    }
   ],
   "source": [
    "avg_cost_by_gender = df_visit.groupby('Gender')['Total_Cost'].mean()\n",
    "avg_cost_by_gender"
   ]
  },
  {
   "cell_type": "code",
   "execution_count": 29,
   "metadata": {
    "colab": {
     "base_uri": "https://localhost:8080/",
     "height": 472
    },
    "executionInfo": {
     "elapsed": 577,
     "status": "ok",
     "timestamp": 1706364001328,
     "user": {
      "displayName": "Wuraola Oyewusi",
      "userId": "00359427092648181298"
     },
     "user_tz": 0
    },
    "id": "ALgPzhBSKswP",
    "outputId": "7d7df778-ecfd-418a-dda5-218e59c700d2"
   },
   "outputs": [
    {
     "data": {
      "image/png": "[encoded data removed]",
      "text/plain": [
       "<Figure size 432x288 with 1 Axes>"
      ]
     },
     "metadata": {
      "needs_background": "light"
     },
     "output_type": "display_data"
    }
   ],
   "source": [
    "plt.hist(df_visit['Total_Cost'], bins=20)\n",
    "plt.title('Total Cost distribution')\n",
    "plt.xlabel('Total Cost')\n",
    "plt.ylabel(\"Frequency\")\n",
    "plt.show()"
   ]
  },
  {
   "cell_type": "markdown",
   "metadata": {},
   "source": [
    "총 비용의 히스토그램은 정규분포비슷하네"
   ]
  },
  {
   "cell_type": "code",
   "execution_count": 31,
   "metadata": {
    "colab": {
     "base_uri": "https://localhost:8080/"
    },
    "executionInfo": {
     "elapsed": 10,
     "status": "ok",
     "timestamp": 1706364001329,
     "user": {
      "displayName": "Wuraola Oyewusi",
      "userId": "00359427092648181298"
     },
     "user_tz": 0
    },
    "id": "proOsOQwLErd",
    "outputId": "29df50ca-22c2-40d6-b272-feaecf2def53"
   },
   "outputs": [
    {
     "data": {
      "text/plain": [
       "1876.0660470202297"
      ]
     },
     "execution_count": 31,
     "metadata": {},
     "output_type": "execute_result"
    }
   ],
   "source": [
    "avg_cost_by_insurance = df_visit[df_visit['Has_Insurance'] == True]['Total_Cost'].mean()\n",
    "avg_cost_by_insurance"
   ]
  },
  {
   "cell_type": "code",
   "execution_count": 32,
   "metadata": {
    "colab": {
     "base_uri": "https://localhost:8080/"
    },
    "executionInfo": {
     "elapsed": 269,
     "status": "ok",
     "timestamp": 1706364001591,
     "user": {
      "displayName": "Wuraola Oyewusi",
      "userId": "00359427092648181298"
     },
     "user_tz": 0
    },
    "id": "-dXVUmg3Lj85",
    "outputId": "0aa5ca11-a310-4a10-9999-536e891337a3"
   },
   "outputs": [
    {
     "data": {
      "text/plain": [
       "3125.477213683929"
      ]
     },
     "execution_count": 32,
     "metadata": {},
     "output_type": "execute_result"
    }
   ],
   "source": [
    "avg_cost_without_insurance = df_visit[df_visit['Has_Insurance'] == False]['Total_Cost'].mean()\n",
    "avg_cost_without_insurance"
   ]
  },
  {
   "cell_type": "markdown",
   "metadata": {},
   "source": [
    "평균비용은 다음과 같음"
   ]
  },
  {
   "cell_type": "code",
   "execution_count": 33,
   "metadata": {
    "executionInfo": {
     "elapsed": 4,
     "status": "ok",
     "timestamp": 1706364001591,
     "user": {
      "displayName": "Wuraola Oyewusi",
      "userId": "00359427092648181298"
     },
     "user_tz": 0
    },
    "id": "T47s6DQiMPPE"
   },
   "outputs": [],
   "source": [
    "df_visit['Visit_Date'] = pd.to_datetime(df_visit['Visit_Date'])\n",
    "df_visit.set_index(\"Visit_Date\", inplace=True)\n",
    "annual_total_cost = df_visit['Total_Cost'].resample(\"Y\").sum()"
   ]
  },
  {
   "cell_type": "code",
   "execution_count": 34,
   "metadata": {
    "colab": {
     "base_uri": "https://localhost:8080/",
     "height": 564
    },
    "executionInfo": {
     "elapsed": 629,
     "status": "ok",
     "timestamp": 1706364002216,
     "user": {
      "displayName": "Wuraola Oyewusi",
      "userId": "00359427092648181298"
     },
     "user_tz": 0
    },
    "id": "lzdgcPbFMtFn",
    "outputId": "1ed636cd-fc66-4f91-894f-7a54e7726cf2"
   },
   "outputs": [
    {
     "data": {
      "image/png": "[encoded data removed]",
      "text/plain": [
       "<Figure size 864x432 with 1 Axes>"
      ]
     },
     "metadata": {
      "needs_background": "light"
     },
     "output_type": "display_data"
    }
   ],
   "source": [
    "plt.figure(figsize=(12,6))\n",
    "plt.plot(annual_total_cost.index, annual_total_cost.values)\n",
    "plt.title(\"Annual Total Cost over Time\")\n",
    "plt.xlabel(\"Year\")\n",
    "plt.ylabel(\"Total Cost\")\n",
    "plt.grid(True)\n",
    "plt.show()"
   ]
  },
  {
   "cell_type": "code",
   "execution_count": 35,
   "metadata": {
    "executionInfo": {
     "elapsed": 220,
     "status": "ok",
     "timestamp": 1706365413083,
     "user": {
      "displayName": "Wuraola Oyewusi",
      "userId": "00359427092648181298"
     },
     "user_tz": 0
    },
    "id": "Ns9gmCYYTZDH"
   },
   "outputs": [],
   "source": [
    "df_visit = df_visit.reset_index()"
   ]
  },
  {
   "cell_type": "code",
   "execution_count": 36,
   "metadata": {
    "colab": {
     "base_uri": "https://localhost:8080/",
     "height": 396
    },
    "executionInfo": {
     "elapsed": 7,
     "status": "ok",
     "timestamp": 1706365457622,
     "user": {
      "displayName": "Wuraola Oyewusi",
      "userId": "00359427092648181298"
     },
     "user_tz": 0
    },
    "id": "7aZqy8YuTeO5",
    "outputId": "cde1f1f4-339f-4ea4-e8d7-9440b0e910ab"
   },
   "outputs": [
    {
     "data": {
      "text/html": [
       "<div>\n",
       "<style scoped>\n",
       "    .dataframe tbody tr th:only-of-type {\n",
       "        vertical-align: middle;\n",
       "    }\n",
       "\n",
       "    .dataframe tbody tr th {\n",
       "        vertical-align: top;\n",
       "    }\n",
       "\n",
       "    .dataframe thead th {\n",
       "        text-align: right;\n",
       "    }\n",
       "</style>\n",
       "<table border=\"1\" class=\"dataframe\">\n",
       "  <thead>\n",
       "    <tr style=\"text-align: right;\">\n",
       "      <th></th>\n",
       "      <th>Patient_ID</th>\n",
       "      <th>Age</th>\n",
       "      <th>Gender</th>\n",
       "      <th>Diagnosis</th>\n",
       "      <th>Has_Insurance</th>\n",
       "      <th>Postcode</th>\n",
       "      <th>Total_Cost</th>\n",
       "      <th>Registration(minutes)</th>\n",
       "      <th>Nursing(minutes)</th>\n",
       "      <th>Laboratory(minutes)</th>\n",
       "      <th>Consultation(minutes)</th>\n",
       "      <th>Pharmacy(minutes)</th>\n",
       "    </tr>\n",
       "    <tr>\n",
       "      <th>Visit_Date</th>\n",
       "      <th></th>\n",
       "      <th></th>\n",
       "      <th></th>\n",
       "      <th></th>\n",
       "      <th></th>\n",
       "      <th></th>\n",
       "      <th></th>\n",
       "      <th></th>\n",
       "      <th></th>\n",
       "      <th></th>\n",
       "      <th></th>\n",
       "      <th></th>\n",
       "    </tr>\n",
       "  </thead>\n",
       "  <tbody>\n",
       "    <tr>\n",
       "      <th>2020-05-06</th>\n",
       "      <td>688923</td>\n",
       "      <td>68</td>\n",
       "      <td>Female</td>\n",
       "      <td>Diabetes</td>\n",
       "      <td>True</td>\n",
       "      <td>20006</td>\n",
       "      <td>2274.0</td>\n",
       "      <td>33.0</td>\n",
       "      <td>105.0</td>\n",
       "      <td>101.0</td>\n",
       "      <td>28.0</td>\n",
       "      <td>112.0</td>\n",
       "    </tr>\n",
       "    <tr>\n",
       "      <th>2018-08-04</th>\n",
       "      <td>886361</td>\n",
       "      <td>62</td>\n",
       "      <td>Female</td>\n",
       "      <td>Urinary Tract Infection</td>\n",
       "      <td>False</td>\n",
       "      <td>20005</td>\n",
       "      <td>3430.0</td>\n",
       "      <td>46.0</td>\n",
       "      <td>75.0</td>\n",
       "      <td>84.0</td>\n",
       "      <td>102.0</td>\n",
       "      <td>36.0</td>\n",
       "    </tr>\n",
       "    <tr>\n",
       "      <th>2021-04-10</th>\n",
       "      <td>464823</td>\n",
       "      <td>70</td>\n",
       "      <td>Female</td>\n",
       "      <td>Upper Respiratory Tract Infection</td>\n",
       "      <td>True</td>\n",
       "      <td>10003</td>\n",
       "      <td>1836.0</td>\n",
       "      <td>107.0</td>\n",
       "      <td>81.0</td>\n",
       "      <td>5.0</td>\n",
       "      <td>77.0</td>\n",
       "      <td>36.0</td>\n",
       "    </tr>\n",
       "    <tr>\n",
       "      <th>2021-10-01</th>\n",
       "      <td>655214</td>\n",
       "      <td>8</td>\n",
       "      <td>Female</td>\n",
       "      <td>Upper Respiratory Tract Infection</td>\n",
       "      <td>False</td>\n",
       "      <td>10006</td>\n",
       "      <td>3250.0</td>\n",
       "      <td>66.0</td>\n",
       "      <td>31.0</td>\n",
       "      <td>101.0</td>\n",
       "      <td>35.0</td>\n",
       "      <td>92.0</td>\n",
       "    </tr>\n",
       "    <tr>\n",
       "      <th>2018-04-30</th>\n",
       "      <td>454666</td>\n",
       "      <td>24</td>\n",
       "      <td>Male</td>\n",
       "      <td>Malaria</td>\n",
       "      <td>True</td>\n",
       "      <td>10006</td>\n",
       "      <td>2262.0</td>\n",
       "      <td>68.0</td>\n",
       "      <td>55.0</td>\n",
       "      <td>60.0</td>\n",
       "      <td>90.0</td>\n",
       "      <td>104.0</td>\n",
       "    </tr>\n",
       "  </tbody>\n",
       "</table>\n",
       "</div>"
      ],
      "text/plain": [
       "            Patient_ID  Age  Gender                          Diagnosis  \\\n",
       "Visit_Date                                                               \n",
       "2020-05-06      688923   68  Female                           Diabetes   \n",
       "2018-08-04      886361   62  Female            Urinary Tract Infection   \n",
       "2021-04-10      464823   70  Female  Upper Respiratory Tract Infection   \n",
       "2021-10-01      655214    8  Female  Upper Respiratory Tract Infection   \n",
       "2018-04-30      454666   24    Male                            Malaria   \n",
       "\n",
       "            Has_Insurance  Postcode  Total_Cost  Registration(minutes)  \\\n",
       "Visit_Date                                                               \n",
       "2020-05-06           True     20006      2274.0                   33.0   \n",
       "2018-08-04          False     20005      3430.0                   46.0   \n",
       "2021-04-10           True     10003      1836.0                  107.0   \n",
       "2021-10-01          False     10006      3250.0                   66.0   \n",
       "2018-04-30           True     10006      2262.0                   68.0   \n",
       "\n",
       "            Nursing(minutes)  Laboratory(minutes)  Consultation(minutes)  \\\n",
       "Visit_Date                                                                 \n",
       "2020-05-06             105.0                101.0                   28.0   \n",
       "2018-08-04              75.0                 84.0                  102.0   \n",
       "2021-04-10              81.0                  5.0                   77.0   \n",
       "2021-10-01              31.0                101.0                   35.0   \n",
       "2018-04-30              55.0                 60.0                   90.0   \n",
       "\n",
       "            Pharmacy(minutes)  \n",
       "Visit_Date                     \n",
       "2020-05-06              112.0  \n",
       "2018-08-04               36.0  \n",
       "2021-04-10               36.0  \n",
       "2021-10-01               92.0  \n",
       "2018-04-30              104.0  "
      ]
     },
     "execution_count": 36,
     "metadata": {},
     "output_type": "execute_result"
    }
   ],
   "source": [
    "df_visit.set_index('Visit_Date', inplace=True)\n",
    "df_visit.head()"
   ]
  },
  {
   "cell_type": "code",
   "execution_count": 37,
   "metadata": {
    "executionInfo": {
     "elapsed": 270,
     "status": "ok",
     "timestamp": 1706365572650,
     "user": {
      "displayName": "Wuraola Oyewusi",
      "userId": "00359427092648181298"
     },
     "user_tz": 0
    },
    "id": "6t4grfvfTpGh"
   },
   "outputs": [],
   "source": [
    "has_insurance_true_data = df_visit[df_visit['Has_Insurance'] == True]['Total_Cost'].resample('Y').sum()\n",
    "has_insurance_false_data = df_visit[df_visit['Has_Insurance'] == False]['Total_Cost'].resample('Y').sum()"
   ]
  },
  {
   "cell_type": "code",
   "execution_count": 38,
   "metadata": {
    "colab": {
     "base_uri": "https://localhost:8080/",
     "height": 564
    },
    "executionInfo": {
     "elapsed": 732,
     "status": "ok",
     "timestamp": 1706365751540,
     "user": {
      "displayName": "Wuraola Oyewusi",
      "userId": "00359427092648181298"
     },
     "user_tz": 0
    },
    "id": "JR9tEEzmUFLg",
    "outputId": "d7ce95e0-6cfd-4259-ae33-da2153e76e9a"
   },
   "outputs": [
    {
     "data": {
      "image/png": "[encoded data removed]",
      "text/plain": [
       "<Figure size 864x432 with 1 Axes>"
      ]
     },
     "metadata": {
      "needs_background": "light"
     },
     "output_type": "display_data"
    }
   ],
   "source": [
    "plt.figure(figsize=(12,6))\n",
    "plt.plot(has_insurance_true_data.index, has_insurance_true_data.values,label='Has Insurance: True')\n",
    "plt.plot(has_insurance_false_data.index, has_insurance_false_data.values,label='Has Insurance: False')\n",
    "plt.title('Annual Total Cost by Insurance Status')\n",
    "plt.xlabel('Year')\n",
    "plt.ylabel('Total Cost')\n",
    "plt.grid(True)\n",
    "plt.legend()\n",
    "plt.show()"
   ]
  },
  {
   "cell_type": "markdown",
   "metadata": {
    "id": "BNAx_HhCUv6j"
   },
   "source": [
    "보험 현황을 보면 보험을 가지고 있는 사람들이 낮아지는 경향을 보이는 구간이 있는데 이 구간을 자세히 봐야하며 결정 권한은 경영권자에게 있어서 통계학자나 데이터 분석가들은 이 사실만 알리면 된다."
   ]
  },
  {
   "cell_type": "code",
   "execution_count": null,
   "metadata": {
    "id": "D-KyS02iz6UI"
   },
   "outputs": [],
   "source": []
  }
 ],
 "metadata": {
  "colab": {
   "authorship_tag": "ABX9TyMr6VH1wFdf1IEEcgV4WVaD",
   "provenance": [
    {
     "file_id": "151fZ9aURO8gBzvkN_wfW_U0cHPpGbzZV",
     "timestamp": 1706357143733
    }
   ]
  },
  "kernelspec": {
   "display_name": "Python 3",
   "language": "python",
   "name": "python3"
  },
  "language_info": {
   "codemirror_mode": {
    "name": "ipython",
    "version": 3
   },
   "file_extension": ".py",
   "mimetype": "text/x-python",
   "name": "python",
   "nbconvert_exporter": "python",
   "pygments_lexer": "ipython3",
   "version": "3.8.0"
  }
 },
 "nbformat": 4,
 "nbformat_minor": 4
}
