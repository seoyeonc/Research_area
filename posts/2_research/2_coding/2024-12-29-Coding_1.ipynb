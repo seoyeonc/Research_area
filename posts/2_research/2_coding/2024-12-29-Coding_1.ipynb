{
 "cells": [
  {
   "cell_type": "raw",
   "id": "9f8ecac7-74c1-4bd1-8f04-1a8efd47c568",
   "metadata": {
    "id": "cac470df-29e7-4148-9bbd-d8b9a32fa570",
    "tags": []
   },
   "source": [
    "---\n",
    "title: \"**[Coding Test]**가장 많이 받은 선물\"\n",
    "author: \"SEOYEON CHOI\"\n",
    "date: \"2024-12-29\"\n",
    "---"
   ]
  },
  {
   "cell_type": "markdown",
   "id": "ff8469b9-00b9-47e1-bfb8-0a39daf80175",
   "metadata": {},
   "source": [
    "`-` 링크"
   ]
  },
  {
   "cell_type": "markdown",
   "id": "e0cd5281-eed6-4502-a1d5-e262ee9c816a",
   "metadata": {},
   "source": [
    "https://school.programmers.co.kr/learn/courses/30/lessons/258712"
   ]
  },
  {
   "cell_type": "markdown",
   "id": "c5566853-fbd3-4ec3-8ee5-f5070b9f9a16",
   "metadata": {},
   "source": [
    "`-` 문제"
   ]
  },
  {
   "cell_type": "markdown",
   "id": "5749bdc7-27c2-47f9-82eb-96437e91b53c",
   "metadata": {},
   "source": [
    "선물을 직접 전하기 힘들 때 카카오톡 선물하기 기능을 이용해 축하 선물을 보낼 수 있습니다. 당신의 친구들이 이번 달까지 선물을 주고받은 기록을 바탕으로 다음 달에 누가 선물을 많이 받을지 예측하려고 합니다.\n",
    "\n",
    "두 사람이 선물을 주고받은 기록이 있다면, 이번 달까지 두 사람 사이에 더 많은 선물을 준 사람이 다음 달에 선물을 하나 받습니다.\n",
    "\n",
    "예를 들어 A가 B에게 선물을 5번 줬고, B가 A에게 선물을 3번 줬다면 다음 달엔 A가 B에게 선물을 하나 받습니다.\n",
    "\n",
    "두 사람이 선물을 주고받은 기록이 하나도 없거나 주고받은 수가 같다면, 선물 지수가 더 큰 사람이 선물 지수가 더 작은 사람에게 선물을 하나 받습니다.\n",
    "\n",
    "선물 지수는 이번 달까지 자신이 친구들에게 준 선물의 수에서 받은 선물의 수를 뺀 값입니다.\n",
    "\n",
    "예를 들어 A가 친구들에게 준 선물이 3개고 받은 선물이 10개라면 A의 선물 지수는 -7입니다. B가 친구들에게 준 선물이 3개고 받은 선물이 2개라면 B의 선물 지수는 1입니다. 만약 A와 B가 선물을 주고받은 적이 없거나 정확히 같은 수로 선물을 주고받았다면, 다음 달엔 B가 A에게 선물을 하나 받습니다.\n",
    "\n",
    "만약 두 사람의 선물 지수도 같다면 다음 달에 선물을 주고받지 않습니다.\n",
    "\n",
    "위에서 설명한 규칙대로 다음 달에 선물을 주고받을 때, 당신은 선물을 가장 많이 받을 친구가 받을 선물의 수를 알고 싶습니다.\n",
    "\n",
    "친구들의 이름을 담은 1차원 문자열 배열 friends 이번 달까지 친구들이 주고받은 선물 기록을 담은 1차원 문자열 배열 gifts가 매개변수로 주어집니다. 이때, 다음달에 가장 많은 선물을 받는 친구가 받을 선물의 수를 return 하도록 solution 함수를 완성해 주세요.\n",
    "\n"
   ]
  },
  {
   "cell_type": "markdown",
   "id": "a4f05741-d7e4-4235-9835-bcd980a7374b",
   "metadata": {},
   "source": [
    "`-` 나의 답"
   ]
  },
  {
   "cell_type": "code",
   "execution_count": 1,
   "id": "dcea3058-787f-4a8a-b122-d52393b45363",
   "metadata": {},
   "outputs": [],
   "source": [
    "def solution(friends, gifts):\n",
    "    rows = len(friends)\n",
    "    matrix = [[0 for _ in range(rows)] for _ in range(rows)]\n",
    "\n",
    "    give = []\n",
    "    take = []\n",
    "    for i,_ in enumerate(gifts):\n",
    "        give.append(gifts[i].split(' ')[0])\n",
    "        take.append(gifts[i].split(' ')[1])\n",
    "\n",
    "    for g, t in zip(give, take):\n",
    "        if g in friends and t in friends:\n",
    "            giver_idx = friends.index(g)  \n",
    "            taker_idx = friends.index(t)  \n",
    "            matrix[giver_idx][taker_idx] += 1\n",
    "\n",
    "    diff_matrix = [[0 for _ in range(rows)] for _ in range(rows)]\n",
    "    diffs = [sum(matrix[i]) - sum(row[i] for row in matrix) for i in range(rows)]\n",
    "    for i in range(rows):\n",
    "        for j in range(rows):\n",
    "            diff_matrix[i][j] = diffs[i] - diffs[j]\n",
    "\n",
    "    matrix_copy = [0 for _ in range(rows)] \n",
    "    for i in range(len(matrix)):\n",
    "        for j in range(i, len(matrix)):\n",
    "            if matrix[i][j] + matrix[j][i] != 0 and matrix[i][j] != matrix[j][i]:\n",
    "                if matrix[i][j] > matrix[j][i]:\n",
    "                    matrix_copy[i] += 1\n",
    "                elif matrix[i][j] < matrix[j][i]:\n",
    "                    matrix_copy[j] += 1\n",
    "            elif matrix[i][j] + matrix[j][i] == 0 or matrix[i][j] == matrix[j][i]:\n",
    "                if diffs[i] > diffs[j]:\n",
    "                    matrix_copy[i] += 1\n",
    "                elif diffs[i] < diffs[j]:\n",
    "                    matrix_copy[j] += 1\n",
    "    \n",
    "    answer = max(matrix_copy)\n",
    "    return answer"
   ]
  },
  {
   "cell_type": "code",
   "execution_count": 2,
   "id": "dc2f8be4-cd20-4536-ab76-a35ae50f9c78",
   "metadata": {},
   "outputs": [
    {
     "data": {
      "text/plain": [
       "2"
      ]
     },
     "execution_count": 2,
     "metadata": {},
     "output_type": "execute_result"
    }
   ],
   "source": [
    "solution([\"muzi\", \"ryan\", \"frodo\", \"neo\"],[\"muzi frodo\", \"muzi frodo\", \"ryan muzi\", \"ryan muzi\", \"ryan muzi\", \"frodo muzi\", \"frodo ryan\", \"neo muzi\"])\n",
    "# 2\n"
   ]
  },
  {
   "cell_type": "code",
   "execution_count": 3,
   "id": "37d04925-c277-413c-9b7f-03ea23d0dc4d",
   "metadata": {},
   "outputs": [
    {
     "data": {
      "text/plain": [
       "4"
      ]
     },
     "execution_count": 3,
     "metadata": {},
     "output_type": "execute_result"
    }
   ],
   "source": [
    "solution([\"joy\", \"brad\", \"alessandro\", \"conan\", \"david\"],[\"alessandro brad\", \"alessandro joy\", \"alessandro conan\", \"david alessandro\", \"alessandro david\"])\n",
    "# 4"
   ]
  },
  {
   "cell_type": "code",
   "execution_count": 4,
   "id": "46b81c7b-d043-49a1-9f20-c37487e8ed31",
   "metadata": {},
   "outputs": [
    {
     "data": {
      "text/plain": [
       "0"
      ]
     },
     "execution_count": 4,
     "metadata": {},
     "output_type": "execute_result"
    }
   ],
   "source": [
    "solution([\"a\", \"b\", \"c\"],[\"a b\", \"b a\", \"c a\", \"a c\", \"a c\", \"c a\"])\n",
    "# 0"
   ]
  },
  {
   "cell_type": "markdown",
   "id": "0cced733-fe4d-465a-be35-0a7a5b647cfe",
   "metadata": {},
   "source": [
    "`-` 한줄씩"
   ]
  },
  {
   "cell_type": "code",
   "execution_count": 11,
   "id": "77e41cb4-740d-41e7-a251-3447b19317bb",
   "metadata": {},
   "outputs": [],
   "source": [
    "friends = [\"muzi\", \"ryan\", \"frodo\", \"neo\"]\n",
    "gifts = [\"muzi frodo\", \"muzi frodo\", \"ryan muzi\", \"ryan muzi\", \"ryan muzi\", \"frodo muzi\", \"frodo ryan\", \"neo muzi\"]"
   ]
  },
  {
   "cell_type": "code",
   "execution_count": 12,
   "id": "1fd78cfa-295c-4ec3-b099-930efcc4da27",
   "metadata": {},
   "outputs": [
    {
     "data": {
      "text/plain": [
       "4"
      ]
     },
     "execution_count": 12,
     "metadata": {},
     "output_type": "execute_result"
    }
   ],
   "source": [
    "rows = len(friends)\n",
    "rows"
   ]
  },
  {
   "cell_type": "markdown",
   "id": "cffb4011-f1b5-4833-82a2-32cb2c93a28b",
   "metadata": {},
   "source": [
    "- 빈 매트릭스"
   ]
  },
  {
   "cell_type": "code",
   "execution_count": 13,
   "id": "ab8fe45f-fee9-47bf-9b65-38ea5c1f301d",
   "metadata": {},
   "outputs": [
    {
     "data": {
      "text/plain": [
       "[[0, 0, 0, 0], [0, 0, 0, 0], [0, 0, 0, 0], [0, 0, 0, 0]]"
      ]
     },
     "execution_count": 13,
     "metadata": {},
     "output_type": "execute_result"
    }
   ],
   "source": [
    "matrix = [[0 for _ in range(rows)] for _ in range(rows)]\n",
    "matrix"
   ]
  },
  {
   "cell_type": "markdown",
   "id": "dab835a5-31c0-4f6b-adc6-b6abf4a74cb4",
   "metadata": {},
   "source": [
    "- 선물 주고 받은 사람 구분"
   ]
  },
  {
   "cell_type": "code",
   "execution_count": 14,
   "id": "6960f203-24b9-49c0-af42-ed95d82a56ef",
   "metadata": {
    "tags": []
   },
   "outputs": [
    {
     "data": {
      "text/plain": [
       "(['muzi', 'muzi', 'ryan', 'ryan', 'ryan', 'frodo', 'frodo', 'neo'],\n",
       " ['frodo', 'frodo', 'muzi', 'muzi', 'muzi', 'muzi', 'ryan', 'muzi'])"
      ]
     },
     "execution_count": 14,
     "metadata": {},
     "output_type": "execute_result"
    }
   ],
   "source": [
    "give = []\n",
    "take = []\n",
    "for i,_ in enumerate(gifts):\n",
    "    give.append(gifts[i].split(' ')[0])\n",
    "    take.append(gifts[i].split(' ')[1])\n",
    "give, take"
   ]
  },
  {
   "cell_type": "markdown",
   "id": "d6e2723e-e56f-4416-af38-8d4bd025226e",
   "metadata": {},
   "source": [
    "- 문자형을 숫자형으로 구분"
   ]
  },
  {
   "cell_type": "code",
   "execution_count": 15,
   "id": "3323aa7c-45cd-455f-91a4-f1f0027da253",
   "metadata": {},
   "outputs": [
    {
     "data": {
      "text/plain": [
       "(3, 0, [[0, 0, 2, 0], [3, 0, 0, 0], [1, 1, 0, 0], [1, 0, 0, 0]])"
      ]
     },
     "execution_count": 15,
     "metadata": {},
     "output_type": "execute_result"
    }
   ],
   "source": [
    "for g, t in zip(give, take):\n",
    "    if g in friends and t in friends:\n",
    "        giver_idx = friends.index(g)  \n",
    "        taker_idx = friends.index(t)  \n",
    "        matrix[giver_idx][taker_idx] += 1\n",
    "giver_idx, taker_idx, matrix"
   ]
  },
  {
   "cell_type": "markdown",
   "id": "ec92ef9d-dbb2-4db9-a11d-962d899f55bb",
   "metadata": {},
   "source": [
    "- 선물지수 계산\n",
    "    - 선물 지수는 이번 달까지 자신이 친구들에게 준 선물의 수에서 받은 선물의 수를 뺀 값입니다."
   ]
  },
  {
   "cell_type": "code",
   "execution_count": 16,
   "id": "5b18fb1e-f7cb-4fa2-b15b-22707f3ccfa6",
   "metadata": {},
   "outputs": [
    {
     "data": {
      "text/plain": [
       "([[0, 0, 0, 0], [0, 0, 0, 0], [0, 0, 0, 0], [0, 0, 0, 0]], [-3, 2, 0, 1])"
      ]
     },
     "execution_count": 16,
     "metadata": {},
     "output_type": "execute_result"
    }
   ],
   "source": [
    "diff_matrix = [[0 for _ in range(rows)] for _ in range(rows)]\n",
    "diffs = [sum(matrix[i]) - sum(row[i] for row in matrix) for i in range(rows)]\n",
    "diff_matrix,diffs"
   ]
  },
  {
   "cell_type": "code",
   "execution_count": 17,
   "id": "23b87484-55c8-4ce9-8380-8a9121657f00",
   "metadata": {},
   "outputs": [
    {
     "data": {
      "text/plain": [
       "[[0, -5, -3, -4], [5, 0, 2, 1], [3, -2, 0, -1], [4, -1, 1, 0]]"
      ]
     },
     "execution_count": 17,
     "metadata": {},
     "output_type": "execute_result"
    }
   ],
   "source": [
    "for i in range(rows):\n",
    "    for j in range(rows):\n",
    "        diff_matrix[i][j] = diffs[i] - diffs[j]\n",
    "diff_matrix"
   ]
  },
  {
   "cell_type": "markdown",
   "id": "0c4f24ac-dda7-4d90-9e13-41daee1710d9",
   "metadata": {},
   "source": [
    "- 빈 다음달 선물 값"
   ]
  },
  {
   "cell_type": "code",
   "execution_count": 18,
   "id": "adb3ed9a-f5fc-44c2-bedb-c4629aeb47d2",
   "metadata": {},
   "outputs": [
    {
     "data": {
      "text/plain": [
       "[0, 0, 0, 0]"
      ]
     },
     "execution_count": 18,
     "metadata": {},
     "output_type": "execute_result"
    }
   ],
   "source": [
    "matrix_copy = [0 for _ in range(rows)] \n",
    "matrix_copy"
   ]
  },
  {
   "cell_type": "markdown",
   "id": "be0e9f37-c9af-4770-8e08-8f4852daf5d1",
   "metadata": {},
   "source": [
    "- 두 사람이 선물을 주고받은 기록이 있다면, 이번 달까지 두 사람 사이에 더 많은 선물을 준 사람이 다음 달에 선물을 하나 받습니다.\n",
    "- 두 사람이 선물을 주고받은 기록이 하나도 없거나 주고받은 수가 같다면, 선물 지수가 더 큰 사람이 선물 지수가 더 작은 사람에게 선물을 하나 받습니다.\n",
    "- 만약 두 사람의 선물 지수도 같다면 다음 달에 선물을 주고받지 않습니다."
   ]
  },
  {
   "cell_type": "code",
   "execution_count": 19,
   "id": "dd5c23fd-e5a6-4595-b318-0c64d806397c",
   "metadata": {},
   "outputs": [
    {
     "data": {
      "text/plain": [
       "[1, 2, 1, 2]"
      ]
     },
     "execution_count": 19,
     "metadata": {},
     "output_type": "execute_result"
    }
   ],
   "source": [
    "for i in range(len(matrix)):\n",
    "    for j in range(i, len(matrix)):\n",
    "        if matrix[i][j] + matrix[j][i] != 0 and matrix[i][j] != matrix[j][i]:\n",
    "            if matrix[i][j] > matrix[j][i]:\n",
    "                matrix_copy[i] += 1\n",
    "            elif matrix[i][j] < matrix[j][i]:\n",
    "                matrix_copy[j] += 1\n",
    "        elif matrix[i][j] + matrix[j][i] == 0 or matrix[i][j] == matrix[j][i]:\n",
    "            if diffs[i] > diffs[j]:\n",
    "                matrix_copy[i] += 1\n",
    "            elif diffs[i] < diffs[j]:\n",
    "                matrix_copy[j] += 1\n",
    "matrix_copy"
   ]
  },
  {
   "cell_type": "markdown",
   "id": "fbadf876-bc1b-49a8-9792-5a00f39d7ae0",
   "metadata": {},
   "source": [
    "- 선물을 가장 많이 받을 친구가 받을 선물의 수"
   ]
  },
  {
   "cell_type": "code",
   "execution_count": 20,
   "id": "5da62aa1-77ee-4de8-b9ea-b569cadfb522",
   "metadata": {},
   "outputs": [
    {
     "data": {
      "text/plain": [
       "2"
      ]
     },
     "execution_count": 20,
     "metadata": {},
     "output_type": "execute_result"
    }
   ],
   "source": [
    "answer = max(matrix_copy)\n",
    "answer"
   ]
  },
  {
   "cell_type": "code",
   "execution_count": null,
   "id": "1f0965a4-989e-4ddc-9424-9b47118c1900",
   "metadata": {},
   "outputs": [],
   "source": []
  }
 ],
 "metadata": {
  "kernelspec": {
   "display_name": "Python 3",
   "language": "python",
   "name": "python3"
  },
  "language_info": {
   "codemirror_mode": {
    "name": "ipython",
    "version": 3
   },
   "file_extension": ".py",
   "mimetype": "text/x-python",
   "name": "python",
   "nbconvert_exporter": "python",
   "pygments_lexer": "ipython3",
   "version": "3.8.0"
  }
 },
 "nbformat": 4,
 "nbformat_minor": 5
}
