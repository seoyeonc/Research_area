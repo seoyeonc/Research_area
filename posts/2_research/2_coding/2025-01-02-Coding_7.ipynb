{
 "cells": [
  {
   "cell_type": "raw",
   "id": "f12c660b-b4f3-47ca-acfc-3c4e0602fbcd",
   "metadata": {
    "id": "cac470df-29e7-4148-9bbd-d8b9a32fa570",
    "tags": []
   },
   "source": [
    "---\n",
    "title: \"**[Coding Test]**도넛과 막대 그래프\"\n",
    "author: \"SEOYEON CHOI\"\n",
    "date: \"2025-01-02\"\n",
    "---"
   ]
  },
  {
   "cell_type": "markdown",
   "id": "b2da51c4-0e04-4b90-858c-91e9aab1a598",
   "metadata": {},
   "source": [
    "`-` 링크"
   ]
  },
  {
   "cell_type": "markdown",
   "id": "259184a9-971d-41f6-a882-92336a73122a",
   "metadata": {},
   "source": [
    "https://school.programmers.co.kr/learn/courses/30/lessons/258711"
   ]
  },
  {
   "cell_type": "markdown",
   "id": "469c06cd-3101-4c0b-8598-5da108ce40b3",
   "metadata": {},
   "source": [
    "`-` 문제"
   ]
  },
  {
   "cell_type": "markdown",
   "id": "a41bc339-a57c-4533-92ce-8d42a5d62d9b",
   "metadata": {},
   "source": [
    "도넛 모양 그래프, 막대 모양 그래프, 8자 모양 그래프들이 있습니다. 이 그래프들은 1개 이상의 정점과, 정점들을 연결하는 단방향 간선으로 이루어져 있습니다.\n",
    "\n",
    "크기가 n인 도넛 모양 그래프는 n개의 정점과 n개의 간선이 있습니다. 도넛 모양 그래프의 아무 한 정점에서 출발해 이용한 적 없는 간선을 계속 따라가면 나머지 n-1개의 정점들을 한 번씩 방문한 뒤 원래 출발했던 정점으로 돌아오게 됩니다. 도넛 모양 그래프의 형태는 다음과 같습니다.\n",
    "\n",
    "크기가 n인 막대 모양 그래프는 n개의 정점과 n-1개의 간선이 있습니다. 막대 모양 그래프는 임의의 한 정점에서 출발해 간선을 계속 따라가면 나머지 n-1개의 정점을 한 번씩 방문하게 되는 정점이 단 하나 존재합니다. 막대 모양 그래프의 형태는 다음과 같습니다.\n",
    "\n",
    "크기가 n인 8자 모양 그래프는 2n+1개의 정점과 2n+2개의 간선이 있습니다. 8자 모양 그래프는 크기가 동일한 2개의 도넛 모양 그래프에서 정점을 하나씩 골라 결합시킨 형태의 그래프입니다. 8자 모양 그래프의 형태는 다음과 같습니다.\n",
    "\n",
    "도넛 모양 그래프, 막대 모양 그래프, 8자 모양 그래프가 여러 개 있습니다. 이 그래프들과 무관한 정점을 하나 생성한 뒤, 각 도넛 모양 그래프, 막대 모양 그래프, 8자 모양 그래프의 임의의 정점 하나로 향하는 간선들을 연결했습니다.\n",
    "\n",
    "그 후 각 정점에 서로 다른 번호를 매겼습니다.\n",
    "\n",
    "이때 당신은 그래프의 간선 정보가 주어지면 생성한 정점의 번호와 정점을 생성하기 전 도넛 모양 그래프의 수, 막대 모양 그래프의 수, 8자 모양 그래프의 수를 구해야 합니다.\n",
    "\n",
    "그래프의 간선 정보를 담은 2차원 정수 배열 edges가 매개변수로 주어집니다. 이때, 생성한 정점의 번호, 도넛 모양 그래프의 수, 막대 모양 그래프의 수, 8자 모양 그래프의 수를 순서대로 1차원 정수 배열에 담아 return 하도록 solution 함수를 완성해 주세요.\n",
    "\n",
    "제한사항\n",
    "\n",
    "1 ≤ edges의 길이 ≤ 1,000,000\n",
    "\n",
    "edges의 원소는 [a,b] 형태이며, a번 정점에서 b번 정점으로 향하는 간선이 있다는 것을 나타냅니다.\n",
    "\n",
    "1 ≤ a, b ≤ 1,000,000\n",
    "\n",
    "문제의 조건에 맞는 그래프가 주어집니다.\n",
    "\n",
    "도넛 모양 그래프, 막대 모양 그래프, 8자 모양 그래프의 수의 합은 2이상입니다."
   ]
  },
  {
   "cell_type": "markdown",
   "id": "c45cd9f3-f55e-412e-8995-4674dfbbe46e",
   "metadata": {},
   "source": [
    "`-` 답"
   ]
  },
  {
   "cell_type": "markdown",
   "id": "9fabf556-a291-43ff-9e20-dd7eda7fcd15",
   "metadata": {},
   "source": [
    "- 힌트를 얻음."
   ]
  },
  {
   "cell_type": "code",
   "execution_count": 411,
   "id": "5cb6089c-890b-4655-915f-cdeebb2f276f",
   "metadata": {},
   "outputs": [],
   "source": [
    "def solution(edges):\n",
    "    matrix = [[0 for _ in range(len(edges))] for _ in range(len(edges))]\n",
    "\n",
    "    for row, col in edges:\n",
    "        matrix[row - 1][col - 1] = 1 \n",
    "\n",
    "    # 나가는 선\n",
    "    row_sums = []\n",
    "    for i in range(len(matrix)):\n",
    "        if sum(matrix[i]) == 0:\n",
    "            row_sums.append(0)\n",
    "        elif sum(matrix[i]) != 0:\n",
    "            row_sums.append(sum(matrix[i]))\n",
    "\n",
    "    #들어오는 선\n",
    "    col_sums = [0] * len(matrix[0])\n",
    "    for row in matrix:\n",
    "        for j in range(len(row)):\n",
    "            col_sums[j] += row[j]\n",
    "\n",
    "    bar = 0\n",
    "    eight = 0\n",
    "    for i in range(len(matrix)):\n",
    "        if col_sums[i] != 0 or row_sums[i] != 0:\n",
    "            if row_sums[i] == 0 :\n",
    "                bar += 1\n",
    "            elif row_sums[i] > 1 and col_sums[i] == 0:\n",
    "                정점 = i + 1\n",
    "            elif row_sums[i] == 2 and col_sums[i] >= 2:\n",
    "                eight += 1\n",
    "    donut = row_sums[정점 - 1] - bar - eight\n",
    "    \n",
    "    answer = [정점, donut, bar, eight]\n",
    "    return answer"
   ]
  },
  {
   "cell_type": "markdown",
   "id": "4b1c8af1-dbb8-45bb-aa70-83ad8d42f155",
   "metadata": {},
   "source": [
    "입출력 예 #1\n",
    "\n",
    "2번 정점이 생성한 정점이고 도넛 모양 그래프 1개, 막대 모양 그래프 1개가 존재합니다. 따라서 [2, 1, 1, 0]을 return 해야 합니다."
   ]
  },
  {
   "cell_type": "code",
   "execution_count": 412,
   "id": "a571445d-71ef-4806-999f-7b48761bb7c1",
   "metadata": {},
   "outputs": [
    {
     "data": {
      "text/plain": [
       "[2, 1, 1, 0]"
      ]
     },
     "execution_count": 412,
     "metadata": {},
     "output_type": "execute_result"
    }
   ],
   "source": [
    "solution([[2, 3], [4, 3], [1, 1], [2, 1]])\n",
    "# [2, 1, 1, 0]"
   ]
  },
  {
   "cell_type": "markdown",
   "id": "085c8815-cedf-4c9b-9ee0-5bcfe8836735",
   "metadata": {},
   "source": [
    "입출력 예 #2\n",
    "\n",
    "4번 정점이 생성한 정점이고 막대 모양 그래프 1개, 8자 모양 그래프 2개가 존재합니다. 따라서 [4, 0, 1, 2]를 return 해야 합니다."
   ]
  },
  {
   "cell_type": "code",
   "execution_count": 413,
   "id": "97bc7b06-6437-4253-946b-85e88af8b440",
   "metadata": {},
   "outputs": [
    {
     "data": {
      "text/plain": [
       "[4, 0, 1, 2]"
      ]
     },
     "execution_count": 413,
     "metadata": {},
     "output_type": "execute_result"
    }
   ],
   "source": [
    "solution([[4, 11], [1, 12], [8, 3], [12, 7], [4, 2], [7, 11], [4, 8], [9, 6], [10, 11], [6, 10], [3, 5], [11, 1], [5, 3], [11, 9], [3, 8]])\n",
    "# [4, 0, 1, 2]"
   ]
  },
  {
   "cell_type": "markdown",
   "id": "203770ec-dd7c-42f4-abc2-37c8838af7f1",
   "metadata": {},
   "source": [
    "**코드상의 에러는 없으나 시간초과로 통과되지 못했다.**"
   ]
  },
  {
   "cell_type": "markdown",
   "id": "e4df7b61-656c-4dc9-8725-340eea76bc2b",
   "metadata": {},
   "source": [
    "`-` 한 줄씩"
   ]
  },
  {
   "cell_type": "markdown",
   "id": "b9a9d508-a84f-47de-aedb-729c845d96e4",
   "metadata": {},
   "source": [
    "`-` 1번 예제"
   ]
  },
  {
   "cell_type": "code",
   "execution_count": 456,
   "id": "facdcd28-79d1-4a3b-b423-528f356cc6b1",
   "metadata": {},
   "outputs": [],
   "source": [
    "edges = [[2, 3], [4, 3], [1, 1], [2, 1]]"
   ]
  },
  {
   "cell_type": "code",
   "execution_count": 458,
   "id": "91a3d044-d96d-4427-a5b5-250c2ffd419a",
   "metadata": {},
   "outputs": [
    {
     "data": {
      "image/png": "[encoded data removed]",
      "text/plain": [
       "<Figure size 720x288 with 1 Axes>"
      ]
     },
     "metadata": {},
     "output_type": "display_data"
    }
   ],
   "source": [
    "import networkx as nx\n",
    "import matplotlib.pyplot as plt\n",
    "\n",
    "G = nx.DiGraph()\n",
    "G.add_edges_from(edges)\n",
    "\n",
    "pos = nx.spring_layout(G) \n",
    "fig, ax = plt.subplots(figsize=(10, 4))  # 명시적으로 Figure와 Axes 생성\n",
    "nx.draw(\n",
    "    G, pos, ax=ax, with_labels=True, node_size=500, node_color='lightblue',\n",
    "    font_size=12, font_weight='bold', edge_color='gray', arrowsize=20\n",
    ")\n",
    "plt.show()"
   ]
  },
  {
   "cell_type": "code",
   "execution_count": 459,
   "id": "e92a2374-39a9-4f73-a949-0e65163fb907",
   "metadata": {},
   "outputs": [],
   "source": [
    "matrix = [[0 for _ in range(len(edges))] for _ in range(len(edges))]\n",
    "\n",
    "for row, col in edges:\n",
    "    matrix[row - 1][col - 1] = 1  # 행과 열은 1부터 시작하므로 -1 처리"
   ]
  },
  {
   "cell_type": "markdown",
   "id": "a853c284-523f-4e2e-b312-9cb1daaa8cb0",
   "metadata": {},
   "source": [
    "행렬을 만들어줬다."
   ]
  },
  {
   "cell_type": "code",
   "execution_count": 460,
   "id": "c9aecba0-023c-462d-aaa9-ff60acd93222",
   "metadata": {},
   "outputs": [
    {
     "data": {
      "text/plain": [
       "[[1, 0, 0, 0], [1, 0, 1, 0], [0, 0, 0, 0], [0, 0, 1, 0]]"
      ]
     },
     "execution_count": 460,
     "metadata": {},
     "output_type": "execute_result"
    }
   ],
   "source": [
    "matrix"
   ]
  },
  {
   "cell_type": "markdown",
   "id": "5bbd6f72-c1fe-4f27-8405-ae892f969299",
   "metadata": {},
   "source": [
    "나가는 선"
   ]
  },
  {
   "cell_type": "code",
   "execution_count": 461,
   "id": "3eff527e-db61-4cef-99d7-945d072d84cc",
   "metadata": {},
   "outputs": [
    {
     "data": {
      "text/plain": [
       "[1, 2, 0, 1]"
      ]
     },
     "execution_count": 461,
     "metadata": {},
     "output_type": "execute_result"
    }
   ],
   "source": [
    "row_sums = []\n",
    "for i in range(len(matrix)):\n",
    "    if sum(matrix[i]) == 0:\n",
    "        row_sums.append(0)\n",
    "    elif sum(matrix[i]) != 0:\n",
    "        row_sums.append(sum(matrix[i]))\n",
    "row_sums"
   ]
  },
  {
   "cell_type": "markdown",
   "id": "889986a2-4423-404c-a94d-e643be8411ba",
   "metadata": {},
   "source": [
    "들어오는 선"
   ]
  },
  {
   "cell_type": "code",
   "execution_count": 462,
   "id": "9c2548dd-99a5-4055-b019-26a529a5c1c4",
   "metadata": {},
   "outputs": [
    {
     "data": {
      "text/plain": [
       "[2, 0, 2, 0]"
      ]
     },
     "execution_count": 462,
     "metadata": {},
     "output_type": "execute_result"
    }
   ],
   "source": [
    "col_sums = [0] * len(matrix[0])\n",
    "for row in matrix:\n",
    "    for j in range(len(row)):\n",
    "        col_sums[j] += row[j]\n",
    "col_sums"
   ]
  },
  {
   "cell_type": "code",
   "execution_count": 463,
   "id": "0661e496-739b-4baf-a7aa-a7c3292476b1",
   "metadata": {},
   "outputs": [
    {
     "data": {
      "text/plain": [
       "(2, 1, 1, 0)"
      ]
     },
     "execution_count": 463,
     "metadata": {},
     "output_type": "execute_result"
    }
   ],
   "source": [
    "bar = 0\n",
    "eight = 0\n",
    "for i in range(len(matrix)):\n",
    "    if col_sums[i] != 0 or row_sums[i] != 0:\n",
    "        if row_sums[i] == 0 :\n",
    "            bar += 1\n",
    "        elif row_sums[i] > 1 and col_sums[i] == 0:\n",
    "            정점 = i + 1\n",
    "        elif row_sums[i] == 2 and col_sums[i] >= 2:\n",
    "            eight += 1\n",
    "donut = row_sums[정점 - 1] - bar - eight\n",
    "정점, donut, bar, eight"
   ]
  },
  {
   "cell_type": "markdown",
   "id": "14ce82c1",
   "metadata": {},
   "source": [
    "크기가 n인 도넛 모양 그래프는 n개의 정점과 n개의 간선이 있습니다. 도넛 모양 그래프의 아무 한 정점에서 출발해 이용한 적 없는 간선을 계속 따라가면 나머지 n-1개의 정점들을 한 번씩 방문한 뒤 원래 출발했던 정점으로 돌아오게 됩니다.\n",
    "- 정점이랑 이어진 점 빼고 나가는 간선의 수와 들어오는 간선의 수가 같다.\n"
   ]
  },
  {
   "cell_type": "markdown",
   "id": "19c28d73",
   "metadata": {},
   "source": [
    "```python\n",
    "# 크기\n",
    "n = 1\n",
    "# 정점 i = 2, 1개 정점\n",
    "n = 1\n",
    "# 간선\n",
    "n = 1\n",
    "# 방문하는 정점 수\n",
    "n - 1 = 1\n",
    "````"
   ]
  },
  {
   "cell_type": "markdown",
   "id": "f17e10d2",
   "metadata": {},
   "source": [
    "크기가 n인 막대 모양 그래프는 n개의 정점과 n-1개의 간선이 있습니다. 막대 모양 그래프는 임의의 한 정점에서 출발해 간선을 계속 따라가면 나머지 n-1개의 정점을 한 번씩 방문하게 되는 정점이 단 하나 존재합니다. \n",
    "- 정점이랑 이어진 점 빼고 나가는 간선만 있다."
   ]
  },
  {
   "cell_type": "markdown",
   "id": "f613e804",
   "metadata": {},
   "source": [
    "```python\n",
    "# 크기\n",
    "n = 2\n",
    "# 정점\n",
    "n = 2\n",
    "# 간선\n",
    "n - 1 = 1\n",
    "# 방문하는 정점 수\n",
    "1\n",
    "```"
   ]
  },
  {
   "cell_type": "markdown",
   "id": "63771820",
   "metadata": {},
   "source": [
    "크기가 n인 8자 모양 그래프는 2n+1개의 정점과 2n+2개의 간선이 있습니다. 8자 모양 그래프는 크기가 동일한 2개의 도넛 모양 그래프에서 정점을 하나씩 골라 결합시킨 형태의 그래프입니다."
   ]
  },
  {
   "cell_type": "markdown",
   "id": "a3ad7228",
   "metadata": {},
   "source": [
    "```python\n",
    "# 크기\n",
    "n\n",
    "# 정점\n",
    "2n + 1\n",
    "# 간선\n",
    "2n + 2\n",
    "# 방문하는 정점 수\n",
    "\n",
    "```"
   ]
  },
  {
   "cell_type": "markdown",
   "id": "917f0862-e4f0-4374-8eb1-f6ea85660107",
   "metadata": {},
   "source": [
    "- 1번 노드(도넛)\n",
    "    - 나가는 간선  = 1\n",
    "    - 들어오는 간선 = 2 = 1 + 정점에서 오는 간선 1\n",
    "    - 특징 나가는 간선이 1 \n",
    "- 2번 노드(정점)\n",
    "    - 나가는 간선  = 2\n",
    "    - 들어오는 간선 = 0\n",
    "    - 특징 나가는 간선이 2, 들어오는 간선이 0\n",
    "- 3번 노드(막대)\n",
    "    - 나가는 간선  = 0\n",
    "    - 들어오는 간선 = 2\n",
    "- 4번 노드(막대)\n",
    "    - 나가는 간선  = 1\n",
    "    - 들어오는 간선 = 0 \n",
    "    - 나가는 간선만 존재\n",
    "- 나가는 간선의 수가 0 이면 막대\n",
    "    - 3번 노드\n",
    "    - 따라서 1\n",
    "- 나가는 간선의 수가 2 이상이고 들어오는 간선이 0 이면 정점\n",
    "    - 2번 노드\n",
    "    - 따라서 정점은 2번 노드\n",
    "- 나가는 간선의 수가 2 이고 들어오는 간선의 수가 2 이상이면 8자\n",
    "    - 없음\n",
    "- 정점에서 나가는 간선의 수에서 막대, 8자 빼면 도넛\n",
    "    - 2 - 1 - 1 = 0\n",
    "    - 따라서 0"
   ]
  },
  {
   "cell_type": "markdown",
   "id": "aa926a34-85ff-42f2-9c1a-33a84554fc11",
   "metadata": {},
   "source": [
    "- 정점 2\n",
    "- 도넛모양 1\n",
    "- 막대 모양 1\n",
    "- 8자 모양 0"
   ]
  },
  {
   "cell_type": "markdown",
   "id": "e8baf6c6-a954-4bc4-937f-ee44a6934ff8",
   "metadata": {},
   "source": [
    "`-` 2번 예제"
   ]
  },
  {
   "cell_type": "code",
   "execution_count": 444,
   "id": "0f8911bf-f529-4e1b-a2c0-59321e41403c",
   "metadata": {},
   "outputs": [],
   "source": [
    "edges = [[4, 11], [1, 12], [8, 3], [12, 7], [4, 2], [7, 11], [4, 8], [9, 6], [10, 11], [6, 10], [3, 5], [11, 1], [5, 3], [11, 9], [3, 8]]"
   ]
  },
  {
   "cell_type": "code",
   "execution_count": 454,
   "id": "ccbb9d34-82b5-4837-ba40-67ae6f7a1be7",
   "metadata": {},
   "outputs": [
    {
     "data": {
      "image/png": "[encoded data removed]",
      "text/plain": [
       "<Figure size 720x432 with 1 Axes>"
      ]
     },
     "metadata": {},
     "output_type": "display_data"
    }
   ],
   "source": [
    "import networkx as nx\n",
    "import matplotlib.pyplot as plt\n",
    "\n",
    "G = nx.DiGraph()\n",
    "G.add_edges_from(edges)\n",
    "\n",
    "pos = nx.spring_layout(G) \n",
    "fig, ax = plt.subplots(figsize=(10, 6))  # 명시적으로 Figure와 Axes 생성\n",
    "nx.draw(\n",
    "    G, pos, ax=ax, with_labels=True, node_size=500, node_color='lightblue',\n",
    "    font_size=12, font_weight='bold', edge_color='gray', arrowsize=20\n",
    ")\n",
    "plt.show()"
   ]
  },
  {
   "cell_type": "markdown",
   "id": "c2116b95-2dba-4d84-adb0-bc9540e4ab82",
   "metadata": {},
   "source": [
    "4번 정점이 생성한 정점이고 막대 모양 그래프 1개, 8자 모양 그래프 2개가 존재합니다. 따라서 [4, 0, 1, 2]를 return 해야 합니다."
   ]
  },
  {
   "cell_type": "code",
   "execution_count": 422,
   "id": "035e3457-f319-43e8-bf03-0d4c7b90700b",
   "metadata": {},
   "outputs": [],
   "source": [
    "matrix = [[0 for _ in range(len(edges))] for _ in range(len(edges))]\n",
    "\n",
    "for row, col in edges:\n",
    "    matrix[row - 1][col - 1] = 1  # 행과 열은 1부터 시작하므로 -1 처리"
   ]
  },
  {
   "cell_type": "markdown",
   "id": "1c28e2c4-b1f8-487e-996b-cda0529d22f3",
   "metadata": {},
   "source": [
    "나가는 선"
   ]
  },
  {
   "cell_type": "code",
   "execution_count": 423,
   "id": "bd32fcd9-9898-4f36-8d59-b276dd3eb6c9",
   "metadata": {},
   "outputs": [
    {
     "data": {
      "text/plain": [
       "[1, 0, 2, 3, 1, 1, 1, 1, 1, 1, 2, 1, 0, 0, 0]"
      ]
     },
     "execution_count": 423,
     "metadata": {},
     "output_type": "execute_result"
    }
   ],
   "source": [
    "row_sums = []\n",
    "for i in range(len(matrix)):\n",
    "    if sum(matrix[i]) == 0:\n",
    "        row_sums.append(0)\n",
    "    elif sum(matrix[i]) != 0:\n",
    "        row_sums.append(sum(matrix[i]))\n",
    "row_sums"
   ]
  },
  {
   "cell_type": "markdown",
   "id": "24289886-d82e-4026-99e6-398ba15b9652",
   "metadata": {},
   "source": [
    "들어오는 선"
   ]
  },
  {
   "cell_type": "code",
   "execution_count": 424,
   "id": "12b1b361-c5a4-41bd-9c95-29330b7e00b0",
   "metadata": {},
   "outputs": [
    {
     "data": {
      "text/plain": [
       "[1, 1, 2, 0, 1, 1, 1, 2, 1, 1, 3, 1, 0, 0, 0]"
      ]
     },
     "execution_count": 424,
     "metadata": {},
     "output_type": "execute_result"
    }
   ],
   "source": [
    "col_sums = [0] * len(matrix[0])\n",
    "for row in matrix:\n",
    "    for j in range(len(row)):\n",
    "        col_sums[j] += row[j]\n",
    "col_sums"
   ]
  },
  {
   "cell_type": "code",
   "execution_count": 425,
   "id": "1d527192-1dc5-4904-94aa-4a6850ada19e",
   "metadata": {},
   "outputs": [
    {
     "data": {
      "text/plain": [
       "(4, 0, 1, 2)"
      ]
     },
     "execution_count": 425,
     "metadata": {},
     "output_type": "execute_result"
    }
   ],
   "source": [
    "bar = 0\n",
    "eight = 0\n",
    "for i in range(len(matrix)):\n",
    "    if col_sums[i] != 0 or row_sums[i] != 0:\n",
    "        if row_sums[i] == 0 :\n",
    "            bar += 1\n",
    "        elif row_sums[i] > 1 and col_sums[i] == 0:\n",
    "            정점 = i + 1\n",
    "        elif row_sums[i] == 2 and col_sums[i] >= 2:\n",
    "            eight += 1\n",
    "donut = row_sums[정점 - 1] - bar - eight\n",
    "정점, donut, bar, eight"
   ]
  },
  {
   "cell_type": "markdown",
   "id": "0729135f",
   "metadata": {},
   "source": [
    "크기가 n인 도넛 모양 그래프는 n개의 정점과 n개의 간선이 있습니다. 도넛 모양 그래프의 아무 한 정점에서 출발해 이용한 적 없는 간선을 계속 따라가면 나머지 n-1개의 정점들을 한 번씩 방문한 뒤 원래 출발했던 정점으로 돌아오게 됩니다.\n",
    "- 정점이랑 이어진 점 빼고 나가는 간선의 수와 들어오는 간선의 수가 같다.\n"
   ]
  },
  {
   "cell_type": "markdown",
   "id": "971bcf29",
   "metadata": {},
   "source": [
    "```python\n",
    "# 크기\n",
    "n\n",
    "# 정점 i = 4, 1개 정점\n",
    "n\n",
    "# 간선\n",
    "n\n",
    "# 방문하는 정점 수\n",
    "n - 1\n",
    "````"
   ]
  },
  {
   "cell_type": "markdown",
   "id": "c018c571",
   "metadata": {},
   "source": [
    "크기가 n인 막대 모양 그래프는 n개의 정점과 n-1개의 간선이 있습니다. 막대 모양 그래프는 임의의 한 정점에서 출발해 간선을 계속 따라가면 나머지 n-1개의 정점을 한 번씩 방문하게 되는 정점이 단 하나 존재합니다. \n",
    "- 정점이랑 이어진 점 빼고 나가는 간선만 있다."
   ]
  },
  {
   "cell_type": "markdown",
   "id": "431bc049",
   "metadata": {},
   "source": [
    "```python\n",
    "# 크기\n",
    "n = 2\n",
    "# 정점\n",
    "n = 2\n",
    "# 간선\n",
    "n - 1 = 1\n",
    "# 방문하는 정점 수\n",
    "1\n",
    "```"
   ]
  },
  {
   "cell_type": "markdown",
   "id": "7c125068",
   "metadata": {},
   "source": [
    "크기가 n인 8자 모양 그래프는 2n+1개의 정점과 2n+2개의 간선이 있습니다. 8자 모양 그래프는 크기가 동일한 2개의 도넛 모양 그래프에서 정점을 하나씩 골라 결합시킨 형태의 그래프입니다."
   ]
  },
  {
   "cell_type": "markdown",
   "id": "4ae32311",
   "metadata": {},
   "source": [
    "```python\n",
    "# 크기\n",
    "n\n",
    "# 정점\n",
    "2n + 1\n",
    "# 간선\n",
    "2n + 2\n",
    "# 방문하는 정점 수\n",
    "\n",
    "```"
   ]
  },
  {
   "cell_type": "markdown",
   "id": "430c33c0",
   "metadata": {},
   "source": [
    "- 1번 노드\n",
    "    - 나가는 간선  = 1\n",
    "    - 들어오는 간선 = 1\n",
    "- 2번 노드\n",
    "    - 나가는 간선  = 0\n",
    "    - 들어오는 간선 = 1\n",
    "- 3번 노드 \n",
    "    - 나가는 간선  = 2\n",
    "    - 들어오는 간선 = 2\n",
    "- 4번 노드\n",
    "    - 나가는 간선  = 3\n",
    "    - 들어오는 간선 = 0 \n",
    "- 5번 노드\n",
    "    - 나가는 간선  = 1\n",
    "    - 들어오는 간선 = 1\n",
    "- 6번 노드\n",
    "    - 나가는 간선  = 1\n",
    "    - 들어오는 간선 = 1\n",
    "- 7번 노드 \n",
    "    - 나가는 간선  = 1\n",
    "    - 들어오는 간선 = 1\n",
    "- 8번 노드\n",
    "    - 나가는 간선  = 1\n",
    "    - 들어오는 간선 = 2\n",
    "- 9번 노드\n",
    "    - 나가는 간선  = 1\n",
    "    - 들어오는 간선 = 1\n",
    "- 10번 노드\n",
    "    - 나가는 간선  = 1\n",
    "    - 들어오는 간선 = 1\n",
    "- 11번 노드 \n",
    "    - 나가는 간선  = 2\n",
    "    - 들어오는 간선 = 3\n",
    "- 12번 노드\n",
    "    - 나가는 간선  = 1\n",
    "    - 들어오는 간선 = 1 \n",
    "- 나가는 간선의 수가 0 이면 막대\n",
    "    - 2번 노드\n",
    "    - 따라서 1\n",
    "- 나가는 간선의 수가 2 이상이고 들어오는 간선이 0 이면 정점\n",
    "    - 4번 노드\n",
    "    - 따라서 정점은 4번 노드\n",
    "- 나가는 간선의 수가 2 이고 들어오는 간선의 수가 2 이상이면 8자\n",
    "    - 3번 노드\n",
    "    - 11번 노드\n",
    "    - 따라서 2\n",
    "- 정점에서 나가는 간선의 수에서 막대, 8자 빼면 도넛\n",
    "    - 3 - 1 - 2 = 0\n",
    "    - 따라서 0"
   ]
  },
  {
   "cell_type": "markdown",
   "id": "7491ce45",
   "metadata": {},
   "source": [
    "- 정점 4\n",
    "- 도넛모양 0\n",
    "- 막대 모양 1\n",
    "- 8자 모양 2"
   ]
  },
  {
   "cell_type": "markdown",
   "id": "3fbd79bf-71d6-4c8c-96e5-4a4ac3675edf",
   "metadata": {},
   "source": [
    "`-` ChatGPT 가 정리한 효율적인 답"
   ]
  },
  {
   "cell_type": "code",
   "execution_count": 5,
   "id": "bcc1eaa8-8736-4011-8ed9-a1d3cee81592",
   "metadata": {},
   "outputs": [],
   "source": [
    "def solution(edges):\n",
    "    n = max(max(row, col) for row, col in edges)\n",
    "    \n",
    "    row_sums = [0] * n\n",
    "    col_sums = [0] * n\n",
    "\n",
    "    for row, col in edges:\n",
    "        row_sums[row - 1] += 1\n",
    "        col_sums[col - 1] += 1\n",
    "\n",
    "    bar, eight, vertex = 0, 0, -1\n",
    "\n",
    "    for i in range(n):\n",
    "        if row_sums[i] == 0 and col_sums[i] > 0:\n",
    "            bar += 1\n",
    "        elif row_sums[i] > 1 and col_sums[i] == 0:\n",
    "            vertex = i + 1\n",
    "        elif row_sums[i] == 2 and col_sums[i] >= 2:\n",
    "            eight += 1\n",
    "\n",
    "    donut = row_sums[vertex - 1] - bar - eight if vertex != -1 else 0\n",
    "\n",
    "    return [vertex, donut, bar, eight]"
   ]
  },
  {
   "cell_type": "code",
   "execution_count": 6,
   "id": "f0b9ee20",
   "metadata": {},
   "outputs": [
    {
     "data": {
      "text/plain": [
       "[2, 1, 1, 0]"
      ]
     },
     "execution_count": 6,
     "metadata": {},
     "output_type": "execute_result"
    }
   ],
   "source": [
    "solution([[2, 3], [4, 3], [1, 1], [2, 1]])\n",
    "# [2, 1, 1, 0]"
   ]
  },
  {
   "cell_type": "code",
   "execution_count": 7,
   "id": "cfcb4e7b",
   "metadata": {},
   "outputs": [
    {
     "data": {
      "text/plain": [
       "[4, 0, 1, 2]"
      ]
     },
     "execution_count": 7,
     "metadata": {},
     "output_type": "execute_result"
    }
   ],
   "source": [
    "solution([[4, 11], [1, 12], [8, 3], [12, 7], [4, 2], [7, 11], [4, 8], [9, 6], [10, 11], [6, 10], [3, 5], [11, 1], [5, 3], [11, 9], [3, 8]])\n",
    "# [4, 0, 1, 2]"
   ]
  },
  {
   "cell_type": "markdown",
   "id": "b49b1236-0492-4ff1-a8c0-937239c90fb9",
   "metadata": {},
   "source": [
    "주요 개선 사항\n",
    "\n",
    "1. 메모리 절약 및 효율적인 초기화:\n",
    "- 그래프의 크기를 동적으로 계산하여, 불필요한 n x n 행렬 초기화를 제거했습니다.\n",
    "2. 중복 계산 제거:\n",
    "- row_sums와 col_sums를 바로 계산하여, 행렬 탐색 과정을 줄였습니다.\n",
    "3. 로직 단순화:\n",
    "- bar, eight, vertex의 계산이 더 명확하고 간결하게 작성되었습니다.\n",
    "4. 가독성 향상:\n",
    "- 변수 이름을 유지하며 코드 블록을 논리적 흐름에 맞게 배치했습니다."
   ]
  },
  {
   "cell_type": "markdown",
   "id": "345b6453",
   "metadata": {},
   "source": [
    "예 1"
   ]
  },
  {
   "cell_type": "code",
   "execution_count": 11,
   "id": "82ae0546",
   "metadata": {},
   "outputs": [],
   "source": [
    "edges = [[2, 3], [4, 3], [1, 1], [2, 1]]"
   ]
  },
  {
   "cell_type": "markdown",
   "id": "c675312d",
   "metadata": {},
   "source": [
    "몇 행 몇 열의 데이터일지"
   ]
  },
  {
   "cell_type": "code",
   "execution_count": 12,
   "id": "e38b6645",
   "metadata": {},
   "outputs": [
    {
     "data": {
      "text/plain": [
       "4"
      ]
     },
     "execution_count": 12,
     "metadata": {},
     "output_type": "execute_result"
    }
   ],
   "source": [
    "n = max(max(row, col) for row, col in edges)\n",
    "n"
   ]
  },
  {
   "cell_type": "markdown",
   "id": "653d711c",
   "metadata": {},
   "source": [
    "행렬 구성"
   ]
  },
  {
   "cell_type": "code",
   "execution_count": 13,
   "id": "633422dd",
   "metadata": {},
   "outputs": [
    {
     "data": {
      "text/plain": [
       "([0, 0, 0, 0], [0, 0, 0, 0])"
      ]
     },
     "execution_count": 13,
     "metadata": {},
     "output_type": "execute_result"
    }
   ],
   "source": [
    "row_sums = [0] * n\n",
    "col_sums = [0] * n\n",
    "row_sums,col_sums"
   ]
  },
  {
   "cell_type": "markdown",
   "id": "37f1906a",
   "metadata": {},
   "source": [
    "입력 값으로 들어오는 간선의 수와 나가는 간선의 수 구하기"
   ]
  },
  {
   "cell_type": "code",
   "execution_count": 14,
   "id": "8d53f1f6",
   "metadata": {},
   "outputs": [
    {
     "data": {
      "text/plain": [
       "([1, 2, 0, 1], [2, 0, 2, 0])"
      ]
     },
     "execution_count": 14,
     "metadata": {},
     "output_type": "execute_result"
    }
   ],
   "source": [
    "for row, col in edges:\n",
    "    row_sums[row - 1] += 1\n",
    "    col_sums[col - 1] += 1\n",
    "row_sums, col_sums"
   ]
  },
  {
   "cell_type": "markdown",
   "id": "02606725",
   "metadata": {},
   "source": [
    "들어오는 간선의 수와 나가는 간선의 수로 정점, 막대, 8자 도형 찾기"
   ]
  },
  {
   "cell_type": "code",
   "execution_count": 15,
   "id": "e8807961",
   "metadata": {},
   "outputs": [
    {
     "data": {
      "text/plain": [
       "(1, 0, 2)"
      ]
     },
     "execution_count": 15,
     "metadata": {},
     "output_type": "execute_result"
    }
   ],
   "source": [
    "bar, eight, vertex = 0, 0, -1\n",
    "\n",
    "for i in range(n):\n",
    "    if row_sums[i] == 0 and col_sums[i] > 0:\n",
    "        bar += 1\n",
    "    elif row_sums[i] > 1 and col_sums[i] == 0:\n",
    "        vertex = i + 1\n",
    "    elif row_sums[i] == 2 and col_sums[i] >= 2:\n",
    "        eight += 1\n",
    "bar, eight, vertex"
   ]
  },
  {
   "cell_type": "markdown",
   "id": "d42cd438",
   "metadata": {},
   "source": [
    "정점에서 나가는 간선의 수는 도형의 총 개수이니까 정점에서 나가는 수에서 위애서 구한 막대, 8자 도형의 수 빼기"
   ]
  },
  {
   "cell_type": "code",
   "execution_count": 16,
   "id": "227252f4",
   "metadata": {},
   "outputs": [
    {
     "data": {
      "text/plain": [
       "1"
      ]
     },
     "execution_count": 16,
     "metadata": {},
     "output_type": "execute_result"
    }
   ],
   "source": [
    "donut = row_sums[vertex - 1] - bar - eight if vertex != -1 else 0\n",
    "donut"
   ]
  },
  {
   "cell_type": "markdown",
   "id": "4ea63bb7",
   "metadata": {},
   "source": [
    "예 2"
   ]
  },
  {
   "cell_type": "code",
   "execution_count": 17,
   "id": "ca4dc57a",
   "metadata": {},
   "outputs": [],
   "source": [
    "edges = [[4, 11], [1, 12], [8, 3], [12, 7], [4, 2], [7, 11], [4, 8], [9, 6], [10, 11], [6, 10], [3, 5], [11, 1], [5, 3], [11, 9], [3, 8]]"
   ]
  },
  {
   "cell_type": "code",
   "execution_count": 18,
   "id": "a4505e85",
   "metadata": {},
   "outputs": [
    {
     "data": {
      "text/plain": [
       "12"
      ]
     },
     "execution_count": 18,
     "metadata": {},
     "output_type": "execute_result"
    }
   ],
   "source": [
    "n = max(max(row, col) for row, col in edges)\n",
    "n"
   ]
  },
  {
   "cell_type": "code",
   "execution_count": 19,
   "id": "ece61b1c",
   "metadata": {},
   "outputs": [
    {
     "data": {
      "text/plain": [
       "([0, 0, 0, 0, 0, 0, 0, 0, 0, 0, 0, 0], [0, 0, 0, 0, 0, 0, 0, 0, 0, 0, 0, 0])"
      ]
     },
     "execution_count": 19,
     "metadata": {},
     "output_type": "execute_result"
    }
   ],
   "source": [
    "row_sums = [0] * n\n",
    "col_sums = [0] * n\n",
    "row_sums, col_sums"
   ]
  },
  {
   "cell_type": "code",
   "execution_count": 20,
   "id": "5d1d5bfd",
   "metadata": {},
   "outputs": [
    {
     "data": {
      "text/plain": [
       "([1, 0, 2, 3, 1, 1, 1, 1, 1, 1, 2, 1], [1, 1, 2, 0, 1, 1, 1, 2, 1, 1, 3, 1])"
      ]
     },
     "execution_count": 20,
     "metadata": {},
     "output_type": "execute_result"
    }
   ],
   "source": [
    "for row, col in edges:\n",
    "    row_sums[row - 1] += 1\n",
    "    col_sums[col - 1] += 1\n",
    "row_sums, col_sums"
   ]
  },
  {
   "cell_type": "code",
   "execution_count": 21,
   "id": "ee38bf4f",
   "metadata": {},
   "outputs": [
    {
     "data": {
      "text/plain": [
       "(1, 2, 4)"
      ]
     },
     "execution_count": 21,
     "metadata": {},
     "output_type": "execute_result"
    }
   ],
   "source": [
    "bar, eight, vertex = 0, 0, -1\n",
    "\n",
    "for i in range(n):\n",
    "    if row_sums[i] == 0 and col_sums[i] > 0:\n",
    "        bar += 1\n",
    "    elif row_sums[i] > 1 and col_sums[i] == 0:\n",
    "        vertex = i + 1\n",
    "    elif row_sums[i] == 2 and col_sums[i] >= 2:\n",
    "        eight += 1\n",
    "bar, eight, vertex"
   ]
  },
  {
   "cell_type": "code",
   "execution_count": 22,
   "id": "7385d8ed",
   "metadata": {},
   "outputs": [
    {
     "data": {
      "text/plain": [
       "0"
      ]
     },
     "execution_count": 22,
     "metadata": {},
     "output_type": "execute_result"
    }
   ],
   "source": [
    "donut = row_sums[vertex - 1] - bar - eight if vertex != -1 else 0\n",
    "donut"
   ]
  },
  {
   "cell_type": "code",
   "execution_count": null,
   "id": "81f5ed06",
   "metadata": {},
   "outputs": [],
   "source": []
  }
 ],
 "metadata": {
  "kernelspec": {
   "display_name": "base",
   "language": "python",
   "name": "python3"
  },
  "language_info": {
   "codemirror_mode": {
    "name": "ipython",
    "version": 3
   },
   "file_extension": ".py",
   "mimetype": "text/x-python",
   "name": "python",
   "nbconvert_exporter": "python",
   "pygments_lexer": "ipython3",
   "version": "3.11.7"
  }
 },
 "nbformat": 4,
 "nbformat_minor": 5
}
