{
 "cells": [
  {
   "cell_type": "raw",
   "id": "980bde5a-b548-429b-94a1-93f754afb82b",
   "metadata": {
    "id": "cac470df-29e7-4148-9bbd-d8b9a32fa570",
    "tags": []
   },
   "source": [
    "---\n",
    "title: \"**[Coding Test]**데이터 분석\"\n",
    "author: \"SEOYEON CHOI\"\n",
    "date: \"2024-12-30\"\n",
    "---"
   ]
  },
  {
   "cell_type": "markdown",
   "id": "1b2cdea4-09df-4d72-9c56-6dec11d02b91",
   "metadata": {},
   "source": [
    "`-` 링크"
   ]
  },
  {
   "cell_type": "markdown",
   "id": "da0a759c-0986-4262-ae55-9bedf30b1310",
   "metadata": {},
   "source": [
    "https://school.programmers.co.kr/learn/courses/30/lessons/250121"
   ]
  },
  {
   "cell_type": "markdown",
   "id": "45a3bade-0321-469e-b590-a10e63f58e54",
   "metadata": {},
   "source": [
    "`-` 문제"
   ]
  },
  {
   "cell_type": "markdown",
   "id": "cc238afd-04aa-4154-9328-a62d8f697b06",
   "metadata": {},
   "source": [
    "AI 엔지니어인 현식이는 데이터를 분석하는 작업을 진행하고 있습니다. 데이터는 [\"코드 번호(code)\", \"제조일(date)\", \"최대 수량(maximum)\", \"현재 수량(remain)\"]으로 구성되어 있으며 현식이는 이 데이터들 중 조건을 만족하는 데이터만 뽑아서 정렬하려 합니다.\n",
    "\n",
    "예를 들어 다음과 같이 데이터가 주어진다면\n",
    "\n",
    "data = [[1, 20300104, 100, 80], [2, 20300804, 847, 37], [3, 20300401, 10, 8]]\n",
    "\n",
    "이 데이터는 다음 표처럼 나타낼 수 있습니다.\n",
    "\n",
    "code\tdate\tmaximum\tremain\n",
    "\n",
    "1\t20300104\t100\t80\n",
    "\n",
    "2\t20300804\t847\t37\n",
    "\n",
    "3\t20300401\t10\t8\n",
    "\n",
    "주어진 데이터 중 \"제조일이 20300501 이전인 물건들을 현재 수량이 적은 순서\"로 정렬해야 한다면 조건에 맞게 가공된 데이터는 다음과 같습니다.\n",
    "\n",
    "data = [[3,20300401,10,8],[1,20300104,100,80]]\n",
    "\n",
    "정렬한 데이터들이 담긴 이차원 정수 리스트 data와 어떤 정보를 기준으로 데이터를 뽑아낼지를 의미하는 문자열 ext, 뽑아낼 정보의 기준값을 나타내는 정수 val_ext, 정보를 정렬할 기준이 되는 문자열 sort_by가 주어집니다.\n",
    "\n",
    "data에서 ext 값이 val_ext보다 작은 데이터만 뽑은 후, sort_by에 해당하는 값을 기준으로 오름차순으로 정렬하여 return 하도록 solution 함수를 완성해 주세요. 단, 조건을 만족하는 데이터는 항상 한 개 이상 존재합니다.\n",
    "\n",
    "제한사항\n",
    "\n",
    "1 ≤ data의 길이 ≤ 500\n",
    "\n",
    "data[i]의 원소는 [코드 번호(code), 제조일(date), 최대 수량(maximum), 현재 수량(remain)] 형태입니다.\n",
    "\n",
    "1 ≤ 코드 번호≤ 100,000\n",
    "\n",
    "20000101 ≤ 제조일≤ 29991231\n",
    "\n",
    "data[i][1]은 yyyymmdd 형태의 값을 가지며, 올바른 날짜만 주어집니다. (yyyy : 연도, mm : 월, dd : 일)\n",
    "\n",
    "1 ≤ 최대 수량≤ 10,000\n",
    "\n",
    "1 ≤ 현재 수량≤ 최대 수량\n",
    "\n",
    "ext와 sort_by의 값은 다음 중 한 가지를 가집니다.\n",
    "\n",
    "\"code\", \"date\", \"maximum\", \"remain\"\n",
    "\n",
    "순서대로 코드 번호, 제조일, 최대 수량, 현재 수량을 의미합니다.\n",
    "\n",
    "val_ext는 ext에 따라 올바른 범위의 숫자로 주어집니다.\n",
    "정렬 기준에 해당하는 값이 서로 같은 경우는 없습니다.\n"
   ]
  },
  {
   "cell_type": "markdown",
   "id": "7a910933-a11d-4c29-a1c9-d6f3ef3de154",
   "metadata": {},
   "source": [
    "`-` 답"
   ]
  },
  {
   "cell_type": "code",
   "execution_count": 55,
   "id": "099dcb5c-9a27-4918-8264-cf760b897243",
   "metadata": {},
   "outputs": [],
   "source": [
    "def solution(data, ext, val_ext, sort_by):\n",
    "    if ext == 'code':\n",
    "        temp = [data[i][0] for i in range(len(data))]\n",
    "    elif ext == 'date':\n",
    "        temp = [data[i][1] for i in range(len(data))]\n",
    "    elif ext == 'maximum':\n",
    "        temp = [data[i][2] for i in range(len(data))]\n",
    "    elif ext == 'remain':\n",
    "        temp = [data[i][3] for i in range(len(data))]\n",
    "\n",
    "    num = [i for i, t in enumerate(temp) if t < val_ext]\n",
    "\n",
    "    if sort_by == 'code':\n",
    "        temp = [data[i][0] for i in range(len(data))]\n",
    "    elif sort_by == 'date':\n",
    "        temp = [data[i][1] for i in range(len(data))]\n",
    "    elif sort_by == 'maximum':\n",
    "        temp = [data[i][2] for i in range(len(data))]\n",
    "    elif sort_by == 'remain':\n",
    "        temp = [data[i][3] for i in range(len(data))]\n",
    "\n",
    "    indexed_data = sorted(enumerate(temp), key=lambda x: x[1])\n",
    "\n",
    "    sort_num = [x[0] for x in indexed_data if x[0] in num]\n",
    "\n",
    "    answer = [data[i] for i in sort_num]\n",
    "    return answer"
   ]
  },
  {
   "cell_type": "code",
   "execution_count": 56,
   "id": "ee81b31f-52f4-4967-bf57-ee4c640e2f49",
   "metadata": {},
   "outputs": [
    {
     "data": {
      "text/plain": [
       "[[3, 20300401, 10, 8], [1, 20300104, 100, 80]]"
      ]
     },
     "execution_count": 56,
     "metadata": {},
     "output_type": "execute_result"
    }
   ],
   "source": [
    "solution([[1, 20300104, 100, 80], [2, 20300804, 847, 37], [3, 20300401, 10, 8]],\"date\",20300501,\"remain\")\n",
    "# [[3,20300401,10,8],[1,20300104,100,80]]"
   ]
  },
  {
   "cell_type": "markdown",
   "id": "c68b1ece-bf38-4421-93e3-f00aaafddde9",
   "metadata": {},
   "source": [
    "`-` 한줄씩"
   ]
  },
  {
   "cell_type": "code",
   "execution_count": 61,
   "id": "829bf967-d7d9-4634-ac86-c03f7fc1810c",
   "metadata": {},
   "outputs": [],
   "source": [
    "data = [[1, 20300104, 100, 80], [2, 20300804, 847, 37], [3, 20300401, 10, 8]]\n",
    "ext = \"date\"\n",
    "val_ext = 20300501\n",
    "sort_by = \"remain\""
   ]
  },
  {
   "cell_type": "code",
   "execution_count": 62,
   "id": "c5fc88a2-278a-40d8-8899-12ab63619bc8",
   "metadata": {},
   "outputs": [],
   "source": [
    "if ext == 'code':\n",
    "    temp = [data[i][0] for i in range(len(data))]\n",
    "elif ext == 'date':\n",
    "    temp = [data[i][1] for i in range(len(data))]\n",
    "elif ext == 'maximum':\n",
    "    temp = [data[i][2] for i in range(len(data))]\n",
    "elif ext == 'remain':\n",
    "    temp = [data[i][3] for i in range(len(data))]"
   ]
  },
  {
   "cell_type": "code",
   "execution_count": 63,
   "id": "e4ae5441-b848-4175-8e83-dacdc41af4ad",
   "metadata": {},
   "outputs": [],
   "source": [
    "num = [i for i, t in enumerate(temp) if t < val_ext]"
   ]
  },
  {
   "cell_type": "code",
   "execution_count": 64,
   "id": "fd68dbae-7708-4c73-8764-f893d51bd4ac",
   "metadata": {},
   "outputs": [],
   "source": [
    "if sort_by == 'code':\n",
    "    temp = [data[i][0] for i in range(len(data))]\n",
    "elif sort_by == 'date':\n",
    "    temp = [data[i][1] for i in range(len(data))]\n",
    "elif sort_by == 'maximum':\n",
    "    temp = [data[i][2] for i in range(len(data))]\n",
    "elif sort_by == 'remain':\n",
    "    temp = [data[i][3] for i in range(len(data))]"
   ]
  },
  {
   "cell_type": "code",
   "execution_count": 65,
   "id": "597f32d3-a6c5-4745-b581-78878d1c7eed",
   "metadata": {},
   "outputs": [],
   "source": [
    "indexed_data = sorted(enumerate(temp), key=lambda x: x[1])"
   ]
  },
  {
   "cell_type": "code",
   "execution_count": 66,
   "id": "af63eb44-4eff-4c29-9366-bb9d6281fa29",
   "metadata": {},
   "outputs": [],
   "source": [
    "sort_num = [x[0] for x in indexed_data if x[0] in num]"
   ]
  },
  {
   "cell_type": "code",
   "execution_count": 67,
   "id": "632185f8-002e-4217-86f6-7a93dcf1965a",
   "metadata": {},
   "outputs": [],
   "source": [
    "answer = [data[i] for i in sort_num]"
   ]
  },
  {
   "cell_type": "code",
   "execution_count": 68,
   "id": "43086afb-e65f-4b25-b06d-ee3614678a1f",
   "metadata": {},
   "outputs": [
    {
     "data": {
      "text/plain": [
       "[[3, 20300401, 10, 8], [1, 20300104, 100, 80]]"
      ]
     },
     "execution_count": 68,
     "metadata": {},
     "output_type": "execute_result"
    }
   ],
   "source": [
    "answer"
   ]
  },
  {
   "cell_type": "markdown",
   "id": "aad481ef-0fde-4dc5-832f-55042fc84915",
   "metadata": {},
   "source": [
    "`-` ChatGPT 결과"
   ]
  },
  {
   "cell_type": "code",
   "execution_count": 59,
   "id": "25e44aea-9720-4963-910b-fb979d147ced",
   "metadata": {},
   "outputs": [],
   "source": [
    "def solution(data, ext, val_ext, sort_by):\n",
    "    # 특정 열 추출 함수\n",
    "    def get_column(data, col_name):\n",
    "        col_map = {'code': 0, 'date': 1, 'maximum': 2, 'remain': 3}\n",
    "        return [row[col_map[col_name]] for row in data]\n",
    "\n",
    "    temp = get_column(data, ext)\n",
    "\n",
    "    num = [i for i, t in enumerate(temp) if t < val_ext]\n",
    "\n",
    "    temp = get_column(data, sort_by)\n",
    "\n",
    "    indexed_data = sorted(enumerate(temp), key=lambda x: x[1])\n",
    "    sort_num = [x[0] for x in indexed_data if x[0] in num]\n",
    "\n",
    "    answer = [data[i] for i in sort_num]\n",
    "    return answer\n"
   ]
  },
  {
   "cell_type": "code",
   "execution_count": 60,
   "id": "6908120d-e3b8-4865-ac8b-08e54275c14c",
   "metadata": {},
   "outputs": [
    {
     "data": {
      "text/plain": [
       "[[3, 20300401, 10, 8], [1, 20300104, 100, 80]]"
      ]
     },
     "execution_count": 60,
     "metadata": {},
     "output_type": "execute_result"
    }
   ],
   "source": [
    "solution([[1, 20300104, 100, 80], [2, 20300804, 847, 37], [3, 20300401, 10, 8]],\"date\",20300501,\"remain\")\n",
    "# [[3,20300401,10,8],[1,20300104,100,80]]"
   ]
  },
  {
   "cell_type": "code",
   "execution_count": null,
   "id": "b8d058ff-54ba-4bf9-9e65-566df356f4fc",
   "metadata": {},
   "outputs": [],
   "source": []
  }
 ],
 "metadata": {
  "kernelspec": {
   "display_name": "Python 3",
   "language": "python",
   "name": "python3"
  },
  "language_info": {
   "codemirror_mode": {
    "name": "ipython",
    "version": 3
   },
   "file_extension": ".py",
   "mimetype": "text/x-python",
   "name": "python",
   "nbconvert_exporter": "python",
   "pygments_lexer": "ipython3",
   "version": "3.8.0"
  }
 },
 "nbformat": 4,
 "nbformat_minor": 5
}
