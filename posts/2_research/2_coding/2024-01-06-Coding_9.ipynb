{
 "cells": [
  {
   "cell_type": "raw",
   "id": "dcc49118-8af6-44ff-87a2-fc9ad80e234a",
   "metadata": {
    "id": "cac470df-29e7-4148-9bbd-d8b9a32fa570",
    "tags": []
   },
   "source": [
    "---\n",
    "title: \"**[Coding Test]**아날로그 시계\"\n",
    "author: \"SEOYEON CHOI\"\n",
    "date: \"2025-01-06\"\n",
    "---"
   ]
  },
  {
   "cell_type": "markdown",
   "id": "ecb09dfa-da38-4497-a9e1-e7c9e299ac45",
   "metadata": {},
   "source": [
    "`-` 링크"
   ]
  },
  {
   "cell_type": "markdown",
   "id": "a93bf0c5-815f-4868-8bac-670f924392e9",
   "metadata": {},
   "source": [
    "https://school.programmers.co.kr/learn/courses/30/lessons/250135"
   ]
  },
  {
   "cell_type": "markdown",
   "id": "69d63b80-8504-4905-83b8-23643be1075d",
   "metadata": {},
   "source": [
    "`-` 문제"
   ]
  },
  {
   "cell_type": "code",
   "execution_count": null,
   "id": "72c87a50-a81b-4d90-8d27-32e02edc3ad5",
   "metadata": {},
   "outputs": [],
   "source": []
  }
 ],
 "metadata": {
  "kernelspec": {
   "display_name": "Python 3",
   "language": "python",
   "name": "python3"
  },
  "language_info": {
   "codemirror_mode": {
    "name": "ipython",
    "version": 3
   },
   "file_extension": ".py",
   "mimetype": "text/x-python",
   "name": "python",
   "nbconvert_exporter": "python",
   "pygments_lexer": "ipython3",
   "version": "3.8.0"
  }
 },
 "nbformat": 4,
 "nbformat_minor": 5
}
