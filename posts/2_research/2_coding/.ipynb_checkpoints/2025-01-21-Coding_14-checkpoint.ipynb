{
 "cells": [
  {
   "cell_type": "raw",
   "id": "7493cea7-8a44-461b-aaa4-9aaa9489bbaa",
   "metadata": {
    "id": "cac470df-29e7-4148-9bbd-d8b9a32fa570",
    "tags": []
   },
   "source": [
    "---\n",
    "title: \"**[Coding Test]**두 원 사이의 정수 쌍\"\n",
    "author: \"SEOYEON CHOI\"\n",
    "date: \"2025-01-21\"\n",
    "---"
   ]
  },
  {
   "cell_type": "markdown",
   "id": "91e724bc-7d71-47fc-9cc5-c0fd54a47976",
   "metadata": {},
   "source": [
    "`-` 링크"
   ]
  },
  {
   "cell_type": "markdown",
   "id": "8ff2f6bb-3131-4cfb-8f22-110d2be3b8d1",
   "metadata": {},
   "source": [
    "https://school.programmers.co.kr/learn/courses/30/lessons/181187"
   ]
  },
  {
   "cell_type": "markdown",
   "id": "1ef40060-04e2-478c-869a-79d81501921a",
   "metadata": {},
   "source": [
    "x축과 y축으로 이루어진 2차원 직교 좌표계에 중심이 원점인 서로 다른 크기의 원이 두 개 주어집니다. 반지름을 나타내는 두 정수 r1, r2가 매개변수로 주어질 때, 두 원 사이의 공간에 x좌표와 y좌표가 모두 정수인 점의 개수를 return하도록 solution 함수를 완성해주세요.\n",
    "※ 각 원 위의 점도 포함하여 셉니다.\n",
    "\n",
    "제한 사항\n",
    "\n",
    "1 ≤ r1 < r2 ≤ 1,000,000"
   ]
  },
  {
   "cell_type": "code",
   "execution_count": 362,
   "id": "47192e4d-46bb-489e-8eda-bb84131303df",
   "metadata": {},
   "outputs": [],
   "source": [
    "import math"
   ]
  },
  {
   "cell_type": "code",
   "execution_count": 369,
   "id": "9aba5a3f-f290-427c-a235-39d0cc6f7570",
   "metadata": {},
   "outputs": [],
   "source": [
    "r1, r2 = 2, 3"
   ]
  },
  {
   "cell_type": "code",
   "execution_count": 379,
   "id": "da4bb501-2ea3-428c-929b-20cf62c1e630",
   "metadata": {},
   "outputs": [],
   "source": [
    "def sq(a,b):\n",
    "    return math.sqrt(a**2 - b**2)\n",
    "\n",
    "answer = 0\n",
    "    \n",
    "for i in range(1,r2+1):\n",
    "    if i < r1 :\n",
    "        score = math.ceil(sq(r1,i))\n",
    "    else:\n",
    "        score = 0\n",
    "    enter = int(sq(r2,i))\n",
    "    answer = answer + enter - score + 1"
   ]
  },
  {
   "cell_type": "code",
   "execution_count": 380,
   "id": "29ac5248-44d9-433d-b703-f6f71b594e90",
   "metadata": {},
   "outputs": [
    {
     "data": {
      "text/plain": [
       "20"
      ]
     },
     "execution_count": 380,
     "metadata": {},
     "output_type": "execute_result"
    }
   ],
   "source": [
    "answer * 4"
   ]
  },
  {
   "cell_type": "markdown",
   "id": "dbaf4fa9-91be-45b1-87cc-fc43bf9654d0",
   "metadata": {},
   "source": [
    "`-` 답"
   ]
  },
  {
   "cell_type": "code",
   "execution_count": 384,
   "id": "210948fa-dca3-49f3-ae59-cfd4a173505a",
   "metadata": {},
   "outputs": [],
   "source": [
    "import math\n",
    "\n",
    "def solution(r1, r2):\n",
    "    def sq(a,b):\n",
    "        return math.sqrt(a**2 - b**2)\n",
    "\n",
    "    answer = 0\n",
    "\n",
    "    for i in range(1,r2+1):\n",
    "        if i < r1 :\n",
    "            score = math.ceil(sq(r1,i))\n",
    "        else:\n",
    "            score = 0\n",
    "        enter = int(sq(r2,i))\n",
    "        answer = answer + enter - score + 1\n",
    "    return answer * 4"
   ]
  },
  {
   "cell_type": "code",
   "execution_count": 385,
   "id": "dfcb04cc-036b-41db-9176-c0cc155b9282",
   "metadata": {},
   "outputs": [
    {
     "data": {
      "text/plain": [
       "20"
      ]
     },
     "execution_count": 385,
     "metadata": {},
     "output_type": "execute_result"
    }
   ],
   "source": [
    "solution(2, 3)\n",
    "# 20"
   ]
  },
  {
   "cell_type": "markdown",
   "id": "e149b6dc-a692-482b-8407-e20e62939fc3",
   "metadata": {},
   "source": [
    "`-` 한줄씩"
   ]
  },
  {
   "cell_type": "code",
   "execution_count": 386,
   "id": "35e7b668-50bf-433c-a059-db34e6cf6203",
   "metadata": {},
   "outputs": [],
   "source": [
    "def sq(a,b):\n",
    "    return math.sqrt(a**2 - b**2)"
   ]
  },
  {
   "cell_type": "code",
   "execution_count": 399,
   "id": "14208b64-c87e-4afe-9869-2c60795c539b",
   "metadata": {},
   "outputs": [
    {
     "data": {
      "text/plain": [
       "3"
      ]
     },
     "execution_count": 399,
     "metadata": {},
     "output_type": "execute_result"
    }
   ],
   "source": [
    "2**2 - 1**2"
   ]
  },
  {
   "cell_type": "code",
   "execution_count": 400,
   "id": "68206d2d-d98d-48dd-b4cb-b14791ab7fbc",
   "metadata": {},
   "outputs": [
    {
     "data": {
      "text/plain": [
       "1.7320508075688772"
      ]
     },
     "execution_count": 400,
     "metadata": {},
     "output_type": "execute_result"
    }
   ],
   "source": [
    "math.sqrt(2**2 - 1**2)"
   ]
  },
  {
   "cell_type": "code",
   "execution_count": 388,
   "id": "51865734-65b7-41e4-b756-982585a4381c",
   "metadata": {},
   "outputs": [
    {
     "data": {
      "text/plain": [
       "1.7320508075688772"
      ]
     },
     "execution_count": 388,
     "metadata": {},
     "output_type": "execute_result"
    }
   ],
   "source": [
    "sq(2,1)"
   ]
  },
  {
   "cell_type": "code",
   "execution_count": 397,
   "id": "86e50226-f7ba-4c5a-aba4-c64457d50146",
   "metadata": {},
   "outputs": [],
   "source": [
    "answer = 0"
   ]
  },
  {
   "cell_type": "code",
   "execution_count": 398,
   "id": "32c0f651-5a37-4a4d-817a-c357b4820f62",
   "metadata": {},
   "outputs": [
    {
     "name": "stdout",
     "output_type": "stream",
     "text": [
      "i = 1 일때 2 = r1 안의 정수쌍 제거\n",
      "1\n",
      "4\n",
      "5\n"
     ]
    }
   ],
   "source": [
    "for i in range(1,r2+1):\n",
    "    if i < r1 :\n",
    "        score = math.ceil(sq(r1,i))\n",
    "        print(f'i = {i} 일때 {score} = r1 안의 정수쌍 제거')\n",
    "    else:\n",
    "        score = 0\n",
    "    enter = int(sq(r2,i))\n",
    "    answer = answer + enter - score + 1\n",
    "    print(answer)"
   ]
  },
  {
   "cell_type": "code",
   "execution_count": null,
   "id": "a17419ed-9a8f-4925-90ba-4d8c870c5bca",
   "metadata": {},
   "outputs": [],
   "source": []
  }
 ],
 "metadata": {
  "kernelspec": {
   "display_name": "Python 3",
   "language": "python",
   "name": "python3"
  },
  "language_info": {
   "codemirror_mode": {
    "name": "ipython",
    "version": 3
   },
   "file_extension": ".py",
   "mimetype": "text/x-python",
   "name": "python",
   "nbconvert_exporter": "python",
   "pygments_lexer": "ipython3",
   "version": "3.8.0"
  }
 },
 "nbformat": 4,
 "nbformat_minor": 5
}
