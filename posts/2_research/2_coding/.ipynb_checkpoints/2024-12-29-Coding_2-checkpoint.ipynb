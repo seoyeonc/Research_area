{
 "cells": [
  {
   "cell_type": "raw",
   "id": "f8de405d-c75e-49db-8994-b2ce1259a67f",
   "metadata": {
    "id": "cac470df-29e7-4148-9bbd-d8b9a32fa570",
    "tags": []
   },
   "source": [
    "---\n",
    "title: \"**[Coding Test]**붕대감기\"\n",
    "author: \"SEOYEON CHOI\"\n",
    "date: \"2024-12-29\"\n",
    "---"
   ]
  },
  {
   "cell_type": "markdown",
   "id": "b7582247-e9c1-4d19-9e32-18aae4469ac0",
   "metadata": {},
   "source": [
    "`-` 링크"
   ]
  },
  {
   "cell_type": "markdown",
   "id": "864e1612-cf68-4fdc-9c69-a054366712d3",
   "metadata": {},
   "source": [
    "https://school.programmers.co.kr/learn/courses/30/lessons/250137"
   ]
  },
  {
   "cell_type": "markdown",
   "id": "e1788f82-14c6-4c8e-8d07-5ec836a543db",
   "metadata": {},
   "source": [
    "`-` 문제"
   ]
  },
  {
   "cell_type": "markdown",
   "id": "d974a700-ad6e-4abe-9aea-09b310afbad1",
   "metadata": {},
   "source": [
    "어떤 게임에는 붕대 감기라는 기술이 있습니다.\n",
    "\n",
    "붕대 감기는 t초 동안 붕대를 감으면서 1초마다 x만큼의 체력을 회복합니다. t초 연속으로 붕대를 감는 데 성공한다면 y만큼의 체력을 추가로 회복합니다. 게임 캐릭터에는 최대 체력이 존재해 현재 체력이 최대 체력보다 커지는 것은 불가능합니다.\n",
    "\n",
    "기술을 쓰는 도중 몬스터에게 공격을 당하면 기술이 취소되고, 공격을 당하는 순간에는 체력을 회복할 수 없습니다. 몬스터에게 공격당해 기술이 취소당하거나 기술이 끝나면 그 즉시 붕대 감기를 다시 사용하며, 연속 성공 시간이 0으로 초기화됩니다.\n",
    "\n",
    "몬스터의 공격을 받으면 정해진 피해량만큼 현재 체력이 줄어듭니다. 이때, 현재 체력이 0 이하가 되면 캐릭터가 죽으며 더 이상 체력을 회복할 수 없습니다.\n",
    "\n",
    "당신은 붕대감기 기술의 정보, 캐릭터가 가진 최대 체력과 몬스터의 공격 패턴이 주어질 때 캐릭터가 끝까지 생존할 수 있는지 궁금합니다.\n",
    "\n",
    "붕대 감기 기술의 시전 시간, 1초당 회복량, 추가 회복량을 담은 1차원 정수 배열 bandage와 최대 체력을 의미하는 정수 health, 몬스터의 공격 시간과 피해량을 담은 2차원 정수 배열 attacks가 매개변수로 주어집니다. 모든 공격이 끝난 직후 남은 체력을 return 하도록 solution 함수를 완성해 주세요. 만약 몬스터의 공격을 받고 캐릭터의 체력이 0 이하가 되어 죽는다면 -1을 return 해주세요."
   ]
  },
  {
   "cell_type": "code",
   "execution_count": 463,
   "id": "8fd33e73-eaa5-41c2-a100-500aed605600",
   "metadata": {},
   "outputs": [],
   "source": [
    "def solution(bandage, health, attacks):\n",
    "    time_attacks = [attack[0] for attack in attacks]\n",
    "    value_attacks = [attack[1] for attack in attacks]\n",
    "\n",
    "    max_health = health\n",
    "    time = 0\n",
    "    con_attack = 0\n",
    "    j = 0\n",
    "\n",
    "    for current_time in range(1, attacks[-1][0] + 1):\n",
    "        time += 1\n",
    "\n",
    "        if j < len(time_attacks) and current_time == time_attacks[j]:\n",
    "            health -= value_attacks[j]\n",
    "            con_attack = 0  \n",
    "            j += 1\n",
    "        else: \n",
    "            con_attack += 1\n",
    "            health = min(max_health, health + bandage[1])\n",
    "            if con_attack == bandage[0]:\n",
    "                health = min(max_health, health + bandage[2])\n",
    "                con_attack = 0\n",
    "        if health <= 0:\n",
    "            break\n",
    "\n",
    "    if health <= 0:\n",
    "        return -1\n",
    "    answer = health\n",
    "\n",
    "    return answer"
   ]
  },
  {
   "cell_type": "code",
   "execution_count": 464,
   "id": "f0e032f5-2ef9-418d-b3fe-315a20158372",
   "metadata": {},
   "outputs": [
    {
     "data": {
      "text/plain": [
       "5"
      ]
     },
     "execution_count": 464,
     "metadata": {},
     "output_type": "execute_result"
    }
   ],
   "source": [
    "solution([5, 1, 5],30,[[2, 10], [9, 15], [10, 5], [11, 5]])\n",
    "# 5"
   ]
  },
  {
   "cell_type": "code",
   "execution_count": 465,
   "id": "ba41ef28-43a1-4692-94cc-c2281a5cefcd",
   "metadata": {},
   "outputs": [
    {
     "data": {
      "text/plain": [
       "-1"
      ]
     },
     "execution_count": 465,
     "metadata": {},
     "output_type": "execute_result"
    }
   ],
   "source": [
    "solution([3, 2, 7],20,[[1, 15], [5, 16], [8, 6]])\n",
    "# -1"
   ]
  },
  {
   "cell_type": "code",
   "execution_count": 466,
   "id": "46e62d57-59ee-4d1d-b8e5-79c72b191e5b",
   "metadata": {},
   "outputs": [
    {
     "data": {
      "text/plain": [
       "-1"
      ]
     },
     "execution_count": 466,
     "metadata": {},
     "output_type": "execute_result"
    }
   ],
   "source": [
    "solution([4, 2, 7],20,[[1, 15], [5, 16], [8, 6]]) \n",
    "# -1"
   ]
  },
  {
   "cell_type": "code",
   "execution_count": 467,
   "id": "d2f38de4-02f1-4efa-bff4-be7991c24ef6",
   "metadata": {},
   "outputs": [
    {
     "data": {
      "text/plain": [
       "3"
      ]
     },
     "execution_count": 467,
     "metadata": {},
     "output_type": "execute_result"
    }
   ],
   "source": [
    "solution([1, 1, 1],5,[[1, 2], [3, 2]])\n",
    "# 3"
   ]
  },
  {
   "cell_type": "markdown",
   "id": "76f6d11b-7bd2-47d1-bbcd-f49aed1a24ec",
   "metadata": {},
   "source": [
    "`-` 힌줄씩"
   ]
  },
  {
   "cell_type": "markdown",
   "id": "5790b7bf-b5ff-49f5-a6a0-8c49aa510393",
   "metadata": {},
   "source": [
    "bandage는 [시전 시간, 초당 회복량, 추가 회복량] 형태의 길이가 3인 정수 배열입"
   ]
  },
  {
   "cell_type": "code",
   "execution_count": 481,
   "id": "91d88454-04b3-4b27-8993-cfccb462b138",
   "metadata": {},
   "outputs": [],
   "source": [
    "bandage = [5, 1, 5]\n",
    "health = 30\n",
    "attacks = [[2, 10], [9, 15], [10, 5], [11, 5]]"
   ]
  },
  {
   "cell_type": "markdown",
   "id": "ffeb2313-8ae2-4349-b86d-c996f7ccdf2b",
   "metadata": {},
   "source": [
    "`-` 공격 시간과 값 구분"
   ]
  },
  {
   "cell_type": "code",
   "execution_count": 482,
   "id": "7c4211f7-a46f-46e3-b394-f1d563cec817",
   "metadata": {},
   "outputs": [
    {
     "data": {
      "text/plain": [
       "[2, 9, 10, 11]"
      ]
     },
     "execution_count": 482,
     "metadata": {},
     "output_type": "execute_result"
    }
   ],
   "source": [
    "time_attacks = [attack[0] for attack in attacks]\n",
    "time_attacks"
   ]
  },
  {
   "cell_type": "code",
   "execution_count": 483,
   "id": "f9d1d361-0243-48eb-8a20-44a25052d365",
   "metadata": {},
   "outputs": [
    {
     "data": {
      "text/plain": [
       "[10, 15, 5, 5]"
      ]
     },
     "execution_count": 483,
     "metadata": {},
     "output_type": "execute_result"
    }
   ],
   "source": [
    "value_attacks = [attack[1] for attack in attacks]\n",
    "value_attacks"
   ]
  },
  {
   "cell_type": "markdown",
   "id": "034c1545-65cf-4941-b6ef-8af712dbafb3",
   "metadata": {},
   "source": [
    "`-` 필요한 변수"
   ]
  },
  {
   "cell_type": "code",
   "execution_count": 484,
   "id": "00afa86f-d885-4b6a-8657-95633d75c4d7",
   "metadata": {},
   "outputs": [],
   "source": [
    "max_health = health\n",
    "time = 0\n",
    "con_attack = 0\n",
    "j = 0"
   ]
  },
  {
   "cell_type": "markdown",
   "id": "874b2fd7-8e42-4d8f-a718-aa4acb5c8f8d",
   "metadata": {},
   "source": [
    "붕대 감기는 t초 동안 붕대를 감으면서 1초마다 x만큼의 체력을 회복합니다. t초 연속으로 붕대를 감는 데 성공한다면 y만큼의 체력을 추가로 회복합니다. 게임 캐릭터에는 최대 체력이 존재해 현재 체력이 최대 체력보다 커지는 것은 불가능합니다.\n",
    "\n",
    "기술을 쓰는 도중 몬스터에게 공격을 당하면 기술이 취소되고, 공격을 당하는 순간에는 체력을 회복할 수 없습니다. 몬스터에게 공격당해 기술이 취소당하거나 기술이 끝나면 그 즉시 붕대 감기를 다시 사용하며, 연속 성공 시간이 0으로 초기화됩니다.\n",
    "\n",
    "몬스터의 공격을 받으면 정해진 피해량만큼 현재 체력이 줄어듭니다. 이때, 현재 체력이 0 이하가 되면 캐릭터가 죽으며 더 이상 체력을 회복할 수 없습니다."
   ]
  },
  {
   "cell_type": "code",
   "execution_count": 485,
   "id": "0ab7ee2f-81b1-4f35-a793-299f986d4e29",
   "metadata": {},
   "outputs": [],
   "source": [
    "for current_time in range(1, attacks[-1][0] + 1):\n",
    "    time += 1\n",
    "\n",
    "    if j < len(time_attacks) and current_time == time_attacks[j]:\n",
    "        health -= value_attacks[j]\n",
    "        con_attack = 0  \n",
    "        j += 1\n",
    "    else: \n",
    "        con_attack += 1\n",
    "        health = min(max_health, health + bandage[1])\n",
    "        if con_attack == bandage[0]:\n",
    "            health = min(max_health, health + bandage[2])\n",
    "            con_attack = 0\n",
    "    if health <= 0:\n",
    "        break"
   ]
  },
  {
   "cell_type": "code",
   "execution_count": 492,
   "id": "b38a7081-0f08-4d47-9518-eebe51125220",
   "metadata": {},
   "outputs": [],
   "source": [
    "if health <= 0:\n",
    "    health= -1"
   ]
  },
  {
   "cell_type": "code",
   "execution_count": 494,
   "id": "424727dc-ac0f-441e-99b8-76a9d78ac928",
   "metadata": {},
   "outputs": [],
   "source": [
    "answer = health"
   ]
  },
  {
   "cell_type": "code",
   "execution_count": 495,
   "id": "28f5bbec-bf08-424a-b8d7-51cea8edded8",
   "metadata": {},
   "outputs": [
    {
     "data": {
      "text/plain": [
       "5"
      ]
     },
     "execution_count": 495,
     "metadata": {},
     "output_type": "execute_result"
    }
   ],
   "source": [
    "answer"
   ]
  }
 ],
 "metadata": {
  "kernelspec": {
   "display_name": "Python 3",
   "language": "python",
   "name": "python3"
  },
  "language_info": {
   "codemirror_mode": {
    "name": "ipython",
    "version": 3
   },
   "file_extension": ".py",
   "mimetype": "text/x-python",
   "name": "python",
   "nbconvert_exporter": "python",
   "pygments_lexer": "ipython3",
   "version": "3.8.0"
  }
 },
 "nbformat": 4,
 "nbformat_minor": 5
}
