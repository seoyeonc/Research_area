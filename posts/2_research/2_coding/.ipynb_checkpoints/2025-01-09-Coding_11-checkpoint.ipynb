{
 "cells": [
  {
   "cell_type": "raw",
   "id": "dcc49118-8af6-44ff-87a2-fc9ad80e234a",
   "metadata": {
    "id": "cac470df-29e7-4148-9bbd-d8b9a32fa570",
    "tags": []
   },
   "source": [
    "---\n",
    "title: \"**[Coding Test]**아날로그 시계\"\n",
    "author: \"SEOYEON CHOI\"\n",
    "date: \"2025-01-09\"\n",
    "---"
   ]
  },
  {
   "cell_type": "markdown",
   "id": "ecb09dfa-da38-4497-a9e1-e7c9e299ac45",
   "metadata": {},
   "source": [
    "`-` 링크"
   ]
  },
  {
   "cell_type": "markdown",
   "id": "a93bf0c5-815f-4868-8bac-670f924392e9",
   "metadata": {},
   "source": [
    "https://school.programmers.co.kr/learn/courses/30/lessons/250135"
   ]
  },
  {
   "cell_type": "markdown",
   "id": "69d63b80-8504-4905-83b8-23643be1075d",
   "metadata": {},
   "source": [
    "`-` 문제"
   ]
  },
  {
   "cell_type": "markdown",
   "id": "30d9ba7d-ed68-4263-a9df-308486474e2e",
   "metadata": {},
   "source": [
    "시침, 분침, 초침이 있는 아날로그시계가 있습니다. 시계의 시침은 12시간마다, 분침은 60분마다, 초침은 60초마다 시계를 한 바퀴 돕니다. 따라서 시침, 분침, 초침이 움직이는 속도는 일정하며 각각 다릅니다. 이 시계에는 초침이 시침/분침과 겹칠 때마다 알람이 울리는 기능이 있습니다. 당신은 특정 시간 동안 알람이 울린 횟수를 알고 싶습니다.\n",
    "\n",
    "알람이 울리는 횟수를 센 시간을 나타내는 정수 h1, m1, s1, h2, m2, s2가 매개변수로 주어집니다. 이때, 알람이 울리는 횟수를 return 하도록 solution 함수를 완성해주세요.\n",
    "\n",
    "제한사항\n",
    "\n",
    "0 ≤ h1, h2 ≤ 23\n",
    "\n",
    "0 ≤ m1, m2 ≤ 59\n",
    "\n",
    "0 ≤ s1, s2 ≤ 59\n",
    "\n",
    "h1시 m1분 s1초부터 h2시 m2분 s2초까지 알람이 울리는 횟수를 센다는 의미입니다.\n",
    "\n",
    "h1시 m1분 s1초 < h2시 m2분 s2초\n",
    "\n",
    "시간이 23시 59분 59초를 초과해서 0시 0분 0초로 돌아가는 경우는 주어지지 않습니다."
   ]
  },
  {
   "cell_type": "code",
   "execution_count": 662,
   "id": "fde461dc-64dc-46b6-aaa3-6d37016e0669",
   "metadata": {},
   "outputs": [],
   "source": [
    "h1, m1, s1, h2, m2, s2 = 23, 59, 50, 23, 59, 55"
   ]
  },
  {
   "cell_type": "code",
   "execution_count": 663,
   "id": "58ad0068-7633-4dcb-b1c4-be30e82646b6",
   "metadata": {},
   "outputs": [
    {
     "name": "stdout",
     "output_type": "stream",
     "text": [
      "시간: 23:59:50\n",
      "  시침 각도: 359.92도\n",
      "  분침 각도: 359.00도\n",
      "  초침 각도: 300.00도\n",
      "0\n",
      "------------------------------\n",
      "시간: 23:59:51\n",
      "  시침 각도: 359.93도\n",
      "  분침 각도: 359.10도\n",
      "  초침 각도: 306.00도\n",
      "0\n",
      "------------------------------\n",
      "시간: 23:59:52\n",
      "  시침 각도: 359.93도\n",
      "  분침 각도: 359.20도\n",
      "  초침 각도: 312.00도\n",
      "0\n",
      "------------------------------\n",
      "시간: 23:59:53\n",
      "  시침 각도: 359.94도\n",
      "  분침 각도: 359.30도\n",
      "  초침 각도: 318.00도\n",
      "0\n",
      "------------------------------\n",
      "시간: 23:59:54\n",
      "  시침 각도: 359.95도\n",
      "  분침 각도: 359.40도\n",
      "  초침 각도: 324.00도\n",
      "0\n",
      "------------------------------\n",
      "시간: 23:59:55\n",
      "  시침 각도: 359.96도\n",
      "  분침 각도: 359.50도\n",
      "  초침 각도: 330.00도\n",
      "0\n",
      "------------------------------\n"
     ]
    }
   ],
   "source": [
    "start_seconds = h1 * 3600 + m1 * 60 + s1\n",
    "end_seconds = h2 * 3600 + m2 * 60 + s2\n",
    "time_diff = end_seconds - start_seconds\n",
    "def calculate_angles(h, m, s):\n",
    "    hour_angle = (h % 12) * 30 + (m / 60) * 30 + (s / 3600) * 30\n",
    "    min_angle = m * 6 + s * 0.1\n",
    "    sec_angle = s * 6\n",
    "    return hour_angle, min_angle, sec_angle\n",
    "\n",
    "count = 0\n",
    "hour_angle_new = -1\n",
    "min_angle_new = -1\n",
    "sec_angle_new = -1\n",
    "\n",
    "for t in range(time_diff + 1):\n",
    "    total_seconds = start_seconds + t\n",
    "    h = (total_seconds // 3600) % 24\n",
    "    m = (total_seconds % 3600) // 60\n",
    "    s = total_seconds % 60\n",
    "\n",
    "    hour_angle, min_angle, sec_angle = calculate_angles(h, m, s)\n",
    "    \n",
    "    if sec_angle_new != -1:\n",
    "        if hour_angle_new == min_angle_new == sec_angle_new==0:\n",
    "            count+=0\n",
    "        elif sec_angle == hour_angle == min_angle:\n",
    "                count +=1\n",
    "        else:\n",
    "            if (sec_angle_new < hour_angle <= sec_angle) or (sec_angle == 0 and sec_angle_new < hour_angle < 360):\n",
    "                count +=1\n",
    "            if (sec_angle_new < min_angle <= sec_angle) or (sec_angle == 0 and sec_angle_new < min_angle < 360):\n",
    "                count +=1\n",
    "    elif sec_angle_new == -1 and sec_angle == hour_angle == min_angle == 0:\n",
    "        count +=1\n",
    "        sec_angle = -1\n",
    "        \n",
    "    hour_angle_new, min_angle_new, sec_angle_new = hour_angle, min_angle, sec_angle\n",
    "    print(f\"시간: {h:02d}:{m:02d}:{s:02d}\")\n",
    "    print(f\"  시침 각도: {hour_angle:.2f}도\")\n",
    "    print(f\"  분침 각도: {min_angle:.2f}도\")\n",
    "    print(f\"  초침 각도: {sec_angle:.2f}도\")\n",
    "    print(count)\n",
    "    print(\"-\" * 30)\n",
    "# count"
   ]
  },
  {
   "cell_type": "markdown",
   "id": "ba2c55a1-39d5-4f0b-a9b6-2f04892d61ba",
   "metadata": {},
   "source": [
    "`-` 예제 문제는 다 맞으나, 제출하면 95%의 확률로 맞춤.."
   ]
  },
  {
   "cell_type": "code",
   "execution_count": 653,
   "id": "8fd9b5ee-cff3-444f-a3fc-55f483c7f4f2",
   "metadata": {},
   "outputs": [],
   "source": [
    "def solution(h1, m1, s1, h2, m2, s2):\n",
    "    \n",
    "    start_seconds = h1 * 3600 + m1 * 60 + s1\n",
    "    end_seconds = h2 * 3600 + m2 * 60 + s2\n",
    "    \n",
    "    time_diff = end_seconds - start_seconds\n",
    "    \n",
    "    def calculate_angles(h, m, s):\n",
    "        hour_angle = (h % 12) * 30 + (m / 60) * 30 + (s / 3600) * 30\n",
    "        min_angle = m * 6 + s * 0.1\n",
    "        sec_angle = s * 6\n",
    "        return hour_angle, min_angle, sec_angle\n",
    "\n",
    "    count = 0\n",
    "    hour_angle_new = -1\n",
    "    min_angle_new = -1\n",
    "    sec_angle_new = -1\n",
    "\n",
    "    for t in range(time_diff + 1):\n",
    "        total_seconds = start_seconds + t\n",
    "        h = (total_seconds // 3600) % 24\n",
    "        m = (total_seconds % 3600) // 60\n",
    "        s = total_seconds % 60\n",
    "\n",
    "        hour_angle, min_angle, sec_angle = calculate_angles(h, m, s)\n",
    "\n",
    "        if sec_angle_new != -1:\n",
    "            if hour_angle_new == min_angle_new == sec_angle_new==0:\n",
    "                count += 0\n",
    "            elif sec_angle == hour_angle == min_angle:\n",
    "                    count +=1\n",
    "            else:\n",
    "                if (sec_angle_new < hour_angle <= sec_angle) or (sec_angle == 0 and sec_angle_new < hour_angle <= 360):\n",
    "                    count +=1\n",
    "                if (sec_angle_new < min_angle <= sec_angle) or (sec_angle == 0 and sec_angle_new < min_angle <= 360):\n",
    "                    count +=1\n",
    "        elif sec_angle_new == -1 and sec_angle == hour_angle == min_angle:\n",
    "            count +=1\n",
    "\n",
    "        hour_angle_new, min_angle_new, sec_angle_new = hour_angle, min_angle, sec_angle\n",
    "\n",
    "    answer = count\n",
    "    return answer"
   ]
  },
  {
   "cell_type": "markdown",
   "id": "c5ae4f13-d48c-4de1-b2a2-958136cb76e1",
   "metadata": {},
   "source": [
    "`-` chatgpt 부탁 수정한 코드"
   ]
  },
  {
   "cell_type": "code",
   "execution_count": 654,
   "id": "c8afb7e7-5422-4f1b-b62b-6e99a728d7a2",
   "metadata": {},
   "outputs": [],
   "source": [
    "def solution(h1, m1, s1, h2, m2, s2):\n",
    "    start_seconds = h1 * 3600 + m1 * 60 + s1\n",
    "    end_seconds = h2 * 3600 + m2 * 60 + s2\n",
    "    \n",
    "    time_diff = end_seconds - start_seconds\n",
    "    \n",
    "    def calculate_angles(h, m, s):\n",
    "        hour_angle = (h % 12) * 30 + (m / 60) * 30 + (s / 3600) * 30\n",
    "        min_angle = m * 6 + s * 0.1\n",
    "        sec_angle = s * 6\n",
    "        return hour_angle, min_angle, sec_angle\n",
    "\n",
    "    count = 0\n",
    "    hour_angle_new, min_angle_new, sec_angle_new = calculate_angles(h1, m1, s1)\n",
    "\n",
    "    if hour_angle_new == min_angle_new == sec_angle_new == 0:\n",
    "        count += 1\n",
    "\n",
    "    for t in range(1, time_diff + 1):\n",
    "        total_seconds = start_seconds + t\n",
    "        h = (total_seconds // 3600) % 24\n",
    "        m = (total_seconds % 3600) // 60\n",
    "        s = total_seconds % 60\n",
    "\n",
    "        hour_angle, min_angle, sec_angle = calculate_angles(h, m, s)\n",
    "\n",
    "        if (sec_angle_new < min_angle_new and sec_angle >= min_angle) or (sec_angle_new < min_angle_new and sec_angle == 0):\n",
    "            count += 1\n",
    "            \n",
    "        if (sec_angle_new < hour_angle_new and sec_angle >= hour_angle) or (sec_angle_new < hour_angle_new and sec_angle == 0):\n",
    "            count += 1\n",
    "\n",
    "        if sec_angle == hour_angle == min_angle == 0:\n",
    "            count -= 1\n",
    "\n",
    "        hour_angle_new, min_angle_new, sec_angle_new = hour_angle, min_angle, sec_angle\n",
    "\n",
    "    return count"
   ]
  },
  {
   "cell_type": "markdown",
   "id": "ff3e8948-7383-4c81-9929-bc5fa36d91f3",
   "metadata": {},
   "source": [
    "0시 5분 30초부터 0시 7분 0초까지 알람이 울린 횟수를 세는 예시입니다.\n",
    "\n",
    "가장 짧은 바늘이 시침, 중간 길이인 바늘이 분침, 가장 긴 바늘이 초침입니다.\n",
    "알람이 울리는 횟수를 세기 시작한 시각은 0시 5분 30초입니다.\n",
    "이후 0시 6분 0초까지 초침과 시침/분침이 겹치는 일은 없습니다.\n",
    "\n",
    "약 0시 6분 0.501초에 초침과 시침이 겹칩니다. 이때 알람이 한 번 울립니다.\n",
    "이후 0시 6분 6초까지 초침과 시침/분침이 겹치는 일은 없습니다.\n",
    "\n",
    "약 0시 6분 6.102초에 초침과 분침이 겹칩니다. 이때 알람이 한 번 울립니다.\n",
    "이후 0시 7분 0초까지 초침과 시침/분침이 겹치는 일은 없습니다.\n",
    "0시 5분 30초부터 0시 7분 0초까지는 알람이 두 번 울립니다. 이후 약 0시 7분 0.584초에 초침과 시침이 겹쳐서 울리는 세 번째 알람은 횟수에 포함되지 않습니다."
   ]
  },
  {
   "cell_type": "code",
   "execution_count": 655,
   "id": "af3e7999-2a24-43cb-8daa-75e83f1c5514",
   "metadata": {},
   "outputs": [
    {
     "data": {
      "text/plain": [
       "2"
      ]
     },
     "execution_count": 655,
     "metadata": {},
     "output_type": "execute_result"
    }
   ],
   "source": [
    "solution(0, 5, 30, 0, 7, 0)\n",
    "# 2"
   ]
  },
  {
   "cell_type": "markdown",
   "id": "96ab3f97-be56-4dd8-8eda-c09efca0794e",
   "metadata": {},
   "source": [
    "12시 0분 0초부터 12시 0분 30초까지 알람이 울린 횟수를 세는 예시입니다.\n",
    "\n",
    "알람이 울리는 횟수를 세기 시작한 시각은 12시 0분 0초입니다.\n",
    "초침과 시침, 분침이 겹칩니다. 이때 알람이 한 번 울립니다. 이와 같이 0시 정각, 12시 정각에 초침과 시침, 분침이 모두 겹칠 때는 알람이 한 번만 울립니다.\n",
    "\n",
    "이후 12시 0분 30초까지 초침과 시침/분침이 겹치는 일은 없습니다.\n",
    "12시 0분 0초부터 12시 0분 30초까지는 알람이 한 번 울립니다."
   ]
  },
  {
   "cell_type": "code",
   "execution_count": 656,
   "id": "19ba6d43-e0ef-4413-ac73-fa01f2beac3d",
   "metadata": {},
   "outputs": [
    {
     "data": {
      "text/plain": [
       "1"
      ]
     },
     "execution_count": 656,
     "metadata": {},
     "output_type": "execute_result"
    }
   ],
   "source": [
    "solution(12, 0, 0, 12, 0, 30)\n",
    "# 1"
   ]
  },
  {
   "cell_type": "markdown",
   "id": "872ffd8c-c57e-4e70-ab72-09587fe1cfc4",
   "metadata": {},
   "source": [
    "입출력 예 #3\n",
    "\n",
    "0시 6분 1초부터 0시 6분 6초까지 초침과 시침/분침이 겹치는 일은 없습니다. 따라서 알람이 울리지 않으며 0을 return 해야 합니다."
   ]
  },
  {
   "cell_type": "code",
   "execution_count": 657,
   "id": "a4b96c14-08d6-49a5-aa79-e9b4c565f04c",
   "metadata": {},
   "outputs": [
    {
     "data": {
      "text/plain": [
       "0"
      ]
     },
     "execution_count": 657,
     "metadata": {},
     "output_type": "execute_result"
    }
   ],
   "source": [
    "solution(0, 6, 1, 0, 6, 6)\n",
    "# 0"
   ]
  },
  {
   "cell_type": "markdown",
   "id": "3a60c42f-235e-4c96-a490-59d942a1c175",
   "metadata": {},
   "source": [
    "입출력 예 #4\n",
    "\n",
    "11시 59분 30초부터 11시 59분 59초까지 초침과 시침/분침이 겹치는 일은 없습니다.\n",
    "\n",
    "12시 0분 0초에 초침과 시침, 분침이 겹칩니다. 이때 알람이 한 번 울립니다.\n",
    "\n",
    "11시 59분 30초부터 12시 0분 0초까지 초침과 시침/분침이 겹치는 횟수는 1이며 따라서 알람이 한 번 울립니다."
   ]
  },
  {
   "cell_type": "code",
   "execution_count": 658,
   "id": "82bd3f31-6b86-420f-b7de-c850cdc303b5",
   "metadata": {},
   "outputs": [
    {
     "data": {
      "text/plain": [
       "1"
      ]
     },
     "execution_count": 658,
     "metadata": {},
     "output_type": "execute_result"
    }
   ],
   "source": [
    "solution(11, 59, 30, 12, 0, 0)\n",
    "# 1"
   ]
  },
  {
   "cell_type": "markdown",
   "id": "75c2965f-d9dc-43ac-954d-a7dd111bc6e5",
   "metadata": {},
   "source": [
    "입출력 예 #5\n",
    "\n",
    "약 11시 58분 59.917초에 초침과 시침이 겹칩니다. 이때 알람이 한 번 울립니다.\n",
    "11시 58분 59초부터 11시 59분 0초까지 초침과 시침/분침이 겹치는 횟수는 1이며 따라서 알람이 한 번 울립니다."
   ]
  },
  {
   "cell_type": "code",
   "execution_count": 659,
   "id": "946bdddf-301d-4190-ac34-82a6154ef541",
   "metadata": {},
   "outputs": [
    {
     "data": {
      "text/plain": [
       "1"
      ]
     },
     "execution_count": 659,
     "metadata": {},
     "output_type": "execute_result"
    }
   ],
   "source": [
    "solution(11, 58, 59, 11, 59, 0)\n",
    "# 1"
   ]
  },
  {
   "cell_type": "markdown",
   "id": "1cc89f8e-00f6-4a58-bf53-7bad82e66533",
   "metadata": {},
   "source": [
    "입출력 예 #6\n",
    "\n",
    "약 1시 5분 5.085초에 초침과 분침이 겹칩니다. 이때 알람이 한 번 울립니다.\n",
    "약 1시 5분 5.424초에 초침과 시침이 겹칩니다. 이때 알람이 한 번 울립니다.\n",
    "1시 5분 5초부터 1시 5분 6초까지 초침과 시침/분침이 겹치는 횟수는 2며 따라서 알람이 두 번 울립니다."
   ]
  },
  {
   "cell_type": "code",
   "execution_count": 660,
   "id": "ab7feaeb-5dc9-48f3-8db3-31bfb80f7e49",
   "metadata": {},
   "outputs": [
    {
     "data": {
      "text/plain": [
       "2"
      ]
     },
     "execution_count": 660,
     "metadata": {},
     "output_type": "execute_result"
    }
   ],
   "source": [
    "solution(1, 5, 5, 1, 5, 6)\n",
    "# 2"
   ]
  },
  {
   "cell_type": "markdown",
   "id": "8db48953-2225-4abc-ad6e-c73e606c71db",
   "metadata": {},
   "source": [
    "입출력 예 #7\n",
    "\n",
    "0시 0분 0초부터 23시 59분 59초까지 초침과 시침/분침이 겹치는 횟수는 2852며 따라서 알람이 총 2852번 울립니다."
   ]
  },
  {
   "cell_type": "code",
   "execution_count": 661,
   "id": "7c7f9a84-602b-4d78-b793-206753f5db26",
   "metadata": {},
   "outputs": [
    {
     "data": {
      "text/plain": [
       "2852"
      ]
     },
     "execution_count": 661,
     "metadata": {},
     "output_type": "execute_result"
    }
   ],
   "source": [
    "solution(0, 0, 0, 23, 59, 59)\n",
    "# 2852"
   ]
  },
  {
   "cell_type": "markdown",
   "id": "d53de0c5-d309-43a0-9f96-f7392d13cef0",
   "metadata": {},
   "source": [
    "`-` 한 줄씩"
   ]
  },
  {
   "cell_type": "code",
   "execution_count": 664,
   "id": "d387f15d-6bb9-4ff3-b5f9-9592a9053bd7",
   "metadata": {},
   "outputs": [],
   "source": [
    "h1, m1, s1, h2, m2, s2 = 0, 5, 30, 0, 7, 0"
   ]
  },
  {
   "cell_type": "markdown",
   "id": "9b385c2c-5d02-44ef-b464-deace7c2504e",
   "metadata": {},
   "source": [
    "시간 계산"
   ]
  },
  {
   "cell_type": "code",
   "execution_count": 665,
   "id": "89ceb72f-7462-4dc4-80de-0b0fb66c8d3c",
   "metadata": {},
   "outputs": [
    {
     "data": {
      "text/plain": [
       "(330, 420, 90)"
      ]
     },
     "execution_count": 665,
     "metadata": {},
     "output_type": "execute_result"
    }
   ],
   "source": [
    "start_seconds = h1 * 3600 + m1 * 60 + s1\n",
    "end_seconds = h2 * 3600 + m2 * 60 + s2\n",
    "\n",
    "time_diff = end_seconds - start_seconds\n",
    "start_seconds, end_seconds, time_diff"
   ]
  },
  {
   "cell_type": "markdown",
   "id": "6f4511d7-839a-4123-acc1-f7e282fdd48e",
   "metadata": {},
   "source": [
    "각도 계산"
   ]
  },
  {
   "cell_type": "code",
   "execution_count": 667,
   "id": "6d49dccc-61cc-4148-bf14-68d4bd2d4cd8",
   "metadata": {},
   "outputs": [],
   "source": [
    "def calculate_angles(h, m, s):\n",
    "    hour_angle = (h % 12) * 30 + (m / 60) * 30 + (s / 3600) * 30\n",
    "    min_angle = m * 6 + s * 0.1\n",
    "    sec_angle = s * 6\n",
    "    return hour_angle, min_angle, sec_angle"
   ]
  },
  {
   "cell_type": "markdown",
   "id": "eb77f43a-dd48-4750-8ca2-96320bb62a42",
   "metadata": {},
   "source": [
    "count 초기화"
   ]
  },
  {
   "cell_type": "code",
   "execution_count": 668,
   "id": "6b3e9a5a-386d-4320-9e1f-34b4bae8c2f2",
   "metadata": {},
   "outputs": [],
   "source": [
    "count = 0"
   ]
  },
  {
   "cell_type": "markdown",
   "id": "c1aefd35-d8ef-450c-bcea-8f3589a7c666",
   "metadata": {},
   "source": [
    "처음 시각에서 값 계산"
   ]
  },
  {
   "cell_type": "code",
   "execution_count": 670,
   "id": "a5a3dd89-5dc5-42c1-abe3-29688b08e5b3",
   "metadata": {},
   "outputs": [],
   "source": [
    "hour_angle_new, min_angle_new, sec_angle_new = calculate_angles(h1, m1, s1)"
   ]
  },
  {
   "cell_type": "markdown",
   "id": "2e6f12e3-8e6c-48b5-ac54-f0583ff0e2de",
   "metadata": {},
   "source": [
    "12:00:00 이거나 0:0:0 이면 count 추가"
   ]
  },
  {
   "cell_type": "code",
   "execution_count": 671,
   "id": "c91b81ce-1a6b-4474-abd3-02691f5e5a41",
   "metadata": {},
   "outputs": [
    {
     "data": {
      "text/plain": [
       "0"
      ]
     },
     "execution_count": 671,
     "metadata": {},
     "output_type": "execute_result"
    }
   ],
   "source": [
    "if hour_angle_new == min_angle_new == sec_angle_new == 0:\n",
    "    count += 1\n",
    "count"
   ]
  },
  {
   "cell_type": "markdown",
   "id": "f61fc25d-518a-4270-a636-560d9099a635",
   "metadata": {},
   "source": [
    "반복문 할 거"
   ]
  },
  {
   "cell_type": "markdown",
   "id": "2afdb6cb-a3bf-492f-960b-ba410850f865",
   "metadata": {},
   "source": [
    "```python\n",
    "for t in range(1, time_diff + 1):\n",
    "    total_seconds = start_seconds + t\n",
    "    h = (total_seconds // 3600) % 24\n",
    "    m = (total_seconds % 3600) // 60\n",
    "    s = total_seconds % 60\n",
    "```"
   ]
  },
  {
   "cell_type": "markdown",
   "id": "21dfc7ba-6e36-46db-bde6-1c861774dcba",
   "metadata": {},
   "source": [
    "약 0시 6분 0.501초에 초침과 시침이 겹칩니다"
   ]
  },
  {
   "cell_type": "code",
   "execution_count": 687,
   "id": "19425ff7-a4b4-4aec-bd58-cc6d7218b3b2",
   "metadata": {},
   "outputs": [],
   "source": [
    "hour_angle_new, min_angle_new, sec_angle_new = calculate_angles(0, 6, 0)"
   ]
  },
  {
   "cell_type": "code",
   "execution_count": 688,
   "id": "c3e31a9c-8cae-4027-930e-78603c274704",
   "metadata": {},
   "outputs": [
    {
     "data": {
      "text/plain": [
       "(3.0083333333333333, 36.1, 6)"
      ]
     },
     "execution_count": 688,
     "metadata": {},
     "output_type": "execute_result"
    }
   ],
   "source": [
    "h,m,s = 0,6,1\n",
    "hour_angle, min_angle, sec_angle = calculate_angles(h, m, s)\n",
    "hour_angle, min_angle, sec_angle"
   ]
  },
  {
   "cell_type": "code",
   "execution_count": 689,
   "id": "4f8701cb-4f0e-4e83-8f4f-e6404ff42fca",
   "metadata": {},
   "outputs": [
    {
     "data": {
      "text/plain": [
       "0"
      ]
     },
     "execution_count": 689,
     "metadata": {},
     "output_type": "execute_result"
    }
   ],
   "source": [
    "if (sec_angle_new < min_angle_new and sec_angle >= min_angle) or (sec_angle_new < min_angle_new and sec_angle == 0):\n",
    "    count += 1\n",
    "count"
   ]
  },
  {
   "cell_type": "code",
   "execution_count": 690,
   "id": "8ef1fef6-6566-4bda-996d-00286678bc8d",
   "metadata": {},
   "outputs": [
    {
     "data": {
      "text/plain": [
       "1"
      ]
     },
     "execution_count": 690,
     "metadata": {},
     "output_type": "execute_result"
    }
   ],
   "source": [
    "if (sec_angle_new < hour_angle_new and sec_angle >= hour_angle) or (sec_angle_new < hour_angle_new and sec_angle == 0):\n",
    "    count += 1\n",
    "count"
   ]
  },
  {
   "cell_type": "code",
   "execution_count": 691,
   "id": "65af7df0-c77d-42c8-88de-a534aefbfd9b",
   "metadata": {},
   "outputs": [
    {
     "data": {
      "text/plain": [
       "1"
      ]
     },
     "execution_count": 691,
     "metadata": {},
     "output_type": "execute_result"
    }
   ],
   "source": [
    "if sec_angle == hour_angle == min_angle == 0:\n",
    "    count -= 1\n",
    "count"
   ]
  },
  {
   "cell_type": "markdown",
   "id": "ba249749-6a57-4a24-841d-da566e2a00ff",
   "metadata": {},
   "source": [
    "약 0시 6분 6.102초에 초침과 분침이 겹칩니다"
   ]
  },
  {
   "cell_type": "code",
   "execution_count": 697,
   "id": "31245068-11dc-4beb-93a7-2201ea200c83",
   "metadata": {},
   "outputs": [],
   "source": [
    "hour_angle_new, min_angle_new, sec_angle_new = calculate_angles(0, 6, 6)"
   ]
  },
  {
   "cell_type": "code",
   "execution_count": 698,
   "id": "d619cc11-1e96-4555-a48d-c51603ef0f56",
   "metadata": {},
   "outputs": [
    {
     "data": {
      "text/plain": [
       "(3.058333333333333, 36.7, 42)"
      ]
     },
     "execution_count": 698,
     "metadata": {},
     "output_type": "execute_result"
    }
   ],
   "source": [
    "h,m,s = 0,6,7\n",
    "hour_angle, min_angle, sec_angle = calculate_angles(h, m, s)\n",
    "hour_angle, min_angle, sec_angle"
   ]
  },
  {
   "cell_type": "code",
   "execution_count": 699,
   "id": "ad343b1a-9693-4152-b698-02d060485e2f",
   "metadata": {},
   "outputs": [
    {
     "data": {
      "text/plain": [
       "2"
      ]
     },
     "execution_count": 699,
     "metadata": {},
     "output_type": "execute_result"
    }
   ],
   "source": [
    "if (sec_angle_new < min_angle_new and sec_angle >= min_angle) or (sec_angle_new < min_angle_new and sec_angle == 0):\n",
    "    count += 1\n",
    "count"
   ]
  },
  {
   "cell_type": "code",
   "execution_count": 700,
   "id": "f916ab30-34e6-488c-9f39-795add086a44",
   "metadata": {},
   "outputs": [
    {
     "data": {
      "text/plain": [
       "2"
      ]
     },
     "execution_count": 700,
     "metadata": {},
     "output_type": "execute_result"
    }
   ],
   "source": [
    "if (sec_angle_new < hour_angle_new and sec_angle >= hour_angle) or (sec_angle_new < hour_angle_new and sec_angle == 0):\n",
    "    count += 1\n",
    "count"
   ]
  },
  {
   "cell_type": "code",
   "execution_count": 701,
   "id": "1e90ad60-76ff-4a62-a09c-ba2937a7f9bb",
   "metadata": {},
   "outputs": [
    {
     "data": {
      "text/plain": [
       "2"
      ]
     },
     "execution_count": 701,
     "metadata": {},
     "output_type": "execute_result"
    }
   ],
   "source": [
    "if sec_angle == hour_angle == min_angle == 0:\n",
    "    count -= 1\n",
    "count"
   ]
  },
  {
   "cell_type": "markdown",
   "id": "e421a9de-28f3-42d2-b63c-ef161abb6cdf",
   "metadata": {},
   "source": [
    "업데이트"
   ]
  },
  {
   "cell_type": "markdown",
   "id": "56ed2c70-acd0-46ac-a588-3b8714ce8391",
   "metadata": {},
   "source": [
    "```python\n",
    "hour_angle_new, min_angle_new, sec_angle_new = hour_angle, min_angle, sec_angle\n",
    "```"
   ]
  },
  {
   "cell_type": "code",
   "execution_count": null,
   "id": "648f4989-f77b-4ede-8842-a25ee7ab10f4",
   "metadata": {},
   "outputs": [],
   "source": []
  }
 ],
 "metadata": {
  "kernelspec": {
   "display_name": "Python 3",
   "language": "python",
   "name": "python3"
  },
  "language_info": {
   "codemirror_mode": {
    "name": "ipython",
    "version": 3
   },
   "file_extension": ".py",
   "mimetype": "text/x-python",
   "name": "python",
   "nbconvert_exporter": "python",
   "pygments_lexer": "ipython3",
   "version": "3.8.0"
  }
 },
 "nbformat": 4,
 "nbformat_minor": 5
}
