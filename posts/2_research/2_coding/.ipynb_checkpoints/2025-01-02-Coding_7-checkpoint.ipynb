{
 "cells": [
  {
   "cell_type": "raw",
   "id": "f12c660b-b4f3-47ca-acfc-3c4e0602fbcd",
   "metadata": {
    "id": "cac470df-29e7-4148-9bbd-d8b9a32fa570",
    "tags": []
   },
   "source": [
    "---\n",
    "title: \"**[Coding Test]**도넛과 막대 그래프\"\n",
    "author: \"SEOYEON CHOI\"\n",
    "date: \"2025-01-02\"\n",
    "---"
   ]
  },
  {
   "cell_type": "markdown",
   "id": "b2da51c4-0e04-4b90-858c-91e9aab1a598",
   "metadata": {},
   "source": [
    "`-` 링크"
   ]
  },
  {
   "cell_type": "markdown",
   "id": "259184a9-971d-41f6-a882-92336a73122a",
   "metadata": {},
   "source": [
    "https://school.programmers.co.kr/learn/courses/30/lessons/258711"
   ]
  },
  {
   "cell_type": "markdown",
   "id": "469c06cd-3101-4c0b-8598-5da108ce40b3",
   "metadata": {},
   "source": [
    "`-` 문제"
   ]
  },
  {
   "cell_type": "markdown",
   "id": "a41bc339-a57c-4533-92ce-8d42a5d62d9b",
   "metadata": {},
   "source": [
    "도넛 모양 그래프, 막대 모양 그래프, 8자 모양 그래프들이 있습니다. 이 그래프들은 1개 이상의 정점과, 정점들을 연결하는 단방향 간선으로 이루어져 있습니다.\n",
    "\n",
    "크기가 n인 도넛 모양 그래프는 n개의 정점과 n개의 간선이 있습니다. 도넛 모양 그래프의 아무 한 정점에서 출발해 이용한 적 없는 간선을 계속 따라가면 나머지 n-1개의 정점들을 한 번씩 방문한 뒤 원래 출발했던 정점으로 돌아오게 됩니다. 도넛 모양 그래프의 형태는 다음과 같습니다.\n",
    "\n",
    "크기가 n인 막대 모양 그래프는 n개의 정점과 n-1개의 간선이 있습니다. 막대 모양 그래프는 임의의 한 정점에서 출발해 간선을 계속 따라가면 나머지 n-1개의 정점을 한 번씩 방문하게 되는 정점이 단 하나 존재합니다. 막대 모양 그래프의 형태는 다음과 같습니다.\n",
    "\n",
    "크기가 n인 8자 모양 그래프는 2n+1개의 정점과 2n+2개의 간선이 있습니다. 8자 모양 그래프는 크기가 동일한 2개의 도넛 모양 그래프에서 정점을 하나씩 골라 결합시킨 형태의 그래프입니다. 8자 모양 그래프의 형태는 다음과 같습니다.\n",
    "\n",
    "도넛 모양 그래프, 막대 모양 그래프, 8자 모양 그래프가 여러 개 있습니다. 이 그래프들과 무관한 정점을 하나 생성한 뒤, 각 도넛 모양 그래프, 막대 모양 그래프, 8자 모양 그래프의 임의의 정점 하나로 향하는 간선들을 연결했습니다.\n",
    "\n",
    "그 후 각 정점에 서로 다른 번호를 매겼습니다.\n",
    "\n",
    "이때 당신은 그래프의 간선 정보가 주어지면 생성한 정점의 번호와 정점을 생성하기 전 도넛 모양 그래프의 수, 막대 모양 그래프의 수, 8자 모양 그래프의 수를 구해야 합니다.\n",
    "\n",
    "그래프의 간선 정보를 담은 2차원 정수 배열 edges가 매개변수로 주어집니다. 이때, 생성한 정점의 번호, 도넛 모양 그래프의 수, 막대 모양 그래프의 수, 8자 모양 그래프의 수를 순서대로 1차원 정수 배열에 담아 return 하도록 solution 함수를 완성해 주세요.\n",
    "\n",
    "제한사항\n",
    "\n",
    "1 ≤ edges의 길이 ≤ 1,000,000\n",
    "\n",
    "edges의 원소는 [a,b] 형태이며, a번 정점에서 b번 정점으로 향하는 간선이 있다는 것을 나타냅니다.\n",
    "\n",
    "1 ≤ a, b ≤ 1,000,000\n",
    "\n",
    "문제의 조건에 맞는 그래프가 주어집니다.\n",
    "\n",
    "도넛 모양 그래프, 막대 모양 그래프, 8자 모양 그래프의 수의 합은 2이상입니다."
   ]
  },
  {
   "cell_type": "code",
   "execution_count": 290,
   "id": "facdcd28-79d1-4a3b-b423-528f356cc6b1",
   "metadata": {},
   "outputs": [],
   "source": [
    "edges = [[2, 3], [4, 3], [1, 1], [2, 1]]"
   ]
  },
  {
   "cell_type": "code",
   "execution_count": 265,
   "id": "0f8911bf-f529-4e1b-a2c0-59321e41403c",
   "metadata": {},
   "outputs": [],
   "source": [
    "edges = [[4, 11], [1, 12], [8, 3], [12, 7], [4, 2], [7, 11], [4, 8], [9, 6], [10, 11], [6, 10], [3, 5], [11, 1], [5, 3], [11, 9], [3, 8]]"
   ]
  },
  {
   "cell_type": "code",
   "execution_count": null,
   "id": "cc5ef3c0-0ffe-492c-a962-1b564b75b35c",
   "metadata": {},
   "outputs": [],
   "source": [
    "크기가 n인 도넛 모양 그래프는 n개의 정점과 n개의 간선이 있습니다. 도넛 모양 그래프의 아무 한 정점에서 출발해 이용한 적 없는 간선을 계속 따라가면 나머지 n-1개의 정점들을 한 번씩 방문한 뒤 원래 출발했던 정점으로 돌아오게 됩니다. 도넛 모양 그래프의 형태는 다음과 같습니다.\n",
    "\n",
    "크기 n=1,정점 n=1, len([1,1]) = n=1\n",
    "크기 n=2,정점 n=2 len([1,2][2,1] = n=2\n",
    "크기 n=3,정점 n=3, len([1,2][2,3][3,1] = n=3\n",
    "...\n",
    "크기가 n인 막대 모양 그래프는 n개의 정점과 n-1개의 간선이 있습니다. 막대 모양 그래프는 임의의 한 정점에서 출발해 간선을 계속 따라가면 나머지 n-1개의 정점을 한 번씩 방문하게 되는 정점이 단 하나 존재합니다. 막대 모양 그래프의 형태는 다음과 같습니다.\n",
    "\n",
    "크기 n=2,정점 n=1,간선 = len([1,2]) = n-1 = 1\n",
    "크기 n=3,정점 n=2 간선 = len([1,2][2,3] = n-1 = 2\n",
    "크기 n=4,정점 n=3,간선 = len([1,2][2,3][3,4] = n-1 = 3\n",
    "...\n",
    "크기가 n인 8자 모양 그래프는 2n+1개의 정점과 2n+2개의 간선이 있습니다. 8자 모양 그래프는 크기가 동일한 2개의 도넛 모양 그래프에서 정점을 하나씩 골라 결합시킨 형태의 그래프입니다. 8자 모양 그래프의 형태는 다음과 같습니다.\n",
    "\n",
    "크기 n=1 정점 2n-1 = 3, 간선 = len([1,2][2,3][3,2][2,1]) = 2n + 2 = 4\n",
    "크기 n=2 정점 2n-1 = 5, 간선 = len([1,2][2,3][3,4][4,3][3,2][2,1] = 2n + 2 = 6\n",
    "크기 n=3 정점 2n-1 = 7, 간선 = len([1,2][2,3][3,4][4,5][5,4][4,3][3,2][2,1] = 2n + 2 = 8\n",
    "..."
   ]
  },
  {
   "cell_type": "code",
   "execution_count": null,
   "id": "a8b635b6-3762-477e-98d7-f422204d84f7",
   "metadata": {},
   "outputs": [],
   "source": []
  },
  {
   "cell_type": "code",
   "execution_count": null,
   "id": "5cb6089c-890b-4655-915f-cdeebb2f276f",
   "metadata": {},
   "outputs": [],
   "source": [
    "def solution(edges):\n",
    "    answer = []\n",
    "    return answer"
   ]
  },
  {
   "cell_type": "code",
   "execution_count": null,
   "id": "a571445d-71ef-4806-999f-7b48761bb7c1",
   "metadata": {},
   "outputs": [],
   "source": [
    "solution([[2, 3], [4, 3], [1, 1], [2, 1]])\n",
    "# [2, 1, 1, 0]"
   ]
  },
  {
   "cell_type": "code",
   "execution_count": 298,
   "id": "e92a2374-39a9-4f73-a949-0e65163fb907",
   "metadata": {},
   "outputs": [],
   "source": [
    "matrix = [[0 for _ in range(len(edges))] for _ in range(len(edges))]\n",
    "\n",
    "for row, col in edges:\n",
    "    matrix[row - 1][col - 1] = 1  # 행과 열은 1부터 시작하므로 -1 처리"
   ]
  },
  {
   "cell_type": "code",
   "execution_count": 312,
   "id": "3eff527e-db61-4cef-99d7-945d072d84cc",
   "metadata": {},
   "outputs": [
    {
     "data": {
      "text/plain": [
       "[1, 2, 0, 1]"
      ]
     },
     "execution_count": 312,
     "metadata": {},
     "output_type": "execute_result"
    }
   ],
   "source": [
    "row_sums = []\n",
    "for i in range(len(matrix)):\n",
    "    if sum(matrix[i]) == 0:\n",
    "        row_sums.append(0)\n",
    "    elif sum(matrix[i]) != 0:\n",
    "        row_sums.append(sum(matrix[i]))\n",
    "row_sums"
   ]
  },
  {
   "cell_type": "code",
   "execution_count": 314,
   "id": "9c2548dd-99a5-4055-b019-26a529a5c1c4",
   "metadata": {},
   "outputs": [
    {
     "data": {
      "text/plain": [
       "[2, 0, 2, 0]"
      ]
     },
     "execution_count": 314,
     "metadata": {},
     "output_type": "execute_result"
    }
   ],
   "source": [
    "col_sums = [0] * len(matrix[0])\n",
    "for row in matrix:\n",
    "    for j in range(len(row)):\n",
    "        col_sums[j] += row[j]\n",
    "col_sums"
   ]
  },
  {
   "cell_type": "code",
   "execution_count": 320,
   "id": "601cfa46-8a98-4025-ad3d-a8773e5bea4b",
   "metadata": {},
   "outputs": [
    {
     "data": {
      "text/plain": [
       "(2, 0, 3)"
      ]
     },
     "execution_count": 320,
     "metadata": {},
     "output_type": "execute_result"
    }
   ],
   "source": [
    "for i in range(len(matrix)):\n",
    "    if row_sums[i] == 0 :\n",
    "        정점 = i\n",
    "    if row_sums[i] == col_sums[i] -1 :\n",
    "        donut = i\n",
    "    if col_sums[i] == 0 :\n",
    "        bar = i\n",
    "정점, donut, bar"
   ]
  },
  {
   "cell_type": "code",
   "execution_count": null,
   "id": "e0d84862-4455-4c49-8c80-e94792cf775e",
   "metadata": {},
   "outputs": [],
   "source": [
    "1 나가는 간선  = 1, 들어오는 간선 = 2, 도넛모양 = 1\n",
    "2 나가는 간선  = 2, 들어오는 간선 = 0\n",
    "3 나가는 간선  = 0, 들어오는 간선 = 2\n",
    "4 나가는 간선  = 1, 들어오는 간선 = 0 막대 모양  = 1\n",
    "정점 2\n",
    "도넛모양 1\n",
    "막대 모양 1\n",
    "8자 모양 0"
   ]
  },
  {
   "cell_type": "code",
   "execution_count": null,
   "id": "97bc7b06-6437-4253-946b-85e88af8b440",
   "metadata": {},
   "outputs": [],
   "source": [
    "solution([[4, 11], [1, 12], [8, 3], [12, 7], [4, 2], [7, 11], [4, 8], [9, 6], [10, 11], [6, 10], [3, 5], [11, 1], [5, 3], [11, 9], [3, 8]])\n",
    "# [4, 0, 1, 2]"
   ]
  },
  {
   "cell_type": "code",
   "execution_count": null,
   "id": "1ac61e6b-60d1-46b6-8345-4f4ec9a69735",
   "metadata": {},
   "outputs": [],
   "source": [
    "1 \n",
    "2 2\n",
    "3 \n",
    "4 1\n",
    "정점 4\n",
    "도넛모양 0\n",
    "나가는 간선 도넛모양 = \n",
    "막대 모양 1\n",
    "나가는 간선 막대 모양  = \n",
    "8자 모양 2"
   ]
  },
  {
   "cell_type": "markdown",
   "id": "b59dbd77-6b75-4264-83f5-05aecab31199",
   "metadata": {},
   "source": [
    "입출력 예 #1\n",
    "\n",
    "2번 정점이 생성한 정점이고 도넛 모양 그래프 1개, 막대 모양 그래프 1개가 존재합니다. 따라서 [2, 1, 1, 0]을 return 해야 합니다."
   ]
  },
  {
   "cell_type": "code",
   "execution_count": null,
   "id": "0a50d217-a8f1-41b5-9a62-d85a5aa23637",
   "metadata": {},
   "outputs": [],
   "source": []
  },
  {
   "cell_type": "markdown",
   "id": "996b46b3-2abb-42bb-b28c-c18b63c9b32f",
   "metadata": {},
   "source": [
    "입출력 예 #2\n",
    "\n",
    "4번 정점이 생성한 정점이고 막대 모양 그래프 1개, 8자 모양 그래프 2개가 존재합니다. 따라서 [4, 0, 1, 2]를 return 해야 합니다."
   ]
  }
 ],
 "metadata": {
  "kernelspec": {
   "display_name": "Python 3",
   "language": "python",
   "name": "python3"
  },
  "language_info": {
   "codemirror_mode": {
    "name": "ipython",
    "version": 3
   },
   "file_extension": ".py",
   "mimetype": "text/x-python",
   "name": "python",
   "nbconvert_exporter": "python",
   "pygments_lexer": "ipython3",
   "version": "3.8.0"
  }
 },
 "nbformat": 4,
 "nbformat_minor": 5
}
