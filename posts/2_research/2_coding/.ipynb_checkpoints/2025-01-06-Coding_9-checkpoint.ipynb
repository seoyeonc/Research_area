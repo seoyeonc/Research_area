{
 "cells": [
  {
   "cell_type": "raw",
   "id": "3aba38da-adb8-4522-8cf8-77b8f7ba3c0b",
   "metadata": {
    "id": "cac470df-29e7-4148-9bbd-d8b9a32fa570",
    "tags": []
   },
   "source": [
    "---\n",
    "title: \"**[Coding Test]**달리기경주\"\n",
    "author: \"SEOYEON CHOI\"\n",
    "date: \"2025-01-06\"\n",
    "---"
   ]
  },
  {
   "cell_type": "markdown",
   "id": "0df7e5aa-8a85-41d3-9fae-a15339f72c17",
   "metadata": {},
   "source": [
    "`-` 링크"
   ]
  },
  {
   "cell_type": "markdown",
   "id": "bcae8897-04b3-4647-ae5d-923b5fc62cdc",
   "metadata": {},
   "source": [
    "https://school.programmers.co.kr/learn/courses/30/lessons/178871"
   ]
  },
  {
   "cell_type": "markdown",
   "id": "460f6199-656e-49a8-b994-f2f17100876b",
   "metadata": {},
   "source": [
    "`-` 문제"
   ]
  },
  {
   "cell_type": "markdown",
   "id": "a0d057e3-16f3-4a2a-b7b2-c91318c2552a",
   "metadata": {},
   "source": [
    "문제 설명\n",
    "얀에서는 매년 달리기 경주가 열립니다. 해설진들은 선수들이 자기 바로 앞의 선수를 추월할 때 추월한 선수의 이름을 부릅니다. 예를 들어 1등부터 3등까지 \"mumu\", \"soe\", \"poe\" 선수들이 순서대로 달리고 있을 때, 해설진이 \"soe\"선수를 불렀다면 2등인 \"soe\" 선수가 1등인 \"mumu\" 선수를 추월했다는 것입니다. 즉 \"soe\" 선수가 1등, \"mumu\" 선수가 2등으로 바뀝니다.\n",
    "\n",
    "선수들의 이름이 1등부터 현재 등수 순서대로 담긴 문자열 배열 players와 해설진이 부른 이름을 담은 문자열 배열 callings가 매개변수로 주어질 때, 경주가 끝났을 때 선수들의 이름을 1등부터 등수 순서대로 배열에 담아 return 하는 solution 함수를 완성해주세요.\n",
    "\n",
    "제한사항\n",
    "\n",
    "5 ≤ players의 길이 ≤ 50,000\n",
    "\n",
    "players[i]는 i번째 선수의 이름을 의미합니다.\n",
    "\n",
    "players의 원소들은 알파벳 소문자로만 이루어져 있습니다.\n",
    "\n",
    "players에는 중복된 값이 들어가 있지 않습니다.\n",
    "\n",
    "3 ≤ players[i]의 길이 ≤ 10\n",
    "\n",
    "2 ≤ callings의 길이 ≤ 1,000,000\n",
    "\n",
    "callings는 players의 원소들로만 이루어져 있습니다.\n",
    "\n",
    "경주 진행중 1등인 선수의 이름은 불리지 않습니다."
   ]
  },
  {
   "cell_type": "markdown",
   "id": "b802b1d4-54a6-4f4d-aded-eedaef629ffb",
   "metadata": {},
   "source": [
    "`-` 1차 시도 시간 초과로 실패"
   ]
  },
  {
   "cell_type": "code",
   "execution_count": 68,
   "id": "9caed211-7daa-4038-a6db-09c47b993950",
   "metadata": {},
   "outputs": [],
   "source": [
    "def solution(players, callings):\n",
    "    p = []\n",
    "    for i, value1 in enumerate(players):\n",
    "        p.append({'i':i,'value':value1})\n",
    "\n",
    "    for j, value2 in enumerate(callings):\n",
    "        for i, value1 in enumerate(p):\n",
    "            if value1['value']==value2:\n",
    "                p[i]['i'] -= 1\n",
    "                p[i-1]['i'] += 1\n",
    "                p = sorted(p, key=lambda x: x['i'])\n",
    "                break\n",
    "    answer = [item['value'] for item in p]\n",
    "    return answer"
   ]
  },
  {
   "cell_type": "code",
   "execution_count": 69,
   "id": "0462eaee-d77f-4ec2-8c3c-c7a9eb05c7e4",
   "metadata": {},
   "outputs": [
    {
     "data": {
      "text/plain": [
       "['mumu', 'kai', 'mine', 'soe', 'poe']"
      ]
     },
     "execution_count": 69,
     "metadata": {},
     "output_type": "execute_result"
    }
   ],
   "source": [
    "solution([\"mumu\", \"soe\", \"poe\", \"kai\", \"mine\"],[\"kai\", \"kai\", \"mine\", \"mine\"])\n",
    "# [\"mumu\", \"kai\", \"mine\", \"soe\", \"poe\"]"
   ]
  },
  {
   "cell_type": "markdown",
   "id": "7615943b-cde7-4968-9047-8c284c02b93c",
   "metadata": {},
   "source": [
    "`-` 2차 시도 시간 초과로 실패"
   ]
  },
  {
   "cell_type": "markdown",
   "id": "256acc92-4124-49cc-af87-14c38c60f9fe",
   "metadata": {},
   "source": [
    "- 개선 시도: pop 사용"
   ]
  },
  {
   "cell_type": "code",
   "execution_count": 106,
   "id": "40b6f082-7808-4556-9bee-a28a3f0a13b6",
   "metadata": {},
   "outputs": [],
   "source": [
    "def solution(players, callings):\n",
    "    p = players.copy()\n",
    "    for i in range(len(callings)):\n",
    "        ind = p.index(callings[i])\n",
    "        p.pop(ind)\n",
    "        p.insert(ind - 1, callings[i])\n",
    "    answer = p\n",
    "    return answer"
   ]
  },
  {
   "cell_type": "code",
   "execution_count": 107,
   "id": "61d1468d-299b-43f0-bf90-1d3b750fea70",
   "metadata": {},
   "outputs": [
    {
     "data": {
      "text/plain": [
       "['mumu', 'kai', 'mine', 'soe', 'poe']"
      ]
     },
     "execution_count": 107,
     "metadata": {},
     "output_type": "execute_result"
    }
   ],
   "source": [
    "solution([\"mumu\", \"soe\", \"poe\", \"kai\", \"mine\"],[\"kai\", \"kai\", \"mine\", \"mine\"])\n",
    "# [\"mumu\", \"kai\", \"mine\", \"soe\", \"poe\"]"
   ]
  },
  {
   "cell_type": "markdown",
   "id": "582844bc-e669-4ef5-8af2-d7e067eea365",
   "metadata": {},
   "source": [
    "문제: index()와 pop()을 반복적으로 사용하는 방식은 시간 효율성이 낮습니다. 특히, index()는 리스트의 모든 요소를 순차적으로 확인해야 하므로 O(n)의 시간이 걸리고, pop()과 insert()는 각각 O(n)의 시간 복잡도를 가집니다. 이 방식은 각 반복에서 최악의 경우 O(n^2)의 시간 복잡도를 초래할 수 있습니다."
   ]
  },
  {
   "cell_type": "markdown",
   "id": "7a758252-59b0-4538-8910-2973a71b591e",
   "metadata": {},
   "source": [
    "`-` 3차 시도"
   ]
  },
  {
   "cell_type": "code",
   "execution_count": 110,
   "id": "52af1c97-1636-46ab-a0fb-820932676c54",
   "metadata": {},
   "outputs": [],
   "source": [
    "def solution(players, callings):\n",
    "    index_map = {player: i for i, player in enumerate(players)}\n",
    "\n",
    "    for calling in callings:\n",
    "        ind = index_map[calling]\n",
    "\n",
    "        if ind > 0:\n",
    "            players[ind], players[ind - 1] = players[ind - 1], players[ind]\n",
    "\n",
    "            index_map[players[ind]] = ind\n",
    "            index_map[players[ind - 1]] = ind - 1\n",
    "    answer = p\n",
    "    return answer"
   ]
  },
  {
   "cell_type": "code",
   "execution_count": 111,
   "id": "d5afe814-4d03-44ee-b47e-7ed180d5de37",
   "metadata": {},
   "outputs": [
    {
     "data": {
      "text/plain": [
       "['mumu', 'kai', 'mine', 'soe', 'poe']"
      ]
     },
     "execution_count": 111,
     "metadata": {},
     "output_type": "execute_result"
    }
   ],
   "source": [
    "solution([\"mumu\", \"soe\", \"poe\", \"kai\", \"mine\"],[\"kai\", \"kai\", \"mine\", \"mine\"])\n",
    "# [\"mumu\", \"kai\", \"mine\", \"soe\", \"poe\"]"
   ]
  },
  {
   "cell_type": "markdown",
   "id": "d64a5d9b-f579-4475-8d3a-e201247f40c9",
   "metadata": {},
   "source": [
    "입출력 예 #1\n",
    "\n",
    "4등인 \"kai\" 선수가 2번 추월하여 2등이 되고 앞서 3등, 2등인 \"poe\", \"soe\" 선수는 4등, 3등이 됩니다. 5등인 \"mine\" 선수가 2번 추월하여 4등, 3등인 \"poe\", \"soe\" 선수가 5등, 4등이 되고 경주가 끝납니다. 1등부터 배열에 담으면 [\"mumu\", \"kai\", \"mine\", \"soe\", \"poe\"]이 됩니다."
   ]
  },
  {
   "cell_type": "markdown",
   "id": "67eb106e-5ec9-4662-ab7c-fe8de4c09f0d",
   "metadata": {},
   "source": [
    "`-` 한줄씩"
   ]
  },
  {
   "cell_type": "code",
   "execution_count": 112,
   "id": "86e549c1-0714-4a61-96fc-4093881707f0",
   "metadata": {},
   "outputs": [],
   "source": [
    "players = [\"mumu\", \"soe\", \"poe\", \"kai\", \"mine\"]\n",
    "callings = [\"kai\", \"kai\", \"mine\", \"mine\"]"
   ]
  },
  {
   "cell_type": "code",
   "execution_count": 113,
   "id": "d46bf7a0-b533-4fa3-a6eb-c58846531fea",
   "metadata": {},
   "outputs": [
    {
     "data": {
      "text/plain": [
       "{'mumu': 0, 'soe': 1, 'poe': 2, 'kai': 3, 'mine': 4}"
      ]
     },
     "execution_count": 113,
     "metadata": {},
     "output_type": "execute_result"
    }
   ],
   "source": [
    "index_map = {player: i for i, player in enumerate(players)}\n",
    "index_map"
   ]
  },
  {
   "cell_type": "code",
   "execution_count": 114,
   "id": "21dbadc3-1b6b-4efe-a8c0-71e6e3709f71",
   "metadata": {},
   "outputs": [
    {
     "name": "stdout",
     "output_type": "stream",
     "text": [
      "['mumu', 'soe', 'kai', 'poe', 'mine']\n",
      "['mumu', 'kai', 'soe', 'poe', 'mine']\n",
      "['mumu', 'kai', 'soe', 'mine', 'poe']\n",
      "['mumu', 'kai', 'mine', 'soe', 'poe']\n"
     ]
    }
   ],
   "source": [
    "for calling in callings:\n",
    "    ind = index_map[calling]\n",
    "\n",
    "    if ind > 0:\n",
    "        players[ind], players[ind - 1] = players[ind - 1], players[ind]\n",
    "        \n",
    "        index_map[players[ind]] = ind\n",
    "        index_map[players[ind - 1]] = ind - 1\n",
    "        print(players)        "
   ]
  },
  {
   "cell_type": "code",
   "execution_count": 115,
   "id": "f4220e00-93ae-475a-beb2-f3ebc162746b",
   "metadata": {},
   "outputs": [
    {
     "data": {
      "text/plain": [
       "['mumu', 'kai', 'mine', 'soe', 'poe']"
      ]
     },
     "execution_count": 115,
     "metadata": {},
     "output_type": "execute_result"
    }
   ],
   "source": [
    "players"
   ]
  },
  {
   "cell_type": "code",
   "execution_count": null,
   "id": "f7d0ceb0-3406-4ac5-8ee8-aebd00aa75e8",
   "metadata": {},
   "outputs": [],
   "source": []
  }
 ],
 "metadata": {
  "kernelspec": {
   "display_name": "Python 3",
   "language": "python",
   "name": "python3"
  },
  "language_info": {
   "codemirror_mode": {
    "name": "ipython",
    "version": 3
   },
   "file_extension": ".py",
   "mimetype": "text/x-python",
   "name": "python",
   "nbconvert_exporter": "python",
   "pygments_lexer": "ipython3",
   "version": "3.8.0"
  }
 },
 "nbformat": 4,
 "nbformat_minor": 5
}
