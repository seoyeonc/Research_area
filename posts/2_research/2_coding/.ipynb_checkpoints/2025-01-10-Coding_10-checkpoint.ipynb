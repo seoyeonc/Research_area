{
 "cells": [
  {
   "cell_type": "raw",
   "id": "85b43b22-1ac6-4008-b36a-43ced887af0b",
   "metadata": {
    "id": "cac470df-29e7-4148-9bbd-d8b9a32fa570",
    "tags": []
   },
   "source": [
    "---\n",
    "title: \"**[Coding Test]**BFS\"\n",
    "author: \"SEOYEON CHOI\"\n",
    "date: \"2025-01-10\"\n",
    "---"
   ]
  },
  {
   "cell_type": "markdown",
   "id": "4bb8199f-e04b-4226-9e4d-f6e0d83e8283",
   "metadata": {},
   "source": [
    "# 용어"
   ]
  },
  {
   "cell_type": "markdown",
   "id": "bcb33c89-c549-4826-8a17-cfcb106ad4e6",
   "metadata": {},
   "source": [
    "`-` 용어 정의"
   ]
  },
  {
   "cell_type": "markdown",
   "id": "288e4722-ec12-48ca-94b6-7789d93a9cab",
   "metadata": {},
   "source": [
    "**BFS(너비 우선 탐색, Breadth-First Search)**"
   ]
  },
  {
   "cell_type": "markdown",
   "id": "aa6f0565-4448-491f-b8d9-9f287d116c9f",
   "metadata": {},
   "source": [
    "그래프 탐색 알고리즘 중 하나로, 그래프의 각 노드를 \"넓게\" 탐색해 나가는 방식입니다. BFS는 최단 경로를 찾는 데 유용하고, 큐(Queue)를 이용하여 구현합니다."
   ]
  },
  {
   "cell_type": "markdown",
   "id": "6ab4a164-2c9c-4d6e-b3b9-f1dc297c1e49",
   "metadata": {},
   "source": [
    "`-` BFS의 특징"
   ]
  },
  {
   "cell_type": "markdown",
   "id": "3b382a59-4776-42b4-9428-e9a4877dc693",
   "metadata": {},
   "source": [
    "- 큐(Queue)를 사용하여 구현합니다.\n",
    "- 같은 깊이에 있는 노드를 먼저 방문한 뒤, 점차 깊이를 늘려가며 탐색합니다.\n",
    "- BFS는 최단 경로를 보장합니다(단, 그래프가 unweighted일 경우).\n",
    "- 각 노드를 한 번씩만 방문합니다.\n",
    "- BFS 알고리즘 동작 과정:\n",
    "- 시작 노드를 큐에 넣고 방문 표시를 합니다.\n",
    "- 큐에서 노드를 꺼내서 해당 노드와 연결된 노드를 큐에 넣습니다.\n",
    "- 큐가 빌 때까지 이 과정을 반복합니다."
   ]
  },
  {
   "cell_type": "markdown",
   "id": "dd92911b-c383-4f31-a92a-8454b47e94ac",
   "metadata": {},
   "source": [
    "# 예제 1"
   ]
  },
  {
   "cell_type": "code",
   "execution_count": 5,
   "id": "29c3ccf9-7540-4f99-b528-36a380a20ece",
   "metadata": {},
   "outputs": [],
   "source": [
    "from collections import deque\n",
    "\n",
    "def bfs(graph, start):\n",
    "    visited = set()  # 방문한 노드를 기록할 집합\n",
    "    queue = deque([start])  # 큐에 시작 노드 넣기\n",
    "    visited.add(start)  # 시작 노드를 방문했다고 표시\n",
    "\n",
    "    while queue:\n",
    "        node = queue.popleft()  # 큐에서 노드를 꺼냄\n",
    "        print(node, end=\" \")  # 방문한 노드 출력\n",
    "\n",
    "        # 현재 노드와 연결된 모든 노드를 큐에 추가\n",
    "        for neighbor in graph[node]:\n",
    "            if neighbor not in visited:\n",
    "                visited.add(neighbor)\n",
    "                queue.append(neighbor)"
   ]
  },
  {
   "cell_type": "code",
   "execution_count": 6,
   "id": "7dcc0409-3fda-4fb3-a0f8-9c48a7f92a84",
   "metadata": {},
   "outputs": [],
   "source": [
    "# 그래프 예제 (인접 리스트 형식)\n",
    "graph = {\n",
    "    1: [2, 3],\n",
    "    2: [1, 4, 5],\n",
    "    3: [1, 6],\n",
    "    4: [2],\n",
    "    5: [2],\n",
    "    6: [3]\n",
    "}"
   ]
  },
  {
   "cell_type": "code",
   "execution_count": 4,
   "id": "cc7c1f9a-2c38-4d48-9aa9-084c9b3bc00d",
   "metadata": {},
   "outputs": [
    {
     "name": "stdout",
     "output_type": "stream",
     "text": [
      "1 2 3 4 5 6 "
     ]
    }
   ],
   "source": [
    "# BFS 실행\n",
    "bfs(graph, 1)"
   ]
  },
  {
   "cell_type": "markdown",
   "id": "462d8393-9205-417c-adcf-db94f154487f",
   "metadata": {},
   "source": [
    "`-` 한줄씩"
   ]
  },
  {
   "cell_type": "code",
   "execution_count": 23,
   "id": "88bb62b0-fab2-460f-8150-4417a7c91156",
   "metadata": {},
   "outputs": [],
   "source": [
    "start = 1"
   ]
  },
  {
   "cell_type": "code",
   "execution_count": 24,
   "id": "14dd003a-36b0-4916-a588-b61407155992",
   "metadata": {},
   "outputs": [
    {
     "data": {
      "text/plain": [
       "set()"
      ]
     },
     "execution_count": 24,
     "metadata": {},
     "output_type": "execute_result"
    }
   ],
   "source": [
    "visited = set()  # 방문한 노드를 기록할 집합\n",
    "visited"
   ]
  },
  {
   "cell_type": "code",
   "execution_count": 25,
   "id": "73848b58-5da2-4873-a96c-f9d75c13a430",
   "metadata": {},
   "outputs": [
    {
     "data": {
      "text/plain": [
       "deque([1])"
      ]
     },
     "execution_count": 25,
     "metadata": {},
     "output_type": "execute_result"
    }
   ],
   "source": [
    "queue = deque([start])  # 큐에 시작 노드 넣기\n",
    "queue"
   ]
  },
  {
   "cell_type": "code",
   "execution_count": 26,
   "id": "69d41f74-cead-47e0-b9c7-7f813375c77f",
   "metadata": {},
   "outputs": [
    {
     "data": {
      "text/plain": [
       "{1}"
      ]
     },
     "execution_count": 26,
     "metadata": {},
     "output_type": "execute_result"
    }
   ],
   "source": [
    "visited.add(start)  # 시작 노드를 방문했다고 표시\n",
    "visited"
   ]
  },
  {
   "cell_type": "markdown",
   "id": "9c2e349d-d60d-4b1f-bfe2-13ce30e372ee",
   "metadata": {},
   "source": [
    "```python\n",
    "while queue:\n",
    "```"
   ]
  },
  {
   "cell_type": "code",
   "execution_count": 27,
   "id": "b770fe13-e33b-49f7-9e36-88672eeb05fc",
   "metadata": {},
   "outputs": [
    {
     "data": {
      "text/plain": [
       "1"
      ]
     },
     "execution_count": 27,
     "metadata": {},
     "output_type": "execute_result"
    }
   ],
   "source": [
    "node = queue.popleft()  # 큐에서 노드를 꺼냄\n",
    "node"
   ]
  },
  {
   "cell_type": "code",
   "execution_count": 28,
   "id": "e3959cd6-1eb1-47b1-b84f-95af172e2d77",
   "metadata": {},
   "outputs": [
    {
     "name": "stdout",
     "output_type": "stream",
     "text": [
      "1 "
     ]
    }
   ],
   "source": [
    "print(node, end=\" \")  # 방문한 노드 출력"
   ]
  },
  {
   "cell_type": "markdown",
   "id": "6e0f93cc-349d-47df-8518-245ff39fa2f9",
   "metadata": {},
   "source": [
    "```python\n",
    "# 현재 노드와 연결된 모든 노드를 큐에 추가\n",
    "for neighbor in graph[node]:\n",
    "```"
   ]
  },
  {
   "cell_type": "code",
   "execution_count": 29,
   "id": "6029d69d-5f84-41b7-bf8b-206edca9e8a7",
   "metadata": {},
   "outputs": [
    {
     "data": {
      "text/plain": [
       "[2, 3]"
      ]
     },
     "execution_count": 29,
     "metadata": {},
     "output_type": "execute_result"
    }
   ],
   "source": [
    "neighbor = graph[node]\n",
    "neighbor"
   ]
  },
  {
   "cell_type": "code",
   "execution_count": 31,
   "id": "6b6e8aa5-73d3-4a04-92c2-ae639b6ddb37",
   "metadata": {},
   "outputs": [
    {
     "data": {
      "text/plain": [
       "({1, 2}, deque([2]))"
      ]
     },
     "execution_count": 31,
     "metadata": {},
     "output_type": "execute_result"
    }
   ],
   "source": [
    "if 2 not in visited:\n",
    "    visited.add(2)\n",
    "    queue.append(2)\n",
    "visited,queue"
   ]
  },
  {
   "cell_type": "code",
   "execution_count": 32,
   "id": "42b9cd67-2931-4538-9882-b9bfda59b1bf",
   "metadata": {},
   "outputs": [
    {
     "data": {
      "text/plain": [
       "({1, 2, 3}, deque([2, 3]))"
      ]
     },
     "execution_count": 32,
     "metadata": {},
     "output_type": "execute_result"
    }
   ],
   "source": [
    "if 3 not in visited:\n",
    "    visited.add(3)\n",
    "    queue.append(3)\n",
    "visited,queue"
   ]
  },
  {
   "cell_type": "markdown",
   "id": "5f3198c6-e49f-49d4-b409-6d0fb6bab915",
   "metadata": {},
   "source": [
    "# 예제 2"
   ]
  },
  {
   "cell_type": "markdown",
   "id": "e4a9ef8f-b425-434d-bc1c-57af7f557393",
   "metadata": {},
   "source": [
    "`-` 최단 경로 찾기 (BFS 응용)"
   ]
  },
  {
   "cell_type": "markdown",
   "id": "afddcedd-186c-4da5-bc3b-1649befd472d",
   "metadata": {},
   "source": [
    "BFS는 가중치가 없는 그래프에서 최단 경로를 찾는 데 유용합니다. 예를 들어, 출발점에서 목표 지점까지의 최단 거리를 계산하는 문제에서 BFS를 사용할 수 있습니다."
   ]
  },
  {
   "cell_type": "code",
   "execution_count": 34,
   "id": "88c093c3-d00a-4225-ae6e-283c50c1ef30",
   "metadata": {},
   "outputs": [],
   "source": [
    "from collections import deque\n",
    "\n",
    "def bfs_shortest_path(graph, start, target):\n",
    "    visited = set()  # 방문한 노드를 기록할 집합\n",
    "    queue = deque([(start, [start])])  # 큐에 시작 노드와 경로를 튜플로 넣음\n",
    "\n",
    "    while queue:\n",
    "        node, path = queue.popleft()\n",
    "\n",
    "        if node == target:  # 목표 노드를 찾으면 경로를 반환\n",
    "            return path\n",
    "\n",
    "        visited.add(node)\n",
    "\n",
    "        # 현재 노드와 연결된 모든 노드를 큐에 추가\n",
    "        for neighbor in graph[node]:\n",
    "            if neighbor not in visited:\n",
    "                queue.append((neighbor, path + [neighbor]))\n",
    "\n",
    "    return None  # 목표 노드가 없으면 None을 반환"
   ]
  },
  {
   "cell_type": "code",
   "execution_count": 35,
   "id": "b4b92241-f0a6-49ce-ad4d-a63f0eae2330",
   "metadata": {},
   "outputs": [],
   "source": [
    "# 그래프 예제 (인접 리스트 형식)\n",
    "graph = {\n",
    "    'A': ['B', 'C'],\n",
    "    'B': ['A', 'D', 'E'],\n",
    "    'C': ['A', 'F'],\n",
    "    'D': ['B'],\n",
    "    'E': ['B', 'F'],\n",
    "    'F': ['C', 'E']\n",
    "}"
   ]
  },
  {
   "cell_type": "code",
   "execution_count": 36,
   "id": "deb41cf2-7685-4eb3-abfc-483beaa0e6b7",
   "metadata": {},
   "outputs": [
    {
     "name": "stdout",
     "output_type": "stream",
     "text": [
      "최단 경로: ['A', 'C', 'F']\n"
     ]
    }
   ],
   "source": [
    "# 최단 경로 찾기\n",
    "shortest_path = bfs_shortest_path(graph, 'A', 'F')\n",
    "print(\"최단 경로:\", shortest_path)"
   ]
  },
  {
   "cell_type": "markdown",
   "id": "d2b6480a-8fef-403d-bfce-c02fdfee97cd",
   "metadata": {},
   "source": [
    "`-` 한줄씩"
   ]
  },
  {
   "cell_type": "code",
   "execution_count": 37,
   "id": "aee8a7c9-0f40-4514-9a13-da3a4df4dbf7",
   "metadata": {},
   "outputs": [],
   "source": [
    "start, target = 'A', 'F'"
   ]
  },
  {
   "cell_type": "code",
   "execution_count": 38,
   "id": "199b42b2-3a21-4fb9-9e91-306fb5bbd63b",
   "metadata": {},
   "outputs": [
    {
     "data": {
      "text/plain": [
       "set()"
      ]
     },
     "execution_count": 38,
     "metadata": {},
     "output_type": "execute_result"
    }
   ],
   "source": [
    "visited = set()  # 방문한 노드를 기록할 집합\n",
    "visited"
   ]
  },
  {
   "cell_type": "code",
   "execution_count": 39,
   "id": "87285b28-151b-458c-b84c-deeba537196b",
   "metadata": {},
   "outputs": [
    {
     "data": {
      "text/plain": [
       "deque([('A', ['A'])])"
      ]
     },
     "execution_count": 39,
     "metadata": {},
     "output_type": "execute_result"
    }
   ],
   "source": [
    "queue = deque([(start, [start])])  # 큐에 시작 노드와 경로를 튜플로 넣음\n",
    "queue"
   ]
  },
  {
   "cell_type": "markdown",
   "id": "6d0af831-fb8e-42d2-831e-6ee1da80733a",
   "metadata": {},
   "source": [
    "queue 가 True 일때까지 진행"
   ]
  },
  {
   "cell_type": "markdown",
   "id": "485cd35a-4014-493b-9386-040ba3585b2c",
   "metadata": {},
   "source": [
    "```python\n",
    "while queue:\n",
    "```"
   ]
  },
  {
   "cell_type": "code",
   "execution_count": 40,
   "id": "123da1c7-64fa-4918-8d69-4342b55a8638",
   "metadata": {},
   "outputs": [
    {
     "data": {
      "text/plain": [
       "('A', ['A'])"
      ]
     },
     "execution_count": 40,
     "metadata": {},
     "output_type": "execute_result"
    }
   ],
   "source": [
    "node, path = queue.popleft()\n",
    "node, path "
   ]
  },
  {
   "cell_type": "code",
   "execution_count": 43,
   "id": "fa2eaa6d-b7cd-48e6-9952-9b636c3fdd8f",
   "metadata": {},
   "outputs": [],
   "source": [
    "# if node == target:  # 목표 노드를 찾으면 경로를 반환\n",
    "#return path"
   ]
  },
  {
   "cell_type": "code",
   "execution_count": 44,
   "id": "3c6a1471-8fc3-4963-8de4-3b3a0ec07dd0",
   "metadata": {},
   "outputs": [
    {
     "data": {
      "text/plain": [
       "{'A'}"
      ]
     },
     "execution_count": 44,
     "metadata": {},
     "output_type": "execute_result"
    }
   ],
   "source": [
    "visited.add(node)\n",
    "visited"
   ]
  },
  {
   "cell_type": "code",
   "execution_count": 45,
   "id": "d7082eb3-f74c-4823-963c-75edd4239df9",
   "metadata": {},
   "outputs": [
    {
     "data": {
      "text/plain": [
       "['B', 'C']"
      ]
     },
     "execution_count": 45,
     "metadata": {},
     "output_type": "execute_result"
    }
   ],
   "source": [
    "graph[node]"
   ]
  },
  {
   "cell_type": "code",
   "execution_count": 47,
   "id": "30d87f57-01d6-42b9-b0f4-25cb4d40b23c",
   "metadata": {},
   "outputs": [
    {
     "data": {
      "text/plain": [
       "deque([('B', 'AB')])"
      ]
     },
     "execution_count": 47,
     "metadata": {},
     "output_type": "execute_result"
    }
   ],
   "source": [
    "if 'B' not in visited:\n",
    "    queue.append(('B', 'A' + 'B'))\n",
    "queue"
   ]
  },
  {
   "cell_type": "code",
   "execution_count": 48,
   "id": "e29c8b2d-2914-436d-9b64-f3e04c97b7b1",
   "metadata": {},
   "outputs": [
    {
     "data": {
      "text/plain": [
       "deque([('B', 'AB'), ('C', 'AC')])"
      ]
     },
     "execution_count": 48,
     "metadata": {},
     "output_type": "execute_result"
    }
   ],
   "source": [
    "if 'C' not in visited:\n",
    "    queue.append(('C', 'A' + 'C'))\n",
    "queue"
   ]
  },
  {
   "cell_type": "code",
   "execution_count": 59,
   "id": "24922386-1d08-43d3-b44d-ef147a208833",
   "metadata": {},
   "outputs": [],
   "source": [
    "from collections import deque\n",
    "\n",
    "def bfs_shortest_path(graph, start, target):\n",
    "    visited = set()  # 방문한 노드를 기록할 집합\n",
    "    queue = deque([(start, [start])])  # 큐에 시작 노드와 경로를 튜플로 넣음\n",
    "\n",
    "    while queue:\n",
    "        print(queue)\n",
    "        node, path = queue.popleft()\n",
    "\n",
    "        if node == target:  # 목표 노드를 찾으면 경로를 반환\n",
    "            return path\n",
    "        print(visited)\n",
    "        visited.add(node)\n",
    "\n",
    "        # 현재 노드와 연결된 모든 노드를 큐에 추가\n",
    "        for neighbor in graph[node]:\n",
    "            if neighbor not in visited:\n",
    "                queue.append((neighbor, path + [neighbor]))\n",
    "            print(f'for 문 neighbor{neighbor}')\n",
    "            print(f'for 문 queue{queue}')\n",
    "\n",
    "    return None  # 목표 노드가 없으면 None을 반환"
   ]
  },
  {
   "cell_type": "code",
   "execution_count": 60,
   "id": "700188ef-c557-47a5-b3a9-ae8935321b00",
   "metadata": {},
   "outputs": [],
   "source": [
    "# 그래프 예제 (인접 리스트 형식)\n",
    "graph = {\n",
    "    'A': ['B', 'C'],\n",
    "    'B': ['A', 'D', 'E'],\n",
    "    'C': ['A', 'F'],\n",
    "    'D': ['B'],\n",
    "    'E': ['B', 'F'],\n",
    "    'F': ['C', 'E']\n",
    "}"
   ]
  },
  {
   "cell_type": "code",
   "execution_count": 61,
   "id": "829f0493-8ac7-46bb-ac49-bdb09a464374",
   "metadata": {},
   "outputs": [
    {
     "name": "stdout",
     "output_type": "stream",
     "text": [
      "deque([('A', ['A'])])\n",
      "set()\n",
      "for 문 neighborB\n",
      "for 문 queuedeque([('B', ['A', 'B'])])\n",
      "for 문 neighborC\n",
      "for 문 queuedeque([('B', ['A', 'B']), ('C', ['A', 'C'])])\n",
      "deque([('B', ['A', 'B']), ('C', ['A', 'C'])])\n",
      "{'A'}\n",
      "for 문 neighborA\n",
      "for 문 queuedeque([('C', ['A', 'C'])])\n",
      "for 문 neighborD\n",
      "for 문 queuedeque([('C', ['A', 'C']), ('D', ['A', 'B', 'D'])])\n",
      "for 문 neighborE\n",
      "for 문 queuedeque([('C', ['A', 'C']), ('D', ['A', 'B', 'D']), ('E', ['A', 'B', 'E'])])\n",
      "deque([('C', ['A', 'C']), ('D', ['A', 'B', 'D']), ('E', ['A', 'B', 'E'])])\n",
      "{'A', 'B'}\n",
      "for 문 neighborA\n",
      "for 문 queuedeque([('D', ['A', 'B', 'D']), ('E', ['A', 'B', 'E'])])\n",
      "for 문 neighborF\n",
      "for 문 queuedeque([('D', ['A', 'B', 'D']), ('E', ['A', 'B', 'E']), ('F', ['A', 'C', 'F'])])\n",
      "deque([('D', ['A', 'B', 'D']), ('E', ['A', 'B', 'E']), ('F', ['A', 'C', 'F'])])\n",
      "{'A', 'B', 'C'}\n",
      "for 문 neighborB\n",
      "for 문 queuedeque([('E', ['A', 'B', 'E']), ('F', ['A', 'C', 'F'])])\n",
      "deque([('E', ['A', 'B', 'E']), ('F', ['A', 'C', 'F'])])\n",
      "{'D', 'A', 'B', 'C'}\n",
      "for 문 neighborB\n",
      "for 문 queuedeque([('F', ['A', 'C', 'F'])])\n",
      "for 문 neighborF\n",
      "for 문 queuedeque([('F', ['A', 'C', 'F']), ('F', ['A', 'B', 'E', 'F'])])\n",
      "deque([('F', ['A', 'C', 'F']), ('F', ['A', 'B', 'E', 'F'])])\n",
      "최단 경로: ['A', 'C', 'F']\n"
     ]
    }
   ],
   "source": [
    "# 최단 경로 찾기\n",
    "shortest_path = bfs_shortest_path(graph, 'A', 'F')\n",
    "print(\"최단 경로:\", shortest_path)"
   ]
  },
  {
   "cell_type": "code",
   "execution_count": null,
   "id": "a3c74de1-c9dd-4ee9-8d5b-ba7ed65dde49",
   "metadata": {},
   "outputs": [],
   "source": []
  }
 ],
 "metadata": {
  "kernelspec": {
   "display_name": "Python 3",
   "language": "python",
   "name": "python3"
  },
  "language_info": {
   "codemirror_mode": {
    "name": "ipython",
    "version": 3
   },
   "file_extension": ".py",
   "mimetype": "text/x-python",
   "name": "python",
   "nbconvert_exporter": "python",
   "pygments_lexer": "ipython3",
   "version": "3.8.0"
  }
 },
 "nbformat": 4,
 "nbformat_minor": 5
}
