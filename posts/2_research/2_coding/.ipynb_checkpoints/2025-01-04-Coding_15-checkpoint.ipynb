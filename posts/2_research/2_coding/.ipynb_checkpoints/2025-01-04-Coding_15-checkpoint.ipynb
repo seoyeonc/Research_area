{
 "cells": [
  {
   "cell_type": "raw",
   "id": "46962d5f-104a-41ae-acfd-e2702397f377",
   "metadata": {
    "id": "cac470df-29e7-4148-9bbd-d8b9a32fa570",
    "tags": []
   },
   "source": [
    "---\n",
    "title: \"**[Coding Test]**공원 산책\"\n",
    "author: \"SEOYEON CHOI\"\n",
    "date: \"2025-01-24\"\n",
    "---"
   ]
  },
  {
   "cell_type": "markdown",
   "id": "e06f0f19-94b4-4feb-b3d4-dbf51a4b62ef",
   "metadata": {},
   "source": [
    "`-` 링크`"
   ]
  },
  {
   "cell_type": "markdown",
   "id": "9b84d68a-9515-477b-b324-eee2811366be",
   "metadata": {},
   "source": [
    "https://school.programmers.co.kr/learn/courses/30/lessons/172928"
   ]
  },
  {
   "cell_type": "code",
   "execution_count": null,
   "id": "0ffce785-ced9-48ec-8436-33bd0c515972",
   "metadata": {},
   "outputs": [],
   "source": []
  }
 ],
 "metadata": {
  "kernelspec": {
   "display_name": "Python 3",
   "language": "python",
   "name": "python3"
  },
  "language_info": {
   "codemirror_mode": {
    "name": "ipython",
    "version": 3
   },
   "file_extension": ".py",
   "mimetype": "text/x-python",
   "name": "python",
   "nbconvert_exporter": "python",
   "pygments_lexer": "ipython3",
   "version": "3.8.0"
  }
 },
 "nbformat": 4,
 "nbformat_minor": 5
}
