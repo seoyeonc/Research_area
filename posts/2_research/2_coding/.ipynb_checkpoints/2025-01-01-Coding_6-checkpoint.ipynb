{
 "cells": [
  {
   "cell_type": "raw",
   "id": "fe605d69-84ba-4a9f-9676-20d368129f95",
   "metadata": {
    "id": "cac470df-29e7-4148-9bbd-d8b9a32fa570",
    "tags": []
   },
   "source": [
    "---\n",
    "title: \"**[Coding Test]**충돌 위험 찾기\"\n",
    "author: \"SEOYEON CHOI\"\n",
    "date: \"2025-01-01\"\n",
    "---"
   ]
  },
  {
   "cell_type": "markdown",
   "id": "7436f310-1a1e-40c6-9b4e-0351ad673901",
   "metadata": {},
   "source": [
    "`-` 링크"
   ]
  },
  {
   "cell_type": "markdown",
   "id": "6c6fbcd9-5ed6-413d-9487-6e741aeb76dc",
   "metadata": {},
   "source": [
    "https://school.programmers.co.kr/learn/courses/30/lessons/340211"
   ]
  },
  {
   "cell_type": "markdown",
   "id": "45078674-2ced-4449-9633-39943500e195",
   "metadata": {},
   "source": [
    "`-` 문제"
   ]
  },
  {
   "cell_type": "markdown",
   "id": "e866ba12-7a78-44d7-8ab8-04429095cdc0",
   "metadata": {},
   "source": [
    "어떤 물류 센터는 로봇을 이용한 자동 운송 시스템을 운영합니다. 운송 시스템이 작동하는 규칙은 다음과 같습니다.\n",
    "\n",
    "물류 센터에는 (r, c)와 같이 2차원 좌표로 나타낼 수 있는 n개의 포인트가 존재합니다. 각 포인트는 1~n까지의 서로 다른 번호를 가집니다.\n",
    "\n",
    "로봇마다 정해진 운송 경로가 존재합니다. 운송 경로는 m개의 포인트로 구성되고 로봇은 첫 포인트에서 시작해 할당된 포인트를 순서대로 방문합니다.\n",
    "\n",
    "운송 시스템에 사용되는 로봇은 x대이고, 모든 로봇은 0초에 동시에 출발합니다. 로봇은 1초마다 r 좌표와 c 좌표 중 하나가 1만큼 감소하거나 증가한 좌표로 이동할 수 있습니다.\n",
    "\n",
    "다음 포인트로 이동할 때는 항상 최단 경로로 이동하며 최단 경로가 여러 가지일 경우, r 좌표가 변하는 이동을 c 좌표가 변하는 이동보다 먼저 합니다.\n",
    "\n",
    "마지막 포인트에 도착한 로봇은 운송을 마치고 물류 센터를 벗어납니다. 로봇이 물류 센터를 벗어나는 경로는 고려하지 않습니다.\n",
    "\n",
    "이동 중 같은 좌표에 로봇이 2대 이상 모인다면 충돌할 가능성이 있는 위험 상황으로 판단합니다. 관리자인 당신은 현재 설정대로 로봇이 움직일 때 위험한 상황이 총 몇 번 일어나는지 알고 싶습니다. 만약 어떤 시간에 여러 좌표에서 위험 상황이 발생한다면 그 횟수를 모두 더합니다.\n",
    "\n",
    "운송 포인트 n개의 좌표를 담은 2차원 정수 배열 points와 로봇 x대의 운송 경로를 담은 2차원 정수 배열 routes가 매개변수로 주어집니다. 이때 모든 로봇이 운송을 마칠 때까지 발생하는 위험한 상황의 횟수를 return 하도록 solution 함수를 완성해 주세요.\n",
    "\n",
    "제한사항\n",
    "\n",
    "2 ≤ points의 길이 = n ≤ 100\n",
    "\n",
    "points[i]는 i + 1번 포인트의 [r 좌표, c 좌표]를 나타내는 길이가 2인 정수 배열입니다.\n",
    "\n",
    "1 ≤ r ≤ 100\n",
    "\n",
    "1 ≤ c ≤ 100\n",
    "\n",
    "같은 좌표에 여러 포인트가 존재하는 입력은 주어지지 않습니다.\n",
    "\n",
    "2 ≤ routes의 길이 = 로봇의 수 = x ≤ 100\n",
    "\n",
    "2 ≤ routes[i]의 길이 = m ≤ 100\n",
    "\n",
    "routes[i]는 i + 1번째 로봇의 운송경로를 나타냅니다. routes[i]의 길이는 모두 같습니다.\n",
    "\n",
    "routes[i][j]는 i + 1번째 로봇이 j + 1번째로 방문하는 포인트 번호를 나타냅니다.\n",
    "\n",
    "같은 포인트를 연속으로 방문하는 입력은 주어지지 않습니다.\n",
    "\n",
    "1 ≤ routes[i][j] ≤ n"
   ]
  },
  {
   "cell_type": "markdown",
   "id": "f5a46717-cf21-4654-846e-8488a4480e25",
   "metadata": {},
   "source": [
    "`-` 답"
   ]
  },
  {
   "cell_type": "code",
   "execution_count": 722,
   "id": "08bc25f3-0414-46cb-889f-d74d62dbea19",
   "metadata": {},
   "outputs": [],
   "source": [
    "def solution(points, routes):\n",
    "    def move_point(start, end, points, newpoints, move, step = 0,a = 1):\n",
    "        x1, y1 = points[start - 1]\n",
    "        x2, y2 = points[end - 1]\n",
    "\n",
    "        if a == 1:\n",
    "            move.append([step,x1,y1])\n",
    "\n",
    "        while x1 != x2 or y1 != y2 :\n",
    "            step += 1\n",
    "            if x1 < x2:\n",
    "                x1 += 1\n",
    "            elif x1 > x2:\n",
    "                x1 -= 1\n",
    "            elif y1 < y2:\n",
    "                y1 += 1\n",
    "            elif y1 > y2:\n",
    "                y1 -= 1\n",
    "            move.append([step,x1, y1])\n",
    "\n",
    "        newpoints[start - 1] = [x1, y1]\n",
    "\n",
    "    newpoints = [point[:] for point in points]\n",
    "    move = []\n",
    "    for i,route in enumerate(routes):\n",
    "        if len(route) == 2 :\n",
    "            move_point(route[0], route[1], points, newpoints, move)\n",
    "        elif len(route) > 2 :\n",
    "            step = 0\n",
    "            a = 1\n",
    "            for j in range(len(route)-1):\n",
    "                move_point(route[j], route[j+1], points, newpoints, move, step, a)\n",
    "                step = move[-1][0]\n",
    "                a = 0\n",
    "\n",
    "    duplicates_count = {}\n",
    "    for m in move:\n",
    "        tuple_key = tuple(m)\n",
    "        if tuple_key in duplicates_count:\n",
    "            duplicates_count[tuple_key] += 1\n",
    "        else:\n",
    "            duplicates_count[tuple_key] = 1\n",
    "\n",
    "    answer = len([count for count in duplicates_count.values() if count not in [1]])\n",
    "    return answer"
   ]
  },
  {
   "cell_type": "code",
   "execution_count": 723,
   "id": "f84e858c-b741-42f0-a85f-52db2d03912e",
   "metadata": {},
   "outputs": [
    {
     "data": {
      "text/plain": [
       "1"
      ]
     },
     "execution_count": 723,
     "metadata": {},
     "output_type": "execute_result"
    }
   ],
   "source": [
    "solution([[3, 2], [6, 4], [4, 7], [1, 4]],[[4, 2], [1, 3], [2, 4]])\n",
    "# 1"
   ]
  },
  {
   "cell_type": "code",
   "execution_count": 724,
   "id": "92896a04-bbd3-467f-9ed4-f31de98209a6",
   "metadata": {},
   "outputs": [
    {
     "data": {
      "text/plain": [
       "9"
      ]
     },
     "execution_count": 724,
     "metadata": {},
     "output_type": "execute_result"
    }
   ],
   "source": [
    "solution([[3, 2], [6, 4], [4, 7], [1, 4]],[[4, 2], [1, 3], [4, 2], [4, 3]])\n",
    "# 9"
   ]
  },
  {
   "cell_type": "code",
   "execution_count": 725,
   "id": "7ede100c-4bf9-42ab-8b30-f8f30494a938",
   "metadata": {},
   "outputs": [
    {
     "data": {
      "text/plain": [
       "0"
      ]
     },
     "execution_count": 725,
     "metadata": {},
     "output_type": "execute_result"
    }
   ],
   "source": [
    "solution([[2, 2], [2, 3], [2, 7], [6, 6], [5, 2]],[[2, 3, 4, 5], [1, 3, 4, 5]])\n",
    "# 0"
   ]
  },
  {
   "cell_type": "markdown",
   "id": "315d8ebb-0eca-4a96-baec-7a2a0b95bc81",
   "metadata": {},
   "source": [
    "`-` 한 줄씩"
   ]
  },
  {
   "cell_type": "markdown",
   "id": "556314df-b1d7-406f-83cc-023886e3fc7b",
   "metadata": {},
   "source": [
    "1번 예제"
   ]
  },
  {
   "cell_type": "code",
   "execution_count": 704,
   "id": "ac539546-e146-4534-b20c-1cc5fd7bf042",
   "metadata": {},
   "outputs": [],
   "source": [
    "points = [[3, 2], [6, 4], [4, 7], [1, 4]]\n",
    "routes = [[4, 2], [1, 3], [2, 4]]"
   ]
  },
  {
   "cell_type": "code",
   "execution_count": 727,
   "id": "81e64abd-a4fb-4d30-943c-908afaadc971",
   "metadata": {},
   "outputs": [],
   "source": [
    "def move_point(start, end, points, newpoints, move, step = 0,a = 1):\n",
    "    x1, y1 = points[start - 1]\n",
    "    x2, y2 = points[end - 1]\n",
    "    \n",
    "    if a == 1:\n",
    "        move.append([step,x1,y1])\n",
    "    # 1초마다 r 좌표와 c 좌표 중 하나가 1만큼 감소하거나 증가한 좌표로 이동할 수 있습니다.\n",
    "    # step = 초\n",
    "    # r좌표 = x\n",
    "    # c좌표 = y\n",
    "    while x1 != x2 or y1 != y2 :\n",
    "        step += 1\n",
    "        # 다음 포인트로 이동할 때는 항상 최단 경로로 이동하며 최단 경로가 여러 가지일 경우, r 좌표가 변하는 이동을 c 좌표가 변하는 이동보다 먼저 합니다.\n",
    "        if x1 < x2:\n",
    "            x1 += 1\n",
    "        elif x1 > x2:\n",
    "            x1 -= 1\n",
    "        elif y1 < y2:\n",
    "            y1 += 1\n",
    "        elif y1 > y2:\n",
    "            y1 -= 1\n",
    "        move.append([step,x1, y1])\n",
    "\n",
    "    newpoints[start - 1] = [x1, y1]"
   ]
  },
  {
   "cell_type": "code",
   "execution_count": 706,
   "id": "79bcee58-6677-4983-8cf1-d7f3a32080d8",
   "metadata": {},
   "outputs": [],
   "source": [
    "newpoints = [point[:] for point in points]\n",
    "move = []\n",
    "for i,route in enumerate(routes):\n",
    "    if len(route) == 2 :\n",
    "        move_point(route[0], route[1], points, newpoints, move)\n",
    "    elif len(route) > 2 :\n",
    "        step = 0\n",
    "        a = 1\n",
    "        for j in range(len(route)-1):\n",
    "            move_point(route[j], route[j+1], points, newpoints, move, step, a)\n",
    "            step = move[-1][0]\n",
    "            a = 0"
   ]
  },
  {
   "cell_type": "code",
   "execution_count": 707,
   "id": "424c1c4f-57b2-4c53-b4c9-51eaf8db74b7",
   "metadata": {},
   "outputs": [
    {
     "data": {
      "text/plain": [
       "[[0, 1, 4],\n",
       " [1, 2, 4],\n",
       " [2, 3, 4],\n",
       " [3, 4, 4],\n",
       " [4, 5, 4],\n",
       " [5, 6, 4],\n",
       " [0, 3, 2],\n",
       " [1, 4, 2],\n",
       " [2, 4, 3],\n",
       " [3, 4, 4],\n",
       " [4, 4, 5],\n",
       " [5, 4, 6],\n",
       " [6, 4, 7],\n",
       " [0, 6, 4],\n",
       " [1, 5, 4],\n",
       " [2, 4, 4],\n",
       " [3, 3, 4],\n",
       " [4, 2, 4],\n",
       " [5, 1, 4]]"
      ]
     },
     "execution_count": 707,
     "metadata": {},
     "output_type": "execute_result"
    }
   ],
   "source": [
    "move"
   ]
  },
  {
   "cell_type": "code",
   "execution_count": 708,
   "id": "380b320e-5f57-4073-95d8-8d30331e8547",
   "metadata": {},
   "outputs": [
    {
     "data": {
      "text/plain": [
       "{(0, 1, 4): 1,\n",
       " (1, 2, 4): 1,\n",
       " (2, 3, 4): 1,\n",
       " (3, 4, 4): 2,\n",
       " (4, 5, 4): 1,\n",
       " (5, 6, 4): 1,\n",
       " (0, 3, 2): 1,\n",
       " (1, 4, 2): 1,\n",
       " (2, 4, 3): 1,\n",
       " (4, 4, 5): 1,\n",
       " (5, 4, 6): 1,\n",
       " (6, 4, 7): 1,\n",
       " (0, 6, 4): 1,\n",
       " (1, 5, 4): 1,\n",
       " (2, 4, 4): 1,\n",
       " (3, 3, 4): 1,\n",
       " (4, 2, 4): 1,\n",
       " (5, 1, 4): 1}"
      ]
     },
     "execution_count": 708,
     "metadata": {},
     "output_type": "execute_result"
    }
   ],
   "source": [
    "duplicates_count = {}\n",
    "for m in move:\n",
    "    tuple_key = tuple(m)\n",
    "    if tuple_key in duplicates_count:\n",
    "        duplicates_count[tuple_key] += 1\n",
    "    else:\n",
    "        duplicates_count[tuple_key] = 1\n",
    "duplicates_count"
   ]
  },
  {
   "cell_type": "markdown",
   "id": "dc43c160-f01e-4c1c-b24e-b104ba055f46",
   "metadata": {},
   "source": [
    "- 이동 중 같은 좌표에 로봇이 2대 이상 모인다면 충돌할 가능성이 있는 위험 상황으로 판단합니다. 관리자인 당신은 현재 설정대로 로봇이 움직일 때 위험한 상황이 총 몇 번 일어나는지 알고 싶습니다. 만약 어떤 시간에 여러 좌표에서 위험 상황이 발생한다면 그 횟수를 모두 더합니다."
   ]
  },
  {
   "cell_type": "markdown",
   "id": "4fd9c509-67e1-40fa-8d97-f7d87d15dc09",
   "metadata": {},
   "source": [
    "- 운송 포인트 n개의 좌표를 담은 2차원 정수 배열 points와 로봇 x대의 운송 경로를 담은 2차원 정수 배열 routes가 매개변수로 주어집니다. 이때 모든 로봇이 운송을 마칠 때까지 발생하는 위험한 상황의 횟수를 return 하도록 solution 함수를 완성해 주세요."
   ]
  },
  {
   "cell_type": "code",
   "execution_count": 709,
   "id": "5bccd964-026b-4602-9cd4-d265038e7d20",
   "metadata": {},
   "outputs": [
    {
     "data": {
      "text/plain": [
       "1"
      ]
     },
     "execution_count": 709,
     "metadata": {},
     "output_type": "execute_result"
    }
   ],
   "source": [
    "len([count for count in duplicates_count.values() if count not in [1]])"
   ]
  },
  {
   "cell_type": "markdown",
   "id": "8a3933f4-e195-4865-a865-497c5ee01160",
   "metadata": {},
   "source": [
    "`-` 2번 예제"
   ]
  },
  {
   "cell_type": "markdown",
   "id": "06d39ed9-9e33-4672-8bf0-8eb1863e0f3e",
   "metadata": {},
   "source": [
    "- i = 0, i = 2, i = 3이 [0, 1, 4], [1, 2, 4], [2, 3, 4] 가 같아 num + 3\n",
    "- i = 0, i = 1, i = 2, i = 3이 [3, 4, 4]가 같아  num + 1\n",
    "- i = 0, i = 2이 [4, 5, 4] [5, 6, 4]  가 같아 num + 2\n",
    "- i = 1, i = 3이 [4, 4, 5],[5, 4, 6]가 같아  num+2\n",
    "- i = 1, i = 3의 [6, 4, 7]가 같아 num + 1\n",
    "- 따라서 9를 return 해야 합니다."
   ]
  },
  {
   "cell_type": "code",
   "execution_count": 710,
   "id": "5bb87598-f587-429a-909a-435f3ef4e203",
   "metadata": {},
   "outputs": [],
   "source": [
    "points = [[3, 2], [6, 4], [4, 7], [1, 4]]\n",
    "routes = [[4, 2], [1, 3], [4, 2], [4, 3]]"
   ]
  },
  {
   "cell_type": "code",
   "execution_count": 711,
   "id": "f064b058-1eec-452e-80f5-d9817207889a",
   "metadata": {},
   "outputs": [],
   "source": [
    "def move_point(start, end, points, newpoints, move, step = 0,a = 1):\n",
    "    x1, y1 = points[start - 1]\n",
    "    x2, y2 = points[end - 1]\n",
    "    \n",
    "    if a == 1:\n",
    "        move.append([step,x1,y1])\n",
    "    \n",
    "    while x1 != x2 or y1 != y2 :\n",
    "        step += 1\n",
    "        if x1 < x2:\n",
    "            x1 += 1\n",
    "        elif x1 > x2:\n",
    "            x1 -= 1\n",
    "        elif y1 < y2:\n",
    "            y1 += 1\n",
    "        elif y1 > y2:\n",
    "            y1 -= 1\n",
    "        move.append([step,x1, y1])\n",
    "\n",
    "    newpoints[start - 1] = [x1, y1]"
   ]
  },
  {
   "cell_type": "code",
   "execution_count": 712,
   "id": "5651b566-c4b0-48f6-b8e8-0cc87254c2c4",
   "metadata": {},
   "outputs": [],
   "source": [
    "newpoints = [point[:] for point in points]\n",
    "move = []\n",
    "for i,route in enumerate(routes):\n",
    "    if len(route) == 2 :\n",
    "        move_point(route[0], route[1], points, newpoints, move)\n",
    "    elif len(route) > 2 :\n",
    "        step = 0\n",
    "        a = 1\n",
    "        for j in range(len(route)-1):\n",
    "            move_point(route[j], route[j+1], points, newpoints, move, step, a)\n",
    "            step = move[-1][0]\n",
    "            a = 0"
   ]
  },
  {
   "cell_type": "code",
   "execution_count": 713,
   "id": "251ffc62-e9f7-44b7-8b13-7c200c801a32",
   "metadata": {},
   "outputs": [
    {
     "data": {
      "text/plain": [
       "[[0, 1, 4],\n",
       " [1, 2, 4],\n",
       " [2, 3, 4],\n",
       " [3, 4, 4],\n",
       " [4, 5, 4],\n",
       " [5, 6, 4],\n",
       " [0, 3, 2],\n",
       " [1, 4, 2],\n",
       " [2, 4, 3],\n",
       " [3, 4, 4],\n",
       " [4, 4, 5],\n",
       " [5, 4, 6],\n",
       " [6, 4, 7],\n",
       " [0, 1, 4],\n",
       " [1, 2, 4],\n",
       " [2, 3, 4],\n",
       " [3, 4, 4],\n",
       " [4, 5, 4],\n",
       " [5, 6, 4],\n",
       " [0, 1, 4],\n",
       " [1, 2, 4],\n",
       " [2, 3, 4],\n",
       " [3, 4, 4],\n",
       " [4, 4, 5],\n",
       " [5, 4, 6],\n",
       " [6, 4, 7]]"
      ]
     },
     "execution_count": 713,
     "metadata": {},
     "output_type": "execute_result"
    }
   ],
   "source": [
    "move"
   ]
  },
  {
   "cell_type": "code",
   "execution_count": 714,
   "id": "5124ee9c-d743-4086-8005-11a62c225612",
   "metadata": {},
   "outputs": [
    {
     "data": {
      "text/plain": [
       "{(0, 1, 4): 3,\n",
       " (1, 2, 4): 3,\n",
       " (2, 3, 4): 3,\n",
       " (3, 4, 4): 4,\n",
       " (4, 5, 4): 2,\n",
       " (5, 6, 4): 2,\n",
       " (0, 3, 2): 1,\n",
       " (1, 4, 2): 1,\n",
       " (2, 4, 3): 1,\n",
       " (4, 4, 5): 2,\n",
       " (5, 4, 6): 2,\n",
       " (6, 4, 7): 2}"
      ]
     },
     "execution_count": 714,
     "metadata": {},
     "output_type": "execute_result"
    }
   ],
   "source": [
    "duplicates_count = {}\n",
    "for m in move:\n",
    "    tuple_key = tuple(m)\n",
    "    if tuple_key in duplicates_count:\n",
    "        duplicates_count[tuple_key] += 1\n",
    "    else:\n",
    "        duplicates_count[tuple_key] = 1\n",
    "duplicates_count"
   ]
  },
  {
   "cell_type": "code",
   "execution_count": 715,
   "id": "b6e7a825-1cc5-4f9b-85bf-75f95af9f839",
   "metadata": {},
   "outputs": [
    {
     "data": {
      "text/plain": [
       "9"
      ]
     },
     "execution_count": 715,
     "metadata": {},
     "output_type": "execute_result"
    }
   ],
   "source": [
    "len([count for count in duplicates_count.values() if count not in [1]])"
   ]
  },
  {
   "cell_type": "markdown",
   "id": "fc5517e1-9a2a-4910-8779-4916248b9dce",
   "metadata": {},
   "source": [
    "`-` 3번 예제"
   ]
  },
  {
   "cell_type": "code",
   "execution_count": 716,
   "id": "f76fef42-5309-44bb-a5a6-05fefa21fd2f",
   "metadata": {},
   "outputs": [],
   "source": [
    "points = [[2, 2], [2, 3], [2, 7], [6, 6], [5, 2]]\n",
    "routes = [[2, 3, 4, 5], [1, 3, 4, 5]]"
   ]
  },
  {
   "cell_type": "code",
   "execution_count": 717,
   "id": "addba723-5ae5-497e-963f-8488e0b3179b",
   "metadata": {},
   "outputs": [],
   "source": [
    "def move_point(start, end, points, newpoints, move, step = 0,a = 1):\n",
    "    x1, y1 = points[start - 1]\n",
    "    x2, y2 = points[end - 1]\n",
    "    \n",
    "    if a == 1:\n",
    "        move.append([step,x1,y1])\n",
    "    \n",
    "    while x1 != x2 or y1 != y2 :\n",
    "        step += 1\n",
    "        if x1 < x2:\n",
    "            x1 += 1\n",
    "        elif x1 > x2:\n",
    "            x1 -= 1\n",
    "        elif y1 < y2:\n",
    "            y1 += 1\n",
    "        elif y1 > y2:\n",
    "            y1 -= 1\n",
    "        move.append([step,x1, y1])\n",
    "\n",
    "    newpoints[start - 1] = [x1, y1]"
   ]
  },
  {
   "cell_type": "code",
   "execution_count": 718,
   "id": "c54194e6-e52a-4a8c-9a25-b56cd83458dd",
   "metadata": {},
   "outputs": [],
   "source": [
    "newpoints = [point[:] for point in points]\n",
    "move = []\n",
    "for i,route in enumerate(routes):\n",
    "    if len(route) == 2 :\n",
    "        move_point(route[0], route[1], points, newpoints, move)\n",
    "    elif len(route) > 2 :\n",
    "        step = 0\n",
    "        a = 1\n",
    "        for j in range(len(route)-1):\n",
    "            move_point(route[j], route[j+1], points, newpoints, move, step, a)\n",
    "            step = move[-1][0]\n",
    "            a = 0"
   ]
  },
  {
   "cell_type": "code",
   "execution_count": 719,
   "id": "d0b08626-1ded-4abe-8aee-d963dc2b8ef6",
   "metadata": {},
   "outputs": [
    {
     "data": {
      "text/plain": [
       "[[0, 2, 3],\n",
       " [1, 2, 4],\n",
       " [2, 2, 5],\n",
       " [3, 2, 6],\n",
       " [4, 2, 7],\n",
       " [5, 3, 7],\n",
       " [6, 4, 7],\n",
       " [7, 5, 7],\n",
       " [8, 6, 7],\n",
       " [9, 6, 6],\n",
       " [10, 5, 6],\n",
       " [11, 5, 5],\n",
       " [12, 5, 4],\n",
       " [13, 5, 3],\n",
       " [14, 5, 2],\n",
       " [0, 2, 2],\n",
       " [1, 2, 3],\n",
       " [2, 2, 4],\n",
       " [3, 2, 5],\n",
       " [4, 2, 6],\n",
       " [5, 2, 7],\n",
       " [6, 3, 7],\n",
       " [7, 4, 7],\n",
       " [8, 5, 7],\n",
       " [9, 6, 7],\n",
       " [10, 6, 6],\n",
       " [11, 5, 6],\n",
       " [12, 5, 5],\n",
       " [13, 5, 4],\n",
       " [14, 5, 3],\n",
       " [15, 5, 2]]"
      ]
     },
     "execution_count": 719,
     "metadata": {},
     "output_type": "execute_result"
    }
   ],
   "source": [
    "move"
   ]
  },
  {
   "cell_type": "code",
   "execution_count": 720,
   "id": "2e87451a-e80f-4089-bbde-efc291760752",
   "metadata": {},
   "outputs": [
    {
     "data": {
      "text/plain": [
       "{(0, 2, 3): 1,\n",
       " (1, 2, 4): 1,\n",
       " (2, 2, 5): 1,\n",
       " (3, 2, 6): 1,\n",
       " (4, 2, 7): 1,\n",
       " (5, 3, 7): 1,\n",
       " (6, 4, 7): 1,\n",
       " (7, 5, 7): 1,\n",
       " (8, 6, 7): 1,\n",
       " (9, 6, 6): 1,\n",
       " (10, 5, 6): 1,\n",
       " (11, 5, 5): 1,\n",
       " (12, 5, 4): 1,\n",
       " (13, 5, 3): 1,\n",
       " (14, 5, 2): 1,\n",
       " (0, 2, 2): 1,\n",
       " (1, 2, 3): 1,\n",
       " (2, 2, 4): 1,\n",
       " (3, 2, 5): 1,\n",
       " (4, 2, 6): 1,\n",
       " (5, 2, 7): 1,\n",
       " (6, 3, 7): 1,\n",
       " (7, 4, 7): 1,\n",
       " (8, 5, 7): 1,\n",
       " (9, 6, 7): 1,\n",
       " (10, 6, 6): 1,\n",
       " (11, 5, 6): 1,\n",
       " (12, 5, 5): 1,\n",
       " (13, 5, 4): 1,\n",
       " (14, 5, 3): 1,\n",
       " (15, 5, 2): 1}"
      ]
     },
     "execution_count": 720,
     "metadata": {},
     "output_type": "execute_result"
    }
   ],
   "source": [
    "duplicates_count = {}\n",
    "for m in move:\n",
    "    tuple_key = tuple(m)\n",
    "    if tuple_key in duplicates_count:\n",
    "        duplicates_count[tuple_key] += 1\n",
    "    else:\n",
    "        duplicates_count[tuple_key] = 1\n",
    "duplicates_count"
   ]
  },
  {
   "cell_type": "code",
   "execution_count": 721,
   "id": "681e7643-4961-4072-9173-b5b49362b643",
   "metadata": {},
   "outputs": [
    {
     "data": {
      "text/plain": [
       "0"
      ]
     },
     "execution_count": 721,
     "metadata": {},
     "output_type": "execute_result"
    }
   ],
   "source": [
    "len([count for count in duplicates_count.values() if count not in [1]])"
   ]
  },
  {
   "cell_type": "code",
   "execution_count": null,
   "id": "5ac4589c-3493-497a-b404-282a8118ddf9",
   "metadata": {},
   "outputs": [],
   "source": []
  },
  {
   "cell_type": "code",
   "execution_count": null,
   "id": "cc9f50cb-48be-40b4-8c2a-360d2b89d7c1",
   "metadata": {},
   "outputs": [],
   "source": []
  },
  {
   "cell_type": "code",
   "execution_count": null,
   "id": "79aa774c-4614-4280-b42d-c36d0838951b",
   "metadata": {},
   "outputs": [],
   "source": []
  },
  {
   "cell_type": "code",
   "execution_count": null,
   "id": "2a8ebc95-67d7-4849-9b55-a4909c77fbc4",
   "metadata": {},
   "outputs": [],
   "source": []
  }
 ],
 "metadata": {
  "kernelspec": {
   "display_name": "Python 3",
   "language": "python",
   "name": "python3"
  },
  "language_info": {
   "codemirror_mode": {
    "name": "ipython",
    "version": 3
   },
   "file_extension": ".py",
   "mimetype": "text/x-python",
   "name": "python",
   "nbconvert_exporter": "python",
   "pygments_lexer": "ipython3",
   "version": "3.8.0"
  }
 },
 "nbformat": 4,
 "nbformat_minor": 5
}
