{
 "cells": [
  {
   "cell_type": "raw",
   "id": "2371bec0-b1ca-47dd-a64d-b158b6e8d66f",
   "metadata": {
    "id": "cac470df-29e7-4148-9bbd-d8b9a32fa570",
    "tags": []
   },
   "source": [
    "---\n",
    "title: \"**[Coding Test]**이웃한 칸\"\n",
    "author: \"SEOYEON CHOI\"\n",
    "date: \"2024-12-30\"\n",
    "---"
   ]
  },
  {
   "cell_type": "markdown",
   "id": "29fc5d63-9b91-4b83-9605-301237b7c5a9",
   "metadata": {},
   "source": [
    "`-` 문제"
   ]
  },
  {
   "cell_type": "markdown",
   "id": "f36eb385-ad94-485b-84f0-b0f54edbec6c",
   "metadata": {},
   "source": [
    "각 칸마다 색이 칠해진 2차원 격자 보드판이 있습니다. 그중 한 칸을 골랐을 때, 위, 아래, 왼쪽, 오른쪽 칸 중 같은 색깔로 칠해진 칸의 개수를 구하려고 합니다.\n",
    "\n",
    "보드의 각 칸에 칠해진 색깔 이름이 담긴 이차원 문자열 리스트 board와 고른 칸의 위치를 나타내는 두 정수 h, w가 주어질 때 board[h][w]와 이웃한 칸들 중 같은 색으로 칠해져 있는 칸의 개수를 return 하도록 solution 함수를 완성해 주세요.\n",
    "\n",
    "이웃한 칸들 중 몇 개의 칸이 같은 색으로 색칠되어 있는지 확인하는 과정은 다음과 같습니다.\n",
    "\n",
    "1. 정수를 저장할 변수 n을 만들고 board의 길이를 저장합니다.\n",
    "2. 같은 색으로 색칠된 칸의 개수를 저장할 변수 count를 만들고 0을 저장합니다.\n",
    "3. h와 w의 변화량을 저장할 정수 리스트 dh, dw를 만들고 각각 [0, 1, -1, 0], [1, 0, 0, -1]을 저장합니다.\n",
    "4. 반복문을 이용해 i 값을 0부터 3까지 1 씩 증가시키며 아래 작업을 반복합니다.\n",
    "    4-1. 체크할 칸의 h, w 좌표를 나타내는 변수 h_check, w_check를 만들고 각각 h + dh[i], w + dw[i]를 저장합니다.\n",
    "    4-2. h_check가 0 이상 n 미만이고 w_check가 0 이상 n 미만이라면 다음을 수행합니다.\n",
    "        4-2-a. board[h][w]와 board[h_check][w_check]의 값이 동일하다면 count의 값을 1 증가시킵니다.\n",
    "5. count의 값을 return합니다.\n",
    "\n",
    "위의 의사코드와 작동방식이 다른 코드를 작성해도 상관없습니다.\n",
    "\n",
    "제한사항\n",
    "\n",
    "1 ≤ board의 길이 ≤ 7\n",
    "\n",
    "board의 길이와 board[n]의 길이는 동일합니다.\n",
    "\n",
    "0 ≤ h, w < board의 길이\n",
    "\n",
    "1 ≤ board[h][w]의 길이 ≤ 10\n",
    "\n",
    "board[h][w]는 영어 소문자로만 이루어져 있습니다."
   ]
  },
  {
   "cell_type": "markdown",
   "id": "264262cd-1754-4fce-8652-0e8ccab5cb0f",
   "metadata": {},
   "source": [
    "`-` 답"
   ]
  },
  {
   "cell_type": "code",
   "execution_count": 33,
   "id": "4eeb0b2b-9dc3-4991-8aa2-8b14addac6e4",
   "metadata": {},
   "outputs": [],
   "source": [
    "def solution(board, h, w):\n",
    "    n = len(board)\n",
    "    count = 0\n",
    "    dh = [0, 1, -1, 0]\n",
    "    dw = [1, 0, 0, -1]\n",
    "\n",
    "    for i in range(0,4):\n",
    "        h_check = h + dh[i]\n",
    "        w_check = w + dw[i]\n",
    "        if h_check >= 0 and h_check < n and w_check >= 0 and w_check < n:\n",
    "            if board[h][w] == board[h_check][w_check]:\n",
    "                count += 1\n",
    "    answer = count\n",
    "    return answer"
   ]
  },
  {
   "cell_type": "code",
   "execution_count": 34,
   "id": "301f524b-2697-4a16-a143-2fd7eb470bbd",
   "metadata": {},
   "outputs": [
    {
     "data": {
      "text/plain": [
       "2"
      ]
     },
     "execution_count": 34,
     "metadata": {},
     "output_type": "execute_result"
    }
   ],
   "source": [
    "solution([[\"blue\", \"red\", \"orange\", \"red\"], [\"red\", \"red\", \"blue\", \"orange\"], [\"blue\", \"orange\", \"red\", \"red\"], [\"orange\", \"orange\", \"red\", \"blue\"]],1,1)\n",
    "# 2"
   ]
  },
  {
   "cell_type": "code",
   "execution_count": 35,
   "id": "b6c9c569-7d2c-4098-92ac-5c9975bcb47a",
   "metadata": {},
   "outputs": [
    {
     "data": {
      "text/plain": [
       "1"
      ]
     },
     "execution_count": 35,
     "metadata": {},
     "output_type": "execute_result"
    }
   ],
   "source": [
    "solution([[\"yellow\", \"green\", \"blue\"], [\"blue\", \"green\", \"yellow\"], [\"yellow\", \"blue\", \"blue\"]],0, 1)\n",
    "# 1"
   ]
  },
  {
   "cell_type": "markdown",
   "id": "9ff19244-5f4e-456a-9d9c-291a8c7b2230",
   "metadata": {},
   "source": [
    "`-` 한 줄씩"
   ]
  },
  {
   "cell_type": "code",
   "execution_count": 25,
   "id": "b69092df-2c0b-4c95-a351-5b51f8505487",
   "metadata": {},
   "outputs": [],
   "source": [
    "board = [[\"blue\", \"red\", \"orange\", \"red\"], [\"red\", \"red\", \"blue\", \"orange\"], [\"blue\", \"orange\", \"red\", \"red\"], [\"orange\", \"orange\", \"red\", \"blue\"]]\n",
    "h = 1\n",
    "w = 1"
   ]
  },
  {
   "cell_type": "markdown",
   "id": "d49a0dba-fc2e-42f7-b745-deb2e359c89b",
   "metadata": {},
   "source": [
    "1. 정수를 저장할 변수 n을 만들고 board의 길이를 저장합니다."
   ]
  },
  {
   "cell_type": "code",
   "execution_count": 26,
   "id": "bc627cad-ca1c-4098-9800-ac0d61160e8e",
   "metadata": {},
   "outputs": [
    {
     "data": {
      "text/plain": [
       "4"
      ]
     },
     "execution_count": 26,
     "metadata": {},
     "output_type": "execute_result"
    }
   ],
   "source": [
    "n = len(board)\n",
    "n"
   ]
  },
  {
   "cell_type": "markdown",
   "id": "b9f48eda-770e-43ad-8e78-6e6a6460fc51",
   "metadata": {},
   "source": [
    "2. 같은 색으로 색칠된 칸의 개수를 저장할 변수 count를 만들고 0을 저장합니다."
   ]
  },
  {
   "cell_type": "code",
   "execution_count": 27,
   "id": "a0f5d49b-5a10-49e2-8688-19360d180b9d",
   "metadata": {},
   "outputs": [],
   "source": [
    "count = 0"
   ]
  },
  {
   "cell_type": "markdown",
   "id": "9aec4b64-3d86-4a95-a00d-f5db89a85850",
   "metadata": {},
   "source": [
    "3. h와 w의 변화량을 저장할 정수 리스트 dh, dw를 만들고 각각 [0, 1, -1, 0], [1, 0, 0, -1]을 저장합니다."
   ]
  },
  {
   "cell_type": "code",
   "execution_count": 28,
   "id": "0369f250-a690-4dd3-a21d-c7fe9b8ba678",
   "metadata": {},
   "outputs": [],
   "source": [
    "dh = [0, 1, -1, 0]\n",
    "dw = [1, 0, 0, -1]"
   ]
  },
  {
   "cell_type": "markdown",
   "id": "8970843e-ab81-4384-940d-0c98a7286b76",
   "metadata": {},
   "source": [
    "4. 반복문을 이용해 i 값을 0부터 3까지 1 씩 증가시키며 아래 작업을 반복합니다.\n",
    "    4-1. 체크할 칸의 h, w 좌표를 나타내는 변수 h_check, w_check를 만들고 각각 h + dh[i], w + dw[i]를 저장합니다.\n",
    "    4-2. h_check가 0 이상 n 미만이고 w_check가 0 이상 n 미만이라면 다음을 수행합니다.\n",
    "        4-2-a. board[h][w]와 board[h_check][w_check]의 값이 동일하다면 count의 값을 1 증가시킵니다."
   ]
  },
  {
   "cell_type": "code",
   "execution_count": 29,
   "id": "1584cb07-2ffc-4027-aba1-58c8a363e5b9",
   "metadata": {},
   "outputs": [],
   "source": [
    "for i in range(0,4):\n",
    "    h_check = h + dh[i]\n",
    "    w_check = w + dw[i]\n",
    "    if h_check >= 0 and h_check < n and w_check >= 0 and w_check < n:\n",
    "        if board[h][w] == board[h_check][w_check]:\n",
    "            count += 1"
   ]
  },
  {
   "cell_type": "markdown",
   "id": "3a603632-8e27-4e21-9c30-52106b3a34a4",
   "metadata": {},
   "source": [
    "5. count의 값을 return합니다."
   ]
  },
  {
   "cell_type": "code",
   "execution_count": 30,
   "id": "2b0500ee-3b74-4ea7-a546-5ff9a1338054",
   "metadata": {},
   "outputs": [
    {
     "data": {
      "text/plain": [
       "2"
      ]
     },
     "execution_count": 30,
     "metadata": {},
     "output_type": "execute_result"
    }
   ],
   "source": [
    "count"
   ]
  },
  {
   "cell_type": "code",
   "execution_count": null,
   "id": "c6b63135-217b-4966-b90e-ec77e2895acf",
   "metadata": {},
   "outputs": [],
   "source": []
  }
 ],
 "metadata": {
  "kernelspec": {
   "display_name": "Python 3",
   "language": "python",
   "name": "python3"
  },
  "language_info": {
   "codemirror_mode": {
    "name": "ipython",
    "version": 3
   },
   "file_extension": ".py",
   "mimetype": "text/x-python",
   "name": "python",
   "nbconvert_exporter": "python",
   "pygments_lexer": "ipython3",
   "version": "3.8.0"
  }
 },
 "nbformat": 4,
 "nbformat_minor": 5
}
