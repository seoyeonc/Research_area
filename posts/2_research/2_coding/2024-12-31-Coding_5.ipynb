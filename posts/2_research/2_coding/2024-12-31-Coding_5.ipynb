{
 "cells": [
  {
   "cell_type": "raw",
   "id": "e2e2a59a-cbf7-42b9-a69b-29fdc4eb2bb7",
   "metadata": {
    "id": "cac470df-29e7-4148-9bbd-d8b9a32fa570",
    "tags": []
   },
   "source": [
    "---\n",
    "title: \"**[Coding Test]**퍼즐 게임 챌린지\"\n",
    "author: \"SEOYEON CHOI\"\n",
    "date: \"2024-12-31\"\n",
    "---"
   ]
  },
  {
   "cell_type": "markdown",
   "id": "6d6adf16-fd90-414a-91e0-8c6f56073cbb",
   "metadata": {},
   "source": [
    "Lv2"
   ]
  },
  {
   "cell_type": "markdown",
   "id": "71928e98-f0ed-44ac-9b47-e8c1cb061d34",
   "metadata": {},
   "source": [
    "당신은 순서대로 n개의 퍼즐을 제한 시간 내에 풀어야 하는 퍼즐 게임을 하고 있습니다. 각 퍼즐은 난이도와 소요 시간이 정해져 있습니다. 당신의 숙련도에 따라 퍼즐을 풀 때 틀리는 횟수가 바뀌게 됩니다. 현재 퍼즐의 난이도를 diff, 현재 퍼즐의 소요 시간을 time_cur, 이전 퍼즐의 소요 시간을 time_prev, 당신의 숙련도를 level이라 하면, 게임은 다음과 같이 진행됩니다.\n",
    "\n",
    "diff ≤ level이면 퍼즐을 틀리지 않고 time_cur만큼의 시간을 사용하여 해결합니다.\n",
    "\n",
    "diff > level이면, 퍼즐을 총 diff - level번 틀립니다. 퍼즐을 틀릴 때마다, time_cur만큼의 시간을 사용하며, 추가로 time_prev만큼의 시간을 사용해 이전 퍼즐을 다시 풀고 와야 합니다. 이전 퍼즐을 다시 풀 때는 이전 퍼즐의 난이도에 상관없이 틀리지 않습니다. diff - level번 틀린 이후에 다시 퍼즐을 풀면 time_cur만큼의 시간을 사용하여 퍼즐을 해결합니다.\n",
    "\n",
    "예를 들어 diff = 3, time_cur = 2, time_prev = 4인 경우, level에 따라 퍼즐을 푸는데 걸리는 시간은 다음과 같습니다.\n",
    "\n",
    "level = 1이면, 퍼즐을 3 - 1 = 2번 틀립니다. 한 번 틀릴 때마다 2 + 4 = 6의 시간을 사용하고, 다시 퍼즐을 푸는 데 2의 시간을 사용하므로 총 6 × 2 + 2 = 14의 시간을 사용하게 됩니다.\n",
    "\n",
    "level = 2이면, 퍼즐을 3 - 2 = 1번 틀리므로, 6 + 2 = 8의 시간을 사용하게 됩니다.\n",
    "\n",
    "level ≥ 3이면 퍼즐을 틀리지 않으며, 2의 시간을 사용하게 됩니다.\n",
    "\n",
    "퍼즐 게임에는 전체 제한 시간 limit가 정해져 있습니다. 제한 시간 내에 퍼즐을 모두 해결하기 위한 숙련도의 최솟값을 구하려고 합니다. 난이도, 소요 시간은 모두 양의 정수며, 숙련도도 양의 정수여야 합니다.\n",
    "\n",
    "퍼즐의 난이도를 순서대로 담은 1차원 정수 배열 diffs, 퍼즐의 소요 시간을 순서대로 담은 1차원 정수 배열 times, 전체 제한 시간 limit이 매개변수로 주어집니다. 제한 시간 내에 퍼즐을 모두 해결하기 위한 숙련도의 최솟값을 정수로 return 하도록 solution 함수를 완성해 주세요.\n",
    "\n",
    "제한사항\n",
    "\n",
    "1 ≤ diffs의 길이 = times의 길이 = n ≤ 300,000\n",
    "\n",
    "diffs[i]는 i번째 퍼즐의 난이도, times[i]는 i번째 퍼즐의 소요 시간입니다.\n",
    "\n",
    "diffs[0] = 1\n",
    "\n",
    "1 ≤ diffs[i] ≤ 100,000\n",
    "\n",
    "1 ≤ times[i] ≤ 10,000\n",
    "\n",
    "1 ≤ limit ≤ 1015\n",
    "\n",
    "제한 시간 내에 퍼즐을 모두 해결할 수 있는 경우만 입력으로 주어집니다."
   ]
  },
  {
   "cell_type": "markdown",
   "id": "756899f4-4864-44f3-9c9e-a19d73f4c8ae",
   "metadata": {},
   "source": [
    "`-` 답"
   ]
  },
  {
   "cell_type": "code",
   "execution_count": 152,
   "id": "6f15150d-c0da-4cb7-91b7-2e3229500ebb",
   "metadata": {},
   "outputs": [],
   "source": [
    "def solution(diffs, times, limit):\n",
    "    def calculate_time_fix_sum(level):\n",
    "        time_fix_con = 0\n",
    "        for i in range(len(diffs)):\n",
    "            if diffs[i] <= level:\n",
    "                time_fix_con += times[i]\n",
    "            else:\n",
    "                time_fix_con += (times[i] + times[i-1]) * (diffs[i] - level) + times[i]\n",
    "        return time_fix_con\n",
    "\n",
    "    low, high = 1, max(diffs) \n",
    "    answer = high\n",
    "\n",
    "    while low <= high:\n",
    "        mid = (low + high) // 2\n",
    "        time_sum = calculate_time_fix_sum(mid)  \n",
    "        if time_sum <= limit:\n",
    "            answer = mid  \n",
    "            high = mid - 1\n",
    "        else:\n",
    "            low = mid + 1\n",
    "\n",
    "    return answer"
   ]
  },
  {
   "cell_type": "markdown",
   "id": "de321739-04fa-4768-8cf5-469925a6302a",
   "metadata": {},
   "source": [
    "`-` 입출력 예 #1"
   ]
  },
  {
   "cell_type": "markdown",
   "id": "75e72d4f-4903-45fa-be79-54e905bac94d",
   "metadata": {},
   "source": [
    "숙련도가 3인 경우 다음과 같이 진행됩니다.\n",
    "\n",
    "- 1번째 퍼즐을 2의 시간을 사용하여 해결합니다.\n",
    "- 2번째 퍼즐을 5 - 3 = 2번 틀려서 총 (4 + 2) × 2 + 4 = 16의 시간을 사용하여 해결합니다.\n",
    "- 3번째 퍼즐을 7의 시간을 사용하여 해결합니다.\n",
    "- 총 2 + 16 + 7 = 25의 시간을 사용하여 모든 퍼즐을 해결할 수 있습니다. 숙련도가 3보다 작은 경우 제한 시간인 30 이내에 모든 퍼즐을 해결할 수 없습니다.\n",
    "- 따라서 3을 return 해야 합니다."
   ]
  },
  {
   "cell_type": "code",
   "execution_count": 153,
   "id": "1f687541-a1f8-473a-bd88-c378537b0c8e",
   "metadata": {},
   "outputs": [
    {
     "data": {
      "text/plain": [
       "2"
      ]
     },
     "execution_count": 153,
     "metadata": {},
     "output_type": "execute_result"
    }
   ],
   "source": [
    "solution([1, 4, 4, 2], [6, 3, 8, 2], 59)\n",
    "# 2"
   ]
  },
  {
   "cell_type": "markdown",
   "id": "f5dfae91-96cb-41a2-b8e3-d4f06c249c0c",
   "metadata": {},
   "source": [
    "`-` 입출력 예 #2"
   ]
  },
  {
   "cell_type": "markdown",
   "id": "c2edd52d-2639-4340-a5b4-75e4048fe80c",
   "metadata": {},
   "source": [
    "숙련도가 2인 경우 다음과 같이 진행됩니다.\n",
    "\n",
    "- 1번째 퍼즐을 6의 시간을 사용하여 해결합니다.\n",
    "- 2번째 퍼즐을 4 - 2 = 2번 틀려서 총 (3 + 6) × 2 + 3 = 21의 시간을 사용하여 해결합니다.\n",
    "- 3번째 퍼즐을 4 - 2 = 2번 틀려서 총 (8 + 3) × 2 + 8 = 30의 시간을 사용하여 해결합니다.\n",
    "- 4번째 퍼즐을 2의 시간을 사용하여 해결합니다.\n",
    "- 총 6 + 21 + 30 + 2 = 59의 시간을 사용하여 모든 퍼즐을 해결할 수 있습니다. 숙련도가 2보다 작은 경우 제한 시간인 59 이내에 모든 퍼즐을 해결할 수 없습니다.\n",
    "- 따라서 2를 return 해야 합니다."
   ]
  },
  {
   "cell_type": "code",
   "execution_count": 155,
   "id": "f2672df6-bf97-4381-8250-16f2683c20ca",
   "metadata": {},
   "outputs": [
    {
     "data": {
      "text/plain": [
       "294"
      ]
     },
     "execution_count": 155,
     "metadata": {},
     "output_type": "execute_result"
    }
   ],
   "source": [
    "solution([1, 328, 467, 209, 54], [2, 7, 1, 4, 3], 1723)\n",
    "# 294"
   ]
  },
  {
   "cell_type": "markdown",
   "id": "062b9ae3-6cee-49ca-907f-d8a039f2da41",
   "metadata": {},
   "source": [
    "`-` 입출력 예 #3"
   ]
  },
  {
   "cell_type": "markdown",
   "id": "b7e7bc8c-55ca-47d9-9027-ebb5acc6708e",
   "metadata": {},
   "source": [
    "숙련도가 294인 경우 다음과 같이 진행됩니다.\n",
    "\n",
    "- 1번째 퍼즐을 2의 시간을 사용하여 해결합니다.\n",
    "- 2번째 퍼즐을 328 - 294 = 34번 틀려서 총 (7 + 2) × 34 + 7 = 313의 시간을 사용하여 해결합니다.\n",
    "- 3번째 퍼즐을 467 - 294 = 173번 틀려서 총 (1 + 7) × 173 + 1 = 1385의 시간을 사용하여 해결합니다.\n",
    "- 4번째 퍼즐을 4의 시간을 사용하여 해결합니다.\n",
    "- 5번째 퍼즐을 3의 시간을 사용하여 해결합니다.\n",
    "- 총 2 + 313 + 1385 + 4 + 3 = 1707의 시간을 사용하여 모든 퍼즐을 해결할 수 있습니다. 숙련도가 294보다 작은 경우 제한 시간인 1723 이내에 모든 퍼즐을 해결할 수 없습니다.\n",
    "- 따라서 294를 return 해야 합니다."
   ]
  },
  {
   "cell_type": "code",
   "execution_count": 156,
   "id": "aafc599e-65f0-42f9-88a2-2b4fe68d4bae",
   "metadata": {},
   "outputs": [
    {
     "data": {
      "text/plain": [
       "39354"
      ]
     },
     "execution_count": 156,
     "metadata": {},
     "output_type": "execute_result"
    }
   ],
   "source": [
    "solution([1, 99999, 100000, 99995], [9999, 9001, 9999, 9001], 3456789012)\n",
    "# 39354"
   ]
  },
  {
   "cell_type": "markdown",
   "id": "79583340-81e0-481f-8137-d12d0b468076",
   "metadata": {},
   "source": [
    "`-` 입출력 예 #4"
   ]
  },
  {
   "cell_type": "markdown",
   "id": "014727e6-295b-4a60-8b50-3a2032b1ea43",
   "metadata": {},
   "source": [
    "숙련도가 39354인 경우 다음과 같이 진행됩니다.\n",
    "\n",
    "- 1번째 퍼즐을 9999의 시간을 사용하여 해결합니다.\n",
    "- 2번째 퍼즐을 99999 - 39354 = 60645번 틀려서 총 (9001 + 9999) × 60645 + 9001 = 1152264001의 시간을 사용하여 해결합니다.\n",
    "- 3번째 퍼즐을 100000 - 39354 = 60646번 틀려서 총 (9999 + 9001) × 60646 + 9999 = 1152283999의 시간을 사용하여 해결합니다.\n",
    "- 4번째 퍼즐을 99995 - 39354 = 60641번 틀려서 총 (9001 + 9999) × 60641 + 9001 = 1152188001의 시간을 사용하여 해결합니다.\n",
    "- 총 9999 + 1152264001 + 1152283999 + 1152188001 = 3456746000의 시간을 사용하여 모든 퍼즐을 해결할 수 있습니다. 숙련도가 39354보다 작은 경우 제한 시간인 3456789012 이내에 모든 퍼즐을 해결할 수 없습니다.\n",
    "- 따라서 39354를 return 해야 합니다."
   ]
  },
  {
   "cell_type": "markdown",
   "id": "c29cbbef-4b51-4092-a762-57d68228912c",
   "metadata": {},
   "source": [
    "`-` 한줄씩"
   ]
  },
  {
   "cell_type": "code",
   "execution_count": 175,
   "id": "d138432e-c8f1-4b4e-af6b-68cf75bcd9e5",
   "metadata": {},
   "outputs": [],
   "source": [
    "diffs = [1, 99999, 100000, 99995]\n",
    "times = [9999, 9001, 9999, 9001]\n",
    "limit = 3456789012\n",
    "# 39354"
   ]
  },
  {
   "cell_type": "code",
   "execution_count": 176,
   "id": "b9f34c3e-86d1-422e-90de-09c81e02a9be",
   "metadata": {},
   "outputs": [],
   "source": [
    "def calculate_time_fix_sum(level):\n",
    "    time_fix_con = 0\n",
    "    for i in range(len(diffs)):\n",
    "        if diffs[i] <= level:\n",
    "            time_fix_con += times[i]\n",
    "        else:\n",
    "            time_fix_con += (times[i] + times[i-1]) * (diffs[i] - level) + times[i]\n",
    "    return time_fix_con"
   ]
  },
  {
   "cell_type": "code",
   "execution_count": 177,
   "id": "803f49d2-c86d-45be-8ef8-adcc8b683ed4",
   "metadata": {},
   "outputs": [
    {
     "data": {
      "text/plain": [
       "(1, 100000, 100000)"
      ]
     },
     "execution_count": 177,
     "metadata": {},
     "output_type": "execute_result"
    }
   ],
   "source": [
    "low, high = 1, max(diffs) \n",
    "answer = high\n",
    "low, high, answer"
   ]
  },
  {
   "cell_type": "code",
   "execution_count": 178,
   "id": "df7d80bc-78ac-4876-853b-9535caac2a7c",
   "metadata": {},
   "outputs": [
    {
     "data": {
      "text/plain": [
       "2849924000"
      ]
     },
     "execution_count": 178,
     "metadata": {},
     "output_type": "execute_result"
    }
   ],
   "source": [
    "calculate_time_fix_sum((low + high) // 2)"
   ]
  },
  {
   "cell_type": "code",
   "execution_count": 179,
   "id": "e99ed0c6-2e4f-4a35-8a86-5330260e34c6",
   "metadata": {},
   "outputs": [
    {
     "name": "stdout",
     "output_type": "stream",
     "text": [
      "50000\n",
      "25000\n",
      "37500\n",
      "43750\n",
      "40625\n",
      "39062\n",
      "39843\n",
      "39452\n",
      "39257\n",
      "39354\n",
      "39305\n",
      "39329\n",
      "39341\n",
      "39347\n",
      "39350\n",
      "39352\n",
      "39353\n"
     ]
    }
   ],
   "source": [
    "while low <= high:\n",
    "    mid = (low + high) // 2\n",
    "    time_sum = calculate_time_fix_sum(mid)  \n",
    "    print(mid)\n",
    "    if time_sum <= limit:\n",
    "        answer = mid  \n",
    "        high = mid - 1\n",
    "    else:\n",
    "        low = mid + 1"
   ]
  },
  {
   "cell_type": "code",
   "execution_count": 180,
   "id": "8659dace-cd4c-429c-a690-40358ba331a0",
   "metadata": {},
   "outputs": [
    {
     "data": {
      "text/plain": [
       "39354"
      ]
     },
     "execution_count": 180,
     "metadata": {},
     "output_type": "execute_result"
    }
   ],
   "source": [
    "answer"
   ]
  },
  {
   "cell_type": "code",
   "execution_count": null,
   "id": "fc17d336-e796-4201-b408-8c38569de809",
   "metadata": {},
   "outputs": [],
   "source": []
  }
 ],
 "metadata": {
  "kernelspec": {
   "display_name": "Python 3",
   "language": "python",
   "name": "python3"
  },
  "language_info": {
   "codemirror_mode": {
    "name": "ipython",
    "version": 3
   },
   "file_extension": ".py",
   "mimetype": "text/x-python",
   "name": "python",
   "nbconvert_exporter": "python",
   "pygments_lexer": "ipython3",
   "version": "3.8.0"
  }
 },
 "nbformat": 4,
 "nbformat_minor": 5
}
