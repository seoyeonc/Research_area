{
 "cells": [
  {
   "cell_type": "raw",
   "id": "46962d5f-104a-41ae-acfd-e2702397f377",
   "metadata": {
    "id": "cac470df-29e7-4148-9bbd-d8b9a32fa570",
    "tags": []
   },
   "source": [
    "---\n",
    "title: \"**[Coding Test]**공원 산책\"\n",
    "author: \"SEOYEON CHOI\"\n",
    "date: \"2025-01-24\"\n",
    "---"
   ]
  },
  {
   "cell_type": "markdown",
   "id": "e06f0f19-94b4-4feb-b3d4-dbf51a4b62ef",
   "metadata": {},
   "source": [
    "`-` 링크`"
   ]
  },
  {
   "cell_type": "markdown",
   "id": "9b84d68a-9515-477b-b324-eee2811366be",
   "metadata": {},
   "source": [
    "https://school.programmers.co.kr/learn/courses/30/lessons/172928"
   ]
  },
  {
   "cell_type": "markdown",
   "id": "41246684-1294-4cc9-b128-3a781680dff0",
   "metadata": {},
   "source": [
    "`-` 문제"
   ]
  },
  {
   "cell_type": "markdown",
   "id": "1fc28957-7ed9-407d-b2bf-024afdfbbd31",
   "metadata": {},
   "source": [
    "지나다니는 길을 'O', 장애물을 'X'로 나타낸 직사각형 격자 모양의 공원에서 로봇 강아지가 산책을 하려합니다. 산책은 로봇 강아지에 미리 입력된 명령에 따라 진행하며, 명령은 다음과 같은 형식으로 주어집니다.\n",
    "\n",
    "예를 들어 \"E 5\"는 로봇 강아지가 현재 위치에서 동쪽으로 5칸 이동했다는 의미입니다. 로봇 강아지는 명령을 수행하기 전에 다음 두 가지를 먼저 확인합니다.\n",
    "\n",
    "주어진 방향으로 이동할 때 공원을 벗어나는지 확인합니다.\n",
    "\n",
    "주어진 방향으로 이동 중 장애물을 만나는지 확인합니다.\n",
    "\n",
    "위 두 가지중 어느 하나라도 해당된다면, 로봇 강아지는 해당 명령을 무시하고 다음 명령을 수행합니다.\n",
    "\n",
    "공원의 가로 길이가 W, 세로 길이가 H라고 할 때, 공원의 좌측 상단의 좌표는 (0, 0), 우측 하단의 좌표는 (H - 1, W - 1) 입니다.\n",
    "\n",
    "공원을 나타내는 문자열 배열 park, 로봇 강아지가 수행할 명령이 담긴 문자열 배열 routes가 매개변수로 주어질 때, 로봇 강아지가 모든 명령을 수행 후 놓인 위치를 [세로 방향 좌표, 가로 방향 좌표] 순으로 배열에 담아 return 하도록 solution 함수를 완성해주세요.\n",
    "\n",
    "제한사항\n",
    "\n",
    "3 ≤ park의 길이 ≤ 50\n",
    "\n",
    "3 ≤ park[i]의 길이 ≤ 50\n",
    "\n",
    "park[i]는 다음 문자들로 이루어져 있으며 시작지점은 하나만 주어집니다.\n",
    "\n",
    "S : 시작 지점\n",
    "\n",
    "O : 이동 가능한 통로\n",
    "\n",
    "X : 장애물\n",
    "\n",
    "park는 직사각형 모양입니다.\n",
    "\n",
    "1 ≤ routes의 길이 ≤ 50\n",
    "\n",
    "routes의 각 원소는 로봇 강아지가 수행할 명령어를 나타냅니다.\n",
    "\n",
    "로봇 강아지는 routes의 첫 번째 원소부터 순서대로 명령을 수행합니다.\n",
    "\n",
    "routes의 원소는 \"op n\"과 같은 구조로 이루어져 있으며, op는 이동할 방향, n은 이동할 칸의 수를 의미합니다.\n",
    "\n",
    "op는 다음 네 가지중 하나로 이루어져 있습니다.\n",
    "\n",
    "N : 북쪽으로 주어진 칸만큼 이동합니다.\n",
    "\n",
    "S : 남쪽으로 주어진 칸만큼 이동합니다.\n",
    "\n",
    "W : 서쪽으로 주어진 칸만큼 이동합니다.\n",
    "\n",
    "E : 동쪽으로 주어진 칸만큼 이동합니다.\n",
    "\n",
    "1 ≤ n ≤ 9"
   ]
  },
  {
   "cell_type": "code",
   "execution_count": 353,
   "id": "54460d8e-6b93-40ed-aaa2-d6a068823316",
   "metadata": {},
   "outputs": [],
   "source": [
    "def solution(park, routes):\n",
    "    # 시작 위치 탐색\n",
    "    positions = {\"S\": [], \"X\": []}\n",
    "    for i, row in enumerate(park):\n",
    "        for j, char in enumerate(row):\n",
    "            if char in positions:\n",
    "                positions[char].append((i, j))\n",
    "    i_o, j_o = positions['S'][0]  # 시작 위치\n",
    "\n",
    "    # 명령 수행\n",
    "    for route in routes:\n",
    "        direction, steps = route.split()\n",
    "        steps = int(steps)\n",
    "        temp_i, temp_j = i_o, j_o  # 이동 전 초기화\n",
    "        valid = True  # 이동 가능 여부\n",
    "\n",
    "        for _ in range(steps):\n",
    "            # 이동 방향에 따라 위치 변경\n",
    "            if direction == 'E' and temp_j + 1 < len(park[0]) and park[temp_i][temp_j + 1] != 'X':\n",
    "                temp_j += 1\n",
    "            elif direction == 'W' and temp_j - 1 >= 0 and park[temp_i][temp_j - 1] != 'X':\n",
    "                temp_j -= 1\n",
    "            elif direction == 'S' and temp_i + 1 < len(park) and park[temp_i + 1][temp_j] != 'X':\n",
    "                temp_i += 1\n",
    "            elif direction == 'N' and temp_i - 1 >= 0 and park[temp_i - 1][temp_j] != 'X':\n",
    "                temp_i -= 1\n",
    "            else:\n",
    "                valid = False  # 장애물 또는 범위를 벗어남\n",
    "                break\n",
    "\n",
    "        # 이동이 유효하면 최종 위치 업데이트\n",
    "        if valid:\n",
    "            i_o, j_o = temp_i, temp_j\n",
    "\n",
    "    return [i_o, j_o]\n"
   ]
  },
  {
   "cell_type": "markdown",
   "id": "65982996-3514-48d6-8e34-27dccd50838b",
   "metadata": {},
   "source": [
    "입출력 예 #1"
   ]
  },
  {
   "cell_type": "markdown",
   "id": "493013f4-193e-4f79-b3de-a3960d539031",
   "metadata": {},
   "source": [
    "입력된 명령대로 동쪽으로 2칸, 남쪽으로 2칸, 서쪽으로 1칸 이동하면 [0,0] -> [0,2] -> [2,2] -> [2,1]이 됩니다."
   ]
  },
  {
   "cell_type": "code",
   "execution_count": 350,
   "id": "4377a4f3-e37c-49d0-9e0e-1b376127713a",
   "metadata": {},
   "outputs": [
    {
     "data": {
      "text/plain": [
       "[2, 1]"
      ]
     },
     "execution_count": 350,
     "metadata": {},
     "output_type": "execute_result"
    }
   ],
   "source": [
    "solution([\"SOO\",\"OOO\",\"OOO\"],[\"E 2\",\"S 2\",\"W 1\"])\n",
    "# [2,1]"
   ]
  },
  {
   "cell_type": "markdown",
   "id": "472ea1d7-263c-422d-9c19-1d66a3ace437",
   "metadata": {},
   "source": [
    "입출력 예 #2"
   ]
  },
  {
   "cell_type": "markdown",
   "id": "6a04b1c5-4292-43ec-ac29-d30914361388",
   "metadata": {},
   "source": [
    "입력된 명령대로라면 동쪽으로 2칸, 남쪽으로 2칸, 서쪽으로 1칸 이동해야하지만 남쪽으로 2칸 이동할 때 장애물이 있는 칸을 지나기 때문에 해당 명령을 제외한 명령들만 따릅니다. 결과적으로는 [0,0] -> [0,2] -> [0,1]이 됩니다."
   ]
  },
  {
   "cell_type": "code",
   "execution_count": 351,
   "id": "38cb6bf5-1015-439c-845c-6ab9a90cd587",
   "metadata": {},
   "outputs": [
    {
     "data": {
      "text/plain": [
       "[0, 1]"
      ]
     },
     "execution_count": 351,
     "metadata": {},
     "output_type": "execute_result"
    }
   ],
   "source": [
    "solution([\"SOO\",\"OXX\",\"OOO\"],[\"E 2\",\"S 2\",\"W 1\"])\n",
    "# [0,1]"
   ]
  },
  {
   "cell_type": "markdown",
   "id": "8d71b8d4-5db0-49d5-a094-c0dad7c888df",
   "metadata": {},
   "source": [
    "입출력 예 #3"
   ]
  },
  {
   "cell_type": "markdown",
   "id": "89a446b3-9218-4d59-b364-be629abf51fc",
   "metadata": {},
   "source": [
    "처음 입력된 명령은 공원을 나가게 되고 두 번째로 입력된 명령 또한 장애물을 지나가게 되므로 두 입력은 제외한 세 번째 명령만 따르므로 결과는 다음과 같습니다. [0,1] -> [0,0]"
   ]
  },
  {
   "cell_type": "code",
   "execution_count": 352,
   "id": "74fc82c1-7ca8-4d7f-ac69-2bb0256c6e06",
   "metadata": {},
   "outputs": [
    {
     "data": {
      "text/plain": [
       "[0, 0]"
      ]
     },
     "execution_count": 352,
     "metadata": {},
     "output_type": "execute_result"
    }
   ],
   "source": [
    "solution([\"OSO\",\"OOO\",\"OXO\",\"OOO\"],[\"E 2\",\"S 3\",\"W 1\"])\n",
    "# [0,0]"
   ]
  },
  {
   "cell_type": "markdown",
   "id": "d9de30c1-d9b8-43b0-b88d-39b8c8d15efa",
   "metadata": {},
   "source": [
    "`-` 한줄씩"
   ]
  },
  {
   "cell_type": "markdown",
   "id": "ff7135e1-be7f-46d6-b1a6-00bec2b6d92c",
   "metadata": {},
   "source": [
    "`1`"
   ]
  },
  {
   "cell_type": "code",
   "execution_count": 382,
   "id": "f80e1454-2baa-4563-a16d-7b1af96783a4",
   "metadata": {},
   "outputs": [],
   "source": [
    "park, routes = [\"SOO\",\"OOO\",\"OOO\"],[\"E 2\",\"S 2\",\"W 1\"]"
   ]
  },
  {
   "cell_type": "code",
   "execution_count": 383,
   "id": "6f5259f9-29ac-4102-a224-5766511742f7",
   "metadata": {},
   "outputs": [],
   "source": [
    "positions = {\"S\": [], \"X\": []}"
   ]
  },
  {
   "cell_type": "code",
   "execution_count": 384,
   "id": "ac831c74-7d07-4442-bcee-d2ff2d70d84b",
   "metadata": {},
   "outputs": [],
   "source": [
    "for i, row in enumerate(park):\n",
    "    for j, char in enumerate(row):\n",
    "        if char in positions:\n",
    "            positions[char].append((i, j))"
   ]
  },
  {
   "cell_type": "code",
   "execution_count": 385,
   "id": "a7b5683f-5b92-4644-b1e7-07d94b4bad67",
   "metadata": {},
   "outputs": [
    {
     "data": {
      "text/plain": [
       "{'S': [(0, 0)], 'X': []}"
      ]
     },
     "execution_count": 385,
     "metadata": {},
     "output_type": "execute_result"
    }
   ],
   "source": [
    "positions"
   ]
  },
  {
   "cell_type": "code",
   "execution_count": 386,
   "id": "0c6c2bbf-0ea3-42bb-9f69-3aeec55c2673",
   "metadata": {},
   "outputs": [],
   "source": [
    "i_o, j_o = positions['S'][0]"
   ]
  },
  {
   "cell_type": "code",
   "execution_count": 387,
   "id": "8a46da32-1289-4f42-9c3c-fbd9a2d75621",
   "metadata": {},
   "outputs": [
    {
     "name": "stdout",
     "output_type": "stream",
     "text": [
      "0 2 True\n",
      "2 2 True\n",
      "2 1 True\n"
     ]
    }
   ],
   "source": [
    "for route in routes:\n",
    "    direction, steps = route.split()\n",
    "    steps = int(steps)\n",
    "    temp_i, temp_j = i_o, j_o  # 이동 전 초기화\n",
    "    valid = True  # 이동 가능 여부\n",
    "\n",
    "    for _ in range(steps):\n",
    "        # 이동 방향에 따라 위치 변경\n",
    "        if direction == 'E' and temp_j + 1 < len(park[0]) and park[temp_i][temp_j + 1] != 'X':\n",
    "            temp_j += 1\n",
    "        elif direction == 'W' and temp_j - 1 >= 0 and park[temp_i][temp_j - 1] != 'X':\n",
    "            temp_j -= 1\n",
    "        elif direction == 'S' and temp_i + 1 < len(park) and park[temp_i + 1][temp_j] != 'X':\n",
    "            temp_i += 1\n",
    "        elif direction == 'N' and temp_i - 1 >= 0 and park[temp_i - 1][temp_j] != 'X':\n",
    "            temp_i -= 1\n",
    "        else:\n",
    "            valid = False  # 장애물 또는 범위를 벗어남\n",
    "            break\n",
    "    if valid:\n",
    "        i_o, j_o = temp_i, temp_j\n",
    "        print(temp_i, temp_j, valid)"
   ]
  },
  {
   "cell_type": "code",
   "execution_count": 388,
   "id": "7b0487bf-a7dc-4818-9299-44607fdd8a20",
   "metadata": {},
   "outputs": [
    {
     "data": {
      "text/plain": [
       "(2, 1)"
      ]
     },
     "execution_count": 388,
     "metadata": {},
     "output_type": "execute_result"
    }
   ],
   "source": [
    "i_o, j_o"
   ]
  },
  {
   "cell_type": "markdown",
   "id": "d34ba106-26c7-43d1-b20a-63ab3b99f912",
   "metadata": {},
   "source": [
    "`2`"
   ]
  },
  {
   "cell_type": "code",
   "execution_count": 389,
   "id": "d7e9db09-4fd1-4c67-9397-649dc60b57dd",
   "metadata": {},
   "outputs": [],
   "source": [
    "park, routes = [\"SOO\",\"OXX\",\"OOO\"],[\"E 2\",\"S 2\",\"W 1\"]"
   ]
  },
  {
   "cell_type": "code",
   "execution_count": 390,
   "id": "454f5c98-ea56-4b97-b41d-1d5d9b486869",
   "metadata": {},
   "outputs": [],
   "source": [
    "positions = {\"S\": [], \"X\": []}"
   ]
  },
  {
   "cell_type": "code",
   "execution_count": 391,
   "id": "cf3600b5-9fc8-411f-a111-2966bd0ea4e7",
   "metadata": {},
   "outputs": [],
   "source": [
    "for i, row in enumerate(park):\n",
    "    for j, char in enumerate(row):\n",
    "        if char in positions:\n",
    "            positions[char].append((i, j))"
   ]
  },
  {
   "cell_type": "code",
   "execution_count": 392,
   "id": "93ea5b76-33dc-455f-855e-6a5a6a69243e",
   "metadata": {},
   "outputs": [
    {
     "data": {
      "text/plain": [
       "{'S': [(0, 0)], 'X': [(1, 1), (1, 2)]}"
      ]
     },
     "execution_count": 392,
     "metadata": {},
     "output_type": "execute_result"
    }
   ],
   "source": [
    "positions"
   ]
  },
  {
   "cell_type": "code",
   "execution_count": 393,
   "id": "4255b8e2-06f7-4c6f-8eb7-d7045fc83c18",
   "metadata": {},
   "outputs": [],
   "source": [
    "i_o, j_o = positions['S'][0]"
   ]
  },
  {
   "cell_type": "code",
   "execution_count": 394,
   "id": "95910d4e-af6a-41fd-bb38-6386a01c479d",
   "metadata": {},
   "outputs": [
    {
     "name": "stdout",
     "output_type": "stream",
     "text": [
      "0 2 True\n",
      "0 1 True\n"
     ]
    }
   ],
   "source": [
    "for route in routes:\n",
    "    direction, steps = route.split()\n",
    "    steps = int(steps)\n",
    "    temp_i, temp_j = i_o, j_o  # 이동 전 초기화\n",
    "    valid = True  # 이동 가능 여부\n",
    "\n",
    "    for _ in range(steps):\n",
    "        # 이동 방향에 따라 위치 변경\n",
    "        if direction == 'E' and temp_j + 1 < len(park[0]) and park[temp_i][temp_j + 1] != 'X':\n",
    "            temp_j += 1\n",
    "        elif direction == 'W' and temp_j - 1 >= 0 and park[temp_i][temp_j - 1] != 'X':\n",
    "            temp_j -= 1\n",
    "        elif direction == 'S' and temp_i + 1 < len(park) and park[temp_i + 1][temp_j] != 'X':\n",
    "            temp_i += 1\n",
    "        elif direction == 'N' and temp_i - 1 >= 0 and park[temp_i - 1][temp_j] != 'X':\n",
    "            temp_i -= 1\n",
    "        else:\n",
    "            valid = False  # 장애물 또는 범위를 벗어남\n",
    "            break\n",
    "    if valid:\n",
    "        i_o, j_o = temp_i, temp_j\n",
    "        print(temp_i, temp_j, valid)"
   ]
  },
  {
   "cell_type": "code",
   "execution_count": 395,
   "id": "580ed33f-e37b-4565-b3a1-36d4bba53862",
   "metadata": {},
   "outputs": [
    {
     "data": {
      "text/plain": [
       "(0, 1)"
      ]
     },
     "execution_count": 395,
     "metadata": {},
     "output_type": "execute_result"
    }
   ],
   "source": [
    "i_o, j_o"
   ]
  },
  {
   "cell_type": "markdown",
   "id": "e7506614-2dc0-43fe-be79-1abebb4cb8db",
   "metadata": {},
   "source": [
    "`3`"
   ]
  },
  {
   "cell_type": "code",
   "execution_count": 401,
   "id": "d4a3ce7c-5c66-4c1c-8e1c-33fb867efbaf",
   "metadata": {},
   "outputs": [],
   "source": [
    "park, routes = [\"OSO\",\"OOO\",\"OXO\",\"OOO\"],[\"E 2\",\"S 3\",\"W 1\"]"
   ]
  },
  {
   "cell_type": "code",
   "execution_count": 402,
   "id": "b0d11818-e128-4f45-a59c-174a330f8f4d",
   "metadata": {},
   "outputs": [],
   "source": [
    "positions = {\"S\": [], \"X\": []}"
   ]
  },
  {
   "cell_type": "code",
   "execution_count": 403,
   "id": "3938474c-e28e-485f-bc8a-2b765c85b310",
   "metadata": {},
   "outputs": [],
   "source": [
    "for i, row in enumerate(park):\n",
    "    for j, char in enumerate(row):\n",
    "        if char in positions:\n",
    "            positions[char].append((i, j))"
   ]
  },
  {
   "cell_type": "code",
   "execution_count": 404,
   "id": "ff2988a0-4102-4ea5-8bbf-2f1a46f87082",
   "metadata": {},
   "outputs": [
    {
     "data": {
      "text/plain": [
       "{'S': [(0, 1)], 'X': [(2, 1)]}"
      ]
     },
     "execution_count": 404,
     "metadata": {},
     "output_type": "execute_result"
    }
   ],
   "source": [
    "positions"
   ]
  },
  {
   "cell_type": "code",
   "execution_count": 405,
   "id": "029a5a8c-b09c-4366-8b51-8612d7d1a96c",
   "metadata": {},
   "outputs": [],
   "source": [
    "i_o, j_o = positions['S'][0]"
   ]
  },
  {
   "cell_type": "code",
   "execution_count": 406,
   "id": "c8ea6979-76e3-47bf-9ac5-8ef620bfaac0",
   "metadata": {},
   "outputs": [
    {
     "name": "stdout",
     "output_type": "stream",
     "text": [
      "0 0 True\n"
     ]
    }
   ],
   "source": [
    "for route in routes:\n",
    "    direction, steps = route.split()\n",
    "    steps = int(steps)\n",
    "    temp_i, temp_j = i_o, j_o  # 이동 전 초기화\n",
    "    valid = True  # 이동 가능 여부\n",
    "\n",
    "    for _ in range(steps):\n",
    "        # 이동 방향에 따라 위치 변경\n",
    "        if direction == 'E' and temp_j + 1 < len(park[0]) and park[temp_i][temp_j + 1] != 'X':\n",
    "            temp_j += 1\n",
    "        elif direction == 'W' and temp_j - 1 >= 0 and park[temp_i][temp_j - 1] != 'X':\n",
    "            temp_j -= 1\n",
    "        elif direction == 'S' and temp_i + 1 < len(park) and park[temp_i + 1][temp_j] != 'X':\n",
    "            temp_i += 1\n",
    "        elif direction == 'N' and temp_i - 1 >= 0 and park[temp_i - 1][temp_j] != 'X':\n",
    "            temp_i -= 1\n",
    "        else:\n",
    "            valid = False  # 장애물 또는 범위를 벗어남\n",
    "            break\n",
    "    if valid:\n",
    "        i_o, j_o = temp_i, temp_j\n",
    "        print(temp_i, temp_j, valid)"
   ]
  },
  {
   "cell_type": "code",
   "execution_count": 407,
   "id": "b91a90ae-f626-46b6-b4b0-129c88f0cef4",
   "metadata": {},
   "outputs": [
    {
     "data": {
      "text/plain": [
       "(0, 0)"
      ]
     },
     "execution_count": 407,
     "metadata": {},
     "output_type": "execute_result"
    }
   ],
   "source": [
    "i_o, j_o"
   ]
  },
  {
   "cell_type": "code",
   "execution_count": null,
   "id": "d0e4fb8d-817c-4bc5-a54e-8463fe6a81e7",
   "metadata": {},
   "outputs": [],
   "source": []
  },
  {
   "cell_type": "code",
   "execution_count": null,
   "id": "eb82bc47-ab26-4714-ae16-9e4a4914fc80",
   "metadata": {},
   "outputs": [],
   "source": [
    "ㄴ"
   ]
  }
 ],
 "metadata": {
  "kernelspec": {
   "display_name": "Python 3",
   "language": "python",
   "name": "python3"
  },
  "language_info": {
   "codemirror_mode": {
    "name": "ipython",
    "version": 3
   },
   "file_extension": ".py",
   "mimetype": "text/x-python",
   "name": "python",
   "nbconvert_exporter": "python",
   "pygments_lexer": "ipython3",
   "version": "3.8.0"
  }
 },
 "nbformat": 4,
 "nbformat_minor": 5
}
