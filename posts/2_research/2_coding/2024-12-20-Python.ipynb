{
 "cells": [
  {
   "cell_type": "raw",
   "metadata": {
    "id": "cac470df-29e7-4148-9bbd-d8b9a32fa570",
    "tags": []
   },
   "source": [
    "---\n",
    "title: \"**[Coding Test]**파이썬 자료 구조\"\n",
    "author: \"SEOYEON CHOI\"\n",
    "date: \"2024-12-20\"\n",
    "---"
   ]
  },
  {
   "cell_type": "markdown",
   "metadata": {},
   "source": [
    "# Linear Array 선형 배열"
   ]
  },
  {
   "cell_type": "markdown",
   "metadata": {},
   "source": [
    "## 1."
   ]
  },
  {
   "cell_type": "markdown",
   "metadata": {},
   "source": [
    "> List에서 오름차순에 맞게 `x` 값을 삽입"
   ]
  },
  {
   "cell_type": "code",
   "execution_count": 10,
   "metadata": {},
   "outputs": [],
   "source": [
    "def al(list,x):\n",
    "    for i,j in enumerate(list):\n",
    "        if j > x  :\n",
    "            list.insert(i,x)\n",
    "            break\n",
    "    else:\n",
    "        list.append(x)\n",
    "    return list"
   ]
  },
  {
   "cell_type": "code",
   "execution_count": 12,
   "metadata": {},
   "outputs": [
    {
     "data": {
      "text/plain": [
       "[1, 2, 3, 4, 5, 9]"
      ]
     },
     "execution_count": 12,
     "metadata": {},
     "output_type": "execute_result"
    }
   ],
   "source": [
    "al([1,2,3,4,5],9)"
   ]
  },
  {
   "cell_type": "code",
   "execution_count": 13,
   "metadata": {},
   "outputs": [
    {
     "data": {
      "text/plain": [
       "[1, 2, 2.3, 3, 4, 5]"
      ]
     },
     "execution_count": 13,
     "metadata": {},
     "output_type": "execute_result"
    }
   ],
   "source": [
    "al([1,2,3,4,5],2.3)"
   ]
  },
  {
   "cell_type": "code",
   "execution_count": 19,
   "metadata": {},
   "outputs": [
    {
     "name": "stdout",
     "output_type": "stream",
     "text": [
      "0\n",
      "1\n",
      "1\n",
      "2\n"
     ]
    }
   ],
   "source": [
    "for i,j in enumerate([1,2]):\n",
    "    print(i) # index\n",
    "    print(j) # value"
   ]
  },
  {
   "cell_type": "markdown",
   "metadata": {},
   "source": [
    "```Python\n",
    "list.insert(index, element)\n",
    "```"
   ]
  },
  {
   "cell_type": "markdown",
   "metadata": {},
   "source": [
    "- 특정 인덱스 위치에 항목을 삽입하는 데 사용"
   ]
  },
  {
   "cell_type": "markdown",
   "metadata": {},
   "source": [
    "- `index`: 항목을 삽입할 위치를 나타내는 정수입니다.\n",
    "- `element`: 삽입하려는 값입니다."
   ]
  },
  {
   "cell_type": "code",
   "execution_count": 8,
   "metadata": {},
   "outputs": [
    {
     "name": "stdout",
     "output_type": "stream",
     "text": [
      "[1, 10, 2, 3]\n"
     ]
    }
   ],
   "source": [
    "c = [1,2,3]\n",
    "c.insert(1,10)\n",
    "print(c)"
   ]
  },
  {
   "cell_type": "markdown",
   "metadata": {},
   "source": [
    "## 2."
   ]
  },
  {
   "cell_type": "markdown",
   "metadata": {},
   "source": [
    "> List에서 `x`값의 index반환, 부재시 -1 반환"
   ]
  },
  {
   "cell_type": "code",
   "execution_count": 27,
   "metadata": {},
   "outputs": [],
   "source": [
    "def bb(list,x):\n",
    "    ans = []\n",
    "    for i,j in enumerate(list):\n",
    "        if j == x:\n",
    "            ans.append(i)\n",
    "    if len(ans)==0:\n",
    "        ans.append(-1)\n",
    "    return ans"
   ]
  },
  {
   "cell_type": "code",
   "execution_count": 28,
   "metadata": {},
   "outputs": [
    {
     "data": {
      "text/plain": [
       "[2]"
      ]
     },
     "execution_count": 28,
     "metadata": {},
     "output_type": "execute_result"
    }
   ],
   "source": [
    "bb([1,2,3,4,5],3)"
   ]
  },
  {
   "cell_type": "code",
   "execution_count": 29,
   "metadata": {},
   "outputs": [
    {
     "data": {
      "text/plain": [
       "[-1]"
      ]
     },
     "execution_count": 29,
     "metadata": {},
     "output_type": "execute_result"
    }
   ],
   "source": [
    "bb([1,2,3,4,5],2.3)"
   ]
  },
  {
   "cell_type": "markdown",
   "metadata": {},
   "source": [
    "# Sorting & Searching 정렬과 탐색"
   ]
  },
  {
   "cell_type": "markdown",
   "metadata": {},
   "source": [
    "> 오름차순 정렬된 배열에서 `x`의 index 값을 반환, 부재시 -1 반환"
   ]
  },
  {
   "cell_type": "code",
   "execution_count": 53,
   "metadata": {},
   "outputs": [],
   "source": [
    "def cc(list,x):\n",
    "    low = 0\n",
    "    high = len(list) - 1\n",
    "    ans = 0\n",
    "    while(low<=high):\n",
    "        mid = (low + high) // 2\n",
    "        if list[mid] == x:\n",
    "            ans = mid\n",
    "            break\n",
    "        elif list[mid] > x:\n",
    "            high = mid - 1\n",
    "        else:\n",
    "            low = mid - 1\n",
    "    else:\n",
    "        return - 1\n",
    "    return ans"
   ]
  },
  {
   "cell_type": "code",
   "execution_count": 55,
   "metadata": {},
   "outputs": [
    {
     "data": {
      "text/plain": [
       "-1"
      ]
     },
     "execution_count": 55,
     "metadata": {},
     "output_type": "execute_result"
    }
   ],
   "source": [
    "cc([3,4,5,6],2)"
   ]
  },
  {
   "cell_type": "markdown",
   "metadata": {},
   "source": [
    "# Recursice Algorithm 재귀알고리즘"
   ]
  },
  {
   "cell_type": "markdown",
   "metadata": {},
   "source": [
    "> 재귀"
   ]
  },
  {
   "cell_type": "markdown",
   "metadata": {},
   "source": [
    "`-` 피보나치 수열"
   ]
  },
  {
   "cell_type": "code",
   "execution_count": 58,
   "metadata": {},
   "outputs": [],
   "source": [
    "def aa(x):\n",
    "    ans = 0\n",
    "    if x <= 1:\n",
    "        ans=1\n",
    "    else:\n",
    "        ans = aa(x-1) + aa(x-2)\n",
    "    return ans"
   ]
  },
  {
   "cell_type": "code",
   "execution_count": 60,
   "metadata": {},
   "outputs": [
    {
     "data": {
      "text/plain": [
       "3"
      ]
     },
     "execution_count": 60,
     "metadata": {},
     "output_type": "execute_result"
    }
   ],
   "source": [
    "aa(3)"
   ]
  },
  {
   "cell_type": "markdown",
   "metadata": {},
   "source": [
    "- 반복문 사용"
   ]
  },
  {
   "cell_type": "code",
   "execution_count": 75,
   "metadata": {},
   "outputs": [],
   "source": [
    "def aa(x):\n",
    "    ans = 0\n",
    "    if x<=1:\n",
    "        ans = x\n",
    "    else:\n",
    "        now = 1\n",
    "        before = 0\n",
    "        for i in range(0,x):\n",
    "            ans = before + now\n",
    "            before = now\n",
    "            now = ans\n",
    "    return ans"
   ]
  },
  {
   "cell_type": "code",
   "execution_count": 76,
   "metadata": {},
   "outputs": [
    {
     "data": {
      "text/plain": [
       "3"
      ]
     },
     "execution_count": 76,
     "metadata": {},
     "output_type": "execute_result"
    }
   ],
   "source": [
    "aa(3)"
   ]
  },
  {
   "cell_type": "markdown",
   "metadata": {},
   "source": [
    "# Recursive Algorithm 재귀 알고리즘 응용용"
   ]
  },
  {
   "cell_type": "markdown",
   "metadata": {},
   "source": [
    "> 재귀적 이진탐색 구현"
   ]
  },
  {
   "cell_type": "markdown",
   "metadata": {},
   "source": [
    "- 이진 탐색은 정렬된 리스트에서 검색하려는 값을 찾을 때, 리스트를 절반씩 나누며 탐색하는 방법"
   ]
  },
  {
   "cell_type": "code",
   "execution_count": 84,
   "metadata": {},
   "outputs": [],
   "source": [
    "def aa(List,x,l,u):\n",
    "    if x < List[l] or x > List[u]:\n",
    "        return -1\n",
    "    mid = (l + u) //2\n",
    "    if x == List[mid]:\n",
    "        return mid\n",
    "    elif x < List[mid]:\n",
    "        return aa(List, x, l , mid-1)\n",
    "    else:\n",
    "        return aa(List, x, mid + 1, u)"
   ]
  },
  {
   "cell_type": "code",
   "execution_count": 85,
   "metadata": {},
   "outputs": [
    {
     "data": {
      "text/plain": [
       "2"
      ]
     },
     "execution_count": 85,
     "metadata": {},
     "output_type": "execute_result"
    }
   ],
   "source": [
    "aa([1,2,3,4],3,1,3)"
   ]
  },
  {
   "cell_type": "markdown",
   "metadata": {},
   "source": [
    "# Comlexity of Algorithms 알고리즘의 복잡도"
   ]
  },
  {
   "cell_type": "markdown",
   "metadata": {},
   "source": [
    "`-` Big-O Notation (최악의 경우 시간 복잡도)\n",
    "\n",
    "- 정의: Big-O 표기법은 최악의 경우에 알고리즘이 처리하는 최대 시간을 나타냅니다.\n",
    "- 목적: 주로 알고리즘의 성능을 평가할 때 사용되며, 상한을 나타냅니다."
   ]
  },
  {
   "cell_type": "markdown",
   "metadata": {},
   "source": [
    "`-`  Big-Ω Notation (최선의 경우 시간 복잡도)\n",
    "- 정의: Big-Ω 표기법은 알고리즘이 최선의 경우에 처리하는 최소 시간을 나타냅니다.\n",
    "- 목적: 알고리즘이 최선의 경우에는 얼마나 빠를 수 있는지를 나타내는 하한을 제공합니다. "
   ]
  },
  {
   "cell_type": "markdown",
   "metadata": {},
   "source": [
    "`-` Big-Θ Notation (평균적인 경우 시간 복잡도)\n",
    "\n",
    "- 정의: Big-Θ 표기법은 알고리즘의 평균적인 경우에 소요되는 시간(또는 공간)을 나타냅니다.\n",
    "- 목적: 알고리즘의 성능을 평균적으로 평가할 수 있게 해주며, 상한과 하한을 동시에 나타냅니다."
   ]
  },
  {
   "cell_type": "markdown",
   "metadata": {},
   "source": [
    "> 단일 연결 리스트 구현"
   ]
  },
  {
   "cell_type": "code",
   "execution_count": 114,
   "metadata": {},
   "outputs": [],
   "source": [
    "class Node:\n",
    "    def __init__(self,item):\n",
    "        self.data = item\n",
    "        self.next = None\n",
    "\n",
    "class SinglyLinkedList:\n",
    "    def __init__(self):\n",
    "        self.head = None  # 리스트의 첫 번째 노드를 가리킬 포인터 (초기값은 None)\n",
    "\n",
    "    # 리스트가 비었는지 확인\n",
    "    def is_empty(self):\n",
    "        return self.head is None\n",
    "\n",
    "    # 리스트의 끝에 새로운 노드를 추가\n",
    "    def append(self, data):\n",
    "        new_node = Node(data)  # 새로운 노드 생성\n",
    "        if self.is_empty():  # 리스트가 비어있다면\n",
    "            self.head = new_node  # head가 새로운 노드를 가리키게 설정\n",
    "        else:\n",
    "            current = self.head\n",
    "            while current.next:  # 마지막 노드까지 이동\n",
    "                current = current.next\n",
    "            current.next = new_node  # 마지막 노드의 next를 새로운 노드로 설정\n",
    "\n",
    "    # 리스트의 시작에 새로운 노드를 추가\n",
    "    def prepend(self, data):\n",
    "        new_node = Node(data)  # 새로운 노드 생성\n",
    "        new_node.next = self.head  # 새로운 노드가 기존 head를 가리키게 설정\n",
    "        self.head = new_node  # head를 새로운 노드로 갱신\n",
    "\n",
    "    # 특정 값을 가진 노드를 삭제\n",
    "    def delete(self, key):\n",
    "        current = self.head\n",
    "        if current is None:  # 리스트가 비어있으면 삭제할 수 없음\n",
    "            return\n",
    "        if current.data == key:  # 삭제할 노드가 head라면\n",
    "            self.head = current.next  # head를 다음 노드로 갱신\n",
    "            current = None  # 기존 노드 삭제\n",
    "            return\n",
    "        prev = None\n",
    "        while current and current.data != key:  # 삭제할 노드를 찾을 때까지 이동\n",
    "            prev = current\n",
    "            current = current.next\n",
    "        if current is None:  # 찾지 못한 경우\n",
    "            return\n",
    "        prev.next = current.next  # 현재 노드의 이전 노드가 다음 노드를 가리키게 설정\n",
    "        current = None  # 현재 노드 삭제\n",
    "\n",
    "    # 리스트의 모든 요소를 출력\n",
    "    def display(self):\n",
    "        current = self.head\n",
    "        if current is None:\n",
    "            print(\"리스트가 비어있습니다.\")\n",
    "            return\n",
    "        while current:\n",
    "            print(current.data, end=\" -> \")\n",
    "            current = current.next\n",
    "        print(\"None\")\n",
    "\n"
   ]
  },
  {
   "cell_type": "code",
   "execution_count": 119,
   "metadata": {},
   "outputs": [
    {
     "name": "stdout",
     "output_type": "stream",
     "text": [
      "리스트 내용:\n",
      "5 -> 10 -> 20 -> 30 -> None\n",
      "20을 삭제한 후 리스트 내용:\n",
      "5 -> 10 -> 30 -> None\n",
      "5를 삭제한 후 리스트 내용:\n",
      "10 -> 30 -> None\n"
     ]
    }
   ],
   "source": [
    "# 단일 연결 리스트 인스턴스 생성\n",
    "sll = SinglyLinkedList()\n",
    "\n",
    "# 값 추가\n",
    "sll.append(10)\n",
    "sll.append(20)\n",
    "sll.append(30)\n",
    "sll.prepend(5)  # 리스트의 맨 앞에 5 추가\n",
    "\n",
    "# 리스트 출력\n",
    "print(\"리스트 내용:\")\n",
    "sll.display()\n",
    "\n",
    "# 값 삭제\n",
    "sll.delete(20)  # 20 삭제\n",
    "\n",
    "# 삭제 후 리스트 출력\n",
    "print(\"20을 삭제한 후 리스트 내용:\")\n",
    "sll.display()\n",
    "\n",
    "# 값 삭제 (head 노드)\n",
    "sll.delete(5)  # 5 삭제\n",
    "\n",
    "# 삭제 후 리스트 출력\n",
    "print(\"5를 삭제한 후 리스트 내용:\")\n",
    "sll.display()\n"
   ]
  },
  {
   "cell_type": "markdown",
   "metadata": {},
   "source": [
    "> 연속 연결 리스트"
   ]
  },
  {
   "cell_type": "code",
   "execution_count": 120,
   "metadata": {},
   "outputs": [],
   "source": [
    "class ContiguousLinkedList:\n",
    "    def __init__(self):\n",
    "        self.nodes = []  # 노드를 저장할 리스트 (배열처럼 사용)\n",
    "        self.head = None  # 리스트의 첫 번째 노드의 인덱스 (초기값은 None)\n",
    "    \n",
    "    # 리스트가 비었는지 확인\n",
    "    def is_empty(self):\n",
    "        return self.head is None\n",
    "    \n",
    "    # 새로운 노드를 추가 (끝에 추가)\n",
    "    def append(self, data):\n",
    "        new_node = [data, None]  # 새로운 노드는 데이터와 None을 가짐 (다음 노드 없음)\n",
    "        self.nodes.append(new_node)  # 노드를 리스트에 추가\n",
    "        \n",
    "        if self.is_empty():\n",
    "            self.head = 0  # 첫 번째 노드가 추가되면 head를 0으로 설정\n",
    "        else:\n",
    "            # 마지막 노드를 찾고, 그 노드의 '다음'을 새 노드로 설정\n",
    "            current_index = self.head\n",
    "            while self.nodes[current_index][1] is not None:\n",
    "                current_index = self.nodes[current_index][1]\n",
    "            \n",
    "            self.nodes[current_index][1] = len(self.nodes) - 1  # 마지막 노드의 'next'를 새 노드 인덱스로 설정\n",
    "    \n",
    "    # 리스트의 맨 앞에 노드를 추가\n",
    "    def prepend(self, data):\n",
    "        new_node = [data, self.head]  # 새 노드는 데이터와 기존 head를 가짐\n",
    "        self.nodes.append(new_node)  # 노드를 리스트에 추가\n",
    "        self.head = len(self.nodes) - 1  # 새 노드가 head가 되도록 설정\n",
    "    \n",
    "    # 특정 값을 가진 노드 삭제\n",
    "    def delete(self, key):\n",
    "        if self.is_empty():\n",
    "            return\n",
    "        \n",
    "        current_index = self.head\n",
    "        prev_index = None\n",
    "        \n",
    "        # key 값이 head인 경우\n",
    "        if self.nodes[current_index][0] == key:\n",
    "            self.head = self.nodes[current_index][1]  # head를 다음 노드로 갱신\n",
    "            return\n",
    "        \n",
    "        # 나머지 노드들에서 삭제할 노드를 찾기\n",
    "        while current_index is not None and self.nodes[current_index][0] != key:\n",
    "            prev_index = current_index\n",
    "            current_index = self.nodes[current_index][1]\n",
    "        \n",
    "        if current_index is None:\n",
    "            return  # key 값이 없으면 종료\n",
    "        \n",
    "        # 현재 노드를 삭제\n",
    "        self.nodes[prev_index][1] = self.nodes[current_index][1]  # 이전 노드의 'next'를 현재 노드의 'next'로 설정\n",
    "    \n",
    "    # 리스트 출력\n",
    "    def display(self):\n",
    "        if self.is_empty():\n",
    "            print(\"리스트가 비어있습니다.\")\n",
    "            return\n",
    "        \n",
    "        current_index = self.head\n",
    "        while current_index is not None:\n",
    "            print(self.nodes[current_index][0], end=\" -> \")\n",
    "            current_index = self.nodes[current_index][1]\n",
    "        print(\"None\")\n"
   ]
  },
  {
   "cell_type": "code",
   "execution_count": 121,
   "metadata": {},
   "outputs": [
    {
     "name": "stdout",
     "output_type": "stream",
     "text": [
      "리스트 내용:\n",
      "5 -> 10 -> 20 -> 30 -> None\n",
      "20을 삭제한 후 리스트 내용:\n",
      "5 -> 10 -> 30 -> None\n",
      "5를 삭제한 후 리스트 내용:\n",
      "10 -> 30 -> None\n"
     ]
    }
   ],
   "source": [
    "# 연속 연결 리스트 인스턴스 생성\n",
    "cll = ContiguousLinkedList()\n",
    "\n",
    "# 값 추가\n",
    "cll.append(10)\n",
    "cll.append(20)\n",
    "cll.append(30)\n",
    "cll.prepend(5)  # 리스트의 맨 앞에 5 추가\n",
    "\n",
    "# 리스트 출력\n",
    "print(\"리스트 내용:\")\n",
    "cll.display()\n",
    "\n",
    "# 값 삭제\n",
    "cll.delete(20)  # 20 삭제\n",
    "\n",
    "# 삭제 후 리스트 출력\n",
    "print(\"20을 삭제한 후 리스트 내용:\")\n",
    "cll.display()\n",
    "\n",
    "# 값 삭제 (head 노드)\n",
    "cll.delete(5)  # 5 삭제\n",
    "\n",
    "# 삭제 후 리스트 출력\n",
    "print(\"5를 삭제한 후 리스트 내용:\")\n",
    "cll.display()\n"
   ]
  },
  {
   "cell_type": "markdown",
   "metadata": {},
   "source": []
  },
  {
   "cell_type": "markdown",
   "metadata": {},
   "source": []
  },
  {
   "cell_type": "markdown",
   "metadata": {},
   "source": []
  }
 ],
 "metadata": {
  "kernelspec": {
   "display_name": "Python 3",
   "language": "python",
   "name": "python3"
  },
  "language_info": {
   "codemirror_mode": {
    "name": "ipython",
    "version": 3
   },
   "file_extension": ".py",
   "mimetype": "text/x-python",
   "name": "python",
   "nbconvert_exporter": "python",
   "pygments_lexer": "ipython3",
   "version": "3.8.0"
  }
 },
 "nbformat": 4,
 "nbformat_minor": 4
}
