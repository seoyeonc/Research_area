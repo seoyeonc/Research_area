{
 "cells": [
  {
   "cell_type": "raw",
   "id": "c56fe98c-ca00-457f-b6fe-bfd14021bb45",
   "metadata": {
    "id": "cac470df-29e7-4148-9bbd-d8b9a32fa570",
    "tags": []
   },
   "source": [
    "---\n",
    "title: \"**[Coding Test]**석유시추\"\n",
    "author: \"SEOYEON CHOI\"\n",
    "date: \"2025-01-04\"\n",
    "---"
   ]
  },
  {
   "cell_type": "markdown",
   "id": "b10b48fd-b31c-4492-a808-a390b44c11ae",
   "metadata": {},
   "source": [
    "`-` 링크"
   ]
  },
  {
   "cell_type": "markdown",
   "id": "91713e8e-d33d-4d62-90c8-293456c2fc19",
   "metadata": {},
   "source": [
    "https://school.programmers.co.kr/learn/courses/30/lessons/250136"
   ]
  },
  {
   "cell_type": "markdown",
   "id": "c8d2638e-fd25-4460-a806-ed4d31168ad0",
   "metadata": {},
   "source": [
    "`-` 문제"
   ]
  },
  {
   "cell_type": "markdown",
   "id": "bc69b11e-2399-4086-a0b9-870979a0f6c1",
   "metadata": {},
   "source": [
    "[본 문제는 정확성과 효율성 테스트 각각 점수가 있는 문제입니다.]\n",
    "\n",
    "세로길이가 n 가로길이가 m인 격자 모양의 땅 속에서 석유가 발견되었습니다. 석유는 여러 덩어리로 나누어 묻혀있습니다. 당신이 시추관을 수직으로 단 하나만 뚫을 수 있을 때, 가장 많은 석유를 뽑을 수 있는 시추관의 위치를 찾으려고 합니다. 시추관은 열 하나를 관통하는 형태여야 하며, 열과 열 사이에 시추관을 뚫을 수 없습니다.\n",
    "\n",
    "석유가 묻힌 땅과 석유 덩어리를 나타내는 2차원 정수 배열 land가 매개변수로 주어집니다. 이때 시추관 하나를 설치해 뽑을 수 있는 가장 많은 석유량을 return 하도록 solution 함수를 완성해 주세요.\n",
    "\n",
    "제한사항\n",
    "\n",
    "1 ≤ land의 길이 = 땅의 세로길이 = n ≤ 500\n",
    "\n",
    "1 ≤ land[i]의 길이 = 땅의 가로길이 = m ≤ 500\n",
    "\n",
    "land[i][j]는 i+1행 j+1열 땅의 정보를 나타냅니다.\n",
    "\n",
    "land[i][j]는 0 또는 1입니다.\n",
    "\n",
    "land[i][j]가 0이면 빈 땅을, 1이면 석유가 있는 땅을 의미합니다.\n",
    "\n",
    "정확성 테스트 케이스 제한사항\n",
    "\n",
    "1 ≤ land의 길이 = 땅의 세로길이 = n ≤ 100\n",
    "\n",
    "1 ≤ land[i]의 길이 = 땅의 가로길이 = m ≤ 100\n",
    "\n",
    "효율성 테스트 케이스 제한사항\n",
    "\n",
    "주어진 조건 외 추가 제한사항 없습니다."
   ]
  },
  {
   "cell_type": "code",
   "execution_count": 402,
   "id": "bb13744f-91a9-4166-a58d-eb00be208b6d",
   "metadata": {},
   "outputs": [],
   "source": [
    "from collections import deque\n",
    "\n",
    "def solution(land):\n",
    "    rows = len(land)\n",
    "    cols = len(land[0])\n",
    "    directions = [(-1, 0), (1, 0), (0, -1), (0, 1)]\n",
    "    def bfs(x, y):\n",
    "        if land[x][y] == 1:\n",
    "            queue = deque([(x, y)])\n",
    "            visited[x][y] = True\n",
    "            while queue:\n",
    "                cx, cy = queue.popleft()\n",
    "                for dx, dy in directions:\n",
    "                    nx, ny = cx + dx, cy + dy\n",
    "                    if 0 <= nx < rows and 0 <= ny < cols and not visited[nx][ny] and land[nx][ny] == 1:\n",
    "                        visited[nx][ny] = True\n",
    "                        queue.append((nx, ny))\n",
    "\n",
    "    rst_bfs = []\n",
    "    for j in range(cols):\n",
    "        visited = [[False for _ in range(cols)] for _ in range(rows)]\n",
    "        for i in range(rows):\n",
    "            bfs(i,j)\n",
    "            rst_bfs.append(sum(row.count(True) for row in visited ))\n",
    "    answer = max(rst_bfs)\n",
    "    return answer"
   ]
  },
  {
   "cell_type": "code",
   "execution_count": 403,
   "id": "cf4cf3e0-0478-474d-9810-da9eb74024e3",
   "metadata": {},
   "outputs": [
    {
     "data": {
      "text/plain": [
       "9"
      ]
     },
     "execution_count": 403,
     "metadata": {},
     "output_type": "execute_result"
    }
   ],
   "source": [
    "solution([[0, 0, 0, 1, 1, 1, 0, 0], [0, 0, 0, 0, 1, 1, 0, 0], [1, 1, 0, 0, 0, 1, 1, 0], [1, 1, 1, 0, 0, 0, 0, 0], [1, 1, 1, 0, 0, 0, 1, 1]])\n",
    "# 9"
   ]
  },
  {
   "cell_type": "code",
   "execution_count": 404,
   "id": "98d355af-cad0-4b6f-9b74-9a0c919ae27c",
   "metadata": {},
   "outputs": [
    {
     "data": {
      "text/plain": [
       "16"
      ]
     },
     "execution_count": 404,
     "metadata": {},
     "output_type": "execute_result"
    }
   ],
   "source": [
    "solution([[1, 0, 1, 0, 1, 1], [1, 0, 1, 0, 0, 0], [1, 0, 1, 0, 0, 1], [1, 0, 0, 1, 0, 0], [1, 0, 0, 1, 0, 1], [1, 0, 0, 0, 0, 0], [1, 1, 1, 1, 1, 1]])\n",
    "# 16"
   ]
  },
  {
   "cell_type": "markdown",
   "id": "6e149e60-fd2d-4478-b4dd-1092331f22a3",
   "metadata": {},
   "source": [
    "**정확성은 맞으나 효율성은 실패**\n",
    "- 채점 결과\n",
    "- 정확성: 60.0\n",
    "- 효율성: 0.0\n",
    "- 합계: 60.0 / 100.0"
   ]
  },
  {
   "cell_type": "code",
   "execution_count": 405,
   "id": "ed370c56-0e23-4ef0-a0ff-d00ac23c8f84",
   "metadata": {},
   "outputs": [],
   "source": [
    "land = [[0, 0, 0, 1, 1, 1, 0, 0], [0, 0, 0, 0, 1, 1, 0, 0], [1, 1, 0, 0, 0, 1, 1, 0], [1, 1, 1, 0, 0, 0, 0, 0], [1, 1, 1, 0, 0, 0, 1, 1]]"
   ]
  },
  {
   "cell_type": "code",
   "execution_count": 406,
   "id": "3ecf1d8d-e675-44f6-8733-3638d6c36f87",
   "metadata": {},
   "outputs": [
    {
     "data": {
      "text/plain": [
       "(5, 8)"
      ]
     },
     "execution_count": 406,
     "metadata": {},
     "output_type": "execute_result"
    }
   ],
   "source": [
    "rows = len(land)\n",
    "cols = len(land[0])\n",
    "rows, cols"
   ]
  },
  {
   "cell_type": "code",
   "execution_count": 407,
   "id": "0133538a-69a1-4e49-84a9-103324887eee",
   "metadata": {},
   "outputs": [],
   "source": [
    "from collections import deque"
   ]
  },
  {
   "cell_type": "code",
   "execution_count": 408,
   "id": "7d419456-edac-434c-bb55-298e2e8e3f75",
   "metadata": {},
   "outputs": [],
   "source": [
    "def bfs(x, y):\n",
    "    if land[x][y] == 1:\n",
    "        queue = deque([(x, y)])\n",
    "        visited[x][y] = True\n",
    "        while queue:\n",
    "            cx, cy = queue.popleft()\n",
    "            for dx, dy in directions:\n",
    "                nx, ny = cx + dx, cy + dy\n",
    "                if 0 <= nx < rows and 0 <= ny < cols and not visited[nx][ny] and land[nx][ny] == 1:\n",
    "                    visited[nx][ny] = True\n",
    "                    queue.append((nx, ny))"
   ]
  },
  {
   "cell_type": "code",
   "execution_count": 409,
   "id": "210d0c59-608c-486e-a75d-53ea1d35cafb",
   "metadata": {},
   "outputs": [],
   "source": [
    "directions = [(-1, 0), (1, 0), (0, -1), (0, 1)]"
   ]
  },
  {
   "cell_type": "code",
   "execution_count": 421,
   "id": "a43580d1-52f1-440b-b992-fb26bb5b3bd4",
   "metadata": {},
   "outputs": [],
   "source": [
    "visited = [[False for _ in range(cols)] for _ in range(rows)]"
   ]
  },
  {
   "cell_type": "code",
   "execution_count": 411,
   "id": "834d879d-8031-423e-9721-402c93cd37dc",
   "metadata": {},
   "outputs": [],
   "source": [
    "for i in range(rows):\n",
    "    bfs(i,0)"
   ]
  },
  {
   "cell_type": "code",
   "execution_count": 412,
   "id": "d7b2b77c-ed7e-463d-b2b3-e90724f82329",
   "metadata": {},
   "outputs": [
    {
     "data": {
      "text/plain": [
       "8"
      ]
     },
     "execution_count": 412,
     "metadata": {},
     "output_type": "execute_result"
    }
   ],
   "source": [
    "sum(row.count(True) for row in visited )"
   ]
  },
  {
   "cell_type": "code",
   "execution_count": 444,
   "id": "75ba07a1-082b-453f-ab85-6e365caf2ed2",
   "metadata": {},
   "outputs": [
    {
     "data": {
      "text/plain": [
       "[[0, 0, 0, 1, 1, 1, 0, 0],\n",
       " [0, 0, 0, 0, 1, 1, 0, 0],\n",
       " [1, 1, 0, 0, 0, 1, 1, 0],\n",
       " [1, 1, 1, 0, 0, 0, 0, 0],\n",
       " [1, 1, 1, 0, 0, 0, 1, 1]]"
      ]
     },
     "execution_count": 444,
     "metadata": {},
     "output_type": "execute_result"
    }
   ],
   "source": [
    "land"
   ]
  },
  {
   "cell_type": "markdown",
   "id": "4d5fa93a-fa6b-4163-aa59-2e33ed62c622",
   "metadata": {},
   "source": [
    "---"
   ]
  },
  {
   "cell_type": "markdown",
   "id": "86b682c0-af9b-4d75-91e5-b4cb8b68375b",
   "metadata": {},
   "source": [
    "- 채점 결과\n",
    "- 정확성: 60.0\n",
    "- 효율성: 40.0\n",
    "- 합계: 100.0 / 100.0"
   ]
  },
  {
   "cell_type": "markdown",
   "id": "4dc6f065-d84a-454b-b8c1-cfe54c75534a",
   "metadata": {},
   "source": [
    "BFS를 사용하였고,\n",
    "\n",
    "타인의 코드를 참고하여\n",
    "\n",
    "학습이 더 필요할 것으로 보임"
   ]
  },
  {
   "cell_type": "code",
   "execution_count": 580,
   "id": "59157580-9996-4ef2-87a8-58d310af01f0",
   "metadata": {},
   "outputs": [],
   "source": [
    "from collections import deque\n",
    "\n",
    "def solution(land):\n",
    "    rows = len(land)\n",
    "    cols = len(land[0])\n",
    "    directions = [(-1, 0), (1, 0), (0, -1), (0, 1)]\n",
    "    visited = [[0 for _ in range(cols)] for _ in range(rows)]\n",
    "    sum_sum = [0 for _ in range(cols)]\n",
    "    def bfs(x, y):\n",
    "        min_y = y\n",
    "        max_y = y\n",
    "        count = 0\n",
    "        queue = deque([(x, y)])\n",
    "        visited[x][y] = 1\n",
    "        while queue:\n",
    "            cx, cy = queue.popleft()\n",
    "            count += 1\n",
    "            min_y = min(min_y,cy)\n",
    "            max_y = max(max_y,cy)\n",
    "            for dx, dy in directions:\n",
    "                nx, ny = cx + dx, cy + dy\n",
    "                if 0 <= nx < rows and 0 <= ny < cols and visited[nx][ny] != 1 and land[nx][ny] == 1:\n",
    "                    visited[nx][ny] = 1\n",
    "                    queue.append((nx, ny))\n",
    "\n",
    "        for i in range(min_y,max_y+1):\n",
    "            sum_sum[i] += count\n",
    "\n",
    "    for j in range(cols):\n",
    "        for i in range(rows):\n",
    "            if visited[i][j] == 0 and land[i][j]==1:\n",
    "                bfs(i,j)\n",
    "    answer = max(sum_sum)\n",
    "    return answer"
   ]
  },
  {
   "cell_type": "code",
   "execution_count": 581,
   "id": "714dd46a-c54c-4d27-a019-2321d92fca13",
   "metadata": {},
   "outputs": [
    {
     "data": {
      "text/plain": [
       "9"
      ]
     },
     "execution_count": 581,
     "metadata": {},
     "output_type": "execute_result"
    }
   ],
   "source": [
    "solution([[0, 0, 0, 1, 1, 1, 0, 0], [0, 0, 0, 0, 1, 1, 0, 0], [1, 1, 0, 0, 0, 1, 1, 0], [1, 1, 1, 0, 0, 0, 0, 0], [1, 1, 1, 0, 0, 0, 1, 1]])\n",
    "# 9"
   ]
  },
  {
   "cell_type": "code",
   "execution_count": 582,
   "id": "96e21733-b27c-4aea-8231-0029428b8572",
   "metadata": {},
   "outputs": [
    {
     "data": {
      "text/plain": [
       "16"
      ]
     },
     "execution_count": 582,
     "metadata": {},
     "output_type": "execute_result"
    }
   ],
   "source": [
    "solution([[1, 0, 1, 0, 1, 1], [1, 0, 1, 0, 0, 0], [1, 0, 1, 0, 0, 1], [1, 0, 0, 1, 0, 0], [1, 0, 0, 1, 0, 1], [1, 0, 0, 0, 0, 0], [1, 1, 1, 1, 1, 1]])\n",
    "# 16"
   ]
  },
  {
   "cell_type": "markdown",
   "id": "28ee7134-71e9-4112-b5a0-fd28a7d409b4",
   "metadata": {},
   "source": [
    "입출력 예 #1"
   ]
  },
  {
   "cell_type": "markdown",
   "id": "fbbc06dd-3199-489e-ac5f-ad83cee1f37d",
   "metadata": {},
   "source": [
    "가로가 8, 세로가 5인 격자 모양의 땅 속에 위 그림처럼 석유가 발견되었다고 가정하겠습니다. 상, 하, 좌, 우로 연결된 석유는 하나의 덩어리이며, 석유 덩어리의 크기는 덩어리에 포함된 칸의 수입니다. 그림에서 석유 덩어리의 크기는 왼쪽부터 8, 7, 2입니다.\n",
    "\n",
    "시추관은 위 그림처럼 설치한 위치 아래로 끝까지 뻗어나갑니다. 만약 시추관이 석유 덩어리의 일부를 지나면 해당 덩어리에 속한 모든 석유를 뽑을 수 있습니다. 시추관이 뽑을 수 있는 석유량은 시추관이 지나는 석유 덩어리들의 크기를 모두 합한 값입니다. 시추관을 설치한 위치에 따라 뽑을 수 있는 석유량은 다음과 같습니다.\n",
    "\n",
    "시추관의 위치\t획득한 덩어리\t총 석유량\n",
    "\n",
    "1\t[8]\t8\n",
    "\n",
    "2\t[8]\t8\n",
    "\n",
    "3\t[8]\t8\n",
    "\n",
    "4\t[7]\t7\n",
    "\n",
    "5\t[7]\t7\n",
    "\n",
    "6\t[7]\t7\n",
    "\n",
    "7\t[7, 2]\t9\n",
    "\n",
    "8\t[2]\t2\n",
    "\n",
    "오른쪽 그림처럼 7번 열에 시추관을 설치하면 크기가 7, 2인 덩어리의 석유를 얻어 뽑을 수 있는 석유량이 9로 가장 많습니다."
   ]
  },
  {
   "cell_type": "code",
   "execution_count": 678,
   "id": "03adbab6-44bc-4973-a6c1-5563d0d55833",
   "metadata": {},
   "outputs": [],
   "source": [
    "land = [[0, 0, 0, 1, 1, 1, 0, 0], [0, 0, 0, 0, 1, 1, 0, 0], [1, 1, 0, 0, 0, 1, 1, 0], [1, 1, 1, 0, 0, 0, 0, 0], [1, 1, 1, 0, 0, 0, 1, 1]]"
   ]
  },
  {
   "cell_type": "code",
   "execution_count": 679,
   "id": "4782514e-b1ca-4e67-a147-0f241324c462",
   "metadata": {},
   "outputs": [
    {
     "data": {
      "text/plain": [
       "(5, 8)"
      ]
     },
     "execution_count": 679,
     "metadata": {},
     "output_type": "execute_result"
    }
   ],
   "source": [
    "rows, cols = len(land), len(land[0])\n",
    "rows, cols "
   ]
  },
  {
   "cell_type": "code",
   "execution_count": 680,
   "id": "df545c23-16ea-4045-b38c-a5087c4d963e",
   "metadata": {},
   "outputs": [],
   "source": [
    "directions = [(-1, 0), (1, 0), (0, -1), (0, 1)]"
   ]
  },
  {
   "cell_type": "code",
   "execution_count": 681,
   "id": "5baa6628-454d-478f-bd9d-c20b5a1eb629",
   "metadata": {},
   "outputs": [
    {
     "data": {
      "text/plain": [
       "[[0, 0, 0, 0, 0, 0, 0, 0],\n",
       " [0, 0, 0, 0, 0, 0, 0, 0],\n",
       " [0, 0, 0, 0, 0, 0, 0, 0],\n",
       " [0, 0, 0, 0, 0, 0, 0, 0],\n",
       " [0, 0, 0, 0, 0, 0, 0, 0]]"
      ]
     },
     "execution_count": 681,
     "metadata": {},
     "output_type": "execute_result"
    }
   ],
   "source": [
    "visited = [[0 for _ in range(cols)] for _ in range(rows)]\n",
    "visited"
   ]
  },
  {
   "cell_type": "code",
   "execution_count": 682,
   "id": "bd6ea58d-51b1-4854-a71e-576d1eed108f",
   "metadata": {},
   "outputs": [
    {
     "data": {
      "text/plain": [
       "[0, 0, 0, 0, 0, 0, 0, 0]"
      ]
     },
     "execution_count": 682,
     "metadata": {},
     "output_type": "execute_result"
    }
   ],
   "source": [
    "sum_sum = [0 for _ in range(cols)]\n",
    "sum_sum"
   ]
  },
  {
   "cell_type": "code",
   "execution_count": 683,
   "id": "ff29a834-cf6a-40c1-9425-624e20bf582a",
   "metadata": {},
   "outputs": [],
   "source": [
    "def bfs(x, y):\n",
    "    min_y = y\n",
    "    max_y = y\n",
    "    count = 0\n",
    "    queue = deque([(x, y)])\n",
    "    visited[x][y] = 1\n",
    "    while queue:\n",
    "        # count를 1 증가시키며 방문한 영역의 크기를 세어줍니다.\n",
    "        # min_y와 max_y를 갱신하며 탐색 중 만난 열의 범위를 추적합니다.\n",
    "        cx, cy = queue.popleft()\n",
    "        count += 1\n",
    "        min_y = min(min_y,cy)\n",
    "        max_y = max(max_y,cy)\n",
    "        for dx, dy in directions:\n",
    "            nx, ny = cx + dx, cy + dy\n",
    "            # 방문하지 않은 visited[nx][ny] != 1 곳 방문\n",
    "            # 하지만 석유가 흘러야 함 land[nx][ny] == 1\n",
    "            if 0 <= nx < rows and 0 <= ny < cols and visited[nx][ny] != 1 and land[nx][ny] == 1:\n",
    "                visited[nx][ny] = 1\n",
    "                queue.append((nx, ny))\n",
    "\n",
    "    for i in range(min_y,max_y+1):\n",
    "        sum_sum[i] += count\n",
    "        print({'i': i, 'min': min_y, 'max': max_y, 'sum':sum_sum[i]})"
   ]
  },
  {
   "cell_type": "code",
   "execution_count": 684,
   "id": "5b05b66e-099c-4e32-8e2f-3dca4af7a3a7",
   "metadata": {},
   "outputs": [
    {
     "name": "stdout",
     "output_type": "stream",
     "text": [
      "{'i': 0, 'min': 0, 'max': 2, 'sum': 8}\n",
      "{'i': 1, 'min': 0, 'max': 2, 'sum': 8}\n",
      "{'i': 2, 'min': 0, 'max': 2, 'sum': 8}\n",
      "{'i': 3, 'min': 3, 'max': 6, 'sum': 7}\n",
      "{'i': 4, 'min': 3, 'max': 6, 'sum': 7}\n",
      "{'i': 5, 'min': 3, 'max': 6, 'sum': 7}\n",
      "{'i': 6, 'min': 3, 'max': 6, 'sum': 7}\n",
      "{'i': 6, 'min': 6, 'max': 7, 'sum': 9}\n",
      "{'i': 7, 'min': 6, 'max': 7, 'sum': 2}\n"
     ]
    }
   ],
   "source": [
    "for j in range(cols):\n",
    "    for i in range(rows):\n",
    "        if visited[i][j] == 0 and land[i][j]==1:\n",
    "            bfs(i,j)"
   ]
  },
  {
   "cell_type": "code",
   "execution_count": 685,
   "id": "65b0329e-1b44-4cb4-8fe0-c3468cbf2d87",
   "metadata": {},
   "outputs": [
    {
     "data": {
      "text/plain": [
       "[8, 8, 8, 7, 7, 7, 9, 2]"
      ]
     },
     "execution_count": 685,
     "metadata": {},
     "output_type": "execute_result"
    }
   ],
   "source": [
    "sum_sum"
   ]
  },
  {
   "cell_type": "code",
   "execution_count": 686,
   "id": "8612cb39-e8a6-4d3a-97de-82cf5ca92f8b",
   "metadata": {},
   "outputs": [
    {
     "data": {
      "text/plain": [
       "[[0, 0, 0, 1, 1, 1, 0, 0],\n",
       " [0, 0, 0, 0, 1, 1, 0, 0],\n",
       " [1, 1, 0, 0, 0, 1, 1, 0],\n",
       " [1, 1, 1, 0, 0, 0, 0, 0],\n",
       " [1, 1, 1, 0, 0, 0, 1, 1]]"
      ]
     },
     "execution_count": 686,
     "metadata": {},
     "output_type": "execute_result"
    }
   ],
   "source": [
    "visited"
   ]
  },
  {
   "cell_type": "code",
   "execution_count": 687,
   "id": "dd947232-64f5-4264-a600-738f7a70bf26",
   "metadata": {},
   "outputs": [
    {
     "data": {
      "text/plain": [
       "9"
      ]
     },
     "execution_count": 687,
     "metadata": {},
     "output_type": "execute_result"
    }
   ],
   "source": [
    "max(sum_sum)"
   ]
  },
  {
   "cell_type": "markdown",
   "id": "bc8188b4-de21-4bca-bbb8-396a6d3d21e1",
   "metadata": {},
   "source": [
    "입출력 예 #2"
   ]
  },
  {
   "cell_type": "markdown",
   "id": "8a6bfc30-cd03-4454-b5ba-ab53b26de45e",
   "metadata": {},
   "source": [
    "시추관을 설치한 위치에 따라 뽑을 수 있는 석유는 다음과 같습니다.\n",
    "\n",
    "시추관의 위치\t획득한 덩어리\t총 석유량\n",
    "\n",
    "1\t[12]\t12\n",
    "\n",
    "2\t[12]\t12\n",
    "\n",
    "3\t[3, 12]\t15\n",
    "\n",
    "4\t[2, 12]\t14\n",
    "\n",
    "5\t[2, 12]\t14\n",
    "\n",
    "6\t[2, 1, 1, 12]\t16\n",
    "\n",
    "6번 열에 시추관을 설치하면 크기가 2, 1, 1, 12인 덩어리의 석유를 얻어 뽑을 수 있는 석유량이 16으로 가장 많습니다. 따라서 16을 return 해야 합니다."
   ]
  },
  {
   "cell_type": "code",
   "execution_count": 688,
   "id": "96ff79a5-9dd0-4a40-804b-aaf0ab4db01c",
   "metadata": {},
   "outputs": [],
   "source": [
    "land = [[1, 0, 1, 0, 1, 1], [1, 0, 1, 0, 0, 0], [1, 0, 1, 0, 0, 1], [1, 0, 0, 1, 0, 0], [1, 0, 0, 1, 0, 1], [1, 0, 0, 0, 0, 0], [1, 1, 1, 1, 1, 1]]"
   ]
  },
  {
   "cell_type": "code",
   "execution_count": 698,
   "id": "7a2326e9-e6a8-4659-afc3-33b2a7723706",
   "metadata": {},
   "outputs": [
    {
     "data": {
      "text/plain": [
       "[[1, 0, 1, 0, 1, 1],\n",
       " [1, 0, 1, 0, 0, 0],\n",
       " [1, 0, 1, 0, 0, 1],\n",
       " [1, 0, 0, 1, 0, 0],\n",
       " [1, 0, 0, 1, 0, 1],\n",
       " [1, 0, 0, 0, 0, 0],\n",
       " [1, 1, 1, 1, 1, 1]]"
      ]
     },
     "execution_count": 698,
     "metadata": {},
     "output_type": "execute_result"
    }
   ],
   "source": [
    "land"
   ]
  },
  {
   "cell_type": "code",
   "execution_count": 689,
   "id": "619b609c-813f-48eb-9d7b-fbcc7aac724c",
   "metadata": {},
   "outputs": [
    {
     "data": {
      "text/plain": [
       "(7, 6)"
      ]
     },
     "execution_count": 689,
     "metadata": {},
     "output_type": "execute_result"
    }
   ],
   "source": [
    "rows, cols = len(land), len(land[0])\n",
    "rows, cols "
   ]
  },
  {
   "cell_type": "code",
   "execution_count": 690,
   "id": "644d7719-e871-42d9-a860-8a84d7f7baa9",
   "metadata": {},
   "outputs": [],
   "source": [
    "directions = [(-1, 0), (1, 0), (0, -1), (0, 1)]"
   ]
  },
  {
   "cell_type": "code",
   "execution_count": 691,
   "id": "60cbc16a-6256-4b47-831b-4b486c6cffc3",
   "metadata": {},
   "outputs": [
    {
     "data": {
      "text/plain": [
       "[[0, 0, 0, 0, 0, 0],\n",
       " [0, 0, 0, 0, 0, 0],\n",
       " [0, 0, 0, 0, 0, 0],\n",
       " [0, 0, 0, 0, 0, 0],\n",
       " [0, 0, 0, 0, 0, 0],\n",
       " [0, 0, 0, 0, 0, 0],\n",
       " [0, 0, 0, 0, 0, 0]]"
      ]
     },
     "execution_count": 691,
     "metadata": {},
     "output_type": "execute_result"
    }
   ],
   "source": [
    "visited = [[0 for _ in range(cols)] for _ in range(rows)]\n",
    "visited"
   ]
  },
  {
   "cell_type": "code",
   "execution_count": 692,
   "id": "a7894b8e-8204-47ff-92d0-d5fa4fbcf901",
   "metadata": {},
   "outputs": [
    {
     "data": {
      "text/plain": [
       "[0, 0, 0, 0, 0, 0]"
      ]
     },
     "execution_count": 692,
     "metadata": {},
     "output_type": "execute_result"
    }
   ],
   "source": [
    "sum_sum = [0 for _ in range(cols)]\n",
    "sum_sum"
   ]
  },
  {
   "cell_type": "code",
   "execution_count": 693,
   "id": "053c160b-a774-4781-a9df-344e588e8e66",
   "metadata": {},
   "outputs": [],
   "source": [
    "def bfs(x, y):\n",
    "    min_y = y\n",
    "    max_y = y\n",
    "    count = 0\n",
    "    queue = deque([(x, y)])\n",
    "    visited[x][y] = 1\n",
    "    while queue:\n",
    "        # count를 1 증가시키며 방문한 영역의 크기를 세어줍니다.\n",
    "        # min_y와 max_y를 갱신하며 탐색 중 만난 열의 범위를 추적합니다.\n",
    "        cx, cy = queue.popleft()\n",
    "        count += 1\n",
    "        min_y = min(min_y,cy)\n",
    "        max_y = max(max_y,cy)\n",
    "        for dx, dy in directions:\n",
    "            nx, ny = cx + dx, cy + dy\n",
    "            # 방문하지 않은 visited[nx][ny] != 1 곳 방문\n",
    "            # 하지만 석유가 흘러야 함 land[nx][ny] == 1\n",
    "            if 0 <= nx < rows and 0 <= ny < cols and visited[nx][ny] != 1 and land[nx][ny] == 1:\n",
    "                visited[nx][ny] = 1\n",
    "                queue.append((nx, ny))\n",
    "\n",
    "    for i in range(min_y,max_y+1):\n",
    "        sum_sum[i] += count\n",
    "        print({'i': i, 'min': min_y, 'max': max_y, 'sum':sum_sum[i]})"
   ]
  },
  {
   "cell_type": "code",
   "execution_count": 694,
   "id": "d8574b82-6fbf-4e43-8bdf-0776632531a2",
   "metadata": {},
   "outputs": [
    {
     "name": "stdout",
     "output_type": "stream",
     "text": [
      "{'i': 0, 'min': 0, 'max': 5, 'sum': 12}\n",
      "{'i': 1, 'min': 0, 'max': 5, 'sum': 12}\n",
      "{'i': 2, 'min': 0, 'max': 5, 'sum': 12}\n",
      "{'i': 3, 'min': 0, 'max': 5, 'sum': 12}\n",
      "{'i': 4, 'min': 0, 'max': 5, 'sum': 12}\n",
      "{'i': 5, 'min': 0, 'max': 5, 'sum': 12}\n",
      "{'i': 2, 'min': 2, 'max': 2, 'sum': 15}\n",
      "{'i': 3, 'min': 3, 'max': 3, 'sum': 14}\n",
      "{'i': 4, 'min': 4, 'max': 5, 'sum': 14}\n",
      "{'i': 5, 'min': 4, 'max': 5, 'sum': 14}\n",
      "{'i': 5, 'min': 5, 'max': 5, 'sum': 15}\n",
      "{'i': 5, 'min': 5, 'max': 5, 'sum': 16}\n"
     ]
    }
   ],
   "source": [
    "for j in range(cols):\n",
    "    for i in range(rows):\n",
    "        if visited[i][j] == 0 and land[i][j]==1:\n",
    "            bfs(i,j)"
   ]
  },
  {
   "cell_type": "code",
   "execution_count": 695,
   "id": "c9b7c607-54dc-4f55-80c9-5b239180a74f",
   "metadata": {},
   "outputs": [
    {
     "data": {
      "text/plain": [
       "[12, 12, 15, 14, 14, 16]"
      ]
     },
     "execution_count": 695,
     "metadata": {},
     "output_type": "execute_result"
    }
   ],
   "source": [
    "sum_sum"
   ]
  },
  {
   "cell_type": "code",
   "execution_count": 696,
   "id": "49117fd9-f9d3-4f9a-907d-9fee54e27de9",
   "metadata": {},
   "outputs": [
    {
     "data": {
      "text/plain": [
       "[[1, 0, 1, 0, 1, 1],\n",
       " [1, 0, 1, 0, 0, 0],\n",
       " [1, 0, 1, 0, 0, 1],\n",
       " [1, 0, 0, 1, 0, 0],\n",
       " [1, 0, 0, 1, 0, 1],\n",
       " [1, 0, 0, 0, 0, 0],\n",
       " [1, 1, 1, 1, 1, 1]]"
      ]
     },
     "execution_count": 696,
     "metadata": {},
     "output_type": "execute_result"
    }
   ],
   "source": [
    "visited"
   ]
  },
  {
   "cell_type": "code",
   "execution_count": 697,
   "id": "8779e51c-4b41-4a75-865d-db05701be3dc",
   "metadata": {},
   "outputs": [
    {
     "data": {
      "text/plain": [
       "16"
      ]
     },
     "execution_count": 697,
     "metadata": {},
     "output_type": "execute_result"
    }
   ],
   "source": [
    "max(sum_sum)"
   ]
  },
  {
   "cell_type": "code",
   "execution_count": null,
   "id": "584c12aa-6919-40c6-81c3-82e6a02da349",
   "metadata": {},
   "outputs": [],
   "source": []
  },
  {
   "cell_type": "code",
   "execution_count": null,
   "id": "0f4aa42a-04a2-44e9-a00a-6f73d3d9a566",
   "metadata": {},
   "outputs": [],
   "source": []
  },
  {
   "cell_type": "code",
   "execution_count": null,
   "id": "25659ff2-8fa1-4f5c-b2fd-0db8c0a1bcf2",
   "metadata": {},
   "outputs": [],
   "source": []
  }
 ],
 "metadata": {
  "kernelspec": {
   "display_name": "Python 3",
   "language": "python",
   "name": "python3"
  },
  "language_info": {
   "codemirror_mode": {
    "name": "ipython",
    "version": 3
   },
   "file_extension": ".py",
   "mimetype": "text/x-python",
   "name": "python",
   "nbconvert_exporter": "python",
   "pygments_lexer": "ipython3",
   "version": "3.8.0"
  }
 },
 "nbformat": 4,
 "nbformat_minor": 5
}
