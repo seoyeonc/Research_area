{
 "cells": [
  {
   "cell_type": "raw",
   "id": "85b43b22-1ac6-4008-b36a-43ced887af0b",
   "metadata": {
    "id": "cac470df-29e7-4148-9bbd-d8b9a32fa570",
    "tags": []
   },
   "source": [
    "---\n",
    "title: \"**[Coding Test]**BFS\"\n",
    "author: \"SEOYEON CHOI\"\n",
    "date: \"2025-01-10\"\n",
    "---"
   ]
  },
  {
   "cell_type": "markdown",
   "id": "4bb8199f-e04b-4226-9e4d-f6e0d83e8283",
   "metadata": {},
   "source": [
    "# 용어"
   ]
  },
  {
   "cell_type": "markdown",
   "id": "bcb33c89-c549-4826-8a17-cfcb106ad4e6",
   "metadata": {},
   "source": [
    "`-` 용어 정의"
   ]
  },
  {
   "cell_type": "markdown",
   "id": "288e4722-ec12-48ca-94b6-7789d93a9cab",
   "metadata": {},
   "source": [
    "**BFS(너비 우선 탐색, Breadth-First Search)**"
   ]
  },
  {
   "cell_type": "markdown",
   "id": "aa6f0565-4448-491f-b8d9-9f287d116c9f",
   "metadata": {},
   "source": [
    "그래프 탐색 알고리즘 중 하나로, 그래프의 각 노드를 \"넓게\" 탐색해 나가는 방식입니다. BFS는 최단 경로를 찾는 데 유용하고, 큐(Queue)를 이용하여 구현합니다."
   ]
  },
  {
   "cell_type": "markdown",
   "id": "6ab4a164-2c9c-4d6e-b3b9-f1dc297c1e49",
   "metadata": {},
   "source": [
    "`-` BFS의 특징"
   ]
  },
  {
   "cell_type": "markdown",
   "id": "3b382a59-4776-42b4-9428-e9a4877dc693",
   "metadata": {},
   "source": [
    "- 큐(Queue)를 사용하여 구현합니다.\n",
    "- 같은 깊이에 있는 노드를 먼저 방문한 뒤, 점차 깊이를 늘려가며 탐색합니다.\n",
    "- BFS는 최단 경로를 보장합니다(단, 그래프가 unweighted일 경우).\n",
    "- 각 노드를 한 번씩만 방문합니다.\n",
    "- BFS 알고리즘 동작 과정:\n",
    "- 시작 노드를 큐에 넣고 방문 표시를 합니다.\n",
    "- 큐에서 노드를 꺼내서 해당 노드와 연결된 노드를 큐에 넣습니다.\n",
    "- 큐가 빌 때까지 이 과정을 반복합니다."
   ]
  },
  {
   "cell_type": "markdown",
   "id": "dd92911b-c383-4f31-a92a-8454b47e94ac",
   "metadata": {},
   "source": [
    "# 예제 1"
   ]
  },
  {
   "cell_type": "code",
   "execution_count": 5,
   "id": "29c3ccf9-7540-4f99-b528-36a380a20ece",
   "metadata": {},
   "outputs": [],
   "source": [
    "from collections import deque\n",
    "\n",
    "def bfs(graph, start):\n",
    "    visited = set()  # 방문한 노드를 기록할 집합\n",
    "    queue = deque([start])  # 큐에 시작 노드 넣기\n",
    "    visited.add(start)  # 시작 노드를 방문했다고 표시\n",
    "\n",
    "    while queue:\n",
    "        node = queue.popleft()  # 큐에서 노드를 꺼냄\n",
    "        print(node, end=\" \")  # 방문한 노드 출력\n",
    "\n",
    "        # 현재 노드와 연결된 모든 노드를 큐에 추가\n",
    "        for neighbor in graph[node]:\n",
    "            if neighbor not in visited:\n",
    "                visited.add(neighbor)\n",
    "                queue.append(neighbor)"
   ]
  },
  {
   "cell_type": "code",
   "execution_count": 6,
   "id": "7dcc0409-3fda-4fb3-a0f8-9c48a7f92a84",
   "metadata": {},
   "outputs": [],
   "source": [
    "# 그래프 예제 (인접 리스트 형식)\n",
    "graph = {\n",
    "    1: [2, 3],\n",
    "    2: [1, 4, 5],\n",
    "    3: [1, 6],\n",
    "    4: [2],\n",
    "    5: [2],\n",
    "    6: [3]\n",
    "}"
   ]
  },
  {
   "cell_type": "code",
   "execution_count": 4,
   "id": "cc7c1f9a-2c38-4d48-9aa9-084c9b3bc00d",
   "metadata": {},
   "outputs": [
    {
     "name": "stdout",
     "output_type": "stream",
     "text": [
      "1 2 3 4 5 6 "
     ]
    }
   ],
   "source": [
    "# BFS 실행\n",
    "bfs(graph, 1)"
   ]
  },
  {
   "cell_type": "markdown",
   "id": "462d8393-9205-417c-adcf-db94f154487f",
   "metadata": {},
   "source": [
    "`-` 한줄씩"
   ]
  },
  {
   "cell_type": "code",
   "execution_count": 23,
   "id": "88bb62b0-fab2-460f-8150-4417a7c91156",
   "metadata": {},
   "outputs": [],
   "source": [
    "start = 1"
   ]
  },
  {
   "cell_type": "code",
   "execution_count": 24,
   "id": "14dd003a-36b0-4916-a588-b61407155992",
   "metadata": {},
   "outputs": [
    {
     "data": {
      "text/plain": [
       "set()"
      ]
     },
     "execution_count": 24,
     "metadata": {},
     "output_type": "execute_result"
    }
   ],
   "source": [
    "visited = set()  # 방문한 노드를 기록할 집합\n",
    "visited"
   ]
  },
  {
   "cell_type": "code",
   "execution_count": 25,
   "id": "73848b58-5da2-4873-a96c-f9d75c13a430",
   "metadata": {},
   "outputs": [
    {
     "data": {
      "text/plain": [
       "deque([1])"
      ]
     },
     "execution_count": 25,
     "metadata": {},
     "output_type": "execute_result"
    }
   ],
   "source": [
    "queue = deque([start])  # 큐에 시작 노드 넣기\n",
    "queue"
   ]
  },
  {
   "cell_type": "code",
   "execution_count": 26,
   "id": "69d41f74-cead-47e0-b9c7-7f813375c77f",
   "metadata": {},
   "outputs": [
    {
     "data": {
      "text/plain": [
       "{1}"
      ]
     },
     "execution_count": 26,
     "metadata": {},
     "output_type": "execute_result"
    }
   ],
   "source": [
    "visited.add(start)  # 시작 노드를 방문했다고 표시\n",
    "visited"
   ]
  },
  {
   "cell_type": "markdown",
   "id": "9c2e349d-d60d-4b1f-bfe2-13ce30e372ee",
   "metadata": {},
   "source": [
    "```python\n",
    "while queue:\n",
    "```"
   ]
  },
  {
   "cell_type": "code",
   "execution_count": 27,
   "id": "b770fe13-e33b-49f7-9e36-88672eeb05fc",
   "metadata": {},
   "outputs": [
    {
     "data": {
      "text/plain": [
       "1"
      ]
     },
     "execution_count": 27,
     "metadata": {},
     "output_type": "execute_result"
    }
   ],
   "source": [
    "node = queue.popleft()  # 큐에서 노드를 꺼냄\n",
    "node"
   ]
  },
  {
   "cell_type": "code",
   "execution_count": 28,
   "id": "e3959cd6-1eb1-47b1-b84f-95af172e2d77",
   "metadata": {},
   "outputs": [
    {
     "name": "stdout",
     "output_type": "stream",
     "text": [
      "1 "
     ]
    }
   ],
   "source": [
    "print(node, end=\" \")  # 방문한 노드 출력"
   ]
  },
  {
   "cell_type": "markdown",
   "id": "6e0f93cc-349d-47df-8518-245ff39fa2f9",
   "metadata": {},
   "source": [
    "```python\n",
    "# 현재 노드와 연결된 모든 노드를 큐에 추가\n",
    "for neighbor in graph[node]:\n",
    "```"
   ]
  },
  {
   "cell_type": "code",
   "execution_count": 29,
   "id": "6029d69d-5f84-41b7-bf8b-206edca9e8a7",
   "metadata": {},
   "outputs": [
    {
     "data": {
      "text/plain": [
       "[2, 3]"
      ]
     },
     "execution_count": 29,
     "metadata": {},
     "output_type": "execute_result"
    }
   ],
   "source": [
    "neighbor = graph[node]\n",
    "neighbor"
   ]
  },
  {
   "cell_type": "code",
   "execution_count": 31,
   "id": "6b6e8aa5-73d3-4a04-92c2-ae639b6ddb37",
   "metadata": {},
   "outputs": [
    {
     "data": {
      "text/plain": [
       "({1, 2}, deque([2]))"
      ]
     },
     "execution_count": 31,
     "metadata": {},
     "output_type": "execute_result"
    }
   ],
   "source": [
    "if 2 not in visited:\n",
    "    visited.add(2)\n",
    "    queue.append(2)\n",
    "visited,queue"
   ]
  },
  {
   "cell_type": "code",
   "execution_count": 32,
   "id": "42b9cd67-2931-4538-9882-b9bfda59b1bf",
   "metadata": {},
   "outputs": [
    {
     "data": {
      "text/plain": [
       "({1, 2, 3}, deque([2, 3]))"
      ]
     },
     "execution_count": 32,
     "metadata": {},
     "output_type": "execute_result"
    }
   ],
   "source": [
    "if 3 not in visited:\n",
    "    visited.add(3)\n",
    "    queue.append(3)\n",
    "visited,queue"
   ]
  },
  {
   "cell_type": "markdown",
   "id": "5f3198c6-e49f-49d4-b409-6d0fb6bab915",
   "metadata": {},
   "source": [
    "# 예제 2"
   ]
  },
  {
   "cell_type": "markdown",
   "id": "e4a9ef8f-b425-434d-bc1c-57af7f557393",
   "metadata": {},
   "source": [
    "`-` 최단 경로 찾기 (BFS 응용)"
   ]
  },
  {
   "cell_type": "markdown",
   "id": "afddcedd-186c-4da5-bc3b-1649befd472d",
   "metadata": {},
   "source": [
    "BFS는 가중치가 없는 그래프에서 최단 경로를 찾는 데 유용합니다. 예를 들어, 출발점에서 목표 지점까지의 최단 거리를 계산하는 문제에서 BFS를 사용할 수 있습니다."
   ]
  },
  {
   "cell_type": "code",
   "execution_count": 34,
   "id": "88c093c3-d00a-4225-ae6e-283c50c1ef30",
   "metadata": {},
   "outputs": [],
   "source": [
    "from collections import deque\n",
    "\n",
    "def bfs_shortest_path(graph, start, target):\n",
    "    visited = set()  # 방문한 노드를 기록할 집합\n",
    "    queue = deque([(start, [start])])  # 큐에 시작 노드와 경로를 튜플로 넣음\n",
    "\n",
    "    while queue:\n",
    "        node, path = queue.popleft()\n",
    "\n",
    "        if node == target:  # 목표 노드를 찾으면 경로를 반환\n",
    "            return path\n",
    "\n",
    "        visited.add(node)\n",
    "\n",
    "        # 현재 노드와 연결된 모든 노드를 큐에 추가\n",
    "        for neighbor in graph[node]:\n",
    "            if neighbor not in visited:\n",
    "                queue.append((neighbor, path + [neighbor]))\n",
    "\n",
    "    return None  # 목표 노드가 없으면 None을 반환"
   ]
  },
  {
   "cell_type": "code",
   "execution_count": 35,
   "id": "b4b92241-f0a6-49ce-ad4d-a63f0eae2330",
   "metadata": {},
   "outputs": [],
   "source": [
    "# 그래프 예제 (인접 리스트 형식)\n",
    "graph = {\n",
    "    'A': ['B', 'C'],\n",
    "    'B': ['A', 'D', 'E'],\n",
    "    'C': ['A', 'F'],\n",
    "    'D': ['B'],\n",
    "    'E': ['B', 'F'],\n",
    "    'F': ['C', 'E']\n",
    "}"
   ]
  },
  {
   "cell_type": "code",
   "execution_count": 36,
   "id": "deb41cf2-7685-4eb3-abfc-483beaa0e6b7",
   "metadata": {},
   "outputs": [
    {
     "name": "stdout",
     "output_type": "stream",
     "text": [
      "최단 경로: ['A', 'C', 'F']\n"
     ]
    }
   ],
   "source": [
    "# 최단 경로 찾기\n",
    "shortest_path = bfs_shortest_path(graph, 'A', 'F')\n",
    "print(\"최단 경로:\", shortest_path)"
   ]
  },
  {
   "cell_type": "markdown",
   "id": "d2b6480a-8fef-403d-bfce-c02fdfee97cd",
   "metadata": {},
   "source": [
    "`-` 한줄씩"
   ]
  },
  {
   "cell_type": "code",
   "execution_count": 37,
   "id": "aee8a7c9-0f40-4514-9a13-da3a4df4dbf7",
   "metadata": {},
   "outputs": [],
   "source": [
    "start, target = 'A', 'F'"
   ]
  },
  {
   "cell_type": "code",
   "execution_count": 38,
   "id": "199b42b2-3a21-4fb9-9e91-306fb5bbd63b",
   "metadata": {},
   "outputs": [
    {
     "data": {
      "text/plain": [
       "set()"
      ]
     },
     "execution_count": 38,
     "metadata": {},
     "output_type": "execute_result"
    }
   ],
   "source": [
    "visited = set()  # 방문한 노드를 기록할 집합\n",
    "visited"
   ]
  },
  {
   "cell_type": "code",
   "execution_count": 39,
   "id": "87285b28-151b-458c-b84c-deeba537196b",
   "metadata": {},
   "outputs": [
    {
     "data": {
      "text/plain": [
       "deque([('A', ['A'])])"
      ]
     },
     "execution_count": 39,
     "metadata": {},
     "output_type": "execute_result"
    }
   ],
   "source": [
    "queue = deque([(start, [start])])  # 큐에 시작 노드와 경로를 튜플로 넣음\n",
    "queue"
   ]
  },
  {
   "cell_type": "markdown",
   "id": "6d0af831-fb8e-42d2-831e-6ee1da80733a",
   "metadata": {},
   "source": [
    "queue 가 True 일때까지 진행"
   ]
  },
  {
   "cell_type": "markdown",
   "id": "485cd35a-4014-493b-9386-040ba3585b2c",
   "metadata": {},
   "source": [
    "```python\n",
    "while queue:\n",
    "```"
   ]
  },
  {
   "cell_type": "code",
   "execution_count": 40,
   "id": "123da1c7-64fa-4918-8d69-4342b55a8638",
   "metadata": {},
   "outputs": [
    {
     "data": {
      "text/plain": [
       "('A', ['A'])"
      ]
     },
     "execution_count": 40,
     "metadata": {},
     "output_type": "execute_result"
    }
   ],
   "source": [
    "node, path = queue.popleft()\n",
    "node, path "
   ]
  },
  {
   "cell_type": "code",
   "execution_count": 43,
   "id": "fa2eaa6d-b7cd-48e6-9952-9b636c3fdd8f",
   "metadata": {},
   "outputs": [],
   "source": [
    "# if node == target:  # 목표 노드를 찾으면 경로를 반환\n",
    "#return path"
   ]
  },
  {
   "cell_type": "code",
   "execution_count": 44,
   "id": "3c6a1471-8fc3-4963-8de4-3b3a0ec07dd0",
   "metadata": {},
   "outputs": [
    {
     "data": {
      "text/plain": [
       "{'A'}"
      ]
     },
     "execution_count": 44,
     "metadata": {},
     "output_type": "execute_result"
    }
   ],
   "source": [
    "visited.add(node)\n",
    "visited"
   ]
  },
  {
   "cell_type": "code",
   "execution_count": 45,
   "id": "d7082eb3-f74c-4823-963c-75edd4239df9",
   "metadata": {},
   "outputs": [
    {
     "data": {
      "text/plain": [
       "['B', 'C']"
      ]
     },
     "execution_count": 45,
     "metadata": {},
     "output_type": "execute_result"
    }
   ],
   "source": [
    "graph[node]"
   ]
  },
  {
   "cell_type": "code",
   "execution_count": 47,
   "id": "30d87f57-01d6-42b9-b0f4-25cb4d40b23c",
   "metadata": {},
   "outputs": [
    {
     "data": {
      "text/plain": [
       "deque([('B', 'AB')])"
      ]
     },
     "execution_count": 47,
     "metadata": {},
     "output_type": "execute_result"
    }
   ],
   "source": [
    "if 'B' not in visited:\n",
    "    queue.append(('B', 'A' + 'B'))\n",
    "queue"
   ]
  },
  {
   "cell_type": "code",
   "execution_count": 48,
   "id": "e29c8b2d-2914-436d-9b64-f3e04c97b7b1",
   "metadata": {},
   "outputs": [
    {
     "data": {
      "text/plain": [
       "deque([('B', 'AB'), ('C', 'AC')])"
      ]
     },
     "execution_count": 48,
     "metadata": {},
     "output_type": "execute_result"
    }
   ],
   "source": [
    "if 'C' not in visited:\n",
    "    queue.append(('C', 'A' + 'C'))\n",
    "queue"
   ]
  },
  {
   "cell_type": "code",
   "execution_count": 59,
   "id": "24922386-1d08-43d3-b44d-ef147a208833",
   "metadata": {},
   "outputs": [],
   "source": [
    "from collections import deque\n",
    "\n",
    "def bfs_shortest_path(graph, start, target):\n",
    "    visited = set()  # 방문한 노드를 기록할 집합\n",
    "    queue = deque([(start, [start])])  # 큐에 시작 노드와 경로를 튜플로 넣음\n",
    "\n",
    "    while queue:\n",
    "        print(queue)\n",
    "        node, path = queue.popleft()\n",
    "\n",
    "        if node == target:  # 목표 노드를 찾으면 경로를 반환\n",
    "            return path\n",
    "        print(visited)\n",
    "        visited.add(node)\n",
    "\n",
    "        # 현재 노드와 연결된 모든 노드를 큐에 추가\n",
    "        for neighbor in graph[node]:\n",
    "            if neighbor not in visited:\n",
    "                queue.append((neighbor, path + [neighbor]))\n",
    "            print(f'for 문 neighbor{neighbor}')\n",
    "            print(f'for 문 queue{queue}')\n",
    "\n",
    "    return None  # 목표 노드가 없으면 None을 반환"
   ]
  },
  {
   "cell_type": "code",
   "execution_count": 60,
   "id": "700188ef-c557-47a5-b3a9-ae8935321b00",
   "metadata": {},
   "outputs": [],
   "source": [
    "# 그래프 예제 (인접 리스트 형식)\n",
    "graph = {\n",
    "    'A': ['B', 'C'],\n",
    "    'B': ['A', 'D', 'E'],\n",
    "    'C': ['A', 'F'],\n",
    "    'D': ['B'],\n",
    "    'E': ['B', 'F'],\n",
    "    'F': ['C', 'E']\n",
    "}"
   ]
  },
  {
   "cell_type": "code",
   "execution_count": 61,
   "id": "829f0493-8ac7-46bb-ac49-bdb09a464374",
   "metadata": {},
   "outputs": [
    {
     "name": "stdout",
     "output_type": "stream",
     "text": [
      "deque([('A', ['A'])])\n",
      "set()\n",
      "for 문 neighborB\n",
      "for 문 queuedeque([('B', ['A', 'B'])])\n",
      "for 문 neighborC\n",
      "for 문 queuedeque([('B', ['A', 'B']), ('C', ['A', 'C'])])\n",
      "deque([('B', ['A', 'B']), ('C', ['A', 'C'])])\n",
      "{'A'}\n",
      "for 문 neighborA\n",
      "for 문 queuedeque([('C', ['A', 'C'])])\n",
      "for 문 neighborD\n",
      "for 문 queuedeque([('C', ['A', 'C']), ('D', ['A', 'B', 'D'])])\n",
      "for 문 neighborE\n",
      "for 문 queuedeque([('C', ['A', 'C']), ('D', ['A', 'B', 'D']), ('E', ['A', 'B', 'E'])])\n",
      "deque([('C', ['A', 'C']), ('D', ['A', 'B', 'D']), ('E', ['A', 'B', 'E'])])\n",
      "{'A', 'B'}\n",
      "for 문 neighborA\n",
      "for 문 queuedeque([('D', ['A', 'B', 'D']), ('E', ['A', 'B', 'E'])])\n",
      "for 문 neighborF\n",
      "for 문 queuedeque([('D', ['A', 'B', 'D']), ('E', ['A', 'B', 'E']), ('F', ['A', 'C', 'F'])])\n",
      "deque([('D', ['A', 'B', 'D']), ('E', ['A', 'B', 'E']), ('F', ['A', 'C', 'F'])])\n",
      "{'A', 'B', 'C'}\n",
      "for 문 neighborB\n",
      "for 문 queuedeque([('E', ['A', 'B', 'E']), ('F', ['A', 'C', 'F'])])\n",
      "deque([('E', ['A', 'B', 'E']), ('F', ['A', 'C', 'F'])])\n",
      "{'D', 'A', 'B', 'C'}\n",
      "for 문 neighborB\n",
      "for 문 queuedeque([('F', ['A', 'C', 'F'])])\n",
      "for 문 neighborF\n",
      "for 문 queuedeque([('F', ['A', 'C', 'F']), ('F', ['A', 'B', 'E', 'F'])])\n",
      "deque([('F', ['A', 'C', 'F']), ('F', ['A', 'B', 'E', 'F'])])\n",
      "최단 경로: ['A', 'C', 'F']\n"
     ]
    }
   ],
   "source": [
    "# 최단 경로 찾기\n",
    "shortest_path = bfs_shortest_path(graph, 'A', 'F')\n",
    "print(\"최단 경로:\", shortest_path)"
   ]
  },
  {
   "cell_type": "markdown",
   "id": "ba57a75f-20ef-4e0c-a95d-cf5d505a816b",
   "metadata": {},
   "source": [
    "# 예제 3"
   ]
  },
  {
   "cell_type": "code",
   "execution_count": 62,
   "id": "a3c74de1-c9dd-4ee9-8d5b-ba7ed65dde49",
   "metadata": {},
   "outputs": [],
   "source": [
    "def bfs_maze(maze, start, goal):\n",
    "    rows, cols = len(maze), len(maze[0])\n",
    "    directions = [(0, 1), (1, 0), (0, -1), (-1, 0)]  # 동, 남, 서, 북\n",
    "    queue = deque([(start, 0)])  # (위치, 거리)\n",
    "    visited = set()\n",
    "    \n",
    "    visited.add(start)\n",
    "    \n",
    "    while queue:\n",
    "        (x, y), distance = queue.popleft()\n",
    "        \n",
    "        if (x, y) == goal:\n",
    "            return distance\n",
    "        \n",
    "        for dx, dy in directions:\n",
    "            nx, ny = x + dx, y + dy\n",
    "            \n",
    "            if 0 <= nx < rows and 0 <= ny < cols and maze[nx][ny] == 0 and (nx, ny) not in visited:\n",
    "                queue.append(((nx, ny), distance + 1))\n",
    "                visited.add((nx, ny))\n",
    "    \n",
    "    return -1  # 목표에 도달할 수 없는 경우"
   ]
  },
  {
   "cell_type": "code",
   "execution_count": 63,
   "id": "02d478f0-c9f7-433a-9016-c84fd8424d02",
   "metadata": {},
   "outputs": [],
   "source": [
    "maze = [\n",
    "    [0, 1, 0, 0, 0],\n",
    "    [0, 1, 0, 1, 0],\n",
    "    [0, 0, 0, 1, 0],\n",
    "    [0, 1, 1, 1, 0],\n",
    "    [0, 0, 0, 0, 0]\n",
    "]"
   ]
  },
  {
   "cell_type": "code",
   "execution_count": 64,
   "id": "a168fa43-ae3f-4428-8d5d-bc48dd4139b3",
   "metadata": {},
   "outputs": [],
   "source": [
    "start = (0, 0)\n",
    "goal = (4, 4)"
   ]
  },
  {
   "cell_type": "code",
   "execution_count": 65,
   "id": "b74920b4-f30b-40dd-8729-0879de9d76e7",
   "metadata": {},
   "outputs": [
    {
     "name": "stdout",
     "output_type": "stream",
     "text": [
      "최단 거리: 8\n"
     ]
    }
   ],
   "source": [
    "print(\"최단 거리:\", bfs_maze(maze, start, goal))"
   ]
  },
  {
   "cell_type": "markdown",
   "id": "b3a981cb-fc3f-4956-8f16-563740020979",
   "metadata": {},
   "source": [
    "`-` 한 줄씩"
   ]
  },
  {
   "cell_type": "code",
   "execution_count": 72,
   "id": "a86473fd-87f6-4d70-9a73-aca3ee21d199",
   "metadata": {},
   "outputs": [
    {
     "data": {
      "text/plain": [
       "(5, 5)"
      ]
     },
     "execution_count": 72,
     "metadata": {},
     "output_type": "execute_result"
    }
   ],
   "source": [
    "rows, cols = len(maze), len(maze[0])\n",
    "rows, cols"
   ]
  },
  {
   "cell_type": "code",
   "execution_count": 73,
   "id": "32d3d2d5-ed78-4889-99b4-ca42a0c90bfd",
   "metadata": {},
   "outputs": [
    {
     "data": {
      "text/plain": [
       "[(0, 1), (1, 0), (0, -1), (-1, 0)]"
      ]
     },
     "execution_count": 73,
     "metadata": {},
     "output_type": "execute_result"
    }
   ],
   "source": [
    "directions = [(0, 1), (1, 0), (0, -1), (-1, 0)]  # 동, 남, 서, 북\n",
    "directions"
   ]
  },
  {
   "cell_type": "code",
   "execution_count": 74,
   "id": "eefedb1f-a48c-447e-ac83-f46c0c975ab6",
   "metadata": {},
   "outputs": [
    {
     "data": {
      "text/plain": [
       "deque([((0, 0), 0)])"
      ]
     },
     "execution_count": 74,
     "metadata": {},
     "output_type": "execute_result"
    }
   ],
   "source": [
    "queue = deque([(start, 0)])  # (위치, 거리)\n",
    "queue"
   ]
  },
  {
   "cell_type": "code",
   "execution_count": 75,
   "id": "5468dac5-21d0-4d75-9bc5-00ffd1898ed9",
   "metadata": {},
   "outputs": [
    {
     "data": {
      "text/plain": [
       "set()"
      ]
     },
     "execution_count": 75,
     "metadata": {},
     "output_type": "execute_result"
    }
   ],
   "source": [
    "visited = set()\n",
    "visited"
   ]
  },
  {
   "cell_type": "code",
   "execution_count": 76,
   "id": "e11f42f1-7b33-4f85-83e2-a37f21a1fc3b",
   "metadata": {},
   "outputs": [
    {
     "data": {
      "text/plain": [
       "{(0, 0)}"
      ]
     },
     "execution_count": 76,
     "metadata": {},
     "output_type": "execute_result"
    }
   ],
   "source": [
    "visited.add(start)\n",
    "visited"
   ]
  },
  {
   "cell_type": "markdown",
   "id": "3c852886-55d0-41ae-92fd-27484bf6205a",
   "metadata": {},
   "source": [
    "```python\n",
    "while queue:\n",
    "```"
   ]
  },
  {
   "cell_type": "code",
   "execution_count": 77,
   "id": "47e9ae90-1444-4d05-8568-0995f7d9d2b8",
   "metadata": {},
   "outputs": [
    {
     "data": {
      "text/plain": [
       "((0, 0), 0)"
      ]
     },
     "execution_count": 77,
     "metadata": {},
     "output_type": "execute_result"
    }
   ],
   "source": [
    "(x, y), distance = queue.popleft()\n",
    "(x, y), distance"
   ]
  },
  {
   "cell_type": "code",
   "execution_count": 80,
   "id": "7ca82d31-7b0a-4b6a-9c09-600c5361fd6e",
   "metadata": {},
   "outputs": [],
   "source": [
    "if (x, y) == goal:\n",
    "    # return distance\n",
    "    print(True)"
   ]
  },
  {
   "cell_type": "code",
   "execution_count": 82,
   "id": "28c061e0-68c1-4849-80cb-2d98413ce37e",
   "metadata": {},
   "outputs": [
    {
     "name": "stdout",
     "output_type": "stream",
     "text": [
      "0 1\n",
      "1 0\n",
      "0 -1\n",
      "-1 0\n"
     ]
    }
   ],
   "source": [
    "for dx, dy in directions:\n",
    "    print(dx, dy)\n",
    "    nx, ny = x + dx, y + dy"
   ]
  },
  {
   "cell_type": "code",
   "execution_count": 83,
   "id": "ff4866be-e4b6-4e3e-9b1a-15697aaa2f5b",
   "metadata": {},
   "outputs": [],
   "source": [
    "if 0 <= nx < rows and 0 <= ny < cols and maze[nx][ny] == 0 and (nx, ny) not in visited:\n",
    "    queue.append(((nx, ny), distance + 1))\n",
    "    visited.add((nx, ny))"
   ]
  },
  {
   "cell_type": "code",
   "execution_count": 84,
   "id": "8fbecc10-1590-4fd5-b364-10e5cd804d9f",
   "metadata": {},
   "outputs": [
    {
     "data": {
      "text/plain": [
       "(deque([]), {(0, 0)})"
      ]
     },
     "execution_count": 84,
     "metadata": {},
     "output_type": "execute_result"
    }
   ],
   "source": [
    "queue,visited"
   ]
  },
  {
   "cell_type": "markdown",
   "id": "a935d6b6-d923-495c-bfa0-3c1476926bf1",
   "metadata": {},
   "source": [
    "`-` print 해보기"
   ]
  },
  {
   "cell_type": "code",
   "execution_count": 108,
   "id": "191f9782-ad62-4d74-b789-3bf7ced62321",
   "metadata": {},
   "outputs": [],
   "source": [
    "def bfs_maze(maze, start, goal):\n",
    "    rows, cols = len(maze), len(maze[0])\n",
    "    directions = [(0, 1), (1, 0), (0, -1), (-1, 0)]  # 동, 남, 서, 북\n",
    "    queue = deque([(start, 0)])  # (위치, 거리)\n",
    "    visited = set()\n",
    "    \n",
    "    visited.add(start)\n",
    "    print(f'처음 방문 {visited}')\n",
    "    while queue:\n",
    "        (x, y), distance = queue.popleft()\n",
    "        \n",
    "        if (x, y) == goal:\n",
    "            return distance\n",
    "        \n",
    "        for dx, dy in directions:\n",
    "            nx, ny = x + dx, y + dy\n",
    "            \n",
    "            if 0 <= nx < rows and 0 <= ny < cols and maze[nx][ny] == 0 and (nx, ny) not in visited:\n",
    "                queue.append(((nx, ny), distance + 1))\n",
    "                visited.add((nx, ny))\n",
    "                print(nx,ny)\n",
    "    \n",
    "    return -1  # 목표에 도달할 수 없는 경우"
   ]
  },
  {
   "cell_type": "code",
   "execution_count": 109,
   "id": "2269daf2-725c-44d8-a74b-5804f90243cc",
   "metadata": {},
   "outputs": [],
   "source": [
    "maze = [\n",
    "    [0, 1, 0, 0, 0],\n",
    "    [0, 1, 0, 1, 0],\n",
    "    [0, 0, 0, 1, 0],\n",
    "    [0, 1, 1, 1, 0],\n",
    "    [0, 0, 0, 0, 0]\n",
    "]"
   ]
  },
  {
   "cell_type": "code",
   "execution_count": 110,
   "id": "35c89f9c-cbfa-4a7d-8d30-5edcecdbb798",
   "metadata": {},
   "outputs": [],
   "source": [
    "start = (0, 0)\n",
    "goal = (4, 4)"
   ]
  },
  {
   "cell_type": "code",
   "execution_count": 111,
   "id": "6f8aef6e-cb1e-4e19-adb6-5ad9eb9349ac",
   "metadata": {},
   "outputs": [
    {
     "name": "stdout",
     "output_type": "stream",
     "text": [
      "처음 방문 {(0, 0)}\n",
      "1 0\n",
      "2 0\n",
      "2 1\n",
      "3 0\n",
      "2 2\n",
      "4 0\n",
      "1 2\n",
      "4 1\n",
      "0 2\n",
      "4 2\n",
      "0 3\n",
      "4 3\n",
      "0 4\n",
      "4 4\n",
      "1 4\n"
     ]
    },
    {
     "data": {
      "text/plain": [
       "8"
      ]
     },
     "execution_count": 111,
     "metadata": {},
     "output_type": "execute_result"
    }
   ],
   "source": [
    "bfs_maze(maze, start, goal)"
   ]
  },
  {
   "cell_type": "markdown",
   "id": "148cc0c6-93c7-4394-99e4-ff24312201ba",
   "metadata": {},
   "source": [
    "# 예제 4"
   ]
  },
  {
   "cell_type": "markdown",
   "id": "ed8e739a-7867-491c-b263-50d2f407d0a3",
   "metadata": {},
   "source": [
    "섬의 개수 구하기"
   ]
  },
  {
   "cell_type": "code",
   "execution_count": 112,
   "id": "b8b97dab-4804-41d6-8620-e8500e58d289",
   "metadata": {},
   "outputs": [],
   "source": [
    "def count_islands(grid):\n",
    "    rows, cols = len(grid), len(grid[0])\n",
    "    visited = [[False] * cols for _ in range(rows)]\n",
    "    directions = [(0, 1), (1, 0), (0, -1), (-1, 0)]\n",
    "\n",
    "    def bfs(x, y):\n",
    "        queue = deque([(x, y)])\n",
    "        visited[x][y] = True\n",
    "\n",
    "        while queue:\n",
    "            cx, cy = queue.popleft()\n",
    "            for dx, dy in directions:\n",
    "                nx, ny = cx + dx, cy + dy\n",
    "                if 0 <= nx < rows and 0 <= ny < cols and grid[nx][ny] == 1 and not visited[nx][ny]:\n",
    "                    queue.append((nx, ny))\n",
    "                    visited[nx][ny] = True\n",
    "\n",
    "    island_count = 0\n",
    "    for i in range(rows):\n",
    "        for j in range(cols):\n",
    "            if grid[i][j] == 1 and not visited[i][j]:\n",
    "                bfs(i, j)\n",
    "                island_count += 1\n",
    "\n",
    "    return island_count"
   ]
  },
  {
   "cell_type": "code",
   "execution_count": 113,
   "id": "cbe4e07f-c08e-4ac4-905a-5854e8830da7",
   "metadata": {},
   "outputs": [],
   "source": [
    "grid = [\n",
    "    [1, 1, 0, 0, 0],\n",
    "    [1, 0, 0, 1, 1],\n",
    "    [0, 0, 0, 1, 0],\n",
    "    [0, 1, 1, 0, 0]\n",
    "]"
   ]
  },
  {
   "cell_type": "code",
   "execution_count": 114,
   "id": "046b6a4e-6149-4a2f-a03d-71edd1463b9e",
   "metadata": {},
   "outputs": [
    {
     "name": "stdout",
     "output_type": "stream",
     "text": [
      "섬의 개수: 3\n"
     ]
    }
   ],
   "source": [
    "print(\"섬의 개수:\", count_islands(grid))"
   ]
  },
  {
   "cell_type": "markdown",
   "id": "f3b2541b-352f-48c6-8f80-7f1472641cd0",
   "metadata": {},
   "source": [
    "`-` 한 줄씩"
   ]
  },
  {
   "cell_type": "code",
   "execution_count": 122,
   "id": "7621b9a1-9ac4-4074-894e-7eb41c22d1bd",
   "metadata": {},
   "outputs": [
    {
     "data": {
      "text/plain": [
       "(4, 5)"
      ]
     },
     "execution_count": 122,
     "metadata": {},
     "output_type": "execute_result"
    }
   ],
   "source": [
    "rows, cols = len(grid), len(grid[0])\n",
    "rows, cols"
   ]
  },
  {
   "cell_type": "code",
   "execution_count": 123,
   "id": "70cd8336-59f2-4888-99eb-18e47996fff6",
   "metadata": {},
   "outputs": [
    {
     "data": {
      "text/plain": [
       "[[False, False, False, False, False],\n",
       " [False, False, False, False, False],\n",
       " [False, False, False, False, False],\n",
       " [False, False, False, False, False]]"
      ]
     },
     "execution_count": 123,
     "metadata": {},
     "output_type": "execute_result"
    }
   ],
   "source": [
    "visited = [[False] * cols for _ in range(rows)]\n",
    "visited"
   ]
  },
  {
   "cell_type": "code",
   "execution_count": 124,
   "id": "0c91acd8-f850-4e5e-bf98-c72be2a6a35b",
   "metadata": {},
   "outputs": [
    {
     "data": {
      "text/plain": [
       "[(0, 1), (1, 0), (0, -1), (-1, 0)]"
      ]
     },
     "execution_count": 124,
     "metadata": {},
     "output_type": "execute_result"
    }
   ],
   "source": [
    "directions = [(0, 1), (1, 0), (0, -1), (-1, 0)]\n",
    "directions"
   ]
  },
  {
   "cell_type": "code",
   "execution_count": 126,
   "id": "298407b0-1e9a-4c01-a9e0-596cfa021c5a",
   "metadata": {},
   "outputs": [],
   "source": [
    "def bfs(x, y):\n",
    "    queue = deque([(x, y)])\n",
    "    visited[x][y] = True\n",
    "    \n",
    "    cx, cy = queue.popleft()\n",
    "    \n",
    "    for dx, dy in directions:\n",
    "        nx, ny = cx + dx, cy + dy\n",
    "        if 0 <= nx < rows and 0 <= ny < cols and grid[nx][ny] == 1 and not visited[nx][ny]:\n",
    "            queue.append((nx, ny))\n",
    "            visited[nx][ny] = True"
   ]
  },
  {
   "cell_type": "markdown",
   "id": "bb083278-6f21-418a-846f-be4e8cda86b9",
   "metadata": {},
   "source": [
    "```python\n",
    "while queue:\n",
    "```"
   ]
  },
  {
   "cell_type": "code",
   "execution_count": 127,
   "id": "59b2b557-f217-4f00-92b1-fcdd2580c575",
   "metadata": {},
   "outputs": [],
   "source": [
    "island_count = 0"
   ]
  },
  {
   "cell_type": "markdown",
   "id": "09d29297-41ce-4f10-bd45-611acf3e53d3",
   "metadata": {},
   "source": [
    "```python\n",
    "for i in range(rows):\n",
    "    for j in range(cols):\n",
    "```"
   ]
  },
  {
   "cell_type": "code",
   "execution_count": 128,
   "id": "edeca33d-6df2-4ec1-a4d5-a398d620d373",
   "metadata": {},
   "outputs": [],
   "source": [
    "i=0\n",
    "j=0"
   ]
  },
  {
   "cell_type": "code",
   "execution_count": 129,
   "id": "0fc2fa1a-23bb-4d85-90fc-59dfd93cf11b",
   "metadata": {},
   "outputs": [
    {
     "data": {
      "text/plain": [
       "1"
      ]
     },
     "execution_count": 129,
     "metadata": {},
     "output_type": "execute_result"
    }
   ],
   "source": [
    "if grid[i][j] == 1 and not visited[i][j]:\n",
    "    bfs(i, j)\n",
    "    island_count += 1\n",
    "island_count"
   ]
  },
  {
   "cell_type": "markdown",
   "id": "cbedbe75-7f65-4256-9849-c15e43e8c9a4",
   "metadata": {},
   "source": [
    "`-` 결과 하나씩"
   ]
  },
  {
   "cell_type": "code",
   "execution_count": 130,
   "id": "5cbc58fe-1129-4cc9-99fb-fbdb12199d60",
   "metadata": {},
   "outputs": [],
   "source": [
    "def count_islands(grid):\n",
    "    # rows, cols: 격자의 행과 열의 개수를 저장합니다.\n",
    "    rows, cols = len(grid), len(grid[0])\n",
    "    # visited 리스트: 각 위치의 방문 여부를 기록합니다.\n",
    "    visited = [[False] * cols for _ in range(rows)]\n",
    "    # directions 리스트: 현재 위치에서 상하좌우 탐색을 위한 방향 정보를 나타냅니다.\n",
    "    directions = [(0, 1), (1, 0), (0, -1), (-1, 0)]\n",
    "    # (0, 1): 오른쪽\n",
    "    # (1, 0): 아래쪽\n",
    "    # (0, -1): 왼쪽\n",
    "    # (-1, 0): 위쪽\n",
    "\n",
    "    # bfs(x, y) 함수: 특정 육지에서 시작하여 연결된 모든 육지를 탐색하고 방문합니다.\n",
    "    def bfs(x, y):\n",
    "        # 큐(queue)에 시작 좌표 (x, y)를 추가합니다.\n",
    "        queue = deque([(x, y)])\n",
    "        visited[x][y] = True\n",
    "\n",
    "        # 큐가 빌 때까지 연결된 모든 육지를 탐색하며 방문 여부를 기록합니다.\n",
    "        while queue:\n",
    "            # (0,0)에서 첫 번째 1을 발견하고 BFS 탐색을 시작합니다.\n",
    "            # 이 위치와 연결된 (0,1) 및 (1,0) 위치도 큐에 추가되고 방문됩니다.\n",
    "            # (1,3)에서 두 번째 1을 발견하면 BFS 탐색을 통해 (1,4)와 (2,3)을 방문합니다.\n",
    "            # 큐가 빌 때까지 상하좌우 연결된 육지를 탐색하며 방문합니다.\n",
    "            # 방문한 위치는 다시 탐색하지 않도록 visited에 표시합니다.\n",
    "            cx, cy = queue.popleft()\n",
    "            for dx, dy in directions:\n",
    "                nx, ny = cx + dx, cy + dy\n",
    "                if 0 <= nx < rows and 0 <= ny < cols and grid[nx][ny] == 1 and not visited[nx][ny]:\n",
    "                    queue.append((nx, ny))\n",
    "                    visited[nx][ny] = True\n",
    "\n",
    "    island_count = 0\n",
    "    for i in range(rows):\n",
    "        for j in range(cols):\n",
    "            if grid[i][j] == 1 and not visited[i][j]:\n",
    "                bfs(i, j) # 연결된 육지 탐색\n",
    "                print(f'육지를 탐색한 좌표 {i,j}')\n",
    "                island_count += 1 # 새로운 섬 발견 시 개수 증가\n",
    "                \n",
    "    # 격자의 모든 위치를 순회하며 아직 방문하지 않은 육지를 발견할 때마다 BFS 탐색을 수행합니다.\n",
    "    # BFS 탐색이 끝난 후 island_count를 증가시켜 섬 개수를 기록합니다.\n",
    "\n",
    "    return island_count"
   ]
  },
  {
   "cell_type": "markdown",
   "id": "b3bfa917-bc36-4306-81d0-3a0e3727d3ec",
   "metadata": {},
   "source": [
    "- 1은 육지를 나타내며, 상하좌우로 연결된 1은 하나의 섬입니다.\n",
    "- 이 예제에서는 총 3개의 섬이 있습니다:\n",
    "- 첫 번째 섬: (0,0), (0,1), (1,0)\n",
    "- 두 번째 섬: (1,3), (1,4), (2,3)\n",
    "- 세 번째 섬: (3,1), (3,2)"
   ]
  },
  {
   "cell_type": "code",
   "execution_count": 131,
   "id": "6f9fc658-b1b6-455e-95cf-cbf9cdce01a3",
   "metadata": {},
   "outputs": [],
   "source": [
    "grid = [\n",
    "    [1, 1, 0, 0, 0],\n",
    "    [1, 0, 0, 1, 1],\n",
    "    [0, 0, 0, 1, 0],\n",
    "    [0, 1, 1, 0, 0]\n",
    "]"
   ]
  },
  {
   "cell_type": "code",
   "execution_count": 132,
   "id": "d3603524-4dda-4f4e-a624-93a7e52352ec",
   "metadata": {},
   "outputs": [
    {
     "name": "stdout",
     "output_type": "stream",
     "text": [
      "육지를 탐색한 좌표 (0, 0)\n",
      "육지를 탐색한 좌표 (1, 3)\n",
      "육지를 탐색한 좌표 (3, 1)\n",
      "섬의 개수: 3\n"
     ]
    }
   ],
   "source": [
    "print(\"섬의 개수:\", count_islands(grid))"
   ]
  },
  {
   "cell_type": "markdown",
   "id": "81fd3135-c156-4e9d-89ce-5cea7f389a41",
   "metadata": {},
   "source": [
    "- BFS를 선택한 이유\n",
    "- BFS는 가까운 노드부터 탐색하므로 섬의 각 부분을 효율적으로 탐색할 수 있습니다.\n",
    "- 모든 연결된 육지를 한 번에 탐색하며 이미 방문한 위치를 다시 탐색하지 않기 때문에 탐색 중복을 방지합니다."
   ]
  },
  {
   "cell_type": "markdown",
   "id": "5b486013-5fae-48d9-b270-8c8da52b01f2",
   "metadata": {},
   "source": [
    "# 예제 5"
   ]
  },
  {
   "cell_type": "code",
   "execution_count": 133,
   "id": "66f5d6e0-f555-4a98-8079-b0418144538c",
   "metadata": {},
   "outputs": [],
   "source": [
    "class TreeNode:\n",
    "    def __init__(self, val=0, left=None, right=None):\n",
    "        self.val = val\n",
    "        self.left = left\n",
    "        self.right = right\n",
    "\n",
    "from collections import deque\n",
    "\n",
    "def level_order_traversal(root):\n",
    "    if not root:\n",
    "        return []\n",
    "\n",
    "    result = []\n",
    "    queue = deque([root])\n",
    "\n",
    "    while queue:\n",
    "        level = []\n",
    "        for _ in range(len(queue)):\n",
    "            node = queue.popleft()\n",
    "            level.append(node.val)\n",
    "            if node.left:\n",
    "                queue.append(node.left)\n",
    "            if node.right:\n",
    "                queue.append(node.right)\n",
    "        result.append(level)\n",
    "\n",
    "    return result"
   ]
  },
  {
   "cell_type": "code",
   "execution_count": 139,
   "id": "2ceee0ce-bb53-4d17-a97e-f5d469539284",
   "metadata": {},
   "outputs": [],
   "source": [
    "# 트리 생성\n",
    "root = TreeNode(1)\n",
    "root.left = TreeNode(2)\n",
    "root.right = TreeNode(3)\n",
    "root.left.left = TreeNode(4)\n",
    "root.left.right = TreeNode(5)\n",
    "root.right.right = TreeNode(6)"
   ]
  },
  {
   "cell_type": "code",
   "execution_count": 135,
   "id": "627dfb7e-47fb-4454-9597-8cb93d0e5401",
   "metadata": {},
   "outputs": [
    {
     "name": "stdout",
     "output_type": "stream",
     "text": [
      "레벨별 탐색 결과: [[1], [2, 3], [4, 5, 6]]\n"
     ]
    }
   ],
   "source": [
    "print(\"레벨별 탐색 결과:\", level_order_traversal(root))"
   ]
  },
  {
   "cell_type": "markdown",
   "id": "4993fdc6-0031-4258-83ef-0b03eaa65155",
   "metadata": {},
   "source": [
    "`-` 한 줄씩"
   ]
  },
  {
   "cell_type": "markdown",
   "id": "01a1aebf-94d3-4203-935d-9979e6f05267",
   "metadata": {},
   "source": [
    "트리를 만드는 과정"
   ]
  },
  {
   "cell_type": "code",
   "execution_count": 136,
   "id": "f8d0ff80-2586-4888-90fe-9594c1ae5c10",
   "metadata": {},
   "outputs": [],
   "source": [
    "class TreeNode:\n",
    "    def __init__(self, val=0, left=None, right=None):\n",
    "        self.val = val\n",
    "        self.left = left\n",
    "        self.right = right"
   ]
  },
  {
   "cell_type": "markdown",
   "id": "7af81592-6e31-4f18-b5d4-db24ab81640f",
   "metadata": {},
   "source": [
    "```python\n",
    "if not root:\n",
    "    return []\n",
    "```"
   ]
  },
  {
   "cell_type": "code",
   "execution_count": 141,
   "id": "23b6f4e6-47f3-4af9-b1be-49df233c35b4",
   "metadata": {},
   "outputs": [
    {
     "data": {
      "text/plain": [
       "[]"
      ]
     },
     "execution_count": 141,
     "metadata": {},
     "output_type": "execute_result"
    }
   ],
   "source": [
    "result = []\n",
    "result"
   ]
  },
  {
   "cell_type": "code",
   "execution_count": 142,
   "id": "d699f76e-5fc1-47f1-91d5-8751b94ab983",
   "metadata": {},
   "outputs": [
    {
     "data": {
      "text/plain": [
       "deque([<__main__.TreeNode at 0x7f9463197040>])"
      ]
     },
     "execution_count": 142,
     "metadata": {},
     "output_type": "execute_result"
    }
   ],
   "source": [
    "queue = deque([root])\n",
    "queue"
   ]
  },
  {
   "cell_type": "code",
   "execution_count": 143,
   "id": "95b69a6d-dcf6-40a6-8664-6ab2b5e6cc00",
   "metadata": {},
   "outputs": [
    {
     "data": {
      "text/plain": [
       "[[1], [2, 3], [4, 5, 6]]"
      ]
     },
     "execution_count": 143,
     "metadata": {},
     "output_type": "execute_result"
    }
   ],
   "source": [
    "while queue:\n",
    "    level = []\n",
    "    for _ in range(len(queue)):\n",
    "        node = queue.popleft()\n",
    "        level.append(node.val)\n",
    "        if node.left:\n",
    "            queue.append(node.left)\n",
    "        if node.right:\n",
    "            queue.append(node.right)\n",
    "    result.append(level)\n",
    "result"
   ]
  },
  {
   "cell_type": "markdown",
   "id": "69a83be7-cebc-47b1-a514-2b45caade8b7",
   "metadata": {},
   "source": [
    "`-` 설명"
   ]
  },
  {
   "cell_type": "markdown",
   "id": "853deeb0-8f0c-47ea-9138-570c91979e5c",
   "metadata": {},
   "source": [
    "- 아래 이진구조"
   ]
  },
  {
   "cell_type": "markdown",
   "id": "ed109d22-98ae-4953-ae6f-e6100fb22391",
   "metadata": {},
   "source": [
    "       1\n",
    "      / \\\n",
    "     2   3\n",
    "    / \\    \\\n",
    "   4   5   6"
   ]
  },
  {
   "cell_type": "code",
   "execution_count": 167,
   "id": "dd7d95b0-7918-4fb4-84a0-403f8b1e285f",
   "metadata": {},
   "outputs": [],
   "source": [
    "# TreeNode 클래스는 각 노드를 나타냅니다.\n",
    "class TreeNode:\n",
    "    # 각 노드는 값을 저장하는 val, 왼쪽 자식을 가리키는 left, 오른쪽 자식을 가리키는 right 속성을 가집니다.\n",
    "    def __init__(self, val=0, left=None, right=None):\n",
    "        self.val = val\n",
    "        self.left = left\n",
    "        self.right = right\n",
    "\n",
    "# 탐색을 위해 큐(queue)를 사용합니다. 큐는 deque를 통해 효율적으로 구현됩니다.\n",
    "# 트리가 비어 있는 경우 빈 리스트를 반환합니다.\n",
    "from collections import deque\n",
    "\n",
    "def level_order_traversal(root):\n",
    "    if not root:\n",
    "        return []\n",
    "\n",
    "    # result: 각 레벨의 탐색 결과를 저장합니다.\n",
    "    result = []\n",
    "    # queue: 현재 탐색할 노드들을 저장합니다. 처음에는 루트 노드 root만 포함합니다.\n",
    "    queue = deque([root])\n",
    "\n",
    "    # 큐 순회: 큐에 있는 노드를 하나씩 꺼내 현재 레벨의 노드 값(node.val)을 level 리스트에 추가합니다.\n",
    "    while queue:\n",
    "        # 각 레벨에 대해 현재 큐의 길이만큼 반복하여 해당 레벨의 모든 노드를 탐색합니다.\n",
    "        level = []\n",
    "        for _ in range(len(queue)):\n",
    "            node = queue.popleft()\n",
    "            level.append(node.val)\n",
    "            \n",
    "            # 현재 노드가 왼쪽 또는 오른쪽 자식을 가지면 그 자식을 큐에 추가합니다.\n",
    "            if node.left:\n",
    "                queue.append(node.left)\n",
    "            # 이렇게 하면 다음 레벨의 노드들이 큐에 저장됩니다.\n",
    "            if node.right:\n",
    "                queue.append(node.right)\n",
    "        result.append(level)\n",
    "        print(f'레벨 {result}')\n",
    "\n",
    "    return result"
   ]
  },
  {
   "cell_type": "code",
   "execution_count": 170,
   "id": "23d0b892-776a-4346-a25c-a63dd1025cbd",
   "metadata": {},
   "outputs": [],
   "source": [
    "# 트리 생성\n",
    "root = TreeNode(1)\n",
    "root.left = TreeNode(2)\n",
    "root.right = TreeNode(3)\n",
    "root.left.left = TreeNode(4)\n",
    "root.left.right = TreeNode(5)\n",
    "root.right.right = TreeNode(6)"
   ]
  },
  {
   "cell_type": "code",
   "execution_count": 171,
   "id": "ffd7f007-7b44-4c06-8ffd-68b37b4074b5",
   "metadata": {},
   "outputs": [
    {
     "name": "stdout",
     "output_type": "stream",
     "text": [
      "레벨 [[1]]\n",
      "레벨 [[1], [2, 3]]\n",
      "레벨 [[1], [2, 3], [4, 5, 6]]\n",
      "레벨별 탐색 결과: [[1], [2, 3], [4, 5, 6]]\n"
     ]
    }
   ],
   "source": [
    "print(\"레벨별 탐색 결과:\", level_order_traversal(root))"
   ]
  },
  {
   "cell_type": "markdown",
   "id": "41d78b20-20d7-444b-a66b-450a538688b5",
   "metadata": {},
   "source": [
    "- 큐 상태 변화:\n",
    "- Level 1: [1]      => 큐에 [2, 3] 추가\n",
    "- Level 2: [2, 3]   => 큐에 [4, 5, 6] 추가\n",
    "- Level 3: [4, 5, 6] => 큐 비어있음 (탐색 종료)"
   ]
  },
  {
   "cell_type": "markdown",
   "id": "b5326990-cf61-4111-82c0-80b0564159d2",
   "metadata": {},
   "source": [
    "- BFS 선택 이유\n",
    "- BFS는 레벨 순서 탐색에 적합합니다.\n",
    "- 각 레벨을 탐색하면서 자연스럽게 층별 탐색 결과를 얻을 수 있습니다."
   ]
  },
  {
   "cell_type": "code",
   "execution_count": null,
   "id": "a5ea5dc6-2d8c-4feb-aa74-3b7fa2b33e8e",
   "metadata": {},
   "outputs": [],
   "source": []
  },
  {
   "cell_type": "code",
   "execution_count": null,
   "id": "e0dd18df-aac5-46bd-bcfb-6d54a6bf64be",
   "metadata": {},
   "outputs": [],
   "source": []
  }
 ],
 "metadata": {
  "kernelspec": {
   "display_name": "Python 3",
   "language": "python",
   "name": "python3"
  },
  "language_info": {
   "codemirror_mode": {
    "name": "ipython",
    "version": 3
   },
   "file_extension": ".py",
   "mimetype": "text/x-python",
   "name": "python",
   "nbconvert_exporter": "python",
   "pygments_lexer": "ipython3",
   "version": "3.8.0"
  }
 },
 "nbformat": 4,
 "nbformat_minor": 5
}
