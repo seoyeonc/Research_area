{
 "cells": [
  {
   "cell_type": "raw",
   "id": "426c04fa-cbed-4e4d-9eae-ae26551263fa",
   "metadata": {
    "id": "cac470df-29e7-4148-9bbd-d8b9a32fa570",
    "tags": []
   },
   "source": [
    "---\n",
    "title: \"**[Coding Test]**요격 시스템\"\n",
    "author: \"SEOYEON CHOI\"\n",
    "date: \"2025-01-12\"\n",
    "---"
   ]
  },
  {
   "cell_type": "markdown",
   "id": "61bfb0c7-fb44-46c2-9772-34721412809f",
   "metadata": {},
   "source": [
    "`-` 링크"
   ]
  },
  {
   "cell_type": "markdown",
   "id": "573de018-00eb-4e34-a348-94709fc79451",
   "metadata": {},
   "source": [
    "https://school.programmers.co.kr/learn/courses/30/lessons/181188"
   ]
  },
  {
   "cell_type": "markdown",
   "id": "b1f701b9-97a4-4bb6-ac6a-1335fe8ac674",
   "metadata": {},
   "source": [
    "`-` 문제"
   ]
  },
  {
   "cell_type": "markdown",
   "id": "7a34e773-c6cc-4a0d-b1ee-e87a4cbf81e6",
   "metadata": {},
   "source": [
    "문제 설명\n",
    "\n",
    "A 나라가 B 나라를 침공하였습니다. B 나라의 대부분의 전략 자원은 아이기스 군사 기지에 집중되어 있기 때문에 A 나라는 B 나라의 아이기스 군사 기지에 융단폭격을 가했습니다.\n",
    "\n",
    "A 나라의 공격에 대항하여 아이기스 군사 기지에서는 무수히 쏟아지는 폭격 미사일들을 요격하려고 합니다. 이곳에는 백발백중을 자랑하는 요격 시스템이 있지만 운용 비용이 상당하기 때문에 미사일을 최소로 사용해서 모든 폭격 미사일을 요격하려 합니다.\n",
    "\n",
    "A 나라와 B 나라가 싸우고 있는 이 세계는 2 차원 공간으로 이루어져 있습니다. A 나라가 발사한 폭격 미사일은 x 축에 평행한 직선 형태의 모양이며 개구간을 나타내는 정수 쌍 (s, e) 형태로 표현됩니다. B 나라는 특정 x 좌표에서 y 축에 수평이 되도록 미사일을 발사하며, 발사된 미사일은 해당 x 좌표에 걸쳐있는 모든 폭격 미사일을 관통하여 한 번에 요격할 수 있습니다. 단, 개구간 (s, e)로 표현되는 폭격 미사일은 s와 e에서 발사하는 요격 미사일로는 요격할 수 없습니다. 요격 미사일은 실수인 x 좌표에서도 발사할 수 있습니다.\n",
    "\n",
    "각 폭격 미사일의 x 좌표 범위 목록 targets이 매개변수로 주어질 때, 모든 폭격 미사일을 요격하기 위해 필요한 요격 미사일 수의 최솟값을 return 하도록 solution 함수를 완성해 주세요.\n",
    "\n",
    "제한 사항\n",
    "\n",
    "1 ≤ targets의 길이 ≤ 500,000\n",
    "\n",
    "targets의 각 행은 [s,e] 형태입니다.\n",
    "\n",
    "이는 한 폭격 미사일의 x 좌표 범위를 나타내며, 개구간 (s, e)에서 요격해야 합니다.\n",
    "\n",
    "0 ≤ s < e ≤ 100,000,000"
   ]
  },
  {
   "cell_type": "markdown",
   "id": "00cdc54c-1106-4b69-b6aa-c4dbb83d8241",
   "metadata": {},
   "source": [
    "`-` 답"
   ]
  },
  {
   "cell_type": "code",
   "execution_count": 68,
   "id": "989c3748-c2a8-47a4-bc79-368bc18ecd0c",
   "metadata": {},
   "outputs": [],
   "source": [
    "def solution(targets):\n",
    "    targets.sort(key = lambda x:[x[1],x[0]])\n",
    "    \n",
    "    count, end = 0,0\n",
    "    \n",
    "    for target in targets:\n",
    "        if target[0] >= end:\n",
    "            count += 1\n",
    "            end = target[1]\n",
    "        \n",
    "    answer = count\n",
    "    return answer"
   ]
  },
  {
   "cell_type": "code",
   "execution_count": 69,
   "id": "8f262c86-1f8b-4f31-af64-8456a1b3ed3a",
   "metadata": {},
   "outputs": [
    {
     "data": {
      "text/plain": [
       "3"
      ]
     },
     "execution_count": 69,
     "metadata": {},
     "output_type": "execute_result"
    }
   ],
   "source": [
    "solution([[4,5],[4,8],[10,14],[11,13],[5,12],[3,7],[1,4]])\n",
    "# 3"
   ]
  },
  {
   "cell_type": "markdown",
   "id": "7fcd5f11-ba03-40d7-81f9-266831e1ce45",
   "metadata": {},
   "source": [
    "`-` 한 줄씩"
   ]
  },
  {
   "cell_type": "code",
   "execution_count": 62,
   "id": "a508620b-65fa-4c01-be3e-c390df9f33dc",
   "metadata": {},
   "outputs": [],
   "source": [
    "targets = [[4,5],[4,8],[10,14],[11,13],[5,12],[3,7],[1,4]]"
   ]
  },
  {
   "cell_type": "code",
   "execution_count": 63,
   "id": "89b76b33-6fc0-42bd-9e1f-3447c0030a13",
   "metadata": {},
   "outputs": [
    {
     "data": {
      "text/plain": [
       "[[1, 4], [4, 5], [3, 7], [4, 8], [5, 12], [11, 13], [10, 14]]"
      ]
     },
     "execution_count": 63,
     "metadata": {},
     "output_type": "execute_result"
    }
   ],
   "source": [
    "targets.sort(key = lambda x:[x[1],x[0]])\n",
    "targets"
   ]
  },
  {
   "cell_type": "code",
   "execution_count": 64,
   "id": "45e009bc-74f0-481b-977d-a7072b96fa8a",
   "metadata": {},
   "outputs": [],
   "source": [
    "count, end = 0,0"
   ]
  },
  {
   "cell_type": "code",
   "execution_count": 65,
   "id": "80ff3535-b3db-4225-b554-098d2f425760",
   "metadata": {},
   "outputs": [],
   "source": [
    "for target in targets:\n",
    "    if target[0] >= end:\n",
    "        count += 1\n",
    "        end = target[1]"
   ]
  },
  {
   "cell_type": "code",
   "execution_count": 66,
   "id": "36486a03-f4f6-47b1-874d-490e258fbd42",
   "metadata": {},
   "outputs": [
    {
     "data": {
      "text/plain": [
       "3"
      ]
     },
     "execution_count": 66,
     "metadata": {},
     "output_type": "execute_result"
    }
   ],
   "source": [
    "count"
   ]
  },
  {
   "cell_type": "markdown",
   "id": "d0eefe33-fbd2-42c2-adbf-546c52b00072",
   "metadata": {},
   "source": [
    "`-` 그리디 알고리즘"
   ]
  },
  {
   "cell_type": "markdown",
   "id": "add28b75-f119-4214-8ccd-a8d9433089a6",
   "metadata": {},
   "source": [
    "그리디 알고리즘은 각 단계에서 최선의 선택을 하는 방식으로 문제를 해결합니다.\n",
    "\n",
    "이 문제는 주어진 목표(targets)들 중에서 겹치지 않는 구간의 최대 개수를 찾는 문제로 보입니다. 각 목표는 시작과 끝을 나타내는 쌍으로 주어집니다. 그리디 알고리즘에서는 다음과 같은 방식으로 해결합니다:\n",
    "\n",
    "정렬: 끝나는 시간을 기준으로 목표를 오름차순으로 정렬합니다. 끝나는 시간이 빠를수록 더 많은 목표를 선택할 수 있기 때문에 우선적으로 선택됩니다.\n",
    "\n",
    "선택: 정렬된 목표들을 순차적으로 검사하면서, 현재 목표의 시작 시간이 이전 목표의 끝 시간 이상인 경우에만 선택합니다. 이렇게 함으로써 겹치지 않는 최대 개수의 목표를 선택할 수 있습니다."
   ]
  },
  {
   "cell_type": "code",
   "execution_count": null,
   "id": "beb61d33-723d-474a-8287-f89a3751bc93",
   "metadata": {},
   "outputs": [],
   "source": []
  }
 ],
 "metadata": {
  "kernelspec": {
   "display_name": "Python 3",
   "language": "python",
   "name": "python3"
  },
  "language_info": {
   "codemirror_mode": {
    "name": "ipython",
    "version": 3
   },
   "file_extension": ".py",
   "mimetype": "text/x-python",
   "name": "python",
   "nbconvert_exporter": "python",
   "pygments_lexer": "ipython3",
   "version": "3.8.0"
  }
 },
 "nbformat": 4,
 "nbformat_minor": 5
}
