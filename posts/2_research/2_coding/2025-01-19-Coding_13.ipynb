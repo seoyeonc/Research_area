{
 "cells": [
  {
   "cell_type": "raw",
   "id": "2e1ffb2d-46ac-4301-8b7b-2664b803b783",
   "metadata": {
    "id": "cac470df-29e7-4148-9bbd-d8b9a32fa570",
    "tags": []
   },
   "source": [
    "---\n",
    "title: \"**[Coding Test]**추억 점수\"\n",
    "author: \"SEOYEON CHOI\"\n",
    "date: \"2025-01-19\"\n",
    "---"
   ]
  },
  {
   "cell_type": "markdown",
   "id": "9d096b4d-74ae-4cd3-922c-dbaf06406489",
   "metadata": {},
   "source": [
    "`-` 링크"
   ]
  },
  {
   "cell_type": "markdown",
   "id": "59265d2d-66a5-4ae2-b2fc-22eef80b4aa3",
   "metadata": {},
   "source": [
    "https://school.programmers.co.kr/learn/courses/30/lessons/176963"
   ]
  },
  {
   "cell_type": "markdown",
   "id": "b12336d3-1aa9-4a17-a219-b22aaaa3aee9",
   "metadata": {},
   "source": [
    "`-` 문제 설명"
   ]
  },
  {
   "cell_type": "markdown",
   "id": "61fc0b97-7ce3-430e-be7d-ac0708cc084e",
   "metadata": {},
   "source": [
    "사진들을 보며 추억에 젖어 있던 루는 사진별로 추억 점수를 매길려고 합니다. 사진 속에 나오는 인물의 그리움 점수를 모두 합산한 값이 해당 사진의 추억 점수가 됩니다. 예를 들어 사진 속 인물의 이름이 [\"may\", \"kein\", \"kain\"]이고 각 인물의 그리움 점수가 [5점, 10점, 1점]일 때 해당 사진의 추억 점수는 16(5 + 10 + 1)점이 됩니다. 다른 사진 속 인물의 이름이 [\"kali\", \"mari\", \"don\", \"tony\"]이고 [\"kali\", \"mari\", \"don\"]의 그리움 점수가 각각 [11점, 1점, 55점]]이고, \"tony\"는 그리움 점수가 없을 때, 이 사진의 추억 점수는 3명의 그리움 점수를 합한 67(11 + 1 + 55)점입니다.\n",
    "\n",
    "그리워하는 사람의 이름을 담은 문자열 배열 name, 각 사람별 그리움 점수를 담은 정수 배열 yearning, 각 사진에 찍힌 인물의 이름을 담은 이차원 문자열 배열 photo가 매개변수로 주어질 때, 사진들의 추억 점수를 photo에 주어진 순서대로 배열에 담아 return하는 solution 함수를 완성해주세요.\n",
    "\n",
    "제한사항\n",
    "\n",
    "3 ≤ name의 길이 = yearning의 길이≤ 100\n",
    "\n",
    "3 ≤ name의 원소의 길이 ≤ 7\n",
    "\n",
    "name의 원소들은 알파벳 소문자로만 이루어져 있습니다.\n",
    "\n",
    "name에는 중복된 값이 들어가지 않습니다.\n",
    "\n",
    "1 ≤ yearning[i] ≤ 100\n",
    "\n",
    "yearning[i]는 i번째 사람의 그리움 점수입니다.\n",
    "\n",
    "3 ≤ photo의 길이 ≤ 100\n",
    "\n",
    "1 ≤ photo[i]의 길이 ≤ 100\n",
    "\n",
    "3 ≤ photo[i]의 원소(문자열)의 길이 ≤ 7\n",
    "\n",
    "photo[i]의 원소들은 알파벳 소문자로만 이루어져 있습니다.\n",
    "\n",
    "photo[i]의 원소들은 중복된 값이 들어가지 않습니다."
   ]
  },
  {
   "cell_type": "code",
   "execution_count": 1,
   "id": "b6f85be7-bac1-4f4e-9fa2-56c487ef5c4f",
   "metadata": {},
   "outputs": [],
   "source": [
    "name, yearning, photo = [\"may\", \"kein\", \"kain\", \"radi\"], [5, 10, 1, 3], [[\"may\", \"kein\", \"kain\", \"radi\"],[\"may\", \"kein\", \"brin\", \"deny\"], [\"kon\", \"kain\", \"may\", \"coni\"]]"
   ]
  },
  {
   "cell_type": "code",
   "execution_count": 3,
   "id": "58c81e4a-93db-4eac-8aa8-294cb292c71f",
   "metadata": {},
   "outputs": [
    {
     "data": {
      "text/plain": [
       "(['may', 'kein', 'kain', 'radi'],\n",
       " [5, 10, 1, 3],\n",
       " [['may', 'kein', 'kain', 'radi'],\n",
       "  ['may', 'kein', 'brin', 'deny'],\n",
       "  ['kon', 'kain', 'may', 'coni']])"
      ]
     },
     "execution_count": 3,
     "metadata": {},
     "output_type": "execute_result"
    }
   ],
   "source": [
    "name, yearning, photo "
   ]
  },
  {
   "cell_type": "code",
   "execution_count": 18,
   "id": "f0c66d8d-1d77-41ac-9f29-31d148df68f8",
   "metadata": {
    "tags": []
   },
   "outputs": [],
   "source": [
    "score = [0 for _ in range(len(photo))]\n",
    "\n",
    "for i, value in enumerate(photo):\n",
    "    for j, value2 in enumerate(value):\n",
    "        for k in range(len(name)):\n",
    "            if value2 == name[k]:\n",
    "                score[i] += yearning[k]"
   ]
  },
  {
   "cell_type": "code",
   "execution_count": 19,
   "id": "f4ff771f-60f8-4812-abb7-194c0981bfb0",
   "metadata": {},
   "outputs": [
    {
     "data": {
      "text/plain": [
       "[19, 15, 6]"
      ]
     },
     "execution_count": 19,
     "metadata": {},
     "output_type": "execute_result"
    }
   ],
   "source": [
    "score"
   ]
  },
  {
   "cell_type": "markdown",
   "id": "498a1356-9a5f-4c44-819a-4724acc7d858",
   "metadata": {},
   "source": [
    "`-` 답"
   ]
  },
  {
   "cell_type": "code",
   "execution_count": 20,
   "id": "7d758a9a-9bb1-4a8f-adf5-7ea83c4b69f1",
   "metadata": {},
   "outputs": [],
   "source": [
    "def solution(name, yearning, photo):\n",
    "    score = [0 for _ in range(len(photo))]\n",
    "\n",
    "    for i, value in enumerate(photo):\n",
    "        for j, value2 in enumerate(value):\n",
    "            for k in range(len(name)):\n",
    "                if value2 == name[k]:\n",
    "                    score[i] += yearning[k]\n",
    "    answer = score\n",
    "    return answer"
   ]
  },
  {
   "cell_type": "markdown",
   "id": "a0f5a629-6381-4329-b4ad-21d3b7148d43",
   "metadata": {},
   "source": [
    "첫 번째 사진 속 \"may\", \"kein\", \"kain\", \"radi\"의 그리움 점수를 합치면 19(5 + 10 + 1 + 3)점 입니다. 두 번째 사진 속 그리워하는 사람들인 \"may\"와 \"kein\"의 그리움 점수를 합치면 15(5 + 10)점입니다. 세 번째 사진의 경우 \"kain\"과 \"may\"만 그리워하므로 둘의 그리움 점수를 합한 6(1 + 5)점이 사진의 추억 점수입니다. 따라서 [19, 15, 6]을 반환합니다."
   ]
  },
  {
   "cell_type": "code",
   "execution_count": 21,
   "id": "f328249a-3656-46f7-828b-65a6d5e7bdb8",
   "metadata": {},
   "outputs": [
    {
     "data": {
      "text/plain": [
       "[19, 15, 6]"
      ]
     },
     "execution_count": 21,
     "metadata": {},
     "output_type": "execute_result"
    }
   ],
   "source": [
    "solution([\"may\", \"kein\", \"kain\", \"radi\"],[5, 10, 1, 3],[[\"may\", \"kein\", \"kain\", \"radi\"],[\"may\", \"kein\", \"brin\", \"deny\"], [\"kon\", \"kain\", \"may\", \"coni\"]])\n",
    "# [19, 15, 6]"
   ]
  },
  {
   "cell_type": "markdown",
   "id": "f5578b0c-428c-4f08-b0dd-d5b3d89e4a53",
   "metadata": {},
   "source": [
    "첫 번째 사진 속 그리워하는 사람들인 \"kali\", \"mari\", \"don\"의 그리움 점수를 합치면 67(11 + 1 + 55)점입니다. 두 번째 사진 속엔 그리워하는 인물이 없으므로 0점입니다. 세 번째 사진 속 그리워하는 사람은 \"don\"만 있으므로 55점입니다. 따라서 [67, 0, 55]를 반환합니다."
   ]
  },
  {
   "cell_type": "code",
   "execution_count": 22,
   "id": "8592867e-cb5b-44ee-be79-d89f291cb71a",
   "metadata": {},
   "outputs": [
    {
     "data": {
      "text/plain": [
       "[67, 0, 55]"
      ]
     },
     "execution_count": 22,
     "metadata": {},
     "output_type": "execute_result"
    }
   ],
   "source": [
    "solution([\"kali\", \"mari\", \"don\"],[11, 1, 55],[[\"kali\", \"mari\", \"don\"], [\"pony\", \"tom\", \"teddy\"], [\"con\", \"mona\", \"don\"]])\n",
    "# [67, 0, 55]"
   ]
  },
  {
   "cell_type": "code",
   "execution_count": 23,
   "id": "33cab449-691b-46c3-a77a-eb82780f30a6",
   "metadata": {},
   "outputs": [
    {
     "data": {
      "text/plain": [
       "[5, 15, 0]"
      ]
     },
     "execution_count": 23,
     "metadata": {},
     "output_type": "execute_result"
    }
   ],
   "source": [
    "solution([\"may\", \"kein\", \"kain\", \"radi\"],[5, 10, 1, 3],[[\"may\"],[\"kein\", \"deny\", \"may\"], [\"kon\", \"coni\"]])\n",
    "# [5, 15, 0]"
   ]
  },
  {
   "cell_type": "code",
   "execution_count": null,
   "id": "615e4902-b82e-4a79-ba3b-0d701d2f341b",
   "metadata": {},
   "outputs": [],
   "source": []
  },
  {
   "cell_type": "code",
   "execution_count": null,
   "id": "22009c91-097e-4e9c-ac5c-c0d5f20c41b2",
   "metadata": {},
   "outputs": [],
   "source": []
  }
 ],
 "metadata": {
  "kernelspec": {
   "display_name": "Python 3",
   "language": "python",
   "name": "python3"
  },
  "language_info": {
   "codemirror_mode": {
    "name": "ipython",
    "version": 3
   },
   "file_extension": ".py",
   "mimetype": "text/x-python",
   "name": "python",
   "nbconvert_exporter": "python",
   "pygments_lexer": "ipython3",
   "version": "3.8.0"
  }
 },
 "nbformat": 4,
 "nbformat_minor": 5
}
