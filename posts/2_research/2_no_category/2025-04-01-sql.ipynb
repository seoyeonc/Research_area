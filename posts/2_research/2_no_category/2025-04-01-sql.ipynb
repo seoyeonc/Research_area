{
 "cells": [
  {
   "cell_type": "raw",
   "id": "8f1793bb-9408-40b4-80e8-c93d164b54c7",
   "metadata": {
    "id": "cac470df-29e7-4148-9bbd-d8b9a32fa570",
    "tags": []
   },
   "source": [
    "---\n",
    "title: \"SQL Questions\"\n",
    "author: \"SEOYEON CHOI\"\n",
    "date: \"2025-04-01\"\n",
    "---"
   ]
  },
  {
   "cell_type": "code",
   "execution_count": 33,
   "id": "5420a1db-5034-42b4-90dd-e6acd8aa24a9",
   "metadata": {},
   "outputs": [],
   "source": [
    "import pandas as pd"
   ]
  },
  {
   "cell_type": "markdown",
   "id": "aaa81faf-d89d-4606-b6da-c236ae5f0eb8",
   "metadata": {},
   "source": [
    "1. 2023년의 총 우유 생산량을 알아낼 수 있나요? 관리자가 연간 보고서를 위해 이 정보를 원합니다.\n",
    "2023년의 총 우유 생산량은 얼마인가요?\n",
    "\n",
    "91812000000\n",
    "\n",
    "• 맞습니다"
   ]
  },
  {
   "cell_type": "markdown",
   "id": "7afee113-d1e0-4088-9074-ea18b55b67d0",
   "metadata": {},
   "source": [
    "```sql\n",
    "SELECT SUM(Value) FROM milk_production WHERE Year = 2023;\n",
    "```"
   ]
  },
  {
   "cell_type": "markdown",
   "id": "da3a545b-7ba5-4fdb-bef7-c25c98db3377",
   "metadata": {},
   "source": [
    "2. 2023년 4월 치즈 생산량이 1억 개를 초과한 주는 어디인가요? 치즈 부서는 이 지역에 마케팅 노력을 집중하고자 합니다.\n",
    "\n",
    "몇 개의 주가 있나요?\n",
    "\n",
    "2\n",
    "\n",
    "맞습니다.\n"
   ]
  },
  {
   "cell_type": "code",
   "execution_count": 43,
   "id": "2709d00f-b935-448d-a088-8e12857de3ef",
   "metadata": {},
   "outputs": [
    {
     "data": {
      "text/html": [
       "<div>\n",
       "<style scoped>\n",
       "    .dataframe tbody tr th:only-of-type {\n",
       "        vertical-align: middle;\n",
       "    }\n",
       "\n",
       "    .dataframe tbody tr th {\n",
       "        vertical-align: top;\n",
       "    }\n",
       "\n",
       "    .dataframe thead th {\n",
       "        text-align: right;\n",
       "    }\n",
       "</style>\n",
       "<table border=\"1\" class=\"dataframe\">\n",
       "  <thead>\n",
       "    <tr style=\"text-align: right;\">\n",
       "      <th></th>\n",
       "      <th>Year</th>\n",
       "      <th>Period</th>\n",
       "      <th>Geo_Level</th>\n",
       "      <th>State_ANSI</th>\n",
       "      <th>Commodity_ID</th>\n",
       "      <th>Domain</th>\n",
       "      <th>Value</th>\n",
       "    </tr>\n",
       "  </thead>\n",
       "  <tbody>\n",
       "    <tr>\n",
       "      <th>0</th>\n",
       "      <td>2023</td>\n",
       "      <td>APR</td>\n",
       "      <td>STATE</td>\n",
       "      <td>6.0</td>\n",
       "      <td>6</td>\n",
       "      <td>TOTAL</td>\n",
       "      <td>208,807,000</td>\n",
       "    </tr>\n",
       "    <tr>\n",
       "      <th>9</th>\n",
       "      <td>2023</td>\n",
       "      <td>APR</td>\n",
       "      <td>STATE</td>\n",
       "      <td>NaN</td>\n",
       "      <td>6</td>\n",
       "      <td>TOTAL</td>\n",
       "      <td>215,206,000</td>\n",
       "    </tr>\n",
       "    <tr>\n",
       "      <th>13</th>\n",
       "      <td>2023</td>\n",
       "      <td>APR</td>\n",
       "      <td>STATE</td>\n",
       "      <td>55.0</td>\n",
       "      <td>6</td>\n",
       "      <td>TOTAL</td>\n",
       "      <td>289,699,000</td>\n",
       "    </tr>\n",
       "  </tbody>\n",
       "</table>\n",
       "</div>"
      ],
      "text/plain": [
       "    Year Period Geo_Level  State_ANSI  Commodity_ID Domain        Value\n",
       "0   2023    APR     STATE         6.0             6  TOTAL  208,807,000\n",
       "9   2023    APR     STATE         NaN             6  TOTAL  215,206,000\n",
       "13  2023    APR     STATE        55.0             6  TOTAL  289,699,000"
      ]
     },
     "execution_count": 43,
     "metadata": {},
     "output_type": "execute_result"
    }
   ],
   "source": [
    "pd.read_csv('cheese_production.csv').query('Year==2023 and Period == \"APR\"')\\\n",
    "    .loc[lambda df: df['Value'].str.replace(\",\", \"\", regex=False).astype(int) > 100000000]"
   ]
  },
  {
   "cell_type": "markdown",
   "id": "1b406f87-97a5-4b76-9847-6403d156592b",
   "metadata": {},
   "source": [
    "3. 관리자가 지난 몇 년간 커피 생산량이 어떻게 변화했는지 알고 싶어합니다.\n",
    "2011년 커피 생산량의 총 가치는 얼마입니까?\n",
    "\n",
    "7600000\n",
    "\n",
    "° 맞습니다"
   ]
  },
  {
   "cell_type": "markdown",
   "id": "188a8cda-28ef-4e92-b343-4aa8e9010c98",
   "metadata": {},
   "source": [
    "```sql\n",
    "SELECT Year, SUM(Value) FROM coffee_production GROUP BY Year;\n",
    "```"
   ]
  },
  {
   "cell_type": "markdown",
   "id": "2fc5dc18-c7a2-4abe-8a41-3ad0245cabe5",
   "metadata": {},
   "source": [
    "4. 다음 주에 꿀 위원회와의 회의가 있습니다. 2022년의 평균 벌꿀 생산량을 알아보고 대비하세요.\n",
    "\n",
    "3133275\n",
    "\n",
    "• 맞습니다"
   ]
  },
  {
   "cell_type": "markdown",
   "id": "0bcb2618-1b23-4496-987c-99102fbb7c14",
   "metadata": {},
   "source": [
    "```sql\n",
    "SELECT AVG(Value) FROM honey_production WHERE\n",
    "```"
   ]
  },
  {
   "cell_type": "markdown",
   "id": "2bfcf7eb-4b9c-403f-98cb-335a9fca8821",
   "metadata": {},
   "source": [
    "5. 주정부 관계 팀에서 모든 주 이름과 해당 ANSI 코드의 목록이 필요합니다. 이 목록을 생성할 수 있나요?\n",
    "플로리다의 State_ANSI 코드는 무엇인가요?\n",
    "\n",
    "12\n",
    "\n",
    "• 맞습니다"
   ]
  },
  {
   "cell_type": "markdown",
   "id": "d22b4900-85c7-45e6-8a63-1fc8e63adf61",
   "metadata": {},
   "source": [
    "```sql\n",
    "SELECT * FROM state_lookup;\n",
    "```"
   ]
  },
  {
   "cell_type": "markdown",
   "id": "3710d628-22d5-4709-97d1-e7f00a71ff4f",
   "metadata": {},
   "source": [
    "6. 교차 상품 보고서의 경우 2023년 4월에 치즈를 생산하지 않은 주라도 치즈 생산량과 함께 모든 주를 나열할 수 있나요?\n",
    "뉴저지의 총합은 얼마인가요?\n",
    "\n",
    "3 -> 2049222000 쓰기\n",
    "\n",
    "× 틀립니다\n"
   ]
  },
  {
   "cell_type": "code",
   "execution_count": 88,
   "id": "21dec2fa-e9dc-420a-88e9-10935df26335",
   "metadata": {},
   "outputs": [],
   "source": [
    "state_list = pd.read_csv('cheese_production.csv').query('Year==2023 and Period ==\"APR\"').State_ANSI.unique().tolist()"
   ]
  },
  {
   "cell_type": "code",
   "execution_count": 121,
   "id": "e7cf8970-26dd-40e3-8432-8ed704abc100",
   "metadata": {},
   "outputs": [
    {
     "data": {
      "text/plain": [
       "2069941000.0"
      ]
     },
     "execution_count": 121,
     "metadata": {},
     "output_type": "execute_result"
    }
   ],
   "source": [
    "pd.read_csv('cheese_production.csv')\\\n",
    "  .query('State_ANSI == 34')\\\n",
    "  ['Value'].str.replace(\",\", \"\", regex=False)\\\n",
    "  .pipe(pd.to_numeric, errors='coerce')\\\n",
    "  .sum()\n"
   ]
  },
  {
   "cell_type": "markdown",
   "id": "59c6f4b4-fce2-49bb-b3f1-e4c72c420210",
   "metadata": {},
   "source": [
    "7. 2023년의 치즈 생산 데이터도 있는 2022년 주의 총 요거트 생산량을 찾을 수 있나요? 이는 유제품 부서의 계획 수립에 도 움이 될 것입니다.\n",
    "\n",
    "1 -> 1171095000 바꾸기\n",
    "\n",
    "× 틀립니다"
   ]
  },
  {
   "cell_type": "code",
   "execution_count": 60,
   "id": "3691c2e2-cb14-4437-acc0-c3ff6f7f02b9",
   "metadata": {},
   "outputs": [
    {
     "data": {
      "text/html": [
       "<div>\n",
       "<style scoped>\n",
       "    .dataframe tbody tr th:only-of-type {\n",
       "        vertical-align: middle;\n",
       "    }\n",
       "\n",
       "    .dataframe tbody tr th {\n",
       "        vertical-align: top;\n",
       "    }\n",
       "\n",
       "    .dataframe thead th {\n",
       "        text-align: right;\n",
       "    }\n",
       "</style>\n",
       "<table border=\"1\" class=\"dataframe\">\n",
       "  <thead>\n",
       "    <tr style=\"text-align: right;\">\n",
       "      <th></th>\n",
       "      <th>Year</th>\n",
       "      <th>Period</th>\n",
       "      <th>Geo_Level</th>\n",
       "      <th>State_ANSI</th>\n",
       "      <th>Commodity_ID</th>\n",
       "      <th>Domain</th>\n",
       "      <th>Value</th>\n",
       "    </tr>\n",
       "  </thead>\n",
       "  <tbody>\n",
       "    <tr>\n",
       "      <th>0</th>\n",
       "      <td>2022</td>\n",
       "      <td>YEAR</td>\n",
       "      <td>STATE</td>\n",
       "      <td>6</td>\n",
       "      <td>4</td>\n",
       "      <td>TOTAL</td>\n",
       "      <td>377,839,000</td>\n",
       "    </tr>\n",
       "    <tr>\n",
       "      <th>1</th>\n",
       "      <td>2022</td>\n",
       "      <td>YEAR</td>\n",
       "      <td>STATE</td>\n",
       "      <td>36</td>\n",
       "      <td>4</td>\n",
       "      <td>TOTAL</td>\n",
       "      <td>793,256,000</td>\n",
       "    </tr>\n",
       "  </tbody>\n",
       "</table>\n",
       "</div>"
      ],
      "text/plain": [
       "   Year Period Geo_Level  State_ANSI  Commodity_ID Domain        Value\n",
       "0  2022   YEAR     STATE           6             4  TOTAL  377,839,000\n",
       "1  2022   YEAR     STATE          36             4  TOTAL  793,256,000"
      ]
     },
     "execution_count": 60,
     "metadata": {},
     "output_type": "execute_result"
    }
   ],
   "source": [
    "pd.read_csv('yogurt_production.csv').query('Year==2022')"
   ]
  },
  {
   "cell_type": "code",
   "execution_count": 118,
   "id": "a4e50994-4e46-4b25-b80a-4f12e153da79",
   "metadata": {},
   "outputs": [
    {
     "data": {
      "text/plain": [
       "1171095000"
      ]
     },
     "execution_count": 118,
     "metadata": {},
     "output_type": "execute_result"
    }
   ],
   "source": [
    "pd.read_csv('yogurt_production.csv').query('Year==2022')\\\n",
    "  ['Value'].str.replace(\",\", \"\", regex=False).astype(int).sum()"
   ]
  },
  {
   "cell_type": "code",
   "execution_count": 115,
   "id": "6e145d17-8bb0-463b-b09f-bddecc222f65",
   "metadata": {},
   "outputs": [
    {
     "data": {
      "text/plain": [
       "[6.0,\n",
       " 16.0,\n",
       " 17.0,\n",
       " 19.0,\n",
       " 27.0,\n",
       " 34.0,\n",
       " 35.0,\n",
       " 36.0,\n",
       " 39.0,\n",
       " nan,\n",
       " 42.0,\n",
       " 46.0,\n",
       " 50.0,\n",
       " 55.0]"
      ]
     },
     "execution_count": 115,
     "metadata": {},
     "output_type": "execute_result"
    }
   ],
   "source": [
    "pd.read_csv('cheese_production.csv').query('Year==2023').State_ANSI.unique().tolist()"
   ]
  },
  {
   "cell_type": "code",
   "execution_count": 70,
   "id": "c09dde03-07b7-4c14-9a7d-d1d7e54485e5",
   "metadata": {},
   "outputs": [
    {
     "data": {
      "text/plain": [
       "1113353000"
      ]
     },
     "execution_count": 70,
     "metadata": {},
     "output_type": "execute_result"
    }
   ],
   "source": [
    "pd.read_csv('cheese_production.csv')\\\n",
    "  .query('Year == 2023 and (State_ANSI == 6 or State_ANSI == 36)')\\\n",
    "  ['Value'].str.replace(\",\", \"\", regex=False).astype(int).sum()\n"
   ]
  },
  {
   "cell_type": "markdown",
   "id": "31eb0e70-a5f4-4eca-be09-c9e2670946c9",
   "metadata": {},
   "source": [
    "```sql\n",
    "SELECT SUM(y.Value)\n",
    "FROM yogurt_production y\n",
    "WHERE y.Year = 2022 AND y.State_ANSI IN (\n",
    "    SELECT DISTINCT c.State_ANSI FROM cheese_production c WHERE c.Year = 2023);\n",
    "```"
   ]
  },
  {
   "cell_type": "markdown",
   "id": "2a6153a1-168c-4bae-9583-9b9ed5cc090d",
   "metadata": {},
   "source": [
    "8. 2023년 milk_production에 누락된 state_lookup의 모든 주를 나열합니다.\n",
    "몇 개의 주가 있나요?\n",
    "\n",
    "6 -> 4 로 바꾸기\n",
    "\n",
    "® 틀립니다\n"
   ]
  },
  {
   "cell_type": "code",
   "execution_count": 50,
   "id": "990bb551-ac77-4354-ba43-5f87082fae79",
   "metadata": {},
   "outputs": [
    {
     "data": {
      "text/plain": [
       "4"
      ]
     },
     "execution_count": 50,
     "metadata": {},
     "output_type": "execute_result"
    }
   ],
   "source": [
    "pd.read_csv('milk_production.csv').State_ANSI.isna().sum()"
   ]
  },
  {
   "cell_type": "code",
   "execution_count": 130,
   "id": "a2f11946-fcec-49d6-8078-436bc4a12fdd",
   "metadata": {},
   "outputs": [],
   "source": [
    "state_lookup = pd.read_csv('state_lookup.csv')\n",
    "milk_production = pd.read_csv('milk_production.csv').query('Year==2023')"
   ]
  },
  {
   "cell_type": "code",
   "execution_count": 135,
   "id": "ecab60c4-8333-410d-a996-eb58e67f0a3a",
   "metadata": {},
   "outputs": [
    {
     "data": {
      "text/html": [
       "<div>\n",
       "<style scoped>\n",
       "    .dataframe tbody tr th:only-of-type {\n",
       "        vertical-align: middle;\n",
       "    }\n",
       "\n",
       "    .dataframe tbody tr th {\n",
       "        vertical-align: top;\n",
       "    }\n",
       "\n",
       "    .dataframe thead th {\n",
       "        text-align: right;\n",
       "    }\n",
       "</style>\n",
       "<table border=\"1\" class=\"dataframe\">\n",
       "  <thead>\n",
       "    <tr style=\"text-align: right;\">\n",
       "      <th></th>\n",
       "      <th>index</th>\n",
       "      <th>State</th>\n",
       "      <th>State_ANSI</th>\n",
       "    </tr>\n",
       "  </thead>\n",
       "  <tbody>\n",
       "    <tr>\n",
       "      <th>0</th>\n",
       "      <td>0</td>\n",
       "      <td>ALABAMA</td>\n",
       "      <td>1</td>\n",
       "    </tr>\n",
       "    <tr>\n",
       "      <th>1</th>\n",
       "      <td>1</td>\n",
       "      <td>ALASKA</td>\n",
       "      <td>2</td>\n",
       "    </tr>\n",
       "    <tr>\n",
       "      <th>2</th>\n",
       "      <td>3</td>\n",
       "      <td>ARKANSAS</td>\n",
       "      <td>5</td>\n",
       "    </tr>\n",
       "    <tr>\n",
       "      <th>3</th>\n",
       "      <td>6</td>\n",
       "      <td>CONNECTICUT</td>\n",
       "      <td>9</td>\n",
       "    </tr>\n",
       "    <tr>\n",
       "      <th>4</th>\n",
       "      <td>7</td>\n",
       "      <td>DELAWARE</td>\n",
       "      <td>10</td>\n",
       "    </tr>\n",
       "    <tr>\n",
       "      <th>5</th>\n",
       "      <td>10</td>\n",
       "      <td>HAWAII</td>\n",
       "      <td>15</td>\n",
       "    </tr>\n",
       "    <tr>\n",
       "      <th>6</th>\n",
       "      <td>16</td>\n",
       "      <td>KENTUCKY</td>\n",
       "      <td>21</td>\n",
       "    </tr>\n",
       "    <tr>\n",
       "      <th>7</th>\n",
       "      <td>17</td>\n",
       "      <td>LOUISIANA</td>\n",
       "      <td>22</td>\n",
       "    </tr>\n",
       "    <tr>\n",
       "      <th>8</th>\n",
       "      <td>18</td>\n",
       "      <td>MAINE</td>\n",
       "      <td>23</td>\n",
       "    </tr>\n",
       "    <tr>\n",
       "      <th>9</th>\n",
       "      <td>19</td>\n",
       "      <td>MARYLAND</td>\n",
       "      <td>24</td>\n",
       "    </tr>\n",
       "    <tr>\n",
       "      <th>10</th>\n",
       "      <td>20</td>\n",
       "      <td>MASSACHUSETTS</td>\n",
       "      <td>25</td>\n",
       "    </tr>\n",
       "    <tr>\n",
       "      <th>11</th>\n",
       "      <td>23</td>\n",
       "      <td>MISSISSIPPI</td>\n",
       "      <td>28</td>\n",
       "    </tr>\n",
       "    <tr>\n",
       "      <th>12</th>\n",
       "      <td>24</td>\n",
       "      <td>MISSOURI</td>\n",
       "      <td>29</td>\n",
       "    </tr>\n",
       "    <tr>\n",
       "      <th>13</th>\n",
       "      <td>25</td>\n",
       "      <td>MONTANA</td>\n",
       "      <td>30</td>\n",
       "    </tr>\n",
       "    <tr>\n",
       "      <th>14</th>\n",
       "      <td>26</td>\n",
       "      <td>NEBRASKA</td>\n",
       "      <td>31</td>\n",
       "    </tr>\n",
       "    <tr>\n",
       "      <th>15</th>\n",
       "      <td>27</td>\n",
       "      <td>NEVADA</td>\n",
       "      <td>32</td>\n",
       "    </tr>\n",
       "    <tr>\n",
       "      <th>16</th>\n",
       "      <td>28</td>\n",
       "      <td>NEW HAMPSHIRE</td>\n",
       "      <td>33</td>\n",
       "    </tr>\n",
       "    <tr>\n",
       "      <th>17</th>\n",
       "      <td>29</td>\n",
       "      <td>NEW JERSEY</td>\n",
       "      <td>34</td>\n",
       "    </tr>\n",
       "    <tr>\n",
       "      <th>18</th>\n",
       "      <td>32</td>\n",
       "      <td>NORTH CAROLINA</td>\n",
       "      <td>37</td>\n",
       "    </tr>\n",
       "    <tr>\n",
       "      <th>19</th>\n",
       "      <td>33</td>\n",
       "      <td>NORTH DAKOTA</td>\n",
       "      <td>38</td>\n",
       "    </tr>\n",
       "    <tr>\n",
       "      <th>20</th>\n",
       "      <td>35</td>\n",
       "      <td>OKLAHOMA</td>\n",
       "      <td>40</td>\n",
       "    </tr>\n",
       "    <tr>\n",
       "      <th>21</th>\n",
       "      <td>38</td>\n",
       "      <td>RHODE ISLAND</td>\n",
       "      <td>44</td>\n",
       "    </tr>\n",
       "    <tr>\n",
       "      <th>22</th>\n",
       "      <td>39</td>\n",
       "      <td>SOUTH CAROLINA</td>\n",
       "      <td>45</td>\n",
       "    </tr>\n",
       "    <tr>\n",
       "      <th>23</th>\n",
       "      <td>41</td>\n",
       "      <td>TENNESSEE</td>\n",
       "      <td>47</td>\n",
       "    </tr>\n",
       "    <tr>\n",
       "      <th>24</th>\n",
       "      <td>47</td>\n",
       "      <td>WEST VIRGINIA</td>\n",
       "      <td>54</td>\n",
       "    </tr>\n",
       "    <tr>\n",
       "      <th>25</th>\n",
       "      <td>49</td>\n",
       "      <td>WYOMING</td>\n",
       "      <td>56</td>\n",
       "    </tr>\n",
       "  </tbody>\n",
       "</table>\n",
       "</div>"
      ],
      "text/plain": [
       "    index           State  State_ANSI\n",
       "0       0         ALABAMA           1\n",
       "1       1          ALASKA           2\n",
       "2       3        ARKANSAS           5\n",
       "3       6     CONNECTICUT           9\n",
       "4       7        DELAWARE          10\n",
       "5      10          HAWAII          15\n",
       "6      16        KENTUCKY          21\n",
       "7      17       LOUISIANA          22\n",
       "8      18           MAINE          23\n",
       "9      19        MARYLAND          24\n",
       "10     20   MASSACHUSETTS          25\n",
       "11     23     MISSISSIPPI          28\n",
       "12     24        MISSOURI          29\n",
       "13     25         MONTANA          30\n",
       "14     26        NEBRASKA          31\n",
       "15     27          NEVADA          32\n",
       "16     28   NEW HAMPSHIRE          33\n",
       "17     29      NEW JERSEY          34\n",
       "18     32  NORTH CAROLINA          37\n",
       "19     33    NORTH DAKOTA          38\n",
       "20     35        OKLAHOMA          40\n",
       "21     38    RHODE ISLAND          44\n",
       "22     39  SOUTH CAROLINA          45\n",
       "23     41       TENNESSEE          47\n",
       "24     47   WEST VIRGINIA          54\n",
       "25     49         WYOMING          56"
      ]
     },
     "execution_count": 135,
     "metadata": {},
     "output_type": "execute_result"
    }
   ],
   "source": [
    "state_lookup[~state_lookup[\"State_ANSI\"].isin(milk_production[\"State_ANSI\"])].reset_index()"
   ]
  },
  {
   "cell_type": "markdown",
   "id": "737a61e7-a52b-4754-9f81-37fb8707bd6b",
   "metadata": {},
   "source": [
    "```sql\n",
    "SELECT s.State\n",
    "FROM state_lookup s\n",
    "LEFT JOIN milk_production m ON s.State_ANSI = m.State_ANSI AND m.Year = 2023\n",
    "WHERE m.State_ANSI IS NULL;\n",
    "```"
   ]
  },
  {
   "cell_type": "markdown",
   "id": "a4af33a4-8742-4fb5-b4ec-c17a44392d0b",
   "metadata": {},
   "source": [
    "9. 2023년 4월에 치즈를 생산하지 않은 주를 포함하여 치즈 생산량이 있는 모든 주를 나열합니다.\n",
    "2023년 4월에 델라웨어에서 치즈를 생산한 적이 있나요?\n",
    "\n",
    "아니오"
   ]
  },
  {
   "cell_type": "markdown",
   "id": "c8b8e770-42ca-4677-936d-bbe789b76a37",
   "metadata": {},
   "source": [
    "```sql\n",
    "SELECT s.State, c.Value\n",
    "FROM state_lookup s\n",
    "LEFT JOIN cheese_production c ON s.State_ANSI = c.State_ANSI AND c.Year = 2023 AND c.Period = 'APR';\n",
    "```"
   ]
  },
  {
   "cell_type": "markdown",
   "id": "a1531460-5df2-4dee-868f-582b2779c6c5",
   "metadata": {},
   "source": [
    "10 꿀 생산량이 1백만 개를 초과한 모든 연도의 평균 커피 생산량을 구합니다.\n",
    "\n",
    "192800000 로 쓰기"
   ]
  },
  {
   "cell_type": "code",
   "execution_count": 111,
   "id": "b63a7166-c37d-4034-ba4d-989473474d33",
   "metadata": {},
   "outputs": [],
   "source": [
    "year_list = pd.read_csv('honey_production.csv').loc[lambda df: df['Value'].notna() & (df['Value'].str.replace(\",\", \"\", regex=False).astype(int) > 1000000)]['Year'].unique().tolist()"
   ]
  },
  {
   "cell_type": "code",
   "execution_count": 112,
   "id": "2bc5e0c5-3f11-45f6-8a2d-21a4071d62c3",
   "metadata": {},
   "outputs": [
    {
     "data": {
      "text/plain": [
       "6426666.666666667"
      ]
     },
     "execution_count": 112,
     "metadata": {},
     "output_type": "execute_result"
    }
   ],
   "source": [
    "pd.read_csv('coffee_production.csv').query('Year in @year_list')\\\n",
    "  ['Value'].str.replace(\",\", \"\", regex=False).astype(int).mean()"
   ]
  },
  {
   "cell_type": "code",
   "execution_count": null,
   "id": "f24cb661-ec75-4154-bd02-dac81d5ae578",
   "metadata": {},
   "outputs": [],
   "source": []
  }
 ],
 "metadata": {
  "kernelspec": {
   "display_name": "Python 3",
   "language": "python",
   "name": "python3"
  },
  "language_info": {
   "codemirror_mode": {
    "name": "ipython",
    "version": 3
   },
   "file_extension": ".py",
   "mimetype": "text/x-python",
   "name": "python",
   "nbconvert_exporter": "python",
   "pygments_lexer": "ipython3",
   "version": "3.8.0"
  }
 },
 "nbformat": 4,
 "nbformat_minor": 5
}
