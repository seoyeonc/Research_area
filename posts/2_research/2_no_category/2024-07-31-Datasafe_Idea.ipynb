{
 "cells": [
  {
   "cell_type": "raw",
   "id": "021f9623-7d8f-4b95-b741-28a5287bfc42",
   "metadata": {},
   "source": [
    "---\n",
    "title: \"[Farm Data] Graphs\"\n",
    "author: \"SEOYEON CHOI\"\n",
    "date: \"2024-07-31\"\n",
    "execute: \n",
    "  enabled: true\n",
    "  cache: false\n",
    "  freeze: false\n",
    "  error: true\n",
    "---"
   ]
  },
  {
   "cell_type": "markdown",
   "id": "bf99d75e-d218-4f0d-9250-66f31058d2d5",
   "metadata": {},
   "source": [
    "# Import"
   ]
  },
  {
   "cell_type": "code",
   "execution_count": 1,
   "id": "68856637-0e27-4f0b-af99-79b0cfdec737",
   "metadata": {},
   "outputs": [
    {
     "ename": "ModuleNotFoundError",
     "evalue": "No module named 'plotly'",
     "output_type": "error",
     "traceback": [
      "\u001b[0;31m---------------------------------------------------------------------------\u001b[0m",
      "\u001b[0;31mModuleNotFoundError\u001b[0m                       Traceback (most recent call last)",
      "\u001b[0;32m/tmp/ipykernel_88759/1705653956.py\u001b[0m in \u001b[0;36m<module>\u001b[0;34m\u001b[0m\n\u001b[1;32m      1\u001b[0m \u001b[0;32mimport\u001b[0m \u001b[0mpandas\u001b[0m \u001b[0;32mas\u001b[0m \u001b[0mpd\u001b[0m\u001b[0;34m\u001b[0m\u001b[0;34m\u001b[0m\u001b[0m\n\u001b[0;32m----> 2\u001b[0;31m \u001b[0;32mimport\u001b[0m \u001b[0mplotly\u001b[0m\u001b[0;34m.\u001b[0m\u001b[0mexpress\u001b[0m \u001b[0;32mas\u001b[0m \u001b[0mpx\u001b[0m\u001b[0;34m\u001b[0m\u001b[0;34m\u001b[0m\u001b[0m\n\u001b[0m\u001b[1;32m      3\u001b[0m \u001b[0;32mimport\u001b[0m \u001b[0mplotly\u001b[0m\u001b[0;34m.\u001b[0m\u001b[0mgraph_objects\u001b[0m \u001b[0;32mas\u001b[0m \u001b[0mgo\u001b[0m\u001b[0;34m\u001b[0m\u001b[0;34m\u001b[0m\u001b[0m\n\u001b[1;32m      4\u001b[0m \u001b[0;32mfrom\u001b[0m \u001b[0mplotly\u001b[0m\u001b[0;34m.\u001b[0m\u001b[0msubplots\u001b[0m \u001b[0;32mimport\u001b[0m \u001b[0mmake_subplots\u001b[0m\u001b[0;34m\u001b[0m\u001b[0;34m\u001b[0m\u001b[0m\n\u001b[1;32m      5\u001b[0m \u001b[0;32mimport\u001b[0m \u001b[0mwarnings\u001b[0m\u001b[0;34m\u001b[0m\u001b[0;34m\u001b[0m\u001b[0m\n",
      "\u001b[0;31mModuleNotFoundError\u001b[0m: No module named 'plotly'"
     ]
    }
   ],
   "source": [
    "import pandas as pd\n",
    "import plotly.express as px\n",
    "import plotly.graph_objects as go\n",
    "from plotly.subplots import make_subplots\n",
    "import warnings\n",
    "warnings.filterwarnings('ignore', category=UserWarning, module='openpyxl')"
   ]
  },
  {
   "cell_type": "markdown",
   "id": "83ac16dc-711e-40f5-8505-b17a14589749",
   "metadata": {},
   "source": [
    "# 농업인 성별격차"
   ]
  },
  {
   "cell_type": "markdown",
   "id": "05ff8af9-ddad-4597-8317-2574bea79ee5",
   "metadata": {},
   "source": [
    "Ref: [농림축산식품부 농업경영체 등록정보 현황서비스](https://edu.agrix.go.kr/uni_docs7/biOlap/dashBoard.do)"
   ]
  },
  {
   "cell_type": "markdown",
   "id": "4bacdcae-84c1-41b8-928e-7137885aee6e",
   "metadata": {},
   "source": [
    "## 첫 번째 그래프"
   ]
  },
  {
   "cell_type": "markdown",
   "id": "7bd914c4-052f-4121-808e-0ebb79597565",
   "metadata": {},
   "source": [
    "$\\rightarrow$ 사용한 데이터"
   ]
  },
  {
   "cell_type": "markdown",
   "id": "190272d8-beea-4b11-abb7-ecc85cdc4f8c",
   "metadata": {},
   "source": [
    "> 2015년부터 2023년까지의 농업경영체 현황(농업인)_지역별 농업인 현황 데이터"
   ]
  },
  {
   "cell_type": "markdown",
   "id": "31ca5e64-702e-43fa-9da5-0f77795f9180",
   "metadata": {},
   "source": [
    "$\\rightarrow$ 변수 설명"
   ]
  },
  {
   "cell_type": "markdown",
   "id": "77dcc031-0c55-40cb-a7a9-750e9dd67f56",
   "metadata": {},
   "source": [
    "- 총 농업인 수\n",
    "    - 전국의 농업인수를 합산하여 연도별 평균을 계산하였습니다.\n",
    "\n",
    "- 성별 비율\n",
    "    - 전국의 여성 및 남성 농업인수를 합산하여 성별로 총 농업인 수로 나누어 계산하였습니다."
   ]
  },
  {
   "cell_type": "markdown",
   "id": "43564930-4696-4045-b702-48bb82930a2c",
   "metadata": {},
   "source": [
    "$\\rightarrow$ 데이터의 활용"
   ]
  },
  {
   "cell_type": "markdown",
   "id": "432b6bb1-3206-4a32-9de6-0fb31d831ad8",
   "metadata": {},
   "source": [
    "총 농업인 수를 기준으로 농업인이 성별로 어떻게 다른 양상을 보이는지 확인하고자 하였습니다."
   ]
  },
  {
   "cell_type": "code",
   "execution_count": 2,
   "id": "941e2e19-c157-4014-b662-9b5a73d0e08c",
   "metadata": {},
   "outputs": [],
   "source": [
    "dfs = []\n",
    "\n",
    "years = range(2015, 2024)\n",
    "\n",
    "for year in years:\n",
    "    file_path = f'./dataset/Farm_dataset/{year}_농업경영체 현황(농업인)_지역별 농업인 현황.csv'\n",
    "    df = pd.read_csv(file_path, header=1).iloc[:-1, :4]\n",
    "    df = df.rename(columns={'Unnamed: 0': '시도명', 'Unnamed: 1': '농업인수'})\n",
    "    df = df.assign(남성비율 = round((df['남'] / df['농업인수'])*100, 2))\n",
    "    df = df.assign(여성비율 = round((df['여'] / df['농업인수'])*100, 2))\n",
    "    df = df.assign(연도 = year)\n",
    "    dfs.append(df)\n",
    "df_all = pd.concat(dfs, ignore_index=True)"
   ]
  },
  {
   "cell_type": "code",
   "execution_count": 3,
   "id": "9043cbd8-c519-4ffa-a987-fb516985a59f",
   "metadata": {},
   "outputs": [
    {
     "ename": "NameError",
     "evalue": "name 'px' is not defined",
     "output_type": "error",
     "traceback": [
      "\u001b[0;31m---------------------------------------------------------------------------\u001b[0m",
      "\u001b[0;31mNameError\u001b[0m                                 Traceback (most recent call last)",
      "\u001b[0;32m/tmp/ipykernel_88759/1084802601.py\u001b[0m in \u001b[0;36m<module>\u001b[0;34m\u001b[0m\n\u001b[1;32m      3\u001b[0m     \u001b[0;34m'여성비율'\u001b[0m\u001b[0;34m:\u001b[0m \u001b[0;34m'mean'\u001b[0m\u001b[0;34m\u001b[0m\u001b[0;34m\u001b[0m\u001b[0m\n\u001b[1;32m      4\u001b[0m }).reset_index()\n\u001b[0;32m----> 5\u001b[0;31m fig = px.line(df_avg, x='연도', y=['남성비율', '여성비율'],\n\u001b[0m\u001b[1;32m      6\u001b[0m               \u001b[0mtitle\u001b[0m\u001b[0;34m=\u001b[0m\u001b[0;34m'농업인의 연도별 평균 남성비율과 여성비율'\u001b[0m\u001b[0;34m,\u001b[0m\u001b[0;34m\u001b[0m\u001b[0;34m\u001b[0m\u001b[0m\n\u001b[1;32m      7\u001b[0m               \u001b[0mlabels\u001b[0m\u001b[0;34m=\u001b[0m\u001b[0;34m{\u001b[0m\u001b[0;34m'연도'\u001b[0m\u001b[0;34m:\u001b[0m \u001b[0;34m'연도'\u001b[0m\u001b[0;34m,\u001b[0m \u001b[0;34m'value'\u001b[0m\u001b[0;34m:\u001b[0m \u001b[0;34m'비율 (%)'\u001b[0m\u001b[0;34m}\u001b[0m\u001b[0;34m,\u001b[0m\u001b[0;34m\u001b[0m\u001b[0;34m\u001b[0m\u001b[0m\n",
      "\u001b[0;31mNameError\u001b[0m: name 'px' is not defined"
     ]
    }
   ],
   "source": [
    "df_avg = df_all.groupby('연도').agg({\n",
    "    '남성비율': 'mean',\n",
    "    '여성비율': 'mean'\n",
    "}).reset_index()\n",
    "fig = px.line(df_avg, x='연도', y=['남성비율', '여성비율'],\n",
    "              title='농업인의 연도별 평균 남성비율과 여성비율',\n",
    "              labels={'연도': '연도', 'value': '비율 (%)'},\n",
    "              markers=True,\n",
    "             width=800,height=400)\n",
    "fig.update_layout(showlegend=True,legend_title_text=\"\" ,\n",
    "                  yaxis=dict(\n",
    "                    range=[40, 60]  \n",
    "    ),template='ggplot2')\n",
    "fig"
   ]
  },
  {
   "cell_type": "code",
   "execution_count": 4,
   "id": "332af7f8-a260-4d54-8aef-b4c76e59da1f",
   "metadata": {},
   "outputs": [
    {
     "data": {
      "text/html": [
       "<div>\n",
       "<style scoped>\n",
       "    .dataframe tbody tr th:only-of-type {\n",
       "        vertical-align: middle;\n",
       "    }\n",
       "\n",
       "    .dataframe tbody tr th {\n",
       "        vertical-align: top;\n",
       "    }\n",
       "\n",
       "    .dataframe thead th {\n",
       "        text-align: right;\n",
       "    }\n",
       "</style>\n",
       "<table border=\"1\" class=\"dataframe\">\n",
       "  <thead>\n",
       "    <tr style=\"text-align: right;\">\n",
       "      <th></th>\n",
       "      <th>연도</th>\n",
       "      <th>남성비율</th>\n",
       "      <th>여성비율</th>\n",
       "    </tr>\n",
       "  </thead>\n",
       "  <tbody>\n",
       "    <tr>\n",
       "      <th>0</th>\n",
       "      <td>2015</td>\n",
       "      <td>53.683529</td>\n",
       "      <td>46.275882</td>\n",
       "    </tr>\n",
       "    <tr>\n",
       "      <th>1</th>\n",
       "      <td>2016</td>\n",
       "      <td>54.349412</td>\n",
       "      <td>45.650588</td>\n",
       "    </tr>\n",
       "    <tr>\n",
       "      <th>2</th>\n",
       "      <td>2017</td>\n",
       "      <td>55.047647</td>\n",
       "      <td>44.952353</td>\n",
       "    </tr>\n",
       "    <tr>\n",
       "      <th>3</th>\n",
       "      <td>2018</td>\n",
       "      <td>55.345294</td>\n",
       "      <td>44.654706</td>\n",
       "    </tr>\n",
       "    <tr>\n",
       "      <th>4</th>\n",
       "      <td>2019</td>\n",
       "      <td>55.507647</td>\n",
       "      <td>44.492353</td>\n",
       "    </tr>\n",
       "    <tr>\n",
       "      <th>5</th>\n",
       "      <td>2020</td>\n",
       "      <td>55.585294</td>\n",
       "      <td>44.414706</td>\n",
       "    </tr>\n",
       "    <tr>\n",
       "      <th>6</th>\n",
       "      <td>2021</td>\n",
       "      <td>55.561176</td>\n",
       "      <td>44.438824</td>\n",
       "    </tr>\n",
       "    <tr>\n",
       "      <th>7</th>\n",
       "      <td>2022</td>\n",
       "      <td>55.555294</td>\n",
       "      <td>44.444706</td>\n",
       "    </tr>\n",
       "    <tr>\n",
       "      <th>8</th>\n",
       "      <td>2023</td>\n",
       "      <td>55.520588</td>\n",
       "      <td>44.479412</td>\n",
       "    </tr>\n",
       "  </tbody>\n",
       "</table>\n",
       "</div>"
      ],
      "text/plain": [
       "     연도       남성비율       여성비율\n",
       "0  2015  53.683529  46.275882\n",
       "1  2016  54.349412  45.650588\n",
       "2  2017  55.047647  44.952353\n",
       "3  2018  55.345294  44.654706\n",
       "4  2019  55.507647  44.492353\n",
       "5  2020  55.585294  44.414706\n",
       "6  2021  55.561176  44.438824\n",
       "7  2022  55.555294  44.444706\n",
       "8  2023  55.520588  44.479412"
      ]
     },
     "execution_count": 4,
     "metadata": {},
     "output_type": "execute_result"
    }
   ],
   "source": [
    "df_avg"
   ]
  },
  {
   "cell_type": "markdown",
   "id": "a5189294-e3ea-4ab2-81a0-2cb6934f1fd4",
   "metadata": {},
   "source": [
    "## 두 번째 그래프"
   ]
  },
  {
   "cell_type": "markdown",
   "id": "2507dc25-6edd-4e01-b881-ff73c9b0117f",
   "metadata": {},
   "source": [
    "$\\rightarrow$ 사용한 데이터"
   ]
  },
  {
   "cell_type": "markdown",
   "id": "cdfc2383-64db-4715-bb8a-7da2056862b3",
   "metadata": {},
   "source": [
    "> 2015년부터 2023년까지의 농업경영체 현황(농업인)_지역별 농업인 현황 데이터"
   ]
  },
  {
   "cell_type": "markdown",
   "id": "0e69a91d-6c57-4467-8cde-0d54b603b432",
   "metadata": {},
   "source": [
    "$\\rightarrow$ 변수 설명"
   ]
  },
  {
   "cell_type": "markdown",
   "id": "badedd48-0fee-45c6-9576-0e5b730347bc",
   "metadata": {},
   "source": [
    "- 총 농업인 수\n",
    "    - 전국의 농업인수를 합산하여 연도별 평균을 계산하였습니다.\n",
    "\n",
    "- 연령대 비율\n",
    "    - 원본 데이터에는 **25세 미만, 25\\~29세, 30\\~34세, 35\\~39세, 40\\~44세, 45\\~49세, 50\\~54세, 55\\~59세, 60\\~64세, 65\\~69세, 70\\~74세, 75\\~79세, 80세 이상**의 연령대가 있었습니다.\n",
    "    - PPT내 연령대 표현을 통일화하기 위해서 **40대 이하, 50대, 60대, 70대 이상**의 4개의 항목으로 나타내었고, 아래와 같이 항목을 구분하였습니다.\n",
    "        - 40대 이하 = 25세 미만 + 25\\~29세 + 30\\~34세 + 35\\~39세 + 40\\~44세 + 45\\~49세\n",
    "        - 50대 = 50\\~54세 + 55\\~59세\n",
    "        - 60대 = 60\\~64세 + 65\\~69세\n",
    "        - 70대 이상 = 70\\~74세 + 75\\~79세 + 80세 이상"
   ]
  },
  {
   "cell_type": "markdown",
   "id": "9f9f6d79-c485-4c01-9259-88f278c115bd",
   "metadata": {},
   "source": [
    "$\\rightarrow$ 데이터의 활용"
   ]
  },
  {
   "cell_type": "markdown",
   "id": "12ec666e-db97-4e39-b26a-beb4c1bdec43",
   "metadata": {},
   "source": [
    "총 농업인 수를 기준으로 농업인이 연령대별로 어떻게 다른 양상을 보이는지 확인하고자 하였습니다."
   ]
  },
  {
   "cell_type": "code",
   "execution_count": 5,
   "id": "351af91b-5eda-46ca-a7c3-9d7174c49e4b",
   "metadata": {},
   "outputs": [],
   "source": [
    "dfs = []\n",
    "\n",
    "years = range(2015, 2024)\n",
    "ages = ['40대 이하','50대','60대','70대 이상']\n",
    "\n",
    "for year in years:\n",
    "    file_path = f'./dataset/Farm_dataset/{year}_농업경영체 현황(농업인)_지역별 농업인 현황.csv'\n",
    "    df = pd.DataFrame(pd.read_csv(file_path,header=1).iloc[-1,[1,2,3] + list(range(4, 17))]).T.rename(columns={'Unnamed: 1': '농업인수'}).apply(pd.to_numeric, errors='coerce')\n",
    "    df = df.assign(남성비율 = round((df['남'] / df['농업인수'])*100, 2)).assign(여성비율 = round((df['여'] / df['농업인수'])*100, 2)).assign(연도 = year)\n",
    "    df['40대 이하'] = df['25세 미만']+df['25~29세']+df['30~34세']+df['35~39세']+df['40~44세']+df['45~49세']\n",
    "    df['50대'] = df['50~54세']+df['55~59세']\n",
    "    df['60대'] = df['60~64세']+df['65~69세']\n",
    "    df['70대 이상'] = df['70~74세']+df['75~79세']+df['80세 이상']\n",
    "    df = df.apply(pd.to_numeric, errors='coerce')\n",
    "    for age in ages:\n",
    "        df[age + ' '] = round((df[age] / df['농업인수']) * 100, 2)\n",
    "    dfs.append(df)\n",
    "df_all = pd.concat(dfs, ignore_index=True).iloc[:,[16,17,18]+list(range(23,27))]"
   ]
  },
  {
   "cell_type": "code",
   "execution_count": 6,
   "id": "10a5f887-bdd8-4714-a272-3d27b8f97df4",
   "metadata": {},
   "outputs": [
    {
     "ename": "NameError",
     "evalue": "name 'px' is not defined",
     "output_type": "error",
     "traceback": [
      "\u001b[0;31m---------------------------------------------------------------------------\u001b[0m",
      "\u001b[0;31mNameError\u001b[0m                                 Traceback (most recent call last)",
      "\u001b[0;32m/tmp/ipykernel_88759/2445579926.py\u001b[0m in \u001b[0;36m<module>\u001b[0;34m\u001b[0m\n\u001b[0;32m----> 1\u001b[0;31m fig = px.line(df_all, x='연도', y=df_all.columns[2:], title='연도별 성별 및 연령대 비율',\n\u001b[0m\u001b[1;32m      2\u001b[0m               \u001b[0mlabels\u001b[0m\u001b[0;34m=\u001b[0m\u001b[0;34m{\u001b[0m\u001b[0;34m'value'\u001b[0m\u001b[0;34m:\u001b[0m \u001b[0;34m'비율'\u001b[0m\u001b[0;34m,\u001b[0m \u001b[0;34m'variable'\u001b[0m\u001b[0;34m:\u001b[0m \u001b[0;34m'항목'\u001b[0m\u001b[0;34m}\u001b[0m\u001b[0;34m,\u001b[0m\u001b[0;34m\u001b[0m\u001b[0;34m\u001b[0m\u001b[0m\n\u001b[1;32m      3\u001b[0m               \u001b[0mcolor_discrete_sequence\u001b[0m\u001b[0;34m=\u001b[0m\u001b[0mpx\u001b[0m\u001b[0;34m.\u001b[0m\u001b[0mcolors\u001b[0m\u001b[0;34m.\u001b[0m\u001b[0mqualitative\u001b[0m\u001b[0;34m.\u001b[0m\u001b[0mSet3\u001b[0m\u001b[0;34m,\u001b[0m\u001b[0;34m\u001b[0m\u001b[0;34m\u001b[0m\u001b[0m\n\u001b[1;32m      4\u001b[0m              width = 800,height = 400)\n\u001b[1;32m      5\u001b[0m fig.update_layout(template='ggplot2',legend_title_text=\"\" ,\n",
      "\u001b[0;31mNameError\u001b[0m: name 'px' is not defined"
     ]
    }
   ],
   "source": [
    "fig = px.line(df_all, x='연도', y=df_all.columns[2:], title='연도별 성별 및 연령대 비율',\n",
    "              labels={'value': '비율', 'variable': '항목'},\n",
    "              color_discrete_sequence=px.colors.qualitative.Set3,\n",
    "             width = 800,height = 400)\n",
    "fig.update_layout(template='ggplot2',legend_title_text=\"\" ,\n",
    "    legend=dict(\n",
    "        orientation=\"h\",\n",
    "        yanchor=\"top\",\n",
    "        y=-0.2, \n",
    "        xanchor=\"center\",\n",
    "        x=0.5\n",
    "    ))\n",
    "fig.show()"
   ]
  },
  {
   "cell_type": "code",
   "execution_count": 7,
   "id": "6acf0d28-576c-4f5e-bf66-711522565675",
   "metadata": {},
   "outputs": [
    {
     "data": {
      "text/html": [
       "<div>\n",
       "<style scoped>\n",
       "    .dataframe tbody tr th:only-of-type {\n",
       "        vertical-align: middle;\n",
       "    }\n",
       "\n",
       "    .dataframe tbody tr th {\n",
       "        vertical-align: top;\n",
       "    }\n",
       "\n",
       "    .dataframe thead th {\n",
       "        text-align: right;\n",
       "    }\n",
       "</style>\n",
       "<table border=\"1\" class=\"dataframe\">\n",
       "  <thead>\n",
       "    <tr style=\"text-align: right;\">\n",
       "      <th></th>\n",
       "      <th>남성비율</th>\n",
       "      <th>여성비율</th>\n",
       "      <th>연도</th>\n",
       "      <th>40대 이하</th>\n",
       "      <th>50대</th>\n",
       "      <th>60대</th>\n",
       "      <th>70대 이상</th>\n",
       "    </tr>\n",
       "  </thead>\n",
       "  <tbody>\n",
       "    <tr>\n",
       "      <th>0</th>\n",
       "      <td>52.56</td>\n",
       "      <td>47.40</td>\n",
       "      <td>2015</td>\n",
       "      <td>14.72</td>\n",
       "      <td>26.51</td>\n",
       "      <td>28.30</td>\n",
       "      <td>30.43</td>\n",
       "    </tr>\n",
       "    <tr>\n",
       "      <th>1</th>\n",
       "      <td>53.04</td>\n",
       "      <td>46.96</td>\n",
       "      <td>2016</td>\n",
       "      <td>13.53</td>\n",
       "      <td>25.75</td>\n",
       "      <td>29.33</td>\n",
       "      <td>31.39</td>\n",
       "    </tr>\n",
       "    <tr>\n",
       "      <th>2</th>\n",
       "      <td>53.76</td>\n",
       "      <td>46.24</td>\n",
       "      <td>2017</td>\n",
       "      <td>11.95</td>\n",
       "      <td>24.30</td>\n",
       "      <td>30.17</td>\n",
       "      <td>33.58</td>\n",
       "    </tr>\n",
       "    <tr>\n",
       "      <th>3</th>\n",
       "      <td>54.04</td>\n",
       "      <td>45.96</td>\n",
       "      <td>2018</td>\n",
       "      <td>11.10</td>\n",
       "      <td>23.41</td>\n",
       "      <td>30.75</td>\n",
       "      <td>34.74</td>\n",
       "    </tr>\n",
       "    <tr>\n",
       "      <th>4</th>\n",
       "      <td>54.24</td>\n",
       "      <td>45.76</td>\n",
       "      <td>2019</td>\n",
       "      <td>10.41</td>\n",
       "      <td>22.30</td>\n",
       "      <td>31.65</td>\n",
       "      <td>35.64</td>\n",
       "    </tr>\n",
       "    <tr>\n",
       "      <th>5</th>\n",
       "      <td>54.30</td>\n",
       "      <td>45.70</td>\n",
       "      <td>2020</td>\n",
       "      <td>9.99</td>\n",
       "      <td>20.93</td>\n",
       "      <td>32.76</td>\n",
       "      <td>36.33</td>\n",
       "    </tr>\n",
       "    <tr>\n",
       "      <th>6</th>\n",
       "      <td>54.21</td>\n",
       "      <td>45.79</td>\n",
       "      <td>2021</td>\n",
       "      <td>9.64</td>\n",
       "      <td>19.76</td>\n",
       "      <td>34.07</td>\n",
       "      <td>36.53</td>\n",
       "    </tr>\n",
       "    <tr>\n",
       "      <th>7</th>\n",
       "      <td>54.16</td>\n",
       "      <td>45.84</td>\n",
       "      <td>2022</td>\n",
       "      <td>9.20</td>\n",
       "      <td>18.74</td>\n",
       "      <td>34.43</td>\n",
       "      <td>37.63</td>\n",
       "    </tr>\n",
       "    <tr>\n",
       "      <th>8</th>\n",
       "      <td>54.12</td>\n",
       "      <td>45.88</td>\n",
       "      <td>2023</td>\n",
       "      <td>8.69</td>\n",
       "      <td>18.09</td>\n",
       "      <td>34.77</td>\n",
       "      <td>38.45</td>\n",
       "    </tr>\n",
       "  </tbody>\n",
       "</table>\n",
       "</div>"
      ],
      "text/plain": [
       "    남성비율   여성비율    연도  40대 이하    50대    60대   70대 이상 \n",
       "0  52.56  47.40  2015    14.72  26.51  28.30    30.43\n",
       "1  53.04  46.96  2016    13.53  25.75  29.33    31.39\n",
       "2  53.76  46.24  2017    11.95  24.30  30.17    33.58\n",
       "3  54.04  45.96  2018    11.10  23.41  30.75    34.74\n",
       "4  54.24  45.76  2019    10.41  22.30  31.65    35.64\n",
       "5  54.30  45.70  2020     9.99  20.93  32.76    36.33\n",
       "6  54.21  45.79  2021     9.64  19.76  34.07    36.53\n",
       "7  54.16  45.84  2022     9.20  18.74  34.43    37.63\n",
       "8  54.12  45.88  2023     8.69  18.09  34.77    38.45"
      ]
     },
     "execution_count": 7,
     "metadata": {},
     "output_type": "execute_result"
    }
   ],
   "source": [
    "df_all"
   ]
  },
  {
   "cell_type": "markdown",
   "id": "f7e31e06-35f1-45af-9d2b-67c0330ece14",
   "metadata": {},
   "source": [
    "# 여성농업인 소득"
   ]
  },
  {
   "cell_type": "markdown",
   "id": "dcd17514-88e7-456f-8a33-4f8ee0eef7bb",
   "metadata": {},
   "source": [
    "Ref: [국가농식물통계서비스](https://kass.mafra.go.kr/newkass/kas/sti/sti/themeConfmStats.do?trg=001)"
   ]
  },
  {
   "cell_type": "markdown",
   "id": "f4ff907b-249a-47b2-84ec-215230d05c17",
   "metadata": {},
   "source": [
    "## 세 번째 그래프"
   ]
  },
  {
   "cell_type": "markdown",
   "id": "b5fdf0af-fbf4-41ca-8155-60954d20f88c",
   "metadata": {},
   "source": [
    "$\\rightarrow$ 사용한 데이터"
   ]
  },
  {
   "cell_type": "markdown",
   "id": "85bf45cd-d385-42ae-af05-f002f620f785",
   "metadata": {},
   "source": [
    "> 2023년 여성농업인실태조사의 여성농업인의 농사일 담당 비중 데이터"
   ]
  },
  {
   "cell_type": "markdown",
   "id": "8f28c11e-b213-4eb0-97c0-f0e937d161e9",
   "metadata": {},
   "source": [
    "$\\rightarrow$ 변수 설명"
   ]
  },
  {
   "cell_type": "markdown",
   "id": "0908da25-c331-41ba-9957-2391e3f37c1c",
   "metadata": {},
   "source": [
    "- 평균 비율 \n",
    "    - 원본 데이터에 존재하는 평균 데이터를 사용하였습니다."
   ]
  },
  {
   "cell_type": "markdown",
   "id": "90a81ae3-8fe0-4189-b437-0bd2e6b90154",
   "metadata": {},
   "source": [
    "$\\rightarrow$ 데이터의 활용"
   ]
  },
  {
   "cell_type": "markdown",
   "id": "cec360ea-c25b-4c98-becb-b05eada203cd",
   "metadata": {},
   "source": [
    "연령대별 여성 농업인의 농사일 담당 비중을 제시하고자 하였습니다. \n",
    "\n",
    "비율 항목이 존재했지만, 여기서는 평균적인 여성 농업인의 농사일 담당 비중이 평균적으로 절반에 이르기 때문에 농업에서 여성의 역할을 명확히 이해할 수 있습니다."
   ]
  },
  {
   "cell_type": "code",
   "execution_count": 8,
   "id": "7ba71a94-ff82-4233-b5be-34027301f7cf",
   "metadata": {},
   "outputs": [
    {
     "data": {
      "text/html": [
       "<div>\n",
       "<style scoped>\n",
       "    .dataframe tbody tr th:only-of-type {\n",
       "        vertical-align: middle;\n",
       "    }\n",
       "\n",
       "    .dataframe tbody tr th {\n",
       "        vertical-align: top;\n",
       "    }\n",
       "\n",
       "    .dataframe thead th {\n",
       "        text-align: right;\n",
       "    }\n",
       "</style>\n",
       "<table border=\"1\" class=\"dataframe\">\n",
       "  <thead>\n",
       "    <tr style=\"text-align: right;\">\n",
       "      <th></th>\n",
       "      <th>구분(2)</th>\n",
       "      <th>사례수 (명)</th>\n",
       "      <th>25%미만 (%)</th>\n",
       "      <th>25%~50%미만 (%)</th>\n",
       "      <th>50%~75%미만 (%)</th>\n",
       "      <th>75% 이상 (%)</th>\n",
       "      <th>평균 (%)</th>\n",
       "    </tr>\n",
       "  </thead>\n",
       "  <tbody>\n",
       "    <tr>\n",
       "      <th>7</th>\n",
       "      <td>40대 이하</td>\n",
       "      <td>125</td>\n",
       "      <td>13.4</td>\n",
       "      <td>37.7</td>\n",
       "      <td>34.3</td>\n",
       "      <td>14.5</td>\n",
       "      <td>46.2</td>\n",
       "    </tr>\n",
       "    <tr>\n",
       "      <th>8</th>\n",
       "      <td>50대</td>\n",
       "      <td>296</td>\n",
       "      <td>4.7</td>\n",
       "      <td>31.6</td>\n",
       "      <td>44.1</td>\n",
       "      <td>19.6</td>\n",
       "      <td>55.4</td>\n",
       "    </tr>\n",
       "    <tr>\n",
       "      <th>9</th>\n",
       "      <td>60대</td>\n",
       "      <td>821</td>\n",
       "      <td>3.8</td>\n",
       "      <td>41.7</td>\n",
       "      <td>45.9</td>\n",
       "      <td>8.6</td>\n",
       "      <td>48.3</td>\n",
       "    </tr>\n",
       "    <tr>\n",
       "      <th>10</th>\n",
       "      <td>70대 이상</td>\n",
       "      <td>761</td>\n",
       "      <td>7.4</td>\n",
       "      <td>41.9</td>\n",
       "      <td>32.4</td>\n",
       "      <td>18.4</td>\n",
       "      <td>50.8</td>\n",
       "    </tr>\n",
       "  </tbody>\n",
       "</table>\n",
       "</div>"
      ],
      "text/plain": [
       "     구분(2)  사례수 (명)  25%미만 (%)  25%~50%미만 (%)  50%~75%미만 (%)  75% 이상 (%)  \\\n",
       "7   40대 이하      125       13.4           37.7           34.3        14.5   \n",
       "8      50대      296        4.7           31.6           44.1        19.6   \n",
       "9      60대      821        3.8           41.7           45.9         8.6   \n",
       "10  70대 이상      761        7.4           41.9           32.4        18.4   \n",
       "\n",
       "    평균 (%)  \n",
       "7     46.2  \n",
       "8     55.4  \n",
       "9     48.3  \n",
       "10    50.8  "
      ]
     },
     "execution_count": 8,
     "metadata": {},
     "output_type": "execute_result"
    }
   ],
   "source": [
    "df = pd.read_csv('dataset/Farm_dataset/2023_여성농업인의_농사일_담당_비중.csv',header=1).iloc[7:11,1:] \n",
    "df"
   ]
  },
  {
   "cell_type": "markdown",
   "id": "479baca6-103a-4258-a4cf-0357e6bf8b5c",
   "metadata": {},
   "source": [
    "- 평균 비율의 평균"
   ]
  },
  {
   "cell_type": "code",
   "execution_count": 9,
   "id": "8fa86451-7718-4dc1-bd17-ca9316987a22",
   "metadata": {},
   "outputs": [
    {
     "data": {
      "text/plain": [
       "50.175"
      ]
     },
     "execution_count": 9,
     "metadata": {},
     "output_type": "execute_result"
    }
   ],
   "source": [
    "df.iloc[:,-1].mean()"
   ]
  },
  {
   "cell_type": "code",
   "execution_count": 10,
   "id": "845f7c5e-60ec-42fb-97e9-9bcb4e5208f9",
   "metadata": {},
   "outputs": [
    {
     "ename": "NameError",
     "evalue": "name 'go' is not defined",
     "output_type": "error",
     "traceback": [
      "\u001b[0;31m---------------------------------------------------------------------------\u001b[0m",
      "\u001b[0;31mNameError\u001b[0m                                 Traceback (most recent call last)",
      "\u001b[0;32m/tmp/ipykernel_88759/4179909942.py\u001b[0m in \u001b[0;36m<module>\u001b[0;34m\u001b[0m\n\u001b[1;32m      1\u001b[0m \u001b[0mage_groups\u001b[0m \u001b[0;34m=\u001b[0m \u001b[0mdf\u001b[0m\u001b[0;34m[\u001b[0m\u001b[0;34m'구분(2)'\u001b[0m\u001b[0;34m]\u001b[0m\u001b[0;34m\u001b[0m\u001b[0;34m\u001b[0m\u001b[0m\n\u001b[0;32m----> 2\u001b[0;31m \u001b[0mfig\u001b[0m \u001b[0;34m=\u001b[0m \u001b[0mgo\u001b[0m\u001b[0;34m.\u001b[0m\u001b[0mFigure\u001b[0m\u001b[0;34m(\u001b[0m\u001b[0;34m)\u001b[0m\u001b[0;34m\u001b[0m\u001b[0;34m\u001b[0m\u001b[0m\n\u001b[0m\u001b[1;32m      3\u001b[0m \u001b[0;34m\u001b[0m\u001b[0m\n\u001b[1;32m      4\u001b[0m fig.add_trace(go.Bar(\n\u001b[1;32m      5\u001b[0m     \u001b[0mx\u001b[0m\u001b[0;34m=\u001b[0m\u001b[0mage_groups\u001b[0m\u001b[0;34m,\u001b[0m\u001b[0;34m\u001b[0m\u001b[0;34m\u001b[0m\u001b[0m\n",
      "\u001b[0;31mNameError\u001b[0m: name 'go' is not defined"
     ]
    }
   ],
   "source": [
    "age_groups = df['구분(2)']\n",
    "fig = go.Figure()\n",
    "\n",
    "fig.add_trace(go.Bar(\n",
    "    x=age_groups,\n",
    "    y=df['평균 (%)'],\n",
    "    name=column\n",
    "))\n",
    "    \n",
    "fig.update_layout(\n",
    "    title='여성농업인의 농사일 담당 비중',\n",
    "    xaxis_title='연령대',\n",
    "    yaxis_title='평균 비율 (%)',\n",
    "    barmode='stack',width=800,height=500,template='ggplot2',\n",
    "    legend=dict(\n",
    "        orientation=\"h\",\n",
    "        yanchor=\"top\",\n",
    "        y=-0.2, \n",
    "        xanchor=\"center\",\n",
    "        x=0.5\n",
    "    ))\n",
    "fig"
   ]
  },
  {
   "cell_type": "markdown",
   "id": "4f3ae162-43a5-4ce3-8e53-796f471c9969",
   "metadata": {},
   "source": [
    "## 네 번째 그래프"
   ]
  },
  {
   "cell_type": "markdown",
   "id": "38583ec3-7131-4118-b8b4-a08f42276272",
   "metadata": {},
   "source": [
    "$\\rightarrow$ 사용한 데이터"
   ]
  },
  {
   "cell_type": "markdown",
   "id": "87b938ab-cf61-4f75-862f-c2f45be7031e",
   "metadata": {},
   "source": [
    "> 2023년 여성농업인실태조사의 농외 소득활동 희망 이유 데이터"
   ]
  },
  {
   "cell_type": "markdown",
   "id": "97d4c6a9-5923-4fe8-9bf1-6f4b47088d31",
   "metadata": {},
   "source": [
    "$\\rightarrow$ 변수 설명"
   ]
  },
  {
   "cell_type": "markdown",
   "id": "35625b9a-fad6-4b02-9273-f58629aac64e",
   "metadata": {},
   "source": [
    "- **농사만으로 생활비 부족 (%)** 항목의 데이터\n",
    "    - 원본 데이터에 있는 항목의 데이터 그대로를 사용하였습니다."
   ]
  },
  {
   "cell_type": "markdown",
   "id": "9d1fd63b-466c-4c66-98c9-ae69ff899e4c",
   "metadata": {},
   "source": [
    "$\\rightarrow$ 데이터의 활용"
   ]
  },
  {
   "cell_type": "markdown",
   "id": "2d34851f-d985-4189-a652-1a52e9953310",
   "metadata": {},
   "source": [
    "세 번째 그래프에서 여성농업인의 농사일 담당 비중은 평균적으로 절반에 육박하지만, 농사만으로 생활비가 부족하여 농외 소득활동을 희망하는 여성의 비중이 작지 않다는 점을 강조하고자 하였습니다."
   ]
  },
  {
   "cell_type": "code",
   "execution_count": 11,
   "id": "3498bc52-51ea-4bea-81b8-5bd018a32dc8",
   "metadata": {},
   "outputs": [
    {
     "data": {
      "text/html": [
       "<div>\n",
       "<style scoped>\n",
       "    .dataframe tbody tr th:only-of-type {\n",
       "        vertical-align: middle;\n",
       "    }\n",
       "\n",
       "    .dataframe tbody tr th {\n",
       "        vertical-align: top;\n",
       "    }\n",
       "\n",
       "    .dataframe thead th {\n",
       "        text-align: right;\n",
       "    }\n",
       "</style>\n",
       "<table border=\"1\" class=\"dataframe\">\n",
       "  <thead>\n",
       "    <tr style=\"text-align: right;\">\n",
       "      <th></th>\n",
       "      <th>구분(2)</th>\n",
       "      <th>사례수 (명)</th>\n",
       "      <th>농사만으로 생활비 부족 (%)</th>\n",
       "      <th>일할 수 있을 때 추가소득 마련 (%)</th>\n",
       "      <th>유휴시설을 활용하려고 (%)</th>\n",
       "      <th>재능·장점을 활용하려고 (%)</th>\n",
       "      <th>사회생활을 하려고 (%)</th>\n",
       "      <th>타인 권유·정책적 지원 (%)</th>\n",
       "    </tr>\n",
       "  </thead>\n",
       "  <tbody>\n",
       "    <tr>\n",
       "      <th>6</th>\n",
       "      <td>40대 이하</td>\n",
       "      <td>45</td>\n",
       "      <td>51.1</td>\n",
       "      <td>20.2</td>\n",
       "      <td>0.0</td>\n",
       "      <td>10.4</td>\n",
       "      <td>16.8</td>\n",
       "      <td>1.5</td>\n",
       "    </tr>\n",
       "    <tr>\n",
       "      <th>7</th>\n",
       "      <td>50대</td>\n",
       "      <td>75</td>\n",
       "      <td>45.0</td>\n",
       "      <td>40.1</td>\n",
       "      <td>0.0</td>\n",
       "      <td>5.8</td>\n",
       "      <td>9.2</td>\n",
       "      <td>0.0</td>\n",
       "    </tr>\n",
       "    <tr>\n",
       "      <th>8</th>\n",
       "      <td>60대</td>\n",
       "      <td>107</td>\n",
       "      <td>51.5</td>\n",
       "      <td>40.3</td>\n",
       "      <td>1.7</td>\n",
       "      <td>4.9</td>\n",
       "      <td>1.4</td>\n",
       "      <td>0.3</td>\n",
       "    </tr>\n",
       "    <tr>\n",
       "      <th>9</th>\n",
       "      <td>70대 이상</td>\n",
       "      <td>39</td>\n",
       "      <td>87.6</td>\n",
       "      <td>8.8</td>\n",
       "      <td>0.0</td>\n",
       "      <td>0.0</td>\n",
       "      <td>3.6</td>\n",
       "      <td>0.0</td>\n",
       "    </tr>\n",
       "  </tbody>\n",
       "</table>\n",
       "</div>"
      ],
      "text/plain": [
       "    구분(2)  사례수 (명)  농사만으로 생활비 부족 (%)  일할 수 있을 때 추가소득 마련 (%)  유휴시설을 활용하려고 (%)  \\\n",
       "6  40대 이하       45              51.1                   20.2              0.0   \n",
       "7     50대       75              45.0                   40.1              0.0   \n",
       "8     60대      107              51.5                   40.3              1.7   \n",
       "9  70대 이상       39              87.6                    8.8              0.0   \n",
       "\n",
       "   재능·장점을 활용하려고 (%)  사회생활을 하려고 (%)  타인 권유·정책적 지원 (%)  \n",
       "6              10.4           16.8               1.5  \n",
       "7               5.8            9.2               0.0  \n",
       "8               4.9            1.4               0.3  \n",
       "9               0.0            3.6               0.0  "
      ]
     },
     "execution_count": 11,
     "metadata": {},
     "output_type": "execute_result"
    }
   ],
   "source": [
    "df = pd.read_csv('dataset/Farm_dataset/2023_농외_소득활동_희망_이유.csv',header=1).iloc[6:10,1:]\n",
    "df"
   ]
  },
  {
   "cell_type": "code",
   "execution_count": 12,
   "id": "10862e90-2667-49d8-85f5-e491c76e98d1",
   "metadata": {},
   "outputs": [
    {
     "ename": "NameError",
     "evalue": "name 'go' is not defined",
     "output_type": "error",
     "traceback": [
      "\u001b[0;31m---------------------------------------------------------------------------\u001b[0m",
      "\u001b[0;31mNameError\u001b[0m                                 Traceback (most recent call last)",
      "\u001b[0;32m/tmp/ipykernel_88759/3258440887.py\u001b[0m in \u001b[0;36m<module>\u001b[0;34m\u001b[0m\n\u001b[1;32m      1\u001b[0m \u001b[0mage_groups\u001b[0m \u001b[0;34m=\u001b[0m \u001b[0mdf\u001b[0m\u001b[0;34m[\u001b[0m\u001b[0;34m'구분(2)'\u001b[0m\u001b[0;34m]\u001b[0m\u001b[0;34m\u001b[0m\u001b[0;34m\u001b[0m\u001b[0m\n\u001b[0;32m----> 2\u001b[0;31m \u001b[0mfig\u001b[0m \u001b[0;34m=\u001b[0m \u001b[0mgo\u001b[0m\u001b[0;34m.\u001b[0m\u001b[0mFigure\u001b[0m\u001b[0;34m(\u001b[0m\u001b[0;34m)\u001b[0m\u001b[0;34m\u001b[0m\u001b[0;34m\u001b[0m\u001b[0m\n\u001b[0m\u001b[1;32m      3\u001b[0m \u001b[0;34m\u001b[0m\u001b[0m\n\u001b[1;32m      4\u001b[0m fig.add_trace(go.Bar(\n\u001b[1;32m      5\u001b[0m     \u001b[0mx\u001b[0m\u001b[0;34m=\u001b[0m\u001b[0mage_groups\u001b[0m\u001b[0;34m,\u001b[0m\u001b[0;34m\u001b[0m\u001b[0;34m\u001b[0m\u001b[0m\n",
      "\u001b[0;31mNameError\u001b[0m: name 'go' is not defined"
     ]
    }
   ],
   "source": [
    "age_groups = df['구분(2)']\n",
    "fig = go.Figure()\n",
    "\n",
    "fig.add_trace(go.Bar(\n",
    "    x=age_groups,\n",
    "    y=df['농사만으로 생활비 부족 (%)']\n",
    "))\n",
    "    \n",
    "fig.update_layout(\n",
    "    title='농외 소득활동 희망 이유',\n",
    "    xaxis_title='연령대',\n",
    "    yaxis_title='비율 (%)',\n",
    "    barmode='stack',width=800,height=500,template='ggplot2',\n",
    "    legend=dict(\n",
    "        orientation=\"h\",\n",
    "        yanchor=\"top\",\n",
    "        y=-0.2, \n",
    "        xanchor=\"center\",\n",
    "        x=0.5\n",
    "    ))\n",
    "fig"
   ]
  },
  {
   "cell_type": "markdown",
   "id": "49471dcc-9b42-4798-9665-0d4e775a87ac",
   "metadata": {},
   "source": [
    "# 여성농업인 지위"
   ]
  },
  {
   "cell_type": "markdown",
   "id": "d7c0a81d-bd8f-4d70-b614-cee910313f96",
   "metadata": {},
   "source": [
    "Ref: [국가농식물통계서비스](https://kass.mafra.go.kr/newkass/kas/sti/sti/themeConfmStats.do?trg=001)"
   ]
  },
  {
   "cell_type": "markdown",
   "id": "12827fbb-df5a-4542-b0da-6c576fce3d69",
   "metadata": {},
   "source": [
    "## 다섯 번째 그래프"
   ]
  },
  {
   "cell_type": "markdown",
   "id": "7cd1f101-2950-417b-a0c6-06e52706c7fd",
   "metadata": {},
   "source": [
    "$\\rightarrow$ 사용한 데이터"
   ]
  },
  {
   "cell_type": "markdown",
   "id": "2cb4ac45-a814-4ced-81e7-b31c710c8dde",
   "metadata": {},
   "source": [
    "> 2023년 여성농업인실태조사의 거주 지역사회에서 여성의 지위 인식 데이터"
   ]
  },
  {
   "cell_type": "markdown",
   "id": "5bfbc296-b8a1-4fcb-820a-e4f0bb8b9484",
   "metadata": {},
   "source": [
    "$\\rightarrow$ 변수 설명"
   ]
  },
  {
   "cell_type": "markdown",
   "id": "ed19f3d1-4f00-4f0a-9840-18d2c34fc5de",
   "metadata": {},
   "source": [
    "- 낮다, 같다, 높아졌다의 세 항목\n",
    "    - 원본 데이터에는 **여전히 남성보다 낮다 (%), 예전보다 높아졌지만 아직 남성보다 낮다 (%), 남성과 같다 (%), 남성보다 높아졌다 (%), 잘 모르겠다 (%)**의 항목이 있었고,\n",
    "    - 이를 아래와 같이 세 항목으로 나눠 표현하였습니다.\n",
    "        - 낮다 = 여전히 남성보다 낮다 (%) + 예전보다 높아졌지만 아직 남성보다 낮다 (%)\n",
    "        - 같다 = 남성과 같다 (%)\n",
    "        - 높아졌다 = 남성보다 높아졌다 (%)"
   ]
  },
  {
   "cell_type": "markdown",
   "id": "77a4dfc4-37a2-4eb3-86d6-99323fee9b27",
   "metadata": {},
   "source": [
    "$\\rightarrow$ 데이터의 활용"
   ]
  },
  {
   "cell_type": "markdown",
   "id": "846112e5-0d6e-4a93-b04a-db1889edb8c2",
   "metadata": {},
   "source": [
    "항목을 나눈 이유는 아래와 같습니다.\n",
    "\n",
    "1. 분석을 단순화하여 핵심 경향을 명확히 파악할 수 있도록 하고\n",
    "2.  남성과의 상대적 위치 변화를 직관적으로 비교할 수 있게 하며\n",
    "3.  응답자가 확실히 알지 못하는 경우를 구분하여 전체 결과의 신뢰성을 높이기 위해서입니다.\n",
    "    \n",
    "여성 농업인의 상대적 지위 변화를 명확히 파악하고, 다양한 연령대에 따른 인식 차이를 확인하기 위해서 해당 데이터를 제시하였습니다."
   ]
  },
  {
   "cell_type": "code",
   "execution_count": 13,
   "id": "885dac95-6bfd-422a-bb80-c1fc57c68231",
   "metadata": {},
   "outputs": [
    {
     "data": {
      "text/html": [
       "<div>\n",
       "<style scoped>\n",
       "    .dataframe tbody tr th:only-of-type {\n",
       "        vertical-align: middle;\n",
       "    }\n",
       "\n",
       "    .dataframe tbody tr th {\n",
       "        vertical-align: top;\n",
       "    }\n",
       "\n",
       "    .dataframe thead th {\n",
       "        text-align: right;\n",
       "    }\n",
       "</style>\n",
       "<table border=\"1\" class=\"dataframe\">\n",
       "  <thead>\n",
       "    <tr style=\"text-align: right;\">\n",
       "      <th></th>\n",
       "      <th>구분(2)</th>\n",
       "      <th>사례수 (명)</th>\n",
       "      <th>농사만으로 생활비 부족 (%)</th>\n",
       "      <th>일할 수 있을 때 추가소득 마련 (%)</th>\n",
       "      <th>유휴시설을 활용하려고 (%)</th>\n",
       "      <th>재능·장점을 활용하려고 (%)</th>\n",
       "      <th>사회생활을 하려고 (%)</th>\n",
       "      <th>타인 권유·정책적 지원 (%)</th>\n",
       "    </tr>\n",
       "  </thead>\n",
       "  <tbody>\n",
       "    <tr>\n",
       "      <th>6</th>\n",
       "      <td>40대 이하</td>\n",
       "      <td>45</td>\n",
       "      <td>51.1</td>\n",
       "      <td>20.2</td>\n",
       "      <td>0.0</td>\n",
       "      <td>10.4</td>\n",
       "      <td>16.8</td>\n",
       "      <td>1.5</td>\n",
       "    </tr>\n",
       "    <tr>\n",
       "      <th>7</th>\n",
       "      <td>50대</td>\n",
       "      <td>75</td>\n",
       "      <td>45.0</td>\n",
       "      <td>40.1</td>\n",
       "      <td>0.0</td>\n",
       "      <td>5.8</td>\n",
       "      <td>9.2</td>\n",
       "      <td>0.0</td>\n",
       "    </tr>\n",
       "    <tr>\n",
       "      <th>8</th>\n",
       "      <td>60대</td>\n",
       "      <td>107</td>\n",
       "      <td>51.5</td>\n",
       "      <td>40.3</td>\n",
       "      <td>1.7</td>\n",
       "      <td>4.9</td>\n",
       "      <td>1.4</td>\n",
       "      <td>0.3</td>\n",
       "    </tr>\n",
       "    <tr>\n",
       "      <th>9</th>\n",
       "      <td>70대 이상</td>\n",
       "      <td>39</td>\n",
       "      <td>87.6</td>\n",
       "      <td>8.8</td>\n",
       "      <td>0.0</td>\n",
       "      <td>0.0</td>\n",
       "      <td>3.6</td>\n",
       "      <td>0.0</td>\n",
       "    </tr>\n",
       "  </tbody>\n",
       "</table>\n",
       "</div>"
      ],
      "text/plain": [
       "    구분(2)  사례수 (명)  농사만으로 생활비 부족 (%)  일할 수 있을 때 추가소득 마련 (%)  유휴시설을 활용하려고 (%)  \\\n",
       "6  40대 이하       45              51.1                   20.2              0.0   \n",
       "7     50대       75              45.0                   40.1              0.0   \n",
       "8     60대      107              51.5                   40.3              1.7   \n",
       "9  70대 이상       39              87.6                    8.8              0.0   \n",
       "\n",
       "   재능·장점을 활용하려고 (%)  사회생활을 하려고 (%)  타인 권유·정책적 지원 (%)  \n",
       "6              10.4           16.8               1.5  \n",
       "7               5.8            9.2               0.0  \n",
       "8               4.9            1.4               0.3  \n",
       "9               0.0            3.6               0.0  "
      ]
     },
     "execution_count": 13,
     "metadata": {},
     "output_type": "execute_result"
    }
   ],
   "source": [
    "df"
   ]
  },
  {
   "cell_type": "markdown",
   "id": "29340aaa-a5f8-4f5f-8663-13b0891551ff",
   "metadata": {},
   "source": [
    "- 연령별"
   ]
  },
  {
   "cell_type": "code",
   "execution_count": 14,
   "id": "b64f4cfd-4a01-4347-9a27-f62fdb1ca46c",
   "metadata": {},
   "outputs": [],
   "source": [
    "df = pd.read_csv('dataset/Farm_dataset/2023_거주_지역사회에서_여성의_지위_인식.csv',header=1).iloc[7:11,1:] "
   ]
  },
  {
   "cell_type": "code",
   "execution_count": 15,
   "id": "fcfa71d0-89f9-4b49-81d1-7943703d6c3c",
   "metadata": {
    "tags": []
   },
   "outputs": [],
   "source": [
    "age_groups = df['구분(2)']\n",
    "values = df.set_index('구분(2)').drop(columns='사례수 (명)')\n",
    "\n",
    "values = values.assign(낮다 = values['여전히 남성보다 낮다 (%)']+ values['예전보다 높아졌지만 아직 남성보다 낮다 (%)'])\n",
    "values = values.assign(같다 = values['남성과 같다 (%)'])\n",
    "values = values.assign(높아졌다 = values['남성보다 높아졌다 (%)'])\n",
    "\n",
    "values = values.iloc[:,5:]"
   ]
  },
  {
   "cell_type": "code",
   "execution_count": 16,
   "id": "ad1670a3-fe4a-44e3-8494-46cb12bea9bb",
   "metadata": {},
   "outputs": [
    {
     "ename": "NameError",
     "evalue": "name 'go' is not defined",
     "output_type": "error",
     "traceback": [
      "\u001b[0;31m---------------------------------------------------------------------------\u001b[0m",
      "\u001b[0;31mNameError\u001b[0m                                 Traceback (most recent call last)",
      "\u001b[0;32m/tmp/ipykernel_88759/2256384751.py\u001b[0m in \u001b[0;36m<module>\u001b[0;34m\u001b[0m\n\u001b[0;32m----> 1\u001b[0;31m \u001b[0mfig\u001b[0m \u001b[0;34m=\u001b[0m \u001b[0mgo\u001b[0m\u001b[0;34m.\u001b[0m\u001b[0mFigure\u001b[0m\u001b[0;34m(\u001b[0m\u001b[0;34m)\u001b[0m\u001b[0;34m\u001b[0m\u001b[0;34m\u001b[0m\u001b[0m\n\u001b[0m\u001b[1;32m      2\u001b[0m \u001b[0;34m\u001b[0m\u001b[0m\n\u001b[1;32m      3\u001b[0m \u001b[0;32mfor\u001b[0m \u001b[0mcolumn\u001b[0m \u001b[0;32min\u001b[0m \u001b[0mvalues\u001b[0m\u001b[0;34m.\u001b[0m\u001b[0mcolumns\u001b[0m\u001b[0;34m:\u001b[0m\u001b[0;34m\u001b[0m\u001b[0;34m\u001b[0m\u001b[0m\n\u001b[1;32m      4\u001b[0m     fig.add_trace(go.Bar(\n\u001b[1;32m      5\u001b[0m         \u001b[0mx\u001b[0m\u001b[0;34m=\u001b[0m\u001b[0mage_groups\u001b[0m\u001b[0;34m,\u001b[0m\u001b[0;34m\u001b[0m\u001b[0;34m\u001b[0m\u001b[0m\n",
      "\u001b[0;31mNameError\u001b[0m: name 'go' is not defined"
     ]
    }
   ],
   "source": [
    "fig = go.Figure()\n",
    "\n",
    "for column in values.columns:\n",
    "    fig.add_trace(go.Bar(\n",
    "        x=age_groups,\n",
    "        y=values[column],\n",
    "        name=column\n",
    "    ))\n",
    "    \n",
    "fig.update_layout(\n",
    "    title='여성의 지위 인식 연령대별 비율',\n",
    "    xaxis_title='연령대',\n",
    "    yaxis_title='비율 (%)',\n",
    "    barmode='stack',width=800,height=500,template='ggplot2',\n",
    "    legend=dict(\n",
    "        orientation=\"h\",\n",
    "        yanchor=\"top\",\n",
    "        y=-0.2, \n",
    "        xanchor=\"center\",\n",
    "        x=0.5\n",
    "    ))\n",
    "fig"
   ]
  },
  {
   "cell_type": "markdown",
   "id": "4b111fc6-9996-4d5d-aea0-3acfebb5040e",
   "metadata": {
    "tags": []
   },
   "source": [
    "# 여성농업인 역량"
   ]
  },
  {
   "cell_type": "markdown",
   "id": "cc66e5f7-b405-4c9e-9679-331b44a7247a",
   "metadata": {},
   "source": [
    "Ref: [국가농식물통계서비스](https://kass.mafra.go.kr/newkass/kas/sti/sti/themeConfmStats.do?trg=001)"
   ]
  },
  {
   "cell_type": "markdown",
   "id": "f7fd8051-1b55-4255-80fa-e912d9f696a7",
   "metadata": {},
   "source": [
    "## 여섯 번째 그래프"
   ]
  },
  {
   "cell_type": "markdown",
   "id": "1498691b-2a4b-477a-8c41-92382f72c305",
   "metadata": {},
   "source": [
    "$\\rightarrow$ 사용한 데이터"
   ]
  },
  {
   "cell_type": "markdown",
   "id": "0587c167-73a0-4176-9a80-8ec637a135d1",
   "metadata": {},
   "source": [
    "> 2023년 여성농업인실태조사의 디지털 기술 활용 역량 데이터"
   ]
  },
  {
   "cell_type": "markdown",
   "id": "4054ce5d-de44-4ff5-ac9d-7a72a012c3b8",
   "metadata": {},
   "source": [
    "$\\rightarrow$ 변수 설명"
   ]
  },
  {
   "cell_type": "markdown",
   "id": "557e0e4b-f165-4c8f-ae92-06bfeefc668b",
   "metadata": {},
   "source": [
    "- 구분은 아래와 같으며, 원본 데이터를 사용하였습니다.\n",
    "    - 스마트폰/PC 정보검색\n",
    "    - 이메일/메신저 사용\n",
    "    - 소셜미디어 서비스\n",
    "    - 온라인 예약/쇼핑/결제\n",
    "    - 온라인 공공행정 서비스\n",
    "    - 온라인 금융거래\n",
    "    - 키오스크 주문\n",
    "    - 셀프주유소\n",
    "- 항목은 아래와 같으며, 이 중 **혼자 능숙하게 사용함 (%)** 데이터를 사용하였습니다.\n",
    "    - 해당 데이터만 시각화한 이유는 기술의 실제 활용 능력을 직접적으로 측정하기 위해서입니다. 이 데이터는 기술 사용의 자립성과 숙련도를 평가하는 데 중점을 두어, 실질적인 활용 수준을 파악할 수 있습니다.\n",
    "    - 원본 데이터의 항목은 아래와 같습니다.\n",
    "        - 전혀 사용할 줄 모름 (%)\n",
    "        - 알지만 사용할 줄 모름 (%)\n",
    "        - 사용할 수 있으나 도움 필요 (%)\n",
    "        - 혼자 능숙하게 사용함 (%)\n",
    "        - 비해당 (%)"
   ]
  },
  {
   "cell_type": "markdown",
   "id": "d0b57119-8d5c-48f5-a654-ea2f2a2514ec",
   "metadata": {},
   "source": [
    "$\\rightarrow$ 데이터의 활용"
   ]
  },
  {
   "cell_type": "markdown",
   "id": "af465db8-1e16-4a07-a261-d21343a9598b",
   "metadata": {},
   "source": [
    "연령대별로 '혼자 능숙하게 사용함' 응답 비율을 시각화하여 디지털 활용 능력의 차이를 보여주고자 하였습니다. \n",
    "\n",
    "이를 통해 각 연령대가 기술을 얼마나 자립적으로 활용할 수 있는지에 대한 명확한 비교가 가능합니다. \n",
    "\n",
    "이 정보는 연령대별 디지털 격차를 이해하고, 필요한 지원을 제공하는 데 유용합니다."
   ]
  },
  {
   "cell_type": "code",
   "execution_count": 17,
   "id": "abc7c07c-11fd-4fdc-b268-41cc3021ec99",
   "metadata": {},
   "outputs": [
    {
     "ename": "NameError",
     "evalue": "name 'px' is not defined",
     "output_type": "error",
     "traceback": [
      "\u001b[0;31m---------------------------------------------------------------------------\u001b[0m",
      "\u001b[0;31mNameError\u001b[0m                                 Traceback (most recent call last)",
      "\u001b[0;32m/tmp/ipykernel_88759/636916196.py\u001b[0m in \u001b[0;36m<module>\u001b[0;34m\u001b[0m\n\u001b[1;32m      7\u001b[0m \u001b[0mdf\u001b[0m \u001b[0;34m=\u001b[0m \u001b[0mpd\u001b[0m\u001b[0;34m.\u001b[0m\u001b[0mmelt\u001b[0m\u001b[0;34m(\u001b[0m\u001b[0mdf\u001b[0m\u001b[0;34m,\u001b[0m \u001b[0mid_vars\u001b[0m\u001b[0;34m=\u001b[0m\u001b[0;34m[\u001b[0m\u001b[0;34m'구분'\u001b[0m\u001b[0;34m,\u001b[0m \u001b[0;34m'항목'\u001b[0m\u001b[0;34m]\u001b[0m\u001b[0;34m,\u001b[0m \u001b[0mvar_name\u001b[0m\u001b[0;34m=\u001b[0m\u001b[0;34m'연령대'\u001b[0m\u001b[0;34m,\u001b[0m \u001b[0mvalue_name\u001b[0m\u001b[0;34m=\u001b[0m\u001b[0;34m'능숙도 (%)'\u001b[0m\u001b[0;34m)\u001b[0m\u001b[0;34m\u001b[0m\u001b[0;34m\u001b[0m\u001b[0m\n\u001b[1;32m      8\u001b[0m \u001b[0;34m\u001b[0m\u001b[0m\n\u001b[0;32m----> 9\u001b[0;31m fig = px.line(df, x='구분', y='능숙도 (%)', color='연령대', markers=True,\n\u001b[0m\u001b[1;32m     10\u001b[0m               \u001b[0mtitle\u001b[0m\u001b[0;34m=\u001b[0m\u001b[0;34m'연령대별 혼자 능숙하게 사용함의 응답 비율'\u001b[0m\u001b[0;34m,\u001b[0m\u001b[0;34m\u001b[0m\u001b[0;34m\u001b[0m\u001b[0m\n\u001b[1;32m     11\u001b[0m              width=1000, height=600,template='ggplot2')\n",
      "\u001b[0;31mNameError\u001b[0m: name 'px' is not defined"
     ]
    }
   ],
   "source": [
    "df = pd.read_csv('./dataset/Farm_dataset/2023_디지털_기술_활용_역량.csv',header=0).iloc[[0,1,9,10,11,12],2:].T.rename(columns={0:'구분',1:'항목',9:'40대 이하',10:'50대',11:'60대',12:'70대 이상'}).query('항목==\"혼자 능숙하게 사용함 (%)\"')\n",
    "df['40대 이하'] = pd.to_numeric(df['40대 이하'], errors='coerce')\n",
    "df['50대'] = pd.to_numeric(df['50대'], errors='coerce')\n",
    "df['60대'] = pd.to_numeric(df['60대'], errors='coerce')\n",
    "df['70대 이상'] = pd.to_numeric(df['70대 이상'], errors='coerce')\n",
    "\n",
    "df = pd.melt(df, id_vars=['구분', '항목'], var_name='연령대', value_name='능숙도 (%)')\n",
    "\n",
    "fig = px.line(df, x='구분', y='능숙도 (%)', color='연령대', markers=True,\n",
    "              title='연령대별 혼자 능숙하게 사용함의 응답 비율',\n",
    "             width=1000, height=600,template='ggplot2')\n",
    "\n",
    "fig.show()"
   ]
  },
  {
   "cell_type": "markdown",
   "id": "2ad80614-cca5-419c-8586-4d9caa808694",
   "metadata": {},
   "source": [
    "## 일곱 번째 그래프"
   ]
  },
  {
   "cell_type": "markdown",
   "id": "3a2110e9-f33b-4d47-b888-8e50842e2375",
   "metadata": {},
   "source": [
    "$\\rightarrow$ 사용한 데이터"
   ]
  },
  {
   "cell_type": "markdown",
   "id": "62053589-c2a3-4c25-971a-b549b52e9caf",
   "metadata": {},
   "source": [
    "> 2023년 여성농업인실태조사의 여성농업인의 자격증 보유_현황"
   ]
  },
  {
   "cell_type": "markdown",
   "id": "6a7b0ba1-f62f-4bdd-b8b8-a032ccf72f6d",
   "metadata": {},
   "source": [
    "$\\rightarrow$ 변수 설명"
   ]
  },
  {
   "cell_type": "markdown",
   "id": "a2d2e279-b59f-409f-9a6b-dbd32ec2f4e5",
   "metadata": {},
   "source": [
    "- 평균 비율 \n",
    "    - 원본 데이터에 존재하는 평균 (개) 데이터를 사용하였습니다."
   ]
  },
  {
   "cell_type": "markdown",
   "id": "e701b9b7-6f1f-44a9-8fdb-0a2f14044666",
   "metadata": {},
   "source": [
    "$\\rightarrow$ 데이터의 활용"
   ]
  },
  {
   "cell_type": "markdown",
   "id": "ffb1a9b2-9bce-4d44-b391-b68aa4906fd1",
   "metadata": {},
   "source": [
    "연령대별 여성 농업인의 자격증 보유 현황을 제시하고자 하였습니다. \n",
    "\n",
    "연령대별로 명확한 차이를 보이는 자격증 보유 현황을 확인함으로써, 각 연령대의 전문성 및 교육 수준을 비교하고, 자격증 취득에 대한 지원 필요성을 파악할 수 있습니다."
   ]
  },
  {
   "cell_type": "code",
   "execution_count": 18,
   "id": "857f3ca8-1035-41af-9165-72f002189d98",
   "metadata": {},
   "outputs": [
    {
     "ename": "NameError",
     "evalue": "name 'px' is not defined",
     "output_type": "error",
     "traceback": [
      "\u001b[0;31m---------------------------------------------------------------------------\u001b[0m",
      "\u001b[0;31mNameError\u001b[0m                                 Traceback (most recent call last)",
      "\u001b[0;32m/tmp/ipykernel_88759/3295615145.py\u001b[0m in \u001b[0;36m<module>\u001b[0;34m\u001b[0m\n\u001b[1;32m      1\u001b[0m \u001b[0mdf\u001b[0m \u001b[0;34m=\u001b[0m \u001b[0mpd\u001b[0m\u001b[0;34m.\u001b[0m\u001b[0mread_csv\u001b[0m\u001b[0;34m(\u001b[0m\u001b[0;34m'./dataset/Farm_dataset/2023_여성농업인의_자격증_보유_현황.csv'\u001b[0m\u001b[0;34m)\u001b[0m\u001b[0;34m.\u001b[0m\u001b[0miloc\u001b[0m\u001b[0;34m[\u001b[0m\u001b[0;36m7\u001b[0m\u001b[0;34m:\u001b[0m\u001b[0;36m11\u001b[0m\u001b[0;34m,\u001b[0m\u001b[0;34m[\u001b[0m\u001b[0;36m1\u001b[0m\u001b[0;34m,\u001b[0m\u001b[0;34m-\u001b[0m\u001b[0;36m1\u001b[0m\u001b[0;34m]\u001b[0m\u001b[0;34m]\u001b[0m\u001b[0;34m.\u001b[0m\u001b[0mrename\u001b[0m\u001b[0;34m(\u001b[0m\u001b[0mcolumns\u001b[0m\u001b[0;34m=\u001b[0m\u001b[0;34m{\u001b[0m\u001b[0;34m'구분(2)'\u001b[0m\u001b[0;34m:\u001b[0m\u001b[0;34m'연령'\u001b[0m\u001b[0;34m,\u001b[0m\u001b[0;34m'2023.4'\u001b[0m\u001b[0;34m:\u001b[0m\u001b[0;34m'자격증 평균 보유 수'\u001b[0m\u001b[0;34m}\u001b[0m\u001b[0;34m)\u001b[0m\u001b[0;34m\u001b[0m\u001b[0;34m\u001b[0m\u001b[0m\n\u001b[1;32m      2\u001b[0m \u001b[0mdf\u001b[0m\u001b[0;34m[\u001b[0m\u001b[0;34m'자격증 평균 보유 수'\u001b[0m\u001b[0;34m]\u001b[0m \u001b[0;34m=\u001b[0m \u001b[0mpd\u001b[0m\u001b[0;34m.\u001b[0m\u001b[0mto_numeric\u001b[0m\u001b[0;34m(\u001b[0m\u001b[0mdf\u001b[0m\u001b[0;34m[\u001b[0m\u001b[0;34m'자격증 평균 보유 수'\u001b[0m\u001b[0;34m]\u001b[0m\u001b[0;34m,\u001b[0m \u001b[0merrors\u001b[0m\u001b[0;34m=\u001b[0m\u001b[0;34m'coerce'\u001b[0m\u001b[0;34m)\u001b[0m\u001b[0;34m\u001b[0m\u001b[0;34m\u001b[0m\u001b[0m\n\u001b[0;32m----> 3\u001b[0;31m fig = px.bar(df, x='연령', y='자격증 평균 보유 수',\n\u001b[0m\u001b[1;32m      4\u001b[0m              width=1000, height=600,template='ggplot2')\n\u001b[1;32m      5\u001b[0m \u001b[0mfig\u001b[0m\u001b[0;34m.\u001b[0m\u001b[0mshow\u001b[0m\u001b[0;34m(\u001b[0m\u001b[0;34m)\u001b[0m\u001b[0;34m\u001b[0m\u001b[0;34m\u001b[0m\u001b[0m\n",
      "\u001b[0;31mNameError\u001b[0m: name 'px' is not defined"
     ]
    }
   ],
   "source": [
    "df = pd.read_csv('./dataset/Farm_dataset/2023_여성농업인의_자격증_보유_현황.csv').iloc[7:11,[1,-1]].rename(columns={'구분(2)':'연령','2023.4':'자격증 평균 보유 수'})\n",
    "df['자격증 평균 보유 수'] = pd.to_numeric(df['자격증 평균 보유 수'], errors='coerce')\n",
    "fig = px.bar(df, x='연령', y='자격증 평균 보유 수',\n",
    "             width=1000, height=600,template='ggplot2')\n",
    "fig.show()"
   ]
  },
  {
   "cell_type": "code",
   "execution_count": 19,
   "id": "952488e1-0c6e-45c2-ad9d-272d6764c964",
   "metadata": {},
   "outputs": [],
   "source": []
  }
 ],
 "metadata": {
  "kernelspec": {
   "display_name": "Python 3",
   "language": "python",
   "name": "python3"
  },
  "language_info": {
   "codemirror_mode": {
    "name": "ipython",
    "version": 3
   },
   "file_extension": ".py",
   "mimetype": "text/x-python",
   "name": "python",
   "nbconvert_exporter": "python",
   "pygments_lexer": "ipython3",
   "version": "3.9.7"
  }
 },
 "nbformat": 4,
 "nbformat_minor": 5
}
