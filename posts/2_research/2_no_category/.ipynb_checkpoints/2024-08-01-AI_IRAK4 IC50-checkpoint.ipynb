{
 "cells": [
  {
   "cell_type": "raw",
   "id": "55cfa14d-202c-40dd-b76c-742251471e7c",
   "metadata": {},
   "source": [
    "---\n",
    "title: \"[AI] IRAK4 IC50\"\n",
    "author: \"SEOYEON CHOI\"\n",
    "date: \"2024-08-05\"\n",
    "---"
   ]
  },
  {
   "cell_type": "markdown",
   "id": "747f7b42-0fc1-4715-90b7-f4710555a4a6",
   "metadata": {},
   "source": [
    "[홈체이지](https://dacon.io/competitions/official/236336/overview/description)"
   ]
  },
  {
   "cell_type": "markdown",
   "id": "fe8d1951-8d0f-4514-84d2-b1406602f49c",
   "metadata": {},
   "source": [
    "1. 리더보드\n",
    "\n",
    "- 평가산식\n",
    "\n",
    "    - $A = IC50(nM) 단위의 Normalized RMSE 오차$\n",
    "        - $Normalized RMSE = RMSE / (max(IC50_{true}) - min(IC50_{true}))$\n",
    "    - B = IC50(nM) 단위에서 pIC50 단위로 변환하여 Correct Ratio (Absolute Error<=0.5) 계산, pIC50 절대 오차가 0.5 이하인 비율\n",
    "        - Correcr Ratio = 1/N \\sum^N_{i=1} I(Absolute Error_{pI50,i} <= 0.5)\n",
    "    - Score = 0.5 x (1 - min(A, 1)) + 0.5 x B\n",
    "        - Score = 0.5 * (1-min(Normalized RMSE,1)) + 0.5 * Correct Ratio\n",
    "\n",
    "- Public score : 전체 테스트 데이터 중 사전 샘플링된 40%\n",
    "- Private score : 전체 테스트 데이터 중 나머지 60%\n",
    "\n",
    "2. 평가 방식\n",
    "\n",
    "- 1차 평가 : 리더보드 Private Score\n",
    "- 2차 평가 : Private Score 상위 10팀 코드 및 PPT 제출 후 코드 검증 및 온라인 발표 평가\n",
    "    - 2차 평가 기준\n",
    "        - 항목 \n",
    "            - 리더보드 Private 점수(모델의 예측 성능, 60점)\n",
    "            - 모델링 전략(도메인을 고려한 모델 활용, 10점)\n",
    "            - 데이터 전략(데이터 특성을 고려한 데이터 전처리 및 Validation 데이터 구축 전략, 10점)\n",
    "            - 실험관리(다양한 실험 시도들과 논리성, 10점)\n",
    "            - 범용성(도메인의 다른 분야 적용 가능성, 10점)\n",
    " "
   ]
  },
  {
   "cell_type": "code",
   "execution_count": null,
   "id": "ec9d46d4-a185-4c95-8ced-ecf5eefe4a1b",
   "metadata": {},
   "outputs": [],
   "source": []
  },
  {
   "cell_type": "code",
   "execution_count": null,
   "id": "bb3eb9d9-5b01-4102-addb-88f3c4612daf",
   "metadata": {},
   "outputs": [],
   "source": []
  }
 ],
 "metadata": {
  "kernelspec": {
   "display_name": "Python 3",
   "language": "python",
   "name": "python3"
  },
  "language_info": {
   "codemirror_mode": {
    "name": "ipython",
    "version": 3
   },
   "file_extension": ".py",
   "mimetype": "text/x-python",
   "name": "python",
   "nbconvert_exporter": "python",
   "pygments_lexer": "ipython3",
   "version": "3.8.0"
  }
 },
 "nbformat": 4,
 "nbformat_minor": 5
}
