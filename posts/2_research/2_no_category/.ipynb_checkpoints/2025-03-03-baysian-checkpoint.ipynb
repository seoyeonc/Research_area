{
 "cells": [
  {
   "cell_type": "raw",
   "id": "68603eb8-229b-47ce-8374-0d7ac633408e",
   "metadata": {
    "id": "cac470df-29e7-4148-9bbd-d8b9a32fa570",
    "tags": []
   },
   "source": [
    "---\n",
    "title: \"Baysian 쉬운 이해\"\n",
    "author: \"SEOYEON CHOI\"\n",
    "date: \"2025-03-03\"\n",
    "---"
   ]
  },
  {
   "cell_type": "markdown",
   "id": "049ab6a0-6f79-4789-972a-d1a3d1c236af",
   "metadata": {},
   "source": [
    "`-` 쉽게 이해해보기"
   ]
  },
  {
   "cell_type": "markdown",
   "id": "0784bab4-779c-4a24-88a7-7686faa72f7f",
   "metadata": {},
   "source": [
    "1) A 성적을 받을 학생의 수가 정해져 있음.\n",
    "2) 성적이 평균적으로 좋은 학생들 50명과 성적이 평균적으로 나쁜 학생들 50명이 있음\n",
    "3) 성적이 평균적으로 좋은 학생들 50명 중에 A를 받을 수 있는 학생의 수는 20명임\n",
    "4) 성적이 평균적으로 나쁜 학생들 50명 중에도 A를 받을 학생이 있을 수 있는데 그 수는 10명임"
   ]
  },
  {
   "cell_type": "markdown",
   "id": "a279322d-c0b8-47f6-9dfb-5471cd9e935b",
   "metadata": {},
   "source": [
    "성적이  평균적으로 좋은 학생들 50명 중 A를 받을 학생의 확률"
   ]
  },
  {
   "cell_type": "code",
   "execution_count": 1,
   "id": "cb6be409-3b85-402c-9855-07f533760ff2",
   "metadata": {},
   "outputs": [
    {
     "data": {
      "text/plain": [
       "0.4"
      ]
     },
     "execution_count": 1,
     "metadata": {},
     "output_type": "execute_result"
    }
   ],
   "source": [
    "20 / 50"
   ]
  },
  {
   "cell_type": "markdown",
   "id": "98114aeb-fbc6-47fd-a2fd-13ebee283720",
   "metadata": {},
   "source": [
    "성적이 평균적으로 좋은 학생들 50명 중 A를 받지 않을 학생의 확률"
   ]
  },
  {
   "cell_type": "code",
   "execution_count": 3,
   "id": "e0ce76bb-8834-4ba2-84d6-7fc510bd4837",
   "metadata": {},
   "outputs": [
    {
     "data": {
      "text/plain": [
       "0.6"
      ]
     },
     "execution_count": 3,
     "metadata": {},
     "output_type": "execute_result"
    }
   ],
   "source": [
    "30 / 50"
   ]
  },
  {
   "cell_type": "markdown",
   "id": "31ef220d-c831-41ba-abc5-58def7bad026",
   "metadata": {},
   "source": [
    "성적이 평균적으로 나쁜 학생들 50명 중 A를 받을 학생의 활귤"
   ]
  },
  {
   "cell_type": "code",
   "execution_count": 4,
   "id": "e52657ee-68f1-4a4a-a0d8-ae4eec059d43",
   "metadata": {},
   "outputs": [
    {
     "data": {
      "text/plain": [
       "0.2"
      ]
     },
     "execution_count": 4,
     "metadata": {},
     "output_type": "execute_result"
    }
   ],
   "source": [
    "10 / 50"
   ]
  },
  {
   "cell_type": "markdown",
   "id": "233ac363-498b-4177-bd66-c7c0b51f2fd1",
   "metadata": {},
   "source": [
    "성적이 평균적으로 나쁜 학생들 50명 중 A를 받지 않을 학생의 확률"
   ]
  },
  {
   "cell_type": "code",
   "execution_count": 5,
   "id": "79a82231-61ba-4e50-922d-1ac90cbed22e",
   "metadata": {},
   "outputs": [
    {
     "data": {
      "text/plain": [
       "0.8"
      ]
     },
     "execution_count": 5,
     "metadata": {},
     "output_type": "execute_result"
    }
   ],
   "source": [
    "40 / 50"
   ]
  },
  {
   "cell_type": "markdown",
   "id": "892973dc-80e2-4509-a5db-014a0dce4e39",
   "metadata": {},
   "source": [
    "사전확률\n",
    "\n",
    "- A를 받을 학생은 당연히 성적이 좋을 학생들 중 나올 것이다라는 고정 관념이 있었음"
   ]
  },
  {
   "cell_type": "code",
   "execution_count": 6,
   "id": "8bbaea33-6753-415a-9ec7-be65996ab7f2",
   "metadata": {},
   "outputs": [
    {
     "data": {
      "text/plain": [
       "0.4"
      ]
     },
     "execution_count": 6,
     "metadata": {},
     "output_type": "execute_result"
    }
   ],
   "source": [
    "20 / 50"
   ]
  },
  {
   "cell_type": "markdown",
   "id": "6d77324f-9842-4632-bf57-6c5754c714b4",
   "metadata": {},
   "source": [
    "여기서 A를 받지 않을 학생들의 확률을 아예 배제하고 사전확률을 업데이트 해보면 된다."
   ]
  },
  {
   "cell_type": "markdown",
   "id": "43e2ff0d-dad1-477d-a4e2-5fde8ea273f4",
   "metadata": {},
   "source": [
    "사후확률\n",
    "\n",
    "- A를 받을 학생들의 확률은 사실 전체 중에 더 많음"
   ]
  },
  {
   "cell_type": "code",
   "execution_count": 7,
   "id": "a9f9ef7a-f4c2-4607-98bb-bbace5eda28a",
   "metadata": {},
   "outputs": [
    {
     "data": {
      "text/plain": [
       "0.6666666666666666"
      ]
     },
     "execution_count": 7,
     "metadata": {},
     "output_type": "execute_result"
    }
   ],
   "source": [
    "0.4 / (0.4 + 0.2)"
   ]
  },
  {
   "cell_type": "markdown",
   "id": "ecc45570-8c83-4f6f-9429-a83d83cfc1da",
   "metadata": {},
   "source": [
    "결국 업데이트된 사후확률은 `0.4` -> `0.67`로 업데이트될 수 있음"
   ]
  },
  {
   "cell_type": "markdown",
   "id": "5c3b3dce-7695-43d0-9545-75d24fb3e4da",
   "metadata": {},
   "source": []
  }
 ],
 "metadata": {
  "kernelspec": {
   "display_name": "Python 3",
   "language": "python",
   "name": "python3"
  },
  "language_info": {
   "codemirror_mode": {
    "name": "ipython",
    "version": 3
   },
   "file_extension": ".py",
   "mimetype": "text/x-python",
   "name": "python",
   "nbconvert_exporter": "python",
   "pygments_lexer": "ipython3",
   "version": "3.8.0"
  }
 },
 "nbformat": 4,
 "nbformat_minor": 5
}
