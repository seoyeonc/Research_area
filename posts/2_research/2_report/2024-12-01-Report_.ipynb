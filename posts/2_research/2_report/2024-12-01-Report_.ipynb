{
 "cells": [
  {
   "cell_type": "raw",
   "id": "dff80a8b-a37d-4a07-9ec4-d8be1eac28f2",
   "metadata": {
    "id": "cac470df-29e7-4148-9bbd-d8b9a32fa570",
    "tags": []
   },
   "source": [
    "---\n",
    "title: \"**[Report]**Crime\"\n",
    "author: \"SEOYEON CHOI\"\n",
    "date: \"2024-12-01\"\n",
    "---"
   ]
  },
  {
   "cell_type": "code",
   "execution_count": null,
   "id": "559a4e17-f175-44fb-9205-feaee367e50a",
   "metadata": {},
   "outputs": [],
   "source": []
  }
 ],
 "metadata": {
  "kernelspec": {
   "display_name": "Python 3",
   "language": "python",
   "name": "python3"
  },
  "language_info": {
   "codemirror_mode": {
    "name": "ipython",
    "version": 3
   },
   "file_extension": ".py",
   "mimetype": "text/x-python",
   "name": "python",
   "nbconvert_exporter": "python",
   "pygments_lexer": "ipython3",
   "version": "3.8.0"
  }
 },
 "nbformat": 4,
 "nbformat_minor": 5
}
