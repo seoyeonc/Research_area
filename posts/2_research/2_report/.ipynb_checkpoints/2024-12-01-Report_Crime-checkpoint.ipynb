{
 "cells": [
  {
   "cell_type": "raw",
   "id": "dff80a8b-a37d-4a07-9ec4-d8be1eac28f2",
   "metadata": {
    "id": "cac470df-29e7-4148-9bbd-d8b9a32fa570",
    "tags": []
   },
   "source": [
    "---\n",
    "title: \"**[Report]**Crime\"\n",
    "author: \"SEOYEON CHOI\"\n",
    "date: \"2024-12-01\"\n",
    "---"
   ]
  },
  {
   "cell_type": "markdown",
   "id": "29269d82-4cd0-43b4-a59a-25d3bc50b9f7",
   "metadata": {},
   "source": [
    "https://www.data.go.kr/data/3074462/fileData.do#/tab-layer-recommend-data"
   ]
  },
  {
   "cell_type": "code",
   "execution_count": 75,
   "id": "559a4e17-f175-44fb-9205-feaee367e50a",
   "metadata": {},
   "outputs": [],
   "source": [
    "import pandas as pd\n",
    "\n",
    "import plotly.express as px"
   ]
  },
  {
   "cell_type": "code",
   "execution_count": 259,
   "id": "163aca51-4f8a-455a-a0ed-41abb47c7e3c",
   "metadata": {},
   "outputs": [],
   "source": [
    "df_s = pd.read_csv('../../../../delete_/경찰청_범죄 발생 지역별 통계_20231231.csv', encoding='cp949').assign(Year='23')\n",
    "keywords = ['서울', '부산', '대구', '인천', '광주', '대전', '울산', '세종'] \n",
    "\n",
    "for keyword in keywords:\n",
    "    target_columns = [col for col in df_s.columns if keyword in col]\n",
    "    \n",
    "    df_s[keyword] = df_s[target_columns].sum(axis=1)\n",
    "    \n",
    "    df_s = df_s.drop(columns=target_columns)"
   ]
  },
  {
   "cell_type": "code",
   "execution_count": 294,
   "id": "1fb17e38-b38b-4b57-816e-ba7aa805ab5c",
   "metadata": {},
   "outputs": [],
   "source": [
    "df1 = pd.DataFrame()\n",
    "for i in range(18, 23):\n",
    "    df = pd.read_csv(f'../../../../delete_/경찰청_범죄 발생 지역별 통계_20{i}1231.csv', encoding='cp949').assign(Year=f'{i}')\n",
    "    df1 = pd.concat([df1, df], ignore_index=True)\n",
    "df1 = pd.concat([df1, df_s], ignore_index=True)\n",
    "keywords = ['경기 ','경기도', '강원','충북','충남','외국','경남','제주','경북','전남','전북'] \n",
    "\n",
    "for keyword in keywords:\n",
    "    target_columns = [col for col in df1.columns if keyword in col]\n",
    "    \n",
    "    df1[keyword] = df1[target_columns].sum(axis=1)\n",
    "    \n",
    "    df1 = df1.drop(columns=target_columns)"
   ]
  },
  {
   "cell_type": "code",
   "execution_count": 295,
   "id": "6e6ec400-ab90-4efe-9a35-46abcae7f1d3",
   "metadata": {},
   "outputs": [],
   "source": [
    "df2 = pd.DataFrame()\n",
    "for i in range(18, 23):\n",
    "    df = pd.read_csv(f'../../../../delete_/경찰청_범죄발생장소_20{i}1231.csv', encoding='cp949').assign(Year=i)\n",
    "    df2 = pd.concat([df2, df], ignore_index=True)\n",
    "df2 = pd.concat([df2, pd.read_csv(f'../../../../delete_/경찰청_범죄 발생 장소별 통계_20231231.csv', encoding='cp949').assign(Year=23)], ignore_index=True)"
   ]
  },
  {
   "cell_type": "code",
   "execution_count": 296,
   "id": "eb3fd639-cc73-4951-9350-2f476f27df84",
   "metadata": {},
   "outputs": [
    {
     "name": "stderr",
     "output_type": "stream",
     "text": [
      "<ipython-input-296-899ce67ded18>:1: FutureWarning:\n",
      "\n",
      "pivot_table dropped a column because it failed to aggregate. This behavior is deprecated and will raise in a future version of pandas. Select only the columns that can be aggregated.\n",
      "\n"
     ]
    },
    {
     "data": {
      "text/html": [
       "<div>\n",
       "<style scoped>\n",
       "    .dataframe tbody tr th:only-of-type {\n",
       "        vertical-align: middle;\n",
       "    }\n",
       "\n",
       "    .dataframe tbody tr th {\n",
       "        vertical-align: top;\n",
       "    }\n",
       "\n",
       "    .dataframe thead tr th {\n",
       "        text-align: left;\n",
       "    }\n",
       "</style>\n",
       "<table border=\"1\" class=\"dataframe\">\n",
       "  <thead>\n",
       "    <tr>\n",
       "      <th></th>\n",
       "      <th>범죄대분류</th>\n",
       "      <th>범죄중분류</th>\n",
       "      <th colspan=\"6\" halign=\"left\">강원</th>\n",
       "      <th colspan=\"2\" halign=\"left\">경남</th>\n",
       "      <th>...</th>\n",
       "      <th colspan=\"4\" halign=\"left\">충남</th>\n",
       "      <th colspan=\"6\" halign=\"left\">충북</th>\n",
       "    </tr>\n",
       "    <tr>\n",
       "      <th>Year</th>\n",
       "      <th></th>\n",
       "      <th></th>\n",
       "      <th>18</th>\n",
       "      <th>19</th>\n",
       "      <th>20</th>\n",
       "      <th>21</th>\n",
       "      <th>22</th>\n",
       "      <th>23</th>\n",
       "      <th>18</th>\n",
       "      <th>19</th>\n",
       "      <th>...</th>\n",
       "      <th>20</th>\n",
       "      <th>21</th>\n",
       "      <th>22</th>\n",
       "      <th>23</th>\n",
       "      <th>18</th>\n",
       "      <th>19</th>\n",
       "      <th>20</th>\n",
       "      <th>21</th>\n",
       "      <th>22</th>\n",
       "      <th>23</th>\n",
       "    </tr>\n",
       "  </thead>\n",
       "  <tbody>\n",
       "    <tr>\n",
       "      <th>0</th>\n",
       "      <td>강력범죄</td>\n",
       "      <td>강간</td>\n",
       "      <td>116.0</td>\n",
       "      <td>131.0</td>\n",
       "      <td>110.0</td>\n",
       "      <td>108.0</td>\n",
       "      <td>131.0</td>\n",
       "      <td>156.0</td>\n",
       "      <td>214.0</td>\n",
       "      <td>232.0</td>\n",
       "      <td>...</td>\n",
       "      <td>185.0</td>\n",
       "      <td>191.0</td>\n",
       "      <td>214.0</td>\n",
       "      <td>201.0</td>\n",
       "      <td>122.0</td>\n",
       "      <td>108.0</td>\n",
       "      <td>135.0</td>\n",
       "      <td>135.0</td>\n",
       "      <td>149.0</td>\n",
       "      <td>138.0</td>\n",
       "    </tr>\n",
       "    <tr>\n",
       "      <th>1</th>\n",
       "      <td>강력범죄</td>\n",
       "      <td>강도</td>\n",
       "      <td>11.0</td>\n",
       "      <td>23.0</td>\n",
       "      <td>19.0</td>\n",
       "      <td>10.0</td>\n",
       "      <td>14.0</td>\n",
       "      <td>10.0</td>\n",
       "      <td>49.0</td>\n",
       "      <td>34.0</td>\n",
       "      <td>...</td>\n",
       "      <td>36.0</td>\n",
       "      <td>18.0</td>\n",
       "      <td>22.0</td>\n",
       "      <td>29.0</td>\n",
       "      <td>21.0</td>\n",
       "      <td>28.0</td>\n",
       "      <td>15.0</td>\n",
       "      <td>10.0</td>\n",
       "      <td>21.0</td>\n",
       "      <td>15.0</td>\n",
       "    </tr>\n",
       "    <tr>\n",
       "      <th>2</th>\n",
       "      <td>강력범죄</td>\n",
       "      <td>강제추행</td>\n",
       "      <td>352.0</td>\n",
       "      <td>351.0</td>\n",
       "      <td>307.0</td>\n",
       "      <td>274.0</td>\n",
       "      <td>307.0</td>\n",
       "      <td>472.0</td>\n",
       "      <td>635.0</td>\n",
       "      <td>645.0</td>\n",
       "      <td>...</td>\n",
       "      <td>433.0</td>\n",
       "      <td>422.0</td>\n",
       "      <td>483.0</td>\n",
       "      <td>636.0</td>\n",
       "      <td>368.0</td>\n",
       "      <td>348.0</td>\n",
       "      <td>328.0</td>\n",
       "      <td>248.0</td>\n",
       "      <td>354.0</td>\n",
       "      <td>451.0</td>\n",
       "    </tr>\n",
       "    <tr>\n",
       "      <th>3</th>\n",
       "      <td>강력범죄</td>\n",
       "      <td>기타 강간 강제추행등</td>\n",
       "      <td>NaN</td>\n",
       "      <td>NaN</td>\n",
       "      <td>NaN</td>\n",
       "      <td>NaN</td>\n",
       "      <td>NaN</td>\n",
       "      <td>6.0</td>\n",
       "      <td>NaN</td>\n",
       "      <td>NaN</td>\n",
       "      <td>...</td>\n",
       "      <td>NaN</td>\n",
       "      <td>NaN</td>\n",
       "      <td>NaN</td>\n",
       "      <td>10.0</td>\n",
       "      <td>NaN</td>\n",
       "      <td>NaN</td>\n",
       "      <td>NaN</td>\n",
       "      <td>NaN</td>\n",
       "      <td>NaN</td>\n",
       "      <td>7.0</td>\n",
       "    </tr>\n",
       "    <tr>\n",
       "      <th>4</th>\n",
       "      <td>강력범죄</td>\n",
       "      <td>기타강간강제추행등</td>\n",
       "      <td>7.0</td>\n",
       "      <td>2.0</td>\n",
       "      <td>7.0</td>\n",
       "      <td>6.0</td>\n",
       "      <td>8.0</td>\n",
       "      <td>NaN</td>\n",
       "      <td>20.0</td>\n",
       "      <td>22.0</td>\n",
       "      <td>...</td>\n",
       "      <td>10.0</td>\n",
       "      <td>7.0</td>\n",
       "      <td>7.0</td>\n",
       "      <td>NaN</td>\n",
       "      <td>8.0</td>\n",
       "      <td>11.0</td>\n",
       "      <td>8.0</td>\n",
       "      <td>3.0</td>\n",
       "      <td>8.0</td>\n",
       "      <td>NaN</td>\n",
       "    </tr>\n",
       "    <tr>\n",
       "      <th>5</th>\n",
       "      <td>강력범죄</td>\n",
       "      <td>방화</td>\n",
       "      <td>31.0</td>\n",
       "      <td>28.0</td>\n",
       "      <td>26.0</td>\n",
       "      <td>20.0</td>\n",
       "      <td>25.0</td>\n",
       "      <td>30.0</td>\n",
       "      <td>288.0</td>\n",
       "      <td>50.0</td>\n",
       "      <td>...</td>\n",
       "      <td>42.0</td>\n",
       "      <td>44.0</td>\n",
       "      <td>37.0</td>\n",
       "      <td>55.0</td>\n",
       "      <td>40.0</td>\n",
       "      <td>41.0</td>\n",
       "      <td>31.0</td>\n",
       "      <td>23.0</td>\n",
       "      <td>29.0</td>\n",
       "      <td>54.0</td>\n",
       "    </tr>\n",
       "    <tr>\n",
       "      <th>6</th>\n",
       "      <td>강력범죄</td>\n",
       "      <td>살인기수</td>\n",
       "      <td>12.0</td>\n",
       "      <td>5.0</td>\n",
       "      <td>12.0</td>\n",
       "      <td>6.0</td>\n",
       "      <td>10.0</td>\n",
       "      <td>12.0</td>\n",
       "      <td>17.0</td>\n",
       "      <td>16.0</td>\n",
       "      <td>...</td>\n",
       "      <td>6.0</td>\n",
       "      <td>7.0</td>\n",
       "      <td>13.0</td>\n",
       "      <td>17.0</td>\n",
       "      <td>10.0</td>\n",
       "      <td>5.0</td>\n",
       "      <td>4.0</td>\n",
       "      <td>7.0</td>\n",
       "      <td>5.0</td>\n",
       "      <td>7.0</td>\n",
       "    </tr>\n",
       "    <tr>\n",
       "      <th>7</th>\n",
       "      <td>강력범죄</td>\n",
       "      <td>살인미수등</td>\n",
       "      <td>2.0</td>\n",
       "      <td>8.0</td>\n",
       "      <td>8.0</td>\n",
       "      <td>7.0</td>\n",
       "      <td>7.0</td>\n",
       "      <td>15.0</td>\n",
       "      <td>37.0</td>\n",
       "      <td>25.0</td>\n",
       "      <td>...</td>\n",
       "      <td>22.0</td>\n",
       "      <td>18.0</td>\n",
       "      <td>28.0</td>\n",
       "      <td>26.0</td>\n",
       "      <td>16.0</td>\n",
       "      <td>17.0</td>\n",
       "      <td>7.0</td>\n",
       "      <td>4.0</td>\n",
       "      <td>12.0</td>\n",
       "      <td>17.0</td>\n",
       "    </tr>\n",
       "    <tr>\n",
       "      <th>8</th>\n",
       "      <td>강력범죄</td>\n",
       "      <td>유사강간</td>\n",
       "      <td>22.0</td>\n",
       "      <td>24.0</td>\n",
       "      <td>14.0</td>\n",
       "      <td>22.0</td>\n",
       "      <td>28.0</td>\n",
       "      <td>24.0</td>\n",
       "      <td>43.0</td>\n",
       "      <td>39.0</td>\n",
       "      <td>...</td>\n",
       "      <td>24.0</td>\n",
       "      <td>22.0</td>\n",
       "      <td>31.0</td>\n",
       "      <td>33.0</td>\n",
       "      <td>17.0</td>\n",
       "      <td>19.0</td>\n",
       "      <td>14.0</td>\n",
       "      <td>13.0</td>\n",
       "      <td>15.0</td>\n",
       "      <td>22.0</td>\n",
       "    </tr>\n",
       "    <tr>\n",
       "      <th>9</th>\n",
       "      <td>교통범죄</td>\n",
       "      <td>교통범죄</td>\n",
       "      <td>10214.0</td>\n",
       "      <td>9352.0</td>\n",
       "      <td>8883.0</td>\n",
       "      <td>7692.0</td>\n",
       "      <td>6224.0</td>\n",
       "      <td>8440.0</td>\n",
       "      <td>20498.0</td>\n",
       "      <td>20726.0</td>\n",
       "      <td>...</td>\n",
       "      <td>13165.0</td>\n",
       "      <td>11726.0</td>\n",
       "      <td>10317.0</td>\n",
       "      <td>12667.0</td>\n",
       "      <td>12089.0</td>\n",
       "      <td>10555.0</td>\n",
       "      <td>9704.0</td>\n",
       "      <td>8326.0</td>\n",
       "      <td>6227.0</td>\n",
       "      <td>8850.0</td>\n",
       "    </tr>\n",
       "    <tr>\n",
       "      <th>10</th>\n",
       "      <td>기타범죄</td>\n",
       "      <td>기타범죄</td>\n",
       "      <td>5528.0</td>\n",
       "      <td>5195.0</td>\n",
       "      <td>5629.0</td>\n",
       "      <td>6328.0</td>\n",
       "      <td>4973.0</td>\n",
       "      <td>9628.0</td>\n",
       "      <td>12424.0</td>\n",
       "      <td>14341.0</td>\n",
       "      <td>...</td>\n",
       "      <td>6904.0</td>\n",
       "      <td>6241.0</td>\n",
       "      <td>7772.0</td>\n",
       "      <td>12151.0</td>\n",
       "      <td>4289.0</td>\n",
       "      <td>4208.0</td>\n",
       "      <td>4125.0</td>\n",
       "      <td>4105.0</td>\n",
       "      <td>4268.0</td>\n",
       "      <td>6091.0</td>\n",
       "    </tr>\n",
       "    <tr>\n",
       "      <th>11</th>\n",
       "      <td>노동범죄</td>\n",
       "      <td>노동범죄</td>\n",
       "      <td>656.0</td>\n",
       "      <td>9.0</td>\n",
       "      <td>10.0</td>\n",
       "      <td>5.0</td>\n",
       "      <td>9.0</td>\n",
       "      <td>21.0</td>\n",
       "      <td>75.0</td>\n",
       "      <td>11.0</td>\n",
       "      <td>...</td>\n",
       "      <td>12.0</td>\n",
       "      <td>15.0</td>\n",
       "      <td>10.0</td>\n",
       "      <td>11.0</td>\n",
       "      <td>14.0</td>\n",
       "      <td>16.0</td>\n",
       "      <td>7.0</td>\n",
       "      <td>4.0</td>\n",
       "      <td>4.0</td>\n",
       "      <td>8.0</td>\n",
       "    </tr>\n",
       "    <tr>\n",
       "      <th>12</th>\n",
       "      <td>마약범죄</td>\n",
       "      <td>마약범죄</td>\n",
       "      <td>121.0</td>\n",
       "      <td>172.0</td>\n",
       "      <td>159.0</td>\n",
       "      <td>100.0</td>\n",
       "      <td>194.0</td>\n",
       "      <td>589.0</td>\n",
       "      <td>480.0</td>\n",
       "      <td>537.0</td>\n",
       "      <td>...</td>\n",
       "      <td>291.0</td>\n",
       "      <td>256.0</td>\n",
       "      <td>311.0</td>\n",
       "      <td>513.0</td>\n",
       "      <td>161.0</td>\n",
       "      <td>156.0</td>\n",
       "      <td>186.0</td>\n",
       "      <td>136.0</td>\n",
       "      <td>227.0</td>\n",
       "      <td>476.0</td>\n",
       "    </tr>\n",
       "    <tr>\n",
       "      <th>13</th>\n",
       "      <td>병역범죄</td>\n",
       "      <td>병역범죄</td>\n",
       "      <td>253.0</td>\n",
       "      <td>175.0</td>\n",
       "      <td>52.0</td>\n",
       "      <td>39.0</td>\n",
       "      <td>88.0</td>\n",
       "      <td>221.0</td>\n",
       "      <td>734.0</td>\n",
       "      <td>516.0</td>\n",
       "      <td>...</td>\n",
       "      <td>182.0</td>\n",
       "      <td>68.0</td>\n",
       "      <td>101.0</td>\n",
       "      <td>461.0</td>\n",
       "      <td>253.0</td>\n",
       "      <td>252.0</td>\n",
       "      <td>82.0</td>\n",
       "      <td>47.0</td>\n",
       "      <td>62.0</td>\n",
       "      <td>183.0</td>\n",
       "    </tr>\n",
       "    <tr>\n",
       "      <th>14</th>\n",
       "      <td>보건범죄</td>\n",
       "      <td>보건범죄</td>\n",
       "      <td>229.0</td>\n",
       "      <td>385.0</td>\n",
       "      <td>340.0</td>\n",
       "      <td>301.0</td>\n",
       "      <td>403.0</td>\n",
       "      <td>353.0</td>\n",
       "      <td>770.0</td>\n",
       "      <td>715.0</td>\n",
       "      <td>...</td>\n",
       "      <td>859.0</td>\n",
       "      <td>490.0</td>\n",
       "      <td>417.0</td>\n",
       "      <td>217.0</td>\n",
       "      <td>88.0</td>\n",
       "      <td>127.0</td>\n",
       "      <td>149.0</td>\n",
       "      <td>214.0</td>\n",
       "      <td>356.0</td>\n",
       "      <td>173.0</td>\n",
       "    </tr>\n",
       "    <tr>\n",
       "      <th>15</th>\n",
       "      <td>선거범죄</td>\n",
       "      <td>선거범죄</td>\n",
       "      <td>55.0</td>\n",
       "      <td>21.0</td>\n",
       "      <td>16.0</td>\n",
       "      <td>5.0</td>\n",
       "      <td>69.0</td>\n",
       "      <td>34.0</td>\n",
       "      <td>91.0</td>\n",
       "      <td>57.0</td>\n",
       "      <td>...</td>\n",
       "      <td>11.0</td>\n",
       "      <td>2.0</td>\n",
       "      <td>75.0</td>\n",
       "      <td>54.0</td>\n",
       "      <td>33.0</td>\n",
       "      <td>11.0</td>\n",
       "      <td>13.0</td>\n",
       "      <td>1.0</td>\n",
       "      <td>51.0</td>\n",
       "      <td>25.0</td>\n",
       "    </tr>\n",
       "    <tr>\n",
       "      <th>16</th>\n",
       "      <td>안보범죄</td>\n",
       "      <td>안보범죄</td>\n",
       "      <td>3.0</td>\n",
       "      <td>0.0</td>\n",
       "      <td>3.0</td>\n",
       "      <td>4.0</td>\n",
       "      <td>5.0</td>\n",
       "      <td>2.0</td>\n",
       "      <td>3.0</td>\n",
       "      <td>3.0</td>\n",
       "      <td>...</td>\n",
       "      <td>1.0</td>\n",
       "      <td>7.0</td>\n",
       "      <td>4.0</td>\n",
       "      <td>6.0</td>\n",
       "      <td>1.0</td>\n",
       "      <td>1.0</td>\n",
       "      <td>0.0</td>\n",
       "      <td>3.0</td>\n",
       "      <td>0.0</td>\n",
       "      <td>2.0</td>\n",
       "    </tr>\n",
       "    <tr>\n",
       "      <th>17</th>\n",
       "      <td>절도범죄</td>\n",
       "      <td>절도범죄</td>\n",
       "      <td>3298.0</td>\n",
       "      <td>3582.0</td>\n",
       "      <td>3416.0</td>\n",
       "      <td>3384.0</td>\n",
       "      <td>3512.0</td>\n",
       "      <td>4368.0</td>\n",
       "      <td>10151.0</td>\n",
       "      <td>10648.0</td>\n",
       "      <td>...</td>\n",
       "      <td>6268.0</td>\n",
       "      <td>5941.0</td>\n",
       "      <td>6304.0</td>\n",
       "      <td>7629.0</td>\n",
       "      <td>4410.0</td>\n",
       "      <td>4648.0</td>\n",
       "      <td>4374.0</td>\n",
       "      <td>3997.0</td>\n",
       "      <td>4576.0</td>\n",
       "      <td>5372.0</td>\n",
       "    </tr>\n",
       "    <tr>\n",
       "      <th>18</th>\n",
       "      <td>지능범죄</td>\n",
       "      <td>문서 인장</td>\n",
       "      <td>NaN</td>\n",
       "      <td>NaN</td>\n",
       "      <td>NaN</td>\n",
       "      <td>NaN</td>\n",
       "      <td>NaN</td>\n",
       "      <td>377.0</td>\n",
       "      <td>NaN</td>\n",
       "      <td>NaN</td>\n",
       "      <td>...</td>\n",
       "      <td>NaN</td>\n",
       "      <td>NaN</td>\n",
       "      <td>NaN</td>\n",
       "      <td>523.0</td>\n",
       "      <td>NaN</td>\n",
       "      <td>NaN</td>\n",
       "      <td>NaN</td>\n",
       "      <td>NaN</td>\n",
       "      <td>NaN</td>\n",
       "      <td>341.0</td>\n",
       "    </tr>\n",
       "    <tr>\n",
       "      <th>19</th>\n",
       "      <td>지능범죄</td>\n",
       "      <td>문서인장</td>\n",
       "      <td>191.0</td>\n",
       "      <td>246.0</td>\n",
       "      <td>218.0</td>\n",
       "      <td>186.0</td>\n",
       "      <td>240.0</td>\n",
       "      <td>NaN</td>\n",
       "      <td>949.0</td>\n",
       "      <td>633.0</td>\n",
       "      <td>...</td>\n",
       "      <td>379.0</td>\n",
       "      <td>282.0</td>\n",
       "      <td>359.0</td>\n",
       "      <td>NaN</td>\n",
       "      <td>264.0</td>\n",
       "      <td>270.0</td>\n",
       "      <td>263.0</td>\n",
       "      <td>209.0</td>\n",
       "      <td>228.0</td>\n",
       "      <td>NaN</td>\n",
       "    </tr>\n",
       "    <tr>\n",
       "      <th>20</th>\n",
       "      <td>지능범죄</td>\n",
       "      <td>배임</td>\n",
       "      <td>66.0</td>\n",
       "      <td>86.0</td>\n",
       "      <td>69.0</td>\n",
       "      <td>63.0</td>\n",
       "      <td>63.0</td>\n",
       "      <td>123.0</td>\n",
       "      <td>227.0</td>\n",
       "      <td>248.0</td>\n",
       "      <td>...</td>\n",
       "      <td>128.0</td>\n",
       "      <td>115.0</td>\n",
       "      <td>132.0</td>\n",
       "      <td>146.0</td>\n",
       "      <td>68.0</td>\n",
       "      <td>51.0</td>\n",
       "      <td>59.0</td>\n",
       "      <td>40.0</td>\n",
       "      <td>50.0</td>\n",
       "      <td>79.0</td>\n",
       "    </tr>\n",
       "    <tr>\n",
       "      <th>21</th>\n",
       "      <td>지능범죄</td>\n",
       "      <td>사기</td>\n",
       "      <td>5081.0</td>\n",
       "      <td>5957.0</td>\n",
       "      <td>6588.0</td>\n",
       "      <td>5781.0</td>\n",
       "      <td>6745.0</td>\n",
       "      <td>9852.0</td>\n",
       "      <td>15393.0</td>\n",
       "      <td>18347.0</td>\n",
       "      <td>...</td>\n",
       "      <td>10455.0</td>\n",
       "      <td>8073.0</td>\n",
       "      <td>10349.0</td>\n",
       "      <td>14750.0</td>\n",
       "      <td>5827.0</td>\n",
       "      <td>6530.0</td>\n",
       "      <td>7443.0</td>\n",
       "      <td>6961.0</td>\n",
       "      <td>7596.0</td>\n",
       "      <td>10357.0</td>\n",
       "    </tr>\n",
       "    <tr>\n",
       "      <th>22</th>\n",
       "      <td>지능범죄</td>\n",
       "      <td>유가증권인지</td>\n",
       "      <td>3.0</td>\n",
       "      <td>0.0</td>\n",
       "      <td>0.0</td>\n",
       "      <td>0.0</td>\n",
       "      <td>3.0</td>\n",
       "      <td>1.0</td>\n",
       "      <td>4.0</td>\n",
       "      <td>4.0</td>\n",
       "      <td>...</td>\n",
       "      <td>3.0</td>\n",
       "      <td>1.0</td>\n",
       "      <td>0.0</td>\n",
       "      <td>0.0</td>\n",
       "      <td>4.0</td>\n",
       "      <td>1.0</td>\n",
       "      <td>0.0</td>\n",
       "      <td>2.0</td>\n",
       "      <td>0.0</td>\n",
       "      <td>1.0</td>\n",
       "    </tr>\n",
       "    <tr>\n",
       "      <th>23</th>\n",
       "      <td>지능범죄</td>\n",
       "      <td>증수뢰</td>\n",
       "      <td>4.0</td>\n",
       "      <td>2.0</td>\n",
       "      <td>4.0</td>\n",
       "      <td>6.0</td>\n",
       "      <td>3.0</td>\n",
       "      <td>14.0</td>\n",
       "      <td>15.0</td>\n",
       "      <td>13.0</td>\n",
       "      <td>...</td>\n",
       "      <td>14.0</td>\n",
       "      <td>10.0</td>\n",
       "      <td>6.0</td>\n",
       "      <td>12.0</td>\n",
       "      <td>8.0</td>\n",
       "      <td>5.0</td>\n",
       "      <td>10.0</td>\n",
       "      <td>5.0</td>\n",
       "      <td>4.0</td>\n",
       "      <td>9.0</td>\n",
       "    </tr>\n",
       "    <tr>\n",
       "      <th>24</th>\n",
       "      <td>지능범죄</td>\n",
       "      <td>직권남용</td>\n",
       "      <td>13.0</td>\n",
       "      <td>23.0</td>\n",
       "      <td>12.0</td>\n",
       "      <td>15.0</td>\n",
       "      <td>29.0</td>\n",
       "      <td>82.0</td>\n",
       "      <td>22.0</td>\n",
       "      <td>35.0</td>\n",
       "      <td>...</td>\n",
       "      <td>7.0</td>\n",
       "      <td>16.0</td>\n",
       "      <td>44.0</td>\n",
       "      <td>37.0</td>\n",
       "      <td>6.0</td>\n",
       "      <td>16.0</td>\n",
       "      <td>12.0</td>\n",
       "      <td>25.0</td>\n",
       "      <td>25.0</td>\n",
       "      <td>48.0</td>\n",
       "    </tr>\n",
       "    <tr>\n",
       "      <th>25</th>\n",
       "      <td>지능범죄</td>\n",
       "      <td>직무유기</td>\n",
       "      <td>16.0</td>\n",
       "      <td>14.0</td>\n",
       "      <td>16.0</td>\n",
       "      <td>20.0</td>\n",
       "      <td>24.0</td>\n",
       "      <td>52.0</td>\n",
       "      <td>16.0</td>\n",
       "      <td>30.0</td>\n",
       "      <td>...</td>\n",
       "      <td>11.0</td>\n",
       "      <td>22.0</td>\n",
       "      <td>31.0</td>\n",
       "      <td>39.0</td>\n",
       "      <td>6.0</td>\n",
       "      <td>13.0</td>\n",
       "      <td>8.0</td>\n",
       "      <td>24.0</td>\n",
       "      <td>25.0</td>\n",
       "      <td>35.0</td>\n",
       "    </tr>\n",
       "    <tr>\n",
       "      <th>26</th>\n",
       "      <td>지능범죄</td>\n",
       "      <td>통화</td>\n",
       "      <td>15.0</td>\n",
       "      <td>15.0</td>\n",
       "      <td>15.0</td>\n",
       "      <td>10.0</td>\n",
       "      <td>13.0</td>\n",
       "      <td>7.0</td>\n",
       "      <td>11.0</td>\n",
       "      <td>12.0</td>\n",
       "      <td>...</td>\n",
       "      <td>25.0</td>\n",
       "      <td>19.0</td>\n",
       "      <td>10.0</td>\n",
       "      <td>9.0</td>\n",
       "      <td>17.0</td>\n",
       "      <td>9.0</td>\n",
       "      <td>17.0</td>\n",
       "      <td>17.0</td>\n",
       "      <td>5.0</td>\n",
       "      <td>6.0</td>\n",
       "    </tr>\n",
       "    <tr>\n",
       "      <th>27</th>\n",
       "      <td>지능범죄</td>\n",
       "      <td>횡령</td>\n",
       "      <td>726.0</td>\n",
       "      <td>817.0</td>\n",
       "      <td>778.0</td>\n",
       "      <td>669.0</td>\n",
       "      <td>857.0</td>\n",
       "      <td>1417.0</td>\n",
       "      <td>2159.0</td>\n",
       "      <td>2302.0</td>\n",
       "      <td>...</td>\n",
       "      <td>1574.0</td>\n",
       "      <td>1296.0</td>\n",
       "      <td>1533.0</td>\n",
       "      <td>2006.0</td>\n",
       "      <td>905.0</td>\n",
       "      <td>854.0</td>\n",
       "      <td>919.0</td>\n",
       "      <td>848.0</td>\n",
       "      <td>923.0</td>\n",
       "      <td>1231.0</td>\n",
       "    </tr>\n",
       "    <tr>\n",
       "      <th>28</th>\n",
       "      <td>특별경제범죄</td>\n",
       "      <td>특별경제범죄</td>\n",
       "      <td>974.0</td>\n",
       "      <td>1009.0</td>\n",
       "      <td>905.0</td>\n",
       "      <td>906.0</td>\n",
       "      <td>839.0</td>\n",
       "      <td>1374.0</td>\n",
       "      <td>2518.0</td>\n",
       "      <td>2729.0</td>\n",
       "      <td>...</td>\n",
       "      <td>1368.0</td>\n",
       "      <td>1071.0</td>\n",
       "      <td>1328.0</td>\n",
       "      <td>2106.0</td>\n",
       "      <td>1014.0</td>\n",
       "      <td>913.0</td>\n",
       "      <td>984.0</td>\n",
       "      <td>713.0</td>\n",
       "      <td>961.0</td>\n",
       "      <td>1426.0</td>\n",
       "    </tr>\n",
       "    <tr>\n",
       "      <th>29</th>\n",
       "      <td>폭력범죄</td>\n",
       "      <td>공갈</td>\n",
       "      <td>71.0</td>\n",
       "      <td>108.0</td>\n",
       "      <td>84.0</td>\n",
       "      <td>101.0</td>\n",
       "      <td>133.0</td>\n",
       "      <td>180.0</td>\n",
       "      <td>216.0</td>\n",
       "      <td>290.0</td>\n",
       "      <td>...</td>\n",
       "      <td>158.0</td>\n",
       "      <td>188.0</td>\n",
       "      <td>206.0</td>\n",
       "      <td>277.0</td>\n",
       "      <td>93.0</td>\n",
       "      <td>121.0</td>\n",
       "      <td>168.0</td>\n",
       "      <td>121.0</td>\n",
       "      <td>214.0</td>\n",
       "      <td>247.0</td>\n",
       "    </tr>\n",
       "    <tr>\n",
       "      <th>30</th>\n",
       "      <td>폭력범죄</td>\n",
       "      <td>상해</td>\n",
       "      <td>1314.0</td>\n",
       "      <td>1238.0</td>\n",
       "      <td>1057.0</td>\n",
       "      <td>842.0</td>\n",
       "      <td>766.0</td>\n",
       "      <td>911.0</td>\n",
       "      <td>3009.0</td>\n",
       "      <td>2918.0</td>\n",
       "      <td>...</td>\n",
       "      <td>1332.0</td>\n",
       "      <td>1120.0</td>\n",
       "      <td>979.0</td>\n",
       "      <td>1130.0</td>\n",
       "      <td>995.0</td>\n",
       "      <td>959.0</td>\n",
       "      <td>843.0</td>\n",
       "      <td>893.0</td>\n",
       "      <td>795.0</td>\n",
       "      <td>814.0</td>\n",
       "    </tr>\n",
       "    <tr>\n",
       "      <th>31</th>\n",
       "      <td>폭력범죄</td>\n",
       "      <td>손괴</td>\n",
       "      <td>1548.0</td>\n",
       "      <td>1468.0</td>\n",
       "      <td>1415.0</td>\n",
       "      <td>1340.0</td>\n",
       "      <td>1428.0</td>\n",
       "      <td>1748.0</td>\n",
       "      <td>2672.0</td>\n",
       "      <td>2948.0</td>\n",
       "      <td>...</td>\n",
       "      <td>2168.0</td>\n",
       "      <td>1963.0</td>\n",
       "      <td>1870.0</td>\n",
       "      <td>2435.0</td>\n",
       "      <td>1540.0</td>\n",
       "      <td>1483.0</td>\n",
       "      <td>1462.0</td>\n",
       "      <td>1373.0</td>\n",
       "      <td>1423.0</td>\n",
       "      <td>1663.0</td>\n",
       "    </tr>\n",
       "    <tr>\n",
       "      <th>32</th>\n",
       "      <td>폭력범죄</td>\n",
       "      <td>약취 유인</td>\n",
       "      <td>NaN</td>\n",
       "      <td>NaN</td>\n",
       "      <td>NaN</td>\n",
       "      <td>NaN</td>\n",
       "      <td>NaN</td>\n",
       "      <td>9.0</td>\n",
       "      <td>NaN</td>\n",
       "      <td>NaN</td>\n",
       "      <td>...</td>\n",
       "      <td>NaN</td>\n",
       "      <td>NaN</td>\n",
       "      <td>NaN</td>\n",
       "      <td>12.0</td>\n",
       "      <td>NaN</td>\n",
       "      <td>NaN</td>\n",
       "      <td>NaN</td>\n",
       "      <td>NaN</td>\n",
       "      <td>NaN</td>\n",
       "      <td>8.0</td>\n",
       "    </tr>\n",
       "    <tr>\n",
       "      <th>33</th>\n",
       "      <td>폭력범죄</td>\n",
       "      <td>약취유인</td>\n",
       "      <td>4.0</td>\n",
       "      <td>9.0</td>\n",
       "      <td>2.0</td>\n",
       "      <td>3.0</td>\n",
       "      <td>9.0</td>\n",
       "      <td>NaN</td>\n",
       "      <td>9.0</td>\n",
       "      <td>11.0</td>\n",
       "      <td>...</td>\n",
       "      <td>7.0</td>\n",
       "      <td>9.0</td>\n",
       "      <td>5.0</td>\n",
       "      <td>NaN</td>\n",
       "      <td>4.0</td>\n",
       "      <td>7.0</td>\n",
       "      <td>8.0</td>\n",
       "      <td>8.0</td>\n",
       "      <td>15.0</td>\n",
       "      <td>NaN</td>\n",
       "    </tr>\n",
       "    <tr>\n",
       "      <th>34</th>\n",
       "      <td>폭력범죄</td>\n",
       "      <td>체포감금</td>\n",
       "      <td>19.0</td>\n",
       "      <td>30.0</td>\n",
       "      <td>24.0</td>\n",
       "      <td>31.0</td>\n",
       "      <td>17.0</td>\n",
       "      <td>30.0</td>\n",
       "      <td>52.0</td>\n",
       "      <td>57.0</td>\n",
       "      <td>...</td>\n",
       "      <td>53.0</td>\n",
       "      <td>42.0</td>\n",
       "      <td>41.0</td>\n",
       "      <td>45.0</td>\n",
       "      <td>41.0</td>\n",
       "      <td>29.0</td>\n",
       "      <td>33.0</td>\n",
       "      <td>30.0</td>\n",
       "      <td>23.0</td>\n",
       "      <td>24.0</td>\n",
       "    </tr>\n",
       "    <tr>\n",
       "      <th>35</th>\n",
       "      <td>폭력범죄</td>\n",
       "      <td>폭력행위등</td>\n",
       "      <td>233.0</td>\n",
       "      <td>236.0</td>\n",
       "      <td>183.0</td>\n",
       "      <td>177.0</td>\n",
       "      <td>173.0</td>\n",
       "      <td>235.0</td>\n",
       "      <td>478.0</td>\n",
       "      <td>434.0</td>\n",
       "      <td>...</td>\n",
       "      <td>291.0</td>\n",
       "      <td>279.0</td>\n",
       "      <td>247.0</td>\n",
       "      <td>368.0</td>\n",
       "      <td>180.0</td>\n",
       "      <td>161.0</td>\n",
       "      <td>139.0</td>\n",
       "      <td>174.0</td>\n",
       "      <td>156.0</td>\n",
       "      <td>218.0</td>\n",
       "    </tr>\n",
       "    <tr>\n",
       "      <th>36</th>\n",
       "      <td>폭력범죄</td>\n",
       "      <td>폭행</td>\n",
       "      <td>3731.0</td>\n",
       "      <td>3099.0</td>\n",
       "      <td>2790.0</td>\n",
       "      <td>2495.0</td>\n",
       "      <td>2559.0</td>\n",
       "      <td>3330.0</td>\n",
       "      <td>7252.0</td>\n",
       "      <td>7625.0</td>\n",
       "      <td>...</td>\n",
       "      <td>3412.0</td>\n",
       "      <td>2854.0</td>\n",
       "      <td>3216.0</td>\n",
       "      <td>4111.0</td>\n",
       "      <td>3237.0</td>\n",
       "      <td>2962.0</td>\n",
       "      <td>2866.0</td>\n",
       "      <td>2371.0</td>\n",
       "      <td>2424.0</td>\n",
       "      <td>2615.0</td>\n",
       "    </tr>\n",
       "    <tr>\n",
       "      <th>37</th>\n",
       "      <td>폭력범죄</td>\n",
       "      <td>협박</td>\n",
       "      <td>380.0</td>\n",
       "      <td>482.0</td>\n",
       "      <td>513.0</td>\n",
       "      <td>504.0</td>\n",
       "      <td>480.0</td>\n",
       "      <td>726.0</td>\n",
       "      <td>839.0</td>\n",
       "      <td>1024.0</td>\n",
       "      <td>...</td>\n",
       "      <td>714.0</td>\n",
       "      <td>683.0</td>\n",
       "      <td>652.0</td>\n",
       "      <td>952.0</td>\n",
       "      <td>392.0</td>\n",
       "      <td>511.0</td>\n",
       "      <td>467.0</td>\n",
       "      <td>380.0</td>\n",
       "      <td>440.0</td>\n",
       "      <td>623.0</td>\n",
       "    </tr>\n",
       "    <tr>\n",
       "      <th>38</th>\n",
       "      <td>풍속범죄</td>\n",
       "      <td>도박범죄</td>\n",
       "      <td>112.0</td>\n",
       "      <td>292.0</td>\n",
       "      <td>150.0</td>\n",
       "      <td>212.0</td>\n",
       "      <td>101.0</td>\n",
       "      <td>211.0</td>\n",
       "      <td>330.0</td>\n",
       "      <td>292.0</td>\n",
       "      <td>...</td>\n",
       "      <td>167.0</td>\n",
       "      <td>116.0</td>\n",
       "      <td>128.0</td>\n",
       "      <td>313.0</td>\n",
       "      <td>113.0</td>\n",
       "      <td>143.0</td>\n",
       "      <td>139.0</td>\n",
       "      <td>123.0</td>\n",
       "      <td>97.0</td>\n",
       "      <td>148.0</td>\n",
       "    </tr>\n",
       "    <tr>\n",
       "      <th>39</th>\n",
       "      <td>풍속범죄</td>\n",
       "      <td>성풍속범죄</td>\n",
       "      <td>201.0</td>\n",
       "      <td>210.0</td>\n",
       "      <td>380.0</td>\n",
       "      <td>225.0</td>\n",
       "      <td>397.0</td>\n",
       "      <td>500.0</td>\n",
       "      <td>447.0</td>\n",
       "      <td>478.0</td>\n",
       "      <td>...</td>\n",
       "      <td>381.0</td>\n",
       "      <td>429.0</td>\n",
       "      <td>642.0</td>\n",
       "      <td>754.0</td>\n",
       "      <td>212.0</td>\n",
       "      <td>265.0</td>\n",
       "      <td>433.0</td>\n",
       "      <td>305.0</td>\n",
       "      <td>439.0</td>\n",
       "      <td>524.0</td>\n",
       "    </tr>\n",
       "    <tr>\n",
       "      <th>40</th>\n",
       "      <td>환경범죄</td>\n",
       "      <td>환경범죄</td>\n",
       "      <td>73.0</td>\n",
       "      <td>120.0</td>\n",
       "      <td>83.0</td>\n",
       "      <td>62.0</td>\n",
       "      <td>45.0</td>\n",
       "      <td>94.0</td>\n",
       "      <td>369.0</td>\n",
       "      <td>356.0</td>\n",
       "      <td>...</td>\n",
       "      <td>120.0</td>\n",
       "      <td>204.0</td>\n",
       "      <td>109.0</td>\n",
       "      <td>1789.0</td>\n",
       "      <td>38.0</td>\n",
       "      <td>22.0</td>\n",
       "      <td>11.0</td>\n",
       "      <td>6.0</td>\n",
       "      <td>16.0</td>\n",
       "      <td>16.0</td>\n",
       "    </tr>\n",
       "  </tbody>\n",
       "</table>\n",
       "<p>41 rows × 110 columns</p>\n",
       "</div>"
      ],
      "text/plain": [
       "       범죄대분류        범죄중분류       강원                                          \\\n",
       "Year                            18      19      20      21      22      23   \n",
       "0       강력범죄           강간    116.0   131.0   110.0   108.0   131.0   156.0   \n",
       "1       강력범죄           강도     11.0    23.0    19.0    10.0    14.0    10.0   \n",
       "2       강력범죄         강제추행    352.0   351.0   307.0   274.0   307.0   472.0   \n",
       "3       강력범죄  기타 강간 강제추행등      NaN     NaN     NaN     NaN     NaN     6.0   \n",
       "4       강력범죄    기타강간강제추행등      7.0     2.0     7.0     6.0     8.0     NaN   \n",
       "5       강력범죄           방화     31.0    28.0    26.0    20.0    25.0    30.0   \n",
       "6       강력범죄         살인기수     12.0     5.0    12.0     6.0    10.0    12.0   \n",
       "7       강력범죄        살인미수등      2.0     8.0     8.0     7.0     7.0    15.0   \n",
       "8       강력범죄         유사강간     22.0    24.0    14.0    22.0    28.0    24.0   \n",
       "9       교통범죄         교통범죄  10214.0  9352.0  8883.0  7692.0  6224.0  8440.0   \n",
       "10      기타범죄         기타범죄   5528.0  5195.0  5629.0  6328.0  4973.0  9628.0   \n",
       "11      노동범죄         노동범죄    656.0     9.0    10.0     5.0     9.0    21.0   \n",
       "12      마약범죄         마약범죄    121.0   172.0   159.0   100.0   194.0   589.0   \n",
       "13      병역범죄         병역범죄    253.0   175.0    52.0    39.0    88.0   221.0   \n",
       "14      보건범죄         보건범죄    229.0   385.0   340.0   301.0   403.0   353.0   \n",
       "15      선거범죄         선거범죄     55.0    21.0    16.0     5.0    69.0    34.0   \n",
       "16      안보범죄         안보범죄      3.0     0.0     3.0     4.0     5.0     2.0   \n",
       "17      절도범죄         절도범죄   3298.0  3582.0  3416.0  3384.0  3512.0  4368.0   \n",
       "18      지능범죄        문서 인장      NaN     NaN     NaN     NaN     NaN   377.0   \n",
       "19      지능범죄         문서인장    191.0   246.0   218.0   186.0   240.0     NaN   \n",
       "20      지능범죄           배임     66.0    86.0    69.0    63.0    63.0   123.0   \n",
       "21      지능범죄           사기   5081.0  5957.0  6588.0  5781.0  6745.0  9852.0   \n",
       "22      지능범죄       유가증권인지      3.0     0.0     0.0     0.0     3.0     1.0   \n",
       "23      지능범죄          증수뢰      4.0     2.0     4.0     6.0     3.0    14.0   \n",
       "24      지능범죄         직권남용     13.0    23.0    12.0    15.0    29.0    82.0   \n",
       "25      지능범죄         직무유기     16.0    14.0    16.0    20.0    24.0    52.0   \n",
       "26      지능범죄           통화     15.0    15.0    15.0    10.0    13.0     7.0   \n",
       "27      지능범죄           횡령    726.0   817.0   778.0   669.0   857.0  1417.0   \n",
       "28    특별경제범죄       특별경제범죄    974.0  1009.0   905.0   906.0   839.0  1374.0   \n",
       "29      폭력범죄           공갈     71.0   108.0    84.0   101.0   133.0   180.0   \n",
       "30      폭력범죄           상해   1314.0  1238.0  1057.0   842.0   766.0   911.0   \n",
       "31      폭력범죄           손괴   1548.0  1468.0  1415.0  1340.0  1428.0  1748.0   \n",
       "32      폭력범죄        약취 유인      NaN     NaN     NaN     NaN     NaN     9.0   \n",
       "33      폭력범죄         약취유인      4.0     9.0     2.0     3.0     9.0     NaN   \n",
       "34      폭력범죄         체포감금     19.0    30.0    24.0    31.0    17.0    30.0   \n",
       "35      폭력범죄        폭력행위등    233.0   236.0   183.0   177.0   173.0   235.0   \n",
       "36      폭력범죄           폭행   3731.0  3099.0  2790.0  2495.0  2559.0  3330.0   \n",
       "37      폭력범죄           협박    380.0   482.0   513.0   504.0   480.0   726.0   \n",
       "38      풍속범죄         도박범죄    112.0   292.0   150.0   212.0   101.0   211.0   \n",
       "39      풍속범죄        성풍속범죄    201.0   210.0   380.0   225.0   397.0   500.0   \n",
       "40      환경범죄         환경범죄     73.0   120.0    83.0    62.0    45.0    94.0   \n",
       "\n",
       "           경남           ...       충남                                  충북  \\\n",
       "Year       18       19  ...       20       21       22       23       18   \n",
       "0       214.0    232.0  ...    185.0    191.0    214.0    201.0    122.0   \n",
       "1        49.0     34.0  ...     36.0     18.0     22.0     29.0     21.0   \n",
       "2       635.0    645.0  ...    433.0    422.0    483.0    636.0    368.0   \n",
       "3         NaN      NaN  ...      NaN      NaN      NaN     10.0      NaN   \n",
       "4        20.0     22.0  ...     10.0      7.0      7.0      NaN      8.0   \n",
       "5       288.0     50.0  ...     42.0     44.0     37.0     55.0     40.0   \n",
       "6        17.0     16.0  ...      6.0      7.0     13.0     17.0     10.0   \n",
       "7        37.0     25.0  ...     22.0     18.0     28.0     26.0     16.0   \n",
       "8        43.0     39.0  ...     24.0     22.0     31.0     33.0     17.0   \n",
       "9     20498.0  20726.0  ...  13165.0  11726.0  10317.0  12667.0  12089.0   \n",
       "10    12424.0  14341.0  ...   6904.0   6241.0   7772.0  12151.0   4289.0   \n",
       "11       75.0     11.0  ...     12.0     15.0     10.0     11.0     14.0   \n",
       "12      480.0    537.0  ...    291.0    256.0    311.0    513.0    161.0   \n",
       "13      734.0    516.0  ...    182.0     68.0    101.0    461.0    253.0   \n",
       "14      770.0    715.0  ...    859.0    490.0    417.0    217.0     88.0   \n",
       "15       91.0     57.0  ...     11.0      2.0     75.0     54.0     33.0   \n",
       "16        3.0      3.0  ...      1.0      7.0      4.0      6.0      1.0   \n",
       "17    10151.0  10648.0  ...   6268.0   5941.0   6304.0   7629.0   4410.0   \n",
       "18        NaN      NaN  ...      NaN      NaN      NaN    523.0      NaN   \n",
       "19      949.0    633.0  ...    379.0    282.0    359.0      NaN    264.0   \n",
       "20      227.0    248.0  ...    128.0    115.0    132.0    146.0     68.0   \n",
       "21    15393.0  18347.0  ...  10455.0   8073.0  10349.0  14750.0   5827.0   \n",
       "22        4.0      4.0  ...      3.0      1.0      0.0      0.0      4.0   \n",
       "23       15.0     13.0  ...     14.0     10.0      6.0     12.0      8.0   \n",
       "24       22.0     35.0  ...      7.0     16.0     44.0     37.0      6.0   \n",
       "25       16.0     30.0  ...     11.0     22.0     31.0     39.0      6.0   \n",
       "26       11.0     12.0  ...     25.0     19.0     10.0      9.0     17.0   \n",
       "27     2159.0   2302.0  ...   1574.0   1296.0   1533.0   2006.0    905.0   \n",
       "28     2518.0   2729.0  ...   1368.0   1071.0   1328.0   2106.0   1014.0   \n",
       "29      216.0    290.0  ...    158.0    188.0    206.0    277.0     93.0   \n",
       "30     3009.0   2918.0  ...   1332.0   1120.0    979.0   1130.0    995.0   \n",
       "31     2672.0   2948.0  ...   2168.0   1963.0   1870.0   2435.0   1540.0   \n",
       "32        NaN      NaN  ...      NaN      NaN      NaN     12.0      NaN   \n",
       "33        9.0     11.0  ...      7.0      9.0      5.0      NaN      4.0   \n",
       "34       52.0     57.0  ...     53.0     42.0     41.0     45.0     41.0   \n",
       "35      478.0    434.0  ...    291.0    279.0    247.0    368.0    180.0   \n",
       "36     7252.0   7625.0  ...   3412.0   2854.0   3216.0   4111.0   3237.0   \n",
       "37      839.0   1024.0  ...    714.0    683.0    652.0    952.0    392.0   \n",
       "38      330.0    292.0  ...    167.0    116.0    128.0    313.0    113.0   \n",
       "39      447.0    478.0  ...    381.0    429.0    642.0    754.0    212.0   \n",
       "40      369.0    356.0  ...    120.0    204.0    109.0   1789.0     38.0   \n",
       "\n",
       "                                                \n",
       "Year       19      20      21      22       23  \n",
       "0       108.0   135.0   135.0   149.0    138.0  \n",
       "1        28.0    15.0    10.0    21.0     15.0  \n",
       "2       348.0   328.0   248.0   354.0    451.0  \n",
       "3         NaN     NaN     NaN     NaN      7.0  \n",
       "4        11.0     8.0     3.0     8.0      NaN  \n",
       "5        41.0    31.0    23.0    29.0     54.0  \n",
       "6         5.0     4.0     7.0     5.0      7.0  \n",
       "7        17.0     7.0     4.0    12.0     17.0  \n",
       "8        19.0    14.0    13.0    15.0     22.0  \n",
       "9     10555.0  9704.0  8326.0  6227.0   8850.0  \n",
       "10     4208.0  4125.0  4105.0  4268.0   6091.0  \n",
       "11       16.0     7.0     4.0     4.0      8.0  \n",
       "12      156.0   186.0   136.0   227.0    476.0  \n",
       "13      252.0    82.0    47.0    62.0    183.0  \n",
       "14      127.0   149.0   214.0   356.0    173.0  \n",
       "15       11.0    13.0     1.0    51.0     25.0  \n",
       "16        1.0     0.0     3.0     0.0      2.0  \n",
       "17     4648.0  4374.0  3997.0  4576.0   5372.0  \n",
       "18        NaN     NaN     NaN     NaN    341.0  \n",
       "19      270.0   263.0   209.0   228.0      NaN  \n",
       "20       51.0    59.0    40.0    50.0     79.0  \n",
       "21     6530.0  7443.0  6961.0  7596.0  10357.0  \n",
       "22        1.0     0.0     2.0     0.0      1.0  \n",
       "23        5.0    10.0     5.0     4.0      9.0  \n",
       "24       16.0    12.0    25.0    25.0     48.0  \n",
       "25       13.0     8.0    24.0    25.0     35.0  \n",
       "26        9.0    17.0    17.0     5.0      6.0  \n",
       "27      854.0   919.0   848.0   923.0   1231.0  \n",
       "28      913.0   984.0   713.0   961.0   1426.0  \n",
       "29      121.0   168.0   121.0   214.0    247.0  \n",
       "30      959.0   843.0   893.0   795.0    814.0  \n",
       "31     1483.0  1462.0  1373.0  1423.0   1663.0  \n",
       "32        NaN     NaN     NaN     NaN      8.0  \n",
       "33        7.0     8.0     8.0    15.0      NaN  \n",
       "34       29.0    33.0    30.0    23.0     24.0  \n",
       "35      161.0   139.0   174.0   156.0    218.0  \n",
       "36     2962.0  2866.0  2371.0  2424.0   2615.0  \n",
       "37      511.0   467.0   380.0   440.0    623.0  \n",
       "38      143.0   139.0   123.0    97.0    148.0  \n",
       "39      265.0   433.0   305.0   439.0    524.0  \n",
       "40       22.0    11.0     6.0    16.0     16.0  \n",
       "\n",
       "[41 rows x 110 columns]"
      ]
     },
     "execution_count": 296,
     "metadata": {},
     "output_type": "execute_result"
    }
   ],
   "source": [
    "df1.pivot_table(\n",
    "    values=[col for col in df1.columns.tolist() if col not in ['범죄대분류','범죄중분류']],\n",
    "    columns=\"Year\",\n",
    "    index=['범죄대분류','범죄중분류'],       \n",
    "    aggfunc=\"sum\"      \n",
    ").reset_index()"
   ]
  },
  {
   "cell_type": "code",
   "execution_count": 297,
   "id": "a1c0f029-dad7-4b31-8d51-dd9101f47a9d",
   "metadata": {},
   "outputs": [
    {
     "data": {
      "application/vnd.plotly.v1+json": {
       "config": {
        "plotlyServerURL": "https://plot.ly"
       },
       "data": [
        {
         "hovertemplate": "범죄중분류=살인기수<br>Year=18<br>범죄대분류=%{x}<br>서울=%{y}<extra></extra>",
         "legendgroup": "살인기수",
         "marker": {
          "color": "#636efa",
          "symbol": "circle"
         },
         "mode": "markers",
         "name": "살인기수",
         "orientation": "v",
         "showlegend": true,
         "type": "scatter",
         "x": [
          "강력범죄"
         ],
         "xaxis": "x",
         "y": [
          45
         ],
         "yaxis": "y"
        },
        {
         "hovertemplate": "범죄중분류=살인기수<br>Year=19<br>범죄대분류=%{x}<br>서울=%{y}<extra></extra>",
         "legendgroup": "살인기수",
         "marker": {
          "color": "#636efa",
          "symbol": "circle"
         },
         "mode": "markers",
         "name": "살인기수",
         "orientation": "v",
         "showlegend": false,
         "type": "scatter",
         "x": [
          "강력범죄"
         ],
         "xaxis": "x2",
         "y": [
          45
         ],
         "yaxis": "y2"
        },
        {
         "hovertemplate": "범죄중분류=살인기수<br>Year=20<br>범죄대분류=%{x}<br>서울=%{y}<extra></extra>",
         "legendgroup": "살인기수",
         "marker": {
          "color": "#636efa",
          "symbol": "circle"
         },
         "mode": "markers",
         "name": "살인기수",
         "orientation": "v",
         "showlegend": false,
         "type": "scatter",
         "x": [
          "강력범죄"
         ],
         "xaxis": "x3",
         "y": [
          50
         ],
         "yaxis": "y3"
        },
        {
         "hovertemplate": "범죄중분류=살인기수<br>Year=21<br>범죄대분류=%{x}<br>서울=%{y}<extra></extra>",
         "legendgroup": "살인기수",
         "marker": {
          "color": "#636efa",
          "symbol": "circle"
         },
         "mode": "markers",
         "name": "살인기수",
         "orientation": "v",
         "showlegend": false,
         "type": "scatter",
         "x": [
          "강력범죄"
         ],
         "xaxis": "x4",
         "y": [
          47
         ],
         "yaxis": "y4"
        },
        {
         "hovertemplate": "범죄중분류=살인기수<br>Year=22<br>범죄대분류=%{x}<br>서울=%{y}<extra></extra>",
         "legendgroup": "살인기수",
         "marker": {
          "color": "#636efa",
          "symbol": "circle"
         },
         "mode": "markers",
         "name": "살인기수",
         "orientation": "v",
         "showlegend": false,
         "type": "scatter",
         "x": [
          "강력범죄"
         ],
         "xaxis": "x5",
         "y": [
          35
         ],
         "yaxis": "y5"
        },
        {
         "hovertemplate": "범죄중분류=살인기수<br>Year=23<br>범죄대분류=%{x}<br>서울=%{y}<extra></extra>",
         "legendgroup": "살인기수",
         "marker": {
          "color": "#636efa",
          "symbol": "circle"
         },
         "mode": "markers",
         "name": "살인기수",
         "orientation": "v",
         "showlegend": false,
         "type": "scatter",
         "x": [
          "강력범죄"
         ],
         "xaxis": "x6",
         "y": [
          41
         ],
         "yaxis": "y6"
        },
        {
         "hovertemplate": "범죄중분류=살인미수등<br>Year=18<br>범죄대분류=%{x}<br>서울=%{y}<extra></extra>",
         "legendgroup": "살인미수등",
         "marker": {
          "color": "#EF553B",
          "symbol": "circle"
         },
         "mode": "markers",
         "name": "살인미수등",
         "orientation": "v",
         "showlegend": true,
         "type": "scatter",
         "x": [
          "강력범죄"
         ],
         "xaxis": "x",
         "y": [
          97
         ],
         "yaxis": "y"
        },
        {
         "hovertemplate": "범죄중분류=살인미수등<br>Year=19<br>범죄대분류=%{x}<br>서울=%{y}<extra></extra>",
         "legendgroup": "살인미수등",
         "marker": {
          "color": "#EF553B",
          "symbol": "circle"
         },
         "mode": "markers",
         "name": "살인미수등",
         "orientation": "v",
         "showlegend": false,
         "type": "scatter",
         "x": [
          "강력범죄"
         ],
         "xaxis": "x2",
         "y": [
          89
         ],
         "yaxis": "y2"
        },
        {
         "hovertemplate": "범죄중분류=살인미수등<br>Year=20<br>범죄대분류=%{x}<br>서울=%{y}<extra></extra>",
         "legendgroup": "살인미수등",
         "marker": {
          "color": "#EF553B",
          "symbol": "circle"
         },
         "mode": "markers",
         "name": "살인미수등",
         "orientation": "v",
         "showlegend": false,
         "type": "scatter",
         "x": [
          "강력범죄"
         ],
         "xaxis": "x3",
         "y": [
          88
         ],
         "yaxis": "y3"
        },
        {
         "hovertemplate": "범죄중분류=살인미수등<br>Year=21<br>범죄대분류=%{x}<br>서울=%{y}<extra></extra>",
         "legendgroup": "살인미수등",
         "marker": {
          "color": "#EF553B",
          "symbol": "circle"
         },
         "mode": "markers",
         "name": "살인미수등",
         "orientation": "v",
         "showlegend": false,
         "type": "scatter",
         "x": [
          "강력범죄"
         ],
         "xaxis": "x4",
         "y": [
          76
         ],
         "yaxis": "y4"
        },
        {
         "hovertemplate": "범죄중분류=살인미수등<br>Year=22<br>범죄대분류=%{x}<br>서울=%{y}<extra></extra>",
         "legendgroup": "살인미수등",
         "marker": {
          "color": "#EF553B",
          "symbol": "circle"
         },
         "mode": "markers",
         "name": "살인미수등",
         "orientation": "v",
         "showlegend": false,
         "type": "scatter",
         "x": [
          "강력범죄"
         ],
         "xaxis": "x5",
         "y": [
          68
         ],
         "yaxis": "y5"
        },
        {
         "hovertemplate": "범죄중분류=살인미수등<br>Year=23<br>범죄대분류=%{x}<br>서울=%{y}<extra></extra>",
         "legendgroup": "살인미수등",
         "marker": {
          "color": "#EF553B",
          "symbol": "circle"
         },
         "mode": "markers",
         "name": "살인미수등",
         "orientation": "v",
         "showlegend": false,
         "type": "scatter",
         "x": [
          "강력범죄"
         ],
         "xaxis": "x6",
         "y": [
          107
         ],
         "yaxis": "y6"
        },
        {
         "hovertemplate": "범죄중분류=강도<br>Year=18<br>범죄대분류=%{x}<br>서울=%{y}<extra></extra>",
         "legendgroup": "강도",
         "marker": {
          "color": "#00cc96",
          "symbol": "circle"
         },
         "mode": "markers",
         "name": "강도",
         "orientation": "v",
         "showlegend": true,
         "type": "scatter",
         "x": [
          "강력범죄"
         ],
         "xaxis": "x",
         "y": [
          139
         ],
         "yaxis": "y"
        },
        {
         "hovertemplate": "범죄중분류=강도<br>Year=19<br>범죄대분류=%{x}<br>서울=%{y}<extra></extra>",
         "legendgroup": "강도",
         "marker": {
          "color": "#00cc96",
          "symbol": "circle"
         },
         "mode": "markers",
         "name": "강도",
         "orientation": "v",
         "showlegend": false,
         "type": "scatter",
         "x": [
          "강력범죄"
         ],
         "xaxis": "x2",
         "y": [
          133
         ],
         "yaxis": "y2"
        },
        {
         "hovertemplate": "범죄중분류=강도<br>Year=20<br>범죄대분류=%{x}<br>서울=%{y}<extra></extra>",
         "legendgroup": "강도",
         "marker": {
          "color": "#00cc96",
          "symbol": "circle"
         },
         "mode": "markers",
         "name": "강도",
         "orientation": "v",
         "showlegend": false,
         "type": "scatter",
         "x": [
          "강력범죄"
         ],
         "xaxis": "x3",
         "y": [
          141
         ],
         "yaxis": "y3"
        },
        {
         "hovertemplate": "범죄중분류=강도<br>Year=21<br>범죄대분류=%{x}<br>서울=%{y}<extra></extra>",
         "legendgroup": "강도",
         "marker": {
          "color": "#00cc96",
          "symbol": "circle"
         },
         "mode": "markers",
         "name": "강도",
         "orientation": "v",
         "showlegend": false,
         "type": "scatter",
         "x": [
          "강력범죄"
         ],
         "xaxis": "x4",
         "y": [
          122
         ],
         "yaxis": "y4"
        },
        {
         "hovertemplate": "범죄중분류=강도<br>Year=22<br>범죄대분류=%{x}<br>서울=%{y}<extra></extra>",
         "legendgroup": "강도",
         "marker": {
          "color": "#00cc96",
          "symbol": "circle"
         },
         "mode": "markers",
         "name": "강도",
         "orientation": "v",
         "showlegend": false,
         "type": "scatter",
         "x": [
          "강력범죄"
         ],
         "xaxis": "x5",
         "y": [
          118
         ],
         "yaxis": "y5"
        },
        {
         "hovertemplate": "범죄중분류=강도<br>Year=23<br>범죄대분류=%{x}<br>서울=%{y}<extra></extra>",
         "legendgroup": "강도",
         "marker": {
          "color": "#00cc96",
          "symbol": "circle"
         },
         "mode": "markers",
         "name": "강도",
         "orientation": "v",
         "showlegend": false,
         "type": "scatter",
         "x": [
          "강력범죄"
         ],
         "xaxis": "x6",
         "y": [
          127
         ],
         "yaxis": "y6"
        },
        {
         "hovertemplate": "범죄중분류=강간<br>Year=18<br>범죄대분류=%{x}<br>서울=%{y}<extra></extra>",
         "legendgroup": "강간",
         "marker": {
          "color": "#ab63fa",
          "symbol": "circle"
         },
         "mode": "markers",
         "name": "강간",
         "orientation": "v",
         "showlegend": true,
         "type": "scatter",
         "x": [
          "강력범죄"
         ],
         "xaxis": "x",
         "y": [
          1159
         ],
         "yaxis": "y"
        },
        {
         "hovertemplate": "범죄중분류=강간<br>Year=19<br>범죄대분류=%{x}<br>서울=%{y}<extra></extra>",
         "legendgroup": "강간",
         "marker": {
          "color": "#ab63fa",
          "symbol": "circle"
         },
         "mode": "markers",
         "name": "강간",
         "orientation": "v",
         "showlegend": false,
         "type": "scatter",
         "x": [
          "강력범죄"
         ],
         "xaxis": "x2",
         "y": [
          1254
         ],
         "yaxis": "y2"
        },
        {
         "hovertemplate": "범죄중분류=강간<br>Year=20<br>범죄대분류=%{x}<br>서울=%{y}<extra></extra>",
         "legendgroup": "강간",
         "marker": {
          "color": "#ab63fa",
          "symbol": "circle"
         },
         "mode": "markers",
         "name": "강간",
         "orientation": "v",
         "showlegend": false,
         "type": "scatter",
         "x": [
          "강력범죄"
         ],
         "xaxis": "x3",
         "y": [
          1279
         ],
         "yaxis": "y3"
        },
        {
         "hovertemplate": "범죄중분류=강간<br>Year=21<br>범죄대분류=%{x}<br>서울=%{y}<extra></extra>",
         "legendgroup": "강간",
         "marker": {
          "color": "#ab63fa",
          "symbol": "circle"
         },
         "mode": "markers",
         "name": "강간",
         "orientation": "v",
         "showlegend": false,
         "type": "scatter",
         "x": [
          "강력범죄"
         ],
         "xaxis": "x4",
         "y": [
          1134
         ],
         "yaxis": "y4"
        },
        {
         "hovertemplate": "범죄중분류=강간<br>Year=22<br>범죄대분류=%{x}<br>서울=%{y}<extra></extra>",
         "legendgroup": "강간",
         "marker": {
          "color": "#ab63fa",
          "symbol": "circle"
         },
         "mode": "markers",
         "name": "강간",
         "orientation": "v",
         "showlegend": false,
         "type": "scatter",
         "x": [
          "강력범죄"
         ],
         "xaxis": "x5",
         "y": [
          1200
         ],
         "yaxis": "y5"
        },
        {
         "hovertemplate": "범죄중분류=강간<br>Year=23<br>범죄대분류=%{x}<br>서울=%{y}<extra></extra>",
         "legendgroup": "강간",
         "marker": {
          "color": "#ab63fa",
          "symbol": "circle"
         },
         "mode": "markers",
         "name": "강간",
         "orientation": "v",
         "showlegend": false,
         "type": "scatter",
         "x": [
          "강력범죄"
         ],
         "xaxis": "x6",
         "y": [
          1150
         ],
         "yaxis": "y6"
        },
        {
         "hovertemplate": "범죄중분류=유사강간<br>Year=18<br>범죄대분류=%{x}<br>서울=%{y}<extra></extra>",
         "legendgroup": "유사강간",
         "marker": {
          "color": "#FFA15A",
          "symbol": "circle"
         },
         "mode": "markers",
         "name": "유사강간",
         "orientation": "v",
         "showlegend": true,
         "type": "scatter",
         "x": [
          "강력범죄"
         ],
         "xaxis": "x",
         "y": [
          180
         ],
         "yaxis": "y"
        },
        {
         "hovertemplate": "범죄중분류=유사강간<br>Year=19<br>범죄대분류=%{x}<br>서울=%{y}<extra></extra>",
         "legendgroup": "유사강간",
         "marker": {
          "color": "#FFA15A",
          "symbol": "circle"
         },
         "mode": "markers",
         "name": "유사강간",
         "orientation": "v",
         "showlegend": false,
         "type": "scatter",
         "x": [
          "강력범죄"
         ],
         "xaxis": "x2",
         "y": [
          171
         ],
         "yaxis": "y2"
        },
        {
         "hovertemplate": "범죄중분류=유사강간<br>Year=20<br>범죄대분류=%{x}<br>서울=%{y}<extra></extra>",
         "legendgroup": "유사강간",
         "marker": {
          "color": "#FFA15A",
          "symbol": "circle"
         },
         "mode": "markers",
         "name": "유사강간",
         "orientation": "v",
         "showlegend": false,
         "type": "scatter",
         "x": [
          "강력범죄"
         ],
         "xaxis": "x3",
         "y": [
          197
         ],
         "yaxis": "y3"
        },
        {
         "hovertemplate": "범죄중분류=유사강간<br>Year=21<br>범죄대분류=%{x}<br>서울=%{y}<extra></extra>",
         "legendgroup": "유사강간",
         "marker": {
          "color": "#FFA15A",
          "symbol": "circle"
         },
         "mode": "markers",
         "name": "유사강간",
         "orientation": "v",
         "showlegend": false,
         "type": "scatter",
         "x": [
          "강력범죄"
         ],
         "xaxis": "x4",
         "y": [
          180
         ],
         "yaxis": "y4"
        },
        {
         "hovertemplate": "범죄중분류=유사강간<br>Year=22<br>범죄대분류=%{x}<br>서울=%{y}<extra></extra>",
         "legendgroup": "유사강간",
         "marker": {
          "color": "#FFA15A",
          "symbol": "circle"
         },
         "mode": "markers",
         "name": "유사강간",
         "orientation": "v",
         "showlegend": false,
         "type": "scatter",
         "x": [
          "강력범죄"
         ],
         "xaxis": "x5",
         "y": [
          219
         ],
         "yaxis": "y5"
        },
        {
         "hovertemplate": "범죄중분류=유사강간<br>Year=23<br>범죄대분류=%{x}<br>서울=%{y}<extra></extra>",
         "legendgroup": "유사강간",
         "marker": {
          "color": "#FFA15A",
          "symbol": "circle"
         },
         "mode": "markers",
         "name": "유사강간",
         "orientation": "v",
         "showlegend": false,
         "type": "scatter",
         "x": [
          "강력범죄"
         ],
         "xaxis": "x6",
         "y": [
          223
         ],
         "yaxis": "y6"
        },
        {
         "hovertemplate": "범죄중분류=강제추행<br>Year=18<br>범죄대분류=%{x}<br>서울=%{y}<extra></extra>",
         "legendgroup": "강제추행",
         "marker": {
          "color": "#19d3f3",
          "symbol": "circle"
         },
         "mode": "markers",
         "name": "강제추행",
         "orientation": "v",
         "showlegend": true,
         "type": "scatter",
         "x": [
          "강력범죄"
         ],
         "xaxis": "x",
         "y": [
          5002
         ],
         "yaxis": "y"
        },
        {
         "hovertemplate": "범죄중분류=강제추행<br>Year=19<br>범죄대분류=%{x}<br>서울=%{y}<extra></extra>",
         "legendgroup": "강제추행",
         "marker": {
          "color": "#19d3f3",
          "symbol": "circle"
         },
         "mode": "markers",
         "name": "강제추행",
         "orientation": "v",
         "showlegend": false,
         "type": "scatter",
         "x": [
          "강력범죄"
         ],
         "xaxis": "x2",
         "y": [
          4981
         ],
         "yaxis": "y2"
        },
        {
         "hovertemplate": "범죄중분류=강제추행<br>Year=20<br>범죄대분류=%{x}<br>서울=%{y}<extra></extra>",
         "legendgroup": "강제추행",
         "marker": {
          "color": "#19d3f3",
          "symbol": "circle"
         },
         "mode": "markers",
         "name": "강제추행",
         "orientation": "v",
         "showlegend": false,
         "type": "scatter",
         "x": [
          "강력범죄"
         ],
         "xaxis": "x3",
         "y": [
          4211
         ],
         "yaxis": "y3"
        },
        {
         "hovertemplate": "범죄중분류=강제추행<br>Year=21<br>범죄대분류=%{x}<br>서울=%{y}<extra></extra>",
         "legendgroup": "강제추행",
         "marker": {
          "color": "#19d3f3",
          "symbol": "circle"
         },
         "mode": "markers",
         "name": "강제추행",
         "orientation": "v",
         "showlegend": false,
         "type": "scatter",
         "x": [
          "강력범죄"
         ],
         "xaxis": "x4",
         "y": [
          3553
         ],
         "yaxis": "y4"
        },
        {
         "hovertemplate": "범죄중분류=강제추행<br>Year=22<br>범죄대분류=%{x}<br>서울=%{y}<extra></extra>",
         "legendgroup": "강제추행",
         "marker": {
          "color": "#19d3f3",
          "symbol": "circle"
         },
         "mode": "markers",
         "name": "강제추행",
         "orientation": "v",
         "showlegend": false,
         "type": "scatter",
         "x": [
          "강력범죄"
         ],
         "xaxis": "x5",
         "y": [
          4358
         ],
         "yaxis": "y5"
        },
        {
         "hovertemplate": "범죄중분류=강제추행<br>Year=23<br>범죄대분류=%{x}<br>서울=%{y}<extra></extra>",
         "legendgroup": "강제추행",
         "marker": {
          "color": "#19d3f3",
          "symbol": "circle"
         },
         "mode": "markers",
         "name": "강제추행",
         "orientation": "v",
         "showlegend": false,
         "type": "scatter",
         "x": [
          "강력범죄"
         ],
         "xaxis": "x6",
         "y": [
          4343
         ],
         "yaxis": "y6"
        },
        {
         "hovertemplate": "범죄중분류=기타강간강제추행등<br>Year=18<br>범죄대분류=%{x}<br>서울=%{y}<extra></extra>",
         "legendgroup": "기타강간강제추행등",
         "marker": {
          "color": "#FF6692",
          "symbol": "circle"
         },
         "mode": "markers",
         "name": "기타강간강제추행등",
         "orientation": "v",
         "showlegend": true,
         "type": "scatter",
         "x": [
          "강력범죄"
         ],
         "xaxis": "x",
         "y": [
          59
         ],
         "yaxis": "y"
        },
        {
         "hovertemplate": "범죄중분류=기타강간강제추행등<br>Year=19<br>범죄대분류=%{x}<br>서울=%{y}<extra></extra>",
         "legendgroup": "기타강간강제추행등",
         "marker": {
          "color": "#FF6692",
          "symbol": "circle"
         },
         "mode": "markers",
         "name": "기타강간강제추행등",
         "orientation": "v",
         "showlegend": false,
         "type": "scatter",
         "x": [
          "강력범죄"
         ],
         "xaxis": "x2",
         "y": [
          52
         ],
         "yaxis": "y2"
        },
        {
         "hovertemplate": "범죄중분류=기타강간강제추행등<br>Year=20<br>범죄대분류=%{x}<br>서울=%{y}<extra></extra>",
         "legendgroup": "기타강간강제추행등",
         "marker": {
          "color": "#FF6692",
          "symbol": "circle"
         },
         "mode": "markers",
         "name": "기타강간강제추행등",
         "orientation": "v",
         "showlegend": false,
         "type": "scatter",
         "x": [
          "강력범죄"
         ],
         "xaxis": "x3",
         "y": [
          58
         ],
         "yaxis": "y3"
        },
        {
         "hovertemplate": "범죄중분류=기타강간강제추행등<br>Year=21<br>범죄대분류=%{x}<br>서울=%{y}<extra></extra>",
         "legendgroup": "기타강간강제추행등",
         "marker": {
          "color": "#FF6692",
          "symbol": "circle"
         },
         "mode": "markers",
         "name": "기타강간강제추행등",
         "orientation": "v",
         "showlegend": false,
         "type": "scatter",
         "x": [
          "강력범죄"
         ],
         "xaxis": "x4",
         "y": [
          39
         ],
         "yaxis": "y4"
        },
        {
         "hovertemplate": "범죄중분류=기타강간강제추행등<br>Year=22<br>범죄대분류=%{x}<br>서울=%{y}<extra></extra>",
         "legendgroup": "기타강간강제추행등",
         "marker": {
          "color": "#FF6692",
          "symbol": "circle"
         },
         "mode": "markers",
         "name": "기타강간강제추행등",
         "orientation": "v",
         "showlegend": false,
         "type": "scatter",
         "x": [
          "강력범죄"
         ],
         "xaxis": "x5",
         "y": [
          35
         ],
         "yaxis": "y5"
        },
        {
         "hovertemplate": "범죄중분류=방화<br>Year=18<br>범죄대분류=%{x}<br>서울=%{y}<extra></extra>",
         "legendgroup": "방화",
         "marker": {
          "color": "#B6E880",
          "symbol": "circle"
         },
         "mode": "markers",
         "name": "방화",
         "orientation": "v",
         "showlegend": true,
         "type": "scatter",
         "x": [
          "강력범죄"
         ],
         "xaxis": "x",
         "y": [
          293
         ],
         "yaxis": "y"
        },
        {
         "hovertemplate": "범죄중분류=방화<br>Year=19<br>범죄대분류=%{x}<br>서울=%{y}<extra></extra>",
         "legendgroup": "방화",
         "marker": {
          "color": "#B6E880",
          "symbol": "circle"
         },
         "mode": "markers",
         "name": "방화",
         "orientation": "v",
         "showlegend": false,
         "type": "scatter",
         "x": [
          "강력범죄"
         ],
         "xaxis": "x2",
         "y": [
          252
         ],
         "yaxis": "y2"
        },
        {
         "hovertemplate": "범죄중분류=방화<br>Year=20<br>범죄대분류=%{x}<br>서울=%{y}<extra></extra>",
         "legendgroup": "방화",
         "marker": {
          "color": "#B6E880",
          "symbol": "circle"
         },
         "mode": "markers",
         "name": "방화",
         "orientation": "v",
         "showlegend": false,
         "type": "scatter",
         "x": [
          "강력범죄"
         ],
         "xaxis": "x3",
         "y": [
          222
         ],
         "yaxis": "y3"
        },
        {
         "hovertemplate": "범죄중분류=방화<br>Year=21<br>범죄대분류=%{x}<br>서울=%{y}<extra></extra>",
         "legendgroup": "방화",
         "marker": {
          "color": "#B6E880",
          "symbol": "circle"
         },
         "mode": "markers",
         "name": "방화",
         "orientation": "v",
         "showlegend": false,
         "type": "scatter",
         "x": [
          "강력범죄"
         ],
         "xaxis": "x4",
         "y": [
          186
         ],
         "yaxis": "y4"
        },
        {
         "hovertemplate": "범죄중분류=방화<br>Year=22<br>범죄대분류=%{x}<br>서울=%{y}<extra></extra>",
         "legendgroup": "방화",
         "marker": {
          "color": "#B6E880",
          "symbol": "circle"
         },
         "mode": "markers",
         "name": "방화",
         "orientation": "v",
         "showlegend": false,
         "type": "scatter",
         "x": [
          "강력범죄"
         ],
         "xaxis": "x5",
         "y": [
          217
         ],
         "yaxis": "y5"
        },
        {
         "hovertemplate": "범죄중분류=방화<br>Year=23<br>범죄대분류=%{x}<br>서울=%{y}<extra></extra>",
         "legendgroup": "방화",
         "marker": {
          "color": "#B6E880",
          "symbol": "circle"
         },
         "mode": "markers",
         "name": "방화",
         "orientation": "v",
         "showlegend": false,
         "type": "scatter",
         "x": [
          "강력범죄"
         ],
         "xaxis": "x6",
         "y": [
          221
         ],
         "yaxis": "y6"
        },
        {
         "hovertemplate": "범죄중분류=절도범죄<br>Year=18<br>범죄대분류=%{x}<br>서울=%{y}<extra></extra>",
         "legendgroup": "절도범죄",
         "marker": {
          "color": "#FF97FF",
          "symbol": "circle"
         },
         "mode": "markers",
         "name": "절도범죄",
         "orientation": "v",
         "showlegend": true,
         "type": "scatter",
         "x": [
          "절도범죄"
         ],
         "xaxis": "x",
         "y": [
          39182
         ],
         "yaxis": "y"
        },
        {
         "hovertemplate": "범죄중분류=절도범죄<br>Year=19<br>범죄대분류=%{x}<br>서울=%{y}<extra></extra>",
         "legendgroup": "절도범죄",
         "marker": {
          "color": "#FF97FF",
          "symbol": "circle"
         },
         "mode": "markers",
         "name": "절도범죄",
         "orientation": "v",
         "showlegend": false,
         "type": "scatter",
         "x": [
          "절도범죄"
         ],
         "xaxis": "x2",
         "y": [
          42224
         ],
         "yaxis": "y2"
        },
        {
         "hovertemplate": "범죄중분류=절도범죄<br>Year=20<br>범죄대분류=%{x}<br>서울=%{y}<extra></extra>",
         "legendgroup": "절도범죄",
         "marker": {
          "color": "#FF97FF",
          "symbol": "circle"
         },
         "mode": "markers",
         "name": "절도범죄",
         "orientation": "v",
         "showlegend": false,
         "type": "scatter",
         "x": [
          "절도범죄"
         ],
         "xaxis": "x3",
         "y": [
          38296
         ],
         "yaxis": "y3"
        },
        {
         "hovertemplate": "범죄중분류=절도범죄<br>Year=21<br>범죄대분류=%{x}<br>서울=%{y}<extra></extra>",
         "legendgroup": "절도범죄",
         "marker": {
          "color": "#FF97FF",
          "symbol": "circle"
         },
         "mode": "markers",
         "name": "절도범죄",
         "orientation": "v",
         "showlegend": false,
         "type": "scatter",
         "x": [
          "절도범죄"
         ],
         "xaxis": "x4",
         "y": [
          33529
         ],
         "yaxis": "y4"
        },
        {
         "hovertemplate": "범죄중분류=절도범죄<br>Year=22<br>범죄대분류=%{x}<br>서울=%{y}<extra></extra>",
         "legendgroup": "절도범죄",
         "marker": {
          "color": "#FF97FF",
          "symbol": "circle"
         },
         "mode": "markers",
         "name": "절도범죄",
         "orientation": "v",
         "showlegend": false,
         "type": "scatter",
         "x": [
          "절도범죄"
         ],
         "xaxis": "x5",
         "y": [
          37594
         ],
         "yaxis": "y5"
        },
        {
         "hovertemplate": "범죄중분류=절도범죄<br>Year=23<br>범죄대분류=%{x}<br>서울=%{y}<extra></extra>",
         "legendgroup": "절도범죄",
         "marker": {
          "color": "#FF97FF",
          "symbol": "circle"
         },
         "mode": "markers",
         "name": "절도범죄",
         "orientation": "v",
         "showlegend": false,
         "type": "scatter",
         "x": [
          "절도범죄"
         ],
         "xaxis": "x6",
         "y": [
          37037
         ],
         "yaxis": "y6"
        },
        {
         "hovertemplate": "범죄중분류=상해<br>Year=18<br>범죄대분류=%{x}<br>서울=%{y}<extra></extra>",
         "legendgroup": "상해",
         "marker": {
          "color": "#FECB52",
          "symbol": "circle"
         },
         "mode": "markers",
         "name": "상해",
         "orientation": "v",
         "showlegend": true,
         "type": "scatter",
         "x": [
          "폭력범죄"
         ],
         "xaxis": "x",
         "y": [
          5119
         ],
         "yaxis": "y"
        },
        {
         "hovertemplate": "범죄중분류=상해<br>Year=19<br>범죄대분류=%{x}<br>서울=%{y}<extra></extra>",
         "legendgroup": "상해",
         "marker": {
          "color": "#FECB52",
          "symbol": "circle"
         },
         "mode": "markers",
         "name": "상해",
         "orientation": "v",
         "showlegend": false,
         "type": "scatter",
         "x": [
          "폭력범죄"
         ],
         "xaxis": "x2",
         "y": [
          4598
         ],
         "yaxis": "y2"
        },
        {
         "hovertemplate": "범죄중분류=상해<br>Year=20<br>범죄대분류=%{x}<br>서울=%{y}<extra></extra>",
         "legendgroup": "상해",
         "marker": {
          "color": "#FECB52",
          "symbol": "circle"
         },
         "mode": "markers",
         "name": "상해",
         "orientation": "v",
         "showlegend": false,
         "type": "scatter",
         "x": [
          "폭력범죄"
         ],
         "xaxis": "x3",
         "y": [
          3858
         ],
         "yaxis": "y3"
        },
        {
         "hovertemplate": "범죄중분류=상해<br>Year=21<br>범죄대분류=%{x}<br>서울=%{y}<extra></extra>",
         "legendgroup": "상해",
         "marker": {
          "color": "#FECB52",
          "symbol": "circle"
         },
         "mode": "markers",
         "name": "상해",
         "orientation": "v",
         "showlegend": false,
         "type": "scatter",
         "x": [
          "폭력범죄"
         ],
         "xaxis": "x4",
         "y": [
          3153
         ],
         "yaxis": "y4"
        },
        {
         "hovertemplate": "범죄중분류=상해<br>Year=22<br>범죄대분류=%{x}<br>서울=%{y}<extra></extra>",
         "legendgroup": "상해",
         "marker": {
          "color": "#FECB52",
          "symbol": "circle"
         },
         "mode": "markers",
         "name": "상해",
         "orientation": "v",
         "showlegend": false,
         "type": "scatter",
         "x": [
          "폭력범죄"
         ],
         "xaxis": "x5",
         "y": [
          3353
         ],
         "yaxis": "y5"
        },
        {
         "hovertemplate": "범죄중분류=상해<br>Year=23<br>범죄대분류=%{x}<br>서울=%{y}<extra></extra>",
         "legendgroup": "상해",
         "marker": {
          "color": "#FECB52",
          "symbol": "circle"
         },
         "mode": "markers",
         "name": "상해",
         "orientation": "v",
         "showlegend": false,
         "type": "scatter",
         "x": [
          "폭력범죄"
         ],
         "xaxis": "x6",
         "y": [
          2870
         ],
         "yaxis": "y6"
        },
        {
         "hovertemplate": "범죄중분류=폭행<br>Year=18<br>범죄대분류=%{x}<br>서울=%{y}<extra></extra>",
         "legendgroup": "폭행",
         "marker": {
          "color": "#636efa",
          "symbol": "circle"
         },
         "mode": "markers",
         "name": "폭행",
         "orientation": "v",
         "showlegend": true,
         "type": "scatter",
         "x": [
          "폭력범죄"
         ],
         "xaxis": "x",
         "y": [
          34321
         ],
         "yaxis": "y"
        },
        {
         "hovertemplate": "범죄중분류=폭행<br>Year=19<br>범죄대분류=%{x}<br>서울=%{y}<extra></extra>",
         "legendgroup": "폭행",
         "marker": {
          "color": "#636efa",
          "symbol": "circle"
         },
         "mode": "markers",
         "name": "폭행",
         "orientation": "v",
         "showlegend": false,
         "type": "scatter",
         "x": [
          "폭력범죄"
         ],
         "xaxis": "x2",
         "y": [
          32893
         ],
         "yaxis": "y2"
        },
        {
         "hovertemplate": "범죄중분류=폭행<br>Year=20<br>범죄대분류=%{x}<br>서울=%{y}<extra></extra>",
         "legendgroup": "폭행",
         "marker": {
          "color": "#636efa",
          "symbol": "circle"
         },
         "mode": "markers",
         "name": "폭행",
         "orientation": "v",
         "showlegend": false,
         "type": "scatter",
         "x": [
          "폭력범죄"
         ],
         "xaxis": "x3",
         "y": [
          27785
         ],
         "yaxis": "y3"
        },
        {
         "hovertemplate": "범죄중분류=폭행<br>Year=21<br>범죄대분류=%{x}<br>서울=%{y}<extra></extra>",
         "legendgroup": "폭행",
         "marker": {
          "color": "#636efa",
          "symbol": "circle"
         },
         "mode": "markers",
         "name": "폭행",
         "orientation": "v",
         "showlegend": false,
         "type": "scatter",
         "x": [
          "폭력범죄"
         ],
         "xaxis": "x4",
         "y": [
          23324
         ],
         "yaxis": "y4"
        },
        {
         "hovertemplate": "범죄중분류=폭행<br>Year=22<br>범죄대분류=%{x}<br>서울=%{y}<extra></extra>",
         "legendgroup": "폭행",
         "marker": {
          "color": "#636efa",
          "symbol": "circle"
         },
         "mode": "markers",
         "name": "폭행",
         "orientation": "v",
         "showlegend": false,
         "type": "scatter",
         "x": [
          "폭력범죄"
         ],
         "xaxis": "x5",
         "y": [
          26509
         ],
         "yaxis": "y5"
        },
        {
         "hovertemplate": "범죄중분류=폭행<br>Year=23<br>범죄대분류=%{x}<br>서울=%{y}<extra></extra>",
         "legendgroup": "폭행",
         "marker": {
          "color": "#636efa",
          "symbol": "circle"
         },
         "mode": "markers",
         "name": "폭행",
         "orientation": "v",
         "showlegend": false,
         "type": "scatter",
         "x": [
          "폭력범죄"
         ],
         "xaxis": "x6",
         "y": [
          24404
         ],
         "yaxis": "y6"
        },
        {
         "hovertemplate": "범죄중분류=체포감금<br>Year=18<br>범죄대분류=%{x}<br>서울=%{y}<extra></extra>",
         "legendgroup": "체포감금",
         "marker": {
          "color": "#EF553B",
          "symbol": "circle"
         },
         "mode": "markers",
         "name": "체포감금",
         "orientation": "v",
         "showlegend": true,
         "type": "scatter",
         "x": [
          "폭력범죄"
         ],
         "xaxis": "x",
         "y": [
          202
         ],
         "yaxis": "y"
        },
        {
         "hovertemplate": "범죄중분류=체포감금<br>Year=19<br>범죄대분류=%{x}<br>서울=%{y}<extra></extra>",
         "legendgroup": "체포감금",
         "marker": {
          "color": "#EF553B",
          "symbol": "circle"
         },
         "mode": "markers",
         "name": "체포감금",
         "orientation": "v",
         "showlegend": false,
         "type": "scatter",
         "x": [
          "폭력범죄"
         ],
         "xaxis": "x2",
         "y": [
          192
         ],
         "yaxis": "y2"
        },
        {
         "hovertemplate": "범죄중분류=체포감금<br>Year=20<br>범죄대분류=%{x}<br>서울=%{y}<extra></extra>",
         "legendgroup": "체포감금",
         "marker": {
          "color": "#EF553B",
          "symbol": "circle"
         },
         "mode": "markers",
         "name": "체포감금",
         "orientation": "v",
         "showlegend": false,
         "type": "scatter",
         "x": [
          "폭력범죄"
         ],
         "xaxis": "x3",
         "y": [
          215
         ],
         "yaxis": "y3"
        },
        {
         "hovertemplate": "범죄중분류=체포감금<br>Year=21<br>범죄대분류=%{x}<br>서울=%{y}<extra></extra>",
         "legendgroup": "체포감금",
         "marker": {
          "color": "#EF553B",
          "symbol": "circle"
         },
         "mode": "markers",
         "name": "체포감금",
         "orientation": "v",
         "showlegend": false,
         "type": "scatter",
         "x": [
          "폭력범죄"
         ],
         "xaxis": "x4",
         "y": [
          233
         ],
         "yaxis": "y4"
        },
        {
         "hovertemplate": "범죄중분류=체포감금<br>Year=22<br>범죄대분류=%{x}<br>서울=%{y}<extra></extra>",
         "legendgroup": "체포감금",
         "marker": {
          "color": "#EF553B",
          "symbol": "circle"
         },
         "mode": "markers",
         "name": "체포감금",
         "orientation": "v",
         "showlegend": false,
         "type": "scatter",
         "x": [
          "폭력범죄"
         ],
         "xaxis": "x5",
         "y": [
          243
         ],
         "yaxis": "y5"
        },
        {
         "hovertemplate": "범죄중분류=체포감금<br>Year=23<br>범죄대분류=%{x}<br>서울=%{y}<extra></extra>",
         "legendgroup": "체포감금",
         "marker": {
          "color": "#EF553B",
          "symbol": "circle"
         },
         "mode": "markers",
         "name": "체포감금",
         "orientation": "v",
         "showlegend": false,
         "type": "scatter",
         "x": [
          "폭력범죄"
         ],
         "xaxis": "x6",
         "y": [
          200
         ],
         "yaxis": "y6"
        },
        {
         "hovertemplate": "범죄중분류=협박<br>Year=18<br>범죄대분류=%{x}<br>서울=%{y}<extra></extra>",
         "legendgroup": "협박",
         "marker": {
          "color": "#00cc96",
          "symbol": "circle"
         },
         "mode": "markers",
         "name": "협박",
         "orientation": "v",
         "showlegend": true,
         "type": "scatter",
         "x": [
          "폭력범죄"
         ],
         "xaxis": "x",
         "y": [
          3089
         ],
         "yaxis": "y"
        },
        {
         "hovertemplate": "범죄중분류=협박<br>Year=19<br>범죄대분류=%{x}<br>서울=%{y}<extra></extra>",
         "legendgroup": "협박",
         "marker": {
          "color": "#00cc96",
          "symbol": "circle"
         },
         "mode": "markers",
         "name": "협박",
         "orientation": "v",
         "showlegend": false,
         "type": "scatter",
         "x": [
          "폭력범죄"
         ],
         "xaxis": "x2",
         "y": [
          3803
         ],
         "yaxis": "y2"
        },
        {
         "hovertemplate": "범죄중분류=협박<br>Year=20<br>범죄대분류=%{x}<br>서울=%{y}<extra></extra>",
         "legendgroup": "협박",
         "marker": {
          "color": "#00cc96",
          "symbol": "circle"
         },
         "mode": "markers",
         "name": "협박",
         "orientation": "v",
         "showlegend": false,
         "type": "scatter",
         "x": [
          "폭력범죄"
         ],
         "xaxis": "x3",
         "y": [
          3896
         ],
         "yaxis": "y3"
        },
        {
         "hovertemplate": "범죄중분류=협박<br>Year=21<br>범죄대분류=%{x}<br>서울=%{y}<extra></extra>",
         "legendgroup": "협박",
         "marker": {
          "color": "#00cc96",
          "symbol": "circle"
         },
         "mode": "markers",
         "name": "협박",
         "orientation": "v",
         "showlegend": false,
         "type": "scatter",
         "x": [
          "폭력범죄"
         ],
         "xaxis": "x4",
         "y": [
          3806
         ],
         "yaxis": "y4"
        },
        {
         "hovertemplate": "범죄중분류=협박<br>Year=22<br>범죄대분류=%{x}<br>서울=%{y}<extra></extra>",
         "legendgroup": "협박",
         "marker": {
          "color": "#00cc96",
          "symbol": "circle"
         },
         "mode": "markers",
         "name": "협박",
         "orientation": "v",
         "showlegend": false,
         "type": "scatter",
         "x": [
          "폭력범죄"
         ],
         "xaxis": "x5",
         "y": [
          4162
         ],
         "yaxis": "y5"
        },
        {
         "hovertemplate": "범죄중분류=협박<br>Year=23<br>범죄대분류=%{x}<br>서울=%{y}<extra></extra>",
         "legendgroup": "협박",
         "marker": {
          "color": "#00cc96",
          "symbol": "circle"
         },
         "mode": "markers",
         "name": "협박",
         "orientation": "v",
         "showlegend": false,
         "type": "scatter",
         "x": [
          "폭력범죄"
         ],
         "xaxis": "x6",
         "y": [
          4378
         ],
         "yaxis": "y6"
        },
        {
         "hovertemplate": "범죄중분류=약취유인<br>Year=18<br>범죄대분류=%{x}<br>서울=%{y}<extra></extra>",
         "legendgroup": "약취유인",
         "marker": {
          "color": "#ab63fa",
          "symbol": "circle"
         },
         "mode": "markers",
         "name": "약취유인",
         "orientation": "v",
         "showlegend": true,
         "type": "scatter",
         "x": [
          "폭력범죄"
         ],
         "xaxis": "x",
         "y": [
          48
         ],
         "yaxis": "y"
        },
        {
         "hovertemplate": "범죄중분류=약취유인<br>Year=19<br>범죄대분류=%{x}<br>서울=%{y}<extra></extra>",
         "legendgroup": "약취유인",
         "marker": {
          "color": "#ab63fa",
          "symbol": "circle"
         },
         "mode": "markers",
         "name": "약취유인",
         "orientation": "v",
         "showlegend": false,
         "type": "scatter",
         "x": [
          "폭력범죄"
         ],
         "xaxis": "x2",
         "y": [
          60
         ],
         "yaxis": "y2"
        },
        {
         "hovertemplate": "범죄중분류=약취유인<br>Year=20<br>범죄대분류=%{x}<br>서울=%{y}<extra></extra>",
         "legendgroup": "약취유인",
         "marker": {
          "color": "#ab63fa",
          "symbol": "circle"
         },
         "mode": "markers",
         "name": "약취유인",
         "orientation": "v",
         "showlegend": false,
         "type": "scatter",
         "x": [
          "폭력범죄"
         ],
         "xaxis": "x3",
         "y": [
          53
         ],
         "yaxis": "y3"
        },
        {
         "hovertemplate": "범죄중분류=약취유인<br>Year=21<br>범죄대분류=%{x}<br>서울=%{y}<extra></extra>",
         "legendgroup": "약취유인",
         "marker": {
          "color": "#ab63fa",
          "symbol": "circle"
         },
         "mode": "markers",
         "name": "약취유인",
         "orientation": "v",
         "showlegend": false,
         "type": "scatter",
         "x": [
          "폭력범죄"
         ],
         "xaxis": "x4",
         "y": [
          54
         ],
         "yaxis": "y4"
        },
        {
         "hovertemplate": "범죄중분류=약취유인<br>Year=22<br>범죄대분류=%{x}<br>서울=%{y}<extra></extra>",
         "legendgroup": "약취유인",
         "marker": {
          "color": "#ab63fa",
          "symbol": "circle"
         },
         "mode": "markers",
         "name": "약취유인",
         "orientation": "v",
         "showlegend": false,
         "type": "scatter",
         "x": [
          "폭력범죄"
         ],
         "xaxis": "x5",
         "y": [
          72
         ],
         "yaxis": "y5"
        },
        {
         "hovertemplate": "범죄중분류=폭력행위등<br>Year=18<br>범죄대분류=%{x}<br>서울=%{y}<extra></extra>",
         "legendgroup": "폭력행위등",
         "marker": {
          "color": "#FFA15A",
          "symbol": "circle"
         },
         "mode": "markers",
         "name": "폭력행위등",
         "orientation": "v",
         "showlegend": true,
         "type": "scatter",
         "x": [
          "폭력범죄"
         ],
         "xaxis": "x",
         "y": [
          1697
         ],
         "yaxis": "y"
        },
        {
         "hovertemplate": "범죄중분류=폭력행위등<br>Year=19<br>범죄대분류=%{x}<br>서울=%{y}<extra></extra>",
         "legendgroup": "폭력행위등",
         "marker": {
          "color": "#FFA15A",
          "symbol": "circle"
         },
         "mode": "markers",
         "name": "폭력행위등",
         "orientation": "v",
         "showlegend": false,
         "type": "scatter",
         "x": [
          "폭력범죄"
         ],
         "xaxis": "x2",
         "y": [
          1547
         ],
         "yaxis": "y2"
        },
        {
         "hovertemplate": "범죄중분류=폭력행위등<br>Year=20<br>범죄대분류=%{x}<br>서울=%{y}<extra></extra>",
         "legendgroup": "폭력행위등",
         "marker": {
          "color": "#FFA15A",
          "symbol": "circle"
         },
         "mode": "markers",
         "name": "폭력행위등",
         "orientation": "v",
         "showlegend": false,
         "type": "scatter",
         "x": [
          "폭력범죄"
         ],
         "xaxis": "x3",
         "y": [
          1187
         ],
         "yaxis": "y3"
        },
        {
         "hovertemplate": "범죄중분류=폭력행위등<br>Year=21<br>범죄대분류=%{x}<br>서울=%{y}<extra></extra>",
         "legendgroup": "폭력행위등",
         "marker": {
          "color": "#FFA15A",
          "symbol": "circle"
         },
         "mode": "markers",
         "name": "폭력행위등",
         "orientation": "v",
         "showlegend": false,
         "type": "scatter",
         "x": [
          "폭력범죄"
         ],
         "xaxis": "x4",
         "y": [
          932
         ],
         "yaxis": "y4"
        },
        {
         "hovertemplate": "범죄중분류=폭력행위등<br>Year=22<br>범죄대분류=%{x}<br>서울=%{y}<extra></extra>",
         "legendgroup": "폭력행위등",
         "marker": {
          "color": "#FFA15A",
          "symbol": "circle"
         },
         "mode": "markers",
         "name": "폭력행위등",
         "orientation": "v",
         "showlegend": false,
         "type": "scatter",
         "x": [
          "폭력범죄"
         ],
         "xaxis": "x5",
         "y": [
          1075
         ],
         "yaxis": "y5"
        },
        {
         "hovertemplate": "범죄중분류=폭력행위등<br>Year=23<br>범죄대분류=%{x}<br>서울=%{y}<extra></extra>",
         "legendgroup": "폭력행위등",
         "marker": {
          "color": "#FFA15A",
          "symbol": "circle"
         },
         "mode": "markers",
         "name": "폭력행위등",
         "orientation": "v",
         "showlegend": false,
         "type": "scatter",
         "x": [
          "폭력범죄"
         ],
         "xaxis": "x6",
         "y": [
          1044
         ],
         "yaxis": "y6"
        },
        {
         "hovertemplate": "범죄중분류=공갈<br>Year=18<br>범죄대분류=%{x}<br>서울=%{y}<extra></extra>",
         "legendgroup": "공갈",
         "marker": {
          "color": "#19d3f3",
          "symbol": "circle"
         },
         "mode": "markers",
         "name": "공갈",
         "orientation": "v",
         "showlegend": true,
         "type": "scatter",
         "x": [
          "폭력범죄"
         ],
         "xaxis": "x",
         "y": [
          769
         ],
         "yaxis": "y"
        },
        {
         "hovertemplate": "범죄중분류=공갈<br>Year=19<br>범죄대분류=%{x}<br>서울=%{y}<extra></extra>",
         "legendgroup": "공갈",
         "marker": {
          "color": "#19d3f3",
          "symbol": "circle"
         },
         "mode": "markers",
         "name": "공갈",
         "orientation": "v",
         "showlegend": false,
         "type": "scatter",
         "x": [
          "폭력범죄"
         ],
         "xaxis": "x2",
         "y": [
          959
         ],
         "yaxis": "y2"
        },
        {
         "hovertemplate": "범죄중분류=공갈<br>Year=20<br>범죄대분류=%{x}<br>서울=%{y}<extra></extra>",
         "legendgroup": "공갈",
         "marker": {
          "color": "#19d3f3",
          "symbol": "circle"
         },
         "mode": "markers",
         "name": "공갈",
         "orientation": "v",
         "showlegend": false,
         "type": "scatter",
         "x": [
          "폭력범죄"
         ],
         "xaxis": "x3",
         "y": [
          879
         ],
         "yaxis": "y3"
        },
        {
         "hovertemplate": "범죄중분류=공갈<br>Year=21<br>범죄대분류=%{x}<br>서울=%{y}<extra></extra>",
         "legendgroup": "공갈",
         "marker": {
          "color": "#19d3f3",
          "symbol": "circle"
         },
         "mode": "markers",
         "name": "공갈",
         "orientation": "v",
         "showlegend": false,
         "type": "scatter",
         "x": [
          "폭력범죄"
         ],
         "xaxis": "x4",
         "y": [
          881
         ],
         "yaxis": "y4"
        },
        {
         "hovertemplate": "범죄중분류=공갈<br>Year=22<br>범죄대분류=%{x}<br>서울=%{y}<extra></extra>",
         "legendgroup": "공갈",
         "marker": {
          "color": "#19d3f3",
          "symbol": "circle"
         },
         "mode": "markers",
         "name": "공갈",
         "orientation": "v",
         "showlegend": false,
         "type": "scatter",
         "x": [
          "폭력범죄"
         ],
         "xaxis": "x5",
         "y": [
          1056
         ],
         "yaxis": "y5"
        },
        {
         "hovertemplate": "범죄중분류=공갈<br>Year=23<br>범죄대분류=%{x}<br>서울=%{y}<extra></extra>",
         "legendgroup": "공갈",
         "marker": {
          "color": "#19d3f3",
          "symbol": "circle"
         },
         "mode": "markers",
         "name": "공갈",
         "orientation": "v",
         "showlegend": false,
         "type": "scatter",
         "x": [
          "폭력범죄"
         ],
         "xaxis": "x6",
         "y": [
          1222
         ],
         "yaxis": "y6"
        },
        {
         "hovertemplate": "범죄중분류=손괴<br>Year=18<br>범죄대분류=%{x}<br>서울=%{y}<extra></extra>",
         "legendgroup": "손괴",
         "marker": {
          "color": "#FF6692",
          "symbol": "circle"
         },
         "mode": "markers",
         "name": "손괴",
         "orientation": "v",
         "showlegend": true,
         "type": "scatter",
         "x": [
          "폭력범죄"
         ],
         "xaxis": "x",
         "y": [
          10845
         ],
         "yaxis": "y"
        },
        {
         "hovertemplate": "범죄중분류=손괴<br>Year=19<br>범죄대분류=%{x}<br>서울=%{y}<extra></extra>",
         "legendgroup": "손괴",
         "marker": {
          "color": "#FF6692",
          "symbol": "circle"
         },
         "mode": "markers",
         "name": "손괴",
         "orientation": "v",
         "showlegend": false,
         "type": "scatter",
         "x": [
          "폭력범죄"
         ],
         "xaxis": "x2",
         "y": [
          10636
         ],
         "yaxis": "y2"
        },
        {
         "hovertemplate": "범죄중분류=손괴<br>Year=20<br>범죄대분류=%{x}<br>서울=%{y}<extra></extra>",
         "legendgroup": "손괴",
         "marker": {
          "color": "#FF6692",
          "symbol": "circle"
         },
         "mode": "markers",
         "name": "손괴",
         "orientation": "v",
         "showlegend": false,
         "type": "scatter",
         "x": [
          "폭력범죄"
         ],
         "xaxis": "x3",
         "y": [
          10435
         ],
         "yaxis": "y3"
        },
        {
         "hovertemplate": "범죄중분류=손괴<br>Year=21<br>범죄대분류=%{x}<br>서울=%{y}<extra></extra>",
         "legendgroup": "손괴",
         "marker": {
          "color": "#FF6692",
          "symbol": "circle"
         },
         "mode": "markers",
         "name": "손괴",
         "orientation": "v",
         "showlegend": false,
         "type": "scatter",
         "x": [
          "폭력범죄"
         ],
         "xaxis": "x4",
         "y": [
          9365
         ],
         "yaxis": "y4"
        },
        {
         "hovertemplate": "범죄중분류=손괴<br>Year=22<br>범죄대분류=%{x}<br>서울=%{y}<extra></extra>",
         "legendgroup": "손괴",
         "marker": {
          "color": "#FF6692",
          "symbol": "circle"
         },
         "mode": "markers",
         "name": "손괴",
         "orientation": "v",
         "showlegend": false,
         "type": "scatter",
         "x": [
          "폭력범죄"
         ],
         "xaxis": "x5",
         "y": [
          10240
         ],
         "yaxis": "y5"
        },
        {
         "hovertemplate": "범죄중분류=손괴<br>Year=23<br>범죄대분류=%{x}<br>서울=%{y}<extra></extra>",
         "legendgroup": "손괴",
         "marker": {
          "color": "#FF6692",
          "symbol": "circle"
         },
         "mode": "markers",
         "name": "손괴",
         "orientation": "v",
         "showlegend": false,
         "type": "scatter",
         "x": [
          "폭력범죄"
         ],
         "xaxis": "x6",
         "y": [
          8895
         ],
         "yaxis": "y6"
        },
        {
         "hovertemplate": "범죄중분류=직무유기<br>Year=18<br>범죄대분류=%{x}<br>서울=%{y}<extra></extra>",
         "legendgroup": "직무유기",
         "marker": {
          "color": "#B6E880",
          "symbol": "circle"
         },
         "mode": "markers",
         "name": "직무유기",
         "orientation": "v",
         "showlegend": true,
         "type": "scatter",
         "x": [
          "지능범죄"
         ],
         "xaxis": "x",
         "y": [
          147
         ],
         "yaxis": "y"
        },
        {
         "hovertemplate": "범죄중분류=직무유기<br>Year=19<br>범죄대분류=%{x}<br>서울=%{y}<extra></extra>",
         "legendgroup": "직무유기",
         "marker": {
          "color": "#B6E880",
          "symbol": "circle"
         },
         "mode": "markers",
         "name": "직무유기",
         "orientation": "v",
         "showlegend": false,
         "type": "scatter",
         "x": [
          "지능범죄"
         ],
         "xaxis": "x2",
         "y": [
          143
         ],
         "yaxis": "y2"
        },
        {
         "hovertemplate": "범죄중분류=직무유기<br>Year=20<br>범죄대분류=%{x}<br>서울=%{y}<extra></extra>",
         "legendgroup": "직무유기",
         "marker": {
          "color": "#B6E880",
          "symbol": "circle"
         },
         "mode": "markers",
         "name": "직무유기",
         "orientation": "v",
         "showlegend": false,
         "type": "scatter",
         "x": [
          "지능범죄"
         ],
         "xaxis": "x3",
         "y": [
          166
         ],
         "yaxis": "y3"
        },
        {
         "hovertemplate": "범죄중분류=직무유기<br>Year=21<br>범죄대분류=%{x}<br>서울=%{y}<extra></extra>",
         "legendgroup": "직무유기",
         "marker": {
          "color": "#B6E880",
          "symbol": "circle"
         },
         "mode": "markers",
         "name": "직무유기",
         "orientation": "v",
         "showlegend": false,
         "type": "scatter",
         "x": [
          "지능범죄"
         ],
         "xaxis": "x4",
         "y": [
          221
         ],
         "yaxis": "y4"
        },
        {
         "hovertemplate": "범죄중분류=직무유기<br>Year=22<br>범죄대분류=%{x}<br>서울=%{y}<extra></extra>",
         "legendgroup": "직무유기",
         "marker": {
          "color": "#B6E880",
          "symbol": "circle"
         },
         "mode": "markers",
         "name": "직무유기",
         "orientation": "v",
         "showlegend": false,
         "type": "scatter",
         "x": [
          "지능범죄"
         ],
         "xaxis": "x5",
         "y": [
          353
         ],
         "yaxis": "y5"
        },
        {
         "hovertemplate": "범죄중분류=직무유기<br>Year=23<br>범죄대분류=%{x}<br>서울=%{y}<extra></extra>",
         "legendgroup": "직무유기",
         "marker": {
          "color": "#B6E880",
          "symbol": "circle"
         },
         "mode": "markers",
         "name": "직무유기",
         "orientation": "v",
         "showlegend": false,
         "type": "scatter",
         "x": [
          "지능범죄"
         ],
         "xaxis": "x6",
         "y": [
          317
         ],
         "yaxis": "y6"
        },
        {
         "hovertemplate": "범죄중분류=직권남용<br>Year=18<br>범죄대분류=%{x}<br>서울=%{y}<extra></extra>",
         "legendgroup": "직권남용",
         "marker": {
          "color": "#FF97FF",
          "symbol": "circle"
         },
         "mode": "markers",
         "name": "직권남용",
         "orientation": "v",
         "showlegend": true,
         "type": "scatter",
         "x": [
          "지능범죄"
         ],
         "xaxis": "x",
         "y": [
          191
         ],
         "yaxis": "y"
        },
        {
         "hovertemplate": "범죄중분류=직권남용<br>Year=19<br>범죄대분류=%{x}<br>서울=%{y}<extra></extra>",
         "legendgroup": "직권남용",
         "marker": {
          "color": "#FF97FF",
          "symbol": "circle"
         },
         "mode": "markers",
         "name": "직권남용",
         "orientation": "v",
         "showlegend": false,
         "type": "scatter",
         "x": [
          "지능범죄"
         ],
         "xaxis": "x2",
         "y": [
          201
         ],
         "yaxis": "y2"
        },
        {
         "hovertemplate": "범죄중분류=직권남용<br>Year=20<br>범죄대분류=%{x}<br>서울=%{y}<extra></extra>",
         "legendgroup": "직권남용",
         "marker": {
          "color": "#FF97FF",
          "symbol": "circle"
         },
         "mode": "markers",
         "name": "직권남용",
         "orientation": "v",
         "showlegend": false,
         "type": "scatter",
         "x": [
          "지능범죄"
         ],
         "xaxis": "x3",
         "y": [
          181
         ],
         "yaxis": "y3"
        },
        {
         "hovertemplate": "범죄중분류=직권남용<br>Year=21<br>범죄대분류=%{x}<br>서울=%{y}<extra></extra>",
         "legendgroup": "직권남용",
         "marker": {
          "color": "#FF97FF",
          "symbol": "circle"
         },
         "mode": "markers",
         "name": "직권남용",
         "orientation": "v",
         "showlegend": false,
         "type": "scatter",
         "x": [
          "지능범죄"
         ],
         "xaxis": "x4",
         "y": [
          238
         ],
         "yaxis": "y4"
        },
        {
         "hovertemplate": "범죄중분류=직권남용<br>Year=22<br>범죄대분류=%{x}<br>서울=%{y}<extra></extra>",
         "legendgroup": "직권남용",
         "marker": {
          "color": "#FF97FF",
          "symbol": "circle"
         },
         "mode": "markers",
         "name": "직권남용",
         "orientation": "v",
         "showlegend": false,
         "type": "scatter",
         "x": [
          "지능범죄"
         ],
         "xaxis": "x5",
         "y": [
          392
         ],
         "yaxis": "y5"
        },
        {
         "hovertemplate": "범죄중분류=직권남용<br>Year=23<br>범죄대분류=%{x}<br>서울=%{y}<extra></extra>",
         "legendgroup": "직권남용",
         "marker": {
          "color": "#FF97FF",
          "symbol": "circle"
         },
         "mode": "markers",
         "name": "직권남용",
         "orientation": "v",
         "showlegend": false,
         "type": "scatter",
         "x": [
          "지능범죄"
         ],
         "xaxis": "x6",
         "y": [
          402
         ],
         "yaxis": "y6"
        },
        {
         "hovertemplate": "범죄중분류=증수뢰<br>Year=18<br>범죄대분류=%{x}<br>서울=%{y}<extra></extra>",
         "legendgroup": "증수뢰",
         "marker": {
          "color": "#FECB52",
          "symbol": "circle"
         },
         "mode": "markers",
         "name": "증수뢰",
         "orientation": "v",
         "showlegend": true,
         "type": "scatter",
         "x": [
          "지능범죄"
         ],
         "xaxis": "x",
         "y": [
          62
         ],
         "yaxis": "y"
        },
        {
         "hovertemplate": "범죄중분류=증수뢰<br>Year=19<br>범죄대분류=%{x}<br>서울=%{y}<extra></extra>",
         "legendgroup": "증수뢰",
         "marker": {
          "color": "#FECB52",
          "symbol": "circle"
         },
         "mode": "markers",
         "name": "증수뢰",
         "orientation": "v",
         "showlegend": false,
         "type": "scatter",
         "x": [
          "지능범죄"
         ],
         "xaxis": "x2",
         "y": [
          60
         ],
         "yaxis": "y2"
        },
        {
         "hovertemplate": "범죄중분류=증수뢰<br>Year=20<br>범죄대분류=%{x}<br>서울=%{y}<extra></extra>",
         "legendgroup": "증수뢰",
         "marker": {
          "color": "#FECB52",
          "symbol": "circle"
         },
         "mode": "markers",
         "name": "증수뢰",
         "orientation": "v",
         "showlegend": false,
         "type": "scatter",
         "x": [
          "지능범죄"
         ],
         "xaxis": "x3",
         "y": [
          61
         ],
         "yaxis": "y3"
        },
        {
         "hovertemplate": "범죄중분류=증수뢰<br>Year=21<br>범죄대분류=%{x}<br>서울=%{y}<extra></extra>",
         "legendgroup": "증수뢰",
         "marker": {
          "color": "#FECB52",
          "symbol": "circle"
         },
         "mode": "markers",
         "name": "증수뢰",
         "orientation": "v",
         "showlegend": false,
         "type": "scatter",
         "x": [
          "지능범죄"
         ],
         "xaxis": "x4",
         "y": [
          50
         ],
         "yaxis": "y4"
        },
        {
         "hovertemplate": "범죄중분류=증수뢰<br>Year=22<br>범죄대분류=%{x}<br>서울=%{y}<extra></extra>",
         "legendgroup": "증수뢰",
         "marker": {
          "color": "#FECB52",
          "symbol": "circle"
         },
         "mode": "markers",
         "name": "증수뢰",
         "orientation": "v",
         "showlegend": false,
         "type": "scatter",
         "x": [
          "지능범죄"
         ],
         "xaxis": "x5",
         "y": [
          71
         ],
         "yaxis": "y5"
        },
        {
         "hovertemplate": "범죄중분류=증수뢰<br>Year=23<br>범죄대분류=%{x}<br>서울=%{y}<extra></extra>",
         "legendgroup": "증수뢰",
         "marker": {
          "color": "#FECB52",
          "symbol": "circle"
         },
         "mode": "markers",
         "name": "증수뢰",
         "orientation": "v",
         "showlegend": false,
         "type": "scatter",
         "x": [
          "지능범죄"
         ],
         "xaxis": "x6",
         "y": [
          50
         ],
         "yaxis": "y6"
        },
        {
         "hovertemplate": "범죄중분류=통화<br>Year=18<br>범죄대분류=%{x}<br>서울=%{y}<extra></extra>",
         "legendgroup": "통화",
         "marker": {
          "color": "#636efa",
          "symbol": "circle"
         },
         "mode": "markers",
         "name": "통화",
         "orientation": "v",
         "showlegend": true,
         "type": "scatter",
         "x": [
          "지능범죄"
         ],
         "xaxis": "x",
         "y": [
          450
         ],
         "yaxis": "y"
        },
        {
         "hovertemplate": "범죄중분류=통화<br>Year=19<br>범죄대분류=%{x}<br>서울=%{y}<extra></extra>",
         "legendgroup": "통화",
         "marker": {
          "color": "#636efa",
          "symbol": "circle"
         },
         "mode": "markers",
         "name": "통화",
         "orientation": "v",
         "showlegend": false,
         "type": "scatter",
         "x": [
          "지능범죄"
         ],
         "xaxis": "x2",
         "y": [
          418
         ],
         "yaxis": "y2"
        },
        {
         "hovertemplate": "범죄중분류=통화<br>Year=20<br>범죄대분류=%{x}<br>서울=%{y}<extra></extra>",
         "legendgroup": "통화",
         "marker": {
          "color": "#636efa",
          "symbol": "circle"
         },
         "mode": "markers",
         "name": "통화",
         "orientation": "v",
         "showlegend": false,
         "type": "scatter",
         "x": [
          "지능범죄"
         ],
         "xaxis": "x3",
         "y": [
          206
         ],
         "yaxis": "y3"
        },
        {
         "hovertemplate": "범죄중분류=통화<br>Year=21<br>범죄대분류=%{x}<br>서울=%{y}<extra></extra>",
         "legendgroup": "통화",
         "marker": {
          "color": "#636efa",
          "symbol": "circle"
         },
         "mode": "markers",
         "name": "통화",
         "orientation": "v",
         "showlegend": false,
         "type": "scatter",
         "x": [
          "지능범죄"
         ],
         "xaxis": "x4",
         "y": [
          125
         ],
         "yaxis": "y4"
        },
        {
         "hovertemplate": "범죄중분류=통화<br>Year=22<br>범죄대분류=%{x}<br>서울=%{y}<extra></extra>",
         "legendgroup": "통화",
         "marker": {
          "color": "#636efa",
          "symbol": "circle"
         },
         "mode": "markers",
         "name": "통화",
         "orientation": "v",
         "showlegend": false,
         "type": "scatter",
         "x": [
          "지능범죄"
         ],
         "xaxis": "x5",
         "y": [
          172
         ],
         "yaxis": "y5"
        },
        {
         "hovertemplate": "범죄중분류=통화<br>Year=23<br>범죄대분류=%{x}<br>서울=%{y}<extra></extra>",
         "legendgroup": "통화",
         "marker": {
          "color": "#636efa",
          "symbol": "circle"
         },
         "mode": "markers",
         "name": "통화",
         "orientation": "v",
         "showlegend": false,
         "type": "scatter",
         "x": [
          "지능범죄"
         ],
         "xaxis": "x6",
         "y": [
          192
         ],
         "yaxis": "y6"
        },
        {
         "hovertemplate": "범죄중분류=문서인장<br>Year=18<br>범죄대분류=%{x}<br>서울=%{y}<extra></extra>",
         "legendgroup": "문서인장",
         "marker": {
          "color": "#EF553B",
          "symbol": "circle"
         },
         "mode": "markers",
         "name": "문서인장",
         "orientation": "v",
         "showlegend": true,
         "type": "scatter",
         "x": [
          "지능범죄"
         ],
         "xaxis": "x",
         "y": [
          2520
         ],
         "yaxis": "y"
        },
        {
         "hovertemplate": "범죄중분류=문서인장<br>Year=19<br>범죄대분류=%{x}<br>서울=%{y}<extra></extra>",
         "legendgroup": "문서인장",
         "marker": {
          "color": "#EF553B",
          "symbol": "circle"
         },
         "mode": "markers",
         "name": "문서인장",
         "orientation": "v",
         "showlegend": false,
         "type": "scatter",
         "x": [
          "지능범죄"
         ],
         "xaxis": "x2",
         "y": [
          2415
         ],
         "yaxis": "y2"
        },
        {
         "hovertemplate": "범죄중분류=문서인장<br>Year=20<br>범죄대분류=%{x}<br>서울=%{y}<extra></extra>",
         "legendgroup": "문서인장",
         "marker": {
          "color": "#EF553B",
          "symbol": "circle"
         },
         "mode": "markers",
         "name": "문서인장",
         "orientation": "v",
         "showlegend": false,
         "type": "scatter",
         "x": [
          "지능범죄"
         ],
         "xaxis": "x3",
         "y": [
          2360
         ],
         "yaxis": "y3"
        },
        {
         "hovertemplate": "범죄중분류=문서인장<br>Year=21<br>범죄대분류=%{x}<br>서울=%{y}<extra></extra>",
         "legendgroup": "문서인장",
         "marker": {
          "color": "#EF553B",
          "symbol": "circle"
         },
         "mode": "markers",
         "name": "문서인장",
         "orientation": "v",
         "showlegend": false,
         "type": "scatter",
         "x": [
          "지능범죄"
         ],
         "xaxis": "x4",
         "y": [
          1925
         ],
         "yaxis": "y4"
        },
        {
         "hovertemplate": "범죄중분류=문서인장<br>Year=22<br>범죄대분류=%{x}<br>서울=%{y}<extra></extra>",
         "legendgroup": "문서인장",
         "marker": {
          "color": "#EF553B",
          "symbol": "circle"
         },
         "mode": "markers",
         "name": "문서인장",
         "orientation": "v",
         "showlegend": false,
         "type": "scatter",
         "x": [
          "지능범죄"
         ],
         "xaxis": "x5",
         "y": [
          2033
         ],
         "yaxis": "y5"
        },
        {
         "hovertemplate": "범죄중분류=유가증권인지<br>Year=18<br>범죄대분류=%{x}<br>서울=%{y}<extra></extra>",
         "legendgroup": "유가증권인지",
         "marker": {
          "color": "#00cc96",
          "symbol": "circle"
         },
         "mode": "markers",
         "name": "유가증권인지",
         "orientation": "v",
         "showlegend": true,
         "type": "scatter",
         "x": [
          "지능범죄"
         ],
         "xaxis": "x",
         "y": [
          61
         ],
         "yaxis": "y"
        },
        {
         "hovertemplate": "범죄중분류=유가증권인지<br>Year=19<br>범죄대분류=%{x}<br>서울=%{y}<extra></extra>",
         "legendgroup": "유가증권인지",
         "marker": {
          "color": "#00cc96",
          "symbol": "circle"
         },
         "mode": "markers",
         "name": "유가증권인지",
         "orientation": "v",
         "showlegend": false,
         "type": "scatter",
         "x": [
          "지능범죄"
         ],
         "xaxis": "x2",
         "y": [
          56
         ],
         "yaxis": "y2"
        },
        {
         "hovertemplate": "범죄중분류=유가증권인지<br>Year=20<br>범죄대분류=%{x}<br>서울=%{y}<extra></extra>",
         "legendgroup": "유가증권인지",
         "marker": {
          "color": "#00cc96",
          "symbol": "circle"
         },
         "mode": "markers",
         "name": "유가증권인지",
         "orientation": "v",
         "showlegend": false,
         "type": "scatter",
         "x": [
          "지능범죄"
         ],
         "xaxis": "x3",
         "y": [
          34
         ],
         "yaxis": "y3"
        },
        {
         "hovertemplate": "범죄중분류=유가증권인지<br>Year=21<br>범죄대분류=%{x}<br>서울=%{y}<extra></extra>",
         "legendgroup": "유가증권인지",
         "marker": {
          "color": "#00cc96",
          "symbol": "circle"
         },
         "mode": "markers",
         "name": "유가증권인지",
         "orientation": "v",
         "showlegend": false,
         "type": "scatter",
         "x": [
          "지능범죄"
         ],
         "xaxis": "x4",
         "y": [
          26
         ],
         "yaxis": "y4"
        },
        {
         "hovertemplate": "범죄중분류=유가증권인지<br>Year=22<br>범죄대분류=%{x}<br>서울=%{y}<extra></extra>",
         "legendgroup": "유가증권인지",
         "marker": {
          "color": "#00cc96",
          "symbol": "circle"
         },
         "mode": "markers",
         "name": "유가증권인지",
         "orientation": "v",
         "showlegend": false,
         "type": "scatter",
         "x": [
          "지능범죄"
         ],
         "xaxis": "x5",
         "y": [
          25
         ],
         "yaxis": "y5"
        },
        {
         "hovertemplate": "범죄중분류=유가증권인지<br>Year=23<br>범죄대분류=%{x}<br>서울=%{y}<extra></extra>",
         "legendgroup": "유가증권인지",
         "marker": {
          "color": "#00cc96",
          "symbol": "circle"
         },
         "mode": "markers",
         "name": "유가증권인지",
         "orientation": "v",
         "showlegend": false,
         "type": "scatter",
         "x": [
          "지능범죄"
         ],
         "xaxis": "x6",
         "y": [
          19
         ],
         "yaxis": "y6"
        },
        {
         "hovertemplate": "범죄중분류=사기<br>Year=18<br>범죄대분류=%{x}<br>서울=%{y}<extra></extra>",
         "legendgroup": "사기",
         "marker": {
          "color": "#ab63fa",
          "symbol": "circle"
         },
         "mode": "markers",
         "name": "사기",
         "orientation": "v",
         "showlegend": true,
         "type": "scatter",
         "x": [
          "지능범죄"
         ],
         "xaxis": "x",
         "y": [
          54270
         ],
         "yaxis": "y"
        },
        {
         "hovertemplate": "범죄중분류=사기<br>Year=19<br>범죄대분류=%{x}<br>서울=%{y}<extra></extra>",
         "legendgroup": "사기",
         "marker": {
          "color": "#ab63fa",
          "symbol": "circle"
         },
         "mode": "markers",
         "name": "사기",
         "orientation": "v",
         "showlegend": false,
         "type": "scatter",
         "x": [
          "지능범죄"
         ],
         "xaxis": "x2",
         "y": [
          57563
         ],
         "yaxis": "y2"
        },
        {
         "hovertemplate": "범죄중분류=사기<br>Year=20<br>범죄대분류=%{x}<br>서울=%{y}<extra></extra>",
         "legendgroup": "사기",
         "marker": {
          "color": "#ab63fa",
          "symbol": "circle"
         },
         "mode": "markers",
         "name": "사기",
         "orientation": "v",
         "showlegend": false,
         "type": "scatter",
         "x": [
          "지능범죄"
         ],
         "xaxis": "x3",
         "y": [
          62317
         ],
         "yaxis": "y3"
        },
        {
         "hovertemplate": "범죄중분류=사기<br>Year=21<br>범죄대분류=%{x}<br>서울=%{y}<extra></extra>",
         "legendgroup": "사기",
         "marker": {
          "color": "#ab63fa",
          "symbol": "circle"
         },
         "mode": "markers",
         "name": "사기",
         "orientation": "v",
         "showlegend": false,
         "type": "scatter",
         "x": [
          "지능범죄"
         ],
         "xaxis": "x4",
         "y": [
          48352
         ],
         "yaxis": "y4"
        },
        {
         "hovertemplate": "범죄중분류=사기<br>Year=22<br>범죄대분류=%{x}<br>서울=%{y}<extra></extra>",
         "legendgroup": "사기",
         "marker": {
          "color": "#ab63fa",
          "symbol": "circle"
         },
         "mode": "markers",
         "name": "사기",
         "orientation": "v",
         "showlegend": false,
         "type": "scatter",
         "x": [
          "지능범죄"
         ],
         "xaxis": "x5",
         "y": [
          52034
         ],
         "yaxis": "y5"
        },
        {
         "hovertemplate": "범죄중분류=사기<br>Year=23<br>범죄대분류=%{x}<br>서울=%{y}<extra></extra>",
         "legendgroup": "사기",
         "marker": {
          "color": "#ab63fa",
          "symbol": "circle"
         },
         "mode": "markers",
         "name": "사기",
         "orientation": "v",
         "showlegend": false,
         "type": "scatter",
         "x": [
          "지능범죄"
         ],
         "xaxis": "x6",
         "y": [
          62243
         ],
         "yaxis": "y6"
        },
        {
         "hovertemplate": "범죄중분류=횡령<br>Year=18<br>범죄대분류=%{x}<br>서울=%{y}<extra></extra>",
         "legendgroup": "횡령",
         "marker": {
          "color": "#FFA15A",
          "symbol": "circle"
         },
         "mode": "markers",
         "name": "횡령",
         "orientation": "v",
         "showlegend": true,
         "type": "scatter",
         "x": [
          "지능범죄"
         ],
         "xaxis": "x",
         "y": [
          15958
         ],
         "yaxis": "y"
        },
        {
         "hovertemplate": "범죄중분류=횡령<br>Year=19<br>범죄대분류=%{x}<br>서울=%{y}<extra></extra>",
         "legendgroup": "횡령",
         "marker": {
          "color": "#FFA15A",
          "symbol": "circle"
         },
         "mode": "markers",
         "name": "횡령",
         "orientation": "v",
         "showlegend": false,
         "type": "scatter",
         "x": [
          "지능범죄"
         ],
         "xaxis": "x2",
         "y": [
          16963
         ],
         "yaxis": "y2"
        },
        {
         "hovertemplate": "범죄중분류=횡령<br>Year=20<br>범죄대분류=%{x}<br>서울=%{y}<extra></extra>",
         "legendgroup": "횡령",
         "marker": {
          "color": "#FFA15A",
          "symbol": "circle"
         },
         "mode": "markers",
         "name": "횡령",
         "orientation": "v",
         "showlegend": false,
         "type": "scatter",
         "x": [
          "지능범죄"
         ],
         "xaxis": "x3",
         "y": [
          16186
         ],
         "yaxis": "y3"
        },
        {
         "hovertemplate": "범죄중분류=횡령<br>Year=21<br>범죄대분류=%{x}<br>서울=%{y}<extra></extra>",
         "legendgroup": "횡령",
         "marker": {
          "color": "#FFA15A",
          "symbol": "circle"
         },
         "mode": "markers",
         "name": "횡령",
         "orientation": "v",
         "showlegend": false,
         "type": "scatter",
         "x": [
          "지능범죄"
         ],
         "xaxis": "x4",
         "y": [
          13188
         ],
         "yaxis": "y4"
        },
        {
         "hovertemplate": "범죄중분류=횡령<br>Year=22<br>범죄대분류=%{x}<br>서울=%{y}<extra></extra>",
         "legendgroup": "횡령",
         "marker": {
          "color": "#FFA15A",
          "symbol": "circle"
         },
         "mode": "markers",
         "name": "횡령",
         "orientation": "v",
         "showlegend": false,
         "type": "scatter",
         "x": [
          "지능범죄"
         ],
         "xaxis": "x5",
         "y": [
          16368
         ],
         "yaxis": "y5"
        },
        {
         "hovertemplate": "범죄중분류=횡령<br>Year=23<br>범죄대분류=%{x}<br>서울=%{y}<extra></extra>",
         "legendgroup": "횡령",
         "marker": {
          "color": "#FFA15A",
          "symbol": "circle"
         },
         "mode": "markers",
         "name": "횡령",
         "orientation": "v",
         "showlegend": false,
         "type": "scatter",
         "x": [
          "지능범죄"
         ],
         "xaxis": "x6",
         "y": [
          17570
         ],
         "yaxis": "y6"
        },
        {
         "hovertemplate": "범죄중분류=배임<br>Year=18<br>범죄대분류=%{x}<br>서울=%{y}<extra></extra>",
         "legendgroup": "배임",
         "marker": {
          "color": "#19d3f3",
          "symbol": "circle"
         },
         "mode": "markers",
         "name": "배임",
         "orientation": "v",
         "showlegend": true,
         "type": "scatter",
         "x": [
          "지능범죄"
         ],
         "xaxis": "x",
         "y": [
          1009
         ],
         "yaxis": "y"
        },
        {
         "hovertemplate": "범죄중분류=배임<br>Year=19<br>범죄대분류=%{x}<br>서울=%{y}<extra></extra>",
         "legendgroup": "배임",
         "marker": {
          "color": "#19d3f3",
          "symbol": "circle"
         },
         "mode": "markers",
         "name": "배임",
         "orientation": "v",
         "showlegend": false,
         "type": "scatter",
         "x": [
          "지능범죄"
         ],
         "xaxis": "x2",
         "y": [
          1038
         ],
         "yaxis": "y2"
        },
        {
         "hovertemplate": "범죄중분류=배임<br>Year=20<br>범죄대분류=%{x}<br>서울=%{y}<extra></extra>",
         "legendgroup": "배임",
         "marker": {
          "color": "#19d3f3",
          "symbol": "circle"
         },
         "mode": "markers",
         "name": "배임",
         "orientation": "v",
         "showlegend": false,
         "type": "scatter",
         "x": [
          "지능범죄"
         ],
         "xaxis": "x3",
         "y": [
          932
         ],
         "yaxis": "y3"
        },
        {
         "hovertemplate": "범죄중분류=배임<br>Year=21<br>범죄대분류=%{x}<br>서울=%{y}<extra></extra>",
         "legendgroup": "배임",
         "marker": {
          "color": "#19d3f3",
          "symbol": "circle"
         },
         "mode": "markers",
         "name": "배임",
         "orientation": "v",
         "showlegend": false,
         "type": "scatter",
         "x": [
          "지능범죄"
         ],
         "xaxis": "x4",
         "y": [
          713
         ],
         "yaxis": "y4"
        },
        {
         "hovertemplate": "범죄중분류=배임<br>Year=22<br>범죄대분류=%{x}<br>서울=%{y}<extra></extra>",
         "legendgroup": "배임",
         "marker": {
          "color": "#19d3f3",
          "symbol": "circle"
         },
         "mode": "markers",
         "name": "배임",
         "orientation": "v",
         "showlegend": false,
         "type": "scatter",
         "x": [
          "지능범죄"
         ],
         "xaxis": "x5",
         "y": [
          791
         ],
         "yaxis": "y5"
        },
        {
         "hovertemplate": "범죄중분류=배임<br>Year=23<br>범죄대분류=%{x}<br>서울=%{y}<extra></extra>",
         "legendgroup": "배임",
         "marker": {
          "color": "#19d3f3",
          "symbol": "circle"
         },
         "mode": "markers",
         "name": "배임",
         "orientation": "v",
         "showlegend": false,
         "type": "scatter",
         "x": [
          "지능범죄"
         ],
         "xaxis": "x6",
         "y": [
          821
         ],
         "yaxis": "y6"
        },
        {
         "hovertemplate": "범죄중분류=성풍속범죄<br>Year=18<br>범죄대분류=%{x}<br>서울=%{y}<extra></extra>",
         "legendgroup": "성풍속범죄",
         "marker": {
          "color": "#FF6692",
          "symbol": "circle"
         },
         "mode": "markers",
         "name": "성풍속범죄",
         "orientation": "v",
         "showlegend": true,
         "type": "scatter",
         "x": [
          "풍속범죄"
         ],
         "xaxis": "x",
         "y": [
          3902
         ],
         "yaxis": "y"
        },
        {
         "hovertemplate": "범죄중분류=성풍속범죄<br>Year=19<br>범죄대분류=%{x}<br>서울=%{y}<extra></extra>",
         "legendgroup": "성풍속범죄",
         "marker": {
          "color": "#FF6692",
          "symbol": "circle"
         },
         "mode": "markers",
         "name": "성풍속범죄",
         "orientation": "v",
         "showlegend": false,
         "type": "scatter",
         "x": [
          "풍속범죄"
         ],
         "xaxis": "x2",
         "y": [
          3834
         ],
         "yaxis": "y2"
        },
        {
         "hovertemplate": "범죄중분류=성풍속범죄<br>Year=20<br>범죄대분류=%{x}<br>서울=%{y}<extra></extra>",
         "legendgroup": "성풍속범죄",
         "marker": {
          "color": "#FF6692",
          "symbol": "circle"
         },
         "mode": "markers",
         "name": "성풍속범죄",
         "orientation": "v",
         "showlegend": false,
         "type": "scatter",
         "x": [
          "풍속범죄"
         ],
         "xaxis": "x3",
         "y": [
          3564
         ],
         "yaxis": "y3"
        },
        {
         "hovertemplate": "범죄중분류=성풍속범죄<br>Year=21<br>범죄대분류=%{x}<br>서울=%{y}<extra></extra>",
         "legendgroup": "성풍속범죄",
         "marker": {
          "color": "#FF6692",
          "symbol": "circle"
         },
         "mode": "markers",
         "name": "성풍속범죄",
         "orientation": "v",
         "showlegend": false,
         "type": "scatter",
         "x": [
          "풍속범죄"
         ],
         "xaxis": "x4",
         "y": [
          4180
         ],
         "yaxis": "y4"
        },
        {
         "hovertemplate": "범죄중분류=성풍속범죄<br>Year=22<br>범죄대분류=%{x}<br>서울=%{y}<extra></extra>",
         "legendgroup": "성풍속범죄",
         "marker": {
          "color": "#FF6692",
          "symbol": "circle"
         },
         "mode": "markers",
         "name": "성풍속범죄",
         "orientation": "v",
         "showlegend": false,
         "type": "scatter",
         "x": [
          "풍속범죄"
         ],
         "xaxis": "x5",
         "y": [
          4924
         ],
         "yaxis": "y5"
        },
        {
         "hovertemplate": "범죄중분류=성풍속범죄<br>Year=23<br>범죄대분류=%{x}<br>서울=%{y}<extra></extra>",
         "legendgroup": "성풍속범죄",
         "marker": {
          "color": "#FF6692",
          "symbol": "circle"
         },
         "mode": "markers",
         "name": "성풍속범죄",
         "orientation": "v",
         "showlegend": false,
         "type": "scatter",
         "x": [
          "풍속범죄"
         ],
         "xaxis": "x6",
         "y": [
          4406
         ],
         "yaxis": "y6"
        },
        {
         "hovertemplate": "범죄중분류=도박범죄<br>Year=18<br>범죄대분류=%{x}<br>서울=%{y}<extra></extra>",
         "legendgroup": "도박범죄",
         "marker": {
          "color": "#B6E880",
          "symbol": "circle"
         },
         "mode": "markers",
         "name": "도박범죄",
         "orientation": "v",
         "showlegend": true,
         "type": "scatter",
         "x": [
          "풍속범죄"
         ],
         "xaxis": "x",
         "y": [
          809
         ],
         "yaxis": "y"
        },
        {
         "hovertemplate": "범죄중분류=도박범죄<br>Year=19<br>범죄대분류=%{x}<br>서울=%{y}<extra></extra>",
         "legendgroup": "도박범죄",
         "marker": {
          "color": "#B6E880",
          "symbol": "circle"
         },
         "mode": "markers",
         "name": "도박범죄",
         "orientation": "v",
         "showlegend": false,
         "type": "scatter",
         "x": [
          "풍속범죄"
         ],
         "xaxis": "x2",
         "y": [
          1059
         ],
         "yaxis": "y2"
        },
        {
         "hovertemplate": "범죄중분류=도박범죄<br>Year=20<br>범죄대분류=%{x}<br>서울=%{y}<extra></extra>",
         "legendgroup": "도박범죄",
         "marker": {
          "color": "#B6E880",
          "symbol": "circle"
         },
         "mode": "markers",
         "name": "도박범죄",
         "orientation": "v",
         "showlegend": false,
         "type": "scatter",
         "x": [
          "풍속범죄"
         ],
         "xaxis": "x3",
         "y": [
          1241
         ],
         "yaxis": "y3"
        },
        {
         "hovertemplate": "범죄중분류=도박범죄<br>Year=21<br>범죄대분류=%{x}<br>서울=%{y}<extra></extra>",
         "legendgroup": "도박범죄",
         "marker": {
          "color": "#B6E880",
          "symbol": "circle"
         },
         "mode": "markers",
         "name": "도박범죄",
         "orientation": "v",
         "showlegend": false,
         "type": "scatter",
         "x": [
          "풍속범죄"
         ],
         "xaxis": "x4",
         "y": [
          885
         ],
         "yaxis": "y4"
        },
        {
         "hovertemplate": "범죄중분류=도박범죄<br>Year=22<br>범죄대분류=%{x}<br>서울=%{y}<extra></extra>",
         "legendgroup": "도박범죄",
         "marker": {
          "color": "#B6E880",
          "symbol": "circle"
         },
         "mode": "markers",
         "name": "도박범죄",
         "orientation": "v",
         "showlegend": false,
         "type": "scatter",
         "x": [
          "풍속범죄"
         ],
         "xaxis": "x5",
         "y": [
          545
         ],
         "yaxis": "y5"
        },
        {
         "hovertemplate": "범죄중분류=도박범죄<br>Year=23<br>범죄대분류=%{x}<br>서울=%{y}<extra></extra>",
         "legendgroup": "도박범죄",
         "marker": {
          "color": "#B6E880",
          "symbol": "circle"
         },
         "mode": "markers",
         "name": "도박범죄",
         "orientation": "v",
         "showlegend": false,
         "type": "scatter",
         "x": [
          "풍속범죄"
         ],
         "xaxis": "x6",
         "y": [
          664
         ],
         "yaxis": "y6"
        },
        {
         "hovertemplate": "범죄중분류=특별경제범죄<br>Year=18<br>범죄대분류=%{x}<br>서울=%{y}<extra></extra>",
         "legendgroup": "특별경제범죄",
         "marker": {
          "color": "#FF97FF",
          "symbol": "circle"
         },
         "mode": "markers",
         "name": "특별경제범죄",
         "orientation": "v",
         "showlegend": true,
         "type": "scatter",
         "x": [
          "특별경제범죄"
         ],
         "xaxis": "x",
         "y": [
          13821
         ],
         "yaxis": "y"
        },
        {
         "hovertemplate": "범죄중분류=특별경제범죄<br>Year=19<br>범죄대분류=%{x}<br>서울=%{y}<extra></extra>",
         "legendgroup": "특별경제범죄",
         "marker": {
          "color": "#FF97FF",
          "symbol": "circle"
         },
         "mode": "markers",
         "name": "특별경제범죄",
         "orientation": "v",
         "showlegend": false,
         "type": "scatter",
         "x": [
          "특별경제범죄"
         ],
         "xaxis": "x2",
         "y": [
          12823
         ],
         "yaxis": "y2"
        },
        {
         "hovertemplate": "범죄중분류=특별경제범죄<br>Year=20<br>범죄대분류=%{x}<br>서울=%{y}<extra></extra>",
         "legendgroup": "특별경제범죄",
         "marker": {
          "color": "#FF97FF",
          "symbol": "circle"
         },
         "mode": "markers",
         "name": "특별경제범죄",
         "orientation": "v",
         "showlegend": false,
         "type": "scatter",
         "x": [
          "특별경제범죄"
         ],
         "xaxis": "x3",
         "y": [
          11539
         ],
         "yaxis": "y3"
        },
        {
         "hovertemplate": "범죄중분류=특별경제범죄<br>Year=21<br>범죄대분류=%{x}<br>서울=%{y}<extra></extra>",
         "legendgroup": "특별경제범죄",
         "marker": {
          "color": "#FF97FF",
          "symbol": "circle"
         },
         "mode": "markers",
         "name": "특별경제범죄",
         "orientation": "v",
         "showlegend": false,
         "type": "scatter",
         "x": [
          "특별경제범죄"
         ],
         "xaxis": "x4",
         "y": [
          8877
         ],
         "yaxis": "y4"
        },
        {
         "hovertemplate": "범죄중분류=특별경제범죄<br>Year=22<br>범죄대분류=%{x}<br>서울=%{y}<extra></extra>",
         "legendgroup": "특별경제범죄",
         "marker": {
          "color": "#FF97FF",
          "symbol": "circle"
         },
         "mode": "markers",
         "name": "특별경제범죄",
         "orientation": "v",
         "showlegend": false,
         "type": "scatter",
         "x": [
          "특별경제범죄"
         ],
         "xaxis": "x5",
         "y": [
          10374
         ],
         "yaxis": "y5"
        },
        {
         "hovertemplate": "범죄중분류=특별경제범죄<br>Year=23<br>범죄대분류=%{x}<br>서울=%{y}<extra></extra>",
         "legendgroup": "특별경제범죄",
         "marker": {
          "color": "#FF97FF",
          "symbol": "circle"
         },
         "mode": "markers",
         "name": "특별경제범죄",
         "orientation": "v",
         "showlegend": false,
         "type": "scatter",
         "x": [
          "특별경제범죄"
         ],
         "xaxis": "x6",
         "y": [
          13181
         ],
         "yaxis": "y6"
        },
        {
         "hovertemplate": "범죄중분류=마약범죄<br>Year=18<br>범죄대분류=%{x}<br>서울=%{y}<extra></extra>",
         "legendgroup": "마약범죄",
         "marker": {
          "color": "#FECB52",
          "symbol": "circle"
         },
         "mode": "markers",
         "name": "마약범죄",
         "orientation": "v",
         "showlegend": true,
         "type": "scatter",
         "x": [
          "마약범죄"
         ],
         "xaxis": "x",
         "y": [
          1544
         ],
         "yaxis": "y"
        },
        {
         "hovertemplate": "범죄중분류=마약범죄<br>Year=19<br>범죄대분류=%{x}<br>서울=%{y}<extra></extra>",
         "legendgroup": "마약범죄",
         "marker": {
          "color": "#FECB52",
          "symbol": "circle"
         },
         "mode": "markers",
         "name": "마약범죄",
         "orientation": "v",
         "showlegend": false,
         "type": "scatter",
         "x": [
          "마약범죄"
         ],
         "xaxis": "x2",
         "y": [
          1884
         ],
         "yaxis": "y2"
        },
        {
         "hovertemplate": "범죄중분류=마약범죄<br>Year=20<br>범죄대분류=%{x}<br>서울=%{y}<extra></extra>",
         "legendgroup": "마약범죄",
         "marker": {
          "color": "#FECB52",
          "symbol": "circle"
         },
         "mode": "markers",
         "name": "마약범죄",
         "orientation": "v",
         "showlegend": false,
         "type": "scatter",
         "x": [
          "마약범죄"
         ],
         "xaxis": "x3",
         "y": [
          2154
         ],
         "yaxis": "y3"
        },
        {
         "hovertemplate": "범죄중분류=마약범죄<br>Year=21<br>범죄대분류=%{x}<br>서울=%{y}<extra></extra>",
         "legendgroup": "마약범죄",
         "marker": {
          "color": "#FECB52",
          "symbol": "circle"
         },
         "mode": "markers",
         "name": "마약범죄",
         "orientation": "v",
         "showlegend": false,
         "type": "scatter",
         "x": [
          "마약범죄"
         ],
         "xaxis": "x4",
         "y": [
          2275
         ],
         "yaxis": "y4"
        },
        {
         "hovertemplate": "범죄중분류=마약범죄<br>Year=22<br>범죄대분류=%{x}<br>서울=%{y}<extra></extra>",
         "legendgroup": "마약범죄",
         "marker": {
          "color": "#FECB52",
          "symbol": "circle"
         },
         "mode": "markers",
         "name": "마약범죄",
         "orientation": "v",
         "showlegend": false,
         "type": "scatter",
         "x": [
          "마약범죄"
         ],
         "xaxis": "x5",
         "y": [
          2821
         ],
         "yaxis": "y5"
        },
        {
         "hovertemplate": "범죄중분류=마약범죄<br>Year=23<br>범죄대분류=%{x}<br>서울=%{y}<extra></extra>",
         "legendgroup": "마약범죄",
         "marker": {
          "color": "#FECB52",
          "symbol": "circle"
         },
         "mode": "markers",
         "name": "마약범죄",
         "orientation": "v",
         "showlegend": false,
         "type": "scatter",
         "x": [
          "마약범죄"
         ],
         "xaxis": "x6",
         "y": [
          3722
         ],
         "yaxis": "y6"
        },
        {
         "hovertemplate": "범죄중분류=보건범죄<br>Year=18<br>범죄대분류=%{x}<br>서울=%{y}<extra></extra>",
         "legendgroup": "보건범죄",
         "marker": {
          "color": "#636efa",
          "symbol": "circle"
         },
         "mode": "markers",
         "name": "보건범죄",
         "orientation": "v",
         "showlegend": true,
         "type": "scatter",
         "x": [
          "보건범죄"
         ],
         "xaxis": "x",
         "y": [
          2886
         ],
         "yaxis": "y"
        },
        {
         "hovertemplate": "범죄중분류=보건범죄<br>Year=19<br>범죄대분류=%{x}<br>서울=%{y}<extra></extra>",
         "legendgroup": "보건범죄",
         "marker": {
          "color": "#636efa",
          "symbol": "circle"
         },
         "mode": "markers",
         "name": "보건범죄",
         "orientation": "v",
         "showlegend": false,
         "type": "scatter",
         "x": [
          "보건범죄"
         ],
         "xaxis": "x2",
         "y": [
          3424
         ],
         "yaxis": "y2"
        },
        {
         "hovertemplate": "범죄중분류=보건범죄<br>Year=20<br>범죄대분류=%{x}<br>서울=%{y}<extra></extra>",
         "legendgroup": "보건범죄",
         "marker": {
          "color": "#636efa",
          "symbol": "circle"
         },
         "mode": "markers",
         "name": "보건범죄",
         "orientation": "v",
         "showlegend": false,
         "type": "scatter",
         "x": [
          "보건범죄"
         ],
         "xaxis": "x3",
         "y": [
          3937
         ],
         "yaxis": "y3"
        },
        {
         "hovertemplate": "범죄중분류=보건범죄<br>Year=21<br>범죄대분류=%{x}<br>서울=%{y}<extra></extra>",
         "legendgroup": "보건범죄",
         "marker": {
          "color": "#636efa",
          "symbol": "circle"
         },
         "mode": "markers",
         "name": "보건범죄",
         "orientation": "v",
         "showlegend": false,
         "type": "scatter",
         "x": [
          "보건범죄"
         ],
         "xaxis": "x4",
         "y": [
          4573
         ],
         "yaxis": "y4"
        },
        {
         "hovertemplate": "범죄중분류=보건범죄<br>Year=22<br>범죄대분류=%{x}<br>서울=%{y}<extra></extra>",
         "legendgroup": "보건범죄",
         "marker": {
          "color": "#636efa",
          "symbol": "circle"
         },
         "mode": "markers",
         "name": "보건범죄",
         "orientation": "v",
         "showlegend": false,
         "type": "scatter",
         "x": [
          "보건범죄"
         ],
         "xaxis": "x5",
         "y": [
          4260
         ],
         "yaxis": "y5"
        },
        {
         "hovertemplate": "범죄중분류=보건범죄<br>Year=23<br>범죄대분류=%{x}<br>서울=%{y}<extra></extra>",
         "legendgroup": "보건범죄",
         "marker": {
          "color": "#636efa",
          "symbol": "circle"
         },
         "mode": "markers",
         "name": "보건범죄",
         "orientation": "v",
         "showlegend": false,
         "type": "scatter",
         "x": [
          "보건범죄"
         ],
         "xaxis": "x6",
         "y": [
          2850
         ],
         "yaxis": "y6"
        },
        {
         "hovertemplate": "범죄중분류=환경범죄<br>Year=18<br>범죄대분류=%{x}<br>서울=%{y}<extra></extra>",
         "legendgroup": "환경범죄",
         "marker": {
          "color": "#EF553B",
          "symbol": "circle"
         },
         "mode": "markers",
         "name": "환경범죄",
         "orientation": "v",
         "showlegend": true,
         "type": "scatter",
         "x": [
          "환경범죄"
         ],
         "xaxis": "x",
         "y": [
          65
         ],
         "yaxis": "y"
        },
        {
         "hovertemplate": "범죄중분류=환경범죄<br>Year=19<br>범죄대분류=%{x}<br>서울=%{y}<extra></extra>",
         "legendgroup": "환경범죄",
         "marker": {
          "color": "#EF553B",
          "symbol": "circle"
         },
         "mode": "markers",
         "name": "환경범죄",
         "orientation": "v",
         "showlegend": false,
         "type": "scatter",
         "x": [
          "환경범죄"
         ],
         "xaxis": "x2",
         "y": [
          89
         ],
         "yaxis": "y2"
        },
        {
         "hovertemplate": "범죄중분류=환경범죄<br>Year=20<br>범죄대분류=%{x}<br>서울=%{y}<extra></extra>",
         "legendgroup": "환경범죄",
         "marker": {
          "color": "#EF553B",
          "symbol": "circle"
         },
         "mode": "markers",
         "name": "환경범죄",
         "orientation": "v",
         "showlegend": false,
         "type": "scatter",
         "x": [
          "환경범죄"
         ],
         "xaxis": "x3",
         "y": [
          39
         ],
         "yaxis": "y3"
        },
        {
         "hovertemplate": "범죄중분류=환경범죄<br>Year=21<br>범죄대분류=%{x}<br>서울=%{y}<extra></extra>",
         "legendgroup": "환경범죄",
         "marker": {
          "color": "#EF553B",
          "symbol": "circle"
         },
         "mode": "markers",
         "name": "환경범죄",
         "orientation": "v",
         "showlegend": false,
         "type": "scatter",
         "x": [
          "환경범죄"
         ],
         "xaxis": "x4",
         "y": [
          30
         ],
         "yaxis": "y4"
        },
        {
         "hovertemplate": "범죄중분류=환경범죄<br>Year=22<br>범죄대분류=%{x}<br>서울=%{y}<extra></extra>",
         "legendgroup": "환경범죄",
         "marker": {
          "color": "#EF553B",
          "symbol": "circle"
         },
         "mode": "markers",
         "name": "환경범죄",
         "orientation": "v",
         "showlegend": false,
         "type": "scatter",
         "x": [
          "환경범죄"
         ],
         "xaxis": "x5",
         "y": [
          50
         ],
         "yaxis": "y5"
        },
        {
         "hovertemplate": "범죄중분류=환경범죄<br>Year=23<br>범죄대분류=%{x}<br>서울=%{y}<extra></extra>",
         "legendgroup": "환경범죄",
         "marker": {
          "color": "#EF553B",
          "symbol": "circle"
         },
         "mode": "markers",
         "name": "환경범죄",
         "orientation": "v",
         "showlegend": false,
         "type": "scatter",
         "x": [
          "환경범죄"
         ],
         "xaxis": "x6",
         "y": [
          46
         ],
         "yaxis": "y6"
        },
        {
         "hovertemplate": "범죄중분류=교통범죄<br>Year=18<br>범죄대분류=%{x}<br>서울=%{y}<extra></extra>",
         "legendgroup": "교통범죄",
         "marker": {
          "color": "#00cc96",
          "symbol": "circle"
         },
         "mode": "markers",
         "name": "교통범죄",
         "orientation": "v",
         "showlegend": true,
         "type": "scatter",
         "x": [
          "교통범죄"
         ],
         "xaxis": "x",
         "y": [
          61132
         ],
         "yaxis": "y"
        },
        {
         "hovertemplate": "범죄중분류=교통범죄<br>Year=19<br>범죄대분류=%{x}<br>서울=%{y}<extra></extra>",
         "legendgroup": "교통범죄",
         "marker": {
          "color": "#00cc96",
          "symbol": "circle"
         },
         "mode": "markers",
         "name": "교통범죄",
         "orientation": "v",
         "showlegend": false,
         "type": "scatter",
         "x": [
          "교통범죄"
         ],
         "xaxis": "x2",
         "y": [
          55273
         ],
         "yaxis": "y2"
        },
        {
         "hovertemplate": "범죄중분류=교통범죄<br>Year=20<br>범죄대분류=%{x}<br>서울=%{y}<extra></extra>",
         "legendgroup": "교통범죄",
         "marker": {
          "color": "#00cc96",
          "symbol": "circle"
         },
         "mode": "markers",
         "name": "교통범죄",
         "orientation": "v",
         "showlegend": false,
         "type": "scatter",
         "x": [
          "교통범죄"
         ],
         "xaxis": "x3",
         "y": [
          50895
         ],
         "yaxis": "y3"
        },
        {
         "hovertemplate": "범죄중분류=교통범죄<br>Year=21<br>범죄대분류=%{x}<br>서울=%{y}<extra></extra>",
         "legendgroup": "교통범죄",
         "marker": {
          "color": "#00cc96",
          "symbol": "circle"
         },
         "mode": "markers",
         "name": "교통범죄",
         "orientation": "v",
         "showlegend": false,
         "type": "scatter",
         "x": [
          "교통범죄"
         ],
         "xaxis": "x4",
         "y": [
          43206
         ],
         "yaxis": "y4"
        },
        {
         "hovertemplate": "범죄중분류=교통범죄<br>Year=22<br>범죄대분류=%{x}<br>서울=%{y}<extra></extra>",
         "legendgroup": "교통범죄",
         "marker": {
          "color": "#00cc96",
          "symbol": "circle"
         },
         "mode": "markers",
         "name": "교통범죄",
         "orientation": "v",
         "showlegend": false,
         "type": "scatter",
         "x": [
          "교통범죄"
         ],
         "xaxis": "x5",
         "y": [
          32013
         ],
         "yaxis": "y5"
        },
        {
         "hovertemplate": "범죄중분류=교통범죄<br>Year=23<br>범죄대분류=%{x}<br>서울=%{y}<extra></extra>",
         "legendgroup": "교통범죄",
         "marker": {
          "color": "#00cc96",
          "symbol": "circle"
         },
         "mode": "markers",
         "name": "교통범죄",
         "orientation": "v",
         "showlegend": false,
         "type": "scatter",
         "x": [
          "교통범죄"
         ],
         "xaxis": "x6",
         "y": [
          30036
         ],
         "yaxis": "y6"
        },
        {
         "hovertemplate": "범죄중분류=노동범죄<br>Year=18<br>범죄대분류=%{x}<br>서울=%{y}<extra></extra>",
         "legendgroup": "노동범죄",
         "marker": {
          "color": "#ab63fa",
          "symbol": "circle"
         },
         "mode": "markers",
         "name": "노동범죄",
         "orientation": "v",
         "showlegend": true,
         "type": "scatter",
         "x": [
          "노동범죄"
         ],
         "xaxis": "x",
         "y": [
          183
         ],
         "yaxis": "y"
        },
        {
         "hovertemplate": "범죄중분류=노동범죄<br>Year=19<br>범죄대분류=%{x}<br>서울=%{y}<extra></extra>",
         "legendgroup": "노동범죄",
         "marker": {
          "color": "#ab63fa",
          "symbol": "circle"
         },
         "mode": "markers",
         "name": "노동범죄",
         "orientation": "v",
         "showlegend": false,
         "type": "scatter",
         "x": [
          "노동범죄"
         ],
         "xaxis": "x2",
         "y": [
          96
         ],
         "yaxis": "y2"
        },
        {
         "hovertemplate": "범죄중분류=노동범죄<br>Year=20<br>범죄대분류=%{x}<br>서울=%{y}<extra></extra>",
         "legendgroup": "노동범죄",
         "marker": {
          "color": "#ab63fa",
          "symbol": "circle"
         },
         "mode": "markers",
         "name": "노동범죄",
         "orientation": "v",
         "showlegend": false,
         "type": "scatter",
         "x": [
          "노동범죄"
         ],
         "xaxis": "x3",
         "y": [
          55
         ],
         "yaxis": "y3"
        },
        {
         "hovertemplate": "범죄중분류=노동범죄<br>Year=21<br>범죄대분류=%{x}<br>서울=%{y}<extra></extra>",
         "legendgroup": "노동범죄",
         "marker": {
          "color": "#ab63fa",
          "symbol": "circle"
         },
         "mode": "markers",
         "name": "노동범죄",
         "orientation": "v",
         "showlegend": false,
         "type": "scatter",
         "x": [
          "노동범죄"
         ],
         "xaxis": "x4",
         "y": [
          78
         ],
         "yaxis": "y4"
        },
        {
         "hovertemplate": "범죄중분류=노동범죄<br>Year=22<br>범죄대분류=%{x}<br>서울=%{y}<extra></extra>",
         "legendgroup": "노동범죄",
         "marker": {
          "color": "#ab63fa",
          "symbol": "circle"
         },
         "mode": "markers",
         "name": "노동범죄",
         "orientation": "v",
         "showlegend": false,
         "type": "scatter",
         "x": [
          "노동범죄"
         ],
         "xaxis": "x5",
         "y": [
          83
         ],
         "yaxis": "y5"
        },
        {
         "hovertemplate": "범죄중분류=노동범죄<br>Year=23<br>범죄대분류=%{x}<br>서울=%{y}<extra></extra>",
         "legendgroup": "노동범죄",
         "marker": {
          "color": "#ab63fa",
          "symbol": "circle"
         },
         "mode": "markers",
         "name": "노동범죄",
         "orientation": "v",
         "showlegend": false,
         "type": "scatter",
         "x": [
          "노동범죄"
         ],
         "xaxis": "x6",
         "y": [
          68
         ],
         "yaxis": "y6"
        },
        {
         "hovertemplate": "범죄중분류=안보범죄<br>Year=18<br>범죄대분류=%{x}<br>서울=%{y}<extra></extra>",
         "legendgroup": "안보범죄",
         "marker": {
          "color": "#FFA15A",
          "symbol": "circle"
         },
         "mode": "markers",
         "name": "안보범죄",
         "orientation": "v",
         "showlegend": true,
         "type": "scatter",
         "x": [
          "안보범죄"
         ],
         "xaxis": "x",
         "y": [
          29
         ],
         "yaxis": "y"
        },
        {
         "hovertemplate": "범죄중분류=안보범죄<br>Year=19<br>범죄대분류=%{x}<br>서울=%{y}<extra></extra>",
         "legendgroup": "안보범죄",
         "marker": {
          "color": "#FFA15A",
          "symbol": "circle"
         },
         "mode": "markers",
         "name": "안보범죄",
         "orientation": "v",
         "showlegend": false,
         "type": "scatter",
         "x": [
          "안보범죄"
         ],
         "xaxis": "x2",
         "y": [
          102
         ],
         "yaxis": "y2"
        },
        {
         "hovertemplate": "범죄중분류=안보범죄<br>Year=20<br>범죄대분류=%{x}<br>서울=%{y}<extra></extra>",
         "legendgroup": "안보범죄",
         "marker": {
          "color": "#FFA15A",
          "symbol": "circle"
         },
         "mode": "markers",
         "name": "안보범죄",
         "orientation": "v",
         "showlegend": false,
         "type": "scatter",
         "x": [
          "안보범죄"
         ],
         "xaxis": "x3",
         "y": [
          124
         ],
         "yaxis": "y3"
        },
        {
         "hovertemplate": "범죄중분류=안보범죄<br>Year=21<br>범죄대분류=%{x}<br>서울=%{y}<extra></extra>",
         "legendgroup": "안보범죄",
         "marker": {
          "color": "#FFA15A",
          "symbol": "circle"
         },
         "mode": "markers",
         "name": "안보범죄",
         "orientation": "v",
         "showlegend": false,
         "type": "scatter",
         "x": [
          "안보범죄"
         ],
         "xaxis": "x4",
         "y": [
          98
         ],
         "yaxis": "y4"
        },
        {
         "hovertemplate": "범죄중분류=안보범죄<br>Year=22<br>범죄대분류=%{x}<br>서울=%{y}<extra></extra>",
         "legendgroup": "안보범죄",
         "marker": {
          "color": "#FFA15A",
          "symbol": "circle"
         },
         "mode": "markers",
         "name": "안보범죄",
         "orientation": "v",
         "showlegend": false,
         "type": "scatter",
         "x": [
          "안보범죄"
         ],
         "xaxis": "x5",
         "y": [
          61
         ],
         "yaxis": "y5"
        },
        {
         "hovertemplate": "범죄중분류=안보범죄<br>Year=23<br>범죄대분류=%{x}<br>서울=%{y}<extra></extra>",
         "legendgroup": "안보범죄",
         "marker": {
          "color": "#FFA15A",
          "symbol": "circle"
         },
         "mode": "markers",
         "name": "안보범죄",
         "orientation": "v",
         "showlegend": false,
         "type": "scatter",
         "x": [
          "안보범죄"
         ],
         "xaxis": "x6",
         "y": [
          104
         ],
         "yaxis": "y6"
        },
        {
         "hovertemplate": "범죄중분류=선거범죄<br>Year=18<br>범죄대분류=%{x}<br>서울=%{y}<extra></extra>",
         "legendgroup": "선거범죄",
         "marker": {
          "color": "#19d3f3",
          "symbol": "circle"
         },
         "mode": "markers",
         "name": "선거범죄",
         "orientation": "v",
         "showlegend": true,
         "type": "scatter",
         "x": [
          "선거범죄"
         ],
         "xaxis": "x",
         "y": [
          213
         ],
         "yaxis": "y"
        },
        {
         "hovertemplate": "범죄중분류=선거범죄<br>Year=19<br>범죄대분류=%{x}<br>서울=%{y}<extra></extra>",
         "legendgroup": "선거범죄",
         "marker": {
          "color": "#19d3f3",
          "symbol": "circle"
         },
         "mode": "markers",
         "name": "선거범죄",
         "orientation": "v",
         "showlegend": false,
         "type": "scatter",
         "x": [
          "선거범죄"
         ],
         "xaxis": "x2",
         "y": [
          27
         ],
         "yaxis": "y2"
        },
        {
         "hovertemplate": "범죄중분류=선거범죄<br>Year=20<br>범죄대분류=%{x}<br>서울=%{y}<extra></extra>",
         "legendgroup": "선거범죄",
         "marker": {
          "color": "#19d3f3",
          "symbol": "circle"
         },
         "mode": "markers",
         "name": "선거범죄",
         "orientation": "v",
         "showlegend": false,
         "type": "scatter",
         "x": [
          "선거범죄"
         ],
         "xaxis": "x3",
         "y": [
          201
         ],
         "yaxis": "y3"
        },
        {
         "hovertemplate": "범죄중분류=선거범죄<br>Year=21<br>범죄대분류=%{x}<br>서울=%{y}<extra></extra>",
         "legendgroup": "선거범죄",
         "marker": {
          "color": "#19d3f3",
          "symbol": "circle"
         },
         "mode": "markers",
         "name": "선거범죄",
         "orientation": "v",
         "showlegend": false,
         "type": "scatter",
         "x": [
          "선거범죄"
         ],
         "xaxis": "x4",
         "y": [
          129
         ],
         "yaxis": "y4"
        },
        {
         "hovertemplate": "범죄중분류=선거범죄<br>Year=22<br>범죄대분류=%{x}<br>서울=%{y}<extra></extra>",
         "legendgroup": "선거범죄",
         "marker": {
          "color": "#19d3f3",
          "symbol": "circle"
         },
         "mode": "markers",
         "name": "선거범죄",
         "orientation": "v",
         "showlegend": false,
         "type": "scatter",
         "x": [
          "선거범죄"
         ],
         "xaxis": "x5",
         "y": [
          552
         ],
         "yaxis": "y5"
        },
        {
         "hovertemplate": "범죄중분류=선거범죄<br>Year=23<br>범죄대분류=%{x}<br>서울=%{y}<extra></extra>",
         "legendgroup": "선거범죄",
         "marker": {
          "color": "#19d3f3",
          "symbol": "circle"
         },
         "mode": "markers",
         "name": "선거범죄",
         "orientation": "v",
         "showlegend": false,
         "type": "scatter",
         "x": [
          "선거범죄"
         ],
         "xaxis": "x6",
         "y": [
          55
         ],
         "yaxis": "y6"
        },
        {
         "hovertemplate": "범죄중분류=병역범죄<br>Year=18<br>범죄대분류=%{x}<br>서울=%{y}<extra></extra>",
         "legendgroup": "병역범죄",
         "marker": {
          "color": "#FF6692",
          "symbol": "circle"
         },
         "mode": "markers",
         "name": "병역범죄",
         "orientation": "v",
         "showlegend": true,
         "type": "scatter",
         "x": [
          "병역범죄"
         ],
         "xaxis": "x",
         "y": [
          3383
         ],
         "yaxis": "y"
        },
        {
         "hovertemplate": "범죄중분류=병역범죄<br>Year=19<br>범죄대분류=%{x}<br>서울=%{y}<extra></extra>",
         "legendgroup": "병역범죄",
         "marker": {
          "color": "#FF6692",
          "symbol": "circle"
         },
         "mode": "markers",
         "name": "병역범죄",
         "orientation": "v",
         "showlegend": false,
         "type": "scatter",
         "x": [
          "병역범죄"
         ],
         "xaxis": "x2",
         "y": [
          2986
         ],
         "yaxis": "y2"
        },
        {
         "hovertemplate": "범죄중분류=병역범죄<br>Year=20<br>범죄대분류=%{x}<br>서울=%{y}<extra></extra>",
         "legendgroup": "병역범죄",
         "marker": {
          "color": "#FF6692",
          "symbol": "circle"
         },
         "mode": "markers",
         "name": "병역범죄",
         "orientation": "v",
         "showlegend": false,
         "type": "scatter",
         "x": [
          "병역범죄"
         ],
         "xaxis": "x3",
         "y": [
          748
         ],
         "yaxis": "y3"
        },
        {
         "hovertemplate": "범죄중분류=병역범죄<br>Year=21<br>범죄대분류=%{x}<br>서울=%{y}<extra></extra>",
         "legendgroup": "병역범죄",
         "marker": {
          "color": "#FF6692",
          "symbol": "circle"
         },
         "mode": "markers",
         "name": "병역범죄",
         "orientation": "v",
         "showlegend": false,
         "type": "scatter",
         "x": [
          "병역범죄"
         ],
         "xaxis": "x4",
         "y": [
          308
         ],
         "yaxis": "y4"
        },
        {
         "hovertemplate": "범죄중분류=병역범죄<br>Year=22<br>범죄대분류=%{x}<br>서울=%{y}<extra></extra>",
         "legendgroup": "병역범죄",
         "marker": {
          "color": "#FF6692",
          "symbol": "circle"
         },
         "mode": "markers",
         "name": "병역범죄",
         "orientation": "v",
         "showlegend": false,
         "type": "scatter",
         "x": [
          "병역범죄"
         ],
         "xaxis": "x5",
         "y": [
          935
         ],
         "yaxis": "y5"
        },
        {
         "hovertemplate": "범죄중분류=병역범죄<br>Year=23<br>범죄대분류=%{x}<br>서울=%{y}<extra></extra>",
         "legendgroup": "병역범죄",
         "marker": {
          "color": "#FF6692",
          "symbol": "circle"
         },
         "mode": "markers",
         "name": "병역범죄",
         "orientation": "v",
         "showlegend": false,
         "type": "scatter",
         "x": [
          "병역범죄"
         ],
         "xaxis": "x6",
         "y": [
          1514
         ],
         "yaxis": "y6"
        },
        {
         "hovertemplate": "범죄중분류=기타범죄<br>Year=18<br>범죄대분류=%{x}<br>서울=%{y}<extra></extra>",
         "legendgroup": "기타범죄",
         "marker": {
          "color": "#B6E880",
          "symbol": "circle"
         },
         "mode": "markers",
         "name": "기타범죄",
         "orientation": "v",
         "showlegend": true,
         "type": "scatter",
         "x": [
          "기타범죄"
         ],
         "xaxis": "x",
         "y": [
          41780
         ],
         "yaxis": "y"
        },
        {
         "hovertemplate": "범죄중분류=기타범죄<br>Year=19<br>범죄대분류=%{x}<br>서울=%{y}<extra></extra>",
         "legendgroup": "기타범죄",
         "marker": {
          "color": "#B6E880",
          "symbol": "circle"
         },
         "mode": "markers",
         "name": "기타범죄",
         "orientation": "v",
         "showlegend": false,
         "type": "scatter",
         "x": [
          "기타범죄"
         ],
         "xaxis": "x2",
         "y": [
          41566
         ],
         "yaxis": "y2"
        },
        {
         "hovertemplate": "범죄중분류=기타범죄<br>Year=20<br>범죄대분류=%{x}<br>서울=%{y}<extra></extra>",
         "legendgroup": "기타범죄",
         "marker": {
          "color": "#B6E880",
          "symbol": "circle"
         },
         "mode": "markers",
         "name": "기타범죄",
         "orientation": "v",
         "showlegend": false,
         "type": "scatter",
         "x": [
          "기타범죄"
         ],
         "xaxis": "x3",
         "y": [
          41026
         ],
         "yaxis": "y3"
        },
        {
         "hovertemplate": "범죄중분류=기타범죄<br>Year=21<br>범죄대분류=%{x}<br>서울=%{y}<extra></extra>",
         "legendgroup": "기타범죄",
         "marker": {
          "color": "#B6E880",
          "symbol": "circle"
         },
         "mode": "markers",
         "name": "기타범죄",
         "orientation": "v",
         "showlegend": false,
         "type": "scatter",
         "x": [
          "기타범죄"
         ],
         "xaxis": "x4",
         "y": [
          42198
         ],
         "yaxis": "y4"
        },
        {
         "hovertemplate": "범죄중분류=기타범죄<br>Year=22<br>범죄대분류=%{x}<br>서울=%{y}<extra></extra>",
         "legendgroup": "기타범죄",
         "marker": {
          "color": "#B6E880",
          "symbol": "circle"
         },
         "mode": "markers",
         "name": "기타범죄",
         "orientation": "v",
         "showlegend": false,
         "type": "scatter",
         "x": [
          "기타범죄"
         ],
         "xaxis": "x5",
         "y": [
          48367
         ],
         "yaxis": "y5"
        },
        {
         "hovertemplate": "범죄중분류=기타범죄<br>Year=23<br>범죄대분류=%{x}<br>서울=%{y}<extra></extra>",
         "legendgroup": "기타범죄",
         "marker": {
          "color": "#B6E880",
          "symbol": "circle"
         },
         "mode": "markers",
         "name": "기타범죄",
         "orientation": "v",
         "showlegend": false,
         "type": "scatter",
         "x": [
          "기타범죄"
         ],
         "xaxis": "x6",
         "y": [
          49158
         ],
         "yaxis": "y6"
        },
        {
         "hovertemplate": "범죄중분류=기타 강간 강제추행등<br>Year=23<br>범죄대분류=%{x}<br>서울=%{y}<extra></extra>",
         "legendgroup": "기타 강간 강제추행등",
         "marker": {
          "color": "#FECB52",
          "symbol": "circle"
         },
         "mode": "markers",
         "name": "기타 강간 강제추행등",
         "orientation": "v",
         "showlegend": true,
         "type": "scatter",
         "x": [
          "강력범죄"
         ],
         "xaxis": "x6",
         "y": [
          20
         ],
         "yaxis": "y6"
        },
        {
         "hovertemplate": "범죄중분류=약취 유인<br>Year=23<br>범죄대분류=%{x}<br>서울=%{y}<extra></extra>",
         "legendgroup": "약취 유인",
         "marker": {
          "color": "#636efa",
          "symbol": "circle"
         },
         "mode": "markers",
         "name": "약취 유인",
         "orientation": "v",
         "showlegend": true,
         "type": "scatter",
         "x": [
          "폭력범죄"
         ],
         "xaxis": "x6",
         "y": [
          67
         ],
         "yaxis": "y6"
        },
        {
         "hovertemplate": "범죄중분류=문서 인장<br>Year=23<br>범죄대분류=%{x}<br>서울=%{y}<extra></extra>",
         "legendgroup": "문서 인장",
         "marker": {
          "color": "#EF553B",
          "symbol": "circle"
         },
         "mode": "markers",
         "name": "문서 인장",
         "orientation": "v",
         "showlegend": true,
         "type": "scatter",
         "x": [
          "지능범죄"
         ],
         "xaxis": "x6",
         "y": [
          2207
         ],
         "yaxis": "y6"
        }
       ],
       "layout": {
        "annotations": [
         {
          "font": {},
          "showarrow": false,
          "text": "Year=18",
          "x": 0.075,
          "xanchor": "center",
          "xref": "paper",
          "y": 1,
          "yanchor": "bottom",
          "yref": "paper"
         },
         {
          "font": {},
          "showarrow": false,
          "text": "Year=19",
          "x": 0.24499999999999997,
          "xanchor": "center",
          "xref": "paper",
          "y": 1,
          "yanchor": "bottom",
          "yref": "paper"
         },
         {
          "font": {},
          "showarrow": false,
          "text": "Year=20",
          "x": 0.415,
          "xanchor": "center",
          "xref": "paper",
          "y": 1,
          "yanchor": "bottom",
          "yref": "paper"
         },
         {
          "font": {},
          "showarrow": false,
          "text": "Year=21",
          "x": 0.585,
          "xanchor": "center",
          "xref": "paper",
          "y": 1,
          "yanchor": "bottom",
          "yref": "paper"
         },
         {
          "font": {},
          "showarrow": false,
          "text": "Year=22",
          "x": 0.7549999999999999,
          "xanchor": "center",
          "xref": "paper",
          "y": 1,
          "yanchor": "bottom",
          "yref": "paper"
         },
         {
          "font": {},
          "showarrow": false,
          "text": "Year=23",
          "x": 0.925,
          "xanchor": "center",
          "xref": "paper",
          "y": 1,
          "yanchor": "bottom",
          "yref": "paper"
         }
        ],
        "height": 600,
        "legend": {
         "title": {
          "text": "범죄중분류"
         },
         "tracegroupgap": 0
        },
        "margin": {
         "t": 60
        },
        "template": {
         "data": {
          "bar": [
           {
            "error_x": {
             "color": "#2a3f5f"
            },
            "error_y": {
             "color": "#2a3f5f"
            },
            "marker": {
             "line": {
              "color": "#E5ECF6",
              "width": 0.5
             },
             "pattern": {
              "fillmode": "overlay",
              "size": 10,
              "solidity": 0.2
             }
            },
            "type": "bar"
           }
          ],
          "barpolar": [
           {
            "marker": {
             "line": {
              "color": "#E5ECF6",
              "width": 0.5
             },
             "pattern": {
              "fillmode": "overlay",
              "size": 10,
              "solidity": 0.2
             }
            },
            "type": "barpolar"
           }
          ],
          "carpet": [
           {
            "aaxis": {
             "endlinecolor": "#2a3f5f",
             "gridcolor": "white",
             "linecolor": "white",
             "minorgridcolor": "white",
             "startlinecolor": "#2a3f5f"
            },
            "baxis": {
             "endlinecolor": "#2a3f5f",
             "gridcolor": "white",
             "linecolor": "white",
             "minorgridcolor": "white",
             "startlinecolor": "#2a3f5f"
            },
            "type": "carpet"
           }
          ],
          "choropleth": [
           {
            "colorbar": {
             "outlinewidth": 0,
             "ticks": ""
            },
            "type": "choropleth"
           }
          ],
          "contour": [
           {
            "colorbar": {
             "outlinewidth": 0,
             "ticks": ""
            },
            "colorscale": [
             [
              0,
              "#0d0887"
             ],
             [
              0.1111111111111111,
              "#46039f"
             ],
             [
              0.2222222222222222,
              "#7201a8"
             ],
             [
              0.3333333333333333,
              "#9c179e"
             ],
             [
              0.4444444444444444,
              "#bd3786"
             ],
             [
              0.5555555555555556,
              "#d8576b"
             ],
             [
              0.6666666666666666,
              "#ed7953"
             ],
             [
              0.7777777777777778,
              "#fb9f3a"
             ],
             [
              0.8888888888888888,
              "#fdca26"
             ],
             [
              1,
              "#f0f921"
             ]
            ],
            "type": "contour"
           }
          ],
          "contourcarpet": [
           {
            "colorbar": {
             "outlinewidth": 0,
             "ticks": ""
            },
            "type": "contourcarpet"
           }
          ],
          "heatmap": [
           {
            "colorbar": {
             "outlinewidth": 0,
             "ticks": ""
            },
            "colorscale": [
             [
              0,
              "#0d0887"
             ],
             [
              0.1111111111111111,
              "#46039f"
             ],
             [
              0.2222222222222222,
              "#7201a8"
             ],
             [
              0.3333333333333333,
              "#9c179e"
             ],
             [
              0.4444444444444444,
              "#bd3786"
             ],
             [
              0.5555555555555556,
              "#d8576b"
             ],
             [
              0.6666666666666666,
              "#ed7953"
             ],
             [
              0.7777777777777778,
              "#fb9f3a"
             ],
             [
              0.8888888888888888,
              "#fdca26"
             ],
             [
              1,
              "#f0f921"
             ]
            ],
            "type": "heatmap"
           }
          ],
          "heatmapgl": [
           {
            "colorbar": {
             "outlinewidth": 0,
             "ticks": ""
            },
            "colorscale": [
             [
              0,
              "#0d0887"
             ],
             [
              0.1111111111111111,
              "#46039f"
             ],
             [
              0.2222222222222222,
              "#7201a8"
             ],
             [
              0.3333333333333333,
              "#9c179e"
             ],
             [
              0.4444444444444444,
              "#bd3786"
             ],
             [
              0.5555555555555556,
              "#d8576b"
             ],
             [
              0.6666666666666666,
              "#ed7953"
             ],
             [
              0.7777777777777778,
              "#fb9f3a"
             ],
             [
              0.8888888888888888,
              "#fdca26"
             ],
             [
              1,
              "#f0f921"
             ]
            ],
            "type": "heatmapgl"
           }
          ],
          "histogram": [
           {
            "marker": {
             "pattern": {
              "fillmode": "overlay",
              "size": 10,
              "solidity": 0.2
             }
            },
            "type": "histogram"
           }
          ],
          "histogram2d": [
           {
            "colorbar": {
             "outlinewidth": 0,
             "ticks": ""
            },
            "colorscale": [
             [
              0,
              "#0d0887"
             ],
             [
              0.1111111111111111,
              "#46039f"
             ],
             [
              0.2222222222222222,
              "#7201a8"
             ],
             [
              0.3333333333333333,
              "#9c179e"
             ],
             [
              0.4444444444444444,
              "#bd3786"
             ],
             [
              0.5555555555555556,
              "#d8576b"
             ],
             [
              0.6666666666666666,
              "#ed7953"
             ],
             [
              0.7777777777777778,
              "#fb9f3a"
             ],
             [
              0.8888888888888888,
              "#fdca26"
             ],
             [
              1,
              "#f0f921"
             ]
            ],
            "type": "histogram2d"
           }
          ],
          "histogram2dcontour": [
           {
            "colorbar": {
             "outlinewidth": 0,
             "ticks": ""
            },
            "colorscale": [
             [
              0,
              "#0d0887"
             ],
             [
              0.1111111111111111,
              "#46039f"
             ],
             [
              0.2222222222222222,
              "#7201a8"
             ],
             [
              0.3333333333333333,
              "#9c179e"
             ],
             [
              0.4444444444444444,
              "#bd3786"
             ],
             [
              0.5555555555555556,
              "#d8576b"
             ],
             [
              0.6666666666666666,
              "#ed7953"
             ],
             [
              0.7777777777777778,
              "#fb9f3a"
             ],
             [
              0.8888888888888888,
              "#fdca26"
             ],
             [
              1,
              "#f0f921"
             ]
            ],
            "type": "histogram2dcontour"
           }
          ],
          "mesh3d": [
           {
            "colorbar": {
             "outlinewidth": 0,
             "ticks": ""
            },
            "type": "mesh3d"
           }
          ],
          "parcoords": [
           {
            "line": {
             "colorbar": {
              "outlinewidth": 0,
              "ticks": ""
             }
            },
            "type": "parcoords"
           }
          ],
          "pie": [
           {
            "automargin": true,
            "type": "pie"
           }
          ],
          "scatter": [
           {
            "fillpattern": {
             "fillmode": "overlay",
             "size": 10,
             "solidity": 0.2
            },
            "type": "scatter"
           }
          ],
          "scatter3d": [
           {
            "line": {
             "colorbar": {
              "outlinewidth": 0,
              "ticks": ""
             }
            },
            "marker": {
             "colorbar": {
              "outlinewidth": 0,
              "ticks": ""
             }
            },
            "type": "scatter3d"
           }
          ],
          "scattercarpet": [
           {
            "marker": {
             "colorbar": {
              "outlinewidth": 0,
              "ticks": ""
             }
            },
            "type": "scattercarpet"
           }
          ],
          "scattergeo": [
           {
            "marker": {
             "colorbar": {
              "outlinewidth": 0,
              "ticks": ""
             }
            },
            "type": "scattergeo"
           }
          ],
          "scattergl": [
           {
            "marker": {
             "colorbar": {
              "outlinewidth": 0,
              "ticks": ""
             }
            },
            "type": "scattergl"
           }
          ],
          "scattermapbox": [
           {
            "marker": {
             "colorbar": {
              "outlinewidth": 0,
              "ticks": ""
             }
            },
            "type": "scattermapbox"
           }
          ],
          "scatterpolar": [
           {
            "marker": {
             "colorbar": {
              "outlinewidth": 0,
              "ticks": ""
             }
            },
            "type": "scatterpolar"
           }
          ],
          "scatterpolargl": [
           {
            "marker": {
             "colorbar": {
              "outlinewidth": 0,
              "ticks": ""
             }
            },
            "type": "scatterpolargl"
           }
          ],
          "scatterternary": [
           {
            "marker": {
             "colorbar": {
              "outlinewidth": 0,
              "ticks": ""
             }
            },
            "type": "scatterternary"
           }
          ],
          "surface": [
           {
            "colorbar": {
             "outlinewidth": 0,
             "ticks": ""
            },
            "colorscale": [
             [
              0,
              "#0d0887"
             ],
             [
              0.1111111111111111,
              "#46039f"
             ],
             [
              0.2222222222222222,
              "#7201a8"
             ],
             [
              0.3333333333333333,
              "#9c179e"
             ],
             [
              0.4444444444444444,
              "#bd3786"
             ],
             [
              0.5555555555555556,
              "#d8576b"
             ],
             [
              0.6666666666666666,
              "#ed7953"
             ],
             [
              0.7777777777777778,
              "#fb9f3a"
             ],
             [
              0.8888888888888888,
              "#fdca26"
             ],
             [
              1,
              "#f0f921"
             ]
            ],
            "type": "surface"
           }
          ],
          "table": [
           {
            "cells": {
             "fill": {
              "color": "#EBF0F8"
             },
             "line": {
              "color": "white"
             }
            },
            "header": {
             "fill": {
              "color": "#C8D4E3"
             },
             "line": {
              "color": "white"
             }
            },
            "type": "table"
           }
          ]
         },
         "layout": {
          "annotationdefaults": {
           "arrowcolor": "#2a3f5f",
           "arrowhead": 0,
           "arrowwidth": 1
          },
          "autotypenumbers": "strict",
          "coloraxis": {
           "colorbar": {
            "outlinewidth": 0,
            "ticks": ""
           }
          },
          "colorscale": {
           "diverging": [
            [
             0,
             "#8e0152"
            ],
            [
             0.1,
             "#c51b7d"
            ],
            [
             0.2,
             "#de77ae"
            ],
            [
             0.3,
             "#f1b6da"
            ],
            [
             0.4,
             "#fde0ef"
            ],
            [
             0.5,
             "#f7f7f7"
            ],
            [
             0.6,
             "#e6f5d0"
            ],
            [
             0.7,
             "#b8e186"
            ],
            [
             0.8,
             "#7fbc41"
            ],
            [
             0.9,
             "#4d9221"
            ],
            [
             1,
             "#276419"
            ]
           ],
           "sequential": [
            [
             0,
             "#0d0887"
            ],
            [
             0.1111111111111111,
             "#46039f"
            ],
            [
             0.2222222222222222,
             "#7201a8"
            ],
            [
             0.3333333333333333,
             "#9c179e"
            ],
            [
             0.4444444444444444,
             "#bd3786"
            ],
            [
             0.5555555555555556,
             "#d8576b"
            ],
            [
             0.6666666666666666,
             "#ed7953"
            ],
            [
             0.7777777777777778,
             "#fb9f3a"
            ],
            [
             0.8888888888888888,
             "#fdca26"
            ],
            [
             1,
             "#f0f921"
            ]
           ],
           "sequentialminus": [
            [
             0,
             "#0d0887"
            ],
            [
             0.1111111111111111,
             "#46039f"
            ],
            [
             0.2222222222222222,
             "#7201a8"
            ],
            [
             0.3333333333333333,
             "#9c179e"
            ],
            [
             0.4444444444444444,
             "#bd3786"
            ],
            [
             0.5555555555555556,
             "#d8576b"
            ],
            [
             0.6666666666666666,
             "#ed7953"
            ],
            [
             0.7777777777777778,
             "#fb9f3a"
            ],
            [
             0.8888888888888888,
             "#fdca26"
            ],
            [
             1,
             "#f0f921"
            ]
           ]
          },
          "colorway": [
           "#636efa",
           "#EF553B",
           "#00cc96",
           "#ab63fa",
           "#FFA15A",
           "#19d3f3",
           "#FF6692",
           "#B6E880",
           "#FF97FF",
           "#FECB52"
          ],
          "font": {
           "color": "#2a3f5f"
          },
          "geo": {
           "bgcolor": "white",
           "lakecolor": "white",
           "landcolor": "#E5ECF6",
           "showlakes": true,
           "showland": true,
           "subunitcolor": "white"
          },
          "hoverlabel": {
           "align": "left"
          },
          "hovermode": "closest",
          "mapbox": {
           "style": "light"
          },
          "paper_bgcolor": "white",
          "plot_bgcolor": "#E5ECF6",
          "polar": {
           "angularaxis": {
            "gridcolor": "white",
            "linecolor": "white",
            "ticks": ""
           },
           "bgcolor": "#E5ECF6",
           "radialaxis": {
            "gridcolor": "white",
            "linecolor": "white",
            "ticks": ""
           }
          },
          "scene": {
           "xaxis": {
            "backgroundcolor": "#E5ECF6",
            "gridcolor": "white",
            "gridwidth": 2,
            "linecolor": "white",
            "showbackground": true,
            "ticks": "",
            "zerolinecolor": "white"
           },
           "yaxis": {
            "backgroundcolor": "#E5ECF6",
            "gridcolor": "white",
            "gridwidth": 2,
            "linecolor": "white",
            "showbackground": true,
            "ticks": "",
            "zerolinecolor": "white"
           },
           "zaxis": {
            "backgroundcolor": "#E5ECF6",
            "gridcolor": "white",
            "gridwidth": 2,
            "linecolor": "white",
            "showbackground": true,
            "ticks": "",
            "zerolinecolor": "white"
           }
          },
          "shapedefaults": {
           "line": {
            "color": "#2a3f5f"
           }
          },
          "ternary": {
           "aaxis": {
            "gridcolor": "white",
            "linecolor": "white",
            "ticks": ""
           },
           "baxis": {
            "gridcolor": "white",
            "linecolor": "white",
            "ticks": ""
           },
           "bgcolor": "#E5ECF6",
           "caxis": {
            "gridcolor": "white",
            "linecolor": "white",
            "ticks": ""
           }
          },
          "title": {
           "x": 0.05
          },
          "xaxis": {
           "automargin": true,
           "gridcolor": "white",
           "linecolor": "white",
           "ticks": "",
           "title": {
            "standoff": 15
           },
           "zerolinecolor": "white",
           "zerolinewidth": 2
          },
          "yaxis": {
           "automargin": true,
           "gridcolor": "white",
           "linecolor": "white",
           "ticks": "",
           "title": {
            "standoff": 15
           },
           "zerolinecolor": "white",
           "zerolinewidth": 2
          }
         }
        },
        "title": {
         "font": {
          "size": 20
         }
        },
        "width": 1500,
        "xaxis": {
         "anchor": "y",
         "autorange": true,
         "domain": [
          0,
          0.15
         ],
         "range": [
          -1.1438253012048196,
          15.143825301204819
         ],
         "title": {
          "text": "범죄대분류"
         },
         "type": "category"
        },
        "xaxis2": {
         "anchor": "y2",
         "autorange": true,
         "domain": [
          0.16999999999999998,
          0.31999999999999995
         ],
         "matches": "x",
         "range": [
          -1.1438253012048196,
          15.143825301204819
         ],
         "title": {
          "text": "범죄대분류"
         },
         "type": "category"
        },
        "xaxis3": {
         "anchor": "y3",
         "autorange": true,
         "domain": [
          0.33999999999999997,
          0.49
         ],
         "matches": "x",
         "range": [
          -1.1438253012048196,
          15.143825301204819
         ],
         "title": {
          "text": "범죄대분류"
         },
         "type": "category"
        },
        "xaxis4": {
         "anchor": "y4",
         "autorange": true,
         "domain": [
          0.51,
          0.66
         ],
         "matches": "x",
         "range": [
          -1.1438253012048196,
          15.143825301204819
         ],
         "title": {
          "text": "범죄대분류"
         },
         "type": "category"
        },
        "xaxis5": {
         "anchor": "y5",
         "autorange": true,
         "domain": [
          0.6799999999999999,
          0.83
         ],
         "matches": "x",
         "range": [
          -1.1438253012048196,
          15.143825301204819
         ],
         "title": {
          "text": "범죄대분류"
         },
         "type": "category"
        },
        "xaxis6": {
         "anchor": "y6",
         "autorange": true,
         "domain": [
          0.85,
          1
         ],
         "matches": "x",
         "range": [
          -1.1438253012048196,
          15.143825301204819
         ],
         "title": {
          "text": "범죄대분류"
         },
         "type": "category"
        },
        "yaxis": {
         "anchor": "x",
         "autorange": true,
         "domain": [
          0,
          1
         ],
         "range": [
          -4087.7089552238804,
          66423.70895522388
         ],
         "title": {
          "text": "서울"
         },
         "type": "linear"
        },
        "yaxis2": {
         "anchor": "x2",
         "autorange": true,
         "domain": [
          0,
          1
         ],
         "matches": "y",
         "range": [
          -4087.7089552238804,
          66423.70895522388
         ],
         "showticklabels": false,
         "type": "linear"
        },
        "yaxis3": {
         "anchor": "x3",
         "autorange": true,
         "domain": [
          0,
          1
         ],
         "matches": "y",
         "range": [
          -4087.7089552238804,
          66423.70895522388
         ],
         "showticklabels": false,
         "type": "linear"
        },
        "yaxis4": {
         "anchor": "x4",
         "autorange": true,
         "domain": [
          0,
          1
         ],
         "matches": "y",
         "range": [
          -4087.7089552238804,
          66423.70895522388
         ],
         "showticklabels": false,
         "type": "linear"
        },
        "yaxis5": {
         "anchor": "x5",
         "autorange": true,
         "domain": [
          0,
          1
         ],
         "matches": "y",
         "range": [
          -4087.7089552238804,
          66423.70895522388
         ],
         "showticklabels": false,
         "type": "linear"
        },
        "yaxis6": {
         "anchor": "x6",
         "autorange": true,
         "domain": [
          0,
          1
         ],
         "matches": "y",
         "range": [
          -4087.7089552238804,
          66423.70895522388
         ],
         "showticklabels": false,
         "type": "linear"
        }
       }
      },
      "image/png": "[encoded data removed]",
      "text/html": [
       "<div>                            <div id=\"ad63bfaa-be7a-49ca-b8f9-df62cc73cb76\" class=\"plotly-graph-div\" style=\"height:600px; width:1500px;\"></div>            <script type=\"text/javascript\">                require([\"plotly\"], function(Plotly) {                    window.PLOTLYENV=window.PLOTLYENV || {};                                    if (document.getElementById(\"ad63bfaa-be7a-49ca-b8f9-df62cc73cb76\")) {                    Plotly.newPlot(                        \"ad63bfaa-be7a-49ca-b8f9-df62cc73cb76\",                        [{\"hovertemplate\":\"\\ubc94\\uc8c4\\uc911\\ubd84\\ub958=\\uc0b4\\uc778\\uae30\\uc218<br>Year=18<br>\\ubc94\\uc8c4\\ub300\\ubd84\\ub958=%{x}<br>\\uc11c\\uc6b8=%{y}<extra></extra>\",\"legendgroup\":\"\\uc0b4\\uc778\\uae30\\uc218\",\"marker\":{\"color\":\"#636efa\",\"symbol\":\"circle\"},\"mode\":\"markers\",\"name\":\"\\uc0b4\\uc778\\uae30\\uc218\",\"orientation\":\"v\",\"showlegend\":true,\"x\":[\"\\uac15\\ub825\\ubc94\\uc8c4\"],\"xaxis\":\"x\",\"y\":[45.0],\"yaxis\":\"y\",\"type\":\"scatter\"},{\"hovertemplate\":\"\\ubc94\\uc8c4\\uc911\\ubd84\\ub958=\\uc0b4\\uc778\\uae30\\uc218<br>Year=19<br>\\ubc94\\uc8c4\\ub300\\ubd84\\ub958=%{x}<br>\\uc11c\\uc6b8=%{y}<extra></extra>\",\"legendgroup\":\"\\uc0b4\\uc778\\uae30\\uc218\",\"marker\":{\"color\":\"#636efa\",\"symbol\":\"circle\"},\"mode\":\"markers\",\"name\":\"\\uc0b4\\uc778\\uae30\\uc218\",\"orientation\":\"v\",\"showlegend\":false,\"x\":[\"\\uac15\\ub825\\ubc94\\uc8c4\"],\"xaxis\":\"x2\",\"y\":[45.0],\"yaxis\":\"y2\",\"type\":\"scatter\"},{\"hovertemplate\":\"\\ubc94\\uc8c4\\uc911\\ubd84\\ub958=\\uc0b4\\uc778\\uae30\\uc218<br>Year=20<br>\\ubc94\\uc8c4\\ub300\\ubd84\\ub958=%{x}<br>\\uc11c\\uc6b8=%{y}<extra></extra>\",\"legendgroup\":\"\\uc0b4\\uc778\\uae30\\uc218\",\"marker\":{\"color\":\"#636efa\",\"symbol\":\"circle\"},\"mode\":\"markers\",\"name\":\"\\uc0b4\\uc778\\uae30\\uc218\",\"orientation\":\"v\",\"showlegend\":false,\"x\":[\"\\uac15\\ub825\\ubc94\\uc8c4\"],\"xaxis\":\"x3\",\"y\":[50.0],\"yaxis\":\"y3\",\"type\":\"scatter\"},{\"hovertemplate\":\"\\ubc94\\uc8c4\\uc911\\ubd84\\ub958=\\uc0b4\\uc778\\uae30\\uc218<br>Year=21<br>\\ubc94\\uc8c4\\ub300\\ubd84\\ub958=%{x}<br>\\uc11c\\uc6b8=%{y}<extra></extra>\",\"legendgroup\":\"\\uc0b4\\uc778\\uae30\\uc218\",\"marker\":{\"color\":\"#636efa\",\"symbol\":\"circle\"},\"mode\":\"markers\",\"name\":\"\\uc0b4\\uc778\\uae30\\uc218\",\"orientation\":\"v\",\"showlegend\":false,\"x\":[\"\\uac15\\ub825\\ubc94\\uc8c4\"],\"xaxis\":\"x4\",\"y\":[47.0],\"yaxis\":\"y4\",\"type\":\"scatter\"},{\"hovertemplate\":\"\\ubc94\\uc8c4\\uc911\\ubd84\\ub958=\\uc0b4\\uc778\\uae30\\uc218<br>Year=22<br>\\ubc94\\uc8c4\\ub300\\ubd84\\ub958=%{x}<br>\\uc11c\\uc6b8=%{y}<extra></extra>\",\"legendgroup\":\"\\uc0b4\\uc778\\uae30\\uc218\",\"marker\":{\"color\":\"#636efa\",\"symbol\":\"circle\"},\"mode\":\"markers\",\"name\":\"\\uc0b4\\uc778\\uae30\\uc218\",\"orientation\":\"v\",\"showlegend\":false,\"x\":[\"\\uac15\\ub825\\ubc94\\uc8c4\"],\"xaxis\":\"x5\",\"y\":[35.0],\"yaxis\":\"y5\",\"type\":\"scatter\"},{\"hovertemplate\":\"\\ubc94\\uc8c4\\uc911\\ubd84\\ub958=\\uc0b4\\uc778\\uae30\\uc218<br>Year=23<br>\\ubc94\\uc8c4\\ub300\\ubd84\\ub958=%{x}<br>\\uc11c\\uc6b8=%{y}<extra></extra>\",\"legendgroup\":\"\\uc0b4\\uc778\\uae30\\uc218\",\"marker\":{\"color\":\"#636efa\",\"symbol\":\"circle\"},\"mode\":\"markers\",\"name\":\"\\uc0b4\\uc778\\uae30\\uc218\",\"orientation\":\"v\",\"showlegend\":false,\"x\":[\"\\uac15\\ub825\\ubc94\\uc8c4\"],\"xaxis\":\"x6\",\"y\":[41.0],\"yaxis\":\"y6\",\"type\":\"scatter\"},{\"hovertemplate\":\"\\ubc94\\uc8c4\\uc911\\ubd84\\ub958=\\uc0b4\\uc778\\ubbf8\\uc218\\ub4f1<br>Year=18<br>\\ubc94\\uc8c4\\ub300\\ubd84\\ub958=%{x}<br>\\uc11c\\uc6b8=%{y}<extra></extra>\",\"legendgroup\":\"\\uc0b4\\uc778\\ubbf8\\uc218\\ub4f1\",\"marker\":{\"color\":\"#EF553B\",\"symbol\":\"circle\"},\"mode\":\"markers\",\"name\":\"\\uc0b4\\uc778\\ubbf8\\uc218\\ub4f1\",\"orientation\":\"v\",\"showlegend\":true,\"x\":[\"\\uac15\\ub825\\ubc94\\uc8c4\"],\"xaxis\":\"x\",\"y\":[97.0],\"yaxis\":\"y\",\"type\":\"scatter\"},{\"hovertemplate\":\"\\ubc94\\uc8c4\\uc911\\ubd84\\ub958=\\uc0b4\\uc778\\ubbf8\\uc218\\ub4f1<br>Year=19<br>\\ubc94\\uc8c4\\ub300\\ubd84\\ub958=%{x}<br>\\uc11c\\uc6b8=%{y}<extra></extra>\",\"legendgroup\":\"\\uc0b4\\uc778\\ubbf8\\uc218\\ub4f1\",\"marker\":{\"color\":\"#EF553B\",\"symbol\":\"circle\"},\"mode\":\"markers\",\"name\":\"\\uc0b4\\uc778\\ubbf8\\uc218\\ub4f1\",\"orientation\":\"v\",\"showlegend\":false,\"x\":[\"\\uac15\\ub825\\ubc94\\uc8c4\"],\"xaxis\":\"x2\",\"y\":[89.0],\"yaxis\":\"y2\",\"type\":\"scatter\"},{\"hovertemplate\":\"\\ubc94\\uc8c4\\uc911\\ubd84\\ub958=\\uc0b4\\uc778\\ubbf8\\uc218\\ub4f1<br>Year=20<br>\\ubc94\\uc8c4\\ub300\\ubd84\\ub958=%{x}<br>\\uc11c\\uc6b8=%{y}<extra></extra>\",\"legendgroup\":\"\\uc0b4\\uc778\\ubbf8\\uc218\\ub4f1\",\"marker\":{\"color\":\"#EF553B\",\"symbol\":\"circle\"},\"mode\":\"markers\",\"name\":\"\\uc0b4\\uc778\\ubbf8\\uc218\\ub4f1\",\"orientation\":\"v\",\"showlegend\":false,\"x\":[\"\\uac15\\ub825\\ubc94\\uc8c4\"],\"xaxis\":\"x3\",\"y\":[88.0],\"yaxis\":\"y3\",\"type\":\"scatter\"},{\"hovertemplate\":\"\\ubc94\\uc8c4\\uc911\\ubd84\\ub958=\\uc0b4\\uc778\\ubbf8\\uc218\\ub4f1<br>Year=21<br>\\ubc94\\uc8c4\\ub300\\ubd84\\ub958=%{x}<br>\\uc11c\\uc6b8=%{y}<extra></extra>\",\"legendgroup\":\"\\uc0b4\\uc778\\ubbf8\\uc218\\ub4f1\",\"marker\":{\"color\":\"#EF553B\",\"symbol\":\"circle\"},\"mode\":\"markers\",\"name\":\"\\uc0b4\\uc778\\ubbf8\\uc218\\ub4f1\",\"orientation\":\"v\",\"showlegend\":false,\"x\":[\"\\uac15\\ub825\\ubc94\\uc8c4\"],\"xaxis\":\"x4\",\"y\":[76.0],\"yaxis\":\"y4\",\"type\":\"scatter\"},{\"hovertemplate\":\"\\ubc94\\uc8c4\\uc911\\ubd84\\ub958=\\uc0b4\\uc778\\ubbf8\\uc218\\ub4f1<br>Year=22<br>\\ubc94\\uc8c4\\ub300\\ubd84\\ub958=%{x}<br>\\uc11c\\uc6b8=%{y}<extra></extra>\",\"legendgroup\":\"\\uc0b4\\uc778\\ubbf8\\uc218\\ub4f1\",\"marker\":{\"color\":\"#EF553B\",\"symbol\":\"circle\"},\"mode\":\"markers\",\"name\":\"\\uc0b4\\uc778\\ubbf8\\uc218\\ub4f1\",\"orientation\":\"v\",\"showlegend\":false,\"x\":[\"\\uac15\\ub825\\ubc94\\uc8c4\"],\"xaxis\":\"x5\",\"y\":[68.0],\"yaxis\":\"y5\",\"type\":\"scatter\"},{\"hovertemplate\":\"\\ubc94\\uc8c4\\uc911\\ubd84\\ub958=\\uc0b4\\uc778\\ubbf8\\uc218\\ub4f1<br>Year=23<br>\\ubc94\\uc8c4\\ub300\\ubd84\\ub958=%{x}<br>\\uc11c\\uc6b8=%{y}<extra></extra>\",\"legendgroup\":\"\\uc0b4\\uc778\\ubbf8\\uc218\\ub4f1\",\"marker\":{\"color\":\"#EF553B\",\"symbol\":\"circle\"},\"mode\":\"markers\",\"name\":\"\\uc0b4\\uc778\\ubbf8\\uc218\\ub4f1\",\"orientation\":\"v\",\"showlegend\":false,\"x\":[\"\\uac15\\ub825\\ubc94\\uc8c4\"],\"xaxis\":\"x6\",\"y\":[107.0],\"yaxis\":\"y6\",\"type\":\"scatter\"},{\"hovertemplate\":\"\\ubc94\\uc8c4\\uc911\\ubd84\\ub958=\\uac15\\ub3c4<br>Year=18<br>\\ubc94\\uc8c4\\ub300\\ubd84\\ub958=%{x}<br>\\uc11c\\uc6b8=%{y}<extra></extra>\",\"legendgroup\":\"\\uac15\\ub3c4\",\"marker\":{\"color\":\"#00cc96\",\"symbol\":\"circle\"},\"mode\":\"markers\",\"name\":\"\\uac15\\ub3c4\",\"orientation\":\"v\",\"showlegend\":true,\"x\":[\"\\uac15\\ub825\\ubc94\\uc8c4\"],\"xaxis\":\"x\",\"y\":[139.0],\"yaxis\":\"y\",\"type\":\"scatter\"},{\"hovertemplate\":\"\\ubc94\\uc8c4\\uc911\\ubd84\\ub958=\\uac15\\ub3c4<br>Year=19<br>\\ubc94\\uc8c4\\ub300\\ubd84\\ub958=%{x}<br>\\uc11c\\uc6b8=%{y}<extra></extra>\",\"legendgroup\":\"\\uac15\\ub3c4\",\"marker\":{\"color\":\"#00cc96\",\"symbol\":\"circle\"},\"mode\":\"markers\",\"name\":\"\\uac15\\ub3c4\",\"orientation\":\"v\",\"showlegend\":false,\"x\":[\"\\uac15\\ub825\\ubc94\\uc8c4\"],\"xaxis\":\"x2\",\"y\":[133.0],\"yaxis\":\"y2\",\"type\":\"scatter\"},{\"hovertemplate\":\"\\ubc94\\uc8c4\\uc911\\ubd84\\ub958=\\uac15\\ub3c4<br>Year=20<br>\\ubc94\\uc8c4\\ub300\\ubd84\\ub958=%{x}<br>\\uc11c\\uc6b8=%{y}<extra></extra>\",\"legendgroup\":\"\\uac15\\ub3c4\",\"marker\":{\"color\":\"#00cc96\",\"symbol\":\"circle\"},\"mode\":\"markers\",\"name\":\"\\uac15\\ub3c4\",\"orientation\":\"v\",\"showlegend\":false,\"x\":[\"\\uac15\\ub825\\ubc94\\uc8c4\"],\"xaxis\":\"x3\",\"y\":[141.0],\"yaxis\":\"y3\",\"type\":\"scatter\"},{\"hovertemplate\":\"\\ubc94\\uc8c4\\uc911\\ubd84\\ub958=\\uac15\\ub3c4<br>Year=21<br>\\ubc94\\uc8c4\\ub300\\ubd84\\ub958=%{x}<br>\\uc11c\\uc6b8=%{y}<extra></extra>\",\"legendgroup\":\"\\uac15\\ub3c4\",\"marker\":{\"color\":\"#00cc96\",\"symbol\":\"circle\"},\"mode\":\"markers\",\"name\":\"\\uac15\\ub3c4\",\"orientation\":\"v\",\"showlegend\":false,\"x\":[\"\\uac15\\ub825\\ubc94\\uc8c4\"],\"xaxis\":\"x4\",\"y\":[122.0],\"yaxis\":\"y4\",\"type\":\"scatter\"},{\"hovertemplate\":\"\\ubc94\\uc8c4\\uc911\\ubd84\\ub958=\\uac15\\ub3c4<br>Year=22<br>\\ubc94\\uc8c4\\ub300\\ubd84\\ub958=%{x}<br>\\uc11c\\uc6b8=%{y}<extra></extra>\",\"legendgroup\":\"\\uac15\\ub3c4\",\"marker\":{\"color\":\"#00cc96\",\"symbol\":\"circle\"},\"mode\":\"markers\",\"name\":\"\\uac15\\ub3c4\",\"orientation\":\"v\",\"showlegend\":false,\"x\":[\"\\uac15\\ub825\\ubc94\\uc8c4\"],\"xaxis\":\"x5\",\"y\":[118.0],\"yaxis\":\"y5\",\"type\":\"scatter\"},{\"hovertemplate\":\"\\ubc94\\uc8c4\\uc911\\ubd84\\ub958=\\uac15\\ub3c4<br>Year=23<br>\\ubc94\\uc8c4\\ub300\\ubd84\\ub958=%{x}<br>\\uc11c\\uc6b8=%{y}<extra></extra>\",\"legendgroup\":\"\\uac15\\ub3c4\",\"marker\":{\"color\":\"#00cc96\",\"symbol\":\"circle\"},\"mode\":\"markers\",\"name\":\"\\uac15\\ub3c4\",\"orientation\":\"v\",\"showlegend\":false,\"x\":[\"\\uac15\\ub825\\ubc94\\uc8c4\"],\"xaxis\":\"x6\",\"y\":[127.0],\"yaxis\":\"y6\",\"type\":\"scatter\"},{\"hovertemplate\":\"\\ubc94\\uc8c4\\uc911\\ubd84\\ub958=\\uac15\\uac04<br>Year=18<br>\\ubc94\\uc8c4\\ub300\\ubd84\\ub958=%{x}<br>\\uc11c\\uc6b8=%{y}<extra></extra>\",\"legendgroup\":\"\\uac15\\uac04\",\"marker\":{\"color\":\"#ab63fa\",\"symbol\":\"circle\"},\"mode\":\"markers\",\"name\":\"\\uac15\\uac04\",\"orientation\":\"v\",\"showlegend\":true,\"x\":[\"\\uac15\\ub825\\ubc94\\uc8c4\"],\"xaxis\":\"x\",\"y\":[1159.0],\"yaxis\":\"y\",\"type\":\"scatter\"},{\"hovertemplate\":\"\\ubc94\\uc8c4\\uc911\\ubd84\\ub958=\\uac15\\uac04<br>Year=19<br>\\ubc94\\uc8c4\\ub300\\ubd84\\ub958=%{x}<br>\\uc11c\\uc6b8=%{y}<extra></extra>\",\"legendgroup\":\"\\uac15\\uac04\",\"marker\":{\"color\":\"#ab63fa\",\"symbol\":\"circle\"},\"mode\":\"markers\",\"name\":\"\\uac15\\uac04\",\"orientation\":\"v\",\"showlegend\":false,\"x\":[\"\\uac15\\ub825\\ubc94\\uc8c4\"],\"xaxis\":\"x2\",\"y\":[1254.0],\"yaxis\":\"y2\",\"type\":\"scatter\"},{\"hovertemplate\":\"\\ubc94\\uc8c4\\uc911\\ubd84\\ub958=\\uac15\\uac04<br>Year=20<br>\\ubc94\\uc8c4\\ub300\\ubd84\\ub958=%{x}<br>\\uc11c\\uc6b8=%{y}<extra></extra>\",\"legendgroup\":\"\\uac15\\uac04\",\"marker\":{\"color\":\"#ab63fa\",\"symbol\":\"circle\"},\"mode\":\"markers\",\"name\":\"\\uac15\\uac04\",\"orientation\":\"v\",\"showlegend\":false,\"x\":[\"\\uac15\\ub825\\ubc94\\uc8c4\"],\"xaxis\":\"x3\",\"y\":[1279.0],\"yaxis\":\"y3\",\"type\":\"scatter\"},{\"hovertemplate\":\"\\ubc94\\uc8c4\\uc911\\ubd84\\ub958=\\uac15\\uac04<br>Year=21<br>\\ubc94\\uc8c4\\ub300\\ubd84\\ub958=%{x}<br>\\uc11c\\uc6b8=%{y}<extra></extra>\",\"legendgroup\":\"\\uac15\\uac04\",\"marker\":{\"color\":\"#ab63fa\",\"symbol\":\"circle\"},\"mode\":\"markers\",\"name\":\"\\uac15\\uac04\",\"orientation\":\"v\",\"showlegend\":false,\"x\":[\"\\uac15\\ub825\\ubc94\\uc8c4\"],\"xaxis\":\"x4\",\"y\":[1134.0],\"yaxis\":\"y4\",\"type\":\"scatter\"},{\"hovertemplate\":\"\\ubc94\\uc8c4\\uc911\\ubd84\\ub958=\\uac15\\uac04<br>Year=22<br>\\ubc94\\uc8c4\\ub300\\ubd84\\ub958=%{x}<br>\\uc11c\\uc6b8=%{y}<extra></extra>\",\"legendgroup\":\"\\uac15\\uac04\",\"marker\":{\"color\":\"#ab63fa\",\"symbol\":\"circle\"},\"mode\":\"markers\",\"name\":\"\\uac15\\uac04\",\"orientation\":\"v\",\"showlegend\":false,\"x\":[\"\\uac15\\ub825\\ubc94\\uc8c4\"],\"xaxis\":\"x5\",\"y\":[1200.0],\"yaxis\":\"y5\",\"type\":\"scatter\"},{\"hovertemplate\":\"\\ubc94\\uc8c4\\uc911\\ubd84\\ub958=\\uac15\\uac04<br>Year=23<br>\\ubc94\\uc8c4\\ub300\\ubd84\\ub958=%{x}<br>\\uc11c\\uc6b8=%{y}<extra></extra>\",\"legendgroup\":\"\\uac15\\uac04\",\"marker\":{\"color\":\"#ab63fa\",\"symbol\":\"circle\"},\"mode\":\"markers\",\"name\":\"\\uac15\\uac04\",\"orientation\":\"v\",\"showlegend\":false,\"x\":[\"\\uac15\\ub825\\ubc94\\uc8c4\"],\"xaxis\":\"x6\",\"y\":[1150.0],\"yaxis\":\"y6\",\"type\":\"scatter\"},{\"hovertemplate\":\"\\ubc94\\uc8c4\\uc911\\ubd84\\ub958=\\uc720\\uc0ac\\uac15\\uac04<br>Year=18<br>\\ubc94\\uc8c4\\ub300\\ubd84\\ub958=%{x}<br>\\uc11c\\uc6b8=%{y}<extra></extra>\",\"legendgroup\":\"\\uc720\\uc0ac\\uac15\\uac04\",\"marker\":{\"color\":\"#FFA15A\",\"symbol\":\"circle\"},\"mode\":\"markers\",\"name\":\"\\uc720\\uc0ac\\uac15\\uac04\",\"orientation\":\"v\",\"showlegend\":true,\"x\":[\"\\uac15\\ub825\\ubc94\\uc8c4\"],\"xaxis\":\"x\",\"y\":[180.0],\"yaxis\":\"y\",\"type\":\"scatter\"},{\"hovertemplate\":\"\\ubc94\\uc8c4\\uc911\\ubd84\\ub958=\\uc720\\uc0ac\\uac15\\uac04<br>Year=19<br>\\ubc94\\uc8c4\\ub300\\ubd84\\ub958=%{x}<br>\\uc11c\\uc6b8=%{y}<extra></extra>\",\"legendgroup\":\"\\uc720\\uc0ac\\uac15\\uac04\",\"marker\":{\"color\":\"#FFA15A\",\"symbol\":\"circle\"},\"mode\":\"markers\",\"name\":\"\\uc720\\uc0ac\\uac15\\uac04\",\"orientation\":\"v\",\"showlegend\":false,\"x\":[\"\\uac15\\ub825\\ubc94\\uc8c4\"],\"xaxis\":\"x2\",\"y\":[171.0],\"yaxis\":\"y2\",\"type\":\"scatter\"},{\"hovertemplate\":\"\\ubc94\\uc8c4\\uc911\\ubd84\\ub958=\\uc720\\uc0ac\\uac15\\uac04<br>Year=20<br>\\ubc94\\uc8c4\\ub300\\ubd84\\ub958=%{x}<br>\\uc11c\\uc6b8=%{y}<extra></extra>\",\"legendgroup\":\"\\uc720\\uc0ac\\uac15\\uac04\",\"marker\":{\"color\":\"#FFA15A\",\"symbol\":\"circle\"},\"mode\":\"markers\",\"name\":\"\\uc720\\uc0ac\\uac15\\uac04\",\"orientation\":\"v\",\"showlegend\":false,\"x\":[\"\\uac15\\ub825\\ubc94\\uc8c4\"],\"xaxis\":\"x3\",\"y\":[197.0],\"yaxis\":\"y3\",\"type\":\"scatter\"},{\"hovertemplate\":\"\\ubc94\\uc8c4\\uc911\\ubd84\\ub958=\\uc720\\uc0ac\\uac15\\uac04<br>Year=21<br>\\ubc94\\uc8c4\\ub300\\ubd84\\ub958=%{x}<br>\\uc11c\\uc6b8=%{y}<extra></extra>\",\"legendgroup\":\"\\uc720\\uc0ac\\uac15\\uac04\",\"marker\":{\"color\":\"#FFA15A\",\"symbol\":\"circle\"},\"mode\":\"markers\",\"name\":\"\\uc720\\uc0ac\\uac15\\uac04\",\"orientation\":\"v\",\"showlegend\":false,\"x\":[\"\\uac15\\ub825\\ubc94\\uc8c4\"],\"xaxis\":\"x4\",\"y\":[180.0],\"yaxis\":\"y4\",\"type\":\"scatter\"},{\"hovertemplate\":\"\\ubc94\\uc8c4\\uc911\\ubd84\\ub958=\\uc720\\uc0ac\\uac15\\uac04<br>Year=22<br>\\ubc94\\uc8c4\\ub300\\ubd84\\ub958=%{x}<br>\\uc11c\\uc6b8=%{y}<extra></extra>\",\"legendgroup\":\"\\uc720\\uc0ac\\uac15\\uac04\",\"marker\":{\"color\":\"#FFA15A\",\"symbol\":\"circle\"},\"mode\":\"markers\",\"name\":\"\\uc720\\uc0ac\\uac15\\uac04\",\"orientation\":\"v\",\"showlegend\":false,\"x\":[\"\\uac15\\ub825\\ubc94\\uc8c4\"],\"xaxis\":\"x5\",\"y\":[219.0],\"yaxis\":\"y5\",\"type\":\"scatter\"},{\"hovertemplate\":\"\\ubc94\\uc8c4\\uc911\\ubd84\\ub958=\\uc720\\uc0ac\\uac15\\uac04<br>Year=23<br>\\ubc94\\uc8c4\\ub300\\ubd84\\ub958=%{x}<br>\\uc11c\\uc6b8=%{y}<extra></extra>\",\"legendgroup\":\"\\uc720\\uc0ac\\uac15\\uac04\",\"marker\":{\"color\":\"#FFA15A\",\"symbol\":\"circle\"},\"mode\":\"markers\",\"name\":\"\\uc720\\uc0ac\\uac15\\uac04\",\"orientation\":\"v\",\"showlegend\":false,\"x\":[\"\\uac15\\ub825\\ubc94\\uc8c4\"],\"xaxis\":\"x6\",\"y\":[223.0],\"yaxis\":\"y6\",\"type\":\"scatter\"},{\"hovertemplate\":\"\\ubc94\\uc8c4\\uc911\\ubd84\\ub958=\\uac15\\uc81c\\ucd94\\ud589<br>Year=18<br>\\ubc94\\uc8c4\\ub300\\ubd84\\ub958=%{x}<br>\\uc11c\\uc6b8=%{y}<extra></extra>\",\"legendgroup\":\"\\uac15\\uc81c\\ucd94\\ud589\",\"marker\":{\"color\":\"#19d3f3\",\"symbol\":\"circle\"},\"mode\":\"markers\",\"name\":\"\\uac15\\uc81c\\ucd94\\ud589\",\"orientation\":\"v\",\"showlegend\":true,\"x\":[\"\\uac15\\ub825\\ubc94\\uc8c4\"],\"xaxis\":\"x\",\"y\":[5002.0],\"yaxis\":\"y\",\"type\":\"scatter\"},{\"hovertemplate\":\"\\ubc94\\uc8c4\\uc911\\ubd84\\ub958=\\uac15\\uc81c\\ucd94\\ud589<br>Year=19<br>\\ubc94\\uc8c4\\ub300\\ubd84\\ub958=%{x}<br>\\uc11c\\uc6b8=%{y}<extra></extra>\",\"legendgroup\":\"\\uac15\\uc81c\\ucd94\\ud589\",\"marker\":{\"color\":\"#19d3f3\",\"symbol\":\"circle\"},\"mode\":\"markers\",\"name\":\"\\uac15\\uc81c\\ucd94\\ud589\",\"orientation\":\"v\",\"showlegend\":false,\"x\":[\"\\uac15\\ub825\\ubc94\\uc8c4\"],\"xaxis\":\"x2\",\"y\":[4981.0],\"yaxis\":\"y2\",\"type\":\"scatter\"},{\"hovertemplate\":\"\\ubc94\\uc8c4\\uc911\\ubd84\\ub958=\\uac15\\uc81c\\ucd94\\ud589<br>Year=20<br>\\ubc94\\uc8c4\\ub300\\ubd84\\ub958=%{x}<br>\\uc11c\\uc6b8=%{y}<extra></extra>\",\"legendgroup\":\"\\uac15\\uc81c\\ucd94\\ud589\",\"marker\":{\"color\":\"#19d3f3\",\"symbol\":\"circle\"},\"mode\":\"markers\",\"name\":\"\\uac15\\uc81c\\ucd94\\ud589\",\"orientation\":\"v\",\"showlegend\":false,\"x\":[\"\\uac15\\ub825\\ubc94\\uc8c4\"],\"xaxis\":\"x3\",\"y\":[4211.0],\"yaxis\":\"y3\",\"type\":\"scatter\"},{\"hovertemplate\":\"\\ubc94\\uc8c4\\uc911\\ubd84\\ub958=\\uac15\\uc81c\\ucd94\\ud589<br>Year=21<br>\\ubc94\\uc8c4\\ub300\\ubd84\\ub958=%{x}<br>\\uc11c\\uc6b8=%{y}<extra></extra>\",\"legendgroup\":\"\\uac15\\uc81c\\ucd94\\ud589\",\"marker\":{\"color\":\"#19d3f3\",\"symbol\":\"circle\"},\"mode\":\"markers\",\"name\":\"\\uac15\\uc81c\\ucd94\\ud589\",\"orientation\":\"v\",\"showlegend\":false,\"x\":[\"\\uac15\\ub825\\ubc94\\uc8c4\"],\"xaxis\":\"x4\",\"y\":[3553.0],\"yaxis\":\"y4\",\"type\":\"scatter\"},{\"hovertemplate\":\"\\ubc94\\uc8c4\\uc911\\ubd84\\ub958=\\uac15\\uc81c\\ucd94\\ud589<br>Year=22<br>\\ubc94\\uc8c4\\ub300\\ubd84\\ub958=%{x}<br>\\uc11c\\uc6b8=%{y}<extra></extra>\",\"legendgroup\":\"\\uac15\\uc81c\\ucd94\\ud589\",\"marker\":{\"color\":\"#19d3f3\",\"symbol\":\"circle\"},\"mode\":\"markers\",\"name\":\"\\uac15\\uc81c\\ucd94\\ud589\",\"orientation\":\"v\",\"showlegend\":false,\"x\":[\"\\uac15\\ub825\\ubc94\\uc8c4\"],\"xaxis\":\"x5\",\"y\":[4358.0],\"yaxis\":\"y5\",\"type\":\"scatter\"},{\"hovertemplate\":\"\\ubc94\\uc8c4\\uc911\\ubd84\\ub958=\\uac15\\uc81c\\ucd94\\ud589<br>Year=23<br>\\ubc94\\uc8c4\\ub300\\ubd84\\ub958=%{x}<br>\\uc11c\\uc6b8=%{y}<extra></extra>\",\"legendgroup\":\"\\uac15\\uc81c\\ucd94\\ud589\",\"marker\":{\"color\":\"#19d3f3\",\"symbol\":\"circle\"},\"mode\":\"markers\",\"name\":\"\\uac15\\uc81c\\ucd94\\ud589\",\"orientation\":\"v\",\"showlegend\":false,\"x\":[\"\\uac15\\ub825\\ubc94\\uc8c4\"],\"xaxis\":\"x6\",\"y\":[4343.0],\"yaxis\":\"y6\",\"type\":\"scatter\"},{\"hovertemplate\":\"\\ubc94\\uc8c4\\uc911\\ubd84\\ub958=\\uae30\\ud0c0\\uac15\\uac04\\uac15\\uc81c\\ucd94\\ud589\\ub4f1<br>Year=18<br>\\ubc94\\uc8c4\\ub300\\ubd84\\ub958=%{x}<br>\\uc11c\\uc6b8=%{y}<extra></extra>\",\"legendgroup\":\"\\uae30\\ud0c0\\uac15\\uac04\\uac15\\uc81c\\ucd94\\ud589\\ub4f1\",\"marker\":{\"color\":\"#FF6692\",\"symbol\":\"circle\"},\"mode\":\"markers\",\"name\":\"\\uae30\\ud0c0\\uac15\\uac04\\uac15\\uc81c\\ucd94\\ud589\\ub4f1\",\"orientation\":\"v\",\"showlegend\":true,\"x\":[\"\\uac15\\ub825\\ubc94\\uc8c4\"],\"xaxis\":\"x\",\"y\":[59.0],\"yaxis\":\"y\",\"type\":\"scatter\"},{\"hovertemplate\":\"\\ubc94\\uc8c4\\uc911\\ubd84\\ub958=\\uae30\\ud0c0\\uac15\\uac04\\uac15\\uc81c\\ucd94\\ud589\\ub4f1<br>Year=19<br>\\ubc94\\uc8c4\\ub300\\ubd84\\ub958=%{x}<br>\\uc11c\\uc6b8=%{y}<extra></extra>\",\"legendgroup\":\"\\uae30\\ud0c0\\uac15\\uac04\\uac15\\uc81c\\ucd94\\ud589\\ub4f1\",\"marker\":{\"color\":\"#FF6692\",\"symbol\":\"circle\"},\"mode\":\"markers\",\"name\":\"\\uae30\\ud0c0\\uac15\\uac04\\uac15\\uc81c\\ucd94\\ud589\\ub4f1\",\"orientation\":\"v\",\"showlegend\":false,\"x\":[\"\\uac15\\ub825\\ubc94\\uc8c4\"],\"xaxis\":\"x2\",\"y\":[52.0],\"yaxis\":\"y2\",\"type\":\"scatter\"},{\"hovertemplate\":\"\\ubc94\\uc8c4\\uc911\\ubd84\\ub958=\\uae30\\ud0c0\\uac15\\uac04\\uac15\\uc81c\\ucd94\\ud589\\ub4f1<br>Year=20<br>\\ubc94\\uc8c4\\ub300\\ubd84\\ub958=%{x}<br>\\uc11c\\uc6b8=%{y}<extra></extra>\",\"legendgroup\":\"\\uae30\\ud0c0\\uac15\\uac04\\uac15\\uc81c\\ucd94\\ud589\\ub4f1\",\"marker\":{\"color\":\"#FF6692\",\"symbol\":\"circle\"},\"mode\":\"markers\",\"name\":\"\\uae30\\ud0c0\\uac15\\uac04\\uac15\\uc81c\\ucd94\\ud589\\ub4f1\",\"orientation\":\"v\",\"showlegend\":false,\"x\":[\"\\uac15\\ub825\\ubc94\\uc8c4\"],\"xaxis\":\"x3\",\"y\":[58.0],\"yaxis\":\"y3\",\"type\":\"scatter\"},{\"hovertemplate\":\"\\ubc94\\uc8c4\\uc911\\ubd84\\ub958=\\uae30\\ud0c0\\uac15\\uac04\\uac15\\uc81c\\ucd94\\ud589\\ub4f1<br>Year=21<br>\\ubc94\\uc8c4\\ub300\\ubd84\\ub958=%{x}<br>\\uc11c\\uc6b8=%{y}<extra></extra>\",\"legendgroup\":\"\\uae30\\ud0c0\\uac15\\uac04\\uac15\\uc81c\\ucd94\\ud589\\ub4f1\",\"marker\":{\"color\":\"#FF6692\",\"symbol\":\"circle\"},\"mode\":\"markers\",\"name\":\"\\uae30\\ud0c0\\uac15\\uac04\\uac15\\uc81c\\ucd94\\ud589\\ub4f1\",\"orientation\":\"v\",\"showlegend\":false,\"x\":[\"\\uac15\\ub825\\ubc94\\uc8c4\"],\"xaxis\":\"x4\",\"y\":[39.0],\"yaxis\":\"y4\",\"type\":\"scatter\"},{\"hovertemplate\":\"\\ubc94\\uc8c4\\uc911\\ubd84\\ub958=\\uae30\\ud0c0\\uac15\\uac04\\uac15\\uc81c\\ucd94\\ud589\\ub4f1<br>Year=22<br>\\ubc94\\uc8c4\\ub300\\ubd84\\ub958=%{x}<br>\\uc11c\\uc6b8=%{y}<extra></extra>\",\"legendgroup\":\"\\uae30\\ud0c0\\uac15\\uac04\\uac15\\uc81c\\ucd94\\ud589\\ub4f1\",\"marker\":{\"color\":\"#FF6692\",\"symbol\":\"circle\"},\"mode\":\"markers\",\"name\":\"\\uae30\\ud0c0\\uac15\\uac04\\uac15\\uc81c\\ucd94\\ud589\\ub4f1\",\"orientation\":\"v\",\"showlegend\":false,\"x\":[\"\\uac15\\ub825\\ubc94\\uc8c4\"],\"xaxis\":\"x5\",\"y\":[35.0],\"yaxis\":\"y5\",\"type\":\"scatter\"},{\"hovertemplate\":\"\\ubc94\\uc8c4\\uc911\\ubd84\\ub958=\\ubc29\\ud654<br>Year=18<br>\\ubc94\\uc8c4\\ub300\\ubd84\\ub958=%{x}<br>\\uc11c\\uc6b8=%{y}<extra></extra>\",\"legendgroup\":\"\\ubc29\\ud654\",\"marker\":{\"color\":\"#B6E880\",\"symbol\":\"circle\"},\"mode\":\"markers\",\"name\":\"\\ubc29\\ud654\",\"orientation\":\"v\",\"showlegend\":true,\"x\":[\"\\uac15\\ub825\\ubc94\\uc8c4\"],\"xaxis\":\"x\",\"y\":[293.0],\"yaxis\":\"y\",\"type\":\"scatter\"},{\"hovertemplate\":\"\\ubc94\\uc8c4\\uc911\\ubd84\\ub958=\\ubc29\\ud654<br>Year=19<br>\\ubc94\\uc8c4\\ub300\\ubd84\\ub958=%{x}<br>\\uc11c\\uc6b8=%{y}<extra></extra>\",\"legendgroup\":\"\\ubc29\\ud654\",\"marker\":{\"color\":\"#B6E880\",\"symbol\":\"circle\"},\"mode\":\"markers\",\"name\":\"\\ubc29\\ud654\",\"orientation\":\"v\",\"showlegend\":false,\"x\":[\"\\uac15\\ub825\\ubc94\\uc8c4\"],\"xaxis\":\"x2\",\"y\":[252.0],\"yaxis\":\"y2\",\"type\":\"scatter\"},{\"hovertemplate\":\"\\ubc94\\uc8c4\\uc911\\ubd84\\ub958=\\ubc29\\ud654<br>Year=20<br>\\ubc94\\uc8c4\\ub300\\ubd84\\ub958=%{x}<br>\\uc11c\\uc6b8=%{y}<extra></extra>\",\"legendgroup\":\"\\ubc29\\ud654\",\"marker\":{\"color\":\"#B6E880\",\"symbol\":\"circle\"},\"mode\":\"markers\",\"name\":\"\\ubc29\\ud654\",\"orientation\":\"v\",\"showlegend\":false,\"x\":[\"\\uac15\\ub825\\ubc94\\uc8c4\"],\"xaxis\":\"x3\",\"y\":[222.0],\"yaxis\":\"y3\",\"type\":\"scatter\"},{\"hovertemplate\":\"\\ubc94\\uc8c4\\uc911\\ubd84\\ub958=\\ubc29\\ud654<br>Year=21<br>\\ubc94\\uc8c4\\ub300\\ubd84\\ub958=%{x}<br>\\uc11c\\uc6b8=%{y}<extra></extra>\",\"legendgroup\":\"\\ubc29\\ud654\",\"marker\":{\"color\":\"#B6E880\",\"symbol\":\"circle\"},\"mode\":\"markers\",\"name\":\"\\ubc29\\ud654\",\"orientation\":\"v\",\"showlegend\":false,\"x\":[\"\\uac15\\ub825\\ubc94\\uc8c4\"],\"xaxis\":\"x4\",\"y\":[186.0],\"yaxis\":\"y4\",\"type\":\"scatter\"},{\"hovertemplate\":\"\\ubc94\\uc8c4\\uc911\\ubd84\\ub958=\\ubc29\\ud654<br>Year=22<br>\\ubc94\\uc8c4\\ub300\\ubd84\\ub958=%{x}<br>\\uc11c\\uc6b8=%{y}<extra></extra>\",\"legendgroup\":\"\\ubc29\\ud654\",\"marker\":{\"color\":\"#B6E880\",\"symbol\":\"circle\"},\"mode\":\"markers\",\"name\":\"\\ubc29\\ud654\",\"orientation\":\"v\",\"showlegend\":false,\"x\":[\"\\uac15\\ub825\\ubc94\\uc8c4\"],\"xaxis\":\"x5\",\"y\":[217.0],\"yaxis\":\"y5\",\"type\":\"scatter\"},{\"hovertemplate\":\"\\ubc94\\uc8c4\\uc911\\ubd84\\ub958=\\ubc29\\ud654<br>Year=23<br>\\ubc94\\uc8c4\\ub300\\ubd84\\ub958=%{x}<br>\\uc11c\\uc6b8=%{y}<extra></extra>\",\"legendgroup\":\"\\ubc29\\ud654\",\"marker\":{\"color\":\"#B6E880\",\"symbol\":\"circle\"},\"mode\":\"markers\",\"name\":\"\\ubc29\\ud654\",\"orientation\":\"v\",\"showlegend\":false,\"x\":[\"\\uac15\\ub825\\ubc94\\uc8c4\"],\"xaxis\":\"x6\",\"y\":[221.0],\"yaxis\":\"y6\",\"type\":\"scatter\"},{\"hovertemplate\":\"\\ubc94\\uc8c4\\uc911\\ubd84\\ub958=\\uc808\\ub3c4\\ubc94\\uc8c4<br>Year=18<br>\\ubc94\\uc8c4\\ub300\\ubd84\\ub958=%{x}<br>\\uc11c\\uc6b8=%{y}<extra></extra>\",\"legendgroup\":\"\\uc808\\ub3c4\\ubc94\\uc8c4\",\"marker\":{\"color\":\"#FF97FF\",\"symbol\":\"circle\"},\"mode\":\"markers\",\"name\":\"\\uc808\\ub3c4\\ubc94\\uc8c4\",\"orientation\":\"v\",\"showlegend\":true,\"x\":[\"\\uc808\\ub3c4\\ubc94\\uc8c4\"],\"xaxis\":\"x\",\"y\":[39182.0],\"yaxis\":\"y\",\"type\":\"scatter\"},{\"hovertemplate\":\"\\ubc94\\uc8c4\\uc911\\ubd84\\ub958=\\uc808\\ub3c4\\ubc94\\uc8c4<br>Year=19<br>\\ubc94\\uc8c4\\ub300\\ubd84\\ub958=%{x}<br>\\uc11c\\uc6b8=%{y}<extra></extra>\",\"legendgroup\":\"\\uc808\\ub3c4\\ubc94\\uc8c4\",\"marker\":{\"color\":\"#FF97FF\",\"symbol\":\"circle\"},\"mode\":\"markers\",\"name\":\"\\uc808\\ub3c4\\ubc94\\uc8c4\",\"orientation\":\"v\",\"showlegend\":false,\"x\":[\"\\uc808\\ub3c4\\ubc94\\uc8c4\"],\"xaxis\":\"x2\",\"y\":[42224.0],\"yaxis\":\"y2\",\"type\":\"scatter\"},{\"hovertemplate\":\"\\ubc94\\uc8c4\\uc911\\ubd84\\ub958=\\uc808\\ub3c4\\ubc94\\uc8c4<br>Year=20<br>\\ubc94\\uc8c4\\ub300\\ubd84\\ub958=%{x}<br>\\uc11c\\uc6b8=%{y}<extra></extra>\",\"legendgroup\":\"\\uc808\\ub3c4\\ubc94\\uc8c4\",\"marker\":{\"color\":\"#FF97FF\",\"symbol\":\"circle\"},\"mode\":\"markers\",\"name\":\"\\uc808\\ub3c4\\ubc94\\uc8c4\",\"orientation\":\"v\",\"showlegend\":false,\"x\":[\"\\uc808\\ub3c4\\ubc94\\uc8c4\"],\"xaxis\":\"x3\",\"y\":[38296.0],\"yaxis\":\"y3\",\"type\":\"scatter\"},{\"hovertemplate\":\"\\ubc94\\uc8c4\\uc911\\ubd84\\ub958=\\uc808\\ub3c4\\ubc94\\uc8c4<br>Year=21<br>\\ubc94\\uc8c4\\ub300\\ubd84\\ub958=%{x}<br>\\uc11c\\uc6b8=%{y}<extra></extra>\",\"legendgroup\":\"\\uc808\\ub3c4\\ubc94\\uc8c4\",\"marker\":{\"color\":\"#FF97FF\",\"symbol\":\"circle\"},\"mode\":\"markers\",\"name\":\"\\uc808\\ub3c4\\ubc94\\uc8c4\",\"orientation\":\"v\",\"showlegend\":false,\"x\":[\"\\uc808\\ub3c4\\ubc94\\uc8c4\"],\"xaxis\":\"x4\",\"y\":[33529.0],\"yaxis\":\"y4\",\"type\":\"scatter\"},{\"hovertemplate\":\"\\ubc94\\uc8c4\\uc911\\ubd84\\ub958=\\uc808\\ub3c4\\ubc94\\uc8c4<br>Year=22<br>\\ubc94\\uc8c4\\ub300\\ubd84\\ub958=%{x}<br>\\uc11c\\uc6b8=%{y}<extra></extra>\",\"legendgroup\":\"\\uc808\\ub3c4\\ubc94\\uc8c4\",\"marker\":{\"color\":\"#FF97FF\",\"symbol\":\"circle\"},\"mode\":\"markers\",\"name\":\"\\uc808\\ub3c4\\ubc94\\uc8c4\",\"orientation\":\"v\",\"showlegend\":false,\"x\":[\"\\uc808\\ub3c4\\ubc94\\uc8c4\"],\"xaxis\":\"x5\",\"y\":[37594.0],\"yaxis\":\"y5\",\"type\":\"scatter\"},{\"hovertemplate\":\"\\ubc94\\uc8c4\\uc911\\ubd84\\ub958=\\uc808\\ub3c4\\ubc94\\uc8c4<br>Year=23<br>\\ubc94\\uc8c4\\ub300\\ubd84\\ub958=%{x}<br>\\uc11c\\uc6b8=%{y}<extra></extra>\",\"legendgroup\":\"\\uc808\\ub3c4\\ubc94\\uc8c4\",\"marker\":{\"color\":\"#FF97FF\",\"symbol\":\"circle\"},\"mode\":\"markers\",\"name\":\"\\uc808\\ub3c4\\ubc94\\uc8c4\",\"orientation\":\"v\",\"showlegend\":false,\"x\":[\"\\uc808\\ub3c4\\ubc94\\uc8c4\"],\"xaxis\":\"x6\",\"y\":[37037.0],\"yaxis\":\"y6\",\"type\":\"scatter\"},{\"hovertemplate\":\"\\ubc94\\uc8c4\\uc911\\ubd84\\ub958=\\uc0c1\\ud574<br>Year=18<br>\\ubc94\\uc8c4\\ub300\\ubd84\\ub958=%{x}<br>\\uc11c\\uc6b8=%{y}<extra></extra>\",\"legendgroup\":\"\\uc0c1\\ud574\",\"marker\":{\"color\":\"#FECB52\",\"symbol\":\"circle\"},\"mode\":\"markers\",\"name\":\"\\uc0c1\\ud574\",\"orientation\":\"v\",\"showlegend\":true,\"x\":[\"\\ud3ed\\ub825\\ubc94\\uc8c4\"],\"xaxis\":\"x\",\"y\":[5119.0],\"yaxis\":\"y\",\"type\":\"scatter\"},{\"hovertemplate\":\"\\ubc94\\uc8c4\\uc911\\ubd84\\ub958=\\uc0c1\\ud574<br>Year=19<br>\\ubc94\\uc8c4\\ub300\\ubd84\\ub958=%{x}<br>\\uc11c\\uc6b8=%{y}<extra></extra>\",\"legendgroup\":\"\\uc0c1\\ud574\",\"marker\":{\"color\":\"#FECB52\",\"symbol\":\"circle\"},\"mode\":\"markers\",\"name\":\"\\uc0c1\\ud574\",\"orientation\":\"v\",\"showlegend\":false,\"x\":[\"\\ud3ed\\ub825\\ubc94\\uc8c4\"],\"xaxis\":\"x2\",\"y\":[4598.0],\"yaxis\":\"y2\",\"type\":\"scatter\"},{\"hovertemplate\":\"\\ubc94\\uc8c4\\uc911\\ubd84\\ub958=\\uc0c1\\ud574<br>Year=20<br>\\ubc94\\uc8c4\\ub300\\ubd84\\ub958=%{x}<br>\\uc11c\\uc6b8=%{y}<extra></extra>\",\"legendgroup\":\"\\uc0c1\\ud574\",\"marker\":{\"color\":\"#FECB52\",\"symbol\":\"circle\"},\"mode\":\"markers\",\"name\":\"\\uc0c1\\ud574\",\"orientation\":\"v\",\"showlegend\":false,\"x\":[\"\\ud3ed\\ub825\\ubc94\\uc8c4\"],\"xaxis\":\"x3\",\"y\":[3858.0],\"yaxis\":\"y3\",\"type\":\"scatter\"},{\"hovertemplate\":\"\\ubc94\\uc8c4\\uc911\\ubd84\\ub958=\\uc0c1\\ud574<br>Year=21<br>\\ubc94\\uc8c4\\ub300\\ubd84\\ub958=%{x}<br>\\uc11c\\uc6b8=%{y}<extra></extra>\",\"legendgroup\":\"\\uc0c1\\ud574\",\"marker\":{\"color\":\"#FECB52\",\"symbol\":\"circle\"},\"mode\":\"markers\",\"name\":\"\\uc0c1\\ud574\",\"orientation\":\"v\",\"showlegend\":false,\"x\":[\"\\ud3ed\\ub825\\ubc94\\uc8c4\"],\"xaxis\":\"x4\",\"y\":[3153.0],\"yaxis\":\"y4\",\"type\":\"scatter\"},{\"hovertemplate\":\"\\ubc94\\uc8c4\\uc911\\ubd84\\ub958=\\uc0c1\\ud574<br>Year=22<br>\\ubc94\\uc8c4\\ub300\\ubd84\\ub958=%{x}<br>\\uc11c\\uc6b8=%{y}<extra></extra>\",\"legendgroup\":\"\\uc0c1\\ud574\",\"marker\":{\"color\":\"#FECB52\",\"symbol\":\"circle\"},\"mode\":\"markers\",\"name\":\"\\uc0c1\\ud574\",\"orientation\":\"v\",\"showlegend\":false,\"x\":[\"\\ud3ed\\ub825\\ubc94\\uc8c4\"],\"xaxis\":\"x5\",\"y\":[3353.0],\"yaxis\":\"y5\",\"type\":\"scatter\"},{\"hovertemplate\":\"\\ubc94\\uc8c4\\uc911\\ubd84\\ub958=\\uc0c1\\ud574<br>Year=23<br>\\ubc94\\uc8c4\\ub300\\ubd84\\ub958=%{x}<br>\\uc11c\\uc6b8=%{y}<extra></extra>\",\"legendgroup\":\"\\uc0c1\\ud574\",\"marker\":{\"color\":\"#FECB52\",\"symbol\":\"circle\"},\"mode\":\"markers\",\"name\":\"\\uc0c1\\ud574\",\"orientation\":\"v\",\"showlegend\":false,\"x\":[\"\\ud3ed\\ub825\\ubc94\\uc8c4\"],\"xaxis\":\"x6\",\"y\":[2870.0],\"yaxis\":\"y6\",\"type\":\"scatter\"},{\"hovertemplate\":\"\\ubc94\\uc8c4\\uc911\\ubd84\\ub958=\\ud3ed\\ud589<br>Year=18<br>\\ubc94\\uc8c4\\ub300\\ubd84\\ub958=%{x}<br>\\uc11c\\uc6b8=%{y}<extra></extra>\",\"legendgroup\":\"\\ud3ed\\ud589\",\"marker\":{\"color\":\"#636efa\",\"symbol\":\"circle\"},\"mode\":\"markers\",\"name\":\"\\ud3ed\\ud589\",\"orientation\":\"v\",\"showlegend\":true,\"x\":[\"\\ud3ed\\ub825\\ubc94\\uc8c4\"],\"xaxis\":\"x\",\"y\":[34321.0],\"yaxis\":\"y\",\"type\":\"scatter\"},{\"hovertemplate\":\"\\ubc94\\uc8c4\\uc911\\ubd84\\ub958=\\ud3ed\\ud589<br>Year=19<br>\\ubc94\\uc8c4\\ub300\\ubd84\\ub958=%{x}<br>\\uc11c\\uc6b8=%{y}<extra></extra>\",\"legendgroup\":\"\\ud3ed\\ud589\",\"marker\":{\"color\":\"#636efa\",\"symbol\":\"circle\"},\"mode\":\"markers\",\"name\":\"\\ud3ed\\ud589\",\"orientation\":\"v\",\"showlegend\":false,\"x\":[\"\\ud3ed\\ub825\\ubc94\\uc8c4\"],\"xaxis\":\"x2\",\"y\":[32893.0],\"yaxis\":\"y2\",\"type\":\"scatter\"},{\"hovertemplate\":\"\\ubc94\\uc8c4\\uc911\\ubd84\\ub958=\\ud3ed\\ud589<br>Year=20<br>\\ubc94\\uc8c4\\ub300\\ubd84\\ub958=%{x}<br>\\uc11c\\uc6b8=%{y}<extra></extra>\",\"legendgroup\":\"\\ud3ed\\ud589\",\"marker\":{\"color\":\"#636efa\",\"symbol\":\"circle\"},\"mode\":\"markers\",\"name\":\"\\ud3ed\\ud589\",\"orientation\":\"v\",\"showlegend\":false,\"x\":[\"\\ud3ed\\ub825\\ubc94\\uc8c4\"],\"xaxis\":\"x3\",\"y\":[27785.0],\"yaxis\":\"y3\",\"type\":\"scatter\"},{\"hovertemplate\":\"\\ubc94\\uc8c4\\uc911\\ubd84\\ub958=\\ud3ed\\ud589<br>Year=21<br>\\ubc94\\uc8c4\\ub300\\ubd84\\ub958=%{x}<br>\\uc11c\\uc6b8=%{y}<extra></extra>\",\"legendgroup\":\"\\ud3ed\\ud589\",\"marker\":{\"color\":\"#636efa\",\"symbol\":\"circle\"},\"mode\":\"markers\",\"name\":\"\\ud3ed\\ud589\",\"orientation\":\"v\",\"showlegend\":false,\"x\":[\"\\ud3ed\\ub825\\ubc94\\uc8c4\"],\"xaxis\":\"x4\",\"y\":[23324.0],\"yaxis\":\"y4\",\"type\":\"scatter\"},{\"hovertemplate\":\"\\ubc94\\uc8c4\\uc911\\ubd84\\ub958=\\ud3ed\\ud589<br>Year=22<br>\\ubc94\\uc8c4\\ub300\\ubd84\\ub958=%{x}<br>\\uc11c\\uc6b8=%{y}<extra></extra>\",\"legendgroup\":\"\\ud3ed\\ud589\",\"marker\":{\"color\":\"#636efa\",\"symbol\":\"circle\"},\"mode\":\"markers\",\"name\":\"\\ud3ed\\ud589\",\"orientation\":\"v\",\"showlegend\":false,\"x\":[\"\\ud3ed\\ub825\\ubc94\\uc8c4\"],\"xaxis\":\"x5\",\"y\":[26509.0],\"yaxis\":\"y5\",\"type\":\"scatter\"},{\"hovertemplate\":\"\\ubc94\\uc8c4\\uc911\\ubd84\\ub958=\\ud3ed\\ud589<br>Year=23<br>\\ubc94\\uc8c4\\ub300\\ubd84\\ub958=%{x}<br>\\uc11c\\uc6b8=%{y}<extra></extra>\",\"legendgroup\":\"\\ud3ed\\ud589\",\"marker\":{\"color\":\"#636efa\",\"symbol\":\"circle\"},\"mode\":\"markers\",\"name\":\"\\ud3ed\\ud589\",\"orientation\":\"v\",\"showlegend\":false,\"x\":[\"\\ud3ed\\ub825\\ubc94\\uc8c4\"],\"xaxis\":\"x6\",\"y\":[24404.0],\"yaxis\":\"y6\",\"type\":\"scatter\"},{\"hovertemplate\":\"\\ubc94\\uc8c4\\uc911\\ubd84\\ub958=\\uccb4\\ud3ec\\uac10\\uae08<br>Year=18<br>\\ubc94\\uc8c4\\ub300\\ubd84\\ub958=%{x}<br>\\uc11c\\uc6b8=%{y}<extra></extra>\",\"legendgroup\":\"\\uccb4\\ud3ec\\uac10\\uae08\",\"marker\":{\"color\":\"#EF553B\",\"symbol\":\"circle\"},\"mode\":\"markers\",\"name\":\"\\uccb4\\ud3ec\\uac10\\uae08\",\"orientation\":\"v\",\"showlegend\":true,\"x\":[\"\\ud3ed\\ub825\\ubc94\\uc8c4\"],\"xaxis\":\"x\",\"y\":[202.0],\"yaxis\":\"y\",\"type\":\"scatter\"},{\"hovertemplate\":\"\\ubc94\\uc8c4\\uc911\\ubd84\\ub958=\\uccb4\\ud3ec\\uac10\\uae08<br>Year=19<br>\\ubc94\\uc8c4\\ub300\\ubd84\\ub958=%{x}<br>\\uc11c\\uc6b8=%{y}<extra></extra>\",\"legendgroup\":\"\\uccb4\\ud3ec\\uac10\\uae08\",\"marker\":{\"color\":\"#EF553B\",\"symbol\":\"circle\"},\"mode\":\"markers\",\"name\":\"\\uccb4\\ud3ec\\uac10\\uae08\",\"orientation\":\"v\",\"showlegend\":false,\"x\":[\"\\ud3ed\\ub825\\ubc94\\uc8c4\"],\"xaxis\":\"x2\",\"y\":[192.0],\"yaxis\":\"y2\",\"type\":\"scatter\"},{\"hovertemplate\":\"\\ubc94\\uc8c4\\uc911\\ubd84\\ub958=\\uccb4\\ud3ec\\uac10\\uae08<br>Year=20<br>\\ubc94\\uc8c4\\ub300\\ubd84\\ub958=%{x}<br>\\uc11c\\uc6b8=%{y}<extra></extra>\",\"legendgroup\":\"\\uccb4\\ud3ec\\uac10\\uae08\",\"marker\":{\"color\":\"#EF553B\",\"symbol\":\"circle\"},\"mode\":\"markers\",\"name\":\"\\uccb4\\ud3ec\\uac10\\uae08\",\"orientation\":\"v\",\"showlegend\":false,\"x\":[\"\\ud3ed\\ub825\\ubc94\\uc8c4\"],\"xaxis\":\"x3\",\"y\":[215.0],\"yaxis\":\"y3\",\"type\":\"scatter\"},{\"hovertemplate\":\"\\ubc94\\uc8c4\\uc911\\ubd84\\ub958=\\uccb4\\ud3ec\\uac10\\uae08<br>Year=21<br>\\ubc94\\uc8c4\\ub300\\ubd84\\ub958=%{x}<br>\\uc11c\\uc6b8=%{y}<extra></extra>\",\"legendgroup\":\"\\uccb4\\ud3ec\\uac10\\uae08\",\"marker\":{\"color\":\"#EF553B\",\"symbol\":\"circle\"},\"mode\":\"markers\",\"name\":\"\\uccb4\\ud3ec\\uac10\\uae08\",\"orientation\":\"v\",\"showlegend\":false,\"x\":[\"\\ud3ed\\ub825\\ubc94\\uc8c4\"],\"xaxis\":\"x4\",\"y\":[233.0],\"yaxis\":\"y4\",\"type\":\"scatter\"},{\"hovertemplate\":\"\\ubc94\\uc8c4\\uc911\\ubd84\\ub958=\\uccb4\\ud3ec\\uac10\\uae08<br>Year=22<br>\\ubc94\\uc8c4\\ub300\\ubd84\\ub958=%{x}<br>\\uc11c\\uc6b8=%{y}<extra></extra>\",\"legendgroup\":\"\\uccb4\\ud3ec\\uac10\\uae08\",\"marker\":{\"color\":\"#EF553B\",\"symbol\":\"circle\"},\"mode\":\"markers\",\"name\":\"\\uccb4\\ud3ec\\uac10\\uae08\",\"orientation\":\"v\",\"showlegend\":false,\"x\":[\"\\ud3ed\\ub825\\ubc94\\uc8c4\"],\"xaxis\":\"x5\",\"y\":[243.0],\"yaxis\":\"y5\",\"type\":\"scatter\"},{\"hovertemplate\":\"\\ubc94\\uc8c4\\uc911\\ubd84\\ub958=\\uccb4\\ud3ec\\uac10\\uae08<br>Year=23<br>\\ubc94\\uc8c4\\ub300\\ubd84\\ub958=%{x}<br>\\uc11c\\uc6b8=%{y}<extra></extra>\",\"legendgroup\":\"\\uccb4\\ud3ec\\uac10\\uae08\",\"marker\":{\"color\":\"#EF553B\",\"symbol\":\"circle\"},\"mode\":\"markers\",\"name\":\"\\uccb4\\ud3ec\\uac10\\uae08\",\"orientation\":\"v\",\"showlegend\":false,\"x\":[\"\\ud3ed\\ub825\\ubc94\\uc8c4\"],\"xaxis\":\"x6\",\"y\":[200.0],\"yaxis\":\"y6\",\"type\":\"scatter\"},{\"hovertemplate\":\"\\ubc94\\uc8c4\\uc911\\ubd84\\ub958=\\ud611\\ubc15<br>Year=18<br>\\ubc94\\uc8c4\\ub300\\ubd84\\ub958=%{x}<br>\\uc11c\\uc6b8=%{y}<extra></extra>\",\"legendgroup\":\"\\ud611\\ubc15\",\"marker\":{\"color\":\"#00cc96\",\"symbol\":\"circle\"},\"mode\":\"markers\",\"name\":\"\\ud611\\ubc15\",\"orientation\":\"v\",\"showlegend\":true,\"x\":[\"\\ud3ed\\ub825\\ubc94\\uc8c4\"],\"xaxis\":\"x\",\"y\":[3089.0],\"yaxis\":\"y\",\"type\":\"scatter\"},{\"hovertemplate\":\"\\ubc94\\uc8c4\\uc911\\ubd84\\ub958=\\ud611\\ubc15<br>Year=19<br>\\ubc94\\uc8c4\\ub300\\ubd84\\ub958=%{x}<br>\\uc11c\\uc6b8=%{y}<extra></extra>\",\"legendgroup\":\"\\ud611\\ubc15\",\"marker\":{\"color\":\"#00cc96\",\"symbol\":\"circle\"},\"mode\":\"markers\",\"name\":\"\\ud611\\ubc15\",\"orientation\":\"v\",\"showlegend\":false,\"x\":[\"\\ud3ed\\ub825\\ubc94\\uc8c4\"],\"xaxis\":\"x2\",\"y\":[3803.0],\"yaxis\":\"y2\",\"type\":\"scatter\"},{\"hovertemplate\":\"\\ubc94\\uc8c4\\uc911\\ubd84\\ub958=\\ud611\\ubc15<br>Year=20<br>\\ubc94\\uc8c4\\ub300\\ubd84\\ub958=%{x}<br>\\uc11c\\uc6b8=%{y}<extra></extra>\",\"legendgroup\":\"\\ud611\\ubc15\",\"marker\":{\"color\":\"#00cc96\",\"symbol\":\"circle\"},\"mode\":\"markers\",\"name\":\"\\ud611\\ubc15\",\"orientation\":\"v\",\"showlegend\":false,\"x\":[\"\\ud3ed\\ub825\\ubc94\\uc8c4\"],\"xaxis\":\"x3\",\"y\":[3896.0],\"yaxis\":\"y3\",\"type\":\"scatter\"},{\"hovertemplate\":\"\\ubc94\\uc8c4\\uc911\\ubd84\\ub958=\\ud611\\ubc15<br>Year=21<br>\\ubc94\\uc8c4\\ub300\\ubd84\\ub958=%{x}<br>\\uc11c\\uc6b8=%{y}<extra></extra>\",\"legendgroup\":\"\\ud611\\ubc15\",\"marker\":{\"color\":\"#00cc96\",\"symbol\":\"circle\"},\"mode\":\"markers\",\"name\":\"\\ud611\\ubc15\",\"orientation\":\"v\",\"showlegend\":false,\"x\":[\"\\ud3ed\\ub825\\ubc94\\uc8c4\"],\"xaxis\":\"x4\",\"y\":[3806.0],\"yaxis\":\"y4\",\"type\":\"scatter\"},{\"hovertemplate\":\"\\ubc94\\uc8c4\\uc911\\ubd84\\ub958=\\ud611\\ubc15<br>Year=22<br>\\ubc94\\uc8c4\\ub300\\ubd84\\ub958=%{x}<br>\\uc11c\\uc6b8=%{y}<extra></extra>\",\"legendgroup\":\"\\ud611\\ubc15\",\"marker\":{\"color\":\"#00cc96\",\"symbol\":\"circle\"},\"mode\":\"markers\",\"name\":\"\\ud611\\ubc15\",\"orientation\":\"v\",\"showlegend\":false,\"x\":[\"\\ud3ed\\ub825\\ubc94\\uc8c4\"],\"xaxis\":\"x5\",\"y\":[4162.0],\"yaxis\":\"y5\",\"type\":\"scatter\"},{\"hovertemplate\":\"\\ubc94\\uc8c4\\uc911\\ubd84\\ub958=\\ud611\\ubc15<br>Year=23<br>\\ubc94\\uc8c4\\ub300\\ubd84\\ub958=%{x}<br>\\uc11c\\uc6b8=%{y}<extra></extra>\",\"legendgroup\":\"\\ud611\\ubc15\",\"marker\":{\"color\":\"#00cc96\",\"symbol\":\"circle\"},\"mode\":\"markers\",\"name\":\"\\ud611\\ubc15\",\"orientation\":\"v\",\"showlegend\":false,\"x\":[\"\\ud3ed\\ub825\\ubc94\\uc8c4\"],\"xaxis\":\"x6\",\"y\":[4378.0],\"yaxis\":\"y6\",\"type\":\"scatter\"},{\"hovertemplate\":\"\\ubc94\\uc8c4\\uc911\\ubd84\\ub958=\\uc57d\\ucde8\\uc720\\uc778<br>Year=18<br>\\ubc94\\uc8c4\\ub300\\ubd84\\ub958=%{x}<br>\\uc11c\\uc6b8=%{y}<extra></extra>\",\"legendgroup\":\"\\uc57d\\ucde8\\uc720\\uc778\",\"marker\":{\"color\":\"#ab63fa\",\"symbol\":\"circle\"},\"mode\":\"markers\",\"name\":\"\\uc57d\\ucde8\\uc720\\uc778\",\"orientation\":\"v\",\"showlegend\":true,\"x\":[\"\\ud3ed\\ub825\\ubc94\\uc8c4\"],\"xaxis\":\"x\",\"y\":[48.0],\"yaxis\":\"y\",\"type\":\"scatter\"},{\"hovertemplate\":\"\\ubc94\\uc8c4\\uc911\\ubd84\\ub958=\\uc57d\\ucde8\\uc720\\uc778<br>Year=19<br>\\ubc94\\uc8c4\\ub300\\ubd84\\ub958=%{x}<br>\\uc11c\\uc6b8=%{y}<extra></extra>\",\"legendgroup\":\"\\uc57d\\ucde8\\uc720\\uc778\",\"marker\":{\"color\":\"#ab63fa\",\"symbol\":\"circle\"},\"mode\":\"markers\",\"name\":\"\\uc57d\\ucde8\\uc720\\uc778\",\"orientation\":\"v\",\"showlegend\":false,\"x\":[\"\\ud3ed\\ub825\\ubc94\\uc8c4\"],\"xaxis\":\"x2\",\"y\":[60.0],\"yaxis\":\"y2\",\"type\":\"scatter\"},{\"hovertemplate\":\"\\ubc94\\uc8c4\\uc911\\ubd84\\ub958=\\uc57d\\ucde8\\uc720\\uc778<br>Year=20<br>\\ubc94\\uc8c4\\ub300\\ubd84\\ub958=%{x}<br>\\uc11c\\uc6b8=%{y}<extra></extra>\",\"legendgroup\":\"\\uc57d\\ucde8\\uc720\\uc778\",\"marker\":{\"color\":\"#ab63fa\",\"symbol\":\"circle\"},\"mode\":\"markers\",\"name\":\"\\uc57d\\ucde8\\uc720\\uc778\",\"orientation\":\"v\",\"showlegend\":false,\"x\":[\"\\ud3ed\\ub825\\ubc94\\uc8c4\"],\"xaxis\":\"x3\",\"y\":[53.0],\"yaxis\":\"y3\",\"type\":\"scatter\"},{\"hovertemplate\":\"\\ubc94\\uc8c4\\uc911\\ubd84\\ub958=\\uc57d\\ucde8\\uc720\\uc778<br>Year=21<br>\\ubc94\\uc8c4\\ub300\\ubd84\\ub958=%{x}<br>\\uc11c\\uc6b8=%{y}<extra></extra>\",\"legendgroup\":\"\\uc57d\\ucde8\\uc720\\uc778\",\"marker\":{\"color\":\"#ab63fa\",\"symbol\":\"circle\"},\"mode\":\"markers\",\"name\":\"\\uc57d\\ucde8\\uc720\\uc778\",\"orientation\":\"v\",\"showlegend\":false,\"x\":[\"\\ud3ed\\ub825\\ubc94\\uc8c4\"],\"xaxis\":\"x4\",\"y\":[54.0],\"yaxis\":\"y4\",\"type\":\"scatter\"},{\"hovertemplate\":\"\\ubc94\\uc8c4\\uc911\\ubd84\\ub958=\\uc57d\\ucde8\\uc720\\uc778<br>Year=22<br>\\ubc94\\uc8c4\\ub300\\ubd84\\ub958=%{x}<br>\\uc11c\\uc6b8=%{y}<extra></extra>\",\"legendgroup\":\"\\uc57d\\ucde8\\uc720\\uc778\",\"marker\":{\"color\":\"#ab63fa\",\"symbol\":\"circle\"},\"mode\":\"markers\",\"name\":\"\\uc57d\\ucde8\\uc720\\uc778\",\"orientation\":\"v\",\"showlegend\":false,\"x\":[\"\\ud3ed\\ub825\\ubc94\\uc8c4\"],\"xaxis\":\"x5\",\"y\":[72.0],\"yaxis\":\"y5\",\"type\":\"scatter\"},{\"hovertemplate\":\"\\ubc94\\uc8c4\\uc911\\ubd84\\ub958=\\ud3ed\\ub825\\ud589\\uc704\\ub4f1<br>Year=18<br>\\ubc94\\uc8c4\\ub300\\ubd84\\ub958=%{x}<br>\\uc11c\\uc6b8=%{y}<extra></extra>\",\"legendgroup\":\"\\ud3ed\\ub825\\ud589\\uc704\\ub4f1\",\"marker\":{\"color\":\"#FFA15A\",\"symbol\":\"circle\"},\"mode\":\"markers\",\"name\":\"\\ud3ed\\ub825\\ud589\\uc704\\ub4f1\",\"orientation\":\"v\",\"showlegend\":true,\"x\":[\"\\ud3ed\\ub825\\ubc94\\uc8c4\"],\"xaxis\":\"x\",\"y\":[1697.0],\"yaxis\":\"y\",\"type\":\"scatter\"},{\"hovertemplate\":\"\\ubc94\\uc8c4\\uc911\\ubd84\\ub958=\\ud3ed\\ub825\\ud589\\uc704\\ub4f1<br>Year=19<br>\\ubc94\\uc8c4\\ub300\\ubd84\\ub958=%{x}<br>\\uc11c\\uc6b8=%{y}<extra></extra>\",\"legendgroup\":\"\\ud3ed\\ub825\\ud589\\uc704\\ub4f1\",\"marker\":{\"color\":\"#FFA15A\",\"symbol\":\"circle\"},\"mode\":\"markers\",\"name\":\"\\ud3ed\\ub825\\ud589\\uc704\\ub4f1\",\"orientation\":\"v\",\"showlegend\":false,\"x\":[\"\\ud3ed\\ub825\\ubc94\\uc8c4\"],\"xaxis\":\"x2\",\"y\":[1547.0],\"yaxis\":\"y2\",\"type\":\"scatter\"},{\"hovertemplate\":\"\\ubc94\\uc8c4\\uc911\\ubd84\\ub958=\\ud3ed\\ub825\\ud589\\uc704\\ub4f1<br>Year=20<br>\\ubc94\\uc8c4\\ub300\\ubd84\\ub958=%{x}<br>\\uc11c\\uc6b8=%{y}<extra></extra>\",\"legendgroup\":\"\\ud3ed\\ub825\\ud589\\uc704\\ub4f1\",\"marker\":{\"color\":\"#FFA15A\",\"symbol\":\"circle\"},\"mode\":\"markers\",\"name\":\"\\ud3ed\\ub825\\ud589\\uc704\\ub4f1\",\"orientation\":\"v\",\"showlegend\":false,\"x\":[\"\\ud3ed\\ub825\\ubc94\\uc8c4\"],\"xaxis\":\"x3\",\"y\":[1187.0],\"yaxis\":\"y3\",\"type\":\"scatter\"},{\"hovertemplate\":\"\\ubc94\\uc8c4\\uc911\\ubd84\\ub958=\\ud3ed\\ub825\\ud589\\uc704\\ub4f1<br>Year=21<br>\\ubc94\\uc8c4\\ub300\\ubd84\\ub958=%{x}<br>\\uc11c\\uc6b8=%{y}<extra></extra>\",\"legendgroup\":\"\\ud3ed\\ub825\\ud589\\uc704\\ub4f1\",\"marker\":{\"color\":\"#FFA15A\",\"symbol\":\"circle\"},\"mode\":\"markers\",\"name\":\"\\ud3ed\\ub825\\ud589\\uc704\\ub4f1\",\"orientation\":\"v\",\"showlegend\":false,\"x\":[\"\\ud3ed\\ub825\\ubc94\\uc8c4\"],\"xaxis\":\"x4\",\"y\":[932.0],\"yaxis\":\"y4\",\"type\":\"scatter\"},{\"hovertemplate\":\"\\ubc94\\uc8c4\\uc911\\ubd84\\ub958=\\ud3ed\\ub825\\ud589\\uc704\\ub4f1<br>Year=22<br>\\ubc94\\uc8c4\\ub300\\ubd84\\ub958=%{x}<br>\\uc11c\\uc6b8=%{y}<extra></extra>\",\"legendgroup\":\"\\ud3ed\\ub825\\ud589\\uc704\\ub4f1\",\"marker\":{\"color\":\"#FFA15A\",\"symbol\":\"circle\"},\"mode\":\"markers\",\"name\":\"\\ud3ed\\ub825\\ud589\\uc704\\ub4f1\",\"orientation\":\"v\",\"showlegend\":false,\"x\":[\"\\ud3ed\\ub825\\ubc94\\uc8c4\"],\"xaxis\":\"x5\",\"y\":[1075.0],\"yaxis\":\"y5\",\"type\":\"scatter\"},{\"hovertemplate\":\"\\ubc94\\uc8c4\\uc911\\ubd84\\ub958=\\ud3ed\\ub825\\ud589\\uc704\\ub4f1<br>Year=23<br>\\ubc94\\uc8c4\\ub300\\ubd84\\ub958=%{x}<br>\\uc11c\\uc6b8=%{y}<extra></extra>\",\"legendgroup\":\"\\ud3ed\\ub825\\ud589\\uc704\\ub4f1\",\"marker\":{\"color\":\"#FFA15A\",\"symbol\":\"circle\"},\"mode\":\"markers\",\"name\":\"\\ud3ed\\ub825\\ud589\\uc704\\ub4f1\",\"orientation\":\"v\",\"showlegend\":false,\"x\":[\"\\ud3ed\\ub825\\ubc94\\uc8c4\"],\"xaxis\":\"x6\",\"y\":[1044.0],\"yaxis\":\"y6\",\"type\":\"scatter\"},{\"hovertemplate\":\"\\ubc94\\uc8c4\\uc911\\ubd84\\ub958=\\uacf5\\uac08<br>Year=18<br>\\ubc94\\uc8c4\\ub300\\ubd84\\ub958=%{x}<br>\\uc11c\\uc6b8=%{y}<extra></extra>\",\"legendgroup\":\"\\uacf5\\uac08\",\"marker\":{\"color\":\"#19d3f3\",\"symbol\":\"circle\"},\"mode\":\"markers\",\"name\":\"\\uacf5\\uac08\",\"orientation\":\"v\",\"showlegend\":true,\"x\":[\"\\ud3ed\\ub825\\ubc94\\uc8c4\"],\"xaxis\":\"x\",\"y\":[769.0],\"yaxis\":\"y\",\"type\":\"scatter\"},{\"hovertemplate\":\"\\ubc94\\uc8c4\\uc911\\ubd84\\ub958=\\uacf5\\uac08<br>Year=19<br>\\ubc94\\uc8c4\\ub300\\ubd84\\ub958=%{x}<br>\\uc11c\\uc6b8=%{y}<extra></extra>\",\"legendgroup\":\"\\uacf5\\uac08\",\"marker\":{\"color\":\"#19d3f3\",\"symbol\":\"circle\"},\"mode\":\"markers\",\"name\":\"\\uacf5\\uac08\",\"orientation\":\"v\",\"showlegend\":false,\"x\":[\"\\ud3ed\\ub825\\ubc94\\uc8c4\"],\"xaxis\":\"x2\",\"y\":[959.0],\"yaxis\":\"y2\",\"type\":\"scatter\"},{\"hovertemplate\":\"\\ubc94\\uc8c4\\uc911\\ubd84\\ub958=\\uacf5\\uac08<br>Year=20<br>\\ubc94\\uc8c4\\ub300\\ubd84\\ub958=%{x}<br>\\uc11c\\uc6b8=%{y}<extra></extra>\",\"legendgroup\":\"\\uacf5\\uac08\",\"marker\":{\"color\":\"#19d3f3\",\"symbol\":\"circle\"},\"mode\":\"markers\",\"name\":\"\\uacf5\\uac08\",\"orientation\":\"v\",\"showlegend\":false,\"x\":[\"\\ud3ed\\ub825\\ubc94\\uc8c4\"],\"xaxis\":\"x3\",\"y\":[879.0],\"yaxis\":\"y3\",\"type\":\"scatter\"},{\"hovertemplate\":\"\\ubc94\\uc8c4\\uc911\\ubd84\\ub958=\\uacf5\\uac08<br>Year=21<br>\\ubc94\\uc8c4\\ub300\\ubd84\\ub958=%{x}<br>\\uc11c\\uc6b8=%{y}<extra></extra>\",\"legendgroup\":\"\\uacf5\\uac08\",\"marker\":{\"color\":\"#19d3f3\",\"symbol\":\"circle\"},\"mode\":\"markers\",\"name\":\"\\uacf5\\uac08\",\"orientation\":\"v\",\"showlegend\":false,\"x\":[\"\\ud3ed\\ub825\\ubc94\\uc8c4\"],\"xaxis\":\"x4\",\"y\":[881.0],\"yaxis\":\"y4\",\"type\":\"scatter\"},{\"hovertemplate\":\"\\ubc94\\uc8c4\\uc911\\ubd84\\ub958=\\uacf5\\uac08<br>Year=22<br>\\ubc94\\uc8c4\\ub300\\ubd84\\ub958=%{x}<br>\\uc11c\\uc6b8=%{y}<extra></extra>\",\"legendgroup\":\"\\uacf5\\uac08\",\"marker\":{\"color\":\"#19d3f3\",\"symbol\":\"circle\"},\"mode\":\"markers\",\"name\":\"\\uacf5\\uac08\",\"orientation\":\"v\",\"showlegend\":false,\"x\":[\"\\ud3ed\\ub825\\ubc94\\uc8c4\"],\"xaxis\":\"x5\",\"y\":[1056.0],\"yaxis\":\"y5\",\"type\":\"scatter\"},{\"hovertemplate\":\"\\ubc94\\uc8c4\\uc911\\ubd84\\ub958=\\uacf5\\uac08<br>Year=23<br>\\ubc94\\uc8c4\\ub300\\ubd84\\ub958=%{x}<br>\\uc11c\\uc6b8=%{y}<extra></extra>\",\"legendgroup\":\"\\uacf5\\uac08\",\"marker\":{\"color\":\"#19d3f3\",\"symbol\":\"circle\"},\"mode\":\"markers\",\"name\":\"\\uacf5\\uac08\",\"orientation\":\"v\",\"showlegend\":false,\"x\":[\"\\ud3ed\\ub825\\ubc94\\uc8c4\"],\"xaxis\":\"x6\",\"y\":[1222.0],\"yaxis\":\"y6\",\"type\":\"scatter\"},{\"hovertemplate\":\"\\ubc94\\uc8c4\\uc911\\ubd84\\ub958=\\uc190\\uad34<br>Year=18<br>\\ubc94\\uc8c4\\ub300\\ubd84\\ub958=%{x}<br>\\uc11c\\uc6b8=%{y}<extra></extra>\",\"legendgroup\":\"\\uc190\\uad34\",\"marker\":{\"color\":\"#FF6692\",\"symbol\":\"circle\"},\"mode\":\"markers\",\"name\":\"\\uc190\\uad34\",\"orientation\":\"v\",\"showlegend\":true,\"x\":[\"\\ud3ed\\ub825\\ubc94\\uc8c4\"],\"xaxis\":\"x\",\"y\":[10845.0],\"yaxis\":\"y\",\"type\":\"scatter\"},{\"hovertemplate\":\"\\ubc94\\uc8c4\\uc911\\ubd84\\ub958=\\uc190\\uad34<br>Year=19<br>\\ubc94\\uc8c4\\ub300\\ubd84\\ub958=%{x}<br>\\uc11c\\uc6b8=%{y}<extra></extra>\",\"legendgroup\":\"\\uc190\\uad34\",\"marker\":{\"color\":\"#FF6692\",\"symbol\":\"circle\"},\"mode\":\"markers\",\"name\":\"\\uc190\\uad34\",\"orientation\":\"v\",\"showlegend\":false,\"x\":[\"\\ud3ed\\ub825\\ubc94\\uc8c4\"],\"xaxis\":\"x2\",\"y\":[10636.0],\"yaxis\":\"y2\",\"type\":\"scatter\"},{\"hovertemplate\":\"\\ubc94\\uc8c4\\uc911\\ubd84\\ub958=\\uc190\\uad34<br>Year=20<br>\\ubc94\\uc8c4\\ub300\\ubd84\\ub958=%{x}<br>\\uc11c\\uc6b8=%{y}<extra></extra>\",\"legendgroup\":\"\\uc190\\uad34\",\"marker\":{\"color\":\"#FF6692\",\"symbol\":\"circle\"},\"mode\":\"markers\",\"name\":\"\\uc190\\uad34\",\"orientation\":\"v\",\"showlegend\":false,\"x\":[\"\\ud3ed\\ub825\\ubc94\\uc8c4\"],\"xaxis\":\"x3\",\"y\":[10435.0],\"yaxis\":\"y3\",\"type\":\"scatter\"},{\"hovertemplate\":\"\\ubc94\\uc8c4\\uc911\\ubd84\\ub958=\\uc190\\uad34<br>Year=21<br>\\ubc94\\uc8c4\\ub300\\ubd84\\ub958=%{x}<br>\\uc11c\\uc6b8=%{y}<extra></extra>\",\"legendgroup\":\"\\uc190\\uad34\",\"marker\":{\"color\":\"#FF6692\",\"symbol\":\"circle\"},\"mode\":\"markers\",\"name\":\"\\uc190\\uad34\",\"orientation\":\"v\",\"showlegend\":false,\"x\":[\"\\ud3ed\\ub825\\ubc94\\uc8c4\"],\"xaxis\":\"x4\",\"y\":[9365.0],\"yaxis\":\"y4\",\"type\":\"scatter\"},{\"hovertemplate\":\"\\ubc94\\uc8c4\\uc911\\ubd84\\ub958=\\uc190\\uad34<br>Year=22<br>\\ubc94\\uc8c4\\ub300\\ubd84\\ub958=%{x}<br>\\uc11c\\uc6b8=%{y}<extra></extra>\",\"legendgroup\":\"\\uc190\\uad34\",\"marker\":{\"color\":\"#FF6692\",\"symbol\":\"circle\"},\"mode\":\"markers\",\"name\":\"\\uc190\\uad34\",\"orientation\":\"v\",\"showlegend\":false,\"x\":[\"\\ud3ed\\ub825\\ubc94\\uc8c4\"],\"xaxis\":\"x5\",\"y\":[10240.0],\"yaxis\":\"y5\",\"type\":\"scatter\"},{\"hovertemplate\":\"\\ubc94\\uc8c4\\uc911\\ubd84\\ub958=\\uc190\\uad34<br>Year=23<br>\\ubc94\\uc8c4\\ub300\\ubd84\\ub958=%{x}<br>\\uc11c\\uc6b8=%{y}<extra></extra>\",\"legendgroup\":\"\\uc190\\uad34\",\"marker\":{\"color\":\"#FF6692\",\"symbol\":\"circle\"},\"mode\":\"markers\",\"name\":\"\\uc190\\uad34\",\"orientation\":\"v\",\"showlegend\":false,\"x\":[\"\\ud3ed\\ub825\\ubc94\\uc8c4\"],\"xaxis\":\"x6\",\"y\":[8895.0],\"yaxis\":\"y6\",\"type\":\"scatter\"},{\"hovertemplate\":\"\\ubc94\\uc8c4\\uc911\\ubd84\\ub958=\\uc9c1\\ubb34\\uc720\\uae30<br>Year=18<br>\\ubc94\\uc8c4\\ub300\\ubd84\\ub958=%{x}<br>\\uc11c\\uc6b8=%{y}<extra></extra>\",\"legendgroup\":\"\\uc9c1\\ubb34\\uc720\\uae30\",\"marker\":{\"color\":\"#B6E880\",\"symbol\":\"circle\"},\"mode\":\"markers\",\"name\":\"\\uc9c1\\ubb34\\uc720\\uae30\",\"orientation\":\"v\",\"showlegend\":true,\"x\":[\"\\uc9c0\\ub2a5\\ubc94\\uc8c4\"],\"xaxis\":\"x\",\"y\":[147.0],\"yaxis\":\"y\",\"type\":\"scatter\"},{\"hovertemplate\":\"\\ubc94\\uc8c4\\uc911\\ubd84\\ub958=\\uc9c1\\ubb34\\uc720\\uae30<br>Year=19<br>\\ubc94\\uc8c4\\ub300\\ubd84\\ub958=%{x}<br>\\uc11c\\uc6b8=%{y}<extra></extra>\",\"legendgroup\":\"\\uc9c1\\ubb34\\uc720\\uae30\",\"marker\":{\"color\":\"#B6E880\",\"symbol\":\"circle\"},\"mode\":\"markers\",\"name\":\"\\uc9c1\\ubb34\\uc720\\uae30\",\"orientation\":\"v\",\"showlegend\":false,\"x\":[\"\\uc9c0\\ub2a5\\ubc94\\uc8c4\"],\"xaxis\":\"x2\",\"y\":[143.0],\"yaxis\":\"y2\",\"type\":\"scatter\"},{\"hovertemplate\":\"\\ubc94\\uc8c4\\uc911\\ubd84\\ub958=\\uc9c1\\ubb34\\uc720\\uae30<br>Year=20<br>\\ubc94\\uc8c4\\ub300\\ubd84\\ub958=%{x}<br>\\uc11c\\uc6b8=%{y}<extra></extra>\",\"legendgroup\":\"\\uc9c1\\ubb34\\uc720\\uae30\",\"marker\":{\"color\":\"#B6E880\",\"symbol\":\"circle\"},\"mode\":\"markers\",\"name\":\"\\uc9c1\\ubb34\\uc720\\uae30\",\"orientation\":\"v\",\"showlegend\":false,\"x\":[\"\\uc9c0\\ub2a5\\ubc94\\uc8c4\"],\"xaxis\":\"x3\",\"y\":[166.0],\"yaxis\":\"y3\",\"type\":\"scatter\"},{\"hovertemplate\":\"\\ubc94\\uc8c4\\uc911\\ubd84\\ub958=\\uc9c1\\ubb34\\uc720\\uae30<br>Year=21<br>\\ubc94\\uc8c4\\ub300\\ubd84\\ub958=%{x}<br>\\uc11c\\uc6b8=%{y}<extra></extra>\",\"legendgroup\":\"\\uc9c1\\ubb34\\uc720\\uae30\",\"marker\":{\"color\":\"#B6E880\",\"symbol\":\"circle\"},\"mode\":\"markers\",\"name\":\"\\uc9c1\\ubb34\\uc720\\uae30\",\"orientation\":\"v\",\"showlegend\":false,\"x\":[\"\\uc9c0\\ub2a5\\ubc94\\uc8c4\"],\"xaxis\":\"x4\",\"y\":[221.0],\"yaxis\":\"y4\",\"type\":\"scatter\"},{\"hovertemplate\":\"\\ubc94\\uc8c4\\uc911\\ubd84\\ub958=\\uc9c1\\ubb34\\uc720\\uae30<br>Year=22<br>\\ubc94\\uc8c4\\ub300\\ubd84\\ub958=%{x}<br>\\uc11c\\uc6b8=%{y}<extra></extra>\",\"legendgroup\":\"\\uc9c1\\ubb34\\uc720\\uae30\",\"marker\":{\"color\":\"#B6E880\",\"symbol\":\"circle\"},\"mode\":\"markers\",\"name\":\"\\uc9c1\\ubb34\\uc720\\uae30\",\"orientation\":\"v\",\"showlegend\":false,\"x\":[\"\\uc9c0\\ub2a5\\ubc94\\uc8c4\"],\"xaxis\":\"x5\",\"y\":[353.0],\"yaxis\":\"y5\",\"type\":\"scatter\"},{\"hovertemplate\":\"\\ubc94\\uc8c4\\uc911\\ubd84\\ub958=\\uc9c1\\ubb34\\uc720\\uae30<br>Year=23<br>\\ubc94\\uc8c4\\ub300\\ubd84\\ub958=%{x}<br>\\uc11c\\uc6b8=%{y}<extra></extra>\",\"legendgroup\":\"\\uc9c1\\ubb34\\uc720\\uae30\",\"marker\":{\"color\":\"#B6E880\",\"symbol\":\"circle\"},\"mode\":\"markers\",\"name\":\"\\uc9c1\\ubb34\\uc720\\uae30\",\"orientation\":\"v\",\"showlegend\":false,\"x\":[\"\\uc9c0\\ub2a5\\ubc94\\uc8c4\"],\"xaxis\":\"x6\",\"y\":[317.0],\"yaxis\":\"y6\",\"type\":\"scatter\"},{\"hovertemplate\":\"\\ubc94\\uc8c4\\uc911\\ubd84\\ub958=\\uc9c1\\uad8c\\ub0a8\\uc6a9<br>Year=18<br>\\ubc94\\uc8c4\\ub300\\ubd84\\ub958=%{x}<br>\\uc11c\\uc6b8=%{y}<extra></extra>\",\"legendgroup\":\"\\uc9c1\\uad8c\\ub0a8\\uc6a9\",\"marker\":{\"color\":\"#FF97FF\",\"symbol\":\"circle\"},\"mode\":\"markers\",\"name\":\"\\uc9c1\\uad8c\\ub0a8\\uc6a9\",\"orientation\":\"v\",\"showlegend\":true,\"x\":[\"\\uc9c0\\ub2a5\\ubc94\\uc8c4\"],\"xaxis\":\"x\",\"y\":[191.0],\"yaxis\":\"y\",\"type\":\"scatter\"},{\"hovertemplate\":\"\\ubc94\\uc8c4\\uc911\\ubd84\\ub958=\\uc9c1\\uad8c\\ub0a8\\uc6a9<br>Year=19<br>\\ubc94\\uc8c4\\ub300\\ubd84\\ub958=%{x}<br>\\uc11c\\uc6b8=%{y}<extra></extra>\",\"legendgroup\":\"\\uc9c1\\uad8c\\ub0a8\\uc6a9\",\"marker\":{\"color\":\"#FF97FF\",\"symbol\":\"circle\"},\"mode\":\"markers\",\"name\":\"\\uc9c1\\uad8c\\ub0a8\\uc6a9\",\"orientation\":\"v\",\"showlegend\":false,\"x\":[\"\\uc9c0\\ub2a5\\ubc94\\uc8c4\"],\"xaxis\":\"x2\",\"y\":[201.0],\"yaxis\":\"y2\",\"type\":\"scatter\"},{\"hovertemplate\":\"\\ubc94\\uc8c4\\uc911\\ubd84\\ub958=\\uc9c1\\uad8c\\ub0a8\\uc6a9<br>Year=20<br>\\ubc94\\uc8c4\\ub300\\ubd84\\ub958=%{x}<br>\\uc11c\\uc6b8=%{y}<extra></extra>\",\"legendgroup\":\"\\uc9c1\\uad8c\\ub0a8\\uc6a9\",\"marker\":{\"color\":\"#FF97FF\",\"symbol\":\"circle\"},\"mode\":\"markers\",\"name\":\"\\uc9c1\\uad8c\\ub0a8\\uc6a9\",\"orientation\":\"v\",\"showlegend\":false,\"x\":[\"\\uc9c0\\ub2a5\\ubc94\\uc8c4\"],\"xaxis\":\"x3\",\"y\":[181.0],\"yaxis\":\"y3\",\"type\":\"scatter\"},{\"hovertemplate\":\"\\ubc94\\uc8c4\\uc911\\ubd84\\ub958=\\uc9c1\\uad8c\\ub0a8\\uc6a9<br>Year=21<br>\\ubc94\\uc8c4\\ub300\\ubd84\\ub958=%{x}<br>\\uc11c\\uc6b8=%{y}<extra></extra>\",\"legendgroup\":\"\\uc9c1\\uad8c\\ub0a8\\uc6a9\",\"marker\":{\"color\":\"#FF97FF\",\"symbol\":\"circle\"},\"mode\":\"markers\",\"name\":\"\\uc9c1\\uad8c\\ub0a8\\uc6a9\",\"orientation\":\"v\",\"showlegend\":false,\"x\":[\"\\uc9c0\\ub2a5\\ubc94\\uc8c4\"],\"xaxis\":\"x4\",\"y\":[238.0],\"yaxis\":\"y4\",\"type\":\"scatter\"},{\"hovertemplate\":\"\\ubc94\\uc8c4\\uc911\\ubd84\\ub958=\\uc9c1\\uad8c\\ub0a8\\uc6a9<br>Year=22<br>\\ubc94\\uc8c4\\ub300\\ubd84\\ub958=%{x}<br>\\uc11c\\uc6b8=%{y}<extra></extra>\",\"legendgroup\":\"\\uc9c1\\uad8c\\ub0a8\\uc6a9\",\"marker\":{\"color\":\"#FF97FF\",\"symbol\":\"circle\"},\"mode\":\"markers\",\"name\":\"\\uc9c1\\uad8c\\ub0a8\\uc6a9\",\"orientation\":\"v\",\"showlegend\":false,\"x\":[\"\\uc9c0\\ub2a5\\ubc94\\uc8c4\"],\"xaxis\":\"x5\",\"y\":[392.0],\"yaxis\":\"y5\",\"type\":\"scatter\"},{\"hovertemplate\":\"\\ubc94\\uc8c4\\uc911\\ubd84\\ub958=\\uc9c1\\uad8c\\ub0a8\\uc6a9<br>Year=23<br>\\ubc94\\uc8c4\\ub300\\ubd84\\ub958=%{x}<br>\\uc11c\\uc6b8=%{y}<extra></extra>\",\"legendgroup\":\"\\uc9c1\\uad8c\\ub0a8\\uc6a9\",\"marker\":{\"color\":\"#FF97FF\",\"symbol\":\"circle\"},\"mode\":\"markers\",\"name\":\"\\uc9c1\\uad8c\\ub0a8\\uc6a9\",\"orientation\":\"v\",\"showlegend\":false,\"x\":[\"\\uc9c0\\ub2a5\\ubc94\\uc8c4\"],\"xaxis\":\"x6\",\"y\":[402.0],\"yaxis\":\"y6\",\"type\":\"scatter\"},{\"hovertemplate\":\"\\ubc94\\uc8c4\\uc911\\ubd84\\ub958=\\uc99d\\uc218\\ub8b0<br>Year=18<br>\\ubc94\\uc8c4\\ub300\\ubd84\\ub958=%{x}<br>\\uc11c\\uc6b8=%{y}<extra></extra>\",\"legendgroup\":\"\\uc99d\\uc218\\ub8b0\",\"marker\":{\"color\":\"#FECB52\",\"symbol\":\"circle\"},\"mode\":\"markers\",\"name\":\"\\uc99d\\uc218\\ub8b0\",\"orientation\":\"v\",\"showlegend\":true,\"x\":[\"\\uc9c0\\ub2a5\\ubc94\\uc8c4\"],\"xaxis\":\"x\",\"y\":[62.0],\"yaxis\":\"y\",\"type\":\"scatter\"},{\"hovertemplate\":\"\\ubc94\\uc8c4\\uc911\\ubd84\\ub958=\\uc99d\\uc218\\ub8b0<br>Year=19<br>\\ubc94\\uc8c4\\ub300\\ubd84\\ub958=%{x}<br>\\uc11c\\uc6b8=%{y}<extra></extra>\",\"legendgroup\":\"\\uc99d\\uc218\\ub8b0\",\"marker\":{\"color\":\"#FECB52\",\"symbol\":\"circle\"},\"mode\":\"markers\",\"name\":\"\\uc99d\\uc218\\ub8b0\",\"orientation\":\"v\",\"showlegend\":false,\"x\":[\"\\uc9c0\\ub2a5\\ubc94\\uc8c4\"],\"xaxis\":\"x2\",\"y\":[60.0],\"yaxis\":\"y2\",\"type\":\"scatter\"},{\"hovertemplate\":\"\\ubc94\\uc8c4\\uc911\\ubd84\\ub958=\\uc99d\\uc218\\ub8b0<br>Year=20<br>\\ubc94\\uc8c4\\ub300\\ubd84\\ub958=%{x}<br>\\uc11c\\uc6b8=%{y}<extra></extra>\",\"legendgroup\":\"\\uc99d\\uc218\\ub8b0\",\"marker\":{\"color\":\"#FECB52\",\"symbol\":\"circle\"},\"mode\":\"markers\",\"name\":\"\\uc99d\\uc218\\ub8b0\",\"orientation\":\"v\",\"showlegend\":false,\"x\":[\"\\uc9c0\\ub2a5\\ubc94\\uc8c4\"],\"xaxis\":\"x3\",\"y\":[61.0],\"yaxis\":\"y3\",\"type\":\"scatter\"},{\"hovertemplate\":\"\\ubc94\\uc8c4\\uc911\\ubd84\\ub958=\\uc99d\\uc218\\ub8b0<br>Year=21<br>\\ubc94\\uc8c4\\ub300\\ubd84\\ub958=%{x}<br>\\uc11c\\uc6b8=%{y}<extra></extra>\",\"legendgroup\":\"\\uc99d\\uc218\\ub8b0\",\"marker\":{\"color\":\"#FECB52\",\"symbol\":\"circle\"},\"mode\":\"markers\",\"name\":\"\\uc99d\\uc218\\ub8b0\",\"orientation\":\"v\",\"showlegend\":false,\"x\":[\"\\uc9c0\\ub2a5\\ubc94\\uc8c4\"],\"xaxis\":\"x4\",\"y\":[50.0],\"yaxis\":\"y4\",\"type\":\"scatter\"},{\"hovertemplate\":\"\\ubc94\\uc8c4\\uc911\\ubd84\\ub958=\\uc99d\\uc218\\ub8b0<br>Year=22<br>\\ubc94\\uc8c4\\ub300\\ubd84\\ub958=%{x}<br>\\uc11c\\uc6b8=%{y}<extra></extra>\",\"legendgroup\":\"\\uc99d\\uc218\\ub8b0\",\"marker\":{\"color\":\"#FECB52\",\"symbol\":\"circle\"},\"mode\":\"markers\",\"name\":\"\\uc99d\\uc218\\ub8b0\",\"orientation\":\"v\",\"showlegend\":false,\"x\":[\"\\uc9c0\\ub2a5\\ubc94\\uc8c4\"],\"xaxis\":\"x5\",\"y\":[71.0],\"yaxis\":\"y5\",\"type\":\"scatter\"},{\"hovertemplate\":\"\\ubc94\\uc8c4\\uc911\\ubd84\\ub958=\\uc99d\\uc218\\ub8b0<br>Year=23<br>\\ubc94\\uc8c4\\ub300\\ubd84\\ub958=%{x}<br>\\uc11c\\uc6b8=%{y}<extra></extra>\",\"legendgroup\":\"\\uc99d\\uc218\\ub8b0\",\"marker\":{\"color\":\"#FECB52\",\"symbol\":\"circle\"},\"mode\":\"markers\",\"name\":\"\\uc99d\\uc218\\ub8b0\",\"orientation\":\"v\",\"showlegend\":false,\"x\":[\"\\uc9c0\\ub2a5\\ubc94\\uc8c4\"],\"xaxis\":\"x6\",\"y\":[50.0],\"yaxis\":\"y6\",\"type\":\"scatter\"},{\"hovertemplate\":\"\\ubc94\\uc8c4\\uc911\\ubd84\\ub958=\\ud1b5\\ud654<br>Year=18<br>\\ubc94\\uc8c4\\ub300\\ubd84\\ub958=%{x}<br>\\uc11c\\uc6b8=%{y}<extra></extra>\",\"legendgroup\":\"\\ud1b5\\ud654\",\"marker\":{\"color\":\"#636efa\",\"symbol\":\"circle\"},\"mode\":\"markers\",\"name\":\"\\ud1b5\\ud654\",\"orientation\":\"v\",\"showlegend\":true,\"x\":[\"\\uc9c0\\ub2a5\\ubc94\\uc8c4\"],\"xaxis\":\"x\",\"y\":[450.0],\"yaxis\":\"y\",\"type\":\"scatter\"},{\"hovertemplate\":\"\\ubc94\\uc8c4\\uc911\\ubd84\\ub958=\\ud1b5\\ud654<br>Year=19<br>\\ubc94\\uc8c4\\ub300\\ubd84\\ub958=%{x}<br>\\uc11c\\uc6b8=%{y}<extra></extra>\",\"legendgroup\":\"\\ud1b5\\ud654\",\"marker\":{\"color\":\"#636efa\",\"symbol\":\"circle\"},\"mode\":\"markers\",\"name\":\"\\ud1b5\\ud654\",\"orientation\":\"v\",\"showlegend\":false,\"x\":[\"\\uc9c0\\ub2a5\\ubc94\\uc8c4\"],\"xaxis\":\"x2\",\"y\":[418.0],\"yaxis\":\"y2\",\"type\":\"scatter\"},{\"hovertemplate\":\"\\ubc94\\uc8c4\\uc911\\ubd84\\ub958=\\ud1b5\\ud654<br>Year=20<br>\\ubc94\\uc8c4\\ub300\\ubd84\\ub958=%{x}<br>\\uc11c\\uc6b8=%{y}<extra></extra>\",\"legendgroup\":\"\\ud1b5\\ud654\",\"marker\":{\"color\":\"#636efa\",\"symbol\":\"circle\"},\"mode\":\"markers\",\"name\":\"\\ud1b5\\ud654\",\"orientation\":\"v\",\"showlegend\":false,\"x\":[\"\\uc9c0\\ub2a5\\ubc94\\uc8c4\"],\"xaxis\":\"x3\",\"y\":[206.0],\"yaxis\":\"y3\",\"type\":\"scatter\"},{\"hovertemplate\":\"\\ubc94\\uc8c4\\uc911\\ubd84\\ub958=\\ud1b5\\ud654<br>Year=21<br>\\ubc94\\uc8c4\\ub300\\ubd84\\ub958=%{x}<br>\\uc11c\\uc6b8=%{y}<extra></extra>\",\"legendgroup\":\"\\ud1b5\\ud654\",\"marker\":{\"color\":\"#636efa\",\"symbol\":\"circle\"},\"mode\":\"markers\",\"name\":\"\\ud1b5\\ud654\",\"orientation\":\"v\",\"showlegend\":false,\"x\":[\"\\uc9c0\\ub2a5\\ubc94\\uc8c4\"],\"xaxis\":\"x4\",\"y\":[125.0],\"yaxis\":\"y4\",\"type\":\"scatter\"},{\"hovertemplate\":\"\\ubc94\\uc8c4\\uc911\\ubd84\\ub958=\\ud1b5\\ud654<br>Year=22<br>\\ubc94\\uc8c4\\ub300\\ubd84\\ub958=%{x}<br>\\uc11c\\uc6b8=%{y}<extra></extra>\",\"legendgroup\":\"\\ud1b5\\ud654\",\"marker\":{\"color\":\"#636efa\",\"symbol\":\"circle\"},\"mode\":\"markers\",\"name\":\"\\ud1b5\\ud654\",\"orientation\":\"v\",\"showlegend\":false,\"x\":[\"\\uc9c0\\ub2a5\\ubc94\\uc8c4\"],\"xaxis\":\"x5\",\"y\":[172.0],\"yaxis\":\"y5\",\"type\":\"scatter\"},{\"hovertemplate\":\"\\ubc94\\uc8c4\\uc911\\ubd84\\ub958=\\ud1b5\\ud654<br>Year=23<br>\\ubc94\\uc8c4\\ub300\\ubd84\\ub958=%{x}<br>\\uc11c\\uc6b8=%{y}<extra></extra>\",\"legendgroup\":\"\\ud1b5\\ud654\",\"marker\":{\"color\":\"#636efa\",\"symbol\":\"circle\"},\"mode\":\"markers\",\"name\":\"\\ud1b5\\ud654\",\"orientation\":\"v\",\"showlegend\":false,\"x\":[\"\\uc9c0\\ub2a5\\ubc94\\uc8c4\"],\"xaxis\":\"x6\",\"y\":[192.0],\"yaxis\":\"y6\",\"type\":\"scatter\"},{\"hovertemplate\":\"\\ubc94\\uc8c4\\uc911\\ubd84\\ub958=\\ubb38\\uc11c\\uc778\\uc7a5<br>Year=18<br>\\ubc94\\uc8c4\\ub300\\ubd84\\ub958=%{x}<br>\\uc11c\\uc6b8=%{y}<extra></extra>\",\"legendgroup\":\"\\ubb38\\uc11c\\uc778\\uc7a5\",\"marker\":{\"color\":\"#EF553B\",\"symbol\":\"circle\"},\"mode\":\"markers\",\"name\":\"\\ubb38\\uc11c\\uc778\\uc7a5\",\"orientation\":\"v\",\"showlegend\":true,\"x\":[\"\\uc9c0\\ub2a5\\ubc94\\uc8c4\"],\"xaxis\":\"x\",\"y\":[2520.0],\"yaxis\":\"y\",\"type\":\"scatter\"},{\"hovertemplate\":\"\\ubc94\\uc8c4\\uc911\\ubd84\\ub958=\\ubb38\\uc11c\\uc778\\uc7a5<br>Year=19<br>\\ubc94\\uc8c4\\ub300\\ubd84\\ub958=%{x}<br>\\uc11c\\uc6b8=%{y}<extra></extra>\",\"legendgroup\":\"\\ubb38\\uc11c\\uc778\\uc7a5\",\"marker\":{\"color\":\"#EF553B\",\"symbol\":\"circle\"},\"mode\":\"markers\",\"name\":\"\\ubb38\\uc11c\\uc778\\uc7a5\",\"orientation\":\"v\",\"showlegend\":false,\"x\":[\"\\uc9c0\\ub2a5\\ubc94\\uc8c4\"],\"xaxis\":\"x2\",\"y\":[2415.0],\"yaxis\":\"y2\",\"type\":\"scatter\"},{\"hovertemplate\":\"\\ubc94\\uc8c4\\uc911\\ubd84\\ub958=\\ubb38\\uc11c\\uc778\\uc7a5<br>Year=20<br>\\ubc94\\uc8c4\\ub300\\ubd84\\ub958=%{x}<br>\\uc11c\\uc6b8=%{y}<extra></extra>\",\"legendgroup\":\"\\ubb38\\uc11c\\uc778\\uc7a5\",\"marker\":{\"color\":\"#EF553B\",\"symbol\":\"circle\"},\"mode\":\"markers\",\"name\":\"\\ubb38\\uc11c\\uc778\\uc7a5\",\"orientation\":\"v\",\"showlegend\":false,\"x\":[\"\\uc9c0\\ub2a5\\ubc94\\uc8c4\"],\"xaxis\":\"x3\",\"y\":[2360.0],\"yaxis\":\"y3\",\"type\":\"scatter\"},{\"hovertemplate\":\"\\ubc94\\uc8c4\\uc911\\ubd84\\ub958=\\ubb38\\uc11c\\uc778\\uc7a5<br>Year=21<br>\\ubc94\\uc8c4\\ub300\\ubd84\\ub958=%{x}<br>\\uc11c\\uc6b8=%{y}<extra></extra>\",\"legendgroup\":\"\\ubb38\\uc11c\\uc778\\uc7a5\",\"marker\":{\"color\":\"#EF553B\",\"symbol\":\"circle\"},\"mode\":\"markers\",\"name\":\"\\ubb38\\uc11c\\uc778\\uc7a5\",\"orientation\":\"v\",\"showlegend\":false,\"x\":[\"\\uc9c0\\ub2a5\\ubc94\\uc8c4\"],\"xaxis\":\"x4\",\"y\":[1925.0],\"yaxis\":\"y4\",\"type\":\"scatter\"},{\"hovertemplate\":\"\\ubc94\\uc8c4\\uc911\\ubd84\\ub958=\\ubb38\\uc11c\\uc778\\uc7a5<br>Year=22<br>\\ubc94\\uc8c4\\ub300\\ubd84\\ub958=%{x}<br>\\uc11c\\uc6b8=%{y}<extra></extra>\",\"legendgroup\":\"\\ubb38\\uc11c\\uc778\\uc7a5\",\"marker\":{\"color\":\"#EF553B\",\"symbol\":\"circle\"},\"mode\":\"markers\",\"name\":\"\\ubb38\\uc11c\\uc778\\uc7a5\",\"orientation\":\"v\",\"showlegend\":false,\"x\":[\"\\uc9c0\\ub2a5\\ubc94\\uc8c4\"],\"xaxis\":\"x5\",\"y\":[2033.0],\"yaxis\":\"y5\",\"type\":\"scatter\"},{\"hovertemplate\":\"\\ubc94\\uc8c4\\uc911\\ubd84\\ub958=\\uc720\\uac00\\uc99d\\uad8c\\uc778\\uc9c0<br>Year=18<br>\\ubc94\\uc8c4\\ub300\\ubd84\\ub958=%{x}<br>\\uc11c\\uc6b8=%{y}<extra></extra>\",\"legendgroup\":\"\\uc720\\uac00\\uc99d\\uad8c\\uc778\\uc9c0\",\"marker\":{\"color\":\"#00cc96\",\"symbol\":\"circle\"},\"mode\":\"markers\",\"name\":\"\\uc720\\uac00\\uc99d\\uad8c\\uc778\\uc9c0\",\"orientation\":\"v\",\"showlegend\":true,\"x\":[\"\\uc9c0\\ub2a5\\ubc94\\uc8c4\"],\"xaxis\":\"x\",\"y\":[61.0],\"yaxis\":\"y\",\"type\":\"scatter\"},{\"hovertemplate\":\"\\ubc94\\uc8c4\\uc911\\ubd84\\ub958=\\uc720\\uac00\\uc99d\\uad8c\\uc778\\uc9c0<br>Year=19<br>\\ubc94\\uc8c4\\ub300\\ubd84\\ub958=%{x}<br>\\uc11c\\uc6b8=%{y}<extra></extra>\",\"legendgroup\":\"\\uc720\\uac00\\uc99d\\uad8c\\uc778\\uc9c0\",\"marker\":{\"color\":\"#00cc96\",\"symbol\":\"circle\"},\"mode\":\"markers\",\"name\":\"\\uc720\\uac00\\uc99d\\uad8c\\uc778\\uc9c0\",\"orientation\":\"v\",\"showlegend\":false,\"x\":[\"\\uc9c0\\ub2a5\\ubc94\\uc8c4\"],\"xaxis\":\"x2\",\"y\":[56.0],\"yaxis\":\"y2\",\"type\":\"scatter\"},{\"hovertemplate\":\"\\ubc94\\uc8c4\\uc911\\ubd84\\ub958=\\uc720\\uac00\\uc99d\\uad8c\\uc778\\uc9c0<br>Year=20<br>\\ubc94\\uc8c4\\ub300\\ubd84\\ub958=%{x}<br>\\uc11c\\uc6b8=%{y}<extra></extra>\",\"legendgroup\":\"\\uc720\\uac00\\uc99d\\uad8c\\uc778\\uc9c0\",\"marker\":{\"color\":\"#00cc96\",\"symbol\":\"circle\"},\"mode\":\"markers\",\"name\":\"\\uc720\\uac00\\uc99d\\uad8c\\uc778\\uc9c0\",\"orientation\":\"v\",\"showlegend\":false,\"x\":[\"\\uc9c0\\ub2a5\\ubc94\\uc8c4\"],\"xaxis\":\"x3\",\"y\":[34.0],\"yaxis\":\"y3\",\"type\":\"scatter\"},{\"hovertemplate\":\"\\ubc94\\uc8c4\\uc911\\ubd84\\ub958=\\uc720\\uac00\\uc99d\\uad8c\\uc778\\uc9c0<br>Year=21<br>\\ubc94\\uc8c4\\ub300\\ubd84\\ub958=%{x}<br>\\uc11c\\uc6b8=%{y}<extra></extra>\",\"legendgroup\":\"\\uc720\\uac00\\uc99d\\uad8c\\uc778\\uc9c0\",\"marker\":{\"color\":\"#00cc96\",\"symbol\":\"circle\"},\"mode\":\"markers\",\"name\":\"\\uc720\\uac00\\uc99d\\uad8c\\uc778\\uc9c0\",\"orientation\":\"v\",\"showlegend\":false,\"x\":[\"\\uc9c0\\ub2a5\\ubc94\\uc8c4\"],\"xaxis\":\"x4\",\"y\":[26.0],\"yaxis\":\"y4\",\"type\":\"scatter\"},{\"hovertemplate\":\"\\ubc94\\uc8c4\\uc911\\ubd84\\ub958=\\uc720\\uac00\\uc99d\\uad8c\\uc778\\uc9c0<br>Year=22<br>\\ubc94\\uc8c4\\ub300\\ubd84\\ub958=%{x}<br>\\uc11c\\uc6b8=%{y}<extra></extra>\",\"legendgroup\":\"\\uc720\\uac00\\uc99d\\uad8c\\uc778\\uc9c0\",\"marker\":{\"color\":\"#00cc96\",\"symbol\":\"circle\"},\"mode\":\"markers\",\"name\":\"\\uc720\\uac00\\uc99d\\uad8c\\uc778\\uc9c0\",\"orientation\":\"v\",\"showlegend\":false,\"x\":[\"\\uc9c0\\ub2a5\\ubc94\\uc8c4\"],\"xaxis\":\"x5\",\"y\":[25.0],\"yaxis\":\"y5\",\"type\":\"scatter\"},{\"hovertemplate\":\"\\ubc94\\uc8c4\\uc911\\ubd84\\ub958=\\uc720\\uac00\\uc99d\\uad8c\\uc778\\uc9c0<br>Year=23<br>\\ubc94\\uc8c4\\ub300\\ubd84\\ub958=%{x}<br>\\uc11c\\uc6b8=%{y}<extra></extra>\",\"legendgroup\":\"\\uc720\\uac00\\uc99d\\uad8c\\uc778\\uc9c0\",\"marker\":{\"color\":\"#00cc96\",\"symbol\":\"circle\"},\"mode\":\"markers\",\"name\":\"\\uc720\\uac00\\uc99d\\uad8c\\uc778\\uc9c0\",\"orientation\":\"v\",\"showlegend\":false,\"x\":[\"\\uc9c0\\ub2a5\\ubc94\\uc8c4\"],\"xaxis\":\"x6\",\"y\":[19.0],\"yaxis\":\"y6\",\"type\":\"scatter\"},{\"hovertemplate\":\"\\ubc94\\uc8c4\\uc911\\ubd84\\ub958=\\uc0ac\\uae30<br>Year=18<br>\\ubc94\\uc8c4\\ub300\\ubd84\\ub958=%{x}<br>\\uc11c\\uc6b8=%{y}<extra></extra>\",\"legendgroup\":\"\\uc0ac\\uae30\",\"marker\":{\"color\":\"#ab63fa\",\"symbol\":\"circle\"},\"mode\":\"markers\",\"name\":\"\\uc0ac\\uae30\",\"orientation\":\"v\",\"showlegend\":true,\"x\":[\"\\uc9c0\\ub2a5\\ubc94\\uc8c4\"],\"xaxis\":\"x\",\"y\":[54270.0],\"yaxis\":\"y\",\"type\":\"scatter\"},{\"hovertemplate\":\"\\ubc94\\uc8c4\\uc911\\ubd84\\ub958=\\uc0ac\\uae30<br>Year=19<br>\\ubc94\\uc8c4\\ub300\\ubd84\\ub958=%{x}<br>\\uc11c\\uc6b8=%{y}<extra></extra>\",\"legendgroup\":\"\\uc0ac\\uae30\",\"marker\":{\"color\":\"#ab63fa\",\"symbol\":\"circle\"},\"mode\":\"markers\",\"name\":\"\\uc0ac\\uae30\",\"orientation\":\"v\",\"showlegend\":false,\"x\":[\"\\uc9c0\\ub2a5\\ubc94\\uc8c4\"],\"xaxis\":\"x2\",\"y\":[57563.0],\"yaxis\":\"y2\",\"type\":\"scatter\"},{\"hovertemplate\":\"\\ubc94\\uc8c4\\uc911\\ubd84\\ub958=\\uc0ac\\uae30<br>Year=20<br>\\ubc94\\uc8c4\\ub300\\ubd84\\ub958=%{x}<br>\\uc11c\\uc6b8=%{y}<extra></extra>\",\"legendgroup\":\"\\uc0ac\\uae30\",\"marker\":{\"color\":\"#ab63fa\",\"symbol\":\"circle\"},\"mode\":\"markers\",\"name\":\"\\uc0ac\\uae30\",\"orientation\":\"v\",\"showlegend\":false,\"x\":[\"\\uc9c0\\ub2a5\\ubc94\\uc8c4\"],\"xaxis\":\"x3\",\"y\":[62317.0],\"yaxis\":\"y3\",\"type\":\"scatter\"},{\"hovertemplate\":\"\\ubc94\\uc8c4\\uc911\\ubd84\\ub958=\\uc0ac\\uae30<br>Year=21<br>\\ubc94\\uc8c4\\ub300\\ubd84\\ub958=%{x}<br>\\uc11c\\uc6b8=%{y}<extra></extra>\",\"legendgroup\":\"\\uc0ac\\uae30\",\"marker\":{\"color\":\"#ab63fa\",\"symbol\":\"circle\"},\"mode\":\"markers\",\"name\":\"\\uc0ac\\uae30\",\"orientation\":\"v\",\"showlegend\":false,\"x\":[\"\\uc9c0\\ub2a5\\ubc94\\uc8c4\"],\"xaxis\":\"x4\",\"y\":[48352.0],\"yaxis\":\"y4\",\"type\":\"scatter\"},{\"hovertemplate\":\"\\ubc94\\uc8c4\\uc911\\ubd84\\ub958=\\uc0ac\\uae30<br>Year=22<br>\\ubc94\\uc8c4\\ub300\\ubd84\\ub958=%{x}<br>\\uc11c\\uc6b8=%{y}<extra></extra>\",\"legendgroup\":\"\\uc0ac\\uae30\",\"marker\":{\"color\":\"#ab63fa\",\"symbol\":\"circle\"},\"mode\":\"markers\",\"name\":\"\\uc0ac\\uae30\",\"orientation\":\"v\",\"showlegend\":false,\"x\":[\"\\uc9c0\\ub2a5\\ubc94\\uc8c4\"],\"xaxis\":\"x5\",\"y\":[52034.0],\"yaxis\":\"y5\",\"type\":\"scatter\"},{\"hovertemplate\":\"\\ubc94\\uc8c4\\uc911\\ubd84\\ub958=\\uc0ac\\uae30<br>Year=23<br>\\ubc94\\uc8c4\\ub300\\ubd84\\ub958=%{x}<br>\\uc11c\\uc6b8=%{y}<extra></extra>\",\"legendgroup\":\"\\uc0ac\\uae30\",\"marker\":{\"color\":\"#ab63fa\",\"symbol\":\"circle\"},\"mode\":\"markers\",\"name\":\"\\uc0ac\\uae30\",\"orientation\":\"v\",\"showlegend\":false,\"x\":[\"\\uc9c0\\ub2a5\\ubc94\\uc8c4\"],\"xaxis\":\"x6\",\"y\":[62243.0],\"yaxis\":\"y6\",\"type\":\"scatter\"},{\"hovertemplate\":\"\\ubc94\\uc8c4\\uc911\\ubd84\\ub958=\\ud6a1\\ub839<br>Year=18<br>\\ubc94\\uc8c4\\ub300\\ubd84\\ub958=%{x}<br>\\uc11c\\uc6b8=%{y}<extra></extra>\",\"legendgroup\":\"\\ud6a1\\ub839\",\"marker\":{\"color\":\"#FFA15A\",\"symbol\":\"circle\"},\"mode\":\"markers\",\"name\":\"\\ud6a1\\ub839\",\"orientation\":\"v\",\"showlegend\":true,\"x\":[\"\\uc9c0\\ub2a5\\ubc94\\uc8c4\"],\"xaxis\":\"x\",\"y\":[15958.0],\"yaxis\":\"y\",\"type\":\"scatter\"},{\"hovertemplate\":\"\\ubc94\\uc8c4\\uc911\\ubd84\\ub958=\\ud6a1\\ub839<br>Year=19<br>\\ubc94\\uc8c4\\ub300\\ubd84\\ub958=%{x}<br>\\uc11c\\uc6b8=%{y}<extra></extra>\",\"legendgroup\":\"\\ud6a1\\ub839\",\"marker\":{\"color\":\"#FFA15A\",\"symbol\":\"circle\"},\"mode\":\"markers\",\"name\":\"\\ud6a1\\ub839\",\"orientation\":\"v\",\"showlegend\":false,\"x\":[\"\\uc9c0\\ub2a5\\ubc94\\uc8c4\"],\"xaxis\":\"x2\",\"y\":[16963.0],\"yaxis\":\"y2\",\"type\":\"scatter\"},{\"hovertemplate\":\"\\ubc94\\uc8c4\\uc911\\ubd84\\ub958=\\ud6a1\\ub839<br>Year=20<br>\\ubc94\\uc8c4\\ub300\\ubd84\\ub958=%{x}<br>\\uc11c\\uc6b8=%{y}<extra></extra>\",\"legendgroup\":\"\\ud6a1\\ub839\",\"marker\":{\"color\":\"#FFA15A\",\"symbol\":\"circle\"},\"mode\":\"markers\",\"name\":\"\\ud6a1\\ub839\",\"orientation\":\"v\",\"showlegend\":false,\"x\":[\"\\uc9c0\\ub2a5\\ubc94\\uc8c4\"],\"xaxis\":\"x3\",\"y\":[16186.0],\"yaxis\":\"y3\",\"type\":\"scatter\"},{\"hovertemplate\":\"\\ubc94\\uc8c4\\uc911\\ubd84\\ub958=\\ud6a1\\ub839<br>Year=21<br>\\ubc94\\uc8c4\\ub300\\ubd84\\ub958=%{x}<br>\\uc11c\\uc6b8=%{y}<extra></extra>\",\"legendgroup\":\"\\ud6a1\\ub839\",\"marker\":{\"color\":\"#FFA15A\",\"symbol\":\"circle\"},\"mode\":\"markers\",\"name\":\"\\ud6a1\\ub839\",\"orientation\":\"v\",\"showlegend\":false,\"x\":[\"\\uc9c0\\ub2a5\\ubc94\\uc8c4\"],\"xaxis\":\"x4\",\"y\":[13188.0],\"yaxis\":\"y4\",\"type\":\"scatter\"},{\"hovertemplate\":\"\\ubc94\\uc8c4\\uc911\\ubd84\\ub958=\\ud6a1\\ub839<br>Year=22<br>\\ubc94\\uc8c4\\ub300\\ubd84\\ub958=%{x}<br>\\uc11c\\uc6b8=%{y}<extra></extra>\",\"legendgroup\":\"\\ud6a1\\ub839\",\"marker\":{\"color\":\"#FFA15A\",\"symbol\":\"circle\"},\"mode\":\"markers\",\"name\":\"\\ud6a1\\ub839\",\"orientation\":\"v\",\"showlegend\":false,\"x\":[\"\\uc9c0\\ub2a5\\ubc94\\uc8c4\"],\"xaxis\":\"x5\",\"y\":[16368.0],\"yaxis\":\"y5\",\"type\":\"scatter\"},{\"hovertemplate\":\"\\ubc94\\uc8c4\\uc911\\ubd84\\ub958=\\ud6a1\\ub839<br>Year=23<br>\\ubc94\\uc8c4\\ub300\\ubd84\\ub958=%{x}<br>\\uc11c\\uc6b8=%{y}<extra></extra>\",\"legendgroup\":\"\\ud6a1\\ub839\",\"marker\":{\"color\":\"#FFA15A\",\"symbol\":\"circle\"},\"mode\":\"markers\",\"name\":\"\\ud6a1\\ub839\",\"orientation\":\"v\",\"showlegend\":false,\"x\":[\"\\uc9c0\\ub2a5\\ubc94\\uc8c4\"],\"xaxis\":\"x6\",\"y\":[17570.0],\"yaxis\":\"y6\",\"type\":\"scatter\"},{\"hovertemplate\":\"\\ubc94\\uc8c4\\uc911\\ubd84\\ub958=\\ubc30\\uc784<br>Year=18<br>\\ubc94\\uc8c4\\ub300\\ubd84\\ub958=%{x}<br>\\uc11c\\uc6b8=%{y}<extra></extra>\",\"legendgroup\":\"\\ubc30\\uc784\",\"marker\":{\"color\":\"#19d3f3\",\"symbol\":\"circle\"},\"mode\":\"markers\",\"name\":\"\\ubc30\\uc784\",\"orientation\":\"v\",\"showlegend\":true,\"x\":[\"\\uc9c0\\ub2a5\\ubc94\\uc8c4\"],\"xaxis\":\"x\",\"y\":[1009.0],\"yaxis\":\"y\",\"type\":\"scatter\"},{\"hovertemplate\":\"\\ubc94\\uc8c4\\uc911\\ubd84\\ub958=\\ubc30\\uc784<br>Year=19<br>\\ubc94\\uc8c4\\ub300\\ubd84\\ub958=%{x}<br>\\uc11c\\uc6b8=%{y}<extra></extra>\",\"legendgroup\":\"\\ubc30\\uc784\",\"marker\":{\"color\":\"#19d3f3\",\"symbol\":\"circle\"},\"mode\":\"markers\",\"name\":\"\\ubc30\\uc784\",\"orientation\":\"v\",\"showlegend\":false,\"x\":[\"\\uc9c0\\ub2a5\\ubc94\\uc8c4\"],\"xaxis\":\"x2\",\"y\":[1038.0],\"yaxis\":\"y2\",\"type\":\"scatter\"},{\"hovertemplate\":\"\\ubc94\\uc8c4\\uc911\\ubd84\\ub958=\\ubc30\\uc784<br>Year=20<br>\\ubc94\\uc8c4\\ub300\\ubd84\\ub958=%{x}<br>\\uc11c\\uc6b8=%{y}<extra></extra>\",\"legendgroup\":\"\\ubc30\\uc784\",\"marker\":{\"color\":\"#19d3f3\",\"symbol\":\"circle\"},\"mode\":\"markers\",\"name\":\"\\ubc30\\uc784\",\"orientation\":\"v\",\"showlegend\":false,\"x\":[\"\\uc9c0\\ub2a5\\ubc94\\uc8c4\"],\"xaxis\":\"x3\",\"y\":[932.0],\"yaxis\":\"y3\",\"type\":\"scatter\"},{\"hovertemplate\":\"\\ubc94\\uc8c4\\uc911\\ubd84\\ub958=\\ubc30\\uc784<br>Year=21<br>\\ubc94\\uc8c4\\ub300\\ubd84\\ub958=%{x}<br>\\uc11c\\uc6b8=%{y}<extra></extra>\",\"legendgroup\":\"\\ubc30\\uc784\",\"marker\":{\"color\":\"#19d3f3\",\"symbol\":\"circle\"},\"mode\":\"markers\",\"name\":\"\\ubc30\\uc784\",\"orientation\":\"v\",\"showlegend\":false,\"x\":[\"\\uc9c0\\ub2a5\\ubc94\\uc8c4\"],\"xaxis\":\"x4\",\"y\":[713.0],\"yaxis\":\"y4\",\"type\":\"scatter\"},{\"hovertemplate\":\"\\ubc94\\uc8c4\\uc911\\ubd84\\ub958=\\ubc30\\uc784<br>Year=22<br>\\ubc94\\uc8c4\\ub300\\ubd84\\ub958=%{x}<br>\\uc11c\\uc6b8=%{y}<extra></extra>\",\"legendgroup\":\"\\ubc30\\uc784\",\"marker\":{\"color\":\"#19d3f3\",\"symbol\":\"circle\"},\"mode\":\"markers\",\"name\":\"\\ubc30\\uc784\",\"orientation\":\"v\",\"showlegend\":false,\"x\":[\"\\uc9c0\\ub2a5\\ubc94\\uc8c4\"],\"xaxis\":\"x5\",\"y\":[791.0],\"yaxis\":\"y5\",\"type\":\"scatter\"},{\"hovertemplate\":\"\\ubc94\\uc8c4\\uc911\\ubd84\\ub958=\\ubc30\\uc784<br>Year=23<br>\\ubc94\\uc8c4\\ub300\\ubd84\\ub958=%{x}<br>\\uc11c\\uc6b8=%{y}<extra></extra>\",\"legendgroup\":\"\\ubc30\\uc784\",\"marker\":{\"color\":\"#19d3f3\",\"symbol\":\"circle\"},\"mode\":\"markers\",\"name\":\"\\ubc30\\uc784\",\"orientation\":\"v\",\"showlegend\":false,\"x\":[\"\\uc9c0\\ub2a5\\ubc94\\uc8c4\"],\"xaxis\":\"x6\",\"y\":[821.0],\"yaxis\":\"y6\",\"type\":\"scatter\"},{\"hovertemplate\":\"\\ubc94\\uc8c4\\uc911\\ubd84\\ub958=\\uc131\\ud48d\\uc18d\\ubc94\\uc8c4<br>Year=18<br>\\ubc94\\uc8c4\\ub300\\ubd84\\ub958=%{x}<br>\\uc11c\\uc6b8=%{y}<extra></extra>\",\"legendgroup\":\"\\uc131\\ud48d\\uc18d\\ubc94\\uc8c4\",\"marker\":{\"color\":\"#FF6692\",\"symbol\":\"circle\"},\"mode\":\"markers\",\"name\":\"\\uc131\\ud48d\\uc18d\\ubc94\\uc8c4\",\"orientation\":\"v\",\"showlegend\":true,\"x\":[\"\\ud48d\\uc18d\\ubc94\\uc8c4\"],\"xaxis\":\"x\",\"y\":[3902.0],\"yaxis\":\"y\",\"type\":\"scatter\"},{\"hovertemplate\":\"\\ubc94\\uc8c4\\uc911\\ubd84\\ub958=\\uc131\\ud48d\\uc18d\\ubc94\\uc8c4<br>Year=19<br>\\ubc94\\uc8c4\\ub300\\ubd84\\ub958=%{x}<br>\\uc11c\\uc6b8=%{y}<extra></extra>\",\"legendgroup\":\"\\uc131\\ud48d\\uc18d\\ubc94\\uc8c4\",\"marker\":{\"color\":\"#FF6692\",\"symbol\":\"circle\"},\"mode\":\"markers\",\"name\":\"\\uc131\\ud48d\\uc18d\\ubc94\\uc8c4\",\"orientation\":\"v\",\"showlegend\":false,\"x\":[\"\\ud48d\\uc18d\\ubc94\\uc8c4\"],\"xaxis\":\"x2\",\"y\":[3834.0],\"yaxis\":\"y2\",\"type\":\"scatter\"},{\"hovertemplate\":\"\\ubc94\\uc8c4\\uc911\\ubd84\\ub958=\\uc131\\ud48d\\uc18d\\ubc94\\uc8c4<br>Year=20<br>\\ubc94\\uc8c4\\ub300\\ubd84\\ub958=%{x}<br>\\uc11c\\uc6b8=%{y}<extra></extra>\",\"legendgroup\":\"\\uc131\\ud48d\\uc18d\\ubc94\\uc8c4\",\"marker\":{\"color\":\"#FF6692\",\"symbol\":\"circle\"},\"mode\":\"markers\",\"name\":\"\\uc131\\ud48d\\uc18d\\ubc94\\uc8c4\",\"orientation\":\"v\",\"showlegend\":false,\"x\":[\"\\ud48d\\uc18d\\ubc94\\uc8c4\"],\"xaxis\":\"x3\",\"y\":[3564.0],\"yaxis\":\"y3\",\"type\":\"scatter\"},{\"hovertemplate\":\"\\ubc94\\uc8c4\\uc911\\ubd84\\ub958=\\uc131\\ud48d\\uc18d\\ubc94\\uc8c4<br>Year=21<br>\\ubc94\\uc8c4\\ub300\\ubd84\\ub958=%{x}<br>\\uc11c\\uc6b8=%{y}<extra></extra>\",\"legendgroup\":\"\\uc131\\ud48d\\uc18d\\ubc94\\uc8c4\",\"marker\":{\"color\":\"#FF6692\",\"symbol\":\"circle\"},\"mode\":\"markers\",\"name\":\"\\uc131\\ud48d\\uc18d\\ubc94\\uc8c4\",\"orientation\":\"v\",\"showlegend\":false,\"x\":[\"\\ud48d\\uc18d\\ubc94\\uc8c4\"],\"xaxis\":\"x4\",\"y\":[4180.0],\"yaxis\":\"y4\",\"type\":\"scatter\"},{\"hovertemplate\":\"\\ubc94\\uc8c4\\uc911\\ubd84\\ub958=\\uc131\\ud48d\\uc18d\\ubc94\\uc8c4<br>Year=22<br>\\ubc94\\uc8c4\\ub300\\ubd84\\ub958=%{x}<br>\\uc11c\\uc6b8=%{y}<extra></extra>\",\"legendgroup\":\"\\uc131\\ud48d\\uc18d\\ubc94\\uc8c4\",\"marker\":{\"color\":\"#FF6692\",\"symbol\":\"circle\"},\"mode\":\"markers\",\"name\":\"\\uc131\\ud48d\\uc18d\\ubc94\\uc8c4\",\"orientation\":\"v\",\"showlegend\":false,\"x\":[\"\\ud48d\\uc18d\\ubc94\\uc8c4\"],\"xaxis\":\"x5\",\"y\":[4924.0],\"yaxis\":\"y5\",\"type\":\"scatter\"},{\"hovertemplate\":\"\\ubc94\\uc8c4\\uc911\\ubd84\\ub958=\\uc131\\ud48d\\uc18d\\ubc94\\uc8c4<br>Year=23<br>\\ubc94\\uc8c4\\ub300\\ubd84\\ub958=%{x}<br>\\uc11c\\uc6b8=%{y}<extra></extra>\",\"legendgroup\":\"\\uc131\\ud48d\\uc18d\\ubc94\\uc8c4\",\"marker\":{\"color\":\"#FF6692\",\"symbol\":\"circle\"},\"mode\":\"markers\",\"name\":\"\\uc131\\ud48d\\uc18d\\ubc94\\uc8c4\",\"orientation\":\"v\",\"showlegend\":false,\"x\":[\"\\ud48d\\uc18d\\ubc94\\uc8c4\"],\"xaxis\":\"x6\",\"y\":[4406.0],\"yaxis\":\"y6\",\"type\":\"scatter\"},{\"hovertemplate\":\"\\ubc94\\uc8c4\\uc911\\ubd84\\ub958=\\ub3c4\\ubc15\\ubc94\\uc8c4<br>Year=18<br>\\ubc94\\uc8c4\\ub300\\ubd84\\ub958=%{x}<br>\\uc11c\\uc6b8=%{y}<extra></extra>\",\"legendgroup\":\"\\ub3c4\\ubc15\\ubc94\\uc8c4\",\"marker\":{\"color\":\"#B6E880\",\"symbol\":\"circle\"},\"mode\":\"markers\",\"name\":\"\\ub3c4\\ubc15\\ubc94\\uc8c4\",\"orientation\":\"v\",\"showlegend\":true,\"x\":[\"\\ud48d\\uc18d\\ubc94\\uc8c4\"],\"xaxis\":\"x\",\"y\":[809.0],\"yaxis\":\"y\",\"type\":\"scatter\"},{\"hovertemplate\":\"\\ubc94\\uc8c4\\uc911\\ubd84\\ub958=\\ub3c4\\ubc15\\ubc94\\uc8c4<br>Year=19<br>\\ubc94\\uc8c4\\ub300\\ubd84\\ub958=%{x}<br>\\uc11c\\uc6b8=%{y}<extra></extra>\",\"legendgroup\":\"\\ub3c4\\ubc15\\ubc94\\uc8c4\",\"marker\":{\"color\":\"#B6E880\",\"symbol\":\"circle\"},\"mode\":\"markers\",\"name\":\"\\ub3c4\\ubc15\\ubc94\\uc8c4\",\"orientation\":\"v\",\"showlegend\":false,\"x\":[\"\\ud48d\\uc18d\\ubc94\\uc8c4\"],\"xaxis\":\"x2\",\"y\":[1059.0],\"yaxis\":\"y2\",\"type\":\"scatter\"},{\"hovertemplate\":\"\\ubc94\\uc8c4\\uc911\\ubd84\\ub958=\\ub3c4\\ubc15\\ubc94\\uc8c4<br>Year=20<br>\\ubc94\\uc8c4\\ub300\\ubd84\\ub958=%{x}<br>\\uc11c\\uc6b8=%{y}<extra></extra>\",\"legendgroup\":\"\\ub3c4\\ubc15\\ubc94\\uc8c4\",\"marker\":{\"color\":\"#B6E880\",\"symbol\":\"circle\"},\"mode\":\"markers\",\"name\":\"\\ub3c4\\ubc15\\ubc94\\uc8c4\",\"orientation\":\"v\",\"showlegend\":false,\"x\":[\"\\ud48d\\uc18d\\ubc94\\uc8c4\"],\"xaxis\":\"x3\",\"y\":[1241.0],\"yaxis\":\"y3\",\"type\":\"scatter\"},{\"hovertemplate\":\"\\ubc94\\uc8c4\\uc911\\ubd84\\ub958=\\ub3c4\\ubc15\\ubc94\\uc8c4<br>Year=21<br>\\ubc94\\uc8c4\\ub300\\ubd84\\ub958=%{x}<br>\\uc11c\\uc6b8=%{y}<extra></extra>\",\"legendgroup\":\"\\ub3c4\\ubc15\\ubc94\\uc8c4\",\"marker\":{\"color\":\"#B6E880\",\"symbol\":\"circle\"},\"mode\":\"markers\",\"name\":\"\\ub3c4\\ubc15\\ubc94\\uc8c4\",\"orientation\":\"v\",\"showlegend\":false,\"x\":[\"\\ud48d\\uc18d\\ubc94\\uc8c4\"],\"xaxis\":\"x4\",\"y\":[885.0],\"yaxis\":\"y4\",\"type\":\"scatter\"},{\"hovertemplate\":\"\\ubc94\\uc8c4\\uc911\\ubd84\\ub958=\\ub3c4\\ubc15\\ubc94\\uc8c4<br>Year=22<br>\\ubc94\\uc8c4\\ub300\\ubd84\\ub958=%{x}<br>\\uc11c\\uc6b8=%{y}<extra></extra>\",\"legendgroup\":\"\\ub3c4\\ubc15\\ubc94\\uc8c4\",\"marker\":{\"color\":\"#B6E880\",\"symbol\":\"circle\"},\"mode\":\"markers\",\"name\":\"\\ub3c4\\ubc15\\ubc94\\uc8c4\",\"orientation\":\"v\",\"showlegend\":false,\"x\":[\"\\ud48d\\uc18d\\ubc94\\uc8c4\"],\"xaxis\":\"x5\",\"y\":[545.0],\"yaxis\":\"y5\",\"type\":\"scatter\"},{\"hovertemplate\":\"\\ubc94\\uc8c4\\uc911\\ubd84\\ub958=\\ub3c4\\ubc15\\ubc94\\uc8c4<br>Year=23<br>\\ubc94\\uc8c4\\ub300\\ubd84\\ub958=%{x}<br>\\uc11c\\uc6b8=%{y}<extra></extra>\",\"legendgroup\":\"\\ub3c4\\ubc15\\ubc94\\uc8c4\",\"marker\":{\"color\":\"#B6E880\",\"symbol\":\"circle\"},\"mode\":\"markers\",\"name\":\"\\ub3c4\\ubc15\\ubc94\\uc8c4\",\"orientation\":\"v\",\"showlegend\":false,\"x\":[\"\\ud48d\\uc18d\\ubc94\\uc8c4\"],\"xaxis\":\"x6\",\"y\":[664.0],\"yaxis\":\"y6\",\"type\":\"scatter\"},{\"hovertemplate\":\"\\ubc94\\uc8c4\\uc911\\ubd84\\ub958=\\ud2b9\\ubcc4\\uacbd\\uc81c\\ubc94\\uc8c4<br>Year=18<br>\\ubc94\\uc8c4\\ub300\\ubd84\\ub958=%{x}<br>\\uc11c\\uc6b8=%{y}<extra></extra>\",\"legendgroup\":\"\\ud2b9\\ubcc4\\uacbd\\uc81c\\ubc94\\uc8c4\",\"marker\":{\"color\":\"#FF97FF\",\"symbol\":\"circle\"},\"mode\":\"markers\",\"name\":\"\\ud2b9\\ubcc4\\uacbd\\uc81c\\ubc94\\uc8c4\",\"orientation\":\"v\",\"showlegend\":true,\"x\":[\"\\ud2b9\\ubcc4\\uacbd\\uc81c\\ubc94\\uc8c4\"],\"xaxis\":\"x\",\"y\":[13821.0],\"yaxis\":\"y\",\"type\":\"scatter\"},{\"hovertemplate\":\"\\ubc94\\uc8c4\\uc911\\ubd84\\ub958=\\ud2b9\\ubcc4\\uacbd\\uc81c\\ubc94\\uc8c4<br>Year=19<br>\\ubc94\\uc8c4\\ub300\\ubd84\\ub958=%{x}<br>\\uc11c\\uc6b8=%{y}<extra></extra>\",\"legendgroup\":\"\\ud2b9\\ubcc4\\uacbd\\uc81c\\ubc94\\uc8c4\",\"marker\":{\"color\":\"#FF97FF\",\"symbol\":\"circle\"},\"mode\":\"markers\",\"name\":\"\\ud2b9\\ubcc4\\uacbd\\uc81c\\ubc94\\uc8c4\",\"orientation\":\"v\",\"showlegend\":false,\"x\":[\"\\ud2b9\\ubcc4\\uacbd\\uc81c\\ubc94\\uc8c4\"],\"xaxis\":\"x2\",\"y\":[12823.0],\"yaxis\":\"y2\",\"type\":\"scatter\"},{\"hovertemplate\":\"\\ubc94\\uc8c4\\uc911\\ubd84\\ub958=\\ud2b9\\ubcc4\\uacbd\\uc81c\\ubc94\\uc8c4<br>Year=20<br>\\ubc94\\uc8c4\\ub300\\ubd84\\ub958=%{x}<br>\\uc11c\\uc6b8=%{y}<extra></extra>\",\"legendgroup\":\"\\ud2b9\\ubcc4\\uacbd\\uc81c\\ubc94\\uc8c4\",\"marker\":{\"color\":\"#FF97FF\",\"symbol\":\"circle\"},\"mode\":\"markers\",\"name\":\"\\ud2b9\\ubcc4\\uacbd\\uc81c\\ubc94\\uc8c4\",\"orientation\":\"v\",\"showlegend\":false,\"x\":[\"\\ud2b9\\ubcc4\\uacbd\\uc81c\\ubc94\\uc8c4\"],\"xaxis\":\"x3\",\"y\":[11539.0],\"yaxis\":\"y3\",\"type\":\"scatter\"},{\"hovertemplate\":\"\\ubc94\\uc8c4\\uc911\\ubd84\\ub958=\\ud2b9\\ubcc4\\uacbd\\uc81c\\ubc94\\uc8c4<br>Year=21<br>\\ubc94\\uc8c4\\ub300\\ubd84\\ub958=%{x}<br>\\uc11c\\uc6b8=%{y}<extra></extra>\",\"legendgroup\":\"\\ud2b9\\ubcc4\\uacbd\\uc81c\\ubc94\\uc8c4\",\"marker\":{\"color\":\"#FF97FF\",\"symbol\":\"circle\"},\"mode\":\"markers\",\"name\":\"\\ud2b9\\ubcc4\\uacbd\\uc81c\\ubc94\\uc8c4\",\"orientation\":\"v\",\"showlegend\":false,\"x\":[\"\\ud2b9\\ubcc4\\uacbd\\uc81c\\ubc94\\uc8c4\"],\"xaxis\":\"x4\",\"y\":[8877.0],\"yaxis\":\"y4\",\"type\":\"scatter\"},{\"hovertemplate\":\"\\ubc94\\uc8c4\\uc911\\ubd84\\ub958=\\ud2b9\\ubcc4\\uacbd\\uc81c\\ubc94\\uc8c4<br>Year=22<br>\\ubc94\\uc8c4\\ub300\\ubd84\\ub958=%{x}<br>\\uc11c\\uc6b8=%{y}<extra></extra>\",\"legendgroup\":\"\\ud2b9\\ubcc4\\uacbd\\uc81c\\ubc94\\uc8c4\",\"marker\":{\"color\":\"#FF97FF\",\"symbol\":\"circle\"},\"mode\":\"markers\",\"name\":\"\\ud2b9\\ubcc4\\uacbd\\uc81c\\ubc94\\uc8c4\",\"orientation\":\"v\",\"showlegend\":false,\"x\":[\"\\ud2b9\\ubcc4\\uacbd\\uc81c\\ubc94\\uc8c4\"],\"xaxis\":\"x5\",\"y\":[10374.0],\"yaxis\":\"y5\",\"type\":\"scatter\"},{\"hovertemplate\":\"\\ubc94\\uc8c4\\uc911\\ubd84\\ub958=\\ud2b9\\ubcc4\\uacbd\\uc81c\\ubc94\\uc8c4<br>Year=23<br>\\ubc94\\uc8c4\\ub300\\ubd84\\ub958=%{x}<br>\\uc11c\\uc6b8=%{y}<extra></extra>\",\"legendgroup\":\"\\ud2b9\\ubcc4\\uacbd\\uc81c\\ubc94\\uc8c4\",\"marker\":{\"color\":\"#FF97FF\",\"symbol\":\"circle\"},\"mode\":\"markers\",\"name\":\"\\ud2b9\\ubcc4\\uacbd\\uc81c\\ubc94\\uc8c4\",\"orientation\":\"v\",\"showlegend\":false,\"x\":[\"\\ud2b9\\ubcc4\\uacbd\\uc81c\\ubc94\\uc8c4\"],\"xaxis\":\"x6\",\"y\":[13181.0],\"yaxis\":\"y6\",\"type\":\"scatter\"},{\"hovertemplate\":\"\\ubc94\\uc8c4\\uc911\\ubd84\\ub958=\\ub9c8\\uc57d\\ubc94\\uc8c4<br>Year=18<br>\\ubc94\\uc8c4\\ub300\\ubd84\\ub958=%{x}<br>\\uc11c\\uc6b8=%{y}<extra></extra>\",\"legendgroup\":\"\\ub9c8\\uc57d\\ubc94\\uc8c4\",\"marker\":{\"color\":\"#FECB52\",\"symbol\":\"circle\"},\"mode\":\"markers\",\"name\":\"\\ub9c8\\uc57d\\ubc94\\uc8c4\",\"orientation\":\"v\",\"showlegend\":true,\"x\":[\"\\ub9c8\\uc57d\\ubc94\\uc8c4\"],\"xaxis\":\"x\",\"y\":[1544.0],\"yaxis\":\"y\",\"type\":\"scatter\"},{\"hovertemplate\":\"\\ubc94\\uc8c4\\uc911\\ubd84\\ub958=\\ub9c8\\uc57d\\ubc94\\uc8c4<br>Year=19<br>\\ubc94\\uc8c4\\ub300\\ubd84\\ub958=%{x}<br>\\uc11c\\uc6b8=%{y}<extra></extra>\",\"legendgroup\":\"\\ub9c8\\uc57d\\ubc94\\uc8c4\",\"marker\":{\"color\":\"#FECB52\",\"symbol\":\"circle\"},\"mode\":\"markers\",\"name\":\"\\ub9c8\\uc57d\\ubc94\\uc8c4\",\"orientation\":\"v\",\"showlegend\":false,\"x\":[\"\\ub9c8\\uc57d\\ubc94\\uc8c4\"],\"xaxis\":\"x2\",\"y\":[1884.0],\"yaxis\":\"y2\",\"type\":\"scatter\"},{\"hovertemplate\":\"\\ubc94\\uc8c4\\uc911\\ubd84\\ub958=\\ub9c8\\uc57d\\ubc94\\uc8c4<br>Year=20<br>\\ubc94\\uc8c4\\ub300\\ubd84\\ub958=%{x}<br>\\uc11c\\uc6b8=%{y}<extra></extra>\",\"legendgroup\":\"\\ub9c8\\uc57d\\ubc94\\uc8c4\",\"marker\":{\"color\":\"#FECB52\",\"symbol\":\"circle\"},\"mode\":\"markers\",\"name\":\"\\ub9c8\\uc57d\\ubc94\\uc8c4\",\"orientation\":\"v\",\"showlegend\":false,\"x\":[\"\\ub9c8\\uc57d\\ubc94\\uc8c4\"],\"xaxis\":\"x3\",\"y\":[2154.0],\"yaxis\":\"y3\",\"type\":\"scatter\"},{\"hovertemplate\":\"\\ubc94\\uc8c4\\uc911\\ubd84\\ub958=\\ub9c8\\uc57d\\ubc94\\uc8c4<br>Year=21<br>\\ubc94\\uc8c4\\ub300\\ubd84\\ub958=%{x}<br>\\uc11c\\uc6b8=%{y}<extra></extra>\",\"legendgroup\":\"\\ub9c8\\uc57d\\ubc94\\uc8c4\",\"marker\":{\"color\":\"#FECB52\",\"symbol\":\"circle\"},\"mode\":\"markers\",\"name\":\"\\ub9c8\\uc57d\\ubc94\\uc8c4\",\"orientation\":\"v\",\"showlegend\":false,\"x\":[\"\\ub9c8\\uc57d\\ubc94\\uc8c4\"],\"xaxis\":\"x4\",\"y\":[2275.0],\"yaxis\":\"y4\",\"type\":\"scatter\"},{\"hovertemplate\":\"\\ubc94\\uc8c4\\uc911\\ubd84\\ub958=\\ub9c8\\uc57d\\ubc94\\uc8c4<br>Year=22<br>\\ubc94\\uc8c4\\ub300\\ubd84\\ub958=%{x}<br>\\uc11c\\uc6b8=%{y}<extra></extra>\",\"legendgroup\":\"\\ub9c8\\uc57d\\ubc94\\uc8c4\",\"marker\":{\"color\":\"#FECB52\",\"symbol\":\"circle\"},\"mode\":\"markers\",\"name\":\"\\ub9c8\\uc57d\\ubc94\\uc8c4\",\"orientation\":\"v\",\"showlegend\":false,\"x\":[\"\\ub9c8\\uc57d\\ubc94\\uc8c4\"],\"xaxis\":\"x5\",\"y\":[2821.0],\"yaxis\":\"y5\",\"type\":\"scatter\"},{\"hovertemplate\":\"\\ubc94\\uc8c4\\uc911\\ubd84\\ub958=\\ub9c8\\uc57d\\ubc94\\uc8c4<br>Year=23<br>\\ubc94\\uc8c4\\ub300\\ubd84\\ub958=%{x}<br>\\uc11c\\uc6b8=%{y}<extra></extra>\",\"legendgroup\":\"\\ub9c8\\uc57d\\ubc94\\uc8c4\",\"marker\":{\"color\":\"#FECB52\",\"symbol\":\"circle\"},\"mode\":\"markers\",\"name\":\"\\ub9c8\\uc57d\\ubc94\\uc8c4\",\"orientation\":\"v\",\"showlegend\":false,\"x\":[\"\\ub9c8\\uc57d\\ubc94\\uc8c4\"],\"xaxis\":\"x6\",\"y\":[3722.0],\"yaxis\":\"y6\",\"type\":\"scatter\"},{\"hovertemplate\":\"\\ubc94\\uc8c4\\uc911\\ubd84\\ub958=\\ubcf4\\uac74\\ubc94\\uc8c4<br>Year=18<br>\\ubc94\\uc8c4\\ub300\\ubd84\\ub958=%{x}<br>\\uc11c\\uc6b8=%{y}<extra></extra>\",\"legendgroup\":\"\\ubcf4\\uac74\\ubc94\\uc8c4\",\"marker\":{\"color\":\"#636efa\",\"symbol\":\"circle\"},\"mode\":\"markers\",\"name\":\"\\ubcf4\\uac74\\ubc94\\uc8c4\",\"orientation\":\"v\",\"showlegend\":true,\"x\":[\"\\ubcf4\\uac74\\ubc94\\uc8c4\"],\"xaxis\":\"x\",\"y\":[2886.0],\"yaxis\":\"y\",\"type\":\"scatter\"},{\"hovertemplate\":\"\\ubc94\\uc8c4\\uc911\\ubd84\\ub958=\\ubcf4\\uac74\\ubc94\\uc8c4<br>Year=19<br>\\ubc94\\uc8c4\\ub300\\ubd84\\ub958=%{x}<br>\\uc11c\\uc6b8=%{y}<extra></extra>\",\"legendgroup\":\"\\ubcf4\\uac74\\ubc94\\uc8c4\",\"marker\":{\"color\":\"#636efa\",\"symbol\":\"circle\"},\"mode\":\"markers\",\"name\":\"\\ubcf4\\uac74\\ubc94\\uc8c4\",\"orientation\":\"v\",\"showlegend\":false,\"x\":[\"\\ubcf4\\uac74\\ubc94\\uc8c4\"],\"xaxis\":\"x2\",\"y\":[3424.0],\"yaxis\":\"y2\",\"type\":\"scatter\"},{\"hovertemplate\":\"\\ubc94\\uc8c4\\uc911\\ubd84\\ub958=\\ubcf4\\uac74\\ubc94\\uc8c4<br>Year=20<br>\\ubc94\\uc8c4\\ub300\\ubd84\\ub958=%{x}<br>\\uc11c\\uc6b8=%{y}<extra></extra>\",\"legendgroup\":\"\\ubcf4\\uac74\\ubc94\\uc8c4\",\"marker\":{\"color\":\"#636efa\",\"symbol\":\"circle\"},\"mode\":\"markers\",\"name\":\"\\ubcf4\\uac74\\ubc94\\uc8c4\",\"orientation\":\"v\",\"showlegend\":false,\"x\":[\"\\ubcf4\\uac74\\ubc94\\uc8c4\"],\"xaxis\":\"x3\",\"y\":[3937.0],\"yaxis\":\"y3\",\"type\":\"scatter\"},{\"hovertemplate\":\"\\ubc94\\uc8c4\\uc911\\ubd84\\ub958=\\ubcf4\\uac74\\ubc94\\uc8c4<br>Year=21<br>\\ubc94\\uc8c4\\ub300\\ubd84\\ub958=%{x}<br>\\uc11c\\uc6b8=%{y}<extra></extra>\",\"legendgroup\":\"\\ubcf4\\uac74\\ubc94\\uc8c4\",\"marker\":{\"color\":\"#636efa\",\"symbol\":\"circle\"},\"mode\":\"markers\",\"name\":\"\\ubcf4\\uac74\\ubc94\\uc8c4\",\"orientation\":\"v\",\"showlegend\":false,\"x\":[\"\\ubcf4\\uac74\\ubc94\\uc8c4\"],\"xaxis\":\"x4\",\"y\":[4573.0],\"yaxis\":\"y4\",\"type\":\"scatter\"},{\"hovertemplate\":\"\\ubc94\\uc8c4\\uc911\\ubd84\\ub958=\\ubcf4\\uac74\\ubc94\\uc8c4<br>Year=22<br>\\ubc94\\uc8c4\\ub300\\ubd84\\ub958=%{x}<br>\\uc11c\\uc6b8=%{y}<extra></extra>\",\"legendgroup\":\"\\ubcf4\\uac74\\ubc94\\uc8c4\",\"marker\":{\"color\":\"#636efa\",\"symbol\":\"circle\"},\"mode\":\"markers\",\"name\":\"\\ubcf4\\uac74\\ubc94\\uc8c4\",\"orientation\":\"v\",\"showlegend\":false,\"x\":[\"\\ubcf4\\uac74\\ubc94\\uc8c4\"],\"xaxis\":\"x5\",\"y\":[4260.0],\"yaxis\":\"y5\",\"type\":\"scatter\"},{\"hovertemplate\":\"\\ubc94\\uc8c4\\uc911\\ubd84\\ub958=\\ubcf4\\uac74\\ubc94\\uc8c4<br>Year=23<br>\\ubc94\\uc8c4\\ub300\\ubd84\\ub958=%{x}<br>\\uc11c\\uc6b8=%{y}<extra></extra>\",\"legendgroup\":\"\\ubcf4\\uac74\\ubc94\\uc8c4\",\"marker\":{\"color\":\"#636efa\",\"symbol\":\"circle\"},\"mode\":\"markers\",\"name\":\"\\ubcf4\\uac74\\ubc94\\uc8c4\",\"orientation\":\"v\",\"showlegend\":false,\"x\":[\"\\ubcf4\\uac74\\ubc94\\uc8c4\"],\"xaxis\":\"x6\",\"y\":[2850.0],\"yaxis\":\"y6\",\"type\":\"scatter\"},{\"hovertemplate\":\"\\ubc94\\uc8c4\\uc911\\ubd84\\ub958=\\ud658\\uacbd\\ubc94\\uc8c4<br>Year=18<br>\\ubc94\\uc8c4\\ub300\\ubd84\\ub958=%{x}<br>\\uc11c\\uc6b8=%{y}<extra></extra>\",\"legendgroup\":\"\\ud658\\uacbd\\ubc94\\uc8c4\",\"marker\":{\"color\":\"#EF553B\",\"symbol\":\"circle\"},\"mode\":\"markers\",\"name\":\"\\ud658\\uacbd\\ubc94\\uc8c4\",\"orientation\":\"v\",\"showlegend\":true,\"x\":[\"\\ud658\\uacbd\\ubc94\\uc8c4\"],\"xaxis\":\"x\",\"y\":[65.0],\"yaxis\":\"y\",\"type\":\"scatter\"},{\"hovertemplate\":\"\\ubc94\\uc8c4\\uc911\\ubd84\\ub958=\\ud658\\uacbd\\ubc94\\uc8c4<br>Year=19<br>\\ubc94\\uc8c4\\ub300\\ubd84\\ub958=%{x}<br>\\uc11c\\uc6b8=%{y}<extra></extra>\",\"legendgroup\":\"\\ud658\\uacbd\\ubc94\\uc8c4\",\"marker\":{\"color\":\"#EF553B\",\"symbol\":\"circle\"},\"mode\":\"markers\",\"name\":\"\\ud658\\uacbd\\ubc94\\uc8c4\",\"orientation\":\"v\",\"showlegend\":false,\"x\":[\"\\ud658\\uacbd\\ubc94\\uc8c4\"],\"xaxis\":\"x2\",\"y\":[89.0],\"yaxis\":\"y2\",\"type\":\"scatter\"},{\"hovertemplate\":\"\\ubc94\\uc8c4\\uc911\\ubd84\\ub958=\\ud658\\uacbd\\ubc94\\uc8c4<br>Year=20<br>\\ubc94\\uc8c4\\ub300\\ubd84\\ub958=%{x}<br>\\uc11c\\uc6b8=%{y}<extra></extra>\",\"legendgroup\":\"\\ud658\\uacbd\\ubc94\\uc8c4\",\"marker\":{\"color\":\"#EF553B\",\"symbol\":\"circle\"},\"mode\":\"markers\",\"name\":\"\\ud658\\uacbd\\ubc94\\uc8c4\",\"orientation\":\"v\",\"showlegend\":false,\"x\":[\"\\ud658\\uacbd\\ubc94\\uc8c4\"],\"xaxis\":\"x3\",\"y\":[39.0],\"yaxis\":\"y3\",\"type\":\"scatter\"},{\"hovertemplate\":\"\\ubc94\\uc8c4\\uc911\\ubd84\\ub958=\\ud658\\uacbd\\ubc94\\uc8c4<br>Year=21<br>\\ubc94\\uc8c4\\ub300\\ubd84\\ub958=%{x}<br>\\uc11c\\uc6b8=%{y}<extra></extra>\",\"legendgroup\":\"\\ud658\\uacbd\\ubc94\\uc8c4\",\"marker\":{\"color\":\"#EF553B\",\"symbol\":\"circle\"},\"mode\":\"markers\",\"name\":\"\\ud658\\uacbd\\ubc94\\uc8c4\",\"orientation\":\"v\",\"showlegend\":false,\"x\":[\"\\ud658\\uacbd\\ubc94\\uc8c4\"],\"xaxis\":\"x4\",\"y\":[30.0],\"yaxis\":\"y4\",\"type\":\"scatter\"},{\"hovertemplate\":\"\\ubc94\\uc8c4\\uc911\\ubd84\\ub958=\\ud658\\uacbd\\ubc94\\uc8c4<br>Year=22<br>\\ubc94\\uc8c4\\ub300\\ubd84\\ub958=%{x}<br>\\uc11c\\uc6b8=%{y}<extra></extra>\",\"legendgroup\":\"\\ud658\\uacbd\\ubc94\\uc8c4\",\"marker\":{\"color\":\"#EF553B\",\"symbol\":\"circle\"},\"mode\":\"markers\",\"name\":\"\\ud658\\uacbd\\ubc94\\uc8c4\",\"orientation\":\"v\",\"showlegend\":false,\"x\":[\"\\ud658\\uacbd\\ubc94\\uc8c4\"],\"xaxis\":\"x5\",\"y\":[50.0],\"yaxis\":\"y5\",\"type\":\"scatter\"},{\"hovertemplate\":\"\\ubc94\\uc8c4\\uc911\\ubd84\\ub958=\\ud658\\uacbd\\ubc94\\uc8c4<br>Year=23<br>\\ubc94\\uc8c4\\ub300\\ubd84\\ub958=%{x}<br>\\uc11c\\uc6b8=%{y}<extra></extra>\",\"legendgroup\":\"\\ud658\\uacbd\\ubc94\\uc8c4\",\"marker\":{\"color\":\"#EF553B\",\"symbol\":\"circle\"},\"mode\":\"markers\",\"name\":\"\\ud658\\uacbd\\ubc94\\uc8c4\",\"orientation\":\"v\",\"showlegend\":false,\"x\":[\"\\ud658\\uacbd\\ubc94\\uc8c4\"],\"xaxis\":\"x6\",\"y\":[46.0],\"yaxis\":\"y6\",\"type\":\"scatter\"},{\"hovertemplate\":\"\\ubc94\\uc8c4\\uc911\\ubd84\\ub958=\\uad50\\ud1b5\\ubc94\\uc8c4<br>Year=18<br>\\ubc94\\uc8c4\\ub300\\ubd84\\ub958=%{x}<br>\\uc11c\\uc6b8=%{y}<extra></extra>\",\"legendgroup\":\"\\uad50\\ud1b5\\ubc94\\uc8c4\",\"marker\":{\"color\":\"#00cc96\",\"symbol\":\"circle\"},\"mode\":\"markers\",\"name\":\"\\uad50\\ud1b5\\ubc94\\uc8c4\",\"orientation\":\"v\",\"showlegend\":true,\"x\":[\"\\uad50\\ud1b5\\ubc94\\uc8c4\"],\"xaxis\":\"x\",\"y\":[61132.0],\"yaxis\":\"y\",\"type\":\"scatter\"},{\"hovertemplate\":\"\\ubc94\\uc8c4\\uc911\\ubd84\\ub958=\\uad50\\ud1b5\\ubc94\\uc8c4<br>Year=19<br>\\ubc94\\uc8c4\\ub300\\ubd84\\ub958=%{x}<br>\\uc11c\\uc6b8=%{y}<extra></extra>\",\"legendgroup\":\"\\uad50\\ud1b5\\ubc94\\uc8c4\",\"marker\":{\"color\":\"#00cc96\",\"symbol\":\"circle\"},\"mode\":\"markers\",\"name\":\"\\uad50\\ud1b5\\ubc94\\uc8c4\",\"orientation\":\"v\",\"showlegend\":false,\"x\":[\"\\uad50\\ud1b5\\ubc94\\uc8c4\"],\"xaxis\":\"x2\",\"y\":[55273.0],\"yaxis\":\"y2\",\"type\":\"scatter\"},{\"hovertemplate\":\"\\ubc94\\uc8c4\\uc911\\ubd84\\ub958=\\uad50\\ud1b5\\ubc94\\uc8c4<br>Year=20<br>\\ubc94\\uc8c4\\ub300\\ubd84\\ub958=%{x}<br>\\uc11c\\uc6b8=%{y}<extra></extra>\",\"legendgroup\":\"\\uad50\\ud1b5\\ubc94\\uc8c4\",\"marker\":{\"color\":\"#00cc96\",\"symbol\":\"circle\"},\"mode\":\"markers\",\"name\":\"\\uad50\\ud1b5\\ubc94\\uc8c4\",\"orientation\":\"v\",\"showlegend\":false,\"x\":[\"\\uad50\\ud1b5\\ubc94\\uc8c4\"],\"xaxis\":\"x3\",\"y\":[50895.0],\"yaxis\":\"y3\",\"type\":\"scatter\"},{\"hovertemplate\":\"\\ubc94\\uc8c4\\uc911\\ubd84\\ub958=\\uad50\\ud1b5\\ubc94\\uc8c4<br>Year=21<br>\\ubc94\\uc8c4\\ub300\\ubd84\\ub958=%{x}<br>\\uc11c\\uc6b8=%{y}<extra></extra>\",\"legendgroup\":\"\\uad50\\ud1b5\\ubc94\\uc8c4\",\"marker\":{\"color\":\"#00cc96\",\"symbol\":\"circle\"},\"mode\":\"markers\",\"name\":\"\\uad50\\ud1b5\\ubc94\\uc8c4\",\"orientation\":\"v\",\"showlegend\":false,\"x\":[\"\\uad50\\ud1b5\\ubc94\\uc8c4\"],\"xaxis\":\"x4\",\"y\":[43206.0],\"yaxis\":\"y4\",\"type\":\"scatter\"},{\"hovertemplate\":\"\\ubc94\\uc8c4\\uc911\\ubd84\\ub958=\\uad50\\ud1b5\\ubc94\\uc8c4<br>Year=22<br>\\ubc94\\uc8c4\\ub300\\ubd84\\ub958=%{x}<br>\\uc11c\\uc6b8=%{y}<extra></extra>\",\"legendgroup\":\"\\uad50\\ud1b5\\ubc94\\uc8c4\",\"marker\":{\"color\":\"#00cc96\",\"symbol\":\"circle\"},\"mode\":\"markers\",\"name\":\"\\uad50\\ud1b5\\ubc94\\uc8c4\",\"orientation\":\"v\",\"showlegend\":false,\"x\":[\"\\uad50\\ud1b5\\ubc94\\uc8c4\"],\"xaxis\":\"x5\",\"y\":[32013.0],\"yaxis\":\"y5\",\"type\":\"scatter\"},{\"hovertemplate\":\"\\ubc94\\uc8c4\\uc911\\ubd84\\ub958=\\uad50\\ud1b5\\ubc94\\uc8c4<br>Year=23<br>\\ubc94\\uc8c4\\ub300\\ubd84\\ub958=%{x}<br>\\uc11c\\uc6b8=%{y}<extra></extra>\",\"legendgroup\":\"\\uad50\\ud1b5\\ubc94\\uc8c4\",\"marker\":{\"color\":\"#00cc96\",\"symbol\":\"circle\"},\"mode\":\"markers\",\"name\":\"\\uad50\\ud1b5\\ubc94\\uc8c4\",\"orientation\":\"v\",\"showlegend\":false,\"x\":[\"\\uad50\\ud1b5\\ubc94\\uc8c4\"],\"xaxis\":\"x6\",\"y\":[30036.0],\"yaxis\":\"y6\",\"type\":\"scatter\"},{\"hovertemplate\":\"\\ubc94\\uc8c4\\uc911\\ubd84\\ub958=\\ub178\\ub3d9\\ubc94\\uc8c4<br>Year=18<br>\\ubc94\\uc8c4\\ub300\\ubd84\\ub958=%{x}<br>\\uc11c\\uc6b8=%{y}<extra></extra>\",\"legendgroup\":\"\\ub178\\ub3d9\\ubc94\\uc8c4\",\"marker\":{\"color\":\"#ab63fa\",\"symbol\":\"circle\"},\"mode\":\"markers\",\"name\":\"\\ub178\\ub3d9\\ubc94\\uc8c4\",\"orientation\":\"v\",\"showlegend\":true,\"x\":[\"\\ub178\\ub3d9\\ubc94\\uc8c4\"],\"xaxis\":\"x\",\"y\":[183.0],\"yaxis\":\"y\",\"type\":\"scatter\"},{\"hovertemplate\":\"\\ubc94\\uc8c4\\uc911\\ubd84\\ub958=\\ub178\\ub3d9\\ubc94\\uc8c4<br>Year=19<br>\\ubc94\\uc8c4\\ub300\\ubd84\\ub958=%{x}<br>\\uc11c\\uc6b8=%{y}<extra></extra>\",\"legendgroup\":\"\\ub178\\ub3d9\\ubc94\\uc8c4\",\"marker\":{\"color\":\"#ab63fa\",\"symbol\":\"circle\"},\"mode\":\"markers\",\"name\":\"\\ub178\\ub3d9\\ubc94\\uc8c4\",\"orientation\":\"v\",\"showlegend\":false,\"x\":[\"\\ub178\\ub3d9\\ubc94\\uc8c4\"],\"xaxis\":\"x2\",\"y\":[96.0],\"yaxis\":\"y2\",\"type\":\"scatter\"},{\"hovertemplate\":\"\\ubc94\\uc8c4\\uc911\\ubd84\\ub958=\\ub178\\ub3d9\\ubc94\\uc8c4<br>Year=20<br>\\ubc94\\uc8c4\\ub300\\ubd84\\ub958=%{x}<br>\\uc11c\\uc6b8=%{y}<extra></extra>\",\"legendgroup\":\"\\ub178\\ub3d9\\ubc94\\uc8c4\",\"marker\":{\"color\":\"#ab63fa\",\"symbol\":\"circle\"},\"mode\":\"markers\",\"name\":\"\\ub178\\ub3d9\\ubc94\\uc8c4\",\"orientation\":\"v\",\"showlegend\":false,\"x\":[\"\\ub178\\ub3d9\\ubc94\\uc8c4\"],\"xaxis\":\"x3\",\"y\":[55.0],\"yaxis\":\"y3\",\"type\":\"scatter\"},{\"hovertemplate\":\"\\ubc94\\uc8c4\\uc911\\ubd84\\ub958=\\ub178\\ub3d9\\ubc94\\uc8c4<br>Year=21<br>\\ubc94\\uc8c4\\ub300\\ubd84\\ub958=%{x}<br>\\uc11c\\uc6b8=%{y}<extra></extra>\",\"legendgroup\":\"\\ub178\\ub3d9\\ubc94\\uc8c4\",\"marker\":{\"color\":\"#ab63fa\",\"symbol\":\"circle\"},\"mode\":\"markers\",\"name\":\"\\ub178\\ub3d9\\ubc94\\uc8c4\",\"orientation\":\"v\",\"showlegend\":false,\"x\":[\"\\ub178\\ub3d9\\ubc94\\uc8c4\"],\"xaxis\":\"x4\",\"y\":[78.0],\"yaxis\":\"y4\",\"type\":\"scatter\"},{\"hovertemplate\":\"\\ubc94\\uc8c4\\uc911\\ubd84\\ub958=\\ub178\\ub3d9\\ubc94\\uc8c4<br>Year=22<br>\\ubc94\\uc8c4\\ub300\\ubd84\\ub958=%{x}<br>\\uc11c\\uc6b8=%{y}<extra></extra>\",\"legendgroup\":\"\\ub178\\ub3d9\\ubc94\\uc8c4\",\"marker\":{\"color\":\"#ab63fa\",\"symbol\":\"circle\"},\"mode\":\"markers\",\"name\":\"\\ub178\\ub3d9\\ubc94\\uc8c4\",\"orientation\":\"v\",\"showlegend\":false,\"x\":[\"\\ub178\\ub3d9\\ubc94\\uc8c4\"],\"xaxis\":\"x5\",\"y\":[83.0],\"yaxis\":\"y5\",\"type\":\"scatter\"},{\"hovertemplate\":\"\\ubc94\\uc8c4\\uc911\\ubd84\\ub958=\\ub178\\ub3d9\\ubc94\\uc8c4<br>Year=23<br>\\ubc94\\uc8c4\\ub300\\ubd84\\ub958=%{x}<br>\\uc11c\\uc6b8=%{y}<extra></extra>\",\"legendgroup\":\"\\ub178\\ub3d9\\ubc94\\uc8c4\",\"marker\":{\"color\":\"#ab63fa\",\"symbol\":\"circle\"},\"mode\":\"markers\",\"name\":\"\\ub178\\ub3d9\\ubc94\\uc8c4\",\"orientation\":\"v\",\"showlegend\":false,\"x\":[\"\\ub178\\ub3d9\\ubc94\\uc8c4\"],\"xaxis\":\"x6\",\"y\":[68.0],\"yaxis\":\"y6\",\"type\":\"scatter\"},{\"hovertemplate\":\"\\ubc94\\uc8c4\\uc911\\ubd84\\ub958=\\uc548\\ubcf4\\ubc94\\uc8c4<br>Year=18<br>\\ubc94\\uc8c4\\ub300\\ubd84\\ub958=%{x}<br>\\uc11c\\uc6b8=%{y}<extra></extra>\",\"legendgroup\":\"\\uc548\\ubcf4\\ubc94\\uc8c4\",\"marker\":{\"color\":\"#FFA15A\",\"symbol\":\"circle\"},\"mode\":\"markers\",\"name\":\"\\uc548\\ubcf4\\ubc94\\uc8c4\",\"orientation\":\"v\",\"showlegend\":true,\"x\":[\"\\uc548\\ubcf4\\ubc94\\uc8c4\"],\"xaxis\":\"x\",\"y\":[29.0],\"yaxis\":\"y\",\"type\":\"scatter\"},{\"hovertemplate\":\"\\ubc94\\uc8c4\\uc911\\ubd84\\ub958=\\uc548\\ubcf4\\ubc94\\uc8c4<br>Year=19<br>\\ubc94\\uc8c4\\ub300\\ubd84\\ub958=%{x}<br>\\uc11c\\uc6b8=%{y}<extra></extra>\",\"legendgroup\":\"\\uc548\\ubcf4\\ubc94\\uc8c4\",\"marker\":{\"color\":\"#FFA15A\",\"symbol\":\"circle\"},\"mode\":\"markers\",\"name\":\"\\uc548\\ubcf4\\ubc94\\uc8c4\",\"orientation\":\"v\",\"showlegend\":false,\"x\":[\"\\uc548\\ubcf4\\ubc94\\uc8c4\"],\"xaxis\":\"x2\",\"y\":[102.0],\"yaxis\":\"y2\",\"type\":\"scatter\"},{\"hovertemplate\":\"\\ubc94\\uc8c4\\uc911\\ubd84\\ub958=\\uc548\\ubcf4\\ubc94\\uc8c4<br>Year=20<br>\\ubc94\\uc8c4\\ub300\\ubd84\\ub958=%{x}<br>\\uc11c\\uc6b8=%{y}<extra></extra>\",\"legendgroup\":\"\\uc548\\ubcf4\\ubc94\\uc8c4\",\"marker\":{\"color\":\"#FFA15A\",\"symbol\":\"circle\"},\"mode\":\"markers\",\"name\":\"\\uc548\\ubcf4\\ubc94\\uc8c4\",\"orientation\":\"v\",\"showlegend\":false,\"x\":[\"\\uc548\\ubcf4\\ubc94\\uc8c4\"],\"xaxis\":\"x3\",\"y\":[124.0],\"yaxis\":\"y3\",\"type\":\"scatter\"},{\"hovertemplate\":\"\\ubc94\\uc8c4\\uc911\\ubd84\\ub958=\\uc548\\ubcf4\\ubc94\\uc8c4<br>Year=21<br>\\ubc94\\uc8c4\\ub300\\ubd84\\ub958=%{x}<br>\\uc11c\\uc6b8=%{y}<extra></extra>\",\"legendgroup\":\"\\uc548\\ubcf4\\ubc94\\uc8c4\",\"marker\":{\"color\":\"#FFA15A\",\"symbol\":\"circle\"},\"mode\":\"markers\",\"name\":\"\\uc548\\ubcf4\\ubc94\\uc8c4\",\"orientation\":\"v\",\"showlegend\":false,\"x\":[\"\\uc548\\ubcf4\\ubc94\\uc8c4\"],\"xaxis\":\"x4\",\"y\":[98.0],\"yaxis\":\"y4\",\"type\":\"scatter\"},{\"hovertemplate\":\"\\ubc94\\uc8c4\\uc911\\ubd84\\ub958=\\uc548\\ubcf4\\ubc94\\uc8c4<br>Year=22<br>\\ubc94\\uc8c4\\ub300\\ubd84\\ub958=%{x}<br>\\uc11c\\uc6b8=%{y}<extra></extra>\",\"legendgroup\":\"\\uc548\\ubcf4\\ubc94\\uc8c4\",\"marker\":{\"color\":\"#FFA15A\",\"symbol\":\"circle\"},\"mode\":\"markers\",\"name\":\"\\uc548\\ubcf4\\ubc94\\uc8c4\",\"orientation\":\"v\",\"showlegend\":false,\"x\":[\"\\uc548\\ubcf4\\ubc94\\uc8c4\"],\"xaxis\":\"x5\",\"y\":[61.0],\"yaxis\":\"y5\",\"type\":\"scatter\"},{\"hovertemplate\":\"\\ubc94\\uc8c4\\uc911\\ubd84\\ub958=\\uc548\\ubcf4\\ubc94\\uc8c4<br>Year=23<br>\\ubc94\\uc8c4\\ub300\\ubd84\\ub958=%{x}<br>\\uc11c\\uc6b8=%{y}<extra></extra>\",\"legendgroup\":\"\\uc548\\ubcf4\\ubc94\\uc8c4\",\"marker\":{\"color\":\"#FFA15A\",\"symbol\":\"circle\"},\"mode\":\"markers\",\"name\":\"\\uc548\\ubcf4\\ubc94\\uc8c4\",\"orientation\":\"v\",\"showlegend\":false,\"x\":[\"\\uc548\\ubcf4\\ubc94\\uc8c4\"],\"xaxis\":\"x6\",\"y\":[104.0],\"yaxis\":\"y6\",\"type\":\"scatter\"},{\"hovertemplate\":\"\\ubc94\\uc8c4\\uc911\\ubd84\\ub958=\\uc120\\uac70\\ubc94\\uc8c4<br>Year=18<br>\\ubc94\\uc8c4\\ub300\\ubd84\\ub958=%{x}<br>\\uc11c\\uc6b8=%{y}<extra></extra>\",\"legendgroup\":\"\\uc120\\uac70\\ubc94\\uc8c4\",\"marker\":{\"color\":\"#19d3f3\",\"symbol\":\"circle\"},\"mode\":\"markers\",\"name\":\"\\uc120\\uac70\\ubc94\\uc8c4\",\"orientation\":\"v\",\"showlegend\":true,\"x\":[\"\\uc120\\uac70\\ubc94\\uc8c4\"],\"xaxis\":\"x\",\"y\":[213.0],\"yaxis\":\"y\",\"type\":\"scatter\"},{\"hovertemplate\":\"\\ubc94\\uc8c4\\uc911\\ubd84\\ub958=\\uc120\\uac70\\ubc94\\uc8c4<br>Year=19<br>\\ubc94\\uc8c4\\ub300\\ubd84\\ub958=%{x}<br>\\uc11c\\uc6b8=%{y}<extra></extra>\",\"legendgroup\":\"\\uc120\\uac70\\ubc94\\uc8c4\",\"marker\":{\"color\":\"#19d3f3\",\"symbol\":\"circle\"},\"mode\":\"markers\",\"name\":\"\\uc120\\uac70\\ubc94\\uc8c4\",\"orientation\":\"v\",\"showlegend\":false,\"x\":[\"\\uc120\\uac70\\ubc94\\uc8c4\"],\"xaxis\":\"x2\",\"y\":[27.0],\"yaxis\":\"y2\",\"type\":\"scatter\"},{\"hovertemplate\":\"\\ubc94\\uc8c4\\uc911\\ubd84\\ub958=\\uc120\\uac70\\ubc94\\uc8c4<br>Year=20<br>\\ubc94\\uc8c4\\ub300\\ubd84\\ub958=%{x}<br>\\uc11c\\uc6b8=%{y}<extra></extra>\",\"legendgroup\":\"\\uc120\\uac70\\ubc94\\uc8c4\",\"marker\":{\"color\":\"#19d3f3\",\"symbol\":\"circle\"},\"mode\":\"markers\",\"name\":\"\\uc120\\uac70\\ubc94\\uc8c4\",\"orientation\":\"v\",\"showlegend\":false,\"x\":[\"\\uc120\\uac70\\ubc94\\uc8c4\"],\"xaxis\":\"x3\",\"y\":[201.0],\"yaxis\":\"y3\",\"type\":\"scatter\"},{\"hovertemplate\":\"\\ubc94\\uc8c4\\uc911\\ubd84\\ub958=\\uc120\\uac70\\ubc94\\uc8c4<br>Year=21<br>\\ubc94\\uc8c4\\ub300\\ubd84\\ub958=%{x}<br>\\uc11c\\uc6b8=%{y}<extra></extra>\",\"legendgroup\":\"\\uc120\\uac70\\ubc94\\uc8c4\",\"marker\":{\"color\":\"#19d3f3\",\"symbol\":\"circle\"},\"mode\":\"markers\",\"name\":\"\\uc120\\uac70\\ubc94\\uc8c4\",\"orientation\":\"v\",\"showlegend\":false,\"x\":[\"\\uc120\\uac70\\ubc94\\uc8c4\"],\"xaxis\":\"x4\",\"y\":[129.0],\"yaxis\":\"y4\",\"type\":\"scatter\"},{\"hovertemplate\":\"\\ubc94\\uc8c4\\uc911\\ubd84\\ub958=\\uc120\\uac70\\ubc94\\uc8c4<br>Year=22<br>\\ubc94\\uc8c4\\ub300\\ubd84\\ub958=%{x}<br>\\uc11c\\uc6b8=%{y}<extra></extra>\",\"legendgroup\":\"\\uc120\\uac70\\ubc94\\uc8c4\",\"marker\":{\"color\":\"#19d3f3\",\"symbol\":\"circle\"},\"mode\":\"markers\",\"name\":\"\\uc120\\uac70\\ubc94\\uc8c4\",\"orientation\":\"v\",\"showlegend\":false,\"x\":[\"\\uc120\\uac70\\ubc94\\uc8c4\"],\"xaxis\":\"x5\",\"y\":[552.0],\"yaxis\":\"y5\",\"type\":\"scatter\"},{\"hovertemplate\":\"\\ubc94\\uc8c4\\uc911\\ubd84\\ub958=\\uc120\\uac70\\ubc94\\uc8c4<br>Year=23<br>\\ubc94\\uc8c4\\ub300\\ubd84\\ub958=%{x}<br>\\uc11c\\uc6b8=%{y}<extra></extra>\",\"legendgroup\":\"\\uc120\\uac70\\ubc94\\uc8c4\",\"marker\":{\"color\":\"#19d3f3\",\"symbol\":\"circle\"},\"mode\":\"markers\",\"name\":\"\\uc120\\uac70\\ubc94\\uc8c4\",\"orientation\":\"v\",\"showlegend\":false,\"x\":[\"\\uc120\\uac70\\ubc94\\uc8c4\"],\"xaxis\":\"x6\",\"y\":[55.0],\"yaxis\":\"y6\",\"type\":\"scatter\"},{\"hovertemplate\":\"\\ubc94\\uc8c4\\uc911\\ubd84\\ub958=\\ubcd1\\uc5ed\\ubc94\\uc8c4<br>Year=18<br>\\ubc94\\uc8c4\\ub300\\ubd84\\ub958=%{x}<br>\\uc11c\\uc6b8=%{y}<extra></extra>\",\"legendgroup\":\"\\ubcd1\\uc5ed\\ubc94\\uc8c4\",\"marker\":{\"color\":\"#FF6692\",\"symbol\":\"circle\"},\"mode\":\"markers\",\"name\":\"\\ubcd1\\uc5ed\\ubc94\\uc8c4\",\"orientation\":\"v\",\"showlegend\":true,\"x\":[\"\\ubcd1\\uc5ed\\ubc94\\uc8c4\"],\"xaxis\":\"x\",\"y\":[3383.0],\"yaxis\":\"y\",\"type\":\"scatter\"},{\"hovertemplate\":\"\\ubc94\\uc8c4\\uc911\\ubd84\\ub958=\\ubcd1\\uc5ed\\ubc94\\uc8c4<br>Year=19<br>\\ubc94\\uc8c4\\ub300\\ubd84\\ub958=%{x}<br>\\uc11c\\uc6b8=%{y}<extra></extra>\",\"legendgroup\":\"\\ubcd1\\uc5ed\\ubc94\\uc8c4\",\"marker\":{\"color\":\"#FF6692\",\"symbol\":\"circle\"},\"mode\":\"markers\",\"name\":\"\\ubcd1\\uc5ed\\ubc94\\uc8c4\",\"orientation\":\"v\",\"showlegend\":false,\"x\":[\"\\ubcd1\\uc5ed\\ubc94\\uc8c4\"],\"xaxis\":\"x2\",\"y\":[2986.0],\"yaxis\":\"y2\",\"type\":\"scatter\"},{\"hovertemplate\":\"\\ubc94\\uc8c4\\uc911\\ubd84\\ub958=\\ubcd1\\uc5ed\\ubc94\\uc8c4<br>Year=20<br>\\ubc94\\uc8c4\\ub300\\ubd84\\ub958=%{x}<br>\\uc11c\\uc6b8=%{y}<extra></extra>\",\"legendgroup\":\"\\ubcd1\\uc5ed\\ubc94\\uc8c4\",\"marker\":{\"color\":\"#FF6692\",\"symbol\":\"circle\"},\"mode\":\"markers\",\"name\":\"\\ubcd1\\uc5ed\\ubc94\\uc8c4\",\"orientation\":\"v\",\"showlegend\":false,\"x\":[\"\\ubcd1\\uc5ed\\ubc94\\uc8c4\"],\"xaxis\":\"x3\",\"y\":[748.0],\"yaxis\":\"y3\",\"type\":\"scatter\"},{\"hovertemplate\":\"\\ubc94\\uc8c4\\uc911\\ubd84\\ub958=\\ubcd1\\uc5ed\\ubc94\\uc8c4<br>Year=21<br>\\ubc94\\uc8c4\\ub300\\ubd84\\ub958=%{x}<br>\\uc11c\\uc6b8=%{y}<extra></extra>\",\"legendgroup\":\"\\ubcd1\\uc5ed\\ubc94\\uc8c4\",\"marker\":{\"color\":\"#FF6692\",\"symbol\":\"circle\"},\"mode\":\"markers\",\"name\":\"\\ubcd1\\uc5ed\\ubc94\\uc8c4\",\"orientation\":\"v\",\"showlegend\":false,\"x\":[\"\\ubcd1\\uc5ed\\ubc94\\uc8c4\"],\"xaxis\":\"x4\",\"y\":[308.0],\"yaxis\":\"y4\",\"type\":\"scatter\"},{\"hovertemplate\":\"\\ubc94\\uc8c4\\uc911\\ubd84\\ub958=\\ubcd1\\uc5ed\\ubc94\\uc8c4<br>Year=22<br>\\ubc94\\uc8c4\\ub300\\ubd84\\ub958=%{x}<br>\\uc11c\\uc6b8=%{y}<extra></extra>\",\"legendgroup\":\"\\ubcd1\\uc5ed\\ubc94\\uc8c4\",\"marker\":{\"color\":\"#FF6692\",\"symbol\":\"circle\"},\"mode\":\"markers\",\"name\":\"\\ubcd1\\uc5ed\\ubc94\\uc8c4\",\"orientation\":\"v\",\"showlegend\":false,\"x\":[\"\\ubcd1\\uc5ed\\ubc94\\uc8c4\"],\"xaxis\":\"x5\",\"y\":[935.0],\"yaxis\":\"y5\",\"type\":\"scatter\"},{\"hovertemplate\":\"\\ubc94\\uc8c4\\uc911\\ubd84\\ub958=\\ubcd1\\uc5ed\\ubc94\\uc8c4<br>Year=23<br>\\ubc94\\uc8c4\\ub300\\ubd84\\ub958=%{x}<br>\\uc11c\\uc6b8=%{y}<extra></extra>\",\"legendgroup\":\"\\ubcd1\\uc5ed\\ubc94\\uc8c4\",\"marker\":{\"color\":\"#FF6692\",\"symbol\":\"circle\"},\"mode\":\"markers\",\"name\":\"\\ubcd1\\uc5ed\\ubc94\\uc8c4\",\"orientation\":\"v\",\"showlegend\":false,\"x\":[\"\\ubcd1\\uc5ed\\ubc94\\uc8c4\"],\"xaxis\":\"x6\",\"y\":[1514.0],\"yaxis\":\"y6\",\"type\":\"scatter\"},{\"hovertemplate\":\"\\ubc94\\uc8c4\\uc911\\ubd84\\ub958=\\uae30\\ud0c0\\ubc94\\uc8c4<br>Year=18<br>\\ubc94\\uc8c4\\ub300\\ubd84\\ub958=%{x}<br>\\uc11c\\uc6b8=%{y}<extra></extra>\",\"legendgroup\":\"\\uae30\\ud0c0\\ubc94\\uc8c4\",\"marker\":{\"color\":\"#B6E880\",\"symbol\":\"circle\"},\"mode\":\"markers\",\"name\":\"\\uae30\\ud0c0\\ubc94\\uc8c4\",\"orientation\":\"v\",\"showlegend\":true,\"x\":[\"\\uae30\\ud0c0\\ubc94\\uc8c4\"],\"xaxis\":\"x\",\"y\":[41780.0],\"yaxis\":\"y\",\"type\":\"scatter\"},{\"hovertemplate\":\"\\ubc94\\uc8c4\\uc911\\ubd84\\ub958=\\uae30\\ud0c0\\ubc94\\uc8c4<br>Year=19<br>\\ubc94\\uc8c4\\ub300\\ubd84\\ub958=%{x}<br>\\uc11c\\uc6b8=%{y}<extra></extra>\",\"legendgroup\":\"\\uae30\\ud0c0\\ubc94\\uc8c4\",\"marker\":{\"color\":\"#B6E880\",\"symbol\":\"circle\"},\"mode\":\"markers\",\"name\":\"\\uae30\\ud0c0\\ubc94\\uc8c4\",\"orientation\":\"v\",\"showlegend\":false,\"x\":[\"\\uae30\\ud0c0\\ubc94\\uc8c4\"],\"xaxis\":\"x2\",\"y\":[41566.0],\"yaxis\":\"y2\",\"type\":\"scatter\"},{\"hovertemplate\":\"\\ubc94\\uc8c4\\uc911\\ubd84\\ub958=\\uae30\\ud0c0\\ubc94\\uc8c4<br>Year=20<br>\\ubc94\\uc8c4\\ub300\\ubd84\\ub958=%{x}<br>\\uc11c\\uc6b8=%{y}<extra></extra>\",\"legendgroup\":\"\\uae30\\ud0c0\\ubc94\\uc8c4\",\"marker\":{\"color\":\"#B6E880\",\"symbol\":\"circle\"},\"mode\":\"markers\",\"name\":\"\\uae30\\ud0c0\\ubc94\\uc8c4\",\"orientation\":\"v\",\"showlegend\":false,\"x\":[\"\\uae30\\ud0c0\\ubc94\\uc8c4\"],\"xaxis\":\"x3\",\"y\":[41026.0],\"yaxis\":\"y3\",\"type\":\"scatter\"},{\"hovertemplate\":\"\\ubc94\\uc8c4\\uc911\\ubd84\\ub958=\\uae30\\ud0c0\\ubc94\\uc8c4<br>Year=21<br>\\ubc94\\uc8c4\\ub300\\ubd84\\ub958=%{x}<br>\\uc11c\\uc6b8=%{y}<extra></extra>\",\"legendgroup\":\"\\uae30\\ud0c0\\ubc94\\uc8c4\",\"marker\":{\"color\":\"#B6E880\",\"symbol\":\"circle\"},\"mode\":\"markers\",\"name\":\"\\uae30\\ud0c0\\ubc94\\uc8c4\",\"orientation\":\"v\",\"showlegend\":false,\"x\":[\"\\uae30\\ud0c0\\ubc94\\uc8c4\"],\"xaxis\":\"x4\",\"y\":[42198.0],\"yaxis\":\"y4\",\"type\":\"scatter\"},{\"hovertemplate\":\"\\ubc94\\uc8c4\\uc911\\ubd84\\ub958=\\uae30\\ud0c0\\ubc94\\uc8c4<br>Year=22<br>\\ubc94\\uc8c4\\ub300\\ubd84\\ub958=%{x}<br>\\uc11c\\uc6b8=%{y}<extra></extra>\",\"legendgroup\":\"\\uae30\\ud0c0\\ubc94\\uc8c4\",\"marker\":{\"color\":\"#B6E880\",\"symbol\":\"circle\"},\"mode\":\"markers\",\"name\":\"\\uae30\\ud0c0\\ubc94\\uc8c4\",\"orientation\":\"v\",\"showlegend\":false,\"x\":[\"\\uae30\\ud0c0\\ubc94\\uc8c4\"],\"xaxis\":\"x5\",\"y\":[48367.0],\"yaxis\":\"y5\",\"type\":\"scatter\"},{\"hovertemplate\":\"\\ubc94\\uc8c4\\uc911\\ubd84\\ub958=\\uae30\\ud0c0\\ubc94\\uc8c4<br>Year=23<br>\\ubc94\\uc8c4\\ub300\\ubd84\\ub958=%{x}<br>\\uc11c\\uc6b8=%{y}<extra></extra>\",\"legendgroup\":\"\\uae30\\ud0c0\\ubc94\\uc8c4\",\"marker\":{\"color\":\"#B6E880\",\"symbol\":\"circle\"},\"mode\":\"markers\",\"name\":\"\\uae30\\ud0c0\\ubc94\\uc8c4\",\"orientation\":\"v\",\"showlegend\":false,\"x\":[\"\\uae30\\ud0c0\\ubc94\\uc8c4\"],\"xaxis\":\"x6\",\"y\":[49158.0],\"yaxis\":\"y6\",\"type\":\"scatter\"},{\"hovertemplate\":\"\\ubc94\\uc8c4\\uc911\\ubd84\\ub958=\\uae30\\ud0c0 \\uac15\\uac04 \\uac15\\uc81c\\ucd94\\ud589\\ub4f1<br>Year=23<br>\\ubc94\\uc8c4\\ub300\\ubd84\\ub958=%{x}<br>\\uc11c\\uc6b8=%{y}<extra></extra>\",\"legendgroup\":\"\\uae30\\ud0c0 \\uac15\\uac04 \\uac15\\uc81c\\ucd94\\ud589\\ub4f1\",\"marker\":{\"color\":\"#FECB52\",\"symbol\":\"circle\"},\"mode\":\"markers\",\"name\":\"\\uae30\\ud0c0 \\uac15\\uac04 \\uac15\\uc81c\\ucd94\\ud589\\ub4f1\",\"orientation\":\"v\",\"showlegend\":true,\"x\":[\"\\uac15\\ub825\\ubc94\\uc8c4\"],\"xaxis\":\"x6\",\"y\":[20.0],\"yaxis\":\"y6\",\"type\":\"scatter\"},{\"hovertemplate\":\"\\ubc94\\uc8c4\\uc911\\ubd84\\ub958=\\uc57d\\ucde8 \\uc720\\uc778<br>Year=23<br>\\ubc94\\uc8c4\\ub300\\ubd84\\ub958=%{x}<br>\\uc11c\\uc6b8=%{y}<extra></extra>\",\"legendgroup\":\"\\uc57d\\ucde8 \\uc720\\uc778\",\"marker\":{\"color\":\"#636efa\",\"symbol\":\"circle\"},\"mode\":\"markers\",\"name\":\"\\uc57d\\ucde8 \\uc720\\uc778\",\"orientation\":\"v\",\"showlegend\":true,\"x\":[\"\\ud3ed\\ub825\\ubc94\\uc8c4\"],\"xaxis\":\"x6\",\"y\":[67.0],\"yaxis\":\"y6\",\"type\":\"scatter\"},{\"hovertemplate\":\"\\ubc94\\uc8c4\\uc911\\ubd84\\ub958=\\ubb38\\uc11c \\uc778\\uc7a5<br>Year=23<br>\\ubc94\\uc8c4\\ub300\\ubd84\\ub958=%{x}<br>\\uc11c\\uc6b8=%{y}<extra></extra>\",\"legendgroup\":\"\\ubb38\\uc11c \\uc778\\uc7a5\",\"marker\":{\"color\":\"#EF553B\",\"symbol\":\"circle\"},\"mode\":\"markers\",\"name\":\"\\ubb38\\uc11c \\uc778\\uc7a5\",\"orientation\":\"v\",\"showlegend\":true,\"x\":[\"\\uc9c0\\ub2a5\\ubc94\\uc8c4\"],\"xaxis\":\"x6\",\"y\":[2207.0],\"yaxis\":\"y6\",\"type\":\"scatter\"}],                        {\"template\":{\"data\":{\"histogram2dcontour\":[{\"type\":\"histogram2dcontour\",\"colorbar\":{\"outlinewidth\":0,\"ticks\":\"\"},\"colorscale\":[[0.0,\"#0d0887\"],[0.1111111111111111,\"#46039f\"],[0.2222222222222222,\"#7201a8\"],[0.3333333333333333,\"#9c179e\"],[0.4444444444444444,\"#bd3786\"],[0.5555555555555556,\"#d8576b\"],[0.6666666666666666,\"#ed7953\"],[0.7777777777777778,\"#fb9f3a\"],[0.8888888888888888,\"#fdca26\"],[1.0,\"#f0f921\"]]}],\"choropleth\":[{\"type\":\"choropleth\",\"colorbar\":{\"outlinewidth\":0,\"ticks\":\"\"}}],\"histogram2d\":[{\"type\":\"histogram2d\",\"colorbar\":{\"outlinewidth\":0,\"ticks\":\"\"},\"colorscale\":[[0.0,\"#0d0887\"],[0.1111111111111111,\"#46039f\"],[0.2222222222222222,\"#7201a8\"],[0.3333333333333333,\"#9c179e\"],[0.4444444444444444,\"#bd3786\"],[0.5555555555555556,\"#d8576b\"],[0.6666666666666666,\"#ed7953\"],[0.7777777777777778,\"#fb9f3a\"],[0.8888888888888888,\"#fdca26\"],[1.0,\"#f0f921\"]]}],\"heatmap\":[{\"type\":\"heatmap\",\"colorbar\":{\"outlinewidth\":0,\"ticks\":\"\"},\"colorscale\":[[0.0,\"#0d0887\"],[0.1111111111111111,\"#46039f\"],[0.2222222222222222,\"#7201a8\"],[0.3333333333333333,\"#9c179e\"],[0.4444444444444444,\"#bd3786\"],[0.5555555555555556,\"#d8576b\"],[0.6666666666666666,\"#ed7953\"],[0.7777777777777778,\"#fb9f3a\"],[0.8888888888888888,\"#fdca26\"],[1.0,\"#f0f921\"]]}],\"heatmapgl\":[{\"type\":\"heatmapgl\",\"colorbar\":{\"outlinewidth\":0,\"ticks\":\"\"},\"colorscale\":[[0.0,\"#0d0887\"],[0.1111111111111111,\"#46039f\"],[0.2222222222222222,\"#7201a8\"],[0.3333333333333333,\"#9c179e\"],[0.4444444444444444,\"#bd3786\"],[0.5555555555555556,\"#d8576b\"],[0.6666666666666666,\"#ed7953\"],[0.7777777777777778,\"#fb9f3a\"],[0.8888888888888888,\"#fdca26\"],[1.0,\"#f0f921\"]]}],\"contourcarpet\":[{\"type\":\"contourcarpet\",\"colorbar\":{\"outlinewidth\":0,\"ticks\":\"\"}}],\"contour\":[{\"type\":\"contour\",\"colorbar\":{\"outlinewidth\":0,\"ticks\":\"\"},\"colorscale\":[[0.0,\"#0d0887\"],[0.1111111111111111,\"#46039f\"],[0.2222222222222222,\"#7201a8\"],[0.3333333333333333,\"#9c179e\"],[0.4444444444444444,\"#bd3786\"],[0.5555555555555556,\"#d8576b\"],[0.6666666666666666,\"#ed7953\"],[0.7777777777777778,\"#fb9f3a\"],[0.8888888888888888,\"#fdca26\"],[1.0,\"#f0f921\"]]}],\"surface\":[{\"type\":\"surface\",\"colorbar\":{\"outlinewidth\":0,\"ticks\":\"\"},\"colorscale\":[[0.0,\"#0d0887\"],[0.1111111111111111,\"#46039f\"],[0.2222222222222222,\"#7201a8\"],[0.3333333333333333,\"#9c179e\"],[0.4444444444444444,\"#bd3786\"],[0.5555555555555556,\"#d8576b\"],[0.6666666666666666,\"#ed7953\"],[0.7777777777777778,\"#fb9f3a\"],[0.8888888888888888,\"#fdca26\"],[1.0,\"#f0f921\"]]}],\"mesh3d\":[{\"type\":\"mesh3d\",\"colorbar\":{\"outlinewidth\":0,\"ticks\":\"\"}}],\"scatter\":[{\"fillpattern\":{\"fillmode\":\"overlay\",\"size\":10,\"solidity\":0.2},\"type\":\"scatter\"}],\"parcoords\":[{\"type\":\"parcoords\",\"line\":{\"colorbar\":{\"outlinewidth\":0,\"ticks\":\"\"}}}],\"scatterpolargl\":[{\"type\":\"scatterpolargl\",\"marker\":{\"colorbar\":{\"outlinewidth\":0,\"ticks\":\"\"}}}],\"bar\":[{\"error_x\":{\"color\":\"#2a3f5f\"},\"error_y\":{\"color\":\"#2a3f5f\"},\"marker\":{\"line\":{\"color\":\"#E5ECF6\",\"width\":0.5},\"pattern\":{\"fillmode\":\"overlay\",\"size\":10,\"solidity\":0.2}},\"type\":\"bar\"}],\"scattergeo\":[{\"type\":\"scattergeo\",\"marker\":{\"colorbar\":{\"outlinewidth\":0,\"ticks\":\"\"}}}],\"scatterpolar\":[{\"type\":\"scatterpolar\",\"marker\":{\"colorbar\":{\"outlinewidth\":0,\"ticks\":\"\"}}}],\"histogram\":[{\"marker\":{\"pattern\":{\"fillmode\":\"overlay\",\"size\":10,\"solidity\":0.2}},\"type\":\"histogram\"}],\"scattergl\":[{\"type\":\"scattergl\",\"marker\":{\"colorbar\":{\"outlinewidth\":0,\"ticks\":\"\"}}}],\"scatter3d\":[{\"type\":\"scatter3d\",\"line\":{\"colorbar\":{\"outlinewidth\":0,\"ticks\":\"\"}},\"marker\":{\"colorbar\":{\"outlinewidth\":0,\"ticks\":\"\"}}}],\"scattermapbox\":[{\"type\":\"scattermapbox\",\"marker\":{\"colorbar\":{\"outlinewidth\":0,\"ticks\":\"\"}}}],\"scatterternary\":[{\"type\":\"scatterternary\",\"marker\":{\"colorbar\":{\"outlinewidth\":0,\"ticks\":\"\"}}}],\"scattercarpet\":[{\"type\":\"scattercarpet\",\"marker\":{\"colorbar\":{\"outlinewidth\":0,\"ticks\":\"\"}}}],\"carpet\":[{\"aaxis\":{\"endlinecolor\":\"#2a3f5f\",\"gridcolor\":\"white\",\"linecolor\":\"white\",\"minorgridcolor\":\"white\",\"startlinecolor\":\"#2a3f5f\"},\"baxis\":{\"endlinecolor\":\"#2a3f5f\",\"gridcolor\":\"white\",\"linecolor\":\"white\",\"minorgridcolor\":\"white\",\"startlinecolor\":\"#2a3f5f\"},\"type\":\"carpet\"}],\"table\":[{\"cells\":{\"fill\":{\"color\":\"#EBF0F8\"},\"line\":{\"color\":\"white\"}},\"header\":{\"fill\":{\"color\":\"#C8D4E3\"},\"line\":{\"color\":\"white\"}},\"type\":\"table\"}],\"barpolar\":[{\"marker\":{\"line\":{\"color\":\"#E5ECF6\",\"width\":0.5},\"pattern\":{\"fillmode\":\"overlay\",\"size\":10,\"solidity\":0.2}},\"type\":\"barpolar\"}],\"pie\":[{\"automargin\":true,\"type\":\"pie\"}]},\"layout\":{\"autotypenumbers\":\"strict\",\"colorway\":[\"#636efa\",\"#EF553B\",\"#00cc96\",\"#ab63fa\",\"#FFA15A\",\"#19d3f3\",\"#FF6692\",\"#B6E880\",\"#FF97FF\",\"#FECB52\"],\"font\":{\"color\":\"#2a3f5f\"},\"hovermode\":\"closest\",\"hoverlabel\":{\"align\":\"left\"},\"paper_bgcolor\":\"white\",\"plot_bgcolor\":\"#E5ECF6\",\"polar\":{\"bgcolor\":\"#E5ECF6\",\"angularaxis\":{\"gridcolor\":\"white\",\"linecolor\":\"white\",\"ticks\":\"\"},\"radialaxis\":{\"gridcolor\":\"white\",\"linecolor\":\"white\",\"ticks\":\"\"}},\"ternary\":{\"bgcolor\":\"#E5ECF6\",\"aaxis\":{\"gridcolor\":\"white\",\"linecolor\":\"white\",\"ticks\":\"\"},\"baxis\":{\"gridcolor\":\"white\",\"linecolor\":\"white\",\"ticks\":\"\"},\"caxis\":{\"gridcolor\":\"white\",\"linecolor\":\"white\",\"ticks\":\"\"}},\"coloraxis\":{\"colorbar\":{\"outlinewidth\":0,\"ticks\":\"\"}},\"colorscale\":{\"sequential\":[[0.0,\"#0d0887\"],[0.1111111111111111,\"#46039f\"],[0.2222222222222222,\"#7201a8\"],[0.3333333333333333,\"#9c179e\"],[0.4444444444444444,\"#bd3786\"],[0.5555555555555556,\"#d8576b\"],[0.6666666666666666,\"#ed7953\"],[0.7777777777777778,\"#fb9f3a\"],[0.8888888888888888,\"#fdca26\"],[1.0,\"#f0f921\"]],\"sequentialminus\":[[0.0,\"#0d0887\"],[0.1111111111111111,\"#46039f\"],[0.2222222222222222,\"#7201a8\"],[0.3333333333333333,\"#9c179e\"],[0.4444444444444444,\"#bd3786\"],[0.5555555555555556,\"#d8576b\"],[0.6666666666666666,\"#ed7953\"],[0.7777777777777778,\"#fb9f3a\"],[0.8888888888888888,\"#fdca26\"],[1.0,\"#f0f921\"]],\"diverging\":[[0,\"#8e0152\"],[0.1,\"#c51b7d\"],[0.2,\"#de77ae\"],[0.3,\"#f1b6da\"],[0.4,\"#fde0ef\"],[0.5,\"#f7f7f7\"],[0.6,\"#e6f5d0\"],[0.7,\"#b8e186\"],[0.8,\"#7fbc41\"],[0.9,\"#4d9221\"],[1,\"#276419\"]]},\"xaxis\":{\"gridcolor\":\"white\",\"linecolor\":\"white\",\"ticks\":\"\",\"title\":{\"standoff\":15},\"zerolinecolor\":\"white\",\"automargin\":true,\"zerolinewidth\":2},\"yaxis\":{\"gridcolor\":\"white\",\"linecolor\":\"white\",\"ticks\":\"\",\"title\":{\"standoff\":15},\"zerolinecolor\":\"white\",\"automargin\":true,\"zerolinewidth\":2},\"scene\":{\"xaxis\":{\"backgroundcolor\":\"#E5ECF6\",\"gridcolor\":\"white\",\"linecolor\":\"white\",\"showbackground\":true,\"ticks\":\"\",\"zerolinecolor\":\"white\",\"gridwidth\":2},\"yaxis\":{\"backgroundcolor\":\"#E5ECF6\",\"gridcolor\":\"white\",\"linecolor\":\"white\",\"showbackground\":true,\"ticks\":\"\",\"zerolinecolor\":\"white\",\"gridwidth\":2},\"zaxis\":{\"backgroundcolor\":\"#E5ECF6\",\"gridcolor\":\"white\",\"linecolor\":\"white\",\"showbackground\":true,\"ticks\":\"\",\"zerolinecolor\":\"white\",\"gridwidth\":2}},\"shapedefaults\":{\"line\":{\"color\":\"#2a3f5f\"}},\"annotationdefaults\":{\"arrowcolor\":\"#2a3f5f\",\"arrowhead\":0,\"arrowwidth\":1},\"geo\":{\"bgcolor\":\"white\",\"landcolor\":\"#E5ECF6\",\"subunitcolor\":\"white\",\"showland\":true,\"showlakes\":true,\"lakecolor\":\"white\"},\"title\":{\"x\":0.05},\"mapbox\":{\"style\":\"light\"}}},\"xaxis\":{\"anchor\":\"y\",\"domain\":[0.0,0.15],\"title\":{\"text\":\"\\ubc94\\uc8c4\\ub300\\ubd84\\ub958\"}},\"yaxis\":{\"anchor\":\"x\",\"domain\":[0.0,1.0],\"title\":{\"text\":\"\\uc11c\\uc6b8\"}},\"xaxis2\":{\"anchor\":\"y2\",\"domain\":[0.16999999999999998,0.31999999999999995],\"matches\":\"x\",\"title\":{\"text\":\"\\ubc94\\uc8c4\\ub300\\ubd84\\ub958\"}},\"yaxis2\":{\"anchor\":\"x2\",\"domain\":[0.0,1.0],\"matches\":\"y\",\"showticklabels\":false},\"xaxis3\":{\"anchor\":\"y3\",\"domain\":[0.33999999999999997,0.49],\"matches\":\"x\",\"title\":{\"text\":\"\\ubc94\\uc8c4\\ub300\\ubd84\\ub958\"}},\"yaxis3\":{\"anchor\":\"x3\",\"domain\":[0.0,1.0],\"matches\":\"y\",\"showticklabels\":false},\"xaxis4\":{\"anchor\":\"y4\",\"domain\":[0.51,0.66],\"matches\":\"x\",\"title\":{\"text\":\"\\ubc94\\uc8c4\\ub300\\ubd84\\ub958\"}},\"yaxis4\":{\"anchor\":\"x4\",\"domain\":[0.0,1.0],\"matches\":\"y\",\"showticklabels\":false},\"xaxis5\":{\"anchor\":\"y5\",\"domain\":[0.6799999999999999,0.83],\"matches\":\"x\",\"title\":{\"text\":\"\\ubc94\\uc8c4\\ub300\\ubd84\\ub958\"}},\"yaxis5\":{\"anchor\":\"x5\",\"domain\":[0.0,1.0],\"matches\":\"y\",\"showticklabels\":false},\"xaxis6\":{\"anchor\":\"y6\",\"domain\":[0.85,1.0],\"matches\":\"x\",\"title\":{\"text\":\"\\ubc94\\uc8c4\\ub300\\ubd84\\ub958\"}},\"yaxis6\":{\"anchor\":\"x6\",\"domain\":[0.0,1.0],\"matches\":\"y\",\"showticklabels\":false},\"annotations\":[{\"font\":{},\"showarrow\":false,\"text\":\"Year=18\",\"x\":0.075,\"xanchor\":\"center\",\"xref\":\"paper\",\"y\":1.0,\"yanchor\":\"bottom\",\"yref\":\"paper\"},{\"font\":{},\"showarrow\":false,\"text\":\"Year=19\",\"x\":0.24499999999999997,\"xanchor\":\"center\",\"xref\":\"paper\",\"y\":1.0,\"yanchor\":\"bottom\",\"yref\":\"paper\"},{\"font\":{},\"showarrow\":false,\"text\":\"Year=20\",\"x\":0.415,\"xanchor\":\"center\",\"xref\":\"paper\",\"y\":1.0,\"yanchor\":\"bottom\",\"yref\":\"paper\"},{\"font\":{},\"showarrow\":false,\"text\":\"Year=21\",\"x\":0.585,\"xanchor\":\"center\",\"xref\":\"paper\",\"y\":1.0,\"yanchor\":\"bottom\",\"yref\":\"paper\"},{\"font\":{},\"showarrow\":false,\"text\":\"Year=22\",\"x\":0.7549999999999999,\"xanchor\":\"center\",\"xref\":\"paper\",\"y\":1.0,\"yanchor\":\"bottom\",\"yref\":\"paper\"},{\"font\":{},\"showarrow\":false,\"text\":\"Year=23\",\"x\":0.925,\"xanchor\":\"center\",\"xref\":\"paper\",\"y\":1.0,\"yanchor\":\"bottom\",\"yref\":\"paper\"}],\"legend\":{\"title\":{\"text\":\"\\ubc94\\uc8c4\\uc911\\ubd84\\ub958\"},\"tracegroupgap\":0},\"margin\":{\"t\":60},\"title\":{\"font\":{\"size\":20}},\"height\":600,\"width\":1500},                        {\"responsive\": true}                    ).then(function(){\n",
       "                            \n",
       "var gd = document.getElementById('ad63bfaa-be7a-49ca-b8f9-df62cc73cb76');\n",
       "var x = new MutationObserver(function (mutations, observer) {{\n",
       "        var display = window.getComputedStyle(gd).display;\n",
       "        if (!display || display === 'none') {{\n",
       "            console.log([gd, 'removed!']);\n",
       "            Plotly.purge(gd);\n",
       "            observer.disconnect();\n",
       "        }}\n",
       "}});\n",
       "\n",
       "// Listen for the removal of the full notebook cells\n",
       "var notebookContainer = gd.closest('#notebook-container');\n",
       "if (notebookContainer) {{\n",
       "    x.observe(notebookContainer, {childList: true});\n",
       "}}\n",
       "\n",
       "// Listen for the clearing of the current output cell\n",
       "var outputEl = gd.closest('.output');\n",
       "if (outputEl) {{\n",
       "    x.observe(outputEl, {childList: true});\n",
       "}}\n",
       "\n",
       "                        })                };                });            </script>        </div>"
      ]
     },
     "metadata": {},
     "output_type": "display_data"
    }
   ],
   "source": [
    "fig = px.scatter(\n",
    "    df1,\n",
    "    x=\"범죄대분류\",      # Variable on the x-axis\n",
    "    y=\"서울\",         # Variable for the boxplot values\n",
    "    facet_col=\"Year\",  # Facet by 'Year'\n",
    "    # title=\"Boxplot with Faceting\",\n",
    "    color=\"범죄중분류\",  # Optional: Color by category\n",
    "    # boxmode=\"group\"    # Group boxplots for each category\n",
    ")\n",
    "\n",
    "fig.update_layout(\n",
    "    title_font_size=20,\n",
    "    # xaxis_title=\"Category\",\n",
    "    # yaxis_title=\"Value\",\n",
    "    # legend_title=\"Category\",\n",
    "    height=600,\n",
    "    width=1500,\n",
    ")\n",
    "\n",
    "fig.show()"
   ]
  },
  {
   "cell_type": "code",
   "execution_count": null,
   "id": "16618db0-1c8d-47dc-ada8-bdc296586c18",
   "metadata": {},
   "outputs": [],
   "source": []
  }
 ],
 "metadata": {
  "kernelspec": {
   "display_name": "Python 3",
   "language": "python",
   "name": "python3"
  },
  "language_info": {
   "codemirror_mode": {
    "name": "ipython",
    "version": 3
   },
   "file_extension": ".py",
   "mimetype": "text/x-python",
   "name": "python",
   "nbconvert_exporter": "python",
   "pygments_lexer": "ipython3",
   "version": "3.8.0"
  }
 },
 "nbformat": 4,
 "nbformat_minor": 5
}
